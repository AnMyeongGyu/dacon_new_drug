{
 "cells": [
  {
   "cell_type": "markdown",
   "metadata": {},
   "source": [
    "## data preprocessing"
   ]
  },
  {
   "cell_type": "code",
   "execution_count": 1,
   "metadata": {},
   "outputs": [],
   "source": [
    "# private settings\n",
    "num_of_study = 150\n",
    "target_log_on_off = 'off'\n",
    "cross_val_times = 10"
   ]
  },
  {
   "cell_type": "code",
   "execution_count": 2,
   "metadata": {},
   "outputs": [],
   "source": [
    "import pandas as pd\n",
    "import numpy as np\n",
    "import matplotlib.pyplot as plt\n",
    "import seaborn as sns\n",
    "from tqdm import tqdm\n",
    "\n",
    "import warnings\n",
    "warnings.filterwarnings(\"ignore\")"
   ]
  },
  {
   "cell_type": "code",
   "execution_count": 3,
   "metadata": {},
   "outputs": [
    {
     "data": {
      "text/html": [
       "<div>\n",
       "<style scoped>\n",
       "    .dataframe tbody tr th:only-of-type {\n",
       "        vertical-align: middle;\n",
       "    }\n",
       "\n",
       "    .dataframe tbody tr th {\n",
       "        vertical-align: top;\n",
       "    }\n",
       "\n",
       "    .dataframe thead th {\n",
       "        text-align: right;\n",
       "    }\n",
       "</style>\n",
       "<table border=\"1\" class=\"dataframe\">\n",
       "  <thead>\n",
       "    <tr style=\"text-align: right;\">\n",
       "      <th></th>\n",
       "      <th>id</th>\n",
       "      <th>SMILES</th>\n",
       "      <th>MLM</th>\n",
       "      <th>HLM</th>\n",
       "      <th>AlogP</th>\n",
       "      <th>Molecular_Weight</th>\n",
       "      <th>Num_H_Acceptors</th>\n",
       "      <th>Num_H_Donors</th>\n",
       "      <th>Num_RotatableBonds</th>\n",
       "      <th>LogD</th>\n",
       "      <th>Molecular_PolarSurfaceArea</th>\n",
       "    </tr>\n",
       "  </thead>\n",
       "  <tbody>\n",
       "    <tr>\n",
       "      <th>0</th>\n",
       "      <td>TRAIN_0000</td>\n",
       "      <td>CCOc1ccc(CNC(=O)c2cc(-c3sc(C)nc3C)n[nH]2)cc1OCC</td>\n",
       "      <td>26.010</td>\n",
       "      <td>50.680</td>\n",
       "      <td>3.259</td>\n",
       "      <td>400.495</td>\n",
       "      <td>5</td>\n",
       "      <td>2</td>\n",
       "      <td>8</td>\n",
       "      <td>3.259</td>\n",
       "      <td>117.37</td>\n",
       "    </tr>\n",
       "    <tr>\n",
       "      <th>1</th>\n",
       "      <td>TRAIN_0001</td>\n",
       "      <td>Cc1nc(C)c(CN2CC(C)C(=O)Nc3ccccc32)s1</td>\n",
       "      <td>29.270</td>\n",
       "      <td>50.590</td>\n",
       "      <td>2.169</td>\n",
       "      <td>301.407</td>\n",
       "      <td>2</td>\n",
       "      <td>1</td>\n",
       "      <td>2</td>\n",
       "      <td>2.172</td>\n",
       "      <td>73.47</td>\n",
       "    </tr>\n",
       "    <tr>\n",
       "      <th>2</th>\n",
       "      <td>TRAIN_0002</td>\n",
       "      <td>CCCN1CCN(c2nn3nnnc3c3ccccc23)CC1</td>\n",
       "      <td>5.586</td>\n",
       "      <td>80.892</td>\n",
       "      <td>1.593</td>\n",
       "      <td>297.358</td>\n",
       "      <td>5</td>\n",
       "      <td>0</td>\n",
       "      <td>3</td>\n",
       "      <td>1.585</td>\n",
       "      <td>62.45</td>\n",
       "    </tr>\n",
       "    <tr>\n",
       "      <th>3</th>\n",
       "      <td>TRAIN_0003</td>\n",
       "      <td>Cc1ccc(-c2ccc(-n3nc(C)c(S(=O)(=O)N4CCN(C5CCCCC...</td>\n",
       "      <td>5.710</td>\n",
       "      <td>2.000</td>\n",
       "      <td>4.771</td>\n",
       "      <td>494.652</td>\n",
       "      <td>6</td>\n",
       "      <td>0</td>\n",
       "      <td>5</td>\n",
       "      <td>3.475</td>\n",
       "      <td>92.60</td>\n",
       "    </tr>\n",
       "    <tr>\n",
       "      <th>4</th>\n",
       "      <td>TRAIN_0004</td>\n",
       "      <td>Cc1ccc2c(c1)N(C(=O)c1ccncc1)CC(C)O2</td>\n",
       "      <td>93.270</td>\n",
       "      <td>99.990</td>\n",
       "      <td>2.335</td>\n",
       "      <td>268.310</td>\n",
       "      <td>3</td>\n",
       "      <td>0</td>\n",
       "      <td>1</td>\n",
       "      <td>2.337</td>\n",
       "      <td>42.43</td>\n",
       "    </tr>\n",
       "    <tr>\n",
       "      <th>...</th>\n",
       "      <td>...</td>\n",
       "      <td>...</td>\n",
       "      <td>...</td>\n",
       "      <td>...</td>\n",
       "      <td>...</td>\n",
       "      <td>...</td>\n",
       "      <td>...</td>\n",
       "      <td>...</td>\n",
       "      <td>...</td>\n",
       "      <td>...</td>\n",
       "      <td>...</td>\n",
       "    </tr>\n",
       "    <tr>\n",
       "      <th>3493</th>\n",
       "      <td>TRAIN_3493</td>\n",
       "      <td>Cn1nc(CNC(=O)Cn2nc(C(F)(F)F)c3c2CCC3)c(Cl)c1Cl</td>\n",
       "      <td>1.556</td>\n",
       "      <td>3.079</td>\n",
       "      <td>3.409</td>\n",
       "      <td>396.195</td>\n",
       "      <td>3</td>\n",
       "      <td>1</td>\n",
       "      <td>5</td>\n",
       "      <td>3.409</td>\n",
       "      <td>64.74</td>\n",
       "    </tr>\n",
       "    <tr>\n",
       "      <th>3494</th>\n",
       "      <td>TRAIN_3494</td>\n",
       "      <td>CCn1[nH]cc/c1=N\\C(=O)c1nn(-c2ccccc2)c(=O)c2ccc...</td>\n",
       "      <td>35.560</td>\n",
       "      <td>47.630</td>\n",
       "      <td>1.912</td>\n",
       "      <td>359.381</td>\n",
       "      <td>4</td>\n",
       "      <td>1</td>\n",
       "      <td>3</td>\n",
       "      <td>1.844</td>\n",
       "      <td>77.37</td>\n",
       "    </tr>\n",
       "    <tr>\n",
       "      <th>3495</th>\n",
       "      <td>TRAIN_3495</td>\n",
       "      <td>CCOC(=O)CCCc1nc2cc(N)ccc2n1C</td>\n",
       "      <td>56.150</td>\n",
       "      <td>1.790</td>\n",
       "      <td>1.941</td>\n",
       "      <td>261.320</td>\n",
       "      <td>3</td>\n",
       "      <td>1</td>\n",
       "      <td>6</td>\n",
       "      <td>2.124</td>\n",
       "      <td>70.14</td>\n",
       "    </tr>\n",
       "    <tr>\n",
       "      <th>3496</th>\n",
       "      <td>TRAIN_3496</td>\n",
       "      <td>Nc1cc(C(=O)OCCC2CCOC2=O)cnc1Cl</td>\n",
       "      <td>0.030</td>\n",
       "      <td>2.770</td>\n",
       "      <td>0.989</td>\n",
       "      <td>284.696</td>\n",
       "      <td>5</td>\n",
       "      <td>1</td>\n",
       "      <td>5</td>\n",
       "      <td>0.989</td>\n",
       "      <td>91.51</td>\n",
       "    </tr>\n",
       "    <tr>\n",
       "      <th>3497</th>\n",
       "      <td>TRAIN_3497</td>\n",
       "      <td>COc1ccc(-c2nc(Cc3ccccc3)sc2C)cc1</td>\n",
       "      <td>0.450</td>\n",
       "      <td>2.650</td>\n",
       "      <td>4.321</td>\n",
       "      <td>295.399</td>\n",
       "      <td>2</td>\n",
       "      <td>0</td>\n",
       "      <td>4</td>\n",
       "      <td>4.321</td>\n",
       "      <td>50.36</td>\n",
       "    </tr>\n",
       "  </tbody>\n",
       "</table>\n",
       "<p>3498 rows × 11 columns</p>\n",
       "</div>"
      ],
      "text/plain": [
       "              id                                             SMILES     MLM  \\\n",
       "0     TRAIN_0000    CCOc1ccc(CNC(=O)c2cc(-c3sc(C)nc3C)n[nH]2)cc1OCC  26.010   \n",
       "1     TRAIN_0001               Cc1nc(C)c(CN2CC(C)C(=O)Nc3ccccc32)s1  29.270   \n",
       "2     TRAIN_0002                   CCCN1CCN(c2nn3nnnc3c3ccccc23)CC1   5.586   \n",
       "3     TRAIN_0003  Cc1ccc(-c2ccc(-n3nc(C)c(S(=O)(=O)N4CCN(C5CCCCC...   5.710   \n",
       "4     TRAIN_0004                Cc1ccc2c(c1)N(C(=O)c1ccncc1)CC(C)O2  93.270   \n",
       "...          ...                                                ...     ...   \n",
       "3493  TRAIN_3493     Cn1nc(CNC(=O)Cn2nc(C(F)(F)F)c3c2CCC3)c(Cl)c1Cl   1.556   \n",
       "3494  TRAIN_3494  CCn1[nH]cc/c1=N\\C(=O)c1nn(-c2ccccc2)c(=O)c2ccc...  35.560   \n",
       "3495  TRAIN_3495                       CCOC(=O)CCCc1nc2cc(N)ccc2n1C  56.150   \n",
       "3496  TRAIN_3496                     Nc1cc(C(=O)OCCC2CCOC2=O)cnc1Cl   0.030   \n",
       "3497  TRAIN_3497                   COc1ccc(-c2nc(Cc3ccccc3)sc2C)cc1   0.450   \n",
       "\n",
       "         HLM  AlogP  Molecular_Weight  Num_H_Acceptors  Num_H_Donors  \\\n",
       "0     50.680  3.259           400.495                5             2   \n",
       "1     50.590  2.169           301.407                2             1   \n",
       "2     80.892  1.593           297.358                5             0   \n",
       "3      2.000  4.771           494.652                6             0   \n",
       "4     99.990  2.335           268.310                3             0   \n",
       "...      ...    ...               ...              ...           ...   \n",
       "3493   3.079  3.409           396.195                3             1   \n",
       "3494  47.630  1.912           359.381                4             1   \n",
       "3495   1.790  1.941           261.320                3             1   \n",
       "3496   2.770  0.989           284.696                5             1   \n",
       "3497   2.650  4.321           295.399                2             0   \n",
       "\n",
       "      Num_RotatableBonds   LogD  Molecular_PolarSurfaceArea  \n",
       "0                      8  3.259                      117.37  \n",
       "1                      2  2.172                       73.47  \n",
       "2                      3  1.585                       62.45  \n",
       "3                      5  3.475                       92.60  \n",
       "4                      1  2.337                       42.43  \n",
       "...                  ...    ...                         ...  \n",
       "3493                   5  3.409                       64.74  \n",
       "3494                   3  1.844                       77.37  \n",
       "3495                   6  2.124                       70.14  \n",
       "3496                   5  0.989                       91.51  \n",
       "3497                   4  4.321                       50.36  \n",
       "\n",
       "[3498 rows x 11 columns]"
      ]
     },
     "execution_count": 3,
     "metadata": {},
     "output_type": "execute_result"
    }
   ],
   "source": [
    "df_train = pd.read_csv('./data/train.csv')\n",
    "df_train"
   ]
  },
  {
   "cell_type": "code",
   "execution_count": 4,
   "metadata": {},
   "outputs": [
    {
     "data": {
      "text/html": [
       "<div>\n",
       "<style scoped>\n",
       "    .dataframe tbody tr th:only-of-type {\n",
       "        vertical-align: middle;\n",
       "    }\n",
       "\n",
       "    .dataframe tbody tr th {\n",
       "        vertical-align: top;\n",
       "    }\n",
       "\n",
       "    .dataframe thead th {\n",
       "        text-align: right;\n",
       "    }\n",
       "</style>\n",
       "<table border=\"1\" class=\"dataframe\">\n",
       "  <thead>\n",
       "    <tr style=\"text-align: right;\">\n",
       "      <th></th>\n",
       "      <th>id</th>\n",
       "      <th>SMILES</th>\n",
       "      <th>AlogP</th>\n",
       "      <th>Molecular_Weight</th>\n",
       "      <th>Num_H_Acceptors</th>\n",
       "      <th>Num_H_Donors</th>\n",
       "      <th>Num_RotatableBonds</th>\n",
       "      <th>LogD</th>\n",
       "      <th>Molecular_PolarSurfaceArea</th>\n",
       "    </tr>\n",
       "  </thead>\n",
       "  <tbody>\n",
       "    <tr>\n",
       "      <th>0</th>\n",
       "      <td>TEST_000</td>\n",
       "      <td>CC(C)Nc1ccnc(N2CCN(Cc3cccs3)C(CCO)C2)n1</td>\n",
       "      <td>2.641</td>\n",
       "      <td>361.505</td>\n",
       "      <td>4</td>\n",
       "      <td>2</td>\n",
       "      <td>7</td>\n",
       "      <td>2.635</td>\n",
       "      <td>92.76</td>\n",
       "    </tr>\n",
       "    <tr>\n",
       "      <th>1</th>\n",
       "      <td>TEST_001</td>\n",
       "      <td>COc1cc(=O)n(-c2ccccc2)cc1C(=O)N1CCC2(CC1)OCCO2</td>\n",
       "      <td>0.585</td>\n",
       "      <td>370.399</td>\n",
       "      <td>5</td>\n",
       "      <td>0</td>\n",
       "      <td>3</td>\n",
       "      <td>0.585</td>\n",
       "      <td>68.31</td>\n",
       "    </tr>\n",
       "    <tr>\n",
       "      <th>2</th>\n",
       "      <td>TEST_002</td>\n",
       "      <td>Cc1cccc(NC(=N)/N=c2\\nc(O)c(Cc3ccccc3)c(C)[nH]2)c1</td>\n",
       "      <td>4.276</td>\n",
       "      <td>347.414</td>\n",
       "      <td>4</td>\n",
       "      <td>4</td>\n",
       "      <td>5</td>\n",
       "      <td>4.290</td>\n",
       "      <td>92.86</td>\n",
       "    </tr>\n",
       "    <tr>\n",
       "      <th>3</th>\n",
       "      <td>TEST_003</td>\n",
       "      <td>O=C(c1nc2ncccn2n1)N1CCCn2cc(-c3ccccc3)nc21</td>\n",
       "      <td>1.795</td>\n",
       "      <td>345.358</td>\n",
       "      <td>5</td>\n",
       "      <td>0</td>\n",
       "      <td>2</td>\n",
       "      <td>1.795</td>\n",
       "      <td>81.21</td>\n",
       "    </tr>\n",
       "    <tr>\n",
       "      <th>4</th>\n",
       "      <td>TEST_004</td>\n",
       "      <td>CCN1CCN(C(=O)c2cc3c(=O)n4cc(C)ccc4nc3n2C)CC1</td>\n",
       "      <td>1.219</td>\n",
       "      <td>353.418</td>\n",
       "      <td>4</td>\n",
       "      <td>0</td>\n",
       "      <td>2</td>\n",
       "      <td>0.169</td>\n",
       "      <td>61.15</td>\n",
       "    </tr>\n",
       "    <tr>\n",
       "      <th>...</th>\n",
       "      <td>...</td>\n",
       "      <td>...</td>\n",
       "      <td>...</td>\n",
       "      <td>...</td>\n",
       "      <td>...</td>\n",
       "      <td>...</td>\n",
       "      <td>...</td>\n",
       "      <td>...</td>\n",
       "      <td>...</td>\n",
       "    </tr>\n",
       "    <tr>\n",
       "      <th>478</th>\n",
       "      <td>TEST_478</td>\n",
       "      <td>CCc1noc(CC)c1CC(=O)NCC1(CC)CCCCC1</td>\n",
       "      <td>4.207</td>\n",
       "      <td>306.443</td>\n",
       "      <td>2</td>\n",
       "      <td>1</td>\n",
       "      <td>7</td>\n",
       "      <td>4.207</td>\n",
       "      <td>55.13</td>\n",
       "    </tr>\n",
       "    <tr>\n",
       "      <th>479</th>\n",
       "      <td>TEST_479</td>\n",
       "      <td>CC(=O)N1CCC2(CC1)OC(=O)C(C)=C2C(=O)N1CCN(C)CC1</td>\n",
       "      <td>-0.608</td>\n",
       "      <td>335.398</td>\n",
       "      <td>5</td>\n",
       "      <td>0</td>\n",
       "      <td>1</td>\n",
       "      <td>-1.736</td>\n",
       "      <td>70.16</td>\n",
       "    </tr>\n",
       "    <tr>\n",
       "      <th>480</th>\n",
       "      <td>TEST_480</td>\n",
       "      <td>CC(C)NC(=O)CN1C(=O)c2ccccc2N2C(=O)c3ccccc3C12</td>\n",
       "      <td>1.792</td>\n",
       "      <td>349.383</td>\n",
       "      <td>3</td>\n",
       "      <td>1</td>\n",
       "      <td>3</td>\n",
       "      <td>1.792</td>\n",
       "      <td>69.72</td>\n",
       "    </tr>\n",
       "    <tr>\n",
       "      <th>481</th>\n",
       "      <td>TEST_481</td>\n",
       "      <td>Cn1cc(Br)c(=O)c(NC(=O)c2ccc(O)cc2F)c1</td>\n",
       "      <td>0.790</td>\n",
       "      <td>341.132</td>\n",
       "      <td>3</td>\n",
       "      <td>2</td>\n",
       "      <td>2</td>\n",
       "      <td>0.423</td>\n",
       "      <td>69.64</td>\n",
       "    </tr>\n",
       "    <tr>\n",
       "      <th>482</th>\n",
       "      <td>TEST_482</td>\n",
       "      <td>CC(C)C(CCN1CCN(C)CC1)c1ccco1</td>\n",
       "      <td>2.782</td>\n",
       "      <td>250.380</td>\n",
       "      <td>2</td>\n",
       "      <td>0</td>\n",
       "      <td>5</td>\n",
       "      <td>0.606</td>\n",
       "      <td>19.62</td>\n",
       "    </tr>\n",
       "  </tbody>\n",
       "</table>\n",
       "<p>483 rows × 9 columns</p>\n",
       "</div>"
      ],
      "text/plain": [
       "           id                                             SMILES  AlogP  \\\n",
       "0    TEST_000            CC(C)Nc1ccnc(N2CCN(Cc3cccs3)C(CCO)C2)n1  2.641   \n",
       "1    TEST_001     COc1cc(=O)n(-c2ccccc2)cc1C(=O)N1CCC2(CC1)OCCO2  0.585   \n",
       "2    TEST_002  Cc1cccc(NC(=N)/N=c2\\nc(O)c(Cc3ccccc3)c(C)[nH]2)c1  4.276   \n",
       "3    TEST_003         O=C(c1nc2ncccn2n1)N1CCCn2cc(-c3ccccc3)nc21  1.795   \n",
       "4    TEST_004       CCN1CCN(C(=O)c2cc3c(=O)n4cc(C)ccc4nc3n2C)CC1  1.219   \n",
       "..        ...                                                ...    ...   \n",
       "478  TEST_478                  CCc1noc(CC)c1CC(=O)NCC1(CC)CCCCC1  4.207   \n",
       "479  TEST_479     CC(=O)N1CCC2(CC1)OC(=O)C(C)=C2C(=O)N1CCN(C)CC1 -0.608   \n",
       "480  TEST_480      CC(C)NC(=O)CN1C(=O)c2ccccc2N2C(=O)c3ccccc3C12  1.792   \n",
       "481  TEST_481              Cn1cc(Br)c(=O)c(NC(=O)c2ccc(O)cc2F)c1  0.790   \n",
       "482  TEST_482                       CC(C)C(CCN1CCN(C)CC1)c1ccco1  2.782   \n",
       "\n",
       "     Molecular_Weight  Num_H_Acceptors  Num_H_Donors  Num_RotatableBonds  \\\n",
       "0             361.505                4             2                   7   \n",
       "1             370.399                5             0                   3   \n",
       "2             347.414                4             4                   5   \n",
       "3             345.358                5             0                   2   \n",
       "4             353.418                4             0                   2   \n",
       "..                ...              ...           ...                 ...   \n",
       "478           306.443                2             1                   7   \n",
       "479           335.398                5             0                   1   \n",
       "480           349.383                3             1                   3   \n",
       "481           341.132                3             2                   2   \n",
       "482           250.380                2             0                   5   \n",
       "\n",
       "      LogD  Molecular_PolarSurfaceArea  \n",
       "0    2.635                       92.76  \n",
       "1    0.585                       68.31  \n",
       "2    4.290                       92.86  \n",
       "3    1.795                       81.21  \n",
       "4    0.169                       61.15  \n",
       "..     ...                         ...  \n",
       "478  4.207                       55.13  \n",
       "479 -1.736                       70.16  \n",
       "480  1.792                       69.72  \n",
       "481  0.423                       69.64  \n",
       "482  0.606                       19.62  \n",
       "\n",
       "[483 rows x 9 columns]"
      ]
     },
     "execution_count": 4,
     "metadata": {},
     "output_type": "execute_result"
    }
   ],
   "source": [
    "df_test = pd.read_csv('./data/test.csv')\n",
    "df_test"
   ]
  },
  {
   "cell_type": "code",
   "execution_count": 5,
   "metadata": {},
   "outputs": [
    {
     "data": {
      "text/html": [
       "<div>\n",
       "<style scoped>\n",
       "    .dataframe tbody tr th:only-of-type {\n",
       "        vertical-align: middle;\n",
       "    }\n",
       "\n",
       "    .dataframe tbody tr th {\n",
       "        vertical-align: top;\n",
       "    }\n",
       "\n",
       "    .dataframe thead th {\n",
       "        text-align: right;\n",
       "    }\n",
       "</style>\n",
       "<table border=\"1\" class=\"dataframe\">\n",
       "  <thead>\n",
       "    <tr style=\"text-align: right;\">\n",
       "      <th></th>\n",
       "      <th>id</th>\n",
       "      <th>MLM</th>\n",
       "      <th>HLM</th>\n",
       "    </tr>\n",
       "  </thead>\n",
       "  <tbody>\n",
       "    <tr>\n",
       "      <th>0</th>\n",
       "      <td>TEST_000</td>\n",
       "      <td>0</td>\n",
       "      <td>0</td>\n",
       "    </tr>\n",
       "    <tr>\n",
       "      <th>1</th>\n",
       "      <td>TEST_001</td>\n",
       "      <td>0</td>\n",
       "      <td>0</td>\n",
       "    </tr>\n",
       "    <tr>\n",
       "      <th>2</th>\n",
       "      <td>TEST_002</td>\n",
       "      <td>0</td>\n",
       "      <td>0</td>\n",
       "    </tr>\n",
       "    <tr>\n",
       "      <th>3</th>\n",
       "      <td>TEST_003</td>\n",
       "      <td>0</td>\n",
       "      <td>0</td>\n",
       "    </tr>\n",
       "    <tr>\n",
       "      <th>4</th>\n",
       "      <td>TEST_004</td>\n",
       "      <td>0</td>\n",
       "      <td>0</td>\n",
       "    </tr>\n",
       "    <tr>\n",
       "      <th>...</th>\n",
       "      <td>...</td>\n",
       "      <td>...</td>\n",
       "      <td>...</td>\n",
       "    </tr>\n",
       "    <tr>\n",
       "      <th>478</th>\n",
       "      <td>TEST_478</td>\n",
       "      <td>0</td>\n",
       "      <td>0</td>\n",
       "    </tr>\n",
       "    <tr>\n",
       "      <th>479</th>\n",
       "      <td>TEST_479</td>\n",
       "      <td>0</td>\n",
       "      <td>0</td>\n",
       "    </tr>\n",
       "    <tr>\n",
       "      <th>480</th>\n",
       "      <td>TEST_480</td>\n",
       "      <td>0</td>\n",
       "      <td>0</td>\n",
       "    </tr>\n",
       "    <tr>\n",
       "      <th>481</th>\n",
       "      <td>TEST_481</td>\n",
       "      <td>0</td>\n",
       "      <td>0</td>\n",
       "    </tr>\n",
       "    <tr>\n",
       "      <th>482</th>\n",
       "      <td>TEST_482</td>\n",
       "      <td>0</td>\n",
       "      <td>0</td>\n",
       "    </tr>\n",
       "  </tbody>\n",
       "</table>\n",
       "<p>483 rows × 3 columns</p>\n",
       "</div>"
      ],
      "text/plain": [
       "           id  MLM  HLM\n",
       "0    TEST_000    0    0\n",
       "1    TEST_001    0    0\n",
       "2    TEST_002    0    0\n",
       "3    TEST_003    0    0\n",
       "4    TEST_004    0    0\n",
       "..        ...  ...  ...\n",
       "478  TEST_478    0    0\n",
       "479  TEST_479    0    0\n",
       "480  TEST_480    0    0\n",
       "481  TEST_481    0    0\n",
       "482  TEST_482    0    0\n",
       "\n",
       "[483 rows x 3 columns]"
      ]
     },
     "execution_count": 5,
     "metadata": {},
     "output_type": "execute_result"
    }
   ],
   "source": [
    "df_sample = pd.read_csv('./data/sample_submission.csv')\n",
    "df_sample"
   ]
  },
  {
   "cell_type": "code",
   "execution_count": 6,
   "metadata": {},
   "outputs": [
    {
     "name": "stdout",
     "output_type": "stream",
     "text": [
      "train size : (3498, 10)\n"
     ]
    },
    {
     "data": {
      "text/html": [
       "<div>\n",
       "<style scoped>\n",
       "    .dataframe tbody tr th:only-of-type {\n",
       "        vertical-align: middle;\n",
       "    }\n",
       "\n",
       "    .dataframe tbody tr th {\n",
       "        vertical-align: top;\n",
       "    }\n",
       "\n",
       "    .dataframe thead th {\n",
       "        text-align: right;\n",
       "    }\n",
       "</style>\n",
       "<table border=\"1\" class=\"dataframe\">\n",
       "  <thead>\n",
       "    <tr style=\"text-align: right;\">\n",
       "      <th></th>\n",
       "      <th>MLM</th>\n",
       "      <th>HLM</th>\n",
       "      <th>SMILES</th>\n",
       "      <th>AlogP</th>\n",
       "      <th>Molecular_Weight</th>\n",
       "      <th>Num_H_Acceptors</th>\n",
       "      <th>Num_H_Donors</th>\n",
       "      <th>Num_RotatableBonds</th>\n",
       "      <th>LogD</th>\n",
       "      <th>Molecular_PolarSurfaceArea</th>\n",
       "    </tr>\n",
       "  </thead>\n",
       "  <tbody>\n",
       "    <tr>\n",
       "      <th>0</th>\n",
       "      <td>26.010</td>\n",
       "      <td>50.680</td>\n",
       "      <td>CCOc1ccc(CNC(=O)c2cc(-c3sc(C)nc3C)n[nH]2)cc1OCC</td>\n",
       "      <td>3.259</td>\n",
       "      <td>400.495</td>\n",
       "      <td>5</td>\n",
       "      <td>2</td>\n",
       "      <td>8</td>\n",
       "      <td>3.259</td>\n",
       "      <td>117.37</td>\n",
       "    </tr>\n",
       "    <tr>\n",
       "      <th>1</th>\n",
       "      <td>29.270</td>\n",
       "      <td>50.590</td>\n",
       "      <td>Cc1nc(C)c(CN2CC(C)C(=O)Nc3ccccc32)s1</td>\n",
       "      <td>2.169</td>\n",
       "      <td>301.407</td>\n",
       "      <td>2</td>\n",
       "      <td>1</td>\n",
       "      <td>2</td>\n",
       "      <td>2.172</td>\n",
       "      <td>73.47</td>\n",
       "    </tr>\n",
       "    <tr>\n",
       "      <th>2</th>\n",
       "      <td>5.586</td>\n",
       "      <td>80.892</td>\n",
       "      <td>CCCN1CCN(c2nn3nnnc3c3ccccc23)CC1</td>\n",
       "      <td>1.593</td>\n",
       "      <td>297.358</td>\n",
       "      <td>5</td>\n",
       "      <td>0</td>\n",
       "      <td>3</td>\n",
       "      <td>1.585</td>\n",
       "      <td>62.45</td>\n",
       "    </tr>\n",
       "    <tr>\n",
       "      <th>3</th>\n",
       "      <td>5.710</td>\n",
       "      <td>2.000</td>\n",
       "      <td>Cc1ccc(-c2ccc(-n3nc(C)c(S(=O)(=O)N4CCN(C5CCCCC...</td>\n",
       "      <td>4.771</td>\n",
       "      <td>494.652</td>\n",
       "      <td>6</td>\n",
       "      <td>0</td>\n",
       "      <td>5</td>\n",
       "      <td>3.475</td>\n",
       "      <td>92.60</td>\n",
       "    </tr>\n",
       "    <tr>\n",
       "      <th>4</th>\n",
       "      <td>93.270</td>\n",
       "      <td>99.990</td>\n",
       "      <td>Cc1ccc2c(c1)N(C(=O)c1ccncc1)CC(C)O2</td>\n",
       "      <td>2.335</td>\n",
       "      <td>268.310</td>\n",
       "      <td>3</td>\n",
       "      <td>0</td>\n",
       "      <td>1</td>\n",
       "      <td>2.337</td>\n",
       "      <td>42.43</td>\n",
       "    </tr>\n",
       "  </tbody>\n",
       "</table>\n",
       "</div>"
      ],
      "text/plain": [
       "      MLM     HLM                                             SMILES  AlogP  \\\n",
       "0  26.010  50.680    CCOc1ccc(CNC(=O)c2cc(-c3sc(C)nc3C)n[nH]2)cc1OCC  3.259   \n",
       "1  29.270  50.590               Cc1nc(C)c(CN2CC(C)C(=O)Nc3ccccc32)s1  2.169   \n",
       "2   5.586  80.892                   CCCN1CCN(c2nn3nnnc3c3ccccc23)CC1  1.593   \n",
       "3   5.710   2.000  Cc1ccc(-c2ccc(-n3nc(C)c(S(=O)(=O)N4CCN(C5CCCCC...  4.771   \n",
       "4  93.270  99.990                Cc1ccc2c(c1)N(C(=O)c1ccncc1)CC(C)O2  2.335   \n",
       "\n",
       "   Molecular_Weight  Num_H_Acceptors  Num_H_Donors  Num_RotatableBonds   LogD  \\\n",
       "0           400.495                5             2                   8  3.259   \n",
       "1           301.407                2             1                   2  2.172   \n",
       "2           297.358                5             0                   3  1.585   \n",
       "3           494.652                6             0                   5  3.475   \n",
       "4           268.310                3             0                   1  2.337   \n",
       "\n",
       "   Molecular_PolarSurfaceArea  \n",
       "0                      117.37  \n",
       "1                       73.47  \n",
       "2                       62.45  \n",
       "3                       92.60  \n",
       "4                       42.43  "
      ]
     },
     "execution_count": 6,
     "metadata": {},
     "output_type": "execute_result"
    }
   ],
   "source": [
    "# column 순서 조절 및 'id' drop\n",
    "new_column_order = ['id', 'MLM', 'HLM', 'SMILES', 'AlogP', 'Molecular_Weight',\n",
    "                    'Num_H_Acceptors', 'Num_H_Donors', 'Num_RotatableBonds', 'LogD',\n",
    "                    'Molecular_PolarSurfaceArea']\n",
    "\n",
    "df_train = df_train[new_column_order]\n",
    "df_train = df_train.drop('id', axis=1)\n",
    "df_test = df_test.drop('id', axis=1)\n",
    "\n",
    "print(f'train size : {df_train.shape}')\n",
    "df_train.head()"
   ]
  },
  {
   "cell_type": "code",
   "execution_count": 7,
   "metadata": {},
   "outputs": [
    {
     "data": {
      "text/html": [
       "<div>\n",
       "<style scoped>\n",
       "    .dataframe tbody tr th:only-of-type {\n",
       "        vertical-align: middle;\n",
       "    }\n",
       "\n",
       "    .dataframe tbody tr th {\n",
       "        vertical-align: top;\n",
       "    }\n",
       "\n",
       "    .dataframe thead th {\n",
       "        text-align: right;\n",
       "    }\n",
       "</style>\n",
       "<table border=\"1\" class=\"dataframe\">\n",
       "  <thead>\n",
       "    <tr style=\"text-align: right;\">\n",
       "      <th></th>\n",
       "      <th>MLM</th>\n",
       "      <th>HLM</th>\n",
       "      <th>SMILES</th>\n",
       "      <th>AlogP</th>\n",
       "      <th>Molecular_Weight</th>\n",
       "      <th>Num_H_Acceptors</th>\n",
       "      <th>Num_H_Donors</th>\n",
       "      <th>Num_RotatableBonds</th>\n",
       "      <th>LogD</th>\n",
       "      <th>Molecular_PolarSurfaceArea</th>\n",
       "    </tr>\n",
       "  </thead>\n",
       "  <tbody>\n",
       "    <tr>\n",
       "      <th>0</th>\n",
       "      <td>0.9225</td>\n",
       "      <td>28.0615</td>\n",
       "      <td>C(=C/c1nnn(Cc2ccccc2)n1)\\c1ccccc1</td>\n",
       "      <td>3.556</td>\n",
       "      <td>262.309</td>\n",
       "      <td>3.0</td>\n",
       "      <td>0.0</td>\n",
       "      <td>4.0</td>\n",
       "      <td>3.556</td>\n",
       "      <td>43.60</td>\n",
       "    </tr>\n",
       "    <tr>\n",
       "      <th>1</th>\n",
       "      <td>62.2175</td>\n",
       "      <td>77.9110</td>\n",
       "      <td>CC(=O)Nc1ccc(N2N=C(c3ccc(O)cc3)C(C)CC2=O)cc1</td>\n",
       "      <td>2.172</td>\n",
       "      <td>337.372</td>\n",
       "      <td>4.0</td>\n",
       "      <td>2.0</td>\n",
       "      <td>3.0</td>\n",
       "      <td>2.169</td>\n",
       "      <td>82.00</td>\n",
       "    </tr>\n",
       "    <tr>\n",
       "      <th>2</th>\n",
       "      <td>68.6310</td>\n",
       "      <td>64.6690</td>\n",
       "      <td>CC(=O)Nc1nc2ccc(-c3nn(C(C)C)c4nc(N)ncc34)cc2s1</td>\n",
       "      <td>2.293</td>\n",
       "      <td>367.428</td>\n",
       "      <td>5.0</td>\n",
       "      <td>2.0</td>\n",
       "      <td>3.0</td>\n",
       "      <td>2.307</td>\n",
       "      <td>139.85</td>\n",
       "    </tr>\n",
       "    <tr>\n",
       "      <th>3</th>\n",
       "      <td>32.1435</td>\n",
       "      <td>85.6850</td>\n",
       "      <td>CC(C)(C)OC(=O)N1CCC(c2n[nH]c3nc(S(C)(=O)=O)ncc...</td>\n",
       "      <td>1.684</td>\n",
       "      <td>381.450</td>\n",
       "      <td>7.0</td>\n",
       "      <td>1.0</td>\n",
       "      <td>4.0</td>\n",
       "      <td>1.684</td>\n",
       "      <td>126.52</td>\n",
       "    </tr>\n",
       "    <tr>\n",
       "      <th>4</th>\n",
       "      <td>3.6870</td>\n",
       "      <td>43.3385</td>\n",
       "      <td>CC(C)COc1cc(=O)n2c(c1C(=O)N1CCC(C)CC1)CCCCC2</td>\n",
       "      <td>2.843</td>\n",
       "      <td>360.490</td>\n",
       "      <td>3.0</td>\n",
       "      <td>0.0</td>\n",
       "      <td>4.0</td>\n",
       "      <td>2.843</td>\n",
       "      <td>49.85</td>\n",
       "    </tr>\n",
       "    <tr>\n",
       "      <th>5</th>\n",
       "      <td>62.1085</td>\n",
       "      <td>68.1015</td>\n",
       "      <td>CC(C)NC(=O)c1c(Cl)nn(C)c1NC(=O)c1cc(Br)nn1-c1n...</td>\n",
       "      <td>3.750</td>\n",
       "      <td>501.165</td>\n",
       "      <td>5.0</td>\n",
       "      <td>2.0</td>\n",
       "      <td>5.0</td>\n",
       "      <td>3.750</td>\n",
       "      <td>106.72</td>\n",
       "    </tr>\n",
       "    <tr>\n",
       "      <th>6</th>\n",
       "      <td>43.1700</td>\n",
       "      <td>31.1300</td>\n",
       "      <td>CC1CC(=O)N(c2ccc(-c3cccc(C#N)c3)cc2)N=C1c1ccc(...</td>\n",
       "      <td>4.449</td>\n",
       "      <td>381.427</td>\n",
       "      <td>4.0</td>\n",
       "      <td>1.0</td>\n",
       "      <td>3.0</td>\n",
       "      <td>4.446</td>\n",
       "      <td>76.69</td>\n",
       "    </tr>\n",
       "    <tr>\n",
       "      <th>7</th>\n",
       "      <td>2.3395</td>\n",
       "      <td>36.8145</td>\n",
       "      <td>CCCCC/N=c1\\n(C)c(=O)nc2sccn12</td>\n",
       "      <td>2.484</td>\n",
       "      <td>252.336</td>\n",
       "      <td>4.0</td>\n",
       "      <td>0.0</td>\n",
       "      <td>4.0</td>\n",
       "      <td>2.474</td>\n",
       "      <td>73.56</td>\n",
       "    </tr>\n",
       "    <tr>\n",
       "      <th>8</th>\n",
       "      <td>3.4420</td>\n",
       "      <td>3.6015</td>\n",
       "      <td>CCOC(=O)CC1(NC(=O)N2Cc3c(sc4c3CCCC4)-n3cccc3C2...</td>\n",
       "      <td>6.727</td>\n",
       "      <td>537.736</td>\n",
       "      <td>3.0</td>\n",
       "      <td>1.0</td>\n",
       "      <td>6.0</td>\n",
       "      <td>6.727</td>\n",
       "      <td>120.05</td>\n",
       "    </tr>\n",
       "    <tr>\n",
       "      <th>9</th>\n",
       "      <td>73.5450</td>\n",
       "      <td>1.1345</td>\n",
       "      <td>CCc1nc2cc(Br)c(C(=O)OC)nc2n1CC(=O)c1ccccc1</td>\n",
       "      <td>3.815</td>\n",
       "      <td>402.242</td>\n",
       "      <td>5.0</td>\n",
       "      <td>0.0</td>\n",
       "      <td>6.0</td>\n",
       "      <td>3.819</td>\n",
       "      <td>74.08</td>\n",
       "    </tr>\n",
       "    <tr>\n",
       "      <th>10</th>\n",
       "      <td>41.5740</td>\n",
       "      <td>47.1345</td>\n",
       "      <td>CN(C)c1ccc(C2c3cccn3-c3sc4c(c3CN2C(=O)NCc2cccc...</td>\n",
       "      <td>6.501</td>\n",
       "      <td>496.666</td>\n",
       "      <td>1.0</td>\n",
       "      <td>1.0</td>\n",
       "      <td>4.0</td>\n",
       "      <td>6.501</td>\n",
       "      <td>68.74</td>\n",
       "    </tr>\n",
       "    <tr>\n",
       "      <th>11</th>\n",
       "      <td>52.3650</td>\n",
       "      <td>69.5790</td>\n",
       "      <td>CN(C1CCNCC1)S(=O)(=O)c1ccc(Cl)s1</td>\n",
       "      <td>0.767</td>\n",
       "      <td>294.821</td>\n",
       "      <td>3.0</td>\n",
       "      <td>1.0</td>\n",
       "      <td>3.0</td>\n",
       "      <td>0.388</td>\n",
       "      <td>86.03</td>\n",
       "    </tr>\n",
       "    <tr>\n",
       "      <th>12</th>\n",
       "      <td>10.9270</td>\n",
       "      <td>15.1105</td>\n",
       "      <td>COC(=O)C1(CCCN(C)CCc2ccc(OC)c(OC)c2)CCCc2c1ccc...</td>\n",
       "      <td>5.374</td>\n",
       "      <td>485.612</td>\n",
       "      <td>7.0</td>\n",
       "      <td>0.0</td>\n",
       "      <td>13.0</td>\n",
       "      <td>3.870</td>\n",
       "      <td>66.46</td>\n",
       "    </tr>\n",
       "    <tr>\n",
       "      <th>13</th>\n",
       "      <td>82.1700</td>\n",
       "      <td>95.6250</td>\n",
       "      <td>COCCOc1cc(=O)n2c(c1C(=O)N1CCCC1)CCOCC2</td>\n",
       "      <td>-0.811</td>\n",
       "      <td>336.383</td>\n",
       "      <td>5.0</td>\n",
       "      <td>0.0</td>\n",
       "      <td>5.0</td>\n",
       "      <td>-0.811</td>\n",
       "      <td>68.31</td>\n",
       "    </tr>\n",
       "    <tr>\n",
       "      <th>14</th>\n",
       "      <td>4.1750</td>\n",
       "      <td>34.8750</td>\n",
       "      <td>COc1cc(CN2CCC(NC(=O)c3cc4cc(Br)c5ccccc5c4o3)CC...</td>\n",
       "      <td>4.934</td>\n",
       "      <td>553.444</td>\n",
       "      <td>5.0</td>\n",
       "      <td>1.0</td>\n",
       "      <td>7.0</td>\n",
       "      <td>4.934</td>\n",
       "      <td>73.17</td>\n",
       "    </tr>\n",
       "    <tr>\n",
       "      <th>15</th>\n",
       "      <td>64.1215</td>\n",
       "      <td>18.6150</td>\n",
       "      <td>COc1ccc(C2=NOC(c3ccc(-c4nnn[nH]4)cc3)C2)cc1</td>\n",
       "      <td>2.235</td>\n",
       "      <td>321.333</td>\n",
       "      <td>6.0</td>\n",
       "      <td>1.0</td>\n",
       "      <td>4.0</td>\n",
       "      <td>1.806</td>\n",
       "      <td>85.28</td>\n",
       "    </tr>\n",
       "    <tr>\n",
       "      <th>16</th>\n",
       "      <td>4.1520</td>\n",
       "      <td>5.9740</td>\n",
       "      <td>COc1ccc(C2=NOC(c3ccsc3)C2)cc1</td>\n",
       "      <td>2.868</td>\n",
       "      <td>259.324</td>\n",
       "      <td>3.0</td>\n",
       "      <td>0.0</td>\n",
       "      <td>3.0</td>\n",
       "      <td>2.868</td>\n",
       "      <td>59.06</td>\n",
       "    </tr>\n",
       "    <tr>\n",
       "      <th>17</th>\n",
       "      <td>0.6545</td>\n",
       "      <td>4.1300</td>\n",
       "      <td>COc1ccc([C@H]2Oc3cc(OC)cc(OC)c3C[C@H]2O)cc1</td>\n",
       "      <td>2.940</td>\n",
       "      <td>316.348</td>\n",
       "      <td>5.0</td>\n",
       "      <td>1.0</td>\n",
       "      <td>4.0</td>\n",
       "      <td>2.940</td>\n",
       "      <td>57.15</td>\n",
       "    </tr>\n",
       "    <tr>\n",
       "      <th>18</th>\n",
       "      <td>86.9900</td>\n",
       "      <td>69.4465</td>\n",
       "      <td>COc1cccc(-c2cc(-c3nc4c5cnn(-c6ccccc6)c5ncn4n3)...</td>\n",
       "      <td>3.908</td>\n",
       "      <td>408.415</td>\n",
       "      <td>6.0</td>\n",
       "      <td>1.0</td>\n",
       "      <td>4.0</td>\n",
       "      <td>3.909</td>\n",
       "      <td>98.81</td>\n",
       "    </tr>\n",
       "    <tr>\n",
       "      <th>19</th>\n",
       "      <td>1.5570</td>\n",
       "      <td>2.6530</td>\n",
       "      <td>CS(=O)(=O)N1CCN(CCOc2ccc3c(c2)C(c2cc(F)cc(F)c2...</td>\n",
       "      <td>3.219</td>\n",
       "      <td>525.567</td>\n",
       "      <td>6.0</td>\n",
       "      <td>0.0</td>\n",
       "      <td>7.0</td>\n",
       "      <td>3.086</td>\n",
       "      <td>88.19</td>\n",
       "    </tr>\n",
       "    <tr>\n",
       "      <th>20</th>\n",
       "      <td>11.6895</td>\n",
       "      <td>11.1320</td>\n",
       "      <td>Cc1cc(=O)[nH]c(SCC(=O)C23CC4CC(CC(C4)C2)C3)c1C#N</td>\n",
       "      <td>3.322</td>\n",
       "      <td>342.455</td>\n",
       "      <td>4.0</td>\n",
       "      <td>1.0</td>\n",
       "      <td>4.0</td>\n",
       "      <td>3.322</td>\n",
       "      <td>95.26</td>\n",
       "    </tr>\n",
       "    <tr>\n",
       "      <th>21</th>\n",
       "      <td>28.4630</td>\n",
       "      <td>24.1955</td>\n",
       "      <td>Cc1ccc(-c2cc(-c3nc4c5ccccc5ncn4n3)[nH]n2)c(C)c1</td>\n",
       "      <td>4.609</td>\n",
       "      <td>340.381</td>\n",
       "      <td>4.0</td>\n",
       "      <td>1.0</td>\n",
       "      <td>2.0</td>\n",
       "      <td>4.736</td>\n",
       "      <td>71.75</td>\n",
       "    </tr>\n",
       "    <tr>\n",
       "      <th>22</th>\n",
       "      <td>56.0435</td>\n",
       "      <td>66.1260</td>\n",
       "      <td>Cc1ccc(-c2ccc(C(CN3CCCC3)N(C)C(=O)CN3C(=O)COc4...</td>\n",
       "      <td>4.282</td>\n",
       "      <td>553.480</td>\n",
       "      <td>5.0</td>\n",
       "      <td>0.0</td>\n",
       "      <td>7.0</td>\n",
       "      <td>4.009</td>\n",
       "      <td>65.98</td>\n",
       "    </tr>\n",
       "    <tr>\n",
       "      <th>23</th>\n",
       "      <td>56.3130</td>\n",
       "      <td>63.7320</td>\n",
       "      <td>Cc1ccccc1-c1nc2ccccc2cc1C(C)n1c(=O)[nH]c2c(S(C...</td>\n",
       "      <td>4.304</td>\n",
       "      <td>459.520</td>\n",
       "      <td>6.0</td>\n",
       "      <td>1.0</td>\n",
       "      <td>4.0</td>\n",
       "      <td>4.304</td>\n",
       "      <td>113.53</td>\n",
       "    </tr>\n",
       "    <tr>\n",
       "      <th>24</th>\n",
       "      <td>70.2150</td>\n",
       "      <td>93.8400</td>\n",
       "      <td>N#Cc1nccnc1OC1CCN(C(=O)C2CC(=O)N(C3CCOCC3)C2)C1</td>\n",
       "      <td>-1.133</td>\n",
       "      <td>385.417</td>\n",
       "      <td>7.0</td>\n",
       "      <td>0.0</td>\n",
       "      <td>4.0</td>\n",
       "      <td>-1.133</td>\n",
       "      <td>108.65</td>\n",
       "    </tr>\n",
       "    <tr>\n",
       "      <th>25</th>\n",
       "      <td>56.6085</td>\n",
       "      <td>49.5190</td>\n",
       "      <td>N#Cc1nccnc1OC1CCN(C(=O)N2CCNC2=O)C1</td>\n",
       "      <td>-0.533</td>\n",
       "      <td>302.289</td>\n",
       "      <td>6.0</td>\n",
       "      <td>1.0</td>\n",
       "      <td>2.0</td>\n",
       "      <td>-0.533</td>\n",
       "      <td>111.44</td>\n",
       "    </tr>\n",
       "    <tr>\n",
       "      <th>26</th>\n",
       "      <td>6.1730</td>\n",
       "      <td>10.8670</td>\n",
       "      <td>O=S(=O)(c1ccccc1)n1ccc(C/C=C/Cc2ccn(S(=O)(=O)c...</td>\n",
       "      <td>5.630</td>\n",
       "      <td>466.572</td>\n",
       "      <td>4.0</td>\n",
       "      <td>0.0</td>\n",
       "      <td>8.0</td>\n",
       "      <td>5.630</td>\n",
       "      <td>94.90</td>\n",
       "    </tr>\n",
       "  </tbody>\n",
       "</table>\n",
       "</div>"
      ],
      "text/plain": [
       "        MLM      HLM                                             SMILES  \\\n",
       "0    0.9225  28.0615                  C(=C/c1nnn(Cc2ccccc2)n1)\\c1ccccc1   \n",
       "1   62.2175  77.9110       CC(=O)Nc1ccc(N2N=C(c3ccc(O)cc3)C(C)CC2=O)cc1   \n",
       "2   68.6310  64.6690     CC(=O)Nc1nc2ccc(-c3nn(C(C)C)c4nc(N)ncc34)cc2s1   \n",
       "3   32.1435  85.6850  CC(C)(C)OC(=O)N1CCC(c2n[nH]c3nc(S(C)(=O)=O)ncc...   \n",
       "4    3.6870  43.3385       CC(C)COc1cc(=O)n2c(c1C(=O)N1CCC(C)CC1)CCCCC2   \n",
       "5   62.1085  68.1015  CC(C)NC(=O)c1c(Cl)nn(C)c1NC(=O)c1cc(Br)nn1-c1n...   \n",
       "6   43.1700  31.1300  CC1CC(=O)N(c2ccc(-c3cccc(C#N)c3)cc2)N=C1c1ccc(...   \n",
       "7    2.3395  36.8145                      CCCCC/N=c1\\n(C)c(=O)nc2sccn12   \n",
       "8    3.4420   3.6015  CCOC(=O)CC1(NC(=O)N2Cc3c(sc4c3CCCC4)-n3cccc3C2...   \n",
       "9   73.5450   1.1345         CCc1nc2cc(Br)c(C(=O)OC)nc2n1CC(=O)c1ccccc1   \n",
       "10  41.5740  47.1345  CN(C)c1ccc(C2c3cccn3-c3sc4c(c3CN2C(=O)NCc2cccc...   \n",
       "11  52.3650  69.5790                   CN(C1CCNCC1)S(=O)(=O)c1ccc(Cl)s1   \n",
       "12  10.9270  15.1105  COC(=O)C1(CCCN(C)CCc2ccc(OC)c(OC)c2)CCCc2c1ccc...   \n",
       "13  82.1700  95.6250             COCCOc1cc(=O)n2c(c1C(=O)N1CCCC1)CCOCC2   \n",
       "14   4.1750  34.8750  COc1cc(CN2CCC(NC(=O)c3cc4cc(Br)c5ccccc5c4o3)CC...   \n",
       "15  64.1215  18.6150        COc1ccc(C2=NOC(c3ccc(-c4nnn[nH]4)cc3)C2)cc1   \n",
       "16   4.1520   5.9740                      COc1ccc(C2=NOC(c3ccsc3)C2)cc1   \n",
       "17   0.6545   4.1300        COc1ccc([C@H]2Oc3cc(OC)cc(OC)c3C[C@H]2O)cc1   \n",
       "18  86.9900  69.4465  COc1cccc(-c2cc(-c3nc4c5cnn(-c6ccccc6)c5ncn4n3)...   \n",
       "19   1.5570   2.6530  CS(=O)(=O)N1CCN(CCOc2ccc3c(c2)C(c2cc(F)cc(F)c2...   \n",
       "20  11.6895  11.1320   Cc1cc(=O)[nH]c(SCC(=O)C23CC4CC(CC(C4)C2)C3)c1C#N   \n",
       "21  28.4630  24.1955    Cc1ccc(-c2cc(-c3nc4c5ccccc5ncn4n3)[nH]n2)c(C)c1   \n",
       "22  56.0435  66.1260  Cc1ccc(-c2ccc(C(CN3CCCC3)N(C)C(=O)CN3C(=O)COc4...   \n",
       "23  56.3130  63.7320  Cc1ccccc1-c1nc2ccccc2cc1C(C)n1c(=O)[nH]c2c(S(C...   \n",
       "24  70.2150  93.8400    N#Cc1nccnc1OC1CCN(C(=O)C2CC(=O)N(C3CCOCC3)C2)C1   \n",
       "25  56.6085  49.5190                N#Cc1nccnc1OC1CCN(C(=O)N2CCNC2=O)C1   \n",
       "26   6.1730  10.8670  O=S(=O)(c1ccccc1)n1ccc(C/C=C/Cc2ccn(S(=O)(=O)c...   \n",
       "\n",
       "    AlogP  Molecular_Weight  Num_H_Acceptors  Num_H_Donors  \\\n",
       "0   3.556           262.309              3.0           0.0   \n",
       "1   2.172           337.372              4.0           2.0   \n",
       "2   2.293           367.428              5.0           2.0   \n",
       "3   1.684           381.450              7.0           1.0   \n",
       "4   2.843           360.490              3.0           0.0   \n",
       "5   3.750           501.165              5.0           2.0   \n",
       "6   4.449           381.427              4.0           1.0   \n",
       "7   2.484           252.336              4.0           0.0   \n",
       "8   6.727           537.736              3.0           1.0   \n",
       "9   3.815           402.242              5.0           0.0   \n",
       "10  6.501           496.666              1.0           1.0   \n",
       "11  0.767           294.821              3.0           1.0   \n",
       "12  5.374           485.612              7.0           0.0   \n",
       "13 -0.811           336.383              5.0           0.0   \n",
       "14  4.934           553.444              5.0           1.0   \n",
       "15  2.235           321.333              6.0           1.0   \n",
       "16  2.868           259.324              3.0           0.0   \n",
       "17  2.940           316.348              5.0           1.0   \n",
       "18  3.908           408.415              6.0           1.0   \n",
       "19  3.219           525.567              6.0           0.0   \n",
       "20  3.322           342.455              4.0           1.0   \n",
       "21  4.609           340.381              4.0           1.0   \n",
       "22  4.282           553.480              5.0           0.0   \n",
       "23  4.304           459.520              6.0           1.0   \n",
       "24 -1.133           385.417              7.0           0.0   \n",
       "25 -0.533           302.289              6.0           1.0   \n",
       "26  5.630           466.572              4.0           0.0   \n",
       "\n",
       "    Num_RotatableBonds   LogD  Molecular_PolarSurfaceArea  \n",
       "0                  4.0  3.556                       43.60  \n",
       "1                  3.0  2.169                       82.00  \n",
       "2                  3.0  2.307                      139.85  \n",
       "3                  4.0  1.684                      126.52  \n",
       "4                  4.0  2.843                       49.85  \n",
       "5                  5.0  3.750                      106.72  \n",
       "6                  3.0  4.446                       76.69  \n",
       "7                  4.0  2.474                       73.56  \n",
       "8                  6.0  6.727                      120.05  \n",
       "9                  6.0  3.819                       74.08  \n",
       "10                 4.0  6.501                       68.74  \n",
       "11                 3.0  0.388                       86.03  \n",
       "12                13.0  3.870                       66.46  \n",
       "13                 5.0 -0.811                       68.31  \n",
       "14                 7.0  4.934                       73.17  \n",
       "15                 4.0  1.806                       85.28  \n",
       "16                 3.0  2.868                       59.06  \n",
       "17                 4.0  2.940                       57.15  \n",
       "18                 4.0  3.909                       98.81  \n",
       "19                 7.0  3.086                       88.19  \n",
       "20                 4.0  3.322                       95.26  \n",
       "21                 2.0  4.736                       71.75  \n",
       "22                 7.0  4.009                       65.98  \n",
       "23                 4.0  4.304                      113.53  \n",
       "24                 4.0 -1.133                      108.65  \n",
       "25                 2.0 -0.533                      111.44  \n",
       "26                 8.0  5.630                       94.90  "
      ]
     },
     "execution_count": 7,
     "metadata": {},
     "output_type": "execute_result"
    }
   ],
   "source": [
    "# train data 같은 인풋 값 대비 다른 아웃풋 average로 변환\n",
    "duplicated_rows = df_train[df_train.iloc[:, 2:].duplicated(keep=False)]\n",
    "sorted_duplicates = duplicated_rows.sort_values(by='SMILES', ascending=False)\n",
    "average_df = sorted_duplicates.groupby('SMILES').mean().reset_index()\n",
    "\n",
    "# column 순서 조절\n",
    "new_column_order = ['MLM', 'HLM', 'SMILES', 'AlogP', 'Molecular_Weight',\n",
    "                    'Num_H_Acceptors', 'Num_H_Donors', 'Num_RotatableBonds', 'LogD',\n",
    "                    'Molecular_PolarSurfaceArea']\n",
    "\n",
    "average_df = average_df[new_column_order]\n",
    "average_df"
   ]
  },
  {
   "cell_type": "code",
   "execution_count": 8,
   "metadata": {},
   "outputs": [
    {
     "name": "stdout",
     "output_type": "stream",
     "text": [
      "train size : (3471, 10)\n"
     ]
    },
    {
     "data": {
      "text/html": [
       "<div>\n",
       "<style scoped>\n",
       "    .dataframe tbody tr th:only-of-type {\n",
       "        vertical-align: middle;\n",
       "    }\n",
       "\n",
       "    .dataframe tbody tr th {\n",
       "        vertical-align: top;\n",
       "    }\n",
       "\n",
       "    .dataframe thead th {\n",
       "        text-align: right;\n",
       "    }\n",
       "</style>\n",
       "<table border=\"1\" class=\"dataframe\">\n",
       "  <thead>\n",
       "    <tr style=\"text-align: right;\">\n",
       "      <th></th>\n",
       "      <th>MLM</th>\n",
       "      <th>HLM</th>\n",
       "      <th>SMILES</th>\n",
       "      <th>AlogP</th>\n",
       "      <th>Molecular_Weight</th>\n",
       "      <th>Num_H_Acceptors</th>\n",
       "      <th>Num_H_Donors</th>\n",
       "      <th>Num_RotatableBonds</th>\n",
       "      <th>LogD</th>\n",
       "      <th>Molecular_PolarSurfaceArea</th>\n",
       "    </tr>\n",
       "  </thead>\n",
       "  <tbody>\n",
       "    <tr>\n",
       "      <th>0</th>\n",
       "      <td>26.010</td>\n",
       "      <td>50.680</td>\n",
       "      <td>CCOc1ccc(CNC(=O)c2cc(-c3sc(C)nc3C)n[nH]2)cc1OCC</td>\n",
       "      <td>3.259</td>\n",
       "      <td>400.495</td>\n",
       "      <td>5.0</td>\n",
       "      <td>2.0</td>\n",
       "      <td>8.0</td>\n",
       "      <td>3.259</td>\n",
       "      <td>117.37</td>\n",
       "    </tr>\n",
       "    <tr>\n",
       "      <th>1</th>\n",
       "      <td>29.270</td>\n",
       "      <td>50.590</td>\n",
       "      <td>Cc1nc(C)c(CN2CC(C)C(=O)Nc3ccccc32)s1</td>\n",
       "      <td>2.169</td>\n",
       "      <td>301.407</td>\n",
       "      <td>2.0</td>\n",
       "      <td>1.0</td>\n",
       "      <td>2.0</td>\n",
       "      <td>2.172</td>\n",
       "      <td>73.47</td>\n",
       "    </tr>\n",
       "    <tr>\n",
       "      <th>2</th>\n",
       "      <td>5.586</td>\n",
       "      <td>80.892</td>\n",
       "      <td>CCCN1CCN(c2nn3nnnc3c3ccccc23)CC1</td>\n",
       "      <td>1.593</td>\n",
       "      <td>297.358</td>\n",
       "      <td>5.0</td>\n",
       "      <td>0.0</td>\n",
       "      <td>3.0</td>\n",
       "      <td>1.585</td>\n",
       "      <td>62.45</td>\n",
       "    </tr>\n",
       "    <tr>\n",
       "      <th>3</th>\n",
       "      <td>5.710</td>\n",
       "      <td>2.000</td>\n",
       "      <td>Cc1ccc(-c2ccc(-n3nc(C)c(S(=O)(=O)N4CCN(C5CCCCC...</td>\n",
       "      <td>4.771</td>\n",
       "      <td>494.652</td>\n",
       "      <td>6.0</td>\n",
       "      <td>0.0</td>\n",
       "      <td>5.0</td>\n",
       "      <td>3.475</td>\n",
       "      <td>92.60</td>\n",
       "    </tr>\n",
       "    <tr>\n",
       "      <th>4</th>\n",
       "      <td>93.270</td>\n",
       "      <td>99.990</td>\n",
       "      <td>Cc1ccc2c(c1)N(C(=O)c1ccncc1)CC(C)O2</td>\n",
       "      <td>2.335</td>\n",
       "      <td>268.310</td>\n",
       "      <td>3.0</td>\n",
       "      <td>0.0</td>\n",
       "      <td>1.0</td>\n",
       "      <td>2.337</td>\n",
       "      <td>42.43</td>\n",
       "    </tr>\n",
       "  </tbody>\n",
       "</table>\n",
       "</div>"
      ],
      "text/plain": [
       "      MLM     HLM                                             SMILES  AlogP  \\\n",
       "0  26.010  50.680    CCOc1ccc(CNC(=O)c2cc(-c3sc(C)nc3C)n[nH]2)cc1OCC  3.259   \n",
       "1  29.270  50.590               Cc1nc(C)c(CN2CC(C)C(=O)Nc3ccccc32)s1  2.169   \n",
       "2   5.586  80.892                   CCCN1CCN(c2nn3nnnc3c3ccccc23)CC1  1.593   \n",
       "3   5.710   2.000  Cc1ccc(-c2ccc(-n3nc(C)c(S(=O)(=O)N4CCN(C5CCCCC...  4.771   \n",
       "4  93.270  99.990                Cc1ccc2c(c1)N(C(=O)c1ccncc1)CC(C)O2  2.335   \n",
       "\n",
       "   Molecular_Weight  Num_H_Acceptors  Num_H_Donors  Num_RotatableBonds   LogD  \\\n",
       "0           400.495              5.0           2.0                 8.0  3.259   \n",
       "1           301.407              2.0           1.0                 2.0  2.172   \n",
       "2           297.358              5.0           0.0                 3.0  1.585   \n",
       "3           494.652              6.0           0.0                 5.0  3.475   \n",
       "4           268.310              3.0           0.0                 1.0  2.337   \n",
       "\n",
       "   Molecular_PolarSurfaceArea  \n",
       "0                      117.37  \n",
       "1                       73.47  \n",
       "2                       62.45  \n",
       "3                       92.60  \n",
       "4                       42.43  "
      ]
     },
     "execution_count": 8,
     "metadata": {},
     "output_type": "execute_result"
    }
   ],
   "source": [
    "# 중복값 제거한 train unique value\n",
    "unique_df = df_train[~df_train.iloc[:, 2:].duplicated(keep=False)]\n",
    "\n",
    "# unique value 와 average value concat\n",
    "df_train = pd.concat([unique_df, average_df])\n",
    "df_train.reset_index(drop = True, inplace = True)\n",
    "print(f'train size : {df_train.shape}')\n",
    "\n",
    "df_train.head()"
   ]
  },
  {
   "cell_type": "code",
   "execution_count": 9,
   "metadata": {},
   "outputs": [
    {
     "name": "stdout",
     "output_type": "stream",
     "text": [
      "test size : (483, 8)\n"
     ]
    },
    {
     "data": {
      "text/html": [
       "<div>\n",
       "<style scoped>\n",
       "    .dataframe tbody tr th:only-of-type {\n",
       "        vertical-align: middle;\n",
       "    }\n",
       "\n",
       "    .dataframe tbody tr th {\n",
       "        vertical-align: top;\n",
       "    }\n",
       "\n",
       "    .dataframe thead th {\n",
       "        text-align: right;\n",
       "    }\n",
       "</style>\n",
       "<table border=\"1\" class=\"dataframe\">\n",
       "  <thead>\n",
       "    <tr style=\"text-align: right;\">\n",
       "      <th></th>\n",
       "      <th>SMILES</th>\n",
       "      <th>AlogP</th>\n",
       "      <th>Molecular_Weight</th>\n",
       "      <th>Num_H_Acceptors</th>\n",
       "      <th>Num_H_Donors</th>\n",
       "      <th>Num_RotatableBonds</th>\n",
       "      <th>LogD</th>\n",
       "      <th>Molecular_PolarSurfaceArea</th>\n",
       "    </tr>\n",
       "  </thead>\n",
       "  <tbody>\n",
       "    <tr>\n",
       "      <th>0</th>\n",
       "      <td>CC(C)Nc1ccnc(N2CCN(Cc3cccs3)C(CCO)C2)n1</td>\n",
       "      <td>2.641</td>\n",
       "      <td>361.505</td>\n",
       "      <td>4</td>\n",
       "      <td>2</td>\n",
       "      <td>7</td>\n",
       "      <td>2.635</td>\n",
       "      <td>92.76</td>\n",
       "    </tr>\n",
       "    <tr>\n",
       "      <th>1</th>\n",
       "      <td>COc1cc(=O)n(-c2ccccc2)cc1C(=O)N1CCC2(CC1)OCCO2</td>\n",
       "      <td>0.585</td>\n",
       "      <td>370.399</td>\n",
       "      <td>5</td>\n",
       "      <td>0</td>\n",
       "      <td>3</td>\n",
       "      <td>0.585</td>\n",
       "      <td>68.31</td>\n",
       "    </tr>\n",
       "    <tr>\n",
       "      <th>2</th>\n",
       "      <td>Cc1cccc(NC(=N)/N=c2\\nc(O)c(Cc3ccccc3)c(C)[nH]2)c1</td>\n",
       "      <td>4.276</td>\n",
       "      <td>347.414</td>\n",
       "      <td>4</td>\n",
       "      <td>4</td>\n",
       "      <td>5</td>\n",
       "      <td>4.290</td>\n",
       "      <td>92.86</td>\n",
       "    </tr>\n",
       "    <tr>\n",
       "      <th>3</th>\n",
       "      <td>O=C(c1nc2ncccn2n1)N1CCCn2cc(-c3ccccc3)nc21</td>\n",
       "      <td>1.795</td>\n",
       "      <td>345.358</td>\n",
       "      <td>5</td>\n",
       "      <td>0</td>\n",
       "      <td>2</td>\n",
       "      <td>1.795</td>\n",
       "      <td>81.21</td>\n",
       "    </tr>\n",
       "    <tr>\n",
       "      <th>4</th>\n",
       "      <td>CCN1CCN(C(=O)c2cc3c(=O)n4cc(C)ccc4nc3n2C)CC1</td>\n",
       "      <td>1.219</td>\n",
       "      <td>353.418</td>\n",
       "      <td>4</td>\n",
       "      <td>0</td>\n",
       "      <td>2</td>\n",
       "      <td>0.169</td>\n",
       "      <td>61.15</td>\n",
       "    </tr>\n",
       "  </tbody>\n",
       "</table>\n",
       "</div>"
      ],
      "text/plain": [
       "                                              SMILES  AlogP  Molecular_Weight  \\\n",
       "0            CC(C)Nc1ccnc(N2CCN(Cc3cccs3)C(CCO)C2)n1  2.641           361.505   \n",
       "1     COc1cc(=O)n(-c2ccccc2)cc1C(=O)N1CCC2(CC1)OCCO2  0.585           370.399   \n",
       "2  Cc1cccc(NC(=N)/N=c2\\nc(O)c(Cc3ccccc3)c(C)[nH]2)c1  4.276           347.414   \n",
       "3         O=C(c1nc2ncccn2n1)N1CCCn2cc(-c3ccccc3)nc21  1.795           345.358   \n",
       "4       CCN1CCN(C(=O)c2cc3c(=O)n4cc(C)ccc4nc3n2C)CC1  1.219           353.418   \n",
       "\n",
       "   Num_H_Acceptors  Num_H_Donors  Num_RotatableBonds   LogD  \\\n",
       "0                4             2                   7  2.635   \n",
       "1                5             0                   3  0.585   \n",
       "2                4             4                   5  4.290   \n",
       "3                5             0                   2  1.795   \n",
       "4                4             0                   2  0.169   \n",
       "\n",
       "   Molecular_PolarSurfaceArea  \n",
       "0                       92.76  \n",
       "1                       68.31  \n",
       "2                       92.86  \n",
       "3                       81.21  \n",
       "4                       61.15  "
      ]
     },
     "execution_count": 9,
     "metadata": {},
     "output_type": "execute_result"
    }
   ],
   "source": [
    "print(f'test size : {df_test.shape}')\n",
    "df_test.head()"
   ]
  },
  {
   "cell_type": "markdown",
   "metadata": {},
   "source": [
    "### merge train and test data for feature engineering"
   ]
  },
  {
   "cell_type": "code",
   "execution_count": 10,
   "metadata": {},
   "outputs": [
    {
     "data": {
      "text/html": [
       "<div>\n",
       "<style scoped>\n",
       "    .dataframe tbody tr th:only-of-type {\n",
       "        vertical-align: middle;\n",
       "    }\n",
       "\n",
       "    .dataframe tbody tr th {\n",
       "        vertical-align: top;\n",
       "    }\n",
       "\n",
       "    .dataframe thead th {\n",
       "        text-align: right;\n",
       "    }\n",
       "</style>\n",
       "<table border=\"1\" class=\"dataframe\">\n",
       "  <thead>\n",
       "    <tr style=\"text-align: right;\">\n",
       "      <th></th>\n",
       "      <th>MLM</th>\n",
       "      <th>HLM</th>\n",
       "      <th>SMILES</th>\n",
       "      <th>AlogP</th>\n",
       "      <th>Molecular_Weight</th>\n",
       "      <th>Num_H_Acceptors</th>\n",
       "      <th>Num_H_Donors</th>\n",
       "      <th>Num_RotatableBonds</th>\n",
       "      <th>LogD</th>\n",
       "      <th>Molecular_PolarSurfaceArea</th>\n",
       "    </tr>\n",
       "  </thead>\n",
       "  <tbody>\n",
       "    <tr>\n",
       "      <th>0</th>\n",
       "      <td>26.010</td>\n",
       "      <td>50.680</td>\n",
       "      <td>CCOc1ccc(CNC(=O)c2cc(-c3sc(C)nc3C)n[nH]2)cc1OCC</td>\n",
       "      <td>3.259</td>\n",
       "      <td>400.495</td>\n",
       "      <td>5.0</td>\n",
       "      <td>2.0</td>\n",
       "      <td>8.0</td>\n",
       "      <td>3.259</td>\n",
       "      <td>117.37</td>\n",
       "    </tr>\n",
       "    <tr>\n",
       "      <th>1</th>\n",
       "      <td>29.270</td>\n",
       "      <td>50.590</td>\n",
       "      <td>Cc1nc(C)c(CN2CC(C)C(=O)Nc3ccccc32)s1</td>\n",
       "      <td>2.169</td>\n",
       "      <td>301.407</td>\n",
       "      <td>2.0</td>\n",
       "      <td>1.0</td>\n",
       "      <td>2.0</td>\n",
       "      <td>2.172</td>\n",
       "      <td>73.47</td>\n",
       "    </tr>\n",
       "    <tr>\n",
       "      <th>2</th>\n",
       "      <td>5.586</td>\n",
       "      <td>80.892</td>\n",
       "      <td>CCCN1CCN(c2nn3nnnc3c3ccccc23)CC1</td>\n",
       "      <td>1.593</td>\n",
       "      <td>297.358</td>\n",
       "      <td>5.0</td>\n",
       "      <td>0.0</td>\n",
       "      <td>3.0</td>\n",
       "      <td>1.585</td>\n",
       "      <td>62.45</td>\n",
       "    </tr>\n",
       "    <tr>\n",
       "      <th>3</th>\n",
       "      <td>5.710</td>\n",
       "      <td>2.000</td>\n",
       "      <td>Cc1ccc(-c2ccc(-n3nc(C)c(S(=O)(=O)N4CCN(C5CCCCC...</td>\n",
       "      <td>4.771</td>\n",
       "      <td>494.652</td>\n",
       "      <td>6.0</td>\n",
       "      <td>0.0</td>\n",
       "      <td>5.0</td>\n",
       "      <td>3.475</td>\n",
       "      <td>92.60</td>\n",
       "    </tr>\n",
       "    <tr>\n",
       "      <th>4</th>\n",
       "      <td>93.270</td>\n",
       "      <td>99.990</td>\n",
       "      <td>Cc1ccc2c(c1)N(C(=O)c1ccncc1)CC(C)O2</td>\n",
       "      <td>2.335</td>\n",
       "      <td>268.310</td>\n",
       "      <td>3.0</td>\n",
       "      <td>0.0</td>\n",
       "      <td>1.0</td>\n",
       "      <td>2.337</td>\n",
       "      <td>42.43</td>\n",
       "    </tr>\n",
       "  </tbody>\n",
       "</table>\n",
       "</div>"
      ],
      "text/plain": [
       "      MLM     HLM                                             SMILES  AlogP  \\\n",
       "0  26.010  50.680    CCOc1ccc(CNC(=O)c2cc(-c3sc(C)nc3C)n[nH]2)cc1OCC  3.259   \n",
       "1  29.270  50.590               Cc1nc(C)c(CN2CC(C)C(=O)Nc3ccccc32)s1  2.169   \n",
       "2   5.586  80.892                   CCCN1CCN(c2nn3nnnc3c3ccccc23)CC1  1.593   \n",
       "3   5.710   2.000  Cc1ccc(-c2ccc(-n3nc(C)c(S(=O)(=O)N4CCN(C5CCCCC...  4.771   \n",
       "4  93.270  99.990                Cc1ccc2c(c1)N(C(=O)c1ccncc1)CC(C)O2  2.335   \n",
       "\n",
       "   Molecular_Weight  Num_H_Acceptors  Num_H_Donors  Num_RotatableBonds   LogD  \\\n",
       "0           400.495              5.0           2.0                 8.0  3.259   \n",
       "1           301.407              2.0           1.0                 2.0  2.172   \n",
       "2           297.358              5.0           0.0                 3.0  1.585   \n",
       "3           494.652              6.0           0.0                 5.0  3.475   \n",
       "4           268.310              3.0           0.0                 1.0  2.337   \n",
       "\n",
       "   Molecular_PolarSurfaceArea  \n",
       "0                      117.37  \n",
       "1                       73.47  \n",
       "2                       62.45  \n",
       "3                       92.60  \n",
       "4                       42.43  "
      ]
     },
     "execution_count": 10,
     "metadata": {},
     "output_type": "execute_result"
    }
   ],
   "source": [
    "df_total = pd.concat([df_train, df_test])\n",
    "df_total = df_total.reset_index(drop = True)\n",
    "df_total.head()"
   ]
  },
  {
   "cell_type": "code",
   "execution_count": 11,
   "metadata": {},
   "outputs": [
    {
     "data": {
      "text/html": [
       "<div>\n",
       "<style scoped>\n",
       "    .dataframe tbody tr th:only-of-type {\n",
       "        vertical-align: middle;\n",
       "    }\n",
       "\n",
       "    .dataframe tbody tr th {\n",
       "        vertical-align: top;\n",
       "    }\n",
       "\n",
       "    .dataframe thead th {\n",
       "        text-align: right;\n",
       "    }\n",
       "</style>\n",
       "<table border=\"1\" class=\"dataframe\">\n",
       "  <thead>\n",
       "    <tr style=\"text-align: right;\">\n",
       "      <th></th>\n",
       "      <th>MLM</th>\n",
       "      <th>HLM</th>\n",
       "      <th>SMILES</th>\n",
       "      <th>AlogP</th>\n",
       "      <th>Molecular_Weight</th>\n",
       "      <th>Num_H_Acceptors</th>\n",
       "      <th>Num_H_Donors</th>\n",
       "      <th>Num_RotatableBonds</th>\n",
       "      <th>LogD</th>\n",
       "      <th>Molecular_PolarSurfaceArea</th>\n",
       "    </tr>\n",
       "  </thead>\n",
       "  <tbody>\n",
       "    <tr>\n",
       "      <th>2752</th>\n",
       "      <td>0.549</td>\n",
       "      <td>0.2</td>\n",
       "      <td>[H][C@]1(CC[C@@]2([H])[C@@H](C)C=CC3=C[C@H](C)...</td>\n",
       "      <td>NaN</td>\n",
       "      <td>418.566</td>\n",
       "      <td>5.0</td>\n",
       "      <td>1.0</td>\n",
       "      <td>7.0</td>\n",
       "      <td>4.634</td>\n",
       "      <td>72.83</td>\n",
       "    </tr>\n",
       "    <tr>\n",
       "      <th>3334</th>\n",
       "      <td>0.240</td>\n",
       "      <td>3.2</td>\n",
       "      <td>COc1cc2c(cc1OC)/C(=N\\c1ccccc1)N(Cc1ccccc1F)CC2</td>\n",
       "      <td>NaN</td>\n",
       "      <td>390.450</td>\n",
       "      <td>3.0</td>\n",
       "      <td>0.0</td>\n",
       "      <td>5.0</td>\n",
       "      <td>4.911</td>\n",
       "      <td>34.06</td>\n",
       "    </tr>\n",
       "    <tr>\n",
       "      <th>3481</th>\n",
       "      <td>NaN</td>\n",
       "      <td>NaN</td>\n",
       "      <td>[H]C1(C(O)c2ccc3c(c2)OCO3)C(=O)Oc2cc(OC)ccc2C1...</td>\n",
       "      <td>NaN</td>\n",
       "      <td>404.412</td>\n",
       "      <td>6.0</td>\n",
       "      <td>1.0</td>\n",
       "      <td>4.0</td>\n",
       "      <td>3.942</td>\n",
       "      <td>74.22</td>\n",
       "    </tr>\n",
       "  </tbody>\n",
       "</table>\n",
       "</div>"
      ],
      "text/plain": [
       "        MLM  HLM                                             SMILES  AlogP  \\\n",
       "2752  0.549  0.2  [H][C@]1(CC[C@@]2([H])[C@@H](C)C=CC3=C[C@H](C)...    NaN   \n",
       "3334  0.240  3.2     COc1cc2c(cc1OC)/C(=N\\c1ccccc1)N(Cc1ccccc1F)CC2    NaN   \n",
       "3481    NaN  NaN  [H]C1(C(O)c2ccc3c(c2)OCO3)C(=O)Oc2cc(OC)ccc2C1...    NaN   \n",
       "\n",
       "      Molecular_Weight  Num_H_Acceptors  Num_H_Donors  Num_RotatableBonds  \\\n",
       "2752           418.566              5.0           1.0                 7.0   \n",
       "3334           390.450              3.0           0.0                 5.0   \n",
       "3481           404.412              6.0           1.0                 4.0   \n",
       "\n",
       "       LogD  Molecular_PolarSurfaceArea  \n",
       "2752  4.634                       72.83  \n",
       "3334  4.911                       34.06  \n",
       "3481  3.942                       74.22  "
      ]
     },
     "execution_count": 11,
     "metadata": {},
     "output_type": "execute_result"
    }
   ],
   "source": [
    "# Alop 결측값 처리\n",
    "df_total[df_total.AlogP.isna()]"
   ]
  },
  {
   "cell_type": "code",
   "execution_count": 12,
   "metadata": {},
   "outputs": [
    {
     "data": {
      "text/html": [
       "<div>\n",
       "<style scoped>\n",
       "    .dataframe tbody tr th:only-of-type {\n",
       "        vertical-align: middle;\n",
       "    }\n",
       "\n",
       "    .dataframe tbody tr th {\n",
       "        vertical-align: top;\n",
       "    }\n",
       "\n",
       "    .dataframe thead th {\n",
       "        text-align: right;\n",
       "    }\n",
       "</style>\n",
       "<table border=\"1\" class=\"dataframe\">\n",
       "  <thead>\n",
       "    <tr style=\"text-align: right;\">\n",
       "      <th></th>\n",
       "      <th>MLM</th>\n",
       "      <th>HLM</th>\n",
       "      <th>SMILES</th>\n",
       "      <th>AlogP</th>\n",
       "      <th>Molecular_Weight</th>\n",
       "      <th>Num_H_Acceptors</th>\n",
       "      <th>Num_H_Donors</th>\n",
       "      <th>Num_RotatableBonds</th>\n",
       "      <th>LogD</th>\n",
       "      <th>Molecular_PolarSurfaceArea</th>\n",
       "    </tr>\n",
       "  </thead>\n",
       "  <tbody>\n",
       "    <tr>\n",
       "      <th>2752</th>\n",
       "      <td>0.549</td>\n",
       "      <td>0.2</td>\n",
       "      <td>[H][C@]1(CC[C@@]2([H])[C@@H](C)C=CC3=C[C@H](C)...</td>\n",
       "      <td>4.634</td>\n",
       "      <td>418.566</td>\n",
       "      <td>5.0</td>\n",
       "      <td>1.0</td>\n",
       "      <td>7.0</td>\n",
       "      <td>4.634</td>\n",
       "      <td>72.83</td>\n",
       "    </tr>\n",
       "    <tr>\n",
       "      <th>3334</th>\n",
       "      <td>0.240</td>\n",
       "      <td>3.2</td>\n",
       "      <td>COc1cc2c(cc1OC)/C(=N\\c1ccccc1)N(Cc1ccccc1F)CC2</td>\n",
       "      <td>4.911</td>\n",
       "      <td>390.450</td>\n",
       "      <td>3.0</td>\n",
       "      <td>0.0</td>\n",
       "      <td>5.0</td>\n",
       "      <td>4.911</td>\n",
       "      <td>34.06</td>\n",
       "    </tr>\n",
       "    <tr>\n",
       "      <th>3481</th>\n",
       "      <td>NaN</td>\n",
       "      <td>NaN</td>\n",
       "      <td>[H]C1(C(O)c2ccc3c(c2)OCO3)C(=O)Oc2cc(OC)ccc2C1...</td>\n",
       "      <td>3.942</td>\n",
       "      <td>404.412</td>\n",
       "      <td>6.0</td>\n",
       "      <td>1.0</td>\n",
       "      <td>4.0</td>\n",
       "      <td>3.942</td>\n",
       "      <td>74.22</td>\n",
       "    </tr>\n",
       "  </tbody>\n",
       "</table>\n",
       "</div>"
      ],
      "text/plain": [
       "        MLM  HLM                                             SMILES  AlogP  \\\n",
       "2752  0.549  0.2  [H][C@]1(CC[C@@]2([H])[C@@H](C)C=CC3=C[C@H](C)...  4.634   \n",
       "3334  0.240  3.2     COc1cc2c(cc1OC)/C(=N\\c1ccccc1)N(Cc1ccccc1F)CC2  4.911   \n",
       "3481    NaN  NaN  [H]C1(C(O)c2ccc3c(c2)OCO3)C(=O)Oc2cc(OC)ccc2C1...  3.942   \n",
       "\n",
       "      Molecular_Weight  Num_H_Acceptors  Num_H_Donors  Num_RotatableBonds  \\\n",
       "2752           418.566              5.0           1.0                 7.0   \n",
       "3334           390.450              3.0           0.0                 5.0   \n",
       "3481           404.412              6.0           1.0                 4.0   \n",
       "\n",
       "       LogD  Molecular_PolarSurfaceArea  \n",
       "2752  4.634                       72.83  \n",
       "3334  4.911                       34.06  \n",
       "3481  3.942                       74.22  "
      ]
     },
     "execution_count": 12,
     "metadata": {},
     "output_type": "execute_result"
    }
   ],
   "source": [
    "# 결측치 LogD 값으로 대체 (corr = 0.96)\n",
    "df_total['AlogP'].fillna(df_total['LogD'], inplace=True)\n",
    "row_2752 = df_total.loc[[2752]]\n",
    "row_3334 = df_total.loc[[3334]]\n",
    "row_3481 = df_total.loc[[3481]]\n",
    "\n",
    "missing_df = pd.concat([row_2752, row_3334, row_3481])\n",
    "missing_df"
   ]
  },
  {
   "cell_type": "code",
   "execution_count": 13,
   "metadata": {},
   "outputs": [
    {
     "data": {
      "text/plain": [
       "MLM                           483\n",
       "HLM                           483\n",
       "SMILES                          0\n",
       "AlogP                           0\n",
       "Molecular_Weight                0\n",
       "Num_H_Acceptors                 0\n",
       "Num_H_Donors                    0\n",
       "Num_RotatableBonds              0\n",
       "LogD                            0\n",
       "Molecular_PolarSurfaceArea      0\n",
       "dtype: int64"
      ]
     },
     "execution_count": 13,
     "metadata": {},
     "output_type": "execute_result"
    }
   ],
   "source": [
    "df_total.isna().sum()"
   ]
  },
  {
   "cell_type": "code",
   "execution_count": 14,
   "metadata": {},
   "outputs": [
    {
     "name": "stdout",
     "output_type": "stream",
     "text": [
      "dataset size: (3954, 10)\n"
     ]
    },
    {
     "data": {
      "text/html": [
       "<div>\n",
       "<style scoped>\n",
       "    .dataframe tbody tr th:only-of-type {\n",
       "        vertical-align: middle;\n",
       "    }\n",
       "\n",
       "    .dataframe tbody tr th {\n",
       "        vertical-align: top;\n",
       "    }\n",
       "\n",
       "    .dataframe thead th {\n",
       "        text-align: right;\n",
       "    }\n",
       "</style>\n",
       "<table border=\"1\" class=\"dataframe\">\n",
       "  <thead>\n",
       "    <tr style=\"text-align: right;\">\n",
       "      <th></th>\n",
       "      <th>feature</th>\n",
       "      <th>data type</th>\n",
       "      <th>num of missing value</th>\n",
       "      <th>num of unique value</th>\n",
       "      <th>First value</th>\n",
       "      <th>Second value</th>\n",
       "      <th>Third value</th>\n",
       "    </tr>\n",
       "  </thead>\n",
       "  <tbody>\n",
       "    <tr>\n",
       "      <th>0</th>\n",
       "      <td>MLM</td>\n",
       "      <td>float64</td>\n",
       "      <td>483</td>\n",
       "      <td>2720</td>\n",
       "      <td>26.01</td>\n",
       "      <td>29.27</td>\n",
       "      <td>5.586</td>\n",
       "    </tr>\n",
       "    <tr>\n",
       "      <th>1</th>\n",
       "      <td>HLM</td>\n",
       "      <td>float64</td>\n",
       "      <td>483</td>\n",
       "      <td>2766</td>\n",
       "      <td>50.68</td>\n",
       "      <td>50.59</td>\n",
       "      <td>80.892</td>\n",
       "    </tr>\n",
       "    <tr>\n",
       "      <th>2</th>\n",
       "      <td>SMILES</td>\n",
       "      <td>object</td>\n",
       "      <td>0</td>\n",
       "      <td>3954</td>\n",
       "      <td>CCOc1ccc(CNC(=O)c2cc(-c3sc(C)nc3C)n[nH]2)cc1OCC</td>\n",
       "      <td>Cc1nc(C)c(CN2CC(C)C(=O)Nc3ccccc32)s1</td>\n",
       "      <td>CCCN1CCN(c2nn3nnnc3c3ccccc23)CC1</td>\n",
       "    </tr>\n",
       "    <tr>\n",
       "      <th>3</th>\n",
       "      <td>AlogP</td>\n",
       "      <td>float64</td>\n",
       "      <td>0</td>\n",
       "      <td>2837</td>\n",
       "      <td>3.259</td>\n",
       "      <td>2.169</td>\n",
       "      <td>1.593</td>\n",
       "    </tr>\n",
       "    <tr>\n",
       "      <th>4</th>\n",
       "      <td>Molecular_Weight</td>\n",
       "      <td>float64</td>\n",
       "      <td>0</td>\n",
       "      <td>3425</td>\n",
       "      <td>400.495</td>\n",
       "      <td>301.407</td>\n",
       "      <td>297.358</td>\n",
       "    </tr>\n",
       "    <tr>\n",
       "      <th>5</th>\n",
       "      <td>Num_H_Acceptors</td>\n",
       "      <td>float64</td>\n",
       "      <td>0</td>\n",
       "      <td>15</td>\n",
       "      <td>5.0</td>\n",
       "      <td>2.0</td>\n",
       "      <td>5.0</td>\n",
       "    </tr>\n",
       "    <tr>\n",
       "      <th>6</th>\n",
       "      <td>Num_H_Donors</td>\n",
       "      <td>float64</td>\n",
       "      <td>0</td>\n",
       "      <td>10</td>\n",
       "      <td>2.0</td>\n",
       "      <td>1.0</td>\n",
       "      <td>0.0</td>\n",
       "    </tr>\n",
       "    <tr>\n",
       "      <th>7</th>\n",
       "      <td>Num_RotatableBonds</td>\n",
       "      <td>float64</td>\n",
       "      <td>0</td>\n",
       "      <td>21</td>\n",
       "      <td>8.0</td>\n",
       "      <td>2.0</td>\n",
       "      <td>3.0</td>\n",
       "    </tr>\n",
       "    <tr>\n",
       "      <th>8</th>\n",
       "      <td>LogD</td>\n",
       "      <td>float64</td>\n",
       "      <td>0</td>\n",
       "      <td>2910</td>\n",
       "      <td>3.259</td>\n",
       "      <td>2.172</td>\n",
       "      <td>1.585</td>\n",
       "    </tr>\n",
       "    <tr>\n",
       "      <th>9</th>\n",
       "      <td>Molecular_PolarSurfaceArea</td>\n",
       "      <td>float64</td>\n",
       "      <td>0</td>\n",
       "      <td>2378</td>\n",
       "      <td>117.37</td>\n",
       "      <td>73.47</td>\n",
       "      <td>62.45</td>\n",
       "    </tr>\n",
       "  </tbody>\n",
       "</table>\n",
       "</div>"
      ],
      "text/plain": [
       "                      feature data type  num of missing value  \\\n",
       "0                         MLM   float64                   483   \n",
       "1                         HLM   float64                   483   \n",
       "2                      SMILES    object                     0   \n",
       "3                       AlogP   float64                     0   \n",
       "4            Molecular_Weight   float64                     0   \n",
       "5             Num_H_Acceptors   float64                     0   \n",
       "6                Num_H_Donors   float64                     0   \n",
       "7          Num_RotatableBonds   float64                     0   \n",
       "8                        LogD   float64                     0   \n",
       "9  Molecular_PolarSurfaceArea   float64                     0   \n",
       "\n",
       "   num of unique value                                      First value  \\\n",
       "0                 2720                                            26.01   \n",
       "1                 2766                                            50.68   \n",
       "2                 3954  CCOc1ccc(CNC(=O)c2cc(-c3sc(C)nc3C)n[nH]2)cc1OCC   \n",
       "3                 2837                                            3.259   \n",
       "4                 3425                                          400.495   \n",
       "5                   15                                              5.0   \n",
       "6                   10                                              2.0   \n",
       "7                   21                                              8.0   \n",
       "8                 2910                                            3.259   \n",
       "9                 2378                                           117.37   \n",
       "\n",
       "                           Second value                       Third value  \n",
       "0                                 29.27                             5.586  \n",
       "1                                 50.59                            80.892  \n",
       "2  Cc1nc(C)c(CN2CC(C)C(=O)Nc3ccccc32)s1  CCCN1CCN(c2nn3nnnc3c3ccccc23)CC1  \n",
       "3                                 2.169                             1.593  \n",
       "4                               301.407                           297.358  \n",
       "5                                   2.0                               5.0  \n",
       "6                                   1.0                               0.0  \n",
       "7                                   2.0                               3.0  \n",
       "8                                 2.172                             1.585  \n",
       "9                                 73.47                             62.45  "
      ]
     },
     "execution_count": 14,
     "metadata": {},
     "output_type": "execute_result"
    }
   ],
   "source": [
    "def resumetable(df):\n",
    "    print(f'dataset size: {df.shape}')\n",
    "    summary = pd.DataFrame(df.dtypes, columns=['data type'])\n",
    "    summary = summary.reset_index()\n",
    "    summary = summary.rename(columns={'index': 'feature'})\n",
    "    summary['num of missing value'] = df.isnull().sum().values\n",
    "    summary['num of unique value'] = df.nunique().values\n",
    "    summary['First value'] = df.loc[0].values\n",
    "    summary['Second value'] = df.loc[1].values\n",
    "    summary['Third value'] = df.loc[2].values\n",
    "    return summary\n",
    "\n",
    "resumetable(df_total)"
   ]
  },
  {
   "cell_type": "code",
   "execution_count": 15,
   "metadata": {},
   "outputs": [
    {
     "data": {
      "text/html": [
       "<div>\n",
       "<style scoped>\n",
       "    .dataframe tbody tr th:only-of-type {\n",
       "        vertical-align: middle;\n",
       "    }\n",
       "\n",
       "    .dataframe tbody tr th {\n",
       "        vertical-align: top;\n",
       "    }\n",
       "\n",
       "    .dataframe thead th {\n",
       "        text-align: right;\n",
       "    }\n",
       "</style>\n",
       "<table border=\"1\" class=\"dataframe\">\n",
       "  <thead>\n",
       "    <tr style=\"text-align: right;\">\n",
       "      <th></th>\n",
       "      <th>MLM</th>\n",
       "      <th>HLM</th>\n",
       "      <th>SMILES</th>\n",
       "      <th>AlogP</th>\n",
       "      <th>Molecular_Weight</th>\n",
       "      <th>Num_H_Acceptors</th>\n",
       "      <th>Num_H_Donors</th>\n",
       "      <th>Num_RotatableBonds</th>\n",
       "      <th>LogD</th>\n",
       "      <th>Molecular_PolarSurfaceArea</th>\n",
       "      <th>C</th>\n",
       "      <th>O</th>\n",
       "      <th>N</th>\n",
       "      <th>S</th>\n",
       "      <th>F</th>\n",
       "      <th>Cl</th>\n",
       "      <th>Br</th>\n",
       "      <th>Se</th>\n",
       "      <th>I</th>\n",
       "      <th>P</th>\n",
       "    </tr>\n",
       "  </thead>\n",
       "  <tbody>\n",
       "    <tr>\n",
       "      <th>0</th>\n",
       "      <td>26.010</td>\n",
       "      <td>50.680</td>\n",
       "      <td>CCOc1ccc(CNC(=O)c2cc(-c3sc(C)nc3C)n[nH]2)cc1OCC</td>\n",
       "      <td>3.259</td>\n",
       "      <td>400.495</td>\n",
       "      <td>5.0</td>\n",
       "      <td>2.0</td>\n",
       "      <td>8.0</td>\n",
       "      <td>3.259</td>\n",
       "      <td>117.37</td>\n",
       "      <td>20</td>\n",
       "      <td>3</td>\n",
       "      <td>4</td>\n",
       "      <td>1</td>\n",
       "      <td>0</td>\n",
       "      <td>0</td>\n",
       "      <td>0</td>\n",
       "      <td>0</td>\n",
       "      <td>0</td>\n",
       "      <td>0</td>\n",
       "    </tr>\n",
       "    <tr>\n",
       "      <th>1</th>\n",
       "      <td>29.270</td>\n",
       "      <td>50.590</td>\n",
       "      <td>Cc1nc(C)c(CN2CC(C)C(=O)Nc3ccccc32)s1</td>\n",
       "      <td>2.169</td>\n",
       "      <td>301.407</td>\n",
       "      <td>2.0</td>\n",
       "      <td>1.0</td>\n",
       "      <td>2.0</td>\n",
       "      <td>2.172</td>\n",
       "      <td>73.47</td>\n",
       "      <td>16</td>\n",
       "      <td>1</td>\n",
       "      <td>3</td>\n",
       "      <td>1</td>\n",
       "      <td>0</td>\n",
       "      <td>0</td>\n",
       "      <td>0</td>\n",
       "      <td>0</td>\n",
       "      <td>0</td>\n",
       "      <td>0</td>\n",
       "    </tr>\n",
       "    <tr>\n",
       "      <th>2</th>\n",
       "      <td>5.586</td>\n",
       "      <td>80.892</td>\n",
       "      <td>CCCN1CCN(c2nn3nnnc3c3ccccc23)CC1</td>\n",
       "      <td>1.593</td>\n",
       "      <td>297.358</td>\n",
       "      <td>5.0</td>\n",
       "      <td>0.0</td>\n",
       "      <td>3.0</td>\n",
       "      <td>1.585</td>\n",
       "      <td>62.45</td>\n",
       "      <td>15</td>\n",
       "      <td>0</td>\n",
       "      <td>7</td>\n",
       "      <td>0</td>\n",
       "      <td>0</td>\n",
       "      <td>0</td>\n",
       "      <td>0</td>\n",
       "      <td>0</td>\n",
       "      <td>0</td>\n",
       "      <td>0</td>\n",
       "    </tr>\n",
       "    <tr>\n",
       "      <th>3</th>\n",
       "      <td>5.710</td>\n",
       "      <td>2.000</td>\n",
       "      <td>Cc1ccc(-c2ccc(-n3nc(C)c(S(=O)(=O)N4CCN(C5CCCCC...</td>\n",
       "      <td>4.771</td>\n",
       "      <td>494.652</td>\n",
       "      <td>6.0</td>\n",
       "      <td>0.0</td>\n",
       "      <td>5.0</td>\n",
       "      <td>3.475</td>\n",
       "      <td>92.60</td>\n",
       "      <td>26</td>\n",
       "      <td>2</td>\n",
       "      <td>6</td>\n",
       "      <td>1</td>\n",
       "      <td>0</td>\n",
       "      <td>0</td>\n",
       "      <td>0</td>\n",
       "      <td>0</td>\n",
       "      <td>0</td>\n",
       "      <td>0</td>\n",
       "    </tr>\n",
       "    <tr>\n",
       "      <th>4</th>\n",
       "      <td>93.270</td>\n",
       "      <td>99.990</td>\n",
       "      <td>Cc1ccc2c(c1)N(C(=O)c1ccncc1)CC(C)O2</td>\n",
       "      <td>2.335</td>\n",
       "      <td>268.310</td>\n",
       "      <td>3.0</td>\n",
       "      <td>0.0</td>\n",
       "      <td>1.0</td>\n",
       "      <td>2.337</td>\n",
       "      <td>42.43</td>\n",
       "      <td>16</td>\n",
       "      <td>2</td>\n",
       "      <td>2</td>\n",
       "      <td>0</td>\n",
       "      <td>0</td>\n",
       "      <td>0</td>\n",
       "      <td>0</td>\n",
       "      <td>0</td>\n",
       "      <td>0</td>\n",
       "      <td>0</td>\n",
       "    </tr>\n",
       "    <tr>\n",
       "      <th>...</th>\n",
       "      <td>...</td>\n",
       "      <td>...</td>\n",
       "      <td>...</td>\n",
       "      <td>...</td>\n",
       "      <td>...</td>\n",
       "      <td>...</td>\n",
       "      <td>...</td>\n",
       "      <td>...</td>\n",
       "      <td>...</td>\n",
       "      <td>...</td>\n",
       "      <td>...</td>\n",
       "      <td>...</td>\n",
       "      <td>...</td>\n",
       "      <td>...</td>\n",
       "      <td>...</td>\n",
       "      <td>...</td>\n",
       "      <td>...</td>\n",
       "      <td>...</td>\n",
       "      <td>...</td>\n",
       "      <td>...</td>\n",
       "    </tr>\n",
       "    <tr>\n",
       "      <th>3949</th>\n",
       "      <td>NaN</td>\n",
       "      <td>NaN</td>\n",
       "      <td>CCc1noc(CC)c1CC(=O)NCC1(CC)CCCCC1</td>\n",
       "      <td>4.207</td>\n",
       "      <td>306.443</td>\n",
       "      <td>2.0</td>\n",
       "      <td>1.0</td>\n",
       "      <td>7.0</td>\n",
       "      <td>4.207</td>\n",
       "      <td>55.13</td>\n",
       "      <td>18</td>\n",
       "      <td>2</td>\n",
       "      <td>2</td>\n",
       "      <td>0</td>\n",
       "      <td>0</td>\n",
       "      <td>0</td>\n",
       "      <td>0</td>\n",
       "      <td>0</td>\n",
       "      <td>0</td>\n",
       "      <td>0</td>\n",
       "    </tr>\n",
       "    <tr>\n",
       "      <th>3950</th>\n",
       "      <td>NaN</td>\n",
       "      <td>NaN</td>\n",
       "      <td>CC(=O)N1CCC2(CC1)OC(=O)C(C)=C2C(=O)N1CCN(C)CC1</td>\n",
       "      <td>-0.608</td>\n",
       "      <td>335.398</td>\n",
       "      <td>5.0</td>\n",
       "      <td>0.0</td>\n",
       "      <td>1.0</td>\n",
       "      <td>-1.736</td>\n",
       "      <td>70.16</td>\n",
       "      <td>17</td>\n",
       "      <td>4</td>\n",
       "      <td>3</td>\n",
       "      <td>0</td>\n",
       "      <td>0</td>\n",
       "      <td>0</td>\n",
       "      <td>0</td>\n",
       "      <td>0</td>\n",
       "      <td>0</td>\n",
       "      <td>0</td>\n",
       "    </tr>\n",
       "    <tr>\n",
       "      <th>3951</th>\n",
       "      <td>NaN</td>\n",
       "      <td>NaN</td>\n",
       "      <td>CC(C)NC(=O)CN1C(=O)c2ccccc2N2C(=O)c3ccccc3C12</td>\n",
       "      <td>1.792</td>\n",
       "      <td>349.383</td>\n",
       "      <td>3.0</td>\n",
       "      <td>1.0</td>\n",
       "      <td>3.0</td>\n",
       "      <td>1.792</td>\n",
       "      <td>69.72</td>\n",
       "      <td>20</td>\n",
       "      <td>3</td>\n",
       "      <td>3</td>\n",
       "      <td>0</td>\n",
       "      <td>0</td>\n",
       "      <td>0</td>\n",
       "      <td>0</td>\n",
       "      <td>0</td>\n",
       "      <td>0</td>\n",
       "      <td>0</td>\n",
       "    </tr>\n",
       "    <tr>\n",
       "      <th>3952</th>\n",
       "      <td>NaN</td>\n",
       "      <td>NaN</td>\n",
       "      <td>Cn1cc(Br)c(=O)c(NC(=O)c2ccc(O)cc2F)c1</td>\n",
       "      <td>0.790</td>\n",
       "      <td>341.132</td>\n",
       "      <td>3.0</td>\n",
       "      <td>2.0</td>\n",
       "      <td>2.0</td>\n",
       "      <td>0.423</td>\n",
       "      <td>69.64</td>\n",
       "      <td>13</td>\n",
       "      <td>3</td>\n",
       "      <td>2</td>\n",
       "      <td>0</td>\n",
       "      <td>1</td>\n",
       "      <td>0</td>\n",
       "      <td>1</td>\n",
       "      <td>0</td>\n",
       "      <td>0</td>\n",
       "      <td>0</td>\n",
       "    </tr>\n",
       "    <tr>\n",
       "      <th>3953</th>\n",
       "      <td>NaN</td>\n",
       "      <td>NaN</td>\n",
       "      <td>CC(C)C(CCN1CCN(C)CC1)c1ccco1</td>\n",
       "      <td>2.782</td>\n",
       "      <td>250.380</td>\n",
       "      <td>2.0</td>\n",
       "      <td>0.0</td>\n",
       "      <td>5.0</td>\n",
       "      <td>0.606</td>\n",
       "      <td>19.62</td>\n",
       "      <td>15</td>\n",
       "      <td>1</td>\n",
       "      <td>2</td>\n",
       "      <td>0</td>\n",
       "      <td>0</td>\n",
       "      <td>0</td>\n",
       "      <td>0</td>\n",
       "      <td>0</td>\n",
       "      <td>0</td>\n",
       "      <td>0</td>\n",
       "    </tr>\n",
       "  </tbody>\n",
       "</table>\n",
       "<p>3954 rows × 20 columns</p>\n",
       "</div>"
      ],
      "text/plain": [
       "         MLM     HLM                                             SMILES  \\\n",
       "0     26.010  50.680    CCOc1ccc(CNC(=O)c2cc(-c3sc(C)nc3C)n[nH]2)cc1OCC   \n",
       "1     29.270  50.590               Cc1nc(C)c(CN2CC(C)C(=O)Nc3ccccc32)s1   \n",
       "2      5.586  80.892                   CCCN1CCN(c2nn3nnnc3c3ccccc23)CC1   \n",
       "3      5.710   2.000  Cc1ccc(-c2ccc(-n3nc(C)c(S(=O)(=O)N4CCN(C5CCCCC...   \n",
       "4     93.270  99.990                Cc1ccc2c(c1)N(C(=O)c1ccncc1)CC(C)O2   \n",
       "...      ...     ...                                                ...   \n",
       "3949     NaN     NaN                  CCc1noc(CC)c1CC(=O)NCC1(CC)CCCCC1   \n",
       "3950     NaN     NaN     CC(=O)N1CCC2(CC1)OC(=O)C(C)=C2C(=O)N1CCN(C)CC1   \n",
       "3951     NaN     NaN      CC(C)NC(=O)CN1C(=O)c2ccccc2N2C(=O)c3ccccc3C12   \n",
       "3952     NaN     NaN              Cn1cc(Br)c(=O)c(NC(=O)c2ccc(O)cc2F)c1   \n",
       "3953     NaN     NaN                       CC(C)C(CCN1CCN(C)CC1)c1ccco1   \n",
       "\n",
       "      AlogP  Molecular_Weight  Num_H_Acceptors  Num_H_Donors  \\\n",
       "0     3.259           400.495              5.0           2.0   \n",
       "1     2.169           301.407              2.0           1.0   \n",
       "2     1.593           297.358              5.0           0.0   \n",
       "3     4.771           494.652              6.0           0.0   \n",
       "4     2.335           268.310              3.0           0.0   \n",
       "...     ...               ...              ...           ...   \n",
       "3949  4.207           306.443              2.0           1.0   \n",
       "3950 -0.608           335.398              5.0           0.0   \n",
       "3951  1.792           349.383              3.0           1.0   \n",
       "3952  0.790           341.132              3.0           2.0   \n",
       "3953  2.782           250.380              2.0           0.0   \n",
       "\n",
       "      Num_RotatableBonds   LogD  Molecular_PolarSurfaceArea   C  O  N  S  F  \\\n",
       "0                    8.0  3.259                      117.37  20  3  4  1  0   \n",
       "1                    2.0  2.172                       73.47  16  1  3  1  0   \n",
       "2                    3.0  1.585                       62.45  15  0  7  0  0   \n",
       "3                    5.0  3.475                       92.60  26  2  6  1  0   \n",
       "4                    1.0  2.337                       42.43  16  2  2  0  0   \n",
       "...                  ...    ...                         ...  .. .. .. .. ..   \n",
       "3949                 7.0  4.207                       55.13  18  2  2  0  0   \n",
       "3950                 1.0 -1.736                       70.16  17  4  3  0  0   \n",
       "3951                 3.0  1.792                       69.72  20  3  3  0  0   \n",
       "3952                 2.0  0.423                       69.64  13  3  2  0  1   \n",
       "3953                 5.0  0.606                       19.62  15  1  2  0  0   \n",
       "\n",
       "      Cl  Br  Se  I  P  \n",
       "0      0   0   0  0  0  \n",
       "1      0   0   0  0  0  \n",
       "2      0   0   0  0  0  \n",
       "3      0   0   0  0  0  \n",
       "4      0   0   0  0  0  \n",
       "...   ..  ..  .. .. ..  \n",
       "3949   0   0   0  0  0  \n",
       "3950   0   0   0  0  0  \n",
       "3951   0   0   0  0  0  \n",
       "3952   0   1   0  0  0  \n",
       "3953   0   0   0  0  0  \n",
       "\n",
       "[3954 rows x 20 columns]"
      ]
     },
     "execution_count": 15,
     "metadata": {},
     "output_type": "execute_result"
    }
   ],
   "source": [
    "from rdkit import Chem, DataStructs\n",
    "from rdkit.Chem import Draw, Descriptors, AllChem\n",
    "from rdkit.Chem.Draw import IPythonConsole\n",
    "from collections import Counter\n",
    "\n",
    "def count_atoms(smiles):\n",
    "    mol = Chem.MolFromSmiles(smiles)\n",
    "    if mol is not None:\n",
    "        atom_symbols = [atom.GetSymbol() for atom in mol.GetAtoms()]\n",
    "        atom_counts = dict(Counter(atom_symbols))\n",
    "        return atom_counts\n",
    "    else:\n",
    "        return {}\n",
    "\n",
    "df_total['Atom_Counts'] = df_total['SMILES'].apply(count_atoms)\n",
    "atom_counts_df = pd.DataFrame(df_total['Atom_Counts'].tolist()).fillna(0).astype(int)\n",
    "df_total = pd.concat([df_total, atom_counts_df], axis=1)\n",
    "df_total = df_total.drop(columns=['Atom_Counts'])\n",
    "\n",
    "df_total"
   ]
  },
  {
   "cell_type": "code",
   "execution_count": 16,
   "metadata": {},
   "outputs": [
    {
     "data": {
      "text/html": [
       "<div>\n",
       "<style scoped>\n",
       "    .dataframe tbody tr th:only-of-type {\n",
       "        vertical-align: middle;\n",
       "    }\n",
       "\n",
       "    .dataframe tbody tr th {\n",
       "        vertical-align: top;\n",
       "    }\n",
       "\n",
       "    .dataframe thead th {\n",
       "        text-align: right;\n",
       "    }\n",
       "</style>\n",
       "<table border=\"1\" class=\"dataframe\">\n",
       "  <thead>\n",
       "    <tr style=\"text-align: right;\">\n",
       "      <th></th>\n",
       "      <th>MLM</th>\n",
       "      <th>HLM</th>\n",
       "      <th>SMILES</th>\n",
       "      <th>AlogP</th>\n",
       "      <th>Molecular_Weight</th>\n",
       "      <th>Num_H_Acceptors</th>\n",
       "      <th>Num_H_Donors</th>\n",
       "      <th>Num_RotatableBonds</th>\n",
       "      <th>LogD</th>\n",
       "      <th>Molecular_PolarSurfaceArea</th>\n",
       "      <th>...</th>\n",
       "      <th>F</th>\n",
       "      <th>Cl</th>\n",
       "      <th>Br</th>\n",
       "      <th>Se</th>\n",
       "      <th>I</th>\n",
       "      <th>P</th>\n",
       "      <th>Bond_1.0</th>\n",
       "      <th>Bond_1.5</th>\n",
       "      <th>Bond_2.0</th>\n",
       "      <th>Bond_3.0</th>\n",
       "    </tr>\n",
       "  </thead>\n",
       "  <tbody>\n",
       "    <tr>\n",
       "      <th>0</th>\n",
       "      <td>26.010</td>\n",
       "      <td>50.680</td>\n",
       "      <td>CCOc1ccc(CNC(=O)c2cc(-c3sc(C)nc3C)n[nH]2)cc1OCC</td>\n",
       "      <td>3.259</td>\n",
       "      <td>400.495</td>\n",
       "      <td>5.0</td>\n",
       "      <td>2.0</td>\n",
       "      <td>8.0</td>\n",
       "      <td>3.259</td>\n",
       "      <td>117.37</td>\n",
       "      <td>...</td>\n",
       "      <td>0</td>\n",
       "      <td>0</td>\n",
       "      <td>0</td>\n",
       "      <td>0</td>\n",
       "      <td>0</td>\n",
       "      <td>0</td>\n",
       "      <td>13</td>\n",
       "      <td>16</td>\n",
       "      <td>1</td>\n",
       "      <td>0</td>\n",
       "    </tr>\n",
       "    <tr>\n",
       "      <th>1</th>\n",
       "      <td>29.270</td>\n",
       "      <td>50.590</td>\n",
       "      <td>Cc1nc(C)c(CN2CC(C)C(=O)Nc3ccccc32)s1</td>\n",
       "      <td>2.169</td>\n",
       "      <td>301.407</td>\n",
       "      <td>2.0</td>\n",
       "      <td>1.0</td>\n",
       "      <td>2.0</td>\n",
       "      <td>2.172</td>\n",
       "      <td>73.47</td>\n",
       "      <td>...</td>\n",
       "      <td>0</td>\n",
       "      <td>0</td>\n",
       "      <td>0</td>\n",
       "      <td>0</td>\n",
       "      <td>0</td>\n",
       "      <td>0</td>\n",
       "      <td>11</td>\n",
       "      <td>11</td>\n",
       "      <td>1</td>\n",
       "      <td>0</td>\n",
       "    </tr>\n",
       "    <tr>\n",
       "      <th>2</th>\n",
       "      <td>5.586</td>\n",
       "      <td>80.892</td>\n",
       "      <td>CCCN1CCN(c2nn3nnnc3c3ccccc23)CC1</td>\n",
       "      <td>1.593</td>\n",
       "      <td>297.358</td>\n",
       "      <td>5.0</td>\n",
       "      <td>0.0</td>\n",
       "      <td>3.0</td>\n",
       "      <td>1.585</td>\n",
       "      <td>62.45</td>\n",
       "      <td>...</td>\n",
       "      <td>0</td>\n",
       "      <td>0</td>\n",
       "      <td>0</td>\n",
       "      <td>0</td>\n",
       "      <td>0</td>\n",
       "      <td>0</td>\n",
       "      <td>10</td>\n",
       "      <td>15</td>\n",
       "      <td>0</td>\n",
       "      <td>0</td>\n",
       "    </tr>\n",
       "    <tr>\n",
       "      <th>3</th>\n",
       "      <td>5.710</td>\n",
       "      <td>2.000</td>\n",
       "      <td>Cc1ccc(-c2ccc(-n3nc(C)c(S(=O)(=O)N4CCN(C5CCCCC...</td>\n",
       "      <td>4.771</td>\n",
       "      <td>494.652</td>\n",
       "      <td>6.0</td>\n",
       "      <td>0.0</td>\n",
       "      <td>5.0</td>\n",
       "      <td>3.475</td>\n",
       "      <td>92.60</td>\n",
       "      <td>...</td>\n",
       "      <td>0</td>\n",
       "      <td>0</td>\n",
       "      <td>0</td>\n",
       "      <td>0</td>\n",
       "      <td>0</td>\n",
       "      <td>0</td>\n",
       "      <td>20</td>\n",
       "      <td>17</td>\n",
       "      <td>2</td>\n",
       "      <td>0</td>\n",
       "    </tr>\n",
       "    <tr>\n",
       "      <th>4</th>\n",
       "      <td>93.270</td>\n",
       "      <td>99.990</td>\n",
       "      <td>Cc1ccc2c(c1)N(C(=O)c1ccncc1)CC(C)O2</td>\n",
       "      <td>2.335</td>\n",
       "      <td>268.310</td>\n",
       "      <td>3.0</td>\n",
       "      <td>0.0</td>\n",
       "      <td>1.0</td>\n",
       "      <td>2.337</td>\n",
       "      <td>42.43</td>\n",
       "      <td>...</td>\n",
       "      <td>0</td>\n",
       "      <td>0</td>\n",
       "      <td>0</td>\n",
       "      <td>0</td>\n",
       "      <td>0</td>\n",
       "      <td>0</td>\n",
       "      <td>9</td>\n",
       "      <td>12</td>\n",
       "      <td>1</td>\n",
       "      <td>0</td>\n",
       "    </tr>\n",
       "    <tr>\n",
       "      <th>...</th>\n",
       "      <td>...</td>\n",
       "      <td>...</td>\n",
       "      <td>...</td>\n",
       "      <td>...</td>\n",
       "      <td>...</td>\n",
       "      <td>...</td>\n",
       "      <td>...</td>\n",
       "      <td>...</td>\n",
       "      <td>...</td>\n",
       "      <td>...</td>\n",
       "      <td>...</td>\n",
       "      <td>...</td>\n",
       "      <td>...</td>\n",
       "      <td>...</td>\n",
       "      <td>...</td>\n",
       "      <td>...</td>\n",
       "      <td>...</td>\n",
       "      <td>...</td>\n",
       "      <td>...</td>\n",
       "      <td>...</td>\n",
       "      <td>...</td>\n",
       "    </tr>\n",
       "    <tr>\n",
       "      <th>3949</th>\n",
       "      <td>NaN</td>\n",
       "      <td>NaN</td>\n",
       "      <td>CCc1noc(CC)c1CC(=O)NCC1(CC)CCCCC1</td>\n",
       "      <td>4.207</td>\n",
       "      <td>306.443</td>\n",
       "      <td>2.0</td>\n",
       "      <td>1.0</td>\n",
       "      <td>7.0</td>\n",
       "      <td>4.207</td>\n",
       "      <td>55.13</td>\n",
       "      <td>...</td>\n",
       "      <td>0</td>\n",
       "      <td>0</td>\n",
       "      <td>0</td>\n",
       "      <td>0</td>\n",
       "      <td>0</td>\n",
       "      <td>0</td>\n",
       "      <td>17</td>\n",
       "      <td>5</td>\n",
       "      <td>1</td>\n",
       "      <td>0</td>\n",
       "    </tr>\n",
       "    <tr>\n",
       "      <th>3950</th>\n",
       "      <td>NaN</td>\n",
       "      <td>NaN</td>\n",
       "      <td>CC(=O)N1CCC2(CC1)OC(=O)C(C)=C2C(=O)N1CCN(C)CC1</td>\n",
       "      <td>-0.608</td>\n",
       "      <td>335.398</td>\n",
       "      <td>5.0</td>\n",
       "      <td>0.0</td>\n",
       "      <td>1.0</td>\n",
       "      <td>-1.736</td>\n",
       "      <td>70.16</td>\n",
       "      <td>...</td>\n",
       "      <td>0</td>\n",
       "      <td>0</td>\n",
       "      <td>0</td>\n",
       "      <td>0</td>\n",
       "      <td>0</td>\n",
       "      <td>0</td>\n",
       "      <td>22</td>\n",
       "      <td>0</td>\n",
       "      <td>4</td>\n",
       "      <td>0</td>\n",
       "    </tr>\n",
       "    <tr>\n",
       "      <th>3951</th>\n",
       "      <td>NaN</td>\n",
       "      <td>NaN</td>\n",
       "      <td>CC(C)NC(=O)CN1C(=O)c2ccccc2N2C(=O)c3ccccc3C12</td>\n",
       "      <td>1.792</td>\n",
       "      <td>349.383</td>\n",
       "      <td>3.0</td>\n",
       "      <td>1.0</td>\n",
       "      <td>3.0</td>\n",
       "      <td>1.792</td>\n",
       "      <td>69.72</td>\n",
       "      <td>...</td>\n",
       "      <td>0</td>\n",
       "      <td>0</td>\n",
       "      <td>0</td>\n",
       "      <td>0</td>\n",
       "      <td>0</td>\n",
       "      <td>0</td>\n",
       "      <td>14</td>\n",
       "      <td>12</td>\n",
       "      <td>3</td>\n",
       "      <td>0</td>\n",
       "    </tr>\n",
       "    <tr>\n",
       "      <th>3952</th>\n",
       "      <td>NaN</td>\n",
       "      <td>NaN</td>\n",
       "      <td>Cn1cc(Br)c(=O)c(NC(=O)c2ccc(O)cc2F)c1</td>\n",
       "      <td>0.790</td>\n",
       "      <td>341.132</td>\n",
       "      <td>3.0</td>\n",
       "      <td>2.0</td>\n",
       "      <td>2.0</td>\n",
       "      <td>0.423</td>\n",
       "      <td>69.64</td>\n",
       "      <td>...</td>\n",
       "      <td>1</td>\n",
       "      <td>0</td>\n",
       "      <td>1</td>\n",
       "      <td>0</td>\n",
       "      <td>0</td>\n",
       "      <td>0</td>\n",
       "      <td>7</td>\n",
       "      <td>12</td>\n",
       "      <td>2</td>\n",
       "      <td>0</td>\n",
       "    </tr>\n",
       "    <tr>\n",
       "      <th>3953</th>\n",
       "      <td>NaN</td>\n",
       "      <td>NaN</td>\n",
       "      <td>CC(C)C(CCN1CCN(C)CC1)c1ccco1</td>\n",
       "      <td>2.782</td>\n",
       "      <td>250.380</td>\n",
       "      <td>2.0</td>\n",
       "      <td>0.0</td>\n",
       "      <td>5.0</td>\n",
       "      <td>0.606</td>\n",
       "      <td>19.62</td>\n",
       "      <td>...</td>\n",
       "      <td>0</td>\n",
       "      <td>0</td>\n",
       "      <td>0</td>\n",
       "      <td>0</td>\n",
       "      <td>0</td>\n",
       "      <td>0</td>\n",
       "      <td>14</td>\n",
       "      <td>5</td>\n",
       "      <td>0</td>\n",
       "      <td>0</td>\n",
       "    </tr>\n",
       "  </tbody>\n",
       "</table>\n",
       "<p>3954 rows × 24 columns</p>\n",
       "</div>"
      ],
      "text/plain": [
       "         MLM     HLM                                             SMILES  \\\n",
       "0     26.010  50.680    CCOc1ccc(CNC(=O)c2cc(-c3sc(C)nc3C)n[nH]2)cc1OCC   \n",
       "1     29.270  50.590               Cc1nc(C)c(CN2CC(C)C(=O)Nc3ccccc32)s1   \n",
       "2      5.586  80.892                   CCCN1CCN(c2nn3nnnc3c3ccccc23)CC1   \n",
       "3      5.710   2.000  Cc1ccc(-c2ccc(-n3nc(C)c(S(=O)(=O)N4CCN(C5CCCCC...   \n",
       "4     93.270  99.990                Cc1ccc2c(c1)N(C(=O)c1ccncc1)CC(C)O2   \n",
       "...      ...     ...                                                ...   \n",
       "3949     NaN     NaN                  CCc1noc(CC)c1CC(=O)NCC1(CC)CCCCC1   \n",
       "3950     NaN     NaN     CC(=O)N1CCC2(CC1)OC(=O)C(C)=C2C(=O)N1CCN(C)CC1   \n",
       "3951     NaN     NaN      CC(C)NC(=O)CN1C(=O)c2ccccc2N2C(=O)c3ccccc3C12   \n",
       "3952     NaN     NaN              Cn1cc(Br)c(=O)c(NC(=O)c2ccc(O)cc2F)c1   \n",
       "3953     NaN     NaN                       CC(C)C(CCN1CCN(C)CC1)c1ccco1   \n",
       "\n",
       "      AlogP  Molecular_Weight  Num_H_Acceptors  Num_H_Donors  \\\n",
       "0     3.259           400.495              5.0           2.0   \n",
       "1     2.169           301.407              2.0           1.0   \n",
       "2     1.593           297.358              5.0           0.0   \n",
       "3     4.771           494.652              6.0           0.0   \n",
       "4     2.335           268.310              3.0           0.0   \n",
       "...     ...               ...              ...           ...   \n",
       "3949  4.207           306.443              2.0           1.0   \n",
       "3950 -0.608           335.398              5.0           0.0   \n",
       "3951  1.792           349.383              3.0           1.0   \n",
       "3952  0.790           341.132              3.0           2.0   \n",
       "3953  2.782           250.380              2.0           0.0   \n",
       "\n",
       "      Num_RotatableBonds   LogD  Molecular_PolarSurfaceArea  ...  F  Cl  Br  \\\n",
       "0                    8.0  3.259                      117.37  ...  0   0   0   \n",
       "1                    2.0  2.172                       73.47  ...  0   0   0   \n",
       "2                    3.0  1.585                       62.45  ...  0   0   0   \n",
       "3                    5.0  3.475                       92.60  ...  0   0   0   \n",
       "4                    1.0  2.337                       42.43  ...  0   0   0   \n",
       "...                  ...    ...                         ...  ... ..  ..  ..   \n",
       "3949                 7.0  4.207                       55.13  ...  0   0   0   \n",
       "3950                 1.0 -1.736                       70.16  ...  0   0   0   \n",
       "3951                 3.0  1.792                       69.72  ...  0   0   0   \n",
       "3952                 2.0  0.423                       69.64  ...  1   0   1   \n",
       "3953                 5.0  0.606                       19.62  ...  0   0   0   \n",
       "\n",
       "      Se  I  P  Bond_1.0  Bond_1.5  Bond_2.0  Bond_3.0  \n",
       "0      0  0  0        13        16         1         0  \n",
       "1      0  0  0        11        11         1         0  \n",
       "2      0  0  0        10        15         0         0  \n",
       "3      0  0  0        20        17         2         0  \n",
       "4      0  0  0         9        12         1         0  \n",
       "...   .. .. ..       ...       ...       ...       ...  \n",
       "3949   0  0  0        17         5         1         0  \n",
       "3950   0  0  0        22         0         4         0  \n",
       "3951   0  0  0        14        12         3         0  \n",
       "3952   0  0  0         7        12         2         0  \n",
       "3953   0  0  0        14         5         0         0  \n",
       "\n",
       "[3954 rows x 24 columns]"
      ]
     },
     "execution_count": 16,
     "metadata": {},
     "output_type": "execute_result"
    }
   ],
   "source": [
    "def bond_frequency(smiles):\n",
    "    mol = Chem.MolFromSmiles(smiles)\n",
    "    if mol is not None:\n",
    "        bonds = mol.GetBonds()\n",
    "        bond_counts = [bond.GetBondTypeAsDouble() for bond in bonds]\n",
    "        bond_freq = dict(Counter(bond_counts))\n",
    "        return bond_freq\n",
    "    else:\n",
    "        return {}\n",
    "\n",
    "# dictionary 형태로 저장 및 pandas column 변환\n",
    "df_total['Bond_Frequencies'] = df_total['SMILES'].apply(bond_frequency)\n",
    "bond_freq_df = pd.DataFrame(df_total['Bond_Frequencies'].tolist()).fillna(0).astype(int)\n",
    "df_total = pd.concat([df_total, bond_freq_df], axis=1)\n",
    "\n",
    "# 추출한 특성 drop\n",
    "df_total = df_total.drop(columns=['Bond_Frequencies'])\n",
    "\n",
    "# 결합 column name 변경\n",
    "new_column_names = {\n",
    "    1.0: 'Bond_1.0',\n",
    "    1.5: 'Bond_1.5',\n",
    "    2.0: 'Bond_2.0',\n",
    "    3.0: 'Bond_3.0'\n",
    "}\n",
    "df_total = df_total.rename(columns=new_column_names)\n",
    "\n",
    "df_total"
   ]
  },
  {
   "cell_type": "markdown",
   "metadata": {},
   "source": [
    "## 특성 공학 추가"
   ]
  },
  {
   "cell_type": "code",
   "execution_count": 17,
   "metadata": {},
   "outputs": [
    {
     "data": {
      "text/html": [
       "<div>\n",
       "<style scoped>\n",
       "    .dataframe tbody tr th:only-of-type {\n",
       "        vertical-align: middle;\n",
       "    }\n",
       "\n",
       "    .dataframe tbody tr th {\n",
       "        vertical-align: top;\n",
       "    }\n",
       "\n",
       "    .dataframe thead th {\n",
       "        text-align: right;\n",
       "    }\n",
       "</style>\n",
       "<table border=\"1\" class=\"dataframe\">\n",
       "  <thead>\n",
       "    <tr style=\"text-align: right;\">\n",
       "      <th></th>\n",
       "      <th>MLM</th>\n",
       "      <th>HLM</th>\n",
       "      <th>SMILES</th>\n",
       "      <th>AlogP</th>\n",
       "      <th>Molecular_Weight</th>\n",
       "      <th>Num_H_Acceptors</th>\n",
       "      <th>Num_H_Donors</th>\n",
       "      <th>Num_RotatableBonds</th>\n",
       "      <th>LogD</th>\n",
       "      <th>Molecular_PolarSurfaceArea</th>\n",
       "      <th>...</th>\n",
       "      <th>F</th>\n",
       "      <th>Cl</th>\n",
       "      <th>Br</th>\n",
       "      <th>Se</th>\n",
       "      <th>I</th>\n",
       "      <th>P</th>\n",
       "      <th>Bond_1.0</th>\n",
       "      <th>Bond_1.5</th>\n",
       "      <th>Bond_2.0</th>\n",
       "      <th>Bond_3.0</th>\n",
       "    </tr>\n",
       "  </thead>\n",
       "  <tbody>\n",
       "    <tr>\n",
       "      <th>651</th>\n",
       "      <td>131.720</td>\n",
       "      <td>99.570</td>\n",
       "      <td>O=C(Nc1ccccc1)C1CCCN1C1=NS(=O)(=O)c2ccccc21</td>\n",
       "      <td>1.412</td>\n",
       "      <td>355.411</td>\n",
       "      <td>4.0</td>\n",
       "      <td>1.0</td>\n",
       "      <td>3.0</td>\n",
       "      <td>1.412</td>\n",
       "      <td>87.22</td>\n",
       "      <td>...</td>\n",
       "      <td>0</td>\n",
       "      <td>0</td>\n",
       "      <td>0</td>\n",
       "      <td>0</td>\n",
       "      <td>0</td>\n",
       "      <td>0</td>\n",
       "      <td>12</td>\n",
       "      <td>12</td>\n",
       "      <td>4</td>\n",
       "      <td>0</td>\n",
       "    </tr>\n",
       "    <tr>\n",
       "      <th>1076</th>\n",
       "      <td>3.820</td>\n",
       "      <td>106.510</td>\n",
       "      <td>COc1c(NC(=O)c2ccc[nH]2)cc(Cl)cc1C(=O)N(C)C</td>\n",
       "      <td>2.061</td>\n",
       "      <td>321.759</td>\n",
       "      <td>3.0</td>\n",
       "      <td>2.0</td>\n",
       "      <td>4.0</td>\n",
       "      <td>2.061</td>\n",
       "      <td>74.43</td>\n",
       "      <td>...</td>\n",
       "      <td>0</td>\n",
       "      <td>1</td>\n",
       "      <td>0</td>\n",
       "      <td>0</td>\n",
       "      <td>0</td>\n",
       "      <td>0</td>\n",
       "      <td>10</td>\n",
       "      <td>11</td>\n",
       "      <td>2</td>\n",
       "      <td>0</td>\n",
       "    </tr>\n",
       "    <tr>\n",
       "      <th>1564</th>\n",
       "      <td>1.745</td>\n",
       "      <td>135.336</td>\n",
       "      <td>CN(C)S(=O)(=O)CCNCc1ccc(-c2ccccc2)cc1</td>\n",
       "      <td>2.075</td>\n",
       "      <td>318.434</td>\n",
       "      <td>3.0</td>\n",
       "      <td>1.0</td>\n",
       "      <td>7.0</td>\n",
       "      <td>2.052</td>\n",
       "      <td>57.79</td>\n",
       "      <td>...</td>\n",
       "      <td>0</td>\n",
       "      <td>0</td>\n",
       "      <td>0</td>\n",
       "      <td>0</td>\n",
       "      <td>0</td>\n",
       "      <td>0</td>\n",
       "      <td>9</td>\n",
       "      <td>12</td>\n",
       "      <td>2</td>\n",
       "      <td>0</td>\n",
       "    </tr>\n",
       "    <tr>\n",
       "      <th>2373</th>\n",
       "      <td>86.878</td>\n",
       "      <td>107.323</td>\n",
       "      <td>CC(C)CCC1CCN(C(=O)C2CC(O)CN2)CC1</td>\n",
       "      <td>1.345</td>\n",
       "      <td>268.395</td>\n",
       "      <td>3.0</td>\n",
       "      <td>2.0</td>\n",
       "      <td>4.0</td>\n",
       "      <td>0.139</td>\n",
       "      <td>52.57</td>\n",
       "      <td>...</td>\n",
       "      <td>0</td>\n",
       "      <td>0</td>\n",
       "      <td>0</td>\n",
       "      <td>0</td>\n",
       "      <td>0</td>\n",
       "      <td>0</td>\n",
       "      <td>19</td>\n",
       "      <td>0</td>\n",
       "      <td>1</td>\n",
       "      <td>0</td>\n",
       "    </tr>\n",
       "    <tr>\n",
       "      <th>2546</th>\n",
       "      <td>98.550</td>\n",
       "      <td>103.720</td>\n",
       "      <td>Cc1nc(-c2c[nH]c(C(=O)N3CCOc4cc(F)ccc43)c2)cs1</td>\n",
       "      <td>2.876</td>\n",
       "      <td>343.375</td>\n",
       "      <td>3.0</td>\n",
       "      <td>1.0</td>\n",
       "      <td>2.0</td>\n",
       "      <td>3.032</td>\n",
       "      <td>86.46</td>\n",
       "      <td>...</td>\n",
       "      <td>1</td>\n",
       "      <td>0</td>\n",
       "      <td>0</td>\n",
       "      <td>0</td>\n",
       "      <td>0</td>\n",
       "      <td>0</td>\n",
       "      <td>10</td>\n",
       "      <td>16</td>\n",
       "      <td>1</td>\n",
       "      <td>0</td>\n",
       "    </tr>\n",
       "    <tr>\n",
       "      <th>2899</th>\n",
       "      <td>101.380</td>\n",
       "      <td>52.330</td>\n",
       "      <td>CCCC(=O)Nc1cc(C(=O)NC2CCCCC2)ccc1S(=O)(=O)c1cc...</td>\n",
       "      <td>4.906</td>\n",
       "      <td>462.989</td>\n",
       "      <td>4.0</td>\n",
       "      <td>2.0</td>\n",
       "      <td>7.0</td>\n",
       "      <td>4.906</td>\n",
       "      <td>100.72</td>\n",
       "      <td>...</td>\n",
       "      <td>0</td>\n",
       "      <td>1</td>\n",
       "      <td>0</td>\n",
       "      <td>0</td>\n",
       "      <td>0</td>\n",
       "      <td>0</td>\n",
       "      <td>17</td>\n",
       "      <td>12</td>\n",
       "      <td>4</td>\n",
       "      <td>0</td>\n",
       "    </tr>\n",
       "    <tr>\n",
       "      <th>3107</th>\n",
       "      <td>52.847</td>\n",
       "      <td>103.907</td>\n",
       "      <td>CN1C(=O)c2cccc3c2C1=Cc1ccc2ccccc2c1O3</td>\n",
       "      <td>3.319</td>\n",
       "      <td>299.323</td>\n",
       "      <td>2.0</td>\n",
       "      <td>0.0</td>\n",
       "      <td>0.0</td>\n",
       "      <td>3.319</td>\n",
       "      <td>29.54</td>\n",
       "      <td>...</td>\n",
       "      <td>0</td>\n",
       "      <td>0</td>\n",
       "      <td>0</td>\n",
       "      <td>0</td>\n",
       "      <td>0</td>\n",
       "      <td>0</td>\n",
       "      <td>8</td>\n",
       "      <td>17</td>\n",
       "      <td>2</td>\n",
       "      <td>0</td>\n",
       "    </tr>\n",
       "    <tr>\n",
       "      <th>3350</th>\n",
       "      <td>8.890</td>\n",
       "      <td>100.830</td>\n",
       "      <td>c1cnc2c(C3NCCc4c3[nH]c3ccccc43)cccc2c1</td>\n",
       "      <td>3.719</td>\n",
       "      <td>299.369</td>\n",
       "      <td>2.0</td>\n",
       "      <td>2.0</td>\n",
       "      <td>1.0</td>\n",
       "      <td>3.719</td>\n",
       "      <td>40.71</td>\n",
       "      <td>...</td>\n",
       "      <td>0</td>\n",
       "      <td>0</td>\n",
       "      <td>0</td>\n",
       "      <td>0</td>\n",
       "      <td>0</td>\n",
       "      <td>0</td>\n",
       "      <td>6</td>\n",
       "      <td>21</td>\n",
       "      <td>0</td>\n",
       "      <td>0</td>\n",
       "    </tr>\n",
       "  </tbody>\n",
       "</table>\n",
       "<p>8 rows × 24 columns</p>\n",
       "</div>"
      ],
      "text/plain": [
       "          MLM      HLM                                             SMILES  \\\n",
       "651   131.720   99.570        O=C(Nc1ccccc1)C1CCCN1C1=NS(=O)(=O)c2ccccc21   \n",
       "1076    3.820  106.510         COc1c(NC(=O)c2ccc[nH]2)cc(Cl)cc1C(=O)N(C)C   \n",
       "1564    1.745  135.336              CN(C)S(=O)(=O)CCNCc1ccc(-c2ccccc2)cc1   \n",
       "2373   86.878  107.323                   CC(C)CCC1CCN(C(=O)C2CC(O)CN2)CC1   \n",
       "2546   98.550  103.720      Cc1nc(-c2c[nH]c(C(=O)N3CCOc4cc(F)ccc43)c2)cs1   \n",
       "2899  101.380   52.330  CCCC(=O)Nc1cc(C(=O)NC2CCCCC2)ccc1S(=O)(=O)c1cc...   \n",
       "3107   52.847  103.907              CN1C(=O)c2cccc3c2C1=Cc1ccc2ccccc2c1O3   \n",
       "3350    8.890  100.830             c1cnc2c(C3NCCc4c3[nH]c3ccccc43)cccc2c1   \n",
       "\n",
       "      AlogP  Molecular_Weight  Num_H_Acceptors  Num_H_Donors  \\\n",
       "651   1.412           355.411              4.0           1.0   \n",
       "1076  2.061           321.759              3.0           2.0   \n",
       "1564  2.075           318.434              3.0           1.0   \n",
       "2373  1.345           268.395              3.0           2.0   \n",
       "2546  2.876           343.375              3.0           1.0   \n",
       "2899  4.906           462.989              4.0           2.0   \n",
       "3107  3.319           299.323              2.0           0.0   \n",
       "3350  3.719           299.369              2.0           2.0   \n",
       "\n",
       "      Num_RotatableBonds   LogD  Molecular_PolarSurfaceArea  ...  F  Cl  Br  \\\n",
       "651                  3.0  1.412                       87.22  ...  0   0   0   \n",
       "1076                 4.0  2.061                       74.43  ...  0   1   0   \n",
       "1564                 7.0  2.052                       57.79  ...  0   0   0   \n",
       "2373                 4.0  0.139                       52.57  ...  0   0   0   \n",
       "2546                 2.0  3.032                       86.46  ...  1   0   0   \n",
       "2899                 7.0  4.906                      100.72  ...  0   1   0   \n",
       "3107                 0.0  3.319                       29.54  ...  0   0   0   \n",
       "3350                 1.0  3.719                       40.71  ...  0   0   0   \n",
       "\n",
       "      Se  I  P  Bond_1.0  Bond_1.5  Bond_2.0  Bond_3.0  \n",
       "651    0  0  0        12        12         4         0  \n",
       "1076   0  0  0        10        11         2         0  \n",
       "1564   0  0  0         9        12         2         0  \n",
       "2373   0  0  0        19         0         1         0  \n",
       "2546   0  0  0        10        16         1         0  \n",
       "2899   0  0  0        17        12         4         0  \n",
       "3107   0  0  0         8        17         2         0  \n",
       "3350   0  0  0         6        21         0         0  \n",
       "\n",
       "[8 rows x 24 columns]"
      ]
     },
     "execution_count": 17,
     "metadata": {},
     "output_type": "execute_result"
    }
   ],
   "source": [
    "# target(MLM, HLM) 100 이상의 이상치 제거\n",
    "df_total[(df_total['HLM'] > 100) | (df_total['MLM'] > 100)]"
   ]
  },
  {
   "cell_type": "code",
   "execution_count": 18,
   "metadata": {},
   "outputs": [
    {
     "data": {
      "text/html": [
       "<div>\n",
       "<style scoped>\n",
       "    .dataframe tbody tr th:only-of-type {\n",
       "        vertical-align: middle;\n",
       "    }\n",
       "\n",
       "    .dataframe tbody tr th {\n",
       "        vertical-align: top;\n",
       "    }\n",
       "\n",
       "    .dataframe thead th {\n",
       "        text-align: right;\n",
       "    }\n",
       "</style>\n",
       "<table border=\"1\" class=\"dataframe\">\n",
       "  <thead>\n",
       "    <tr style=\"text-align: right;\">\n",
       "      <th></th>\n",
       "      <th>MLM</th>\n",
       "      <th>HLM</th>\n",
       "      <th>SMILES</th>\n",
       "      <th>AlogP</th>\n",
       "      <th>Molecular_Weight</th>\n",
       "      <th>Num_H_Acceptors</th>\n",
       "      <th>Num_H_Donors</th>\n",
       "      <th>Num_RotatableBonds</th>\n",
       "      <th>LogD</th>\n",
       "      <th>Molecular_PolarSurfaceArea</th>\n",
       "      <th>...</th>\n",
       "      <th>F</th>\n",
       "      <th>Cl</th>\n",
       "      <th>Br</th>\n",
       "      <th>Se</th>\n",
       "      <th>I</th>\n",
       "      <th>P</th>\n",
       "      <th>Bond_1.0</th>\n",
       "      <th>Bond_1.5</th>\n",
       "      <th>Bond_2.0</th>\n",
       "      <th>Bond_3.0</th>\n",
       "    </tr>\n",
       "  </thead>\n",
       "  <tbody>\n",
       "    <tr>\n",
       "      <th>0</th>\n",
       "      <td>26.010</td>\n",
       "      <td>50.680</td>\n",
       "      <td>CCOc1ccc(CNC(=O)c2cc(-c3sc(C)nc3C)n[nH]2)cc1OCC</td>\n",
       "      <td>3.259</td>\n",
       "      <td>400.495</td>\n",
       "      <td>5.0</td>\n",
       "      <td>2.0</td>\n",
       "      <td>8.0</td>\n",
       "      <td>3.259</td>\n",
       "      <td>117.37</td>\n",
       "      <td>...</td>\n",
       "      <td>0</td>\n",
       "      <td>0</td>\n",
       "      <td>0</td>\n",
       "      <td>0</td>\n",
       "      <td>0</td>\n",
       "      <td>0</td>\n",
       "      <td>13</td>\n",
       "      <td>16</td>\n",
       "      <td>1</td>\n",
       "      <td>0</td>\n",
       "    </tr>\n",
       "    <tr>\n",
       "      <th>1</th>\n",
       "      <td>29.270</td>\n",
       "      <td>50.590</td>\n",
       "      <td>Cc1nc(C)c(CN2CC(C)C(=O)Nc3ccccc32)s1</td>\n",
       "      <td>2.169</td>\n",
       "      <td>301.407</td>\n",
       "      <td>2.0</td>\n",
       "      <td>1.0</td>\n",
       "      <td>2.0</td>\n",
       "      <td>2.172</td>\n",
       "      <td>73.47</td>\n",
       "      <td>...</td>\n",
       "      <td>0</td>\n",
       "      <td>0</td>\n",
       "      <td>0</td>\n",
       "      <td>0</td>\n",
       "      <td>0</td>\n",
       "      <td>0</td>\n",
       "      <td>11</td>\n",
       "      <td>11</td>\n",
       "      <td>1</td>\n",
       "      <td>0</td>\n",
       "    </tr>\n",
       "    <tr>\n",
       "      <th>2</th>\n",
       "      <td>5.586</td>\n",
       "      <td>80.892</td>\n",
       "      <td>CCCN1CCN(c2nn3nnnc3c3ccccc23)CC1</td>\n",
       "      <td>1.593</td>\n",
       "      <td>297.358</td>\n",
       "      <td>5.0</td>\n",
       "      <td>0.0</td>\n",
       "      <td>3.0</td>\n",
       "      <td>1.585</td>\n",
       "      <td>62.45</td>\n",
       "      <td>...</td>\n",
       "      <td>0</td>\n",
       "      <td>0</td>\n",
       "      <td>0</td>\n",
       "      <td>0</td>\n",
       "      <td>0</td>\n",
       "      <td>0</td>\n",
       "      <td>10</td>\n",
       "      <td>15</td>\n",
       "      <td>0</td>\n",
       "      <td>0</td>\n",
       "    </tr>\n",
       "    <tr>\n",
       "      <th>3</th>\n",
       "      <td>5.710</td>\n",
       "      <td>2.000</td>\n",
       "      <td>Cc1ccc(-c2ccc(-n3nc(C)c(S(=O)(=O)N4CCN(C5CCCCC...</td>\n",
       "      <td>4.771</td>\n",
       "      <td>494.652</td>\n",
       "      <td>6.0</td>\n",
       "      <td>0.0</td>\n",
       "      <td>5.0</td>\n",
       "      <td>3.475</td>\n",
       "      <td>92.60</td>\n",
       "      <td>...</td>\n",
       "      <td>0</td>\n",
       "      <td>0</td>\n",
       "      <td>0</td>\n",
       "      <td>0</td>\n",
       "      <td>0</td>\n",
       "      <td>0</td>\n",
       "      <td>20</td>\n",
       "      <td>17</td>\n",
       "      <td>2</td>\n",
       "      <td>0</td>\n",
       "    </tr>\n",
       "    <tr>\n",
       "      <th>4</th>\n",
       "      <td>93.270</td>\n",
       "      <td>99.990</td>\n",
       "      <td>Cc1ccc2c(c1)N(C(=O)c1ccncc1)CC(C)O2</td>\n",
       "      <td>2.335</td>\n",
       "      <td>268.310</td>\n",
       "      <td>3.0</td>\n",
       "      <td>0.0</td>\n",
       "      <td>1.0</td>\n",
       "      <td>2.337</td>\n",
       "      <td>42.43</td>\n",
       "      <td>...</td>\n",
       "      <td>0</td>\n",
       "      <td>0</td>\n",
       "      <td>0</td>\n",
       "      <td>0</td>\n",
       "      <td>0</td>\n",
       "      <td>0</td>\n",
       "      <td>9</td>\n",
       "      <td>12</td>\n",
       "      <td>1</td>\n",
       "      <td>0</td>\n",
       "    </tr>\n",
       "    <tr>\n",
       "      <th>...</th>\n",
       "      <td>...</td>\n",
       "      <td>...</td>\n",
       "      <td>...</td>\n",
       "      <td>...</td>\n",
       "      <td>...</td>\n",
       "      <td>...</td>\n",
       "      <td>...</td>\n",
       "      <td>...</td>\n",
       "      <td>...</td>\n",
       "      <td>...</td>\n",
       "      <td>...</td>\n",
       "      <td>...</td>\n",
       "      <td>...</td>\n",
       "      <td>...</td>\n",
       "      <td>...</td>\n",
       "      <td>...</td>\n",
       "      <td>...</td>\n",
       "      <td>...</td>\n",
       "      <td>...</td>\n",
       "      <td>...</td>\n",
       "      <td>...</td>\n",
       "    </tr>\n",
       "    <tr>\n",
       "      <th>3949</th>\n",
       "      <td>NaN</td>\n",
       "      <td>NaN</td>\n",
       "      <td>CCc1noc(CC)c1CC(=O)NCC1(CC)CCCCC1</td>\n",
       "      <td>4.207</td>\n",
       "      <td>306.443</td>\n",
       "      <td>2.0</td>\n",
       "      <td>1.0</td>\n",
       "      <td>7.0</td>\n",
       "      <td>4.207</td>\n",
       "      <td>55.13</td>\n",
       "      <td>...</td>\n",
       "      <td>0</td>\n",
       "      <td>0</td>\n",
       "      <td>0</td>\n",
       "      <td>0</td>\n",
       "      <td>0</td>\n",
       "      <td>0</td>\n",
       "      <td>17</td>\n",
       "      <td>5</td>\n",
       "      <td>1</td>\n",
       "      <td>0</td>\n",
       "    </tr>\n",
       "    <tr>\n",
       "      <th>3950</th>\n",
       "      <td>NaN</td>\n",
       "      <td>NaN</td>\n",
       "      <td>CC(=O)N1CCC2(CC1)OC(=O)C(C)=C2C(=O)N1CCN(C)CC1</td>\n",
       "      <td>-0.608</td>\n",
       "      <td>335.398</td>\n",
       "      <td>5.0</td>\n",
       "      <td>0.0</td>\n",
       "      <td>1.0</td>\n",
       "      <td>-1.736</td>\n",
       "      <td>70.16</td>\n",
       "      <td>...</td>\n",
       "      <td>0</td>\n",
       "      <td>0</td>\n",
       "      <td>0</td>\n",
       "      <td>0</td>\n",
       "      <td>0</td>\n",
       "      <td>0</td>\n",
       "      <td>22</td>\n",
       "      <td>0</td>\n",
       "      <td>4</td>\n",
       "      <td>0</td>\n",
       "    </tr>\n",
       "    <tr>\n",
       "      <th>3951</th>\n",
       "      <td>NaN</td>\n",
       "      <td>NaN</td>\n",
       "      <td>CC(C)NC(=O)CN1C(=O)c2ccccc2N2C(=O)c3ccccc3C12</td>\n",
       "      <td>1.792</td>\n",
       "      <td>349.383</td>\n",
       "      <td>3.0</td>\n",
       "      <td>1.0</td>\n",
       "      <td>3.0</td>\n",
       "      <td>1.792</td>\n",
       "      <td>69.72</td>\n",
       "      <td>...</td>\n",
       "      <td>0</td>\n",
       "      <td>0</td>\n",
       "      <td>0</td>\n",
       "      <td>0</td>\n",
       "      <td>0</td>\n",
       "      <td>0</td>\n",
       "      <td>14</td>\n",
       "      <td>12</td>\n",
       "      <td>3</td>\n",
       "      <td>0</td>\n",
       "    </tr>\n",
       "    <tr>\n",
       "      <th>3952</th>\n",
       "      <td>NaN</td>\n",
       "      <td>NaN</td>\n",
       "      <td>Cn1cc(Br)c(=O)c(NC(=O)c2ccc(O)cc2F)c1</td>\n",
       "      <td>0.790</td>\n",
       "      <td>341.132</td>\n",
       "      <td>3.0</td>\n",
       "      <td>2.0</td>\n",
       "      <td>2.0</td>\n",
       "      <td>0.423</td>\n",
       "      <td>69.64</td>\n",
       "      <td>...</td>\n",
       "      <td>1</td>\n",
       "      <td>0</td>\n",
       "      <td>1</td>\n",
       "      <td>0</td>\n",
       "      <td>0</td>\n",
       "      <td>0</td>\n",
       "      <td>7</td>\n",
       "      <td>12</td>\n",
       "      <td>2</td>\n",
       "      <td>0</td>\n",
       "    </tr>\n",
       "    <tr>\n",
       "      <th>3953</th>\n",
       "      <td>NaN</td>\n",
       "      <td>NaN</td>\n",
       "      <td>CC(C)C(CCN1CCN(C)CC1)c1ccco1</td>\n",
       "      <td>2.782</td>\n",
       "      <td>250.380</td>\n",
       "      <td>2.0</td>\n",
       "      <td>0.0</td>\n",
       "      <td>5.0</td>\n",
       "      <td>0.606</td>\n",
       "      <td>19.62</td>\n",
       "      <td>...</td>\n",
       "      <td>0</td>\n",
       "      <td>0</td>\n",
       "      <td>0</td>\n",
       "      <td>0</td>\n",
       "      <td>0</td>\n",
       "      <td>0</td>\n",
       "      <td>14</td>\n",
       "      <td>5</td>\n",
       "      <td>0</td>\n",
       "      <td>0</td>\n",
       "    </tr>\n",
       "  </tbody>\n",
       "</table>\n",
       "<p>3946 rows × 24 columns</p>\n",
       "</div>"
      ],
      "text/plain": [
       "         MLM     HLM                                             SMILES  \\\n",
       "0     26.010  50.680    CCOc1ccc(CNC(=O)c2cc(-c3sc(C)nc3C)n[nH]2)cc1OCC   \n",
       "1     29.270  50.590               Cc1nc(C)c(CN2CC(C)C(=O)Nc3ccccc32)s1   \n",
       "2      5.586  80.892                   CCCN1CCN(c2nn3nnnc3c3ccccc23)CC1   \n",
       "3      5.710   2.000  Cc1ccc(-c2ccc(-n3nc(C)c(S(=O)(=O)N4CCN(C5CCCCC...   \n",
       "4     93.270  99.990                Cc1ccc2c(c1)N(C(=O)c1ccncc1)CC(C)O2   \n",
       "...      ...     ...                                                ...   \n",
       "3949     NaN     NaN                  CCc1noc(CC)c1CC(=O)NCC1(CC)CCCCC1   \n",
       "3950     NaN     NaN     CC(=O)N1CCC2(CC1)OC(=O)C(C)=C2C(=O)N1CCN(C)CC1   \n",
       "3951     NaN     NaN      CC(C)NC(=O)CN1C(=O)c2ccccc2N2C(=O)c3ccccc3C12   \n",
       "3952     NaN     NaN              Cn1cc(Br)c(=O)c(NC(=O)c2ccc(O)cc2F)c1   \n",
       "3953     NaN     NaN                       CC(C)C(CCN1CCN(C)CC1)c1ccco1   \n",
       "\n",
       "      AlogP  Molecular_Weight  Num_H_Acceptors  Num_H_Donors  \\\n",
       "0     3.259           400.495              5.0           2.0   \n",
       "1     2.169           301.407              2.0           1.0   \n",
       "2     1.593           297.358              5.0           0.0   \n",
       "3     4.771           494.652              6.0           0.0   \n",
       "4     2.335           268.310              3.0           0.0   \n",
       "...     ...               ...              ...           ...   \n",
       "3949  4.207           306.443              2.0           1.0   \n",
       "3950 -0.608           335.398              5.0           0.0   \n",
       "3951  1.792           349.383              3.0           1.0   \n",
       "3952  0.790           341.132              3.0           2.0   \n",
       "3953  2.782           250.380              2.0           0.0   \n",
       "\n",
       "      Num_RotatableBonds   LogD  Molecular_PolarSurfaceArea  ...  F  Cl  Br  \\\n",
       "0                    8.0  3.259                      117.37  ...  0   0   0   \n",
       "1                    2.0  2.172                       73.47  ...  0   0   0   \n",
       "2                    3.0  1.585                       62.45  ...  0   0   0   \n",
       "3                    5.0  3.475                       92.60  ...  0   0   0   \n",
       "4                    1.0  2.337                       42.43  ...  0   0   0   \n",
       "...                  ...    ...                         ...  ... ..  ..  ..   \n",
       "3949                 7.0  4.207                       55.13  ...  0   0   0   \n",
       "3950                 1.0 -1.736                       70.16  ...  0   0   0   \n",
       "3951                 3.0  1.792                       69.72  ...  0   0   0   \n",
       "3952                 2.0  0.423                       69.64  ...  1   0   1   \n",
       "3953                 5.0  0.606                       19.62  ...  0   0   0   \n",
       "\n",
       "      Se  I  P  Bond_1.0  Bond_1.5  Bond_2.0  Bond_3.0  \n",
       "0      0  0  0        13        16         1         0  \n",
       "1      0  0  0        11        11         1         0  \n",
       "2      0  0  0        10        15         0         0  \n",
       "3      0  0  0        20        17         2         0  \n",
       "4      0  0  0         9        12         1         0  \n",
       "...   .. .. ..       ...       ...       ...       ...  \n",
       "3949   0  0  0        17         5         1         0  \n",
       "3950   0  0  0        22         0         4         0  \n",
       "3951   0  0  0        14        12         3         0  \n",
       "3952   0  0  0         7        12         2         0  \n",
       "3953   0  0  0        14         5         0         0  \n",
       "\n",
       "[3946 rows x 24 columns]"
      ]
     },
     "execution_count": 18,
     "metadata": {},
     "output_type": "execute_result"
    }
   ],
   "source": [
    "df_total = df_total[~((df_total['HLM'] > 100) | (df_total['MLM'] > 100))]\n",
    "df_total"
   ]
  },
  {
   "cell_type": "code",
   "execution_count": 19,
   "metadata": {},
   "outputs": [
    {
     "data": {
      "text/html": [
       "<div>\n",
       "<style scoped>\n",
       "    .dataframe tbody tr th:only-of-type {\n",
       "        vertical-align: middle;\n",
       "    }\n",
       "\n",
       "    .dataframe tbody tr th {\n",
       "        vertical-align: top;\n",
       "    }\n",
       "\n",
       "    .dataframe thead th {\n",
       "        text-align: right;\n",
       "    }\n",
       "</style>\n",
       "<table border=\"1\" class=\"dataframe\">\n",
       "  <thead>\n",
       "    <tr style=\"text-align: right;\">\n",
       "      <th></th>\n",
       "      <th>MLM</th>\n",
       "      <th>HLM</th>\n",
       "      <th>SMILES</th>\n",
       "      <th>AlogP</th>\n",
       "      <th>Molecular_Weight</th>\n",
       "      <th>Num_H_Acceptors</th>\n",
       "      <th>Num_H_Donors</th>\n",
       "      <th>Num_RotatableBonds</th>\n",
       "      <th>LogD</th>\n",
       "      <th>Molecular_PolarSurfaceArea</th>\n",
       "      <th>...</th>\n",
       "      <th>F</th>\n",
       "      <th>Cl</th>\n",
       "      <th>Br</th>\n",
       "      <th>Se</th>\n",
       "      <th>I</th>\n",
       "      <th>P</th>\n",
       "      <th>Bond_1.0</th>\n",
       "      <th>Bond_1.5</th>\n",
       "      <th>Bond_2.0</th>\n",
       "      <th>Bond_3.0</th>\n",
       "    </tr>\n",
       "  </thead>\n",
       "  <tbody>\n",
       "    <tr>\n",
       "      <th>177</th>\n",
       "      <td>62.030</td>\n",
       "      <td>50.590</td>\n",
       "      <td>CCC(CN1CCN(C)CC1)NC(=O)Cc1csc(Nc2ccccc2F)n1</td>\n",
       "      <td>-4.137</td>\n",
       "      <td>597.656</td>\n",
       "      <td>11.0</td>\n",
       "      <td>6.0</td>\n",
       "      <td>13.0</td>\n",
       "      <td>-4.241</td>\n",
       "      <td>220.86</td>\n",
       "      <td>...</td>\n",
       "      <td>1</td>\n",
       "      <td>0</td>\n",
       "      <td>0</td>\n",
       "      <td>0</td>\n",
       "      <td>0</td>\n",
       "      <td>0</td>\n",
       "      <td>18</td>\n",
       "      <td>11</td>\n",
       "      <td>1</td>\n",
       "      <td>0</td>\n",
       "    </tr>\n",
       "    <tr>\n",
       "      <th>1156</th>\n",
       "      <td>99.900</td>\n",
       "      <td>99.900</td>\n",
       "      <td>COC(=O)c1cc(F)c(NCCCN(CCCCN(CCCn2c(=O)[nH]c3cc...</td>\n",
       "      <td>8.241</td>\n",
       "      <td>1360.467</td>\n",
       "      <td>15.0</td>\n",
       "      <td>5.0</td>\n",
       "      <td>38.0</td>\n",
       "      <td>8.257</td>\n",
       "      <td>296.43</td>\n",
       "      <td>...</td>\n",
       "      <td>5</td>\n",
       "      <td>0</td>\n",
       "      <td>0</td>\n",
       "      <td>0</td>\n",
       "      <td>0</td>\n",
       "      <td>0</td>\n",
       "      <td>62</td>\n",
       "      <td>28</td>\n",
       "      <td>10</td>\n",
       "      <td>0</td>\n",
       "    </tr>\n",
       "    <tr>\n",
       "      <th>1222</th>\n",
       "      <td>69.077</td>\n",
       "      <td>48.075</td>\n",
       "      <td>c1ccc(-c2cc(CNCC3COCCO3)c3nnnn3c2)cc1</td>\n",
       "      <td>-3.761</td>\n",
       "      <td>517.489</td>\n",
       "      <td>13.0</td>\n",
       "      <td>5.0</td>\n",
       "      <td>10.0</td>\n",
       "      <td>-4.920</td>\n",
       "      <td>205.69</td>\n",
       "      <td>...</td>\n",
       "      <td>0</td>\n",
       "      <td>0</td>\n",
       "      <td>0</td>\n",
       "      <td>0</td>\n",
       "      <td>0</td>\n",
       "      <td>0</td>\n",
       "      <td>11</td>\n",
       "      <td>16</td>\n",
       "      <td>0</td>\n",
       "      <td>0</td>\n",
       "    </tr>\n",
       "    <tr>\n",
       "      <th>1864</th>\n",
       "      <td>94.200</td>\n",
       "      <td>62.300</td>\n",
       "      <td>O=C([O-])CN1C(=O)S/C(=C\\C=C2\\SCCN2CCCS(=O)(=O)...</td>\n",
       "      <td>-2.191</td>\n",
       "      <td>422.520</td>\n",
       "      <td>9.0</td>\n",
       "      <td>0.0</td>\n",
       "      <td>7.0</td>\n",
       "      <td>-2.189</td>\n",
       "      <td>211.95</td>\n",
       "      <td>...</td>\n",
       "      <td>0</td>\n",
       "      <td>0</td>\n",
       "      <td>0</td>\n",
       "      <td>0</td>\n",
       "      <td>0</td>\n",
       "      <td>0</td>\n",
       "      <td>19</td>\n",
       "      <td>0</td>\n",
       "      <td>7</td>\n",
       "      <td>0</td>\n",
       "    </tr>\n",
       "    <tr>\n",
       "      <th>2669</th>\n",
       "      <td>40.761</td>\n",
       "      <td>51.084</td>\n",
       "      <td>CC(C)c1c(C(=O)Nc2ccccc2)c(-c2ccccc2)c(-c2ccc(F...</td>\n",
       "      <td>8.163</td>\n",
       "      <td>1115.264</td>\n",
       "      <td>10.0</td>\n",
       "      <td>6.0</td>\n",
       "      <td>24.0</td>\n",
       "      <td>8.156</td>\n",
       "      <td>229.23</td>\n",
       "      <td>...</td>\n",
       "      <td>1</td>\n",
       "      <td>0</td>\n",
       "      <td>0</td>\n",
       "      <td>0</td>\n",
       "      <td>0</td>\n",
       "      <td>0</td>\n",
       "      <td>19</td>\n",
       "      <td>23</td>\n",
       "      <td>2</td>\n",
       "      <td>0</td>\n",
       "    </tr>\n",
       "    <tr>\n",
       "      <th>3196</th>\n",
       "      <td>88.310</td>\n",
       "      <td>81.100</td>\n",
       "      <td>Oc1cc(O)c2c(c1)O[C@H](c1ccc(O)c(O)c1)[C@H](O)[...</td>\n",
       "      <td>3.565</td>\n",
       "      <td>578.520</td>\n",
       "      <td>12.0</td>\n",
       "      <td>10.0</td>\n",
       "      <td>3.0</td>\n",
       "      <td>2.406</td>\n",
       "      <td>220.75</td>\n",
       "      <td>...</td>\n",
       "      <td>0</td>\n",
       "      <td>0</td>\n",
       "      <td>0</td>\n",
       "      <td>0</td>\n",
       "      <td>0</td>\n",
       "      <td>0</td>\n",
       "      <td>23</td>\n",
       "      <td>24</td>\n",
       "      <td>0</td>\n",
       "      <td>0</td>\n",
       "    </tr>\n",
       "    <tr>\n",
       "      <th>3500</th>\n",
       "      <td>NaN</td>\n",
       "      <td>NaN</td>\n",
       "      <td>COc1nc2cc(C)ccc2cc1CN(C)C1(C)CCS(=O)(=O)C1</td>\n",
       "      <td>-1.542</td>\n",
       "      <td>540.583</td>\n",
       "      <td>12.0</td>\n",
       "      <td>4.0</td>\n",
       "      <td>9.0</td>\n",
       "      <td>-2.371</td>\n",
       "      <td>200.00</td>\n",
       "      <td>...</td>\n",
       "      <td>0</td>\n",
       "      <td>0</td>\n",
       "      <td>0</td>\n",
       "      <td>0</td>\n",
       "      <td>0</td>\n",
       "      <td>0</td>\n",
       "      <td>13</td>\n",
       "      <td>11</td>\n",
       "      <td>2</td>\n",
       "      <td>0</td>\n",
       "    </tr>\n",
       "  </tbody>\n",
       "</table>\n",
       "<p>7 rows × 24 columns</p>\n",
       "</div>"
      ],
      "text/plain": [
       "         MLM     HLM                                             SMILES  \\\n",
       "177   62.030  50.590        CCC(CN1CCN(C)CC1)NC(=O)Cc1csc(Nc2ccccc2F)n1   \n",
       "1156  99.900  99.900  COC(=O)c1cc(F)c(NCCCN(CCCCN(CCCn2c(=O)[nH]c3cc...   \n",
       "1222  69.077  48.075              c1ccc(-c2cc(CNCC3COCCO3)c3nnnn3c2)cc1   \n",
       "1864  94.200  62.300  O=C([O-])CN1C(=O)S/C(=C\\C=C2\\SCCN2CCCS(=O)(=O)...   \n",
       "2669  40.761  51.084  CC(C)c1c(C(=O)Nc2ccccc2)c(-c2ccccc2)c(-c2ccc(F...   \n",
       "3196  88.310  81.100  Oc1cc(O)c2c(c1)O[C@H](c1ccc(O)c(O)c1)[C@H](O)[...   \n",
       "3500     NaN     NaN         COc1nc2cc(C)ccc2cc1CN(C)C1(C)CCS(=O)(=O)C1   \n",
       "\n",
       "      AlogP  Molecular_Weight  Num_H_Acceptors  Num_H_Donors  \\\n",
       "177  -4.137           597.656             11.0           6.0   \n",
       "1156  8.241          1360.467             15.0           5.0   \n",
       "1222 -3.761           517.489             13.0           5.0   \n",
       "1864 -2.191           422.520              9.0           0.0   \n",
       "2669  8.163          1115.264             10.0           6.0   \n",
       "3196  3.565           578.520             12.0          10.0   \n",
       "3500 -1.542           540.583             12.0           4.0   \n",
       "\n",
       "      Num_RotatableBonds   LogD  Molecular_PolarSurfaceArea  ...  F  Cl  Br  \\\n",
       "177                 13.0 -4.241                      220.86  ...  1   0   0   \n",
       "1156                38.0  8.257                      296.43  ...  5   0   0   \n",
       "1222                10.0 -4.920                      205.69  ...  0   0   0   \n",
       "1864                 7.0 -2.189                      211.95  ...  0   0   0   \n",
       "2669                24.0  8.156                      229.23  ...  1   0   0   \n",
       "3196                 3.0  2.406                      220.75  ...  0   0   0   \n",
       "3500                 9.0 -2.371                      200.00  ...  0   0   0   \n",
       "\n",
       "      Se  I  P  Bond_1.0  Bond_1.5  Bond_2.0  Bond_3.0  \n",
       "177    0  0  0        18        11         1         0  \n",
       "1156   0  0  0        62        28        10         0  \n",
       "1222   0  0  0        11        16         0         0  \n",
       "1864   0  0  0        19         0         7         0  \n",
       "2669   0  0  0        19        23         2         0  \n",
       "3196   0  0  0        23        24         0         0  \n",
       "3500   0  0  0        13        11         2         0  \n",
       "\n",
       "[7 rows x 24 columns]"
      ]
     },
     "execution_count": 19,
     "metadata": {},
     "output_type": "execute_result"
    }
   ],
   "source": [
    "df_polar_over200 = df_total[df_total.Molecular_PolarSurfaceArea >= 200]\n",
    "df_polar_over200"
   ]
  },
  {
   "cell_type": "code",
   "execution_count": 20,
   "metadata": {},
   "outputs": [
    {
     "data": {
      "image/png": "[encoded data removed]",
      "text/plain": [
       "<PIL.PngImagePlugin.PngImageFile image mode=RGB size=1200x300>"
      ]
     },
     "metadata": {},
     "output_type": "display_data"
    },
    {
     "data": {
      "image/png": "[encoded data removed]",
      "text/plain": [
       "<PIL.PngImagePlugin.PngImageFile image mode=RGB size=1200x300>"
      ]
     },
     "metadata": {},
     "output_type": "display_data"
    }
   ],
   "source": [
    "# 200을 초과하는 값이 이상치가 아닌것으로 판단됨\n",
    "\n",
    "from rdkit import Chem, DataStructs\n",
    "from rdkit.Chem import Draw, Descriptors, AllChem\n",
    "from rdkit.Chem.Draw import IPythonConsole\n",
    "\n",
    "def show_smiles(smiles):\n",
    "  data_smiles = smiles['SMILES']\n",
    "  # Convert the SMILES strings to RDKit molecules\n",
    "  molecules = [Chem.MolFromSmiles(smile) for smile in data_smiles]\n",
    "\n",
    "  # Draw the first molecules\n",
    "  img_4 = Draw.MolsToGridImage(molecules[:4], molsPerRow=4, subImgSize=(300,300),\n",
    "                            legends=[f'SurfaceArea: {round(x, 3)}' for x in smiles['Molecular_PolarSurfaceArea'].iloc[:4]], \n",
    "                            returnPNG=False)\n",
    "  \n",
    "  img_3 = Draw.MolsToGridImage(molecules[4:], molsPerRow=4, subImgSize=(300,300),\n",
    "                            legends=[f'SurfaceArea: {round(x, 3)}' for x in smiles['Molecular_PolarSurfaceArea'].iloc[4:]], \n",
    "                            returnPNG=False)\n",
    "                             \n",
    "  from IPython.display import display, Image\n",
    "  display(img_4)\n",
    "  display(img_3)\n",
    "\n",
    "show_smiles(df_polar_over200)"
   ]
  },
  {
   "cell_type": "code",
   "execution_count": 21,
   "metadata": {},
   "outputs": [
    {
     "data": {
      "text/html": [
       "<div>\n",
       "<style scoped>\n",
       "    .dataframe tbody tr th:only-of-type {\n",
       "        vertical-align: middle;\n",
       "    }\n",
       "\n",
       "    .dataframe tbody tr th {\n",
       "        vertical-align: top;\n",
       "    }\n",
       "\n",
       "    .dataframe thead th {\n",
       "        text-align: right;\n",
       "    }\n",
       "</style>\n",
       "<table border=\"1\" class=\"dataframe\">\n",
       "  <thead>\n",
       "    <tr style=\"text-align: right;\">\n",
       "      <th></th>\n",
       "      <th>Molecular_Weight</th>\n",
       "      <th>Molecular_Weight_Bins</th>\n",
       "    </tr>\n",
       "  </thead>\n",
       "  <tbody>\n",
       "    <tr>\n",
       "      <th>0</th>\n",
       "      <td>400.495</td>\n",
       "      <td>3</td>\n",
       "    </tr>\n",
       "    <tr>\n",
       "      <th>1</th>\n",
       "      <td>301.407</td>\n",
       "      <td>2</td>\n",
       "    </tr>\n",
       "    <tr>\n",
       "      <th>2</th>\n",
       "      <td>297.358</td>\n",
       "      <td>2</td>\n",
       "    </tr>\n",
       "    <tr>\n",
       "      <th>3</th>\n",
       "      <td>494.652</td>\n",
       "      <td>3</td>\n",
       "    </tr>\n",
       "    <tr>\n",
       "      <th>4</th>\n",
       "      <td>268.310</td>\n",
       "      <td>2</td>\n",
       "    </tr>\n",
       "  </tbody>\n",
       "</table>\n",
       "</div>"
      ],
      "text/plain": [
       "   Molecular_Weight Molecular_Weight_Bins\n",
       "0           400.495                     3\n",
       "1           301.407                     2\n",
       "2           297.358                     2\n",
       "3           494.652                     3\n",
       "4           268.310                     2"
      ]
     },
     "execution_count": 21,
     "metadata": {},
     "output_type": "execute_result"
    }
   ],
   "source": [
    "bins = [0, 200, 400, 600, df_train['Molecular_Weight'].max()]\n",
    "labels = [1, 2, 3, 4]\n",
    "df_total['Molecular_Weight_Bins'] = pd.cut(df_total['Molecular_Weight'], bins=bins, labels=labels)\n",
    "\n",
    "df_total[['Molecular_Weight', 'Molecular_Weight_Bins']].head()"
   ]
  },
  {
   "cell_type": "code",
   "execution_count": 22,
   "metadata": {},
   "outputs": [
    {
     "data": {
      "text/html": [
       "<div>\n",
       "<style scoped>\n",
       "    .dataframe tbody tr th:only-of-type {\n",
       "        vertical-align: middle;\n",
       "    }\n",
       "\n",
       "    .dataframe tbody tr th {\n",
       "        vertical-align: top;\n",
       "    }\n",
       "\n",
       "    .dataframe thead th {\n",
       "        text-align: right;\n",
       "    }\n",
       "</style>\n",
       "<table border=\"1\" class=\"dataframe\">\n",
       "  <thead>\n",
       "    <tr style=\"text-align: right;\">\n",
       "      <th></th>\n",
       "      <th>Num_H_Acceptors</th>\n",
       "      <th>Num_H_Donors</th>\n",
       "      <th>H_Acceptors_x_H_Donors</th>\n",
       "    </tr>\n",
       "  </thead>\n",
       "  <tbody>\n",
       "    <tr>\n",
       "      <th>0</th>\n",
       "      <td>5.0</td>\n",
       "      <td>2.0</td>\n",
       "      <td>10.0</td>\n",
       "    </tr>\n",
       "    <tr>\n",
       "      <th>1</th>\n",
       "      <td>2.0</td>\n",
       "      <td>1.0</td>\n",
       "      <td>2.0</td>\n",
       "    </tr>\n",
       "    <tr>\n",
       "      <th>2</th>\n",
       "      <td>5.0</td>\n",
       "      <td>0.0</td>\n",
       "      <td>0.0</td>\n",
       "    </tr>\n",
       "    <tr>\n",
       "      <th>3</th>\n",
       "      <td>6.0</td>\n",
       "      <td>0.0</td>\n",
       "      <td>0.0</td>\n",
       "    </tr>\n",
       "    <tr>\n",
       "      <th>4</th>\n",
       "      <td>3.0</td>\n",
       "      <td>0.0</td>\n",
       "      <td>0.0</td>\n",
       "    </tr>\n",
       "  </tbody>\n",
       "</table>\n",
       "</div>"
      ],
      "text/plain": [
       "   Num_H_Acceptors  Num_H_Donors  H_Acceptors_x_H_Donors\n",
       "0              5.0           2.0                    10.0\n",
       "1              2.0           1.0                     2.0\n",
       "2              5.0           0.0                     0.0\n",
       "3              6.0           0.0                     0.0\n",
       "4              3.0           0.0                     0.0"
      ]
     },
     "execution_count": 22,
     "metadata": {},
     "output_type": "execute_result"
    }
   ],
   "source": [
    "df_total['H_Acceptors_x_H_Donors'] = df_total['Num_H_Acceptors'] * df_total['Num_H_Donors']\n",
    "df_total[['Num_H_Acceptors', 'Num_H_Donors', 'H_Acceptors_x_H_Donors']].head()"
   ]
  },
  {
   "cell_type": "code",
   "execution_count": 23,
   "metadata": {},
   "outputs": [
    {
     "data": {
      "text/html": [
       "<div>\n",
       "<style scoped>\n",
       "    .dataframe tbody tr th:only-of-type {\n",
       "        vertical-align: middle;\n",
       "    }\n",
       "\n",
       "    .dataframe tbody tr th {\n",
       "        vertical-align: top;\n",
       "    }\n",
       "\n",
       "    .dataframe thead th {\n",
       "        text-align: right;\n",
       "    }\n",
       "</style>\n",
       "<table border=\"1\" class=\"dataframe\">\n",
       "  <thead>\n",
       "    <tr style=\"text-align: right;\">\n",
       "      <th></th>\n",
       "      <th>MLM</th>\n",
       "      <th>HLM</th>\n",
       "      <th>SMILES</th>\n",
       "      <th>AlogP</th>\n",
       "      <th>Molecular_Weight</th>\n",
       "      <th>Num_H_Acceptors</th>\n",
       "      <th>Num_H_Donors</th>\n",
       "      <th>Num_RotatableBonds</th>\n",
       "      <th>LogD</th>\n",
       "      <th>Molecular_PolarSurfaceArea</th>\n",
       "      <th>...</th>\n",
       "      <th>P</th>\n",
       "      <th>Bond_1.0</th>\n",
       "      <th>Bond_1.5</th>\n",
       "      <th>Bond_2.0</th>\n",
       "      <th>Bond_3.0</th>\n",
       "      <th>Molecular_Weight_Bins</th>\n",
       "      <th>H_Acceptors_x_H_Donors</th>\n",
       "      <th>AlogP^2</th>\n",
       "      <th>LogD^2</th>\n",
       "      <th>Alog_LogD</th>\n",
       "    </tr>\n",
       "  </thead>\n",
       "  <tbody>\n",
       "    <tr>\n",
       "      <th>0</th>\n",
       "      <td>26.010</td>\n",
       "      <td>50.680</td>\n",
       "      <td>CCOc1ccc(CNC(=O)c2cc(-c3sc(C)nc3C)n[nH]2)cc1OCC</td>\n",
       "      <td>3.259</td>\n",
       "      <td>400.495</td>\n",
       "      <td>5.0</td>\n",
       "      <td>2.0</td>\n",
       "      <td>8.0</td>\n",
       "      <td>3.259</td>\n",
       "      <td>117.37</td>\n",
       "      <td>...</td>\n",
       "      <td>0</td>\n",
       "      <td>13</td>\n",
       "      <td>16</td>\n",
       "      <td>1</td>\n",
       "      <td>0</td>\n",
       "      <td>3</td>\n",
       "      <td>10.0</td>\n",
       "      <td>10.621081</td>\n",
       "      <td>10.621081</td>\n",
       "      <td>10.621081</td>\n",
       "    </tr>\n",
       "    <tr>\n",
       "      <th>1</th>\n",
       "      <td>29.270</td>\n",
       "      <td>50.590</td>\n",
       "      <td>Cc1nc(C)c(CN2CC(C)C(=O)Nc3ccccc32)s1</td>\n",
       "      <td>2.169</td>\n",
       "      <td>301.407</td>\n",
       "      <td>2.0</td>\n",
       "      <td>1.0</td>\n",
       "      <td>2.0</td>\n",
       "      <td>2.172</td>\n",
       "      <td>73.47</td>\n",
       "      <td>...</td>\n",
       "      <td>0</td>\n",
       "      <td>11</td>\n",
       "      <td>11</td>\n",
       "      <td>1</td>\n",
       "      <td>0</td>\n",
       "      <td>2</td>\n",
       "      <td>2.0</td>\n",
       "      <td>4.704561</td>\n",
       "      <td>4.717584</td>\n",
       "      <td>4.711068</td>\n",
       "    </tr>\n",
       "    <tr>\n",
       "      <th>2</th>\n",
       "      <td>5.586</td>\n",
       "      <td>80.892</td>\n",
       "      <td>CCCN1CCN(c2nn3nnnc3c3ccccc23)CC1</td>\n",
       "      <td>1.593</td>\n",
       "      <td>297.358</td>\n",
       "      <td>5.0</td>\n",
       "      <td>0.0</td>\n",
       "      <td>3.0</td>\n",
       "      <td>1.585</td>\n",
       "      <td>62.45</td>\n",
       "      <td>...</td>\n",
       "      <td>0</td>\n",
       "      <td>10</td>\n",
       "      <td>15</td>\n",
       "      <td>0</td>\n",
       "      <td>0</td>\n",
       "      <td>2</td>\n",
       "      <td>0.0</td>\n",
       "      <td>2.537649</td>\n",
       "      <td>2.512225</td>\n",
       "      <td>2.524905</td>\n",
       "    </tr>\n",
       "    <tr>\n",
       "      <th>3</th>\n",
       "      <td>5.710</td>\n",
       "      <td>2.000</td>\n",
       "      <td>Cc1ccc(-c2ccc(-n3nc(C)c(S(=O)(=O)N4CCN(C5CCCCC...</td>\n",
       "      <td>4.771</td>\n",
       "      <td>494.652</td>\n",
       "      <td>6.0</td>\n",
       "      <td>0.0</td>\n",
       "      <td>5.0</td>\n",
       "      <td>3.475</td>\n",
       "      <td>92.60</td>\n",
       "      <td>...</td>\n",
       "      <td>0</td>\n",
       "      <td>20</td>\n",
       "      <td>17</td>\n",
       "      <td>2</td>\n",
       "      <td>0</td>\n",
       "      <td>3</td>\n",
       "      <td>0.0</td>\n",
       "      <td>22.762441</td>\n",
       "      <td>12.075625</td>\n",
       "      <td>16.579225</td>\n",
       "    </tr>\n",
       "    <tr>\n",
       "      <th>4</th>\n",
       "      <td>93.270</td>\n",
       "      <td>99.990</td>\n",
       "      <td>Cc1ccc2c(c1)N(C(=O)c1ccncc1)CC(C)O2</td>\n",
       "      <td>2.335</td>\n",
       "      <td>268.310</td>\n",
       "      <td>3.0</td>\n",
       "      <td>0.0</td>\n",
       "      <td>1.0</td>\n",
       "      <td>2.337</td>\n",
       "      <td>42.43</td>\n",
       "      <td>...</td>\n",
       "      <td>0</td>\n",
       "      <td>9</td>\n",
       "      <td>12</td>\n",
       "      <td>1</td>\n",
       "      <td>0</td>\n",
       "      <td>2</td>\n",
       "      <td>0.0</td>\n",
       "      <td>5.452225</td>\n",
       "      <td>5.461569</td>\n",
       "      <td>5.456895</td>\n",
       "    </tr>\n",
       "    <tr>\n",
       "      <th>...</th>\n",
       "      <td>...</td>\n",
       "      <td>...</td>\n",
       "      <td>...</td>\n",
       "      <td>...</td>\n",
       "      <td>...</td>\n",
       "      <td>...</td>\n",
       "      <td>...</td>\n",
       "      <td>...</td>\n",
       "      <td>...</td>\n",
       "      <td>...</td>\n",
       "      <td>...</td>\n",
       "      <td>...</td>\n",
       "      <td>...</td>\n",
       "      <td>...</td>\n",
       "      <td>...</td>\n",
       "      <td>...</td>\n",
       "      <td>...</td>\n",
       "      <td>...</td>\n",
       "      <td>...</td>\n",
       "      <td>...</td>\n",
       "      <td>...</td>\n",
       "    </tr>\n",
       "    <tr>\n",
       "      <th>3949</th>\n",
       "      <td>NaN</td>\n",
       "      <td>NaN</td>\n",
       "      <td>CCc1noc(CC)c1CC(=O)NCC1(CC)CCCCC1</td>\n",
       "      <td>4.207</td>\n",
       "      <td>306.443</td>\n",
       "      <td>2.0</td>\n",
       "      <td>1.0</td>\n",
       "      <td>7.0</td>\n",
       "      <td>4.207</td>\n",
       "      <td>55.13</td>\n",
       "      <td>...</td>\n",
       "      <td>0</td>\n",
       "      <td>17</td>\n",
       "      <td>5</td>\n",
       "      <td>1</td>\n",
       "      <td>0</td>\n",
       "      <td>2</td>\n",
       "      <td>2.0</td>\n",
       "      <td>17.698849</td>\n",
       "      <td>17.698849</td>\n",
       "      <td>17.698849</td>\n",
       "    </tr>\n",
       "    <tr>\n",
       "      <th>3950</th>\n",
       "      <td>NaN</td>\n",
       "      <td>NaN</td>\n",
       "      <td>CC(=O)N1CCC2(CC1)OC(=O)C(C)=C2C(=O)N1CCN(C)CC1</td>\n",
       "      <td>-0.608</td>\n",
       "      <td>335.398</td>\n",
       "      <td>5.0</td>\n",
       "      <td>0.0</td>\n",
       "      <td>1.0</td>\n",
       "      <td>-1.736</td>\n",
       "      <td>70.16</td>\n",
       "      <td>...</td>\n",
       "      <td>0</td>\n",
       "      <td>22</td>\n",
       "      <td>0</td>\n",
       "      <td>4</td>\n",
       "      <td>0</td>\n",
       "      <td>2</td>\n",
       "      <td>0.0</td>\n",
       "      <td>0.369664</td>\n",
       "      <td>3.013696</td>\n",
       "      <td>1.055488</td>\n",
       "    </tr>\n",
       "    <tr>\n",
       "      <th>3951</th>\n",
       "      <td>NaN</td>\n",
       "      <td>NaN</td>\n",
       "      <td>CC(C)NC(=O)CN1C(=O)c2ccccc2N2C(=O)c3ccccc3C12</td>\n",
       "      <td>1.792</td>\n",
       "      <td>349.383</td>\n",
       "      <td>3.0</td>\n",
       "      <td>1.0</td>\n",
       "      <td>3.0</td>\n",
       "      <td>1.792</td>\n",
       "      <td>69.72</td>\n",
       "      <td>...</td>\n",
       "      <td>0</td>\n",
       "      <td>14</td>\n",
       "      <td>12</td>\n",
       "      <td>3</td>\n",
       "      <td>0</td>\n",
       "      <td>2</td>\n",
       "      <td>3.0</td>\n",
       "      <td>3.211264</td>\n",
       "      <td>3.211264</td>\n",
       "      <td>3.211264</td>\n",
       "    </tr>\n",
       "    <tr>\n",
       "      <th>3952</th>\n",
       "      <td>NaN</td>\n",
       "      <td>NaN</td>\n",
       "      <td>Cn1cc(Br)c(=O)c(NC(=O)c2ccc(O)cc2F)c1</td>\n",
       "      <td>0.790</td>\n",
       "      <td>341.132</td>\n",
       "      <td>3.0</td>\n",
       "      <td>2.0</td>\n",
       "      <td>2.0</td>\n",
       "      <td>0.423</td>\n",
       "      <td>69.64</td>\n",
       "      <td>...</td>\n",
       "      <td>0</td>\n",
       "      <td>7</td>\n",
       "      <td>12</td>\n",
       "      <td>2</td>\n",
       "      <td>0</td>\n",
       "      <td>2</td>\n",
       "      <td>6.0</td>\n",
       "      <td>0.624100</td>\n",
       "      <td>0.178929</td>\n",
       "      <td>0.334170</td>\n",
       "    </tr>\n",
       "    <tr>\n",
       "      <th>3953</th>\n",
       "      <td>NaN</td>\n",
       "      <td>NaN</td>\n",
       "      <td>CC(C)C(CCN1CCN(C)CC1)c1ccco1</td>\n",
       "      <td>2.782</td>\n",
       "      <td>250.380</td>\n",
       "      <td>2.0</td>\n",
       "      <td>0.0</td>\n",
       "      <td>5.0</td>\n",
       "      <td>0.606</td>\n",
       "      <td>19.62</td>\n",
       "      <td>...</td>\n",
       "      <td>0</td>\n",
       "      <td>14</td>\n",
       "      <td>5</td>\n",
       "      <td>0</td>\n",
       "      <td>0</td>\n",
       "      <td>2</td>\n",
       "      <td>0.0</td>\n",
       "      <td>7.739524</td>\n",
       "      <td>0.367236</td>\n",
       "      <td>1.685892</td>\n",
       "    </tr>\n",
       "  </tbody>\n",
       "</table>\n",
       "<p>3946 rows × 29 columns</p>\n",
       "</div>"
      ],
      "text/plain": [
       "         MLM     HLM                                             SMILES  \\\n",
       "0     26.010  50.680    CCOc1ccc(CNC(=O)c2cc(-c3sc(C)nc3C)n[nH]2)cc1OCC   \n",
       "1     29.270  50.590               Cc1nc(C)c(CN2CC(C)C(=O)Nc3ccccc32)s1   \n",
       "2      5.586  80.892                   CCCN1CCN(c2nn3nnnc3c3ccccc23)CC1   \n",
       "3      5.710   2.000  Cc1ccc(-c2ccc(-n3nc(C)c(S(=O)(=O)N4CCN(C5CCCCC...   \n",
       "4     93.270  99.990                Cc1ccc2c(c1)N(C(=O)c1ccncc1)CC(C)O2   \n",
       "...      ...     ...                                                ...   \n",
       "3949     NaN     NaN                  CCc1noc(CC)c1CC(=O)NCC1(CC)CCCCC1   \n",
       "3950     NaN     NaN     CC(=O)N1CCC2(CC1)OC(=O)C(C)=C2C(=O)N1CCN(C)CC1   \n",
       "3951     NaN     NaN      CC(C)NC(=O)CN1C(=O)c2ccccc2N2C(=O)c3ccccc3C12   \n",
       "3952     NaN     NaN              Cn1cc(Br)c(=O)c(NC(=O)c2ccc(O)cc2F)c1   \n",
       "3953     NaN     NaN                       CC(C)C(CCN1CCN(C)CC1)c1ccco1   \n",
       "\n",
       "      AlogP  Molecular_Weight  Num_H_Acceptors  Num_H_Donors  \\\n",
       "0     3.259           400.495              5.0           2.0   \n",
       "1     2.169           301.407              2.0           1.0   \n",
       "2     1.593           297.358              5.0           0.0   \n",
       "3     4.771           494.652              6.0           0.0   \n",
       "4     2.335           268.310              3.0           0.0   \n",
       "...     ...               ...              ...           ...   \n",
       "3949  4.207           306.443              2.0           1.0   \n",
       "3950 -0.608           335.398              5.0           0.0   \n",
       "3951  1.792           349.383              3.0           1.0   \n",
       "3952  0.790           341.132              3.0           2.0   \n",
       "3953  2.782           250.380              2.0           0.0   \n",
       "\n",
       "      Num_RotatableBonds   LogD  Molecular_PolarSurfaceArea  ...  P  Bond_1.0  \\\n",
       "0                    8.0  3.259                      117.37  ...  0        13   \n",
       "1                    2.0  2.172                       73.47  ...  0        11   \n",
       "2                    3.0  1.585                       62.45  ...  0        10   \n",
       "3                    5.0  3.475                       92.60  ...  0        20   \n",
       "4                    1.0  2.337                       42.43  ...  0         9   \n",
       "...                  ...    ...                         ...  ... ..       ...   \n",
       "3949                 7.0  4.207                       55.13  ...  0        17   \n",
       "3950                 1.0 -1.736                       70.16  ...  0        22   \n",
       "3951                 3.0  1.792                       69.72  ...  0        14   \n",
       "3952                 2.0  0.423                       69.64  ...  0         7   \n",
       "3953                 5.0  0.606                       19.62  ...  0        14   \n",
       "\n",
       "      Bond_1.5  Bond_2.0  Bond_3.0  Molecular_Weight_Bins  \\\n",
       "0           16         1         0                      3   \n",
       "1           11         1         0                      2   \n",
       "2           15         0         0                      2   \n",
       "3           17         2         0                      3   \n",
       "4           12         1         0                      2   \n",
       "...        ...       ...       ...                    ...   \n",
       "3949         5         1         0                      2   \n",
       "3950         0         4         0                      2   \n",
       "3951        12         3         0                      2   \n",
       "3952        12         2         0                      2   \n",
       "3953         5         0         0                      2   \n",
       "\n",
       "      H_Acceptors_x_H_Donors    AlogP^2     LogD^2  Alog_LogD  \n",
       "0                       10.0  10.621081  10.621081  10.621081  \n",
       "1                        2.0   4.704561   4.717584   4.711068  \n",
       "2                        0.0   2.537649   2.512225   2.524905  \n",
       "3                        0.0  22.762441  12.075625  16.579225  \n",
       "4                        0.0   5.452225   5.461569   5.456895  \n",
       "...                      ...        ...        ...        ...  \n",
       "3949                     2.0  17.698849  17.698849  17.698849  \n",
       "3950                     0.0   0.369664   3.013696   1.055488  \n",
       "3951                     3.0   3.211264   3.211264   3.211264  \n",
       "3952                     6.0   0.624100   0.178929   0.334170  \n",
       "3953                     0.0   7.739524   0.367236   1.685892  \n",
       "\n",
       "[3946 rows x 29 columns]"
      ]
     },
     "execution_count": 23,
     "metadata": {},
     "output_type": "execute_result"
    }
   ],
   "source": [
    "df_total['AlogP^2'] = df_total['AlogP'] * df_total['AlogP']\n",
    "df_total['LogD^2'] = df_total['LogD'] * df_total['LogD']\n",
    "df_total['Alog_LogD'] = df_total['AlogP'] * df_total['LogD']\n",
    "df_total"
   ]
  },
  {
   "cell_type": "code",
   "execution_count": 24,
   "metadata": {},
   "outputs": [
    {
     "data": {
      "text/html": [
       "<div>\n",
       "<style scoped>\n",
       "    .dataframe tbody tr th:only-of-type {\n",
       "        vertical-align: middle;\n",
       "    }\n",
       "\n",
       "    .dataframe tbody tr th {\n",
       "        vertical-align: top;\n",
       "    }\n",
       "\n",
       "    .dataframe thead th {\n",
       "        text-align: right;\n",
       "    }\n",
       "</style>\n",
       "<table border=\"1\" class=\"dataframe\">\n",
       "  <thead>\n",
       "    <tr style=\"text-align: right;\">\n",
       "      <th></th>\n",
       "      <th>SMILES</th>\n",
       "      <th>SMILES_Length</th>\n",
       "    </tr>\n",
       "  </thead>\n",
       "  <tbody>\n",
       "    <tr>\n",
       "      <th>0</th>\n",
       "      <td>CCOc1ccc(CNC(=O)c2cc(-c3sc(C)nc3C)n[nH]2)cc1OCC</td>\n",
       "      <td>47</td>\n",
       "    </tr>\n",
       "    <tr>\n",
       "      <th>1</th>\n",
       "      <td>Cc1nc(C)c(CN2CC(C)C(=O)Nc3ccccc32)s1</td>\n",
       "      <td>36</td>\n",
       "    </tr>\n",
       "    <tr>\n",
       "      <th>2</th>\n",
       "      <td>CCCN1CCN(c2nn3nnnc3c3ccccc23)CC1</td>\n",
       "      <td>32</td>\n",
       "    </tr>\n",
       "    <tr>\n",
       "      <th>3</th>\n",
       "      <td>Cc1ccc(-c2ccc(-n3nc(C)c(S(=O)(=O)N4CCN(C5CCCCC...</td>\n",
       "      <td>63</td>\n",
       "    </tr>\n",
       "    <tr>\n",
       "      <th>4</th>\n",
       "      <td>Cc1ccc2c(c1)N(C(=O)c1ccncc1)CC(C)O2</td>\n",
       "      <td>35</td>\n",
       "    </tr>\n",
       "  </tbody>\n",
       "</table>\n",
       "</div>"
      ],
      "text/plain": [
       "                                              SMILES  SMILES_Length\n",
       "0    CCOc1ccc(CNC(=O)c2cc(-c3sc(C)nc3C)n[nH]2)cc1OCC             47\n",
       "1               Cc1nc(C)c(CN2CC(C)C(=O)Nc3ccccc32)s1             36\n",
       "2                   CCCN1CCN(c2nn3nnnc3c3ccccc23)CC1             32\n",
       "3  Cc1ccc(-c2ccc(-n3nc(C)c(S(=O)(=O)N4CCN(C5CCCCC...             63\n",
       "4                Cc1ccc2c(c1)N(C(=O)c1ccncc1)CC(C)O2             35"
      ]
     },
     "execution_count": 24,
     "metadata": {},
     "output_type": "execute_result"
    }
   ],
   "source": [
    "df_total['SMILES_Length'] = df_total['SMILES'].apply(len)\n",
    "df_total[['SMILES', 'SMILES_Length']].head()"
   ]
  },
  {
   "cell_type": "code",
   "execution_count": 25,
   "metadata": {},
   "outputs": [
    {
     "name": "stdout",
     "output_type": "stream",
     "text": [
      "new feature numbers : 1826\n"
     ]
    },
    {
     "name": "stderr",
     "output_type": "stream",
     "text": [
      "  7%|▋         | 268/3946 [00:16<02:57, 20.71it/s]"
     ]
    },
    {
     "name": "stdout",
     "output_type": "stream",
     "text": [
      "c:\\Users\\audrb\\anaconda3\\lib\\site-packages\\numpy\\core\\fromnumeric.py:86: RuntimeWarning: overflow encountered in reduce\n",
      "  return ufunc.reduce(obj, axis, dtype, out, **passkwargs)\n"
     ]
    },
    {
     "name": "stderr",
     "output_type": "stream",
     "text": [
      " 29%|██▉       | 1157/3946 [01:05<07:46,  5.98it/s]"
     ]
    },
    {
     "name": "stdout",
     "output_type": "stream",
     "text": [
      "c:\\Users\\audrb\\anaconda3\\lib\\site-packages\\numpy\\core\\fromnumeric.py:86: RuntimeWarning: overflow encountered in reduce\n",
      "  return ufunc.reduce(obj, axis, dtype, out, **passkwargs)\n"
     ]
    },
    {
     "name": "stderr",
     "output_type": "stream",
     "text": [
      "100%|██████████| 3946/3946 [03:32<00:00, 18.53it/s]\n"
     ]
    },
    {
     "data": {
      "text/html": [
       "<div>\n",
       "<style scoped>\n",
       "    .dataframe tbody tr th:only-of-type {\n",
       "        vertical-align: middle;\n",
       "    }\n",
       "\n",
       "    .dataframe tbody tr th {\n",
       "        vertical-align: top;\n",
       "    }\n",
       "\n",
       "    .dataframe thead th {\n",
       "        text-align: right;\n",
       "    }\n",
       "</style>\n",
       "<table border=\"1\" class=\"dataframe\">\n",
       "  <thead>\n",
       "    <tr style=\"text-align: right;\">\n",
       "      <th></th>\n",
       "      <th>ABC</th>\n",
       "      <th>ABCGG</th>\n",
       "      <th>nAcid</th>\n",
       "      <th>nBase</th>\n",
       "      <th>SpAbs_A</th>\n",
       "      <th>SpMax_A</th>\n",
       "      <th>SpDiam_A</th>\n",
       "      <th>SpAD_A</th>\n",
       "      <th>SpMAD_A</th>\n",
       "      <th>LogEE_A</th>\n",
       "      <th>...</th>\n",
       "      <th>SRW10</th>\n",
       "      <th>TSRW10</th>\n",
       "      <th>MW</th>\n",
       "      <th>AMW</th>\n",
       "      <th>WPath</th>\n",
       "      <th>WPol</th>\n",
       "      <th>Zagreb1</th>\n",
       "      <th>Zagreb2</th>\n",
       "      <th>mZagreb1</th>\n",
       "      <th>mZagreb2</th>\n",
       "    </tr>\n",
       "  </thead>\n",
       "  <tbody>\n",
       "    <tr>\n",
       "      <th>0</th>\n",
       "      <td>21.379612</td>\n",
       "      <td>17.449011</td>\n",
       "      <td>0</td>\n",
       "      <td>0</td>\n",
       "      <td>35.689316</td>\n",
       "      <td>2.421199</td>\n",
       "      <td>4.745523</td>\n",
       "      <td>35.689316</td>\n",
       "      <td>1.274618</td>\n",
       "      <td>4.249154</td>\n",
       "      <td>...</td>\n",
       "      <td>10.081676</td>\n",
       "      <td>78.761075</td>\n",
       "      <td>400.156912</td>\n",
       "      <td>7.695325</td>\n",
       "      <td>2380</td>\n",
       "      <td>40</td>\n",
       "      <td>142.0</td>\n",
       "      <td>165.0</td>\n",
       "      <td>9.500000</td>\n",
       "      <td>6.361111</td>\n",
       "    </tr>\n",
       "    <tr>\n",
       "      <th>1</th>\n",
       "      <td>16.539255</td>\n",
       "      <td>14.049653</td>\n",
       "      <td>0</td>\n",
       "      <td>0</td>\n",
       "      <td>26.575899</td>\n",
       "      <td>2.426398</td>\n",
       "      <td>4.757199</td>\n",
       "      <td>26.575899</td>\n",
       "      <td>1.265519</td>\n",
       "      <td>3.984419</td>\n",
       "      <td>...</td>\n",
       "      <td>9.907828</td>\n",
       "      <td>69.149596</td>\n",
       "      <td>301.124883</td>\n",
       "      <td>7.528122</td>\n",
       "      <td>870</td>\n",
       "      <td>35</td>\n",
       "      <td>112.0</td>\n",
       "      <td>132.0</td>\n",
       "      <td>7.138889</td>\n",
       "      <td>4.527778</td>\n",
       "    </tr>\n",
       "    <tr>\n",
       "      <th>2</th>\n",
       "      <td>17.475469</td>\n",
       "      <td>13.660693</td>\n",
       "      <td>2</td>\n",
       "      <td>1</td>\n",
       "      <td>29.802128</td>\n",
       "      <td>2.510668</td>\n",
       "      <td>4.982923</td>\n",
       "      <td>29.802128</td>\n",
       "      <td>1.354642</td>\n",
       "      <td>4.049690</td>\n",
       "      <td>...</td>\n",
       "      <td>10.144510</td>\n",
       "      <td>70.158066</td>\n",
       "      <td>297.170194</td>\n",
       "      <td>7.248054</td>\n",
       "      <td>1028</td>\n",
       "      <td>36</td>\n",
       "      <td>120.0</td>\n",
       "      <td>145.0</td>\n",
       "      <td>5.277778</td>\n",
       "      <td>4.888889</td>\n",
       "    </tr>\n",
       "    <tr>\n",
       "      <th>3</th>\n",
       "      <td>27.857311</td>\n",
       "      <td>20.034364</td>\n",
       "      <td>0</td>\n",
       "      <td>1</td>\n",
       "      <td>45.884166</td>\n",
       "      <td>2.532483</td>\n",
       "      <td>4.973440</td>\n",
       "      <td>45.884166</td>\n",
       "      <td>1.310976</td>\n",
       "      <td>4.500758</td>\n",
       "      <td>...</td>\n",
       "      <td>10.613467</td>\n",
       "      <td>86.199585</td>\n",
       "      <td>494.246395</td>\n",
       "      <td>7.162991</td>\n",
       "      <td>4170</td>\n",
       "      <td>61</td>\n",
       "      <td>192.0</td>\n",
       "      <td>231.0</td>\n",
       "      <td>10.784722</td>\n",
       "      <td>7.500000</td>\n",
       "    </tr>\n",
       "    <tr>\n",
       "      <th>4</th>\n",
       "      <td>15.722758</td>\n",
       "      <td>12.817176</td>\n",
       "      <td>0</td>\n",
       "      <td>0</td>\n",
       "      <td>26.308663</td>\n",
       "      <td>2.452930</td>\n",
       "      <td>4.905860</td>\n",
       "      <td>26.308663</td>\n",
       "      <td>1.315433</td>\n",
       "      <td>3.935574</td>\n",
       "      <td>...</td>\n",
       "      <td>9.978363</td>\n",
       "      <td>53.872357</td>\n",
       "      <td>268.121178</td>\n",
       "      <td>7.447810</td>\n",
       "      <td>762</td>\n",
       "      <td>32</td>\n",
       "      <td>106.0</td>\n",
       "      <td>125.0</td>\n",
       "      <td>6.277778</td>\n",
       "      <td>4.361111</td>\n",
       "    </tr>\n",
       "    <tr>\n",
       "      <th>...</th>\n",
       "      <td>...</td>\n",
       "      <td>...</td>\n",
       "      <td>...</td>\n",
       "      <td>...</td>\n",
       "      <td>...</td>\n",
       "      <td>...</td>\n",
       "      <td>...</td>\n",
       "      <td>...</td>\n",
       "      <td>...</td>\n",
       "      <td>...</td>\n",
       "      <td>...</td>\n",
       "      <td>...</td>\n",
       "      <td>...</td>\n",
       "      <td>...</td>\n",
       "      <td>...</td>\n",
       "      <td>...</td>\n",
       "      <td>...</td>\n",
       "      <td>...</td>\n",
       "      <td>...</td>\n",
       "      <td>...</td>\n",
       "      <td>...</td>\n",
       "    </tr>\n",
       "    <tr>\n",
       "      <th>3941</th>\n",
       "      <td>16.291966</td>\n",
       "      <td>14.728760</td>\n",
       "      <td>0</td>\n",
       "      <td>0</td>\n",
       "      <td>28.248662</td>\n",
       "      <td>2.381151</td>\n",
       "      <td>4.715751</td>\n",
       "      <td>28.248662</td>\n",
       "      <td>1.284030</td>\n",
       "      <td>3.995519</td>\n",
       "      <td>...</td>\n",
       "      <td>9.862509</td>\n",
       "      <td>69.656439</td>\n",
       "      <td>306.230728</td>\n",
       "      <td>5.889052</td>\n",
       "      <td>1138</td>\n",
       "      <td>32</td>\n",
       "      <td>108.0</td>\n",
       "      <td>125.0</td>\n",
       "      <td>7.756944</td>\n",
       "      <td>5.222222</td>\n",
       "    </tr>\n",
       "    <tr>\n",
       "      <th>3942</th>\n",
       "      <td>18.777305</td>\n",
       "      <td>15.822051</td>\n",
       "      <td>0</td>\n",
       "      <td>1</td>\n",
       "      <td>29.983837</td>\n",
       "      <td>2.559820</td>\n",
       "      <td>5.003321</td>\n",
       "      <td>29.983837</td>\n",
       "      <td>1.249327</td>\n",
       "      <td>4.116090</td>\n",
       "      <td>...</td>\n",
       "      <td>10.288852</td>\n",
       "      <td>73.647870</td>\n",
       "      <td>335.184506</td>\n",
       "      <td>6.840500</td>\n",
       "      <td>1280</td>\n",
       "      <td>42</td>\n",
       "      <td>130.0</td>\n",
       "      <td>157.0</td>\n",
       "      <td>9.201389</td>\n",
       "      <td>5.180556</td>\n",
       "    </tr>\n",
       "    <tr>\n",
       "      <th>3943</th>\n",
       "      <td>20.648645</td>\n",
       "      <td>16.775304</td>\n",
       "      <td>0</td>\n",
       "      <td>0</td>\n",
       "      <td>33.716988</td>\n",
       "      <td>2.612365</td>\n",
       "      <td>5.113784</td>\n",
       "      <td>33.716988</td>\n",
       "      <td>1.296807</td>\n",
       "      <td>4.210713</td>\n",
       "      <td>...</td>\n",
       "      <td>10.447235</td>\n",
       "      <td>76.277596</td>\n",
       "      <td>349.142641</td>\n",
       "      <td>7.758725</td>\n",
       "      <td>1469</td>\n",
       "      <td>48</td>\n",
       "      <td>144.0</td>\n",
       "      <td>177.0</td>\n",
       "      <td>8.722222</td>\n",
       "      <td>5.611111</td>\n",
       "    </tr>\n",
       "    <tr>\n",
       "      <th>3944</th>\n",
       "      <td>15.343821</td>\n",
       "      <td>13.245018</td>\n",
       "      <td>0</td>\n",
       "      <td>0</td>\n",
       "      <td>24.141151</td>\n",
       "      <td>2.379239</td>\n",
       "      <td>4.758478</td>\n",
       "      <td>24.141151</td>\n",
       "      <td>1.207058</td>\n",
       "      <td>3.909645</td>\n",
       "      <td>...</td>\n",
       "      <td>9.874728</td>\n",
       "      <td>53.565348</td>\n",
       "      <td>339.985883</td>\n",
       "      <td>11.332863</td>\n",
       "      <td>826</td>\n",
       "      <td>31</td>\n",
       "      <td>102.0</td>\n",
       "      <td>118.0</td>\n",
       "      <td>8.388889</td>\n",
       "      <td>4.361111</td>\n",
       "    </tr>\n",
       "    <tr>\n",
       "      <th>3945</th>\n",
       "      <td>13.682318</td>\n",
       "      <td>12.093020</td>\n",
       "      <td>0</td>\n",
       "      <td>2</td>\n",
       "      <td>22.745617</td>\n",
       "      <td>2.313193</td>\n",
       "      <td>4.579581</td>\n",
       "      <td>22.745617</td>\n",
       "      <td>1.263645</td>\n",
       "      <td>3.800919</td>\n",
       "      <td>...</td>\n",
       "      <td>9.478763</td>\n",
       "      <td>63.502070</td>\n",
       "      <td>250.204513</td>\n",
       "      <td>5.686466</td>\n",
       "      <td>660</td>\n",
       "      <td>22</td>\n",
       "      <td>88.0</td>\n",
       "      <td>99.0</td>\n",
       "      <td>6.055556</td>\n",
       "      <td>4.055556</td>\n",
       "    </tr>\n",
       "  </tbody>\n",
       "</table>\n",
       "<p>3946 rows × 1826 columns</p>\n",
       "</div>"
      ],
      "text/plain": [
       "            ABC      ABCGG  nAcid  nBase    SpAbs_A   SpMax_A  SpDiam_A  \\\n",
       "0     21.379612  17.449011      0      0  35.689316  2.421199  4.745523   \n",
       "1     16.539255  14.049653      0      0  26.575899  2.426398  4.757199   \n",
       "2     17.475469  13.660693      2      1  29.802128  2.510668  4.982923   \n",
       "3     27.857311  20.034364      0      1  45.884166  2.532483  4.973440   \n",
       "4     15.722758  12.817176      0      0  26.308663  2.452930  4.905860   \n",
       "...         ...        ...    ...    ...        ...       ...       ...   \n",
       "3941  16.291966  14.728760      0      0  28.248662  2.381151  4.715751   \n",
       "3942  18.777305  15.822051      0      1  29.983837  2.559820  5.003321   \n",
       "3943  20.648645  16.775304      0      0  33.716988  2.612365  5.113784   \n",
       "3944  15.343821  13.245018      0      0  24.141151  2.379239  4.758478   \n",
       "3945  13.682318  12.093020      0      2  22.745617  2.313193  4.579581   \n",
       "\n",
       "         SpAD_A   SpMAD_A   LogEE_A  ...      SRW10     TSRW10          MW  \\\n",
       "0     35.689316  1.274618  4.249154  ...  10.081676  78.761075  400.156912   \n",
       "1     26.575899  1.265519  3.984419  ...   9.907828  69.149596  301.124883   \n",
       "2     29.802128  1.354642  4.049690  ...  10.144510  70.158066  297.170194   \n",
       "3     45.884166  1.310976  4.500758  ...  10.613467  86.199585  494.246395   \n",
       "4     26.308663  1.315433  3.935574  ...   9.978363  53.872357  268.121178   \n",
       "...         ...       ...       ...  ...        ...        ...         ...   \n",
       "3941  28.248662  1.284030  3.995519  ...   9.862509  69.656439  306.230728   \n",
       "3942  29.983837  1.249327  4.116090  ...  10.288852  73.647870  335.184506   \n",
       "3943  33.716988  1.296807  4.210713  ...  10.447235  76.277596  349.142641   \n",
       "3944  24.141151  1.207058  3.909645  ...   9.874728  53.565348  339.985883   \n",
       "3945  22.745617  1.263645  3.800919  ...   9.478763  63.502070  250.204513   \n",
       "\n",
       "            AMW  WPath  WPol  Zagreb1  Zagreb2   mZagreb1  mZagreb2  \n",
       "0      7.695325   2380    40    142.0    165.0   9.500000  6.361111  \n",
       "1      7.528122    870    35    112.0    132.0   7.138889  4.527778  \n",
       "2      7.248054   1028    36    120.0    145.0   5.277778  4.888889  \n",
       "3      7.162991   4170    61    192.0    231.0  10.784722  7.500000  \n",
       "4      7.447810    762    32    106.0    125.0   6.277778  4.361111  \n",
       "...         ...    ...   ...      ...      ...        ...       ...  \n",
       "3941   5.889052   1138    32    108.0    125.0   7.756944  5.222222  \n",
       "3942   6.840500   1280    42    130.0    157.0   9.201389  5.180556  \n",
       "3943   7.758725   1469    48    144.0    177.0   8.722222  5.611111  \n",
       "3944  11.332863    826    31    102.0    118.0   8.388889  4.361111  \n",
       "3945   5.686466    660    22     88.0     99.0   6.055556  4.055556  \n",
       "\n",
       "[3946 rows x 1826 columns]"
      ]
     },
     "execution_count": 25,
     "metadata": {},
     "output_type": "execute_result"
    }
   ],
   "source": [
    "# 2D and 3D features\n",
    "from mordred import Calculator, descriptors\n",
    "\n",
    "calc = Calculator(descriptors, ignore_3D=False)\n",
    "print(f'new feature numbers : {len(calc.descriptors)}')\n",
    "\n",
    "total_mordred = calc.pandas([Chem.MolFromSmiles(x) for x in df_total.SMILES])\n",
    "total_mordred"
   ]
  },
  {
   "cell_type": "code",
   "execution_count": 26,
   "metadata": {},
   "outputs": [
    {
     "data": {
      "text/html": [
       "<div>\n",
       "<style scoped>\n",
       "    .dataframe tbody tr th:only-of-type {\n",
       "        vertical-align: middle;\n",
       "    }\n",
       "\n",
       "    .dataframe tbody tr th {\n",
       "        vertical-align: top;\n",
       "    }\n",
       "\n",
       "    .dataframe thead th {\n",
       "        text-align: right;\n",
       "    }\n",
       "</style>\n",
       "<table border=\"1\" class=\"dataframe\">\n",
       "  <thead>\n",
       "    <tr style=\"text-align: right;\">\n",
       "      <th></th>\n",
       "      <th>MLM</th>\n",
       "      <th>HLM</th>\n",
       "      <th>SMILES</th>\n",
       "      <th>AlogP</th>\n",
       "      <th>Molecular_Weight</th>\n",
       "      <th>Num_H_Acceptors</th>\n",
       "      <th>Num_H_Donors</th>\n",
       "      <th>Num_RotatableBonds</th>\n",
       "      <th>LogD</th>\n",
       "      <th>Molecular_PolarSurfaceArea</th>\n",
       "      <th>...</th>\n",
       "      <th>Bond_1.0</th>\n",
       "      <th>Bond_1.5</th>\n",
       "      <th>Bond_2.0</th>\n",
       "      <th>Bond_3.0</th>\n",
       "      <th>Molecular_Weight_Bins</th>\n",
       "      <th>H_Acceptors_x_H_Donors</th>\n",
       "      <th>AlogP^2</th>\n",
       "      <th>LogD^2</th>\n",
       "      <th>Alog_LogD</th>\n",
       "      <th>SMILES_Length</th>\n",
       "    </tr>\n",
       "  </thead>\n",
       "  <tbody>\n",
       "    <tr>\n",
       "      <th>0</th>\n",
       "      <td>26.010</td>\n",
       "      <td>50.680</td>\n",
       "      <td>CCOc1ccc(CNC(=O)c2cc(-c3sc(C)nc3C)n[nH]2)cc1OCC</td>\n",
       "      <td>3.259</td>\n",
       "      <td>400.495</td>\n",
       "      <td>5.0</td>\n",
       "      <td>2.0</td>\n",
       "      <td>8.0</td>\n",
       "      <td>3.259</td>\n",
       "      <td>117.37</td>\n",
       "      <td>...</td>\n",
       "      <td>13</td>\n",
       "      <td>16</td>\n",
       "      <td>1</td>\n",
       "      <td>0</td>\n",
       "      <td>3</td>\n",
       "      <td>10.0</td>\n",
       "      <td>10.621081</td>\n",
       "      <td>10.621081</td>\n",
       "      <td>10.621081</td>\n",
       "      <td>47</td>\n",
       "    </tr>\n",
       "    <tr>\n",
       "      <th>1</th>\n",
       "      <td>29.270</td>\n",
       "      <td>50.590</td>\n",
       "      <td>Cc1nc(C)c(CN2CC(C)C(=O)Nc3ccccc32)s1</td>\n",
       "      <td>2.169</td>\n",
       "      <td>301.407</td>\n",
       "      <td>2.0</td>\n",
       "      <td>1.0</td>\n",
       "      <td>2.0</td>\n",
       "      <td>2.172</td>\n",
       "      <td>73.47</td>\n",
       "      <td>...</td>\n",
       "      <td>11</td>\n",
       "      <td>11</td>\n",
       "      <td>1</td>\n",
       "      <td>0</td>\n",
       "      <td>2</td>\n",
       "      <td>2.0</td>\n",
       "      <td>4.704561</td>\n",
       "      <td>4.717584</td>\n",
       "      <td>4.711068</td>\n",
       "      <td>36</td>\n",
       "    </tr>\n",
       "    <tr>\n",
       "      <th>2</th>\n",
       "      <td>5.586</td>\n",
       "      <td>80.892</td>\n",
       "      <td>CCCN1CCN(c2nn3nnnc3c3ccccc23)CC1</td>\n",
       "      <td>1.593</td>\n",
       "      <td>297.358</td>\n",
       "      <td>5.0</td>\n",
       "      <td>0.0</td>\n",
       "      <td>3.0</td>\n",
       "      <td>1.585</td>\n",
       "      <td>62.45</td>\n",
       "      <td>...</td>\n",
       "      <td>10</td>\n",
       "      <td>15</td>\n",
       "      <td>0</td>\n",
       "      <td>0</td>\n",
       "      <td>2</td>\n",
       "      <td>0.0</td>\n",
       "      <td>2.537649</td>\n",
       "      <td>2.512225</td>\n",
       "      <td>2.524905</td>\n",
       "      <td>32</td>\n",
       "    </tr>\n",
       "    <tr>\n",
       "      <th>3</th>\n",
       "      <td>5.710</td>\n",
       "      <td>2.000</td>\n",
       "      <td>Cc1ccc(-c2ccc(-n3nc(C)c(S(=O)(=O)N4CCN(C5CCCCC...</td>\n",
       "      <td>4.771</td>\n",
       "      <td>494.652</td>\n",
       "      <td>6.0</td>\n",
       "      <td>0.0</td>\n",
       "      <td>5.0</td>\n",
       "      <td>3.475</td>\n",
       "      <td>92.60</td>\n",
       "      <td>...</td>\n",
       "      <td>20</td>\n",
       "      <td>17</td>\n",
       "      <td>2</td>\n",
       "      <td>0</td>\n",
       "      <td>3</td>\n",
       "      <td>0.0</td>\n",
       "      <td>22.762441</td>\n",
       "      <td>12.075625</td>\n",
       "      <td>16.579225</td>\n",
       "      <td>63</td>\n",
       "    </tr>\n",
       "    <tr>\n",
       "      <th>4</th>\n",
       "      <td>93.270</td>\n",
       "      <td>99.990</td>\n",
       "      <td>Cc1ccc2c(c1)N(C(=O)c1ccncc1)CC(C)O2</td>\n",
       "      <td>2.335</td>\n",
       "      <td>268.310</td>\n",
       "      <td>3.0</td>\n",
       "      <td>0.0</td>\n",
       "      <td>1.0</td>\n",
       "      <td>2.337</td>\n",
       "      <td>42.43</td>\n",
       "      <td>...</td>\n",
       "      <td>9</td>\n",
       "      <td>12</td>\n",
       "      <td>1</td>\n",
       "      <td>0</td>\n",
       "      <td>2</td>\n",
       "      <td>0.0</td>\n",
       "      <td>5.452225</td>\n",
       "      <td>5.461569</td>\n",
       "      <td>5.456895</td>\n",
       "      <td>35</td>\n",
       "    </tr>\n",
       "    <tr>\n",
       "      <th>...</th>\n",
       "      <td>...</td>\n",
       "      <td>...</td>\n",
       "      <td>...</td>\n",
       "      <td>...</td>\n",
       "      <td>...</td>\n",
       "      <td>...</td>\n",
       "      <td>...</td>\n",
       "      <td>...</td>\n",
       "      <td>...</td>\n",
       "      <td>...</td>\n",
       "      <td>...</td>\n",
       "      <td>...</td>\n",
       "      <td>...</td>\n",
       "      <td>...</td>\n",
       "      <td>...</td>\n",
       "      <td>...</td>\n",
       "      <td>...</td>\n",
       "      <td>...</td>\n",
       "      <td>...</td>\n",
       "      <td>...</td>\n",
       "      <td>...</td>\n",
       "    </tr>\n",
       "    <tr>\n",
       "      <th>3941</th>\n",
       "      <td>NaN</td>\n",
       "      <td>NaN</td>\n",
       "      <td>CCc1noc(CC)c1CC(=O)NCC1(CC)CCCCC1</td>\n",
       "      <td>4.207</td>\n",
       "      <td>306.443</td>\n",
       "      <td>2.0</td>\n",
       "      <td>1.0</td>\n",
       "      <td>7.0</td>\n",
       "      <td>4.207</td>\n",
       "      <td>55.13</td>\n",
       "      <td>...</td>\n",
       "      <td>17</td>\n",
       "      <td>5</td>\n",
       "      <td>1</td>\n",
       "      <td>0</td>\n",
       "      <td>2</td>\n",
       "      <td>2.0</td>\n",
       "      <td>17.698849</td>\n",
       "      <td>17.698849</td>\n",
       "      <td>17.698849</td>\n",
       "      <td>33</td>\n",
       "    </tr>\n",
       "    <tr>\n",
       "      <th>3942</th>\n",
       "      <td>NaN</td>\n",
       "      <td>NaN</td>\n",
       "      <td>CC(=O)N1CCC2(CC1)OC(=O)C(C)=C2C(=O)N1CCN(C)CC1</td>\n",
       "      <td>-0.608</td>\n",
       "      <td>335.398</td>\n",
       "      <td>5.0</td>\n",
       "      <td>0.0</td>\n",
       "      <td>1.0</td>\n",
       "      <td>-1.736</td>\n",
       "      <td>70.16</td>\n",
       "      <td>...</td>\n",
       "      <td>22</td>\n",
       "      <td>0</td>\n",
       "      <td>4</td>\n",
       "      <td>0</td>\n",
       "      <td>2</td>\n",
       "      <td>0.0</td>\n",
       "      <td>0.369664</td>\n",
       "      <td>3.013696</td>\n",
       "      <td>1.055488</td>\n",
       "      <td>46</td>\n",
       "    </tr>\n",
       "    <tr>\n",
       "      <th>3943</th>\n",
       "      <td>NaN</td>\n",
       "      <td>NaN</td>\n",
       "      <td>CC(C)NC(=O)CN1C(=O)c2ccccc2N2C(=O)c3ccccc3C12</td>\n",
       "      <td>1.792</td>\n",
       "      <td>349.383</td>\n",
       "      <td>3.0</td>\n",
       "      <td>1.0</td>\n",
       "      <td>3.0</td>\n",
       "      <td>1.792</td>\n",
       "      <td>69.72</td>\n",
       "      <td>...</td>\n",
       "      <td>14</td>\n",
       "      <td>12</td>\n",
       "      <td>3</td>\n",
       "      <td>0</td>\n",
       "      <td>2</td>\n",
       "      <td>3.0</td>\n",
       "      <td>3.211264</td>\n",
       "      <td>3.211264</td>\n",
       "      <td>3.211264</td>\n",
       "      <td>45</td>\n",
       "    </tr>\n",
       "    <tr>\n",
       "      <th>3944</th>\n",
       "      <td>NaN</td>\n",
       "      <td>NaN</td>\n",
       "      <td>Cn1cc(Br)c(=O)c(NC(=O)c2ccc(O)cc2F)c1</td>\n",
       "      <td>0.790</td>\n",
       "      <td>341.132</td>\n",
       "      <td>3.0</td>\n",
       "      <td>2.0</td>\n",
       "      <td>2.0</td>\n",
       "      <td>0.423</td>\n",
       "      <td>69.64</td>\n",
       "      <td>...</td>\n",
       "      <td>7</td>\n",
       "      <td>12</td>\n",
       "      <td>2</td>\n",
       "      <td>0</td>\n",
       "      <td>2</td>\n",
       "      <td>6.0</td>\n",
       "      <td>0.624100</td>\n",
       "      <td>0.178929</td>\n",
       "      <td>0.334170</td>\n",
       "      <td>37</td>\n",
       "    </tr>\n",
       "    <tr>\n",
       "      <th>3945</th>\n",
       "      <td>NaN</td>\n",
       "      <td>NaN</td>\n",
       "      <td>CC(C)C(CCN1CCN(C)CC1)c1ccco1</td>\n",
       "      <td>2.782</td>\n",
       "      <td>250.380</td>\n",
       "      <td>2.0</td>\n",
       "      <td>0.0</td>\n",
       "      <td>5.0</td>\n",
       "      <td>0.606</td>\n",
       "      <td>19.62</td>\n",
       "      <td>...</td>\n",
       "      <td>14</td>\n",
       "      <td>5</td>\n",
       "      <td>0</td>\n",
       "      <td>0</td>\n",
       "      <td>2</td>\n",
       "      <td>0.0</td>\n",
       "      <td>7.739524</td>\n",
       "      <td>0.367236</td>\n",
       "      <td>1.685892</td>\n",
       "      <td>28</td>\n",
       "    </tr>\n",
       "  </tbody>\n",
       "</table>\n",
       "<p>3946 rows × 30 columns</p>\n",
       "</div>"
      ],
      "text/plain": [
       "         MLM     HLM                                             SMILES  \\\n",
       "0     26.010  50.680    CCOc1ccc(CNC(=O)c2cc(-c3sc(C)nc3C)n[nH]2)cc1OCC   \n",
       "1     29.270  50.590               Cc1nc(C)c(CN2CC(C)C(=O)Nc3ccccc32)s1   \n",
       "2      5.586  80.892                   CCCN1CCN(c2nn3nnnc3c3ccccc23)CC1   \n",
       "3      5.710   2.000  Cc1ccc(-c2ccc(-n3nc(C)c(S(=O)(=O)N4CCN(C5CCCCC...   \n",
       "4     93.270  99.990                Cc1ccc2c(c1)N(C(=O)c1ccncc1)CC(C)O2   \n",
       "...      ...     ...                                                ...   \n",
       "3941     NaN     NaN                  CCc1noc(CC)c1CC(=O)NCC1(CC)CCCCC1   \n",
       "3942     NaN     NaN     CC(=O)N1CCC2(CC1)OC(=O)C(C)=C2C(=O)N1CCN(C)CC1   \n",
       "3943     NaN     NaN      CC(C)NC(=O)CN1C(=O)c2ccccc2N2C(=O)c3ccccc3C12   \n",
       "3944     NaN     NaN              Cn1cc(Br)c(=O)c(NC(=O)c2ccc(O)cc2F)c1   \n",
       "3945     NaN     NaN                       CC(C)C(CCN1CCN(C)CC1)c1ccco1   \n",
       "\n",
       "      AlogP  Molecular_Weight  Num_H_Acceptors  Num_H_Donors  \\\n",
       "0     3.259           400.495              5.0           2.0   \n",
       "1     2.169           301.407              2.0           1.0   \n",
       "2     1.593           297.358              5.0           0.0   \n",
       "3     4.771           494.652              6.0           0.0   \n",
       "4     2.335           268.310              3.0           0.0   \n",
       "...     ...               ...              ...           ...   \n",
       "3941  4.207           306.443              2.0           1.0   \n",
       "3942 -0.608           335.398              5.0           0.0   \n",
       "3943  1.792           349.383              3.0           1.0   \n",
       "3944  0.790           341.132              3.0           2.0   \n",
       "3945  2.782           250.380              2.0           0.0   \n",
       "\n",
       "      Num_RotatableBonds   LogD  Molecular_PolarSurfaceArea  ...  Bond_1.0  \\\n",
       "0                    8.0  3.259                      117.37  ...        13   \n",
       "1                    2.0  2.172                       73.47  ...        11   \n",
       "2                    3.0  1.585                       62.45  ...        10   \n",
       "3                    5.0  3.475                       92.60  ...        20   \n",
       "4                    1.0  2.337                       42.43  ...         9   \n",
       "...                  ...    ...                         ...  ...       ...   \n",
       "3941                 7.0  4.207                       55.13  ...        17   \n",
       "3942                 1.0 -1.736                       70.16  ...        22   \n",
       "3943                 3.0  1.792                       69.72  ...        14   \n",
       "3944                 2.0  0.423                       69.64  ...         7   \n",
       "3945                 5.0  0.606                       19.62  ...        14   \n",
       "\n",
       "      Bond_1.5  Bond_2.0  Bond_3.0  Molecular_Weight_Bins  \\\n",
       "0           16         1         0                      3   \n",
       "1           11         1         0                      2   \n",
       "2           15         0         0                      2   \n",
       "3           17         2         0                      3   \n",
       "4           12         1         0                      2   \n",
       "...        ...       ...       ...                    ...   \n",
       "3941         5         1         0                      2   \n",
       "3942         0         4         0                      2   \n",
       "3943        12         3         0                      2   \n",
       "3944        12         2         0                      2   \n",
       "3945         5         0         0                      2   \n",
       "\n",
       "      H_Acceptors_x_H_Donors    AlogP^2     LogD^2  Alog_LogD  SMILES_Length  \n",
       "0                       10.0  10.621081  10.621081  10.621081             47  \n",
       "1                        2.0   4.704561   4.717584   4.711068             36  \n",
       "2                        0.0   2.537649   2.512225   2.524905             32  \n",
       "3                        0.0  22.762441  12.075625  16.579225             63  \n",
       "4                        0.0   5.452225   5.461569   5.456895             35  \n",
       "...                      ...        ...        ...        ...            ...  \n",
       "3941                     2.0  17.698849  17.698849  17.698849             33  \n",
       "3942                     0.0   0.369664   3.013696   1.055488             46  \n",
       "3943                     3.0   3.211264   3.211264   3.211264             45  \n",
       "3944                     6.0   0.624100   0.178929   0.334170             37  \n",
       "3945                     0.0   7.739524   0.367236   1.685892             28  \n",
       "\n",
       "[3946 rows x 30 columns]"
      ]
     },
     "execution_count": 26,
     "metadata": {},
     "output_type": "execute_result"
    }
   ],
   "source": [
    "df_total.reset_index(drop = True, inplace= True)\n",
    "df_total"
   ]
  },
  {
   "cell_type": "code",
   "execution_count": 27,
   "metadata": {},
   "outputs": [
    {
     "data": {
      "text/html": [
       "<div>\n",
       "<style scoped>\n",
       "    .dataframe tbody tr th:only-of-type {\n",
       "        vertical-align: middle;\n",
       "    }\n",
       "\n",
       "    .dataframe tbody tr th {\n",
       "        vertical-align: top;\n",
       "    }\n",
       "\n",
       "    .dataframe thead th {\n",
       "        text-align: right;\n",
       "    }\n",
       "</style>\n",
       "<table border=\"1\" class=\"dataframe\">\n",
       "  <thead>\n",
       "    <tr style=\"text-align: right;\">\n",
       "      <th></th>\n",
       "      <th>MLM</th>\n",
       "      <th>HLM</th>\n",
       "      <th>SMILES</th>\n",
       "      <th>AlogP</th>\n",
       "      <th>Molecular_Weight</th>\n",
       "      <th>Num_H_Acceptors</th>\n",
       "      <th>Num_H_Donors</th>\n",
       "      <th>Num_RotatableBonds</th>\n",
       "      <th>LogD</th>\n",
       "      <th>Molecular_PolarSurfaceArea</th>\n",
       "      <th>...</th>\n",
       "      <th>SRW10</th>\n",
       "      <th>TSRW10</th>\n",
       "      <th>MW</th>\n",
       "      <th>AMW</th>\n",
       "      <th>WPath</th>\n",
       "      <th>WPol</th>\n",
       "      <th>Zagreb1</th>\n",
       "      <th>Zagreb2</th>\n",
       "      <th>mZagreb1</th>\n",
       "      <th>mZagreb2</th>\n",
       "    </tr>\n",
       "  </thead>\n",
       "  <tbody>\n",
       "    <tr>\n",
       "      <th>0</th>\n",
       "      <td>26.010</td>\n",
       "      <td>50.680</td>\n",
       "      <td>CCOc1ccc(CNC(=O)c2cc(-c3sc(C)nc3C)n[nH]2)cc1OCC</td>\n",
       "      <td>3.259</td>\n",
       "      <td>400.495</td>\n",
       "      <td>5.0</td>\n",
       "      <td>2.0</td>\n",
       "      <td>8.0</td>\n",
       "      <td>3.259</td>\n",
       "      <td>117.37</td>\n",
       "      <td>...</td>\n",
       "      <td>10.081676</td>\n",
       "      <td>78.761075</td>\n",
       "      <td>400.156912</td>\n",
       "      <td>7.695325</td>\n",
       "      <td>2380</td>\n",
       "      <td>40</td>\n",
       "      <td>142.0</td>\n",
       "      <td>165.0</td>\n",
       "      <td>9.500000</td>\n",
       "      <td>6.361111</td>\n",
       "    </tr>\n",
       "    <tr>\n",
       "      <th>1</th>\n",
       "      <td>29.270</td>\n",
       "      <td>50.590</td>\n",
       "      <td>Cc1nc(C)c(CN2CC(C)C(=O)Nc3ccccc32)s1</td>\n",
       "      <td>2.169</td>\n",
       "      <td>301.407</td>\n",
       "      <td>2.0</td>\n",
       "      <td>1.0</td>\n",
       "      <td>2.0</td>\n",
       "      <td>2.172</td>\n",
       "      <td>73.47</td>\n",
       "      <td>...</td>\n",
       "      <td>9.907828</td>\n",
       "      <td>69.149596</td>\n",
       "      <td>301.124883</td>\n",
       "      <td>7.528122</td>\n",
       "      <td>870</td>\n",
       "      <td>35</td>\n",
       "      <td>112.0</td>\n",
       "      <td>132.0</td>\n",
       "      <td>7.138889</td>\n",
       "      <td>4.527778</td>\n",
       "    </tr>\n",
       "    <tr>\n",
       "      <th>2</th>\n",
       "      <td>5.586</td>\n",
       "      <td>80.892</td>\n",
       "      <td>CCCN1CCN(c2nn3nnnc3c3ccccc23)CC1</td>\n",
       "      <td>1.593</td>\n",
       "      <td>297.358</td>\n",
       "      <td>5.0</td>\n",
       "      <td>0.0</td>\n",
       "      <td>3.0</td>\n",
       "      <td>1.585</td>\n",
       "      <td>62.45</td>\n",
       "      <td>...</td>\n",
       "      <td>10.144510</td>\n",
       "      <td>70.158066</td>\n",
       "      <td>297.170194</td>\n",
       "      <td>7.248054</td>\n",
       "      <td>1028</td>\n",
       "      <td>36</td>\n",
       "      <td>120.0</td>\n",
       "      <td>145.0</td>\n",
       "      <td>5.277778</td>\n",
       "      <td>4.888889</td>\n",
       "    </tr>\n",
       "    <tr>\n",
       "      <th>3</th>\n",
       "      <td>5.710</td>\n",
       "      <td>2.000</td>\n",
       "      <td>Cc1ccc(-c2ccc(-n3nc(C)c(S(=O)(=O)N4CCN(C5CCCCC...</td>\n",
       "      <td>4.771</td>\n",
       "      <td>494.652</td>\n",
       "      <td>6.0</td>\n",
       "      <td>0.0</td>\n",
       "      <td>5.0</td>\n",
       "      <td>3.475</td>\n",
       "      <td>92.60</td>\n",
       "      <td>...</td>\n",
       "      <td>10.613467</td>\n",
       "      <td>86.199585</td>\n",
       "      <td>494.246395</td>\n",
       "      <td>7.162991</td>\n",
       "      <td>4170</td>\n",
       "      <td>61</td>\n",
       "      <td>192.0</td>\n",
       "      <td>231.0</td>\n",
       "      <td>10.784722</td>\n",
       "      <td>7.500000</td>\n",
       "    </tr>\n",
       "    <tr>\n",
       "      <th>4</th>\n",
       "      <td>93.270</td>\n",
       "      <td>99.990</td>\n",
       "      <td>Cc1ccc2c(c1)N(C(=O)c1ccncc1)CC(C)O2</td>\n",
       "      <td>2.335</td>\n",
       "      <td>268.310</td>\n",
       "      <td>3.0</td>\n",
       "      <td>0.0</td>\n",
       "      <td>1.0</td>\n",
       "      <td>2.337</td>\n",
       "      <td>42.43</td>\n",
       "      <td>...</td>\n",
       "      <td>9.978363</td>\n",
       "      <td>53.872357</td>\n",
       "      <td>268.121178</td>\n",
       "      <td>7.447810</td>\n",
       "      <td>762</td>\n",
       "      <td>32</td>\n",
       "      <td>106.0</td>\n",
       "      <td>125.0</td>\n",
       "      <td>6.277778</td>\n",
       "      <td>4.361111</td>\n",
       "    </tr>\n",
       "    <tr>\n",
       "      <th>...</th>\n",
       "      <td>...</td>\n",
       "      <td>...</td>\n",
       "      <td>...</td>\n",
       "      <td>...</td>\n",
       "      <td>...</td>\n",
       "      <td>...</td>\n",
       "      <td>...</td>\n",
       "      <td>...</td>\n",
       "      <td>...</td>\n",
       "      <td>...</td>\n",
       "      <td>...</td>\n",
       "      <td>...</td>\n",
       "      <td>...</td>\n",
       "      <td>...</td>\n",
       "      <td>...</td>\n",
       "      <td>...</td>\n",
       "      <td>...</td>\n",
       "      <td>...</td>\n",
       "      <td>...</td>\n",
       "      <td>...</td>\n",
       "      <td>...</td>\n",
       "    </tr>\n",
       "    <tr>\n",
       "      <th>3941</th>\n",
       "      <td>NaN</td>\n",
       "      <td>NaN</td>\n",
       "      <td>CCc1noc(CC)c1CC(=O)NCC1(CC)CCCCC1</td>\n",
       "      <td>4.207</td>\n",
       "      <td>306.443</td>\n",
       "      <td>2.0</td>\n",
       "      <td>1.0</td>\n",
       "      <td>7.0</td>\n",
       "      <td>4.207</td>\n",
       "      <td>55.13</td>\n",
       "      <td>...</td>\n",
       "      <td>9.862509</td>\n",
       "      <td>69.656439</td>\n",
       "      <td>306.230728</td>\n",
       "      <td>5.889052</td>\n",
       "      <td>1138</td>\n",
       "      <td>32</td>\n",
       "      <td>108.0</td>\n",
       "      <td>125.0</td>\n",
       "      <td>7.756944</td>\n",
       "      <td>5.222222</td>\n",
       "    </tr>\n",
       "    <tr>\n",
       "      <th>3942</th>\n",
       "      <td>NaN</td>\n",
       "      <td>NaN</td>\n",
       "      <td>CC(=O)N1CCC2(CC1)OC(=O)C(C)=C2C(=O)N1CCN(C)CC1</td>\n",
       "      <td>-0.608</td>\n",
       "      <td>335.398</td>\n",
       "      <td>5.0</td>\n",
       "      <td>0.0</td>\n",
       "      <td>1.0</td>\n",
       "      <td>-1.736</td>\n",
       "      <td>70.16</td>\n",
       "      <td>...</td>\n",
       "      <td>10.288852</td>\n",
       "      <td>73.647870</td>\n",
       "      <td>335.184506</td>\n",
       "      <td>6.840500</td>\n",
       "      <td>1280</td>\n",
       "      <td>42</td>\n",
       "      <td>130.0</td>\n",
       "      <td>157.0</td>\n",
       "      <td>9.201389</td>\n",
       "      <td>5.180556</td>\n",
       "    </tr>\n",
       "    <tr>\n",
       "      <th>3943</th>\n",
       "      <td>NaN</td>\n",
       "      <td>NaN</td>\n",
       "      <td>CC(C)NC(=O)CN1C(=O)c2ccccc2N2C(=O)c3ccccc3C12</td>\n",
       "      <td>1.792</td>\n",
       "      <td>349.383</td>\n",
       "      <td>3.0</td>\n",
       "      <td>1.0</td>\n",
       "      <td>3.0</td>\n",
       "      <td>1.792</td>\n",
       "      <td>69.72</td>\n",
       "      <td>...</td>\n",
       "      <td>10.447235</td>\n",
       "      <td>76.277596</td>\n",
       "      <td>349.142641</td>\n",
       "      <td>7.758725</td>\n",
       "      <td>1469</td>\n",
       "      <td>48</td>\n",
       "      <td>144.0</td>\n",
       "      <td>177.0</td>\n",
       "      <td>8.722222</td>\n",
       "      <td>5.611111</td>\n",
       "    </tr>\n",
       "    <tr>\n",
       "      <th>3944</th>\n",
       "      <td>NaN</td>\n",
       "      <td>NaN</td>\n",
       "      <td>Cn1cc(Br)c(=O)c(NC(=O)c2ccc(O)cc2F)c1</td>\n",
       "      <td>0.790</td>\n",
       "      <td>341.132</td>\n",
       "      <td>3.0</td>\n",
       "      <td>2.0</td>\n",
       "      <td>2.0</td>\n",
       "      <td>0.423</td>\n",
       "      <td>69.64</td>\n",
       "      <td>...</td>\n",
       "      <td>9.874728</td>\n",
       "      <td>53.565348</td>\n",
       "      <td>339.985883</td>\n",
       "      <td>11.332863</td>\n",
       "      <td>826</td>\n",
       "      <td>31</td>\n",
       "      <td>102.0</td>\n",
       "      <td>118.0</td>\n",
       "      <td>8.388889</td>\n",
       "      <td>4.361111</td>\n",
       "    </tr>\n",
       "    <tr>\n",
       "      <th>3945</th>\n",
       "      <td>NaN</td>\n",
       "      <td>NaN</td>\n",
       "      <td>CC(C)C(CCN1CCN(C)CC1)c1ccco1</td>\n",
       "      <td>2.782</td>\n",
       "      <td>250.380</td>\n",
       "      <td>2.0</td>\n",
       "      <td>0.0</td>\n",
       "      <td>5.0</td>\n",
       "      <td>0.606</td>\n",
       "      <td>19.62</td>\n",
       "      <td>...</td>\n",
       "      <td>9.478763</td>\n",
       "      <td>63.502070</td>\n",
       "      <td>250.204513</td>\n",
       "      <td>5.686466</td>\n",
       "      <td>660</td>\n",
       "      <td>22</td>\n",
       "      <td>88.0</td>\n",
       "      <td>99.0</td>\n",
       "      <td>6.055556</td>\n",
       "      <td>4.055556</td>\n",
       "    </tr>\n",
       "  </tbody>\n",
       "</table>\n",
       "<p>3946 rows × 1856 columns</p>\n",
       "</div>"
      ],
      "text/plain": [
       "         MLM     HLM                                             SMILES  \\\n",
       "0     26.010  50.680    CCOc1ccc(CNC(=O)c2cc(-c3sc(C)nc3C)n[nH]2)cc1OCC   \n",
       "1     29.270  50.590               Cc1nc(C)c(CN2CC(C)C(=O)Nc3ccccc32)s1   \n",
       "2      5.586  80.892                   CCCN1CCN(c2nn3nnnc3c3ccccc23)CC1   \n",
       "3      5.710   2.000  Cc1ccc(-c2ccc(-n3nc(C)c(S(=O)(=O)N4CCN(C5CCCCC...   \n",
       "4     93.270  99.990                Cc1ccc2c(c1)N(C(=O)c1ccncc1)CC(C)O2   \n",
       "...      ...     ...                                                ...   \n",
       "3941     NaN     NaN                  CCc1noc(CC)c1CC(=O)NCC1(CC)CCCCC1   \n",
       "3942     NaN     NaN     CC(=O)N1CCC2(CC1)OC(=O)C(C)=C2C(=O)N1CCN(C)CC1   \n",
       "3943     NaN     NaN      CC(C)NC(=O)CN1C(=O)c2ccccc2N2C(=O)c3ccccc3C12   \n",
       "3944     NaN     NaN              Cn1cc(Br)c(=O)c(NC(=O)c2ccc(O)cc2F)c1   \n",
       "3945     NaN     NaN                       CC(C)C(CCN1CCN(C)CC1)c1ccco1   \n",
       "\n",
       "      AlogP  Molecular_Weight  Num_H_Acceptors  Num_H_Donors  \\\n",
       "0     3.259           400.495              5.0           2.0   \n",
       "1     2.169           301.407              2.0           1.0   \n",
       "2     1.593           297.358              5.0           0.0   \n",
       "3     4.771           494.652              6.0           0.0   \n",
       "4     2.335           268.310              3.0           0.0   \n",
       "...     ...               ...              ...           ...   \n",
       "3941  4.207           306.443              2.0           1.0   \n",
       "3942 -0.608           335.398              5.0           0.0   \n",
       "3943  1.792           349.383              3.0           1.0   \n",
       "3944  0.790           341.132              3.0           2.0   \n",
       "3945  2.782           250.380              2.0           0.0   \n",
       "\n",
       "      Num_RotatableBonds   LogD  Molecular_PolarSurfaceArea  ...      SRW10  \\\n",
       "0                    8.0  3.259                      117.37  ...  10.081676   \n",
       "1                    2.0  2.172                       73.47  ...   9.907828   \n",
       "2                    3.0  1.585                       62.45  ...  10.144510   \n",
       "3                    5.0  3.475                       92.60  ...  10.613467   \n",
       "4                    1.0  2.337                       42.43  ...   9.978363   \n",
       "...                  ...    ...                         ...  ...        ...   \n",
       "3941                 7.0  4.207                       55.13  ...   9.862509   \n",
       "3942                 1.0 -1.736                       70.16  ...  10.288852   \n",
       "3943                 3.0  1.792                       69.72  ...  10.447235   \n",
       "3944                 2.0  0.423                       69.64  ...   9.874728   \n",
       "3945                 5.0  0.606                       19.62  ...   9.478763   \n",
       "\n",
       "         TSRW10          MW        AMW  WPath  WPol  Zagreb1  Zagreb2  \\\n",
       "0     78.761075  400.156912   7.695325   2380    40    142.0    165.0   \n",
       "1     69.149596  301.124883   7.528122    870    35    112.0    132.0   \n",
       "2     70.158066  297.170194   7.248054   1028    36    120.0    145.0   \n",
       "3     86.199585  494.246395   7.162991   4170    61    192.0    231.0   \n",
       "4     53.872357  268.121178   7.447810    762    32    106.0    125.0   \n",
       "...         ...         ...        ...    ...   ...      ...      ...   \n",
       "3941  69.656439  306.230728   5.889052   1138    32    108.0    125.0   \n",
       "3942  73.647870  335.184506   6.840500   1280    42    130.0    157.0   \n",
       "3943  76.277596  349.142641   7.758725   1469    48    144.0    177.0   \n",
       "3944  53.565348  339.985883  11.332863    826    31    102.0    118.0   \n",
       "3945  63.502070  250.204513   5.686466    660    22     88.0     99.0   \n",
       "\n",
       "       mZagreb1  mZagreb2  \n",
       "0      9.500000  6.361111  \n",
       "1      7.138889  4.527778  \n",
       "2      5.277778  4.888889  \n",
       "3     10.784722  7.500000  \n",
       "4      6.277778  4.361111  \n",
       "...         ...       ...  \n",
       "3941   7.756944  5.222222  \n",
       "3942   9.201389  5.180556  \n",
       "3943   8.722222  5.611111  \n",
       "3944   8.388889  4.361111  \n",
       "3945   6.055556  4.055556  \n",
       "\n",
       "[3946 rows x 1856 columns]"
      ]
     },
     "execution_count": 27,
     "metadata": {},
     "output_type": "execute_result"
    }
   ],
   "source": [
    "df_total = pd.concat([df_total, total_mordred], axis = 1)\n",
    "df_total"
   ]
  },
  {
   "cell_type": "markdown",
   "metadata": {},
   "source": [
    "## 데이터 나누기 + study 횟수"
   ]
  },
  {
   "cell_type": "code",
   "execution_count": 28,
   "metadata": {},
   "outputs": [],
   "source": [
    "col_list = df_total.columns.to_list()\n",
    "dtype_list = col_list[9:]"
   ]
  },
  {
   "cell_type": "code",
   "execution_count": 29,
   "metadata": {},
   "outputs": [],
   "source": [
    "for i in dtype_list:\n",
    "    if df_total[i].dtype == 'object' or 'category':\n",
    "        df_total[i] = df_total[i].astype('float32')"
   ]
  },
  {
   "cell_type": "code",
   "execution_count": 30,
   "metadata": {},
   "outputs": [
    {
     "name": "stdout",
     "output_type": "stream",
     "text": [
      "<class 'pandas.core.frame.DataFrame'>\n",
      "RangeIndex: 3946 entries, 0 to 3945\n",
      "Columns: 1856 entries, MLM to mZagreb2\n",
      "dtypes: float32(1847), float64(8), object(1)\n",
      "memory usage: 28.1+ MB\n"
     ]
    }
   ],
   "source": [
    "df_total.info()"
   ]
  },
  {
   "cell_type": "code",
   "execution_count": 31,
   "metadata": {},
   "outputs": [],
   "source": [
    "dataframe_number = len(df_train) - 8"
   ]
  },
  {
   "cell_type": "code",
   "execution_count": 32,
   "metadata": {},
   "outputs": [
    {
     "data": {
      "text/html": [
       "<div>\n",
       "<style scoped>\n",
       "    .dataframe tbody tr th:only-of-type {\n",
       "        vertical-align: middle;\n",
       "    }\n",
       "\n",
       "    .dataframe tbody tr th {\n",
       "        vertical-align: top;\n",
       "    }\n",
       "\n",
       "    .dataframe thead th {\n",
       "        text-align: right;\n",
       "    }\n",
       "</style>\n",
       "<table border=\"1\" class=\"dataframe\">\n",
       "  <thead>\n",
       "    <tr style=\"text-align: right;\">\n",
       "      <th></th>\n",
       "      <th>AlogP</th>\n",
       "      <th>Molecular_Weight</th>\n",
       "      <th>Num_H_Acceptors</th>\n",
       "      <th>Num_H_Donors</th>\n",
       "      <th>Num_RotatableBonds</th>\n",
       "      <th>LogD</th>\n",
       "      <th>Molecular_PolarSurfaceArea</th>\n",
       "      <th>C</th>\n",
       "      <th>O</th>\n",
       "      <th>N</th>\n",
       "      <th>...</th>\n",
       "      <th>SRW10</th>\n",
       "      <th>TSRW10</th>\n",
       "      <th>MW</th>\n",
       "      <th>AMW</th>\n",
       "      <th>WPath</th>\n",
       "      <th>WPol</th>\n",
       "      <th>Zagreb1</th>\n",
       "      <th>Zagreb2</th>\n",
       "      <th>mZagreb1</th>\n",
       "      <th>mZagreb2</th>\n",
       "    </tr>\n",
       "  </thead>\n",
       "  <tbody>\n",
       "    <tr>\n",
       "      <th>0</th>\n",
       "      <td>3.259</td>\n",
       "      <td>400.495</td>\n",
       "      <td>5.0</td>\n",
       "      <td>2.0</td>\n",
       "      <td>8.0</td>\n",
       "      <td>3.259</td>\n",
       "      <td>117.370003</td>\n",
       "      <td>20.0</td>\n",
       "      <td>3.0</td>\n",
       "      <td>4.0</td>\n",
       "      <td>...</td>\n",
       "      <td>10.081676</td>\n",
       "      <td>78.761078</td>\n",
       "      <td>400.156921</td>\n",
       "      <td>7.695325</td>\n",
       "      <td>2380.0</td>\n",
       "      <td>40.0</td>\n",
       "      <td>142.0</td>\n",
       "      <td>165.0</td>\n",
       "      <td>9.500000</td>\n",
       "      <td>6.361111</td>\n",
       "    </tr>\n",
       "    <tr>\n",
       "      <th>1</th>\n",
       "      <td>2.169</td>\n",
       "      <td>301.407</td>\n",
       "      <td>2.0</td>\n",
       "      <td>1.0</td>\n",
       "      <td>2.0</td>\n",
       "      <td>2.172</td>\n",
       "      <td>73.470001</td>\n",
       "      <td>16.0</td>\n",
       "      <td>1.0</td>\n",
       "      <td>3.0</td>\n",
       "      <td>...</td>\n",
       "      <td>9.907828</td>\n",
       "      <td>69.149597</td>\n",
       "      <td>301.124878</td>\n",
       "      <td>7.528122</td>\n",
       "      <td>870.0</td>\n",
       "      <td>35.0</td>\n",
       "      <td>112.0</td>\n",
       "      <td>132.0</td>\n",
       "      <td>7.138889</td>\n",
       "      <td>4.527778</td>\n",
       "    </tr>\n",
       "    <tr>\n",
       "      <th>2</th>\n",
       "      <td>1.593</td>\n",
       "      <td>297.358</td>\n",
       "      <td>5.0</td>\n",
       "      <td>0.0</td>\n",
       "      <td>3.0</td>\n",
       "      <td>1.585</td>\n",
       "      <td>62.450001</td>\n",
       "      <td>15.0</td>\n",
       "      <td>0.0</td>\n",
       "      <td>7.0</td>\n",
       "      <td>...</td>\n",
       "      <td>10.144510</td>\n",
       "      <td>70.158066</td>\n",
       "      <td>297.170197</td>\n",
       "      <td>7.248054</td>\n",
       "      <td>1028.0</td>\n",
       "      <td>36.0</td>\n",
       "      <td>120.0</td>\n",
       "      <td>145.0</td>\n",
       "      <td>5.277778</td>\n",
       "      <td>4.888889</td>\n",
       "    </tr>\n",
       "    <tr>\n",
       "      <th>3</th>\n",
       "      <td>4.771</td>\n",
       "      <td>494.652</td>\n",
       "      <td>6.0</td>\n",
       "      <td>0.0</td>\n",
       "      <td>5.0</td>\n",
       "      <td>3.475</td>\n",
       "      <td>92.599998</td>\n",
       "      <td>26.0</td>\n",
       "      <td>2.0</td>\n",
       "      <td>6.0</td>\n",
       "      <td>...</td>\n",
       "      <td>10.613467</td>\n",
       "      <td>86.199585</td>\n",
       "      <td>494.246399</td>\n",
       "      <td>7.162991</td>\n",
       "      <td>4170.0</td>\n",
       "      <td>61.0</td>\n",
       "      <td>192.0</td>\n",
       "      <td>231.0</td>\n",
       "      <td>10.784722</td>\n",
       "      <td>7.500000</td>\n",
       "    </tr>\n",
       "    <tr>\n",
       "      <th>4</th>\n",
       "      <td>2.335</td>\n",
       "      <td>268.310</td>\n",
       "      <td>3.0</td>\n",
       "      <td>0.0</td>\n",
       "      <td>1.0</td>\n",
       "      <td>2.337</td>\n",
       "      <td>42.430000</td>\n",
       "      <td>16.0</td>\n",
       "      <td>2.0</td>\n",
       "      <td>2.0</td>\n",
       "      <td>...</td>\n",
       "      <td>9.978363</td>\n",
       "      <td>53.872356</td>\n",
       "      <td>268.121185</td>\n",
       "      <td>7.447811</td>\n",
       "      <td>762.0</td>\n",
       "      <td>32.0</td>\n",
       "      <td>106.0</td>\n",
       "      <td>125.0</td>\n",
       "      <td>6.277778</td>\n",
       "      <td>4.361111</td>\n",
       "    </tr>\n",
       "    <tr>\n",
       "      <th>...</th>\n",
       "      <td>...</td>\n",
       "      <td>...</td>\n",
       "      <td>...</td>\n",
       "      <td>...</td>\n",
       "      <td>...</td>\n",
       "      <td>...</td>\n",
       "      <td>...</td>\n",
       "      <td>...</td>\n",
       "      <td>...</td>\n",
       "      <td>...</td>\n",
       "      <td>...</td>\n",
       "      <td>...</td>\n",
       "      <td>...</td>\n",
       "      <td>...</td>\n",
       "      <td>...</td>\n",
       "      <td>...</td>\n",
       "      <td>...</td>\n",
       "      <td>...</td>\n",
       "      <td>...</td>\n",
       "      <td>...</td>\n",
       "      <td>...</td>\n",
       "    </tr>\n",
       "    <tr>\n",
       "      <th>3458</th>\n",
       "      <td>4.282</td>\n",
       "      <td>553.480</td>\n",
       "      <td>5.0</td>\n",
       "      <td>0.0</td>\n",
       "      <td>7.0</td>\n",
       "      <td>4.009</td>\n",
       "      <td>65.980003</td>\n",
       "      <td>29.0</td>\n",
       "      <td>3.0</td>\n",
       "      <td>4.0</td>\n",
       "      <td>...</td>\n",
       "      <td>10.593756</td>\n",
       "      <td>88.164474</td>\n",
       "      <td>552.169495</td>\n",
       "      <td>8.120140</td>\n",
       "      <td>4874.0</td>\n",
       "      <td>63.0</td>\n",
       "      <td>204.0</td>\n",
       "      <td>242.0</td>\n",
       "      <td>12.055555</td>\n",
       "      <td>8.222222</td>\n",
       "    </tr>\n",
       "    <tr>\n",
       "      <th>3459</th>\n",
       "      <td>4.304</td>\n",
       "      <td>459.520</td>\n",
       "      <td>6.0</td>\n",
       "      <td>1.0</td>\n",
       "      <td>4.0</td>\n",
       "      <td>4.304</td>\n",
       "      <td>113.529999</td>\n",
       "      <td>24.0</td>\n",
       "      <td>3.0</td>\n",
       "      <td>5.0</td>\n",
       "      <td>...</td>\n",
       "      <td>10.677177</td>\n",
       "      <td>84.226166</td>\n",
       "      <td>459.136505</td>\n",
       "      <td>8.502528</td>\n",
       "      <td>2888.0</td>\n",
       "      <td>61.0</td>\n",
       "      <td>186.0</td>\n",
       "      <td>227.0</td>\n",
       "      <td>10.895833</td>\n",
       "      <td>6.944445</td>\n",
       "    </tr>\n",
       "    <tr>\n",
       "      <th>3460</th>\n",
       "      <td>-1.133</td>\n",
       "      <td>385.417</td>\n",
       "      <td>7.0</td>\n",
       "      <td>0.0</td>\n",
       "      <td>4.0</td>\n",
       "      <td>-1.133</td>\n",
       "      <td>108.650002</td>\n",
       "      <td>19.0</td>\n",
       "      <td>4.0</td>\n",
       "      <td>5.0</td>\n",
       "      <td>...</td>\n",
       "      <td>10.177818</td>\n",
       "      <td>79.094666</td>\n",
       "      <td>385.175018</td>\n",
       "      <td>7.552451</td>\n",
       "      <td>2262.0</td>\n",
       "      <td>42.0</td>\n",
       "      <td>148.0</td>\n",
       "      <td>175.0</td>\n",
       "      <td>8.000000</td>\n",
       "      <td>6.222222</td>\n",
       "    </tr>\n",
       "    <tr>\n",
       "      <th>3461</th>\n",
       "      <td>-0.533</td>\n",
       "      <td>302.289</td>\n",
       "      <td>6.0</td>\n",
       "      <td>1.0</td>\n",
       "      <td>2.0</td>\n",
       "      <td>-0.533</td>\n",
       "      <td>111.440002</td>\n",
       "      <td>13.0</td>\n",
       "      <td>3.0</td>\n",
       "      <td>6.0</td>\n",
       "      <td>...</td>\n",
       "      <td>9.881191</td>\n",
       "      <td>71.515480</td>\n",
       "      <td>302.112732</td>\n",
       "      <td>8.392020</td>\n",
       "      <td>1133.0</td>\n",
       "      <td>31.0</td>\n",
       "      <td>114.0</td>\n",
       "      <td>134.0</td>\n",
       "      <td>6.777778</td>\n",
       "      <td>4.944445</td>\n",
       "    </tr>\n",
       "    <tr>\n",
       "      <th>3462</th>\n",
       "      <td>5.630</td>\n",
       "      <td>466.572</td>\n",
       "      <td>4.0</td>\n",
       "      <td>0.0</td>\n",
       "      <td>8.0</td>\n",
       "      <td>5.630</td>\n",
       "      <td>94.900002</td>\n",
       "      <td>24.0</td>\n",
       "      <td>4.0</td>\n",
       "      <td>2.0</td>\n",
       "      <td>...</td>\n",
       "      <td>10.410937</td>\n",
       "      <td>83.783310</td>\n",
       "      <td>466.102112</td>\n",
       "      <td>8.631520</td>\n",
       "      <td>3644.0</td>\n",
       "      <td>49.0</td>\n",
       "      <td>170.0</td>\n",
       "      <td>200.0</td>\n",
       "      <td>9.791667</td>\n",
       "      <td>6.916667</td>\n",
       "    </tr>\n",
       "  </tbody>\n",
       "</table>\n",
       "<p>3463 rows × 1853 columns</p>\n",
       "</div>"
      ],
      "text/plain": [
       "      AlogP  Molecular_Weight  Num_H_Acceptors  Num_H_Donors  \\\n",
       "0     3.259           400.495              5.0           2.0   \n",
       "1     2.169           301.407              2.0           1.0   \n",
       "2     1.593           297.358              5.0           0.0   \n",
       "3     4.771           494.652              6.0           0.0   \n",
       "4     2.335           268.310              3.0           0.0   \n",
       "...     ...               ...              ...           ...   \n",
       "3458  4.282           553.480              5.0           0.0   \n",
       "3459  4.304           459.520              6.0           1.0   \n",
       "3460 -1.133           385.417              7.0           0.0   \n",
       "3461 -0.533           302.289              6.0           1.0   \n",
       "3462  5.630           466.572              4.0           0.0   \n",
       "\n",
       "      Num_RotatableBonds   LogD  Molecular_PolarSurfaceArea     C    O    N  \\\n",
       "0                    8.0  3.259                  117.370003  20.0  3.0  4.0   \n",
       "1                    2.0  2.172                   73.470001  16.0  1.0  3.0   \n",
       "2                    3.0  1.585                   62.450001  15.0  0.0  7.0   \n",
       "3                    5.0  3.475                   92.599998  26.0  2.0  6.0   \n",
       "4                    1.0  2.337                   42.430000  16.0  2.0  2.0   \n",
       "...                  ...    ...                         ...   ...  ...  ...   \n",
       "3458                 7.0  4.009                   65.980003  29.0  3.0  4.0   \n",
       "3459                 4.0  4.304                  113.529999  24.0  3.0  5.0   \n",
       "3460                 4.0 -1.133                  108.650002  19.0  4.0  5.0   \n",
       "3461                 2.0 -0.533                  111.440002  13.0  3.0  6.0   \n",
       "3462                 8.0  5.630                   94.900002  24.0  4.0  2.0   \n",
       "\n",
       "      ...      SRW10     TSRW10          MW       AMW   WPath  WPol  Zagreb1  \\\n",
       "0     ...  10.081676  78.761078  400.156921  7.695325  2380.0  40.0    142.0   \n",
       "1     ...   9.907828  69.149597  301.124878  7.528122   870.0  35.0    112.0   \n",
       "2     ...  10.144510  70.158066  297.170197  7.248054  1028.0  36.0    120.0   \n",
       "3     ...  10.613467  86.199585  494.246399  7.162991  4170.0  61.0    192.0   \n",
       "4     ...   9.978363  53.872356  268.121185  7.447811   762.0  32.0    106.0   \n",
       "...   ...        ...        ...         ...       ...     ...   ...      ...   \n",
       "3458  ...  10.593756  88.164474  552.169495  8.120140  4874.0  63.0    204.0   \n",
       "3459  ...  10.677177  84.226166  459.136505  8.502528  2888.0  61.0    186.0   \n",
       "3460  ...  10.177818  79.094666  385.175018  7.552451  2262.0  42.0    148.0   \n",
       "3461  ...   9.881191  71.515480  302.112732  8.392020  1133.0  31.0    114.0   \n",
       "3462  ...  10.410937  83.783310  466.102112  8.631520  3644.0  49.0    170.0   \n",
       "\n",
       "      Zagreb2   mZagreb1  mZagreb2  \n",
       "0       165.0   9.500000  6.361111  \n",
       "1       132.0   7.138889  4.527778  \n",
       "2       145.0   5.277778  4.888889  \n",
       "3       231.0  10.784722  7.500000  \n",
       "4       125.0   6.277778  4.361111  \n",
       "...       ...        ...       ...  \n",
       "3458    242.0  12.055555  8.222222  \n",
       "3459    227.0  10.895833  6.944445  \n",
       "3460    175.0   8.000000  6.222222  \n",
       "3461    134.0   6.777778  4.944445  \n",
       "3462    200.0   9.791667  6.916667  \n",
       "\n",
       "[3463 rows x 1853 columns]"
      ]
     },
     "execution_count": 32,
     "metadata": {},
     "output_type": "execute_result"
    }
   ],
   "source": [
    "df_train = df_total.iloc[:dataframe_number, :].copy()\n",
    "df_train.reset_index(drop = True, inplace = True)\n",
    "df_train.drop(['SMILES','MLM', 'HLM'], axis=1, inplace = True)\n",
    "df_train"
   ]
  },
  {
   "cell_type": "code",
   "execution_count": 33,
   "metadata": {},
   "outputs": [
    {
     "data": {
      "text/html": [
       "<div>\n",
       "<style scoped>\n",
       "    .dataframe tbody tr th:only-of-type {\n",
       "        vertical-align: middle;\n",
       "    }\n",
       "\n",
       "    .dataframe tbody tr th {\n",
       "        vertical-align: top;\n",
       "    }\n",
       "\n",
       "    .dataframe thead th {\n",
       "        text-align: right;\n",
       "    }\n",
       "</style>\n",
       "<table border=\"1\" class=\"dataframe\">\n",
       "  <thead>\n",
       "    <tr style=\"text-align: right;\">\n",
       "      <th></th>\n",
       "      <th>AlogP</th>\n",
       "      <th>Molecular_Weight</th>\n",
       "      <th>Num_H_Acceptors</th>\n",
       "      <th>Num_H_Donors</th>\n",
       "      <th>Num_RotatableBonds</th>\n",
       "      <th>LogD</th>\n",
       "      <th>Molecular_PolarSurfaceArea</th>\n",
       "      <th>C</th>\n",
       "      <th>O</th>\n",
       "      <th>N</th>\n",
       "      <th>...</th>\n",
       "      <th>SRW10</th>\n",
       "      <th>TSRW10</th>\n",
       "      <th>MW</th>\n",
       "      <th>AMW</th>\n",
       "      <th>WPath</th>\n",
       "      <th>WPol</th>\n",
       "      <th>Zagreb1</th>\n",
       "      <th>Zagreb2</th>\n",
       "      <th>mZagreb1</th>\n",
       "      <th>mZagreb2</th>\n",
       "    </tr>\n",
       "  </thead>\n",
       "  <tbody>\n",
       "    <tr>\n",
       "      <th>0</th>\n",
       "      <td>2.641</td>\n",
       "      <td>361.505</td>\n",
       "      <td>4.0</td>\n",
       "      <td>2.0</td>\n",
       "      <td>7.0</td>\n",
       "      <td>2.635</td>\n",
       "      <td>92.760002</td>\n",
       "      <td>18.0</td>\n",
       "      <td>1.0</td>\n",
       "      <td>5.0</td>\n",
       "      <td>...</td>\n",
       "      <td>9.935713</td>\n",
       "      <td>72.422577</td>\n",
       "      <td>361.193634</td>\n",
       "      <td>6.946032</td>\n",
       "      <td>1607.0</td>\n",
       "      <td>34.0</td>\n",
       "      <td>126.0</td>\n",
       "      <td>144.0</td>\n",
       "      <td>7.527778</td>\n",
       "      <td>5.638889</td>\n",
       "    </tr>\n",
       "    <tr>\n",
       "      <th>1</th>\n",
       "      <td>0.585</td>\n",
       "      <td>370.399</td>\n",
       "      <td>5.0</td>\n",
       "      <td>0.0</td>\n",
       "      <td>3.0</td>\n",
       "      <td>0.585</td>\n",
       "      <td>68.309998</td>\n",
       "      <td>20.0</td>\n",
       "      <td>5.0</td>\n",
       "      <td>2.0</td>\n",
       "      <td>...</td>\n",
       "      <td>10.330420</td>\n",
       "      <td>76.111618</td>\n",
       "      <td>370.152863</td>\n",
       "      <td>7.554140</td>\n",
       "      <td>1853.0</td>\n",
       "      <td>45.0</td>\n",
       "      <td>146.0</td>\n",
       "      <td>175.0</td>\n",
       "      <td>7.840278</td>\n",
       "      <td>5.972222</td>\n",
       "    </tr>\n",
       "    <tr>\n",
       "      <th>2</th>\n",
       "      <td>4.276</td>\n",
       "      <td>347.414</td>\n",
       "      <td>4.0</td>\n",
       "      <td>4.0</td>\n",
       "      <td>5.0</td>\n",
       "      <td>4.290</td>\n",
       "      <td>92.860001</td>\n",
       "      <td>20.0</td>\n",
       "      <td>1.0</td>\n",
       "      <td>5.0</td>\n",
       "      <td>...</td>\n",
       "      <td>10.008162</td>\n",
       "      <td>60.614033</td>\n",
       "      <td>347.174622</td>\n",
       "      <td>7.386694</td>\n",
       "      <td>1905.0</td>\n",
       "      <td>37.0</td>\n",
       "      <td>132.0</td>\n",
       "      <td>150.0</td>\n",
       "      <td>8.388889</td>\n",
       "      <td>5.722222</td>\n",
       "    </tr>\n",
       "    <tr>\n",
       "      <th>3</th>\n",
       "      <td>1.795</td>\n",
       "      <td>345.358</td>\n",
       "      <td>5.0</td>\n",
       "      <td>0.0</td>\n",
       "      <td>2.0</td>\n",
       "      <td>1.795</td>\n",
       "      <td>81.209999</td>\n",
       "      <td>18.0</td>\n",
       "      <td>1.0</td>\n",
       "      <td>7.0</td>\n",
       "      <td>...</td>\n",
       "      <td>10.288444</td>\n",
       "      <td>77.464783</td>\n",
       "      <td>345.133820</td>\n",
       "      <td>8.417898</td>\n",
       "      <td>1673.0</td>\n",
       "      <td>42.0</td>\n",
       "      <td>146.0</td>\n",
       "      <td>177.0</td>\n",
       "      <td>6.000000</td>\n",
       "      <td>5.583333</td>\n",
       "    </tr>\n",
       "    <tr>\n",
       "      <th>4</th>\n",
       "      <td>1.219</td>\n",
       "      <td>353.418</td>\n",
       "      <td>4.0</td>\n",
       "      <td>0.0</td>\n",
       "      <td>2.0</td>\n",
       "      <td>0.169</td>\n",
       "      <td>61.150002</td>\n",
       "      <td>19.0</td>\n",
       "      <td>2.0</td>\n",
       "      <td>5.0</td>\n",
       "      <td>...</td>\n",
       "      <td>10.380312</td>\n",
       "      <td>75.874626</td>\n",
       "      <td>353.185181</td>\n",
       "      <td>7.207861</td>\n",
       "      <td>1656.0</td>\n",
       "      <td>47.0</td>\n",
       "      <td>144.0</td>\n",
       "      <td>176.0</td>\n",
       "      <td>8.722222</td>\n",
       "      <td>5.638889</td>\n",
       "    </tr>\n",
       "    <tr>\n",
       "      <th>...</th>\n",
       "      <td>...</td>\n",
       "      <td>...</td>\n",
       "      <td>...</td>\n",
       "      <td>...</td>\n",
       "      <td>...</td>\n",
       "      <td>...</td>\n",
       "      <td>...</td>\n",
       "      <td>...</td>\n",
       "      <td>...</td>\n",
       "      <td>...</td>\n",
       "      <td>...</td>\n",
       "      <td>...</td>\n",
       "      <td>...</td>\n",
       "      <td>...</td>\n",
       "      <td>...</td>\n",
       "      <td>...</td>\n",
       "      <td>...</td>\n",
       "      <td>...</td>\n",
       "      <td>...</td>\n",
       "      <td>...</td>\n",
       "      <td>...</td>\n",
       "    </tr>\n",
       "    <tr>\n",
       "      <th>478</th>\n",
       "      <td>4.207</td>\n",
       "      <td>306.443</td>\n",
       "      <td>2.0</td>\n",
       "      <td>1.0</td>\n",
       "      <td>7.0</td>\n",
       "      <td>4.207</td>\n",
       "      <td>55.130001</td>\n",
       "      <td>18.0</td>\n",
       "      <td>2.0</td>\n",
       "      <td>2.0</td>\n",
       "      <td>...</td>\n",
       "      <td>9.862510</td>\n",
       "      <td>69.656441</td>\n",
       "      <td>306.230743</td>\n",
       "      <td>5.889052</td>\n",
       "      <td>1138.0</td>\n",
       "      <td>32.0</td>\n",
       "      <td>108.0</td>\n",
       "      <td>125.0</td>\n",
       "      <td>7.756945</td>\n",
       "      <td>5.222222</td>\n",
       "    </tr>\n",
       "    <tr>\n",
       "      <th>479</th>\n",
       "      <td>-0.608</td>\n",
       "      <td>335.398</td>\n",
       "      <td>5.0</td>\n",
       "      <td>0.0</td>\n",
       "      <td>1.0</td>\n",
       "      <td>-1.736</td>\n",
       "      <td>70.160004</td>\n",
       "      <td>17.0</td>\n",
       "      <td>4.0</td>\n",
       "      <td>3.0</td>\n",
       "      <td>...</td>\n",
       "      <td>10.288852</td>\n",
       "      <td>73.647873</td>\n",
       "      <td>335.184509</td>\n",
       "      <td>6.840500</td>\n",
       "      <td>1280.0</td>\n",
       "      <td>42.0</td>\n",
       "      <td>130.0</td>\n",
       "      <td>157.0</td>\n",
       "      <td>9.201389</td>\n",
       "      <td>5.180555</td>\n",
       "    </tr>\n",
       "    <tr>\n",
       "      <th>480</th>\n",
       "      <td>1.792</td>\n",
       "      <td>349.383</td>\n",
       "      <td>3.0</td>\n",
       "      <td>1.0</td>\n",
       "      <td>3.0</td>\n",
       "      <td>1.792</td>\n",
       "      <td>69.720001</td>\n",
       "      <td>20.0</td>\n",
       "      <td>3.0</td>\n",
       "      <td>3.0</td>\n",
       "      <td>...</td>\n",
       "      <td>10.447235</td>\n",
       "      <td>76.277596</td>\n",
       "      <td>349.142639</td>\n",
       "      <td>7.758725</td>\n",
       "      <td>1469.0</td>\n",
       "      <td>48.0</td>\n",
       "      <td>144.0</td>\n",
       "      <td>177.0</td>\n",
       "      <td>8.722222</td>\n",
       "      <td>5.611111</td>\n",
       "    </tr>\n",
       "    <tr>\n",
       "      <th>481</th>\n",
       "      <td>0.790</td>\n",
       "      <td>341.132</td>\n",
       "      <td>3.0</td>\n",
       "      <td>2.0</td>\n",
       "      <td>2.0</td>\n",
       "      <td>0.423</td>\n",
       "      <td>69.639999</td>\n",
       "      <td>13.0</td>\n",
       "      <td>3.0</td>\n",
       "      <td>2.0</td>\n",
       "      <td>...</td>\n",
       "      <td>9.874728</td>\n",
       "      <td>53.565346</td>\n",
       "      <td>339.985870</td>\n",
       "      <td>11.332863</td>\n",
       "      <td>826.0</td>\n",
       "      <td>31.0</td>\n",
       "      <td>102.0</td>\n",
       "      <td>118.0</td>\n",
       "      <td>8.388889</td>\n",
       "      <td>4.361111</td>\n",
       "    </tr>\n",
       "    <tr>\n",
       "      <th>482</th>\n",
       "      <td>2.782</td>\n",
       "      <td>250.380</td>\n",
       "      <td>2.0</td>\n",
       "      <td>0.0</td>\n",
       "      <td>5.0</td>\n",
       "      <td>0.606</td>\n",
       "      <td>19.620001</td>\n",
       "      <td>15.0</td>\n",
       "      <td>1.0</td>\n",
       "      <td>2.0</td>\n",
       "      <td>...</td>\n",
       "      <td>9.478764</td>\n",
       "      <td>63.502071</td>\n",
       "      <td>250.204514</td>\n",
       "      <td>5.686466</td>\n",
       "      <td>660.0</td>\n",
       "      <td>22.0</td>\n",
       "      <td>88.0</td>\n",
       "      <td>99.0</td>\n",
       "      <td>6.055555</td>\n",
       "      <td>4.055555</td>\n",
       "    </tr>\n",
       "  </tbody>\n",
       "</table>\n",
       "<p>483 rows × 1853 columns</p>\n",
       "</div>"
      ],
      "text/plain": [
       "     AlogP  Molecular_Weight  Num_H_Acceptors  Num_H_Donors  \\\n",
       "0    2.641           361.505              4.0           2.0   \n",
       "1    0.585           370.399              5.0           0.0   \n",
       "2    4.276           347.414              4.0           4.0   \n",
       "3    1.795           345.358              5.0           0.0   \n",
       "4    1.219           353.418              4.0           0.0   \n",
       "..     ...               ...              ...           ...   \n",
       "478  4.207           306.443              2.0           1.0   \n",
       "479 -0.608           335.398              5.0           0.0   \n",
       "480  1.792           349.383              3.0           1.0   \n",
       "481  0.790           341.132              3.0           2.0   \n",
       "482  2.782           250.380              2.0           0.0   \n",
       "\n",
       "     Num_RotatableBonds   LogD  Molecular_PolarSurfaceArea     C    O    N  \\\n",
       "0                   7.0  2.635                   92.760002  18.0  1.0  5.0   \n",
       "1                   3.0  0.585                   68.309998  20.0  5.0  2.0   \n",
       "2                   5.0  4.290                   92.860001  20.0  1.0  5.0   \n",
       "3                   2.0  1.795                   81.209999  18.0  1.0  7.0   \n",
       "4                   2.0  0.169                   61.150002  19.0  2.0  5.0   \n",
       "..                  ...    ...                         ...   ...  ...  ...   \n",
       "478                 7.0  4.207                   55.130001  18.0  2.0  2.0   \n",
       "479                 1.0 -1.736                   70.160004  17.0  4.0  3.0   \n",
       "480                 3.0  1.792                   69.720001  20.0  3.0  3.0   \n",
       "481                 2.0  0.423                   69.639999  13.0  3.0  2.0   \n",
       "482                 5.0  0.606                   19.620001  15.0  1.0  2.0   \n",
       "\n",
       "     ...      SRW10     TSRW10          MW        AMW   WPath  WPol  Zagreb1  \\\n",
       "0    ...   9.935713  72.422577  361.193634   6.946032  1607.0  34.0    126.0   \n",
       "1    ...  10.330420  76.111618  370.152863   7.554140  1853.0  45.0    146.0   \n",
       "2    ...  10.008162  60.614033  347.174622   7.386694  1905.0  37.0    132.0   \n",
       "3    ...  10.288444  77.464783  345.133820   8.417898  1673.0  42.0    146.0   \n",
       "4    ...  10.380312  75.874626  353.185181   7.207861  1656.0  47.0    144.0   \n",
       "..   ...        ...        ...         ...        ...     ...   ...      ...   \n",
       "478  ...   9.862510  69.656441  306.230743   5.889052  1138.0  32.0    108.0   \n",
       "479  ...  10.288852  73.647873  335.184509   6.840500  1280.0  42.0    130.0   \n",
       "480  ...  10.447235  76.277596  349.142639   7.758725  1469.0  48.0    144.0   \n",
       "481  ...   9.874728  53.565346  339.985870  11.332863   826.0  31.0    102.0   \n",
       "482  ...   9.478764  63.502071  250.204514   5.686466   660.0  22.0     88.0   \n",
       "\n",
       "     Zagreb2  mZagreb1  mZagreb2  \n",
       "0      144.0  7.527778  5.638889  \n",
       "1      175.0  7.840278  5.972222  \n",
       "2      150.0  8.388889  5.722222  \n",
       "3      177.0  6.000000  5.583333  \n",
       "4      176.0  8.722222  5.638889  \n",
       "..       ...       ...       ...  \n",
       "478    125.0  7.756945  5.222222  \n",
       "479    157.0  9.201389  5.180555  \n",
       "480    177.0  8.722222  5.611111  \n",
       "481    118.0  8.388889  4.361111  \n",
       "482     99.0  6.055555  4.055555  \n",
       "\n",
       "[483 rows x 1853 columns]"
      ]
     },
     "execution_count": 33,
     "metadata": {},
     "output_type": "execute_result"
    }
   ],
   "source": [
    "df_test = df_total.iloc[dataframe_number:, :].copy()\n",
    "df_test.reset_index(drop = True, inplace = True)\n",
    "df_test.drop(['SMILES','MLM', 'HLM'], axis=1, inplace = True)\n",
    "df_test"
   ]
  },
  {
   "cell_type": "code",
   "execution_count": 34,
   "metadata": {},
   "outputs": [
    {
     "data": {
      "text/html": [
       "<div>\n",
       "<style scoped>\n",
       "    .dataframe tbody tr th:only-of-type {\n",
       "        vertical-align: middle;\n",
       "    }\n",
       "\n",
       "    .dataframe tbody tr th {\n",
       "        vertical-align: top;\n",
       "    }\n",
       "\n",
       "    .dataframe thead th {\n",
       "        text-align: right;\n",
       "    }\n",
       "</style>\n",
       "<table border=\"1\" class=\"dataframe\">\n",
       "  <thead>\n",
       "    <tr style=\"text-align: right;\">\n",
       "      <th></th>\n",
       "      <th>MLM</th>\n",
       "      <th>HLM</th>\n",
       "    </tr>\n",
       "  </thead>\n",
       "  <tbody>\n",
       "    <tr>\n",
       "      <th>0</th>\n",
       "      <td>26.0100</td>\n",
       "      <td>50.680</td>\n",
       "    </tr>\n",
       "    <tr>\n",
       "      <th>1</th>\n",
       "      <td>29.2700</td>\n",
       "      <td>50.590</td>\n",
       "    </tr>\n",
       "    <tr>\n",
       "      <th>2</th>\n",
       "      <td>5.5860</td>\n",
       "      <td>80.892</td>\n",
       "    </tr>\n",
       "    <tr>\n",
       "      <th>3</th>\n",
       "      <td>5.7100</td>\n",
       "      <td>2.000</td>\n",
       "    </tr>\n",
       "    <tr>\n",
       "      <th>4</th>\n",
       "      <td>93.2700</td>\n",
       "      <td>99.990</td>\n",
       "    </tr>\n",
       "    <tr>\n",
       "      <th>...</th>\n",
       "      <td>...</td>\n",
       "      <td>...</td>\n",
       "    </tr>\n",
       "    <tr>\n",
       "      <th>3458</th>\n",
       "      <td>56.0435</td>\n",
       "      <td>66.126</td>\n",
       "    </tr>\n",
       "    <tr>\n",
       "      <th>3459</th>\n",
       "      <td>56.3130</td>\n",
       "      <td>63.732</td>\n",
       "    </tr>\n",
       "    <tr>\n",
       "      <th>3460</th>\n",
       "      <td>70.2150</td>\n",
       "      <td>93.840</td>\n",
       "    </tr>\n",
       "    <tr>\n",
       "      <th>3461</th>\n",
       "      <td>56.6085</td>\n",
       "      <td>49.519</td>\n",
       "    </tr>\n",
       "    <tr>\n",
       "      <th>3462</th>\n",
       "      <td>6.1730</td>\n",
       "      <td>10.867</td>\n",
       "    </tr>\n",
       "  </tbody>\n",
       "</table>\n",
       "<p>3463 rows × 2 columns</p>\n",
       "</div>"
      ],
      "text/plain": [
       "          MLM     HLM\n",
       "0     26.0100  50.680\n",
       "1     29.2700  50.590\n",
       "2      5.5860  80.892\n",
       "3      5.7100   2.000\n",
       "4     93.2700  99.990\n",
       "...       ...     ...\n",
       "3458  56.0435  66.126\n",
       "3459  56.3130  63.732\n",
       "3460  70.2150  93.840\n",
       "3461  56.6085  49.519\n",
       "3462   6.1730  10.867\n",
       "\n",
       "[3463 rows x 2 columns]"
      ]
     },
     "execution_count": 34,
     "metadata": {},
     "output_type": "execute_result"
    }
   ],
   "source": [
    "df_train_target = df_total[['MLM', 'HLM']].copy()\n",
    "df_train_target.dropna(inplace = True)\n",
    "df_train_target.reset_index(drop = True, inplace = True)\n",
    "df_train_target"
   ]
  },
  {
   "cell_type": "code",
   "execution_count": 35,
   "metadata": {},
   "outputs": [
    {
     "data": {
      "image/png": "[encoded data removed]",
      "text/plain": [
       "<Figure size 800x600 with 2 Axes>"
      ]
     },
     "metadata": {},
     "output_type": "display_data"
    }
   ],
   "source": [
    "sns.set_style(\"whitegrid\")\n",
    "plt.figure(figsize=(8, 6))\n",
    "\n",
    "numerical_columns = ['MLM', 'HLM']\n",
    "\n",
    "for i, col in enumerate(numerical_columns, 1):\n",
    "    plt.subplot(1, 2, i)\n",
    "    sns.histplot(df_train_target[col], bins=30, color='skyblue', kde=True)\n",
    "    plt.title(f'Distribution of {col}\\nskew: {round(df_train_target[col].skew(),3)}')\n",
    "    plt.xlabel(col)\n",
    "    plt.ylabel('Frequency')\n",
    "\n",
    "plt.tight_layout()\n",
    "plt.show()"
   ]
  },
  {
   "cell_type": "code",
   "execution_count": 36,
   "metadata": {},
   "outputs": [],
   "source": [
    "# Target 로그 변환\n",
    "if target_log_on_off == 'on':\n",
    "    df_train_target['MLM'] = np.log1p(df_train_target['MLM'])\n",
    "    df_train_target['HLM'] = np.log1p(df_train_target['HLM'])\n",
    "    df_train_target"
   ]
  },
  {
   "cell_type": "code",
   "execution_count": 37,
   "metadata": {},
   "outputs": [],
   "source": [
    "# 변환후 skew가 악화됨\n",
    "if target_log_on_off == 'on':\n",
    "\n",
    "    sns.set_style(\"whitegrid\")\n",
    "    plt.figure(figsize=(8, 6))\n",
    "\n",
    "    numerical_columns = ['MLM', 'HLM']\n",
    "\n",
    "    for i, col in enumerate(numerical_columns, 1):\n",
    "        plt.subplot(1, 2, i)\n",
    "        sns.histplot(df_train_target[col], bins=30, color='skyblue', kde=True)\n",
    "        plt.title(f'Distribution of {col}\\nskew: {round(df_train_target[col].skew(),3)}')\n",
    "        plt.xlabel(col)\n",
    "        plt.ylabel('Frequency')\n",
    "\n",
    "    plt.tight_layout()\n",
    "    plt.show()"
   ]
  },
  {
   "cell_type": "markdown",
   "metadata": {},
   "source": [
    "### target MLM"
   ]
  },
  {
   "cell_type": "code",
   "execution_count": 38,
   "metadata": {},
   "outputs": [
    {
     "data": {
      "text/plain": [
       "0       26.0100\n",
       "1       29.2700\n",
       "2        5.5860\n",
       "3        5.7100\n",
       "4       93.2700\n",
       "         ...   \n",
       "3458    56.0435\n",
       "3459    56.3130\n",
       "3460    70.2150\n",
       "3461    56.6085\n",
       "3462     6.1730\n",
       "Name: MLM, Length: 3463, dtype: float64"
      ]
     },
     "execution_count": 38,
     "metadata": {},
     "output_type": "execute_result"
    }
   ],
   "source": [
    "df_train_target_MLM = df_train_target['MLM']\n",
    "df_train_target_MLM"
   ]
  },
  {
   "cell_type": "code",
   "execution_count": 39,
   "metadata": {},
   "outputs": [],
   "source": [
    "from xgboost import XGBRegressor\n",
    "from sklearn.metrics import mean_squared_error\n",
    "import optuna\n",
    "from sklearn.model_selection import train_test_split\n",
    "\n",
    "def RMSE_expm1(y_pred, y_true):\n",
    "    return np.sqrt(np.mean(np.square(np.expm1(y_pred) - np.expm1(y_true))))\n",
    "\n",
    "def objective(trial):\n",
    "\n",
    "    X_train, X_valid, y_train, y_valid = train_test_split(df_train, df_train_target_MLM, test_size = 0.1, random_state=42)\n",
    "\n",
    "    param = {\n",
    "        # gpu acceleration\n",
    "        # 'tree_method': 'gpu_hist',\n",
    "        # 'predictor': 'gpu_predictor',\n",
    "        # 'gpu_id' : 0,\n",
    "        # constant\n",
    "        'eval_metric': 'rmse',\n",
    "        'random_state': 10,\n",
    "        'n_estimators': 3000,\n",
    "        'early_stopping_rounds': 300,\n",
    "        'n_jobs': -1,\n",
    "        # log_uniform\n",
    "        'reg_alpha': trial.suggest_loguniform('reg_alpha', 1e-3, 1e+5),\n",
    "        'reg_lambda': trial.suggest_loguniform('reg_lambda', 1e-3, 1e+5),\n",
    "        # suggest_discrete_uniform\n",
    "        'colsample_bytree': trial.suggest_discrete_uniform('colsample_bytree', 0.5, 1.0, 0.05),\n",
    "        'subsample': trial.suggest_discrete_uniform('subsample', 0.5, 1.0, 0.05),\n",
    "        'learning_rate': trial.suggest_discrete_uniform('learning_rate', 0.001, 0.003, 0.001),\n",
    "        # suggest_int\n",
    "        'max_depth': trial.suggest_int('max_depth', 2, 10),\n",
    "        'min_child_weight': trial.suggest_int('min_child_weight', 1, 20),\n",
    "    }\n",
    "\n",
    "    model = XGBRegressor(**param)  \n",
    "    model.fit(X_train, y_train, eval_set=[(X_valid,y_valid)], verbose=False)\n",
    "    preds = model.predict(X_valid)\n",
    "    \n",
    "    if target_log_on_off == 'on':\n",
    "        rmse = RMSE_expm1(y_valid, preds)\n",
    "    else:\n",
    "        rmse = mean_squared_error(y_valid, preds, squared=False)\n",
    "    \n",
    "    return rmse"
   ]
  },
  {
   "cell_type": "code",
   "execution_count": 40,
   "metadata": {},
   "outputs": [
    {
     "name": "stderr",
     "output_type": "stream",
     "text": [
      "[I 2023-09-09 23:01:43,671] A new study created in memory with name: no-name-f834eac9-0b4c-405a-92b9-19be44e789ff\n",
      "  0%|          | 0/150 [00:00<?, ?it/s][I 2023-09-09 23:03:32,101] Trial 0 finished with value: 28.951003958142422 and parameters: {'reg_alpha': 0.0025575002968057786, 'reg_lambda': 0.31260834107468094, 'colsample_bytree': 1.0, 'subsample': 0.5, 'learning_rate': 0.003, 'max_depth': 3, 'min_child_weight': 17}. Best is trial 0 with value: 28.951003958142422.\n",
      "  1%|          | 1/150 [01:48<4:29:15, 108.43s/it][I 2023-09-09 23:06:54,637] Trial 1 finished with value: 28.61872824460185 and parameters: {'reg_alpha': 0.01733674394305548, 'reg_lambda': 0.01572458389755961, 'colsample_bytree': 0.75, 'subsample': 0.9, 'learning_rate': 0.002, 'max_depth': 8, 'min_child_weight': 13}. Best is trial 1 with value: 28.61872824460185.\n",
      "  1%|▏         | 2/150 [05:10<6:44:00, 163.79s/it][I 2023-09-09 23:10:06,712] Trial 2 finished with value: 36.270962802428826 and parameters: {'reg_alpha': 23195.210904002437, 'reg_lambda': 874.9067253980163, 'colsample_bytree': 0.95, 'subsample': 0.6, 'learning_rate': 0.002, 'max_depth': 7, 'min_child_weight': 7}. Best is trial 1 with value: 28.61872824460185.\n",
      "  2%|▏         | 3/150 [08:23<7:12:55, 176.70s/it][I 2023-09-09 23:12:11,348] Trial 3 finished with value: 30.674319911574383 and parameters: {'reg_alpha': 0.0025950966467840923, 'reg_lambda': 881.1542956639829, 'colsample_bytree': 0.65, 'subsample': 0.6, 'learning_rate': 0.002, 'max_depth': 5, 'min_child_weight': 9}. Best is trial 1 with value: 28.61872824460185.\n",
      "  3%|▎         | 4/150 [10:27<6:19:57, 156.15s/it][I 2023-09-09 23:14:04,859] Trial 4 finished with value: 33.03153961740546 and parameters: {'reg_alpha': 11151.243516537084, 'reg_lambda': 10.735777186387187, 'colsample_bytree': 0.8, 'subsample': 0.55, 'learning_rate': 0.002, 'max_depth': 5, 'min_child_weight': 4}. Best is trial 1 with value: 28.61872824460185.\n",
      "  3%|▎         | 5/150 [12:21<5:40:12, 140.77s/it][I 2023-09-09 23:18:45,177] Trial 5 finished with value: 28.84270251469723 and parameters: {'reg_alpha': 0.011400593117198245, 'reg_lambda': 8.733679825219852, 'colsample_bytree': 0.95, 'subsample': 0.65, 'learning_rate': 0.002, 'max_depth': 10, 'min_child_weight': 1}. Best is trial 1 with value: 28.61872824460185.\n",
      "  4%|▍         | 6/150 [17:01<7:31:43, 188.22s/it][I 2023-09-09 23:21:25,871] Trial 6 finished with value: 32.96159851067105 and parameters: {'reg_alpha': 8031.491851659678, 'reg_lambda': 0.043920445773559386, 'colsample_bytree': 0.7, 'subsample': 0.55, 'learning_rate': 0.001, 'max_depth': 9, 'min_child_weight': 18}. Best is trial 1 with value: 28.61872824460185.\n",
      "  5%|▍         | 7/150 [19:42<7:07:08, 179.22s/it][I 2023-09-09 23:25:08,253] Trial 7 finished with value: 28.796503928400078 and parameters: {'reg_alpha': 0.04992546816867193, 'reg_lambda': 0.01639621532570548, 'colsample_bytree': 0.9, 'subsample': 0.7, 'learning_rate': 0.001, 'max_depth': 8, 'min_child_weight': 20}. Best is trial 1 with value: 28.61872824460185.\n",
      "  5%|▌         | 8/150 [23:24<7:36:40, 192.96s/it][I 2023-09-09 23:29:41,353] Trial 8 finished with value: 29.22606016797026 and parameters: {'reg_alpha': 21.341573419448835, 'reg_lambda': 19.30364883644757, 'colsample_bytree': 0.95, 'subsample': 0.8, 'learning_rate': 0.001, 'max_depth': 8, 'min_child_weight': 4}. Best is trial 1 with value: 28.61872824460185.\n",
      "  6%|▌         | 9/150 [27:57<8:32:19, 218.01s/it][I 2023-09-09 23:32:10,171] Trial 9 finished with value: 28.73857586867008 and parameters: {'reg_alpha': 0.30520149228372767, 'reg_lambda': 0.0019917882489962867, 'colsample_bytree': 0.65, 'subsample': 0.55, 'learning_rate': 0.003, 'max_depth': 9, 'min_child_weight': 6}. Best is trial 1 with value: 28.61872824460185.\n",
      "  7%|▋         | 10/150 [30:26<7:38:51, 196.65s/it][I 2023-09-09 23:33:15,704] Trial 10 finished with value: 41.563029366452916 and parameters: {'reg_alpha': 1.105030995624802, 'reg_lambda': 58609.86385234261, 'colsample_bytree': 0.5, 'subsample': 1.0, 'learning_rate': 0.003, 'max_depth': 2, 'min_child_weight': 13}. Best is trial 1 with value: 28.61872824460185.\n",
      "  7%|▋         | 11/150 [31:32<6:02:36, 156.52s/it][I 2023-09-09 23:35:39,453] Trial 11 finished with value: 28.751276432175818 and parameters: {'reg_alpha': 0.2281058730528257, 'reg_lambda': 0.0011144134611383234, 'colsample_bytree': 0.6, 'subsample': 0.8500000000000001, 'learning_rate': 0.003, 'max_depth': 10, 'min_child_weight': 13}. Best is trial 1 with value: 28.61872824460185.\n",
      "  8%|▊         | 12/150 [33:55<5:51:03, 152.64s/it][I 2023-09-09 23:38:00,370] Trial 12 finished with value: 28.661132602584775 and parameters: {'reg_alpha': 2.9941168755525647, 'reg_lambda': 0.0010532831696430233, 'colsample_bytree': 0.8, 'subsample': 0.9, 'learning_rate': 0.003, 'max_depth': 7, 'min_child_weight': 12}. Best is trial 1 with value: 28.61872824460185.\n",
      "  9%|▊         | 13/150 [36:16<5:40:24, 149.09s/it][I 2023-09-09 23:41:09,258] Trial 13 finished with value: 28.644907051435435 and parameters: {'reg_alpha': 8.66059835252348, 'reg_lambda': 0.017360019373523466, 'colsample_bytree': 0.8, 'subsample': 0.95, 'learning_rate': 0.002, 'max_depth': 6, 'min_child_weight': 13}. Best is trial 1 with value: 28.61872824460185.\n",
      "  9%|▉         | 14/150 [39:25<6:05:10, 161.11s/it][I 2023-09-09 23:43:59,036] Trial 14 finished with value: 28.701041385133692 and parameters: {'reg_alpha': 73.10603464968325, 'reg_lambda': 0.23262303599207662, 'colsample_bytree': 0.8, 'subsample': 1.0, 'learning_rate': 0.002, 'max_depth': 5, 'min_child_weight': 15}. Best is trial 1 with value: 28.61872824460185.\n",
      " 10%|█         | 15/150 [42:15<6:08:22, 163.72s/it][I 2023-09-09 23:47:10,432] Trial 15 finished with value: 28.791675136695993 and parameters: {'reg_alpha': 0.0010160627221753764, 'reg_lambda': 0.01759164380185037, 'colsample_bytree': 0.8500000000000001, 'subsample': 0.9, 'learning_rate': 0.002, 'max_depth': 6, 'min_child_weight': 10}. Best is trial 1 with value: 28.61872824460185.\n",
      " 11%|█         | 16/150 [45:26<6:24:15, 172.05s/it][I 2023-09-09 23:49:32,205] Trial 16 finished with value: 29.187103499938143 and parameters: {'reg_alpha': 0.038935746738366826, 'reg_lambda': 0.45965519780582037, 'colsample_bytree': 0.75, 'subsample': 0.95, 'learning_rate': 0.001, 'max_depth': 4, 'min_child_weight': 15}. Best is trial 1 with value: 28.61872824460185.\n",
      " 11%|█▏        | 17/150 [47:48<6:01:11, 162.95s/it][I 2023-09-09 23:52:03,184] Trial 17 finished with value: 28.737164848976562 and parameters: {'reg_alpha': 203.0347612477828, 'reg_lambda': 0.018669501430134683, 'colsample_bytree': 0.55, 'subsample': 0.8, 'learning_rate': 0.002, 'max_depth': 7, 'min_child_weight': 15}. Best is trial 1 with value: 28.61872824460185.\n",
      " 12%|█▏        | 18/150 [50:19<5:50:34, 159.35s/it][I 2023-09-09 23:54:59,125] Trial 18 finished with value: 28.899064262886142 and parameters: {'reg_alpha': 2.3457967083786886, 'reg_lambda': 0.0059118587662843934, 'colsample_bytree': 0.7, 'subsample': 0.9, 'learning_rate': 0.001, 'max_depth': 6, 'min_child_weight': 11}. Best is trial 1 with value: 28.61872824460185.\n",
      " 13%|█▎        | 19/150 [53:15<5:58:47, 164.33s/it][I 2023-09-09 23:58:52,984] Trial 19 finished with value: 29.30086141109862 and parameters: {'reg_alpha': 787.4608417061239, 'reg_lambda': 0.08322022455738305, 'colsample_bytree': 0.8500000000000001, 'subsample': 0.75, 'learning_rate': 0.002, 'max_depth': 8, 'min_child_weight': 8}. Best is trial 1 with value: 28.61872824460185.\n",
      " 13%|█▎        | 20/150 [57:09<6:41:16, 185.21s/it][I 2023-09-10 00:01:15,550] Trial 20 finished with value: 28.908323255610572 and parameters: {'reg_alpha': 10.984986434529684, 'reg_lambda': 0.004704475553311859, 'colsample_bytree': 0.75, 'subsample': 0.95, 'learning_rate': 0.002, 'max_depth': 4, 'min_child_weight': 17}. Best is trial 1 with value: 28.61872824460185.\n",
      " 14%|█▍        | 21/150 [59:31<6:10:40, 172.41s/it][I 2023-09-10 00:03:36,082] Trial 21 finished with value: 28.67974035873975 and parameters: {'reg_alpha': 2.7259882972465643, 'reg_lambda': 0.0011186157422166043, 'colsample_bytree': 0.8, 'subsample': 0.9, 'learning_rate': 0.003, 'max_depth': 7, 'min_child_weight': 13}. Best is trial 1 with value: 28.61872824460185.\n",
      " 15%|█▍        | 22/150 [1:01:52<5:47:23, 162.84s/it][I 2023-09-10 00:06:08,556] Trial 22 finished with value: 28.7486282243582 and parameters: {'reg_alpha': 0.5446749754890489, 'reg_lambda': 0.0010092860450864344, 'colsample_bytree': 0.8500000000000001, 'subsample': 0.8500000000000001, 'learning_rate': 0.003, 'max_depth': 7, 'min_child_weight': 11}. Best is trial 1 with value: 28.61872824460185.\n",
      " 15%|█▌        | 23/150 [1:04:24<5:38:05, 159.73s/it][I 2023-09-10 00:08:27,284] Trial 23 finished with value: 28.702892108502034 and parameters: {'reg_alpha': 3.883284990529637, 'reg_lambda': 0.006444530202523715, 'colsample_bytree': 0.7, 'subsample': 0.95, 'learning_rate': 0.003, 'max_depth': 6, 'min_child_weight': 12}. Best is trial 1 with value: 28.61872824460185.\n",
      " 16%|█▌        | 24/150 [1:06:43<5:22:11, 153.43s/it][I 2023-09-10 00:12:04,742] Trial 24 finished with value: 28.67506123804804 and parameters: {'reg_alpha': 12.20356406339807, 'reg_lambda': 0.07181451363825272, 'colsample_bytree': 0.75, 'subsample': 0.8500000000000001, 'learning_rate': 0.002, 'max_depth': 9, 'min_child_weight': 15}. Best is trial 1 with value: 28.61872824460185.\n",
      " 17%|█▋        | 25/150 [1:10:21<5:59:39, 172.64s/it][I 2023-09-10 00:14:57,634] Trial 25 finished with value: 28.815670355124567 and parameters: {'reg_alpha': 0.17254876278370349, 'reg_lambda': 0.006215920338685402, 'colsample_bytree': 0.8, 'subsample': 1.0, 'learning_rate': 0.002, 'max_depth': 8, 'min_child_weight': 10}. Best is trial 1 with value: 28.61872824460185.\n",
      " 17%|█▋        | 26/150 [1:13:13<5:56:56, 172.72s/it][I 2023-09-10 00:18:28,872] Trial 26 finished with value: 28.82157721042467 and parameters: {'reg_alpha': 1.1208351204685159, 'reg_lambda': 0.8862098690766232, 'colsample_bytree': 0.9, 'subsample': 0.8, 'learning_rate': 0.002, 'max_depth': 7, 'min_child_weight': 14}. Best is trial 1 with value: 28.61872824460185.\n",
      " 18%|█▊        | 27/150 [1:16:45<6:17:45, 184.27s/it][I 2023-09-10 00:20:42,578] Trial 27 finished with value: 28.73662327340445 and parameters: {'reg_alpha': 0.03475890447630139, 'reg_lambda': 0.00380283383833685, 'colsample_bytree': 0.75, 'subsample': 0.95, 'learning_rate': 0.003, 'max_depth': 6, 'min_child_weight': 12}. Best is trial 1 with value: 28.61872824460185.\n",
      " 19%|█▊        | 28/150 [1:18:58<5:43:50, 169.10s/it][I 2023-09-10 00:22:50,859] Trial 28 finished with value: 28.81541095067897 and parameters: {'reg_alpha': 0.10497407947347849, 'reg_lambda': 0.05038133368423109, 'colsample_bytree': 0.65, 'subsample': 0.75, 'learning_rate': 0.002, 'max_depth': 5, 'min_child_weight': 17}. Best is trial 1 with value: 28.61872824460185.\n",
      " 19%|█▉        | 29/150 [1:21:07<5:16:19, 156.86s/it][I 2023-09-10 00:25:21,613] Trial 29 finished with value: 28.861406558833078 and parameters: {'reg_alpha': 0.006047936096617926, 'reg_lambda': 0.16706655612193305, 'colsample_bytree': 0.8500000000000001, 'subsample': 0.9, 'learning_rate': 0.003, 'max_depth': 4, 'min_child_weight': 19}. Best is trial 1 with value: 28.61872824460185.\n",
      " 20%|██        | 30/150 [1:23:37<5:10:03, 155.03s/it][I 2023-09-10 00:27:36,181] Trial 30 finished with value: 28.995348476527706 and parameters: {'reg_alpha': 0.010900110461453075, 'reg_lambda': 0.01642019739634464, 'colsample_bytree': 1.0, 'subsample': 0.8500000000000001, 'learning_rate': 0.003, 'max_depth': 3, 'min_child_weight': 16}. Best is trial 1 with value: 28.61872824460185.\n",
      " 21%|██        | 31/150 [1:25:52<4:55:17, 148.89s/it][I 2023-09-10 00:31:37,464] Trial 31 finished with value: 28.639448715928857 and parameters: {'reg_alpha': 20.658981454950528, 'reg_lambda': 0.06576809644980387, 'colsample_bytree': 0.75, 'subsample': 0.8500000000000001, 'learning_rate': 0.002, 'max_depth': 9, 'min_child_weight': 14}. Best is trial 1 with value: 28.61872824460185.\n",
      " 21%|██▏       | 32/150 [1:29:53<5:47:19, 176.61s/it][I 2023-09-10 00:35:20,082] Trial 32 finished with value: 28.600633938370976 and parameters: {'reg_alpha': 36.28177241261056, 'reg_lambda': 0.0031912851430068645, 'colsample_bytree': 0.7, 'subsample': 0.9, 'learning_rate': 0.002, 'max_depth': 9, 'min_child_weight': 12}. Best is trial 32 with value: 28.600633938370976.\n",
      " 22%|██▏       | 33/150 [1:33:36<6:11:18, 190.41s/it][I 2023-09-10 00:39:18,495] Trial 33 finished with value: 28.754049862338686 and parameters: {'reg_alpha': 30.82163822364136, 'reg_lambda': 0.02416143785274061, 'colsample_bytree': 0.7, 'subsample': 0.95, 'learning_rate': 0.002, 'max_depth': 9, 'min_child_weight': 9}. Best is trial 32 with value: 28.600633938370976.\n",
      " 23%|██▎       | 34/150 [1:37:34<6:35:58, 204.81s/it][I 2023-09-10 00:42:39,763] Trial 34 finished with value: 28.732372709391623 and parameters: {'reg_alpha': 149.78262145972903, 'reg_lambda': 0.8779817818012049, 'colsample_bytree': 0.65, 'subsample': 0.8, 'learning_rate': 0.002, 'max_depth': 10, 'min_child_weight': 14}. Best is trial 32 with value: 28.600633938370976.\n",
      " 23%|██▎       | 35/150 [1:40:56<6:30:31, 203.75s/it][I 2023-09-10 00:45:08,433] Trial 35 finished with value: 28.774798360572557 and parameters: {'reg_alpha': 8.58347414292623, 'reg_lambda': 0.11165356034085053, 'colsample_bytree': 0.6, 'subsample': 0.8500000000000001, 'learning_rate': 0.002, 'max_depth': 9, 'min_child_weight': 9}. Best is trial 32 with value: 28.600633938370976.\n",
      " 24%|██▍       | 36/150 [1:43:24<5:55:43, 187.22s/it][I 2023-09-10 00:49:09,296] Trial 36 finished with value: 28.744338229093554 and parameters: {'reg_alpha': 35.33839969561205, 'reg_lambda': 0.004305178209915393, 'colsample_bytree': 0.75, 'subsample': 1.0, 'learning_rate': 0.002, 'max_depth': 10, 'min_child_weight': 7}. Best is trial 32 with value: 28.600633938370976.\n",
      " 25%|██▍       | 37/150 [1:47:25<6:22:54, 203.32s/it][I 2023-09-10 00:52:19,259] Trial 37 finished with value: 29.242507974509284 and parameters: {'reg_alpha': 695.7819971619341, 'reg_lambda': 0.036867841109654215, 'colsample_bytree': 0.7, 'subsample': 0.7, 'learning_rate': 0.002, 'max_depth': 8, 'min_child_weight': 14}. Best is trial 32 with value: 28.600633938370976.\n",
      " 25%|██▌       | 38/150 [1:50:35<6:12:02, 199.31s/it][I 2023-09-10 00:53:19,460] Trial 38 finished with value: 48.81727924487241 and parameters: {'reg_alpha': 99279.56677148268, 'reg_lambda': 0.00976676486958351, 'colsample_bytree': 0.6, 'subsample': 0.9, 'learning_rate': 0.002, 'max_depth': 9, 'min_child_weight': 16}. Best is trial 32 with value: 28.600633938370976.\n",
      " 26%|██▌       | 39/150 [1:51:35<4:51:31, 157.58s/it][I 2023-09-10 00:58:14,479] Trial 39 finished with value: 28.870947424679787 and parameters: {'reg_alpha': 0.45131364983447764, 'reg_lambda': 0.0023620455399340425, 'colsample_bytree': 0.9, 'subsample': 0.95, 'learning_rate': 0.001, 'max_depth': 8, 'min_child_weight': 1}. Best is trial 32 with value: 28.600633938370976.\n",
      " 27%|██▋       | 40/150 [1:56:30<6:04:29, 198.81s/it][I 2023-09-10 01:02:27,435] Trial 40 finished with value: 28.75289280438304 and parameters: {'reg_alpha': 5.710884973947839, 'reg_lambda': 0.043682822686880673, 'colsample_bytree': 0.8, 'subsample': 0.8, 'learning_rate': 0.002, 'max_depth': 10, 'min_child_weight': 11}. Best is trial 32 with value: 28.600633938370976.\n",
      " 27%|██▋       | 41/150 [2:00:43<6:30:40, 215.05s/it][I 2023-09-10 01:05:55,804] Trial 41 finished with value: 28.694931126690012 and parameters: {'reg_alpha': 1.0959582706770492, 'reg_lambda': 0.002470669412375184, 'colsample_bytree': 0.8, 'subsample': 0.9, 'learning_rate': 0.002, 'max_depth': 7, 'min_child_weight': 12}. Best is trial 32 with value: 28.600633938370976.\n",
      " 28%|██▊       | 42/150 [2:04:12<6:23:29, 213.05s/it][I 2023-09-10 01:09:29,147] Trial 42 finished with value: 28.679770164782393 and parameters: {'reg_alpha': 5.479079842092657, 'reg_lambda': 0.010456646416431205, 'colsample_bytree': 0.75, 'subsample': 0.9, 'learning_rate': 0.002, 'max_depth': 8, 'min_child_weight': 12}. Best is trial 32 with value: 28.600633938370976.\n",
      " 29%|██▊       | 43/150 [2:07:45<6:20:05, 213.14s/it][I 2023-09-10 01:12:28,549] Trial 43 finished with value: 28.67249341383001 and parameters: {'reg_alpha': 24.656297971386138, 'reg_lambda': 0.0030397818124311953, 'colsample_bytree': 0.7, 'subsample': 0.8500000000000001, 'learning_rate': 0.002, 'max_depth': 9, 'min_child_weight': 13}. Best is trial 32 with value: 28.600633938370976.\n",
      " 29%|██▉       | 44/150 [2:10:44<5:58:39, 203.02s/it][I 2023-09-10 01:16:31,426] Trial 44 finished with value: 28.813302102136223 and parameters: {'reg_alpha': 62.79652617572496, 'reg_lambda': 0.01114254770389185, 'colsample_bytree': 0.8500000000000001, 'subsample': 0.95, 'learning_rate': 0.001, 'max_depth': 7, 'min_child_weight': 10}. Best is trial 32 with value: 28.600633938370976.\n",
      " 30%|███       | 45/150 [2:14:47<6:16:12, 214.97s/it][I 2023-09-10 01:19:03,215] Trial 45 finished with value: 28.73721528829033 and parameters: {'reg_alpha': 9.832107218632267, 'reg_lambda': 0.001797964931801449, 'colsample_bytree': 0.8, 'subsample': 0.5, 'learning_rate': 0.002, 'max_depth': 6, 'min_child_weight': 14}. Best is trial 32 with value: 28.600633938370976.\n",
      " 31%|███       | 46/150 [2:17:19<5:39:45, 196.02s/it][I 2023-09-10 01:21:52,297] Trial 46 finished with value: 28.746764027184334 and parameters: {'reg_alpha': 2.2758699115676158, 'reg_lambda': 0.02561954926453172, 'colsample_bytree': 0.65, 'subsample': 1.0, 'learning_rate': 0.002, 'max_depth': 8, 'min_child_weight': 16}. Best is trial 32 with value: 28.600633938370976.\n",
      " 31%|███▏      | 47/150 [2:20:08<5:22:37, 187.94s/it][I 2023-09-10 01:25:18,724] Trial 47 finished with value: 28.627832297277795 and parameters: {'reg_alpha': 0.07426170616158836, 'reg_lambda': 0.28207467451746615, 'colsample_bytree': 0.75, 'subsample': 0.9, 'learning_rate': 0.002, 'max_depth': 9, 'min_child_weight': 13}. Best is trial 32 with value: 28.600633938370976.\n",
      " 32%|███▏      | 48/150 [2:23:35<5:28:55, 193.48s/it][I 2023-09-10 01:28:42,920] Trial 48 finished with value: 28.67251663868743 and parameters: {'reg_alpha': 0.002162442612156745, 'reg_lambda': 0.41122781590482416, 'colsample_bytree': 0.7, 'subsample': 0.8500000000000001, 'learning_rate': 0.002, 'max_depth': 9, 'min_child_weight': 18}. Best is trial 32 with value: 28.600633938370976.\n",
      " 33%|███▎      | 49/150 [2:26:59<5:31:06, 196.70s/it][I 2023-09-10 01:32:16,210] Trial 49 finished with value: 28.673748660114832 and parameters: {'reg_alpha': 0.04767118108092887, 'reg_lambda': 0.23391219401710808, 'colsample_bytree': 0.75, 'subsample': 0.95, 'learning_rate': 0.002, 'max_depth': 10, 'min_child_weight': 13}. Best is trial 32 with value: 28.600633938370976.\n",
      " 33%|███▎      | 50/150 [2:30:32<5:36:07, 201.68s/it][I 2023-09-10 01:35:17,631] Trial 50 finished with value: 28.852194752909153 and parameters: {'reg_alpha': 0.019549423610364037, 'reg_lambda': 0.08345644879880124, 'colsample_bytree': 0.65, 'subsample': 0.65, 'learning_rate': 0.001, 'max_depth': 9, 'min_child_weight': 14}. Best is trial 32 with value: 28.600633938370976.\n",
      " 34%|███▍      | 51/150 [2:33:33<5:22:44, 195.60s/it][I 2023-09-10 01:39:22,478] Trial 51 finished with value: 28.688656512295854 and parameters: {'reg_alpha': 18.17293257289476, 'reg_lambda': 0.010969292073874454, 'colsample_bytree': 0.8, 'subsample': 0.9, 'learning_rate': 0.002, 'max_depth': 8, 'min_child_weight': 12}. Best is trial 32 with value: 28.600633938370976.\n",
      " 35%|███▍      | 52/150 [2:37:38<5:43:36, 210.37s/it][I 2023-09-10 01:42:36,652] Trial 52 finished with value: 28.723567138445368 and parameters: {'reg_alpha': 0.09604873960500569, 'reg_lambda': 0.03150058778343888, 'colsample_bytree': 0.75, 'subsample': 0.9, 'learning_rate': 0.002, 'max_depth': 8, 'min_child_weight': 11}. Best is trial 32 with value: 28.600633938370976.\n",
      " 35%|███▌      | 53/150 [2:40:52<5:32:14, 205.51s/it][I 2023-09-10 01:45:59,134] Trial 53 finished with value: 28.65830416313091 and parameters: {'reg_alpha': 0.21527288928889543, 'reg_lambda': 0.008055754643602772, 'colsample_bytree': 0.8, 'subsample': 0.9, 'learning_rate': 0.002, 'max_depth': 9, 'min_child_weight': 13}. Best is trial 32 with value: 28.600633938370976.\n",
      " 36%|███▌      | 54/150 [2:44:15<5:27:22, 204.60s/it][I 2023-09-10 01:49:22,983] Trial 54 finished with value: 28.712681580951113 and parameters: {'reg_alpha': 0.15074581696634584, 'reg_lambda': 0.020239160971756372, 'colsample_bytree': 0.7, 'subsample': 0.8500000000000001, 'learning_rate': 0.002, 'max_depth': 10, 'min_child_weight': 13}. Best is trial 32 with value: 28.600633938370976.\n",
      " 37%|███▋      | 55/150 [2:47:39<5:23:35, 204.38s/it][I 2023-09-10 01:52:47,699] Trial 55 finished with value: 28.74030725326011 and parameters: {'reg_alpha': 0.290679884974889, 'reg_lambda': 0.09571583544414011, 'colsample_bytree': 0.75, 'subsample': 0.9, 'learning_rate': 0.002, 'max_depth': 9, 'min_child_weight': 15}. Best is trial 32 with value: 28.600633938370976.\n",
      " 37%|███▋      | 56/150 [2:51:04<5:20:21, 204.48s/it][I 2023-09-10 01:56:52,013] Trial 56 finished with value: 28.731967467593734 and parameters: {'reg_alpha': 0.0772428008295782, 'reg_lambda': 0.008049339837875246, 'colsample_bytree': 0.8500000000000001, 'subsample': 0.95, 'learning_rate': 0.002, 'max_depth': 9, 'min_child_weight': 13}. Best is trial 32 with value: 28.600633938370976.\n",
      " 38%|███▊      | 57/150 [2:55:08<5:35:27, 216.43s/it][I 2023-09-10 02:00:45,356] Trial 57 finished with value: 28.861851104782282 and parameters: {'reg_alpha': 0.015739510963952066, 'reg_lambda': 0.05543367587422403, 'colsample_bytree': 0.75, 'subsample': 1.0, 'learning_rate': 0.002, 'max_depth': 10, 'min_child_weight': 11}. Best is trial 32 with value: 28.600633938370976.\n",
      " 39%|███▊      | 58/150 [2:59:01<5:39:38, 221.50s/it][I 2023-09-10 02:04:21,971] Trial 58 finished with value: 28.76275114139709 and parameters: {'reg_alpha': 0.028250754129058392, 'reg_lambda': 0.005000372587864069, 'colsample_bytree': 0.8, 'subsample': 0.8, 'learning_rate': 0.002, 'max_depth': 10, 'min_child_weight': 15}. Best is trial 32 with value: 28.600633938370976.\n",
      " 39%|███▉      | 59/150 [3:02:38<5:33:43, 220.04s/it][I 2023-09-10 02:07:24,830] Trial 59 finished with value: 28.740690827805768 and parameters: {'reg_alpha': 0.06711788681215719, 'reg_lambda': 0.1697706730248326, 'colsample_bytree': 0.7, 'subsample': 0.95, 'learning_rate': 0.002, 'max_depth': 9, 'min_child_weight': 10}. Best is trial 32 with value: 28.600633938370976.\n",
      " 40%|████      | 60/150 [3:05:41<5:13:19, 208.88s/it][I 2023-09-10 02:10:10,144] Trial 60 finished with value: 28.7720279653138 and parameters: {'reg_alpha': 0.008537184527783745, 'reg_lambda': 0.0018242541176854022, 'colsample_bytree': 0.8, 'subsample': 0.8500000000000001, 'learning_rate': 0.002, 'max_depth': 5, 'min_child_weight': 14}. Best is trial 32 with value: 28.600633938370976.\n",
      " 41%|████      | 61/150 [3:08:26<4:50:27, 195.81s/it][I 2023-09-10 02:13:28,310] Trial 61 finished with value: 28.722111978910398 and parameters: {'reg_alpha': 0.892371202587261, 'reg_lambda': 0.003809424776766057, 'colsample_bytree': 0.8500000000000001, 'subsample': 0.9, 'learning_rate': 0.002, 'max_depth': 7, 'min_child_weight': 12}. Best is trial 32 with value: 28.600633938370976.\n",
      " 41%|████▏     | 62/150 [3:11:44<4:48:13, 196.52s/it][I 2023-09-10 02:15:29,787] Trial 62 finished with value: 28.691195560938255 and parameters: {'reg_alpha': 1.8542839636608957, 'reg_lambda': 0.0012346136574372087, 'colsample_bytree': 0.75, 'subsample': 0.9, 'learning_rate': 0.003, 'max_depth': 6, 'min_child_weight': 13}. Best is trial 32 with value: 28.600633938370976.\n",
      " 42%|████▏     | 63/150 [3:13:46<4:12:18, 174.01s/it][I 2023-09-10 02:18:34,925] Trial 63 finished with value: 28.818604051946867 and parameters: {'reg_alpha': 0.2461075382312192, 'reg_lambda': 0.015077288105295895, 'colsample_bytree': 0.8, 'subsample': 0.95, 'learning_rate': 0.002, 'max_depth': 7, 'min_child_weight': 9}. Best is trial 32 with value: 28.600633938370976.\n",
      " 43%|████▎     | 64/150 [3:16:51<4:14:11, 177.35s/it][I 2023-09-10 02:21:43,977] Trial 64 finished with value: 28.69300757386815 and parameters: {'reg_alpha': 4.316302926441492, 'reg_lambda': 0.007408537645977134, 'colsample_bytree': 0.8, 'subsample': 0.8500000000000001, 'learning_rate': 0.002, 'max_depth': 8, 'min_child_weight': 11}. Best is trial 32 with value: 28.600633938370976.\n",
      " 43%|████▎     | 65/150 [3:20:00<4:16:12, 180.86s/it][I 2023-09-10 02:25:06,178] Trial 65 finished with value: 28.643174164079827 and parameters: {'reg_alpha': 0.13129766624840505, 'reg_lambda': 0.02913584531369968, 'colsample_bytree': 0.75, 'subsample': 0.9, 'learning_rate': 0.002, 'max_depth': 8, 'min_child_weight': 12}. Best is trial 32 with value: 28.600633938370976.\n",
      " 44%|████▍     | 66/150 [3:23:22<4:22:09, 187.26s/it][I 2023-09-10 02:28:22,856] Trial 66 finished with value: 28.743734085161606 and parameters: {'reg_alpha': 0.1141706925613294, 'reg_lambda': 0.03841270222180008, 'colsample_bytree': 0.7, 'subsample': 0.9, 'learning_rate': 0.002, 'max_depth': 9, 'min_child_weight': 12}. Best is trial 32 with value: 28.600633938370976.\n",
      " 45%|████▍     | 67/150 [3:26:39<4:22:57, 190.09s/it][I 2023-09-10 02:31:21,068] Trial 67 finished with value: 28.683887108209234 and parameters: {'reg_alpha': 0.02858180860610056, 'reg_lambda': 0.024134622421694854, 'colsample_bytree': 0.75, 'subsample': 0.95, 'learning_rate': 0.002, 'max_depth': 9, 'min_child_weight': 16}. Best is trial 32 with value: 28.600633938370976.\n",
      " 45%|████▌     | 68/150 [3:29:37<4:14:54, 186.52s/it][I 2023-09-10 02:34:31,154] Trial 68 finished with value: 28.719526328544738 and parameters: {'reg_alpha': 0.5358039941231489, 'reg_lambda': 0.13156076830483485, 'colsample_bytree': 0.75, 'subsample': 1.0, 'learning_rate': 0.002, 'max_depth': 8, 'min_child_weight': 14}. Best is trial 32 with value: 28.600633938370976.\n",
      " 46%|████▌     | 69/150 [3:32:47<4:13:14, 187.59s/it][I 2023-09-10 02:37:20,617] Trial 69 finished with value: 28.67112024628411 and parameters: {'reg_alpha': 0.19817223748272414, 'reg_lambda': 0.06440456096766306, 'colsample_bytree': 0.7, 'subsample': 0.8500000000000001, 'learning_rate': 0.002, 'max_depth': 8, 'min_child_weight': 15}. Best is trial 32 with value: 28.600633938370976.\n",
      " 47%|████▋     | 70/150 [3:35:36<4:02:52, 182.15s/it][I 2023-09-10 02:41:12,179] Trial 70 finished with value: 28.635275339485446 and parameters: {'reg_alpha': 0.051317049122936026, 'reg_lambda': 0.01594211702390627, 'colsample_bytree': 0.8500000000000001, 'subsample': 0.8, 'learning_rate': 0.002, 'max_depth': 9, 'min_child_weight': 13}. Best is trial 32 with value: 28.600633938370976.\n",
      " 47%|████▋     | 71/150 [3:39:28<4:19:21, 196.98s/it][I 2023-09-10 02:44:33,683] Trial 71 finished with value: 28.647419957026088 and parameters: {'reg_alpha': 0.02092782379756321, 'reg_lambda': 0.015931293509527194, 'colsample_bytree': 0.8500000000000001, 'subsample': 0.8, 'learning_rate': 0.002, 'max_depth': 9, 'min_child_weight': 13}. Best is trial 32 with value: 28.600633938370976.\n",
      " 48%|████▊     | 72/150 [3:42:50<4:17:50, 198.33s/it][I 2023-09-10 02:47:45,444] Trial 72 finished with value: 28.686131054751613 and parameters: {'reg_alpha': 0.006001549185978861, 'reg_lambda': 0.015089085154120262, 'colsample_bytree': 0.9, 'subsample': 0.75, 'learning_rate': 0.002, 'max_depth': 9, 'min_child_weight': 13}. Best is trial 32 with value: 28.600633938370976.\n",
      " 49%|████▊     | 73/150 [3:46:01<4:11:59, 196.36s/it][I 2023-09-10 02:52:33,564] Trial 73 finished with value: 28.84110536958852 and parameters: {'reg_alpha': 0.04611137373678179, 'reg_lambda': 0.030200663551776228, 'colsample_bytree': 0.95, 'subsample': 0.8, 'learning_rate': 0.002, 'max_depth': 10, 'min_child_weight': 11}. Best is trial 32 with value: 28.600633938370976.\n",
      " 49%|████▉     | 74/150 [3:50:49<4:43:35, 223.89s/it][I 2023-09-10 02:56:25,885] Trial 74 finished with value: 28.608316108782084 and parameters: {'reg_alpha': 0.016004703651410785, 'reg_lambda': 0.05921778188820164, 'colsample_bytree': 0.8500000000000001, 'subsample': 0.75, 'learning_rate': 0.002, 'max_depth': 9, 'min_child_weight': 12}. Best is trial 32 with value: 28.600633938370976.\n",
      " 50%|█████     | 75/150 [3:54:42<4:43:01, 226.42s/it][I 2023-09-10 03:00:21,237] Trial 75 finished with value: 28.66893709628323 and parameters: {'reg_alpha': 0.06932935392426987, 'reg_lambda': 0.047296251928805814, 'colsample_bytree': 0.9, 'subsample': 0.7, 'learning_rate': 0.002, 'max_depth': 8, 'min_child_weight': 10}. Best is trial 32 with value: 28.600633938370976.\n",
      " 51%|█████     | 76/150 [3:58:37<4:42:33, 229.10s/it][I 2023-09-10 03:04:44,239] Trial 76 finished with value: 28.634256344072508 and parameters: {'reg_alpha': 0.016951971539382098, 'reg_lambda': 0.25329097922658156, 'colsample_bytree': 0.8500000000000001, 'subsample': 0.75, 'learning_rate': 0.002, 'max_depth': 10, 'min_child_weight': 12}. Best is trial 32 with value: 28.600633938370976.\n",
      " 51%|█████▏    | 77/150 [4:03:00<4:51:06, 239.27s/it][I 2023-09-10 03:09:38,252] Trial 77 finished with value: 28.63144134763365 and parameters: {'reg_alpha': 0.010164863993214398, 'reg_lambda': 0.27723256577279204, 'colsample_bytree': 0.95, 'subsample': 0.75, 'learning_rate': 0.002, 'max_depth': 10, 'min_child_weight': 12}. Best is trial 32 with value: 28.600633938370976.\n",
      " 52%|█████▏    | 78/150 [4:07:54<5:06:49, 255.69s/it][I 2023-09-10 03:13:20,747] Trial 78 finished with value: 28.55054739590847 and parameters: {'reg_alpha': 0.004121316093308579, 'reg_lambda': 0.5723700745339356, 'colsample_bytree': 1.0, 'subsample': 0.7, 'learning_rate': 0.002, 'max_depth': 10, 'min_child_weight': 14}. Best is trial 78 with value: 28.55054739590847.\n",
      " 53%|█████▎    | 79/150 [4:11:37<4:50:47, 245.73s/it][I 2023-09-10 03:18:31,457] Trial 79 finished with value: 28.702096263994022 and parameters: {'reg_alpha': 0.004978193600211296, 'reg_lambda': 0.6027409964124704, 'colsample_bytree': 1.0, 'subsample': 0.7, 'learning_rate': 0.002, 'max_depth': 10, 'min_child_weight': 5}. Best is trial 78 with value: 28.55054739590847.\n",
      " 53%|█████▎    | 80/150 [4:16:47<5:09:25, 265.23s/it][I 2023-09-10 03:22:10,799] Trial 80 finished with value: 28.79711181996676 and parameters: {'reg_alpha': 0.014247042890970054, 'reg_lambda': 0.2274031202861461, 'colsample_bytree': 0.95, 'subsample': 0.75, 'learning_rate': 0.002, 'max_depth': 10, 'min_child_weight': 8}. Best is trial 78 with value: 28.55054739590847.\n",
      " 54%|█████▍    | 81/150 [4:20:27<4:49:10, 251.46s/it][I 2023-09-10 03:26:12,461] Trial 81 finished with value: 28.484932274333868 and parameters: {'reg_alpha': 0.002970018463767656, 'reg_lambda': 1.8908427453362189, 'colsample_bytree': 1.0, 'subsample': 0.65, 'learning_rate': 0.002, 'max_depth': 10, 'min_child_weight': 12}. Best is trial 81 with value: 28.484932274333868.\n",
      " 55%|█████▍    | 82/150 [4:24:28<4:41:39, 248.52s/it][I 2023-09-10 03:30:03,307] Trial 82 finished with value: 28.507270172592257 and parameters: {'reg_alpha': 0.0031625654309629385, 'reg_lambda': 1.752294430775318, 'colsample_bytree': 1.0, 'subsample': 0.65, 'learning_rate': 0.002, 'max_depth': 10, 'min_child_weight': 12}. Best is trial 81 with value: 28.484932274333868.\n",
      " 55%|█████▌    | 83/150 [4:28:19<4:31:35, 243.22s/it][I 2023-09-10 03:34:40,148] Trial 83 finished with value: 28.441456327413405 and parameters: {'reg_alpha': 0.0016947514724850268, 'reg_lambda': 1.7181847165765574, 'colsample_bytree': 1.0, 'subsample': 0.65, 'learning_rate': 0.002, 'max_depth': 10, 'min_child_weight': 12}. Best is trial 83 with value: 28.441456327413405.\n",
      " 56%|█████▌    | 84/150 [4:32:56<4:38:38, 253.31s/it][I 2023-09-10 03:39:54,269] Trial 84 finished with value: 28.7093788512743 and parameters: {'reg_alpha': 0.0027556392129616425, 'reg_lambda': 2.0400138419664025, 'colsample_bytree': 1.0, 'subsample': 0.65, 'learning_rate': 0.002, 'max_depth': 10, 'min_child_weight': 2}. Best is trial 83 with value: 28.441456327413405.\n",
      " 57%|█████▋    | 85/150 [4:38:10<4:54:10, 271.55s/it][I 2023-09-10 03:44:27,436] Trial 85 finished with value: 28.49287193311787 and parameters: {'reg_alpha': 0.001418684962148624, 'reg_lambda': 1.677033416331783, 'colsample_bytree': 1.0, 'subsample': 0.6, 'learning_rate': 0.002, 'max_depth': 10, 'min_child_weight': 11}. Best is trial 83 with value: 28.441456327413405.\n",
      " 57%|█████▋    | 86/150 [4:42:43<4:50:10, 272.04s/it][I 2023-09-10 03:48:27,211] Trial 86 finished with value: 28.459953761688237 and parameters: {'reg_alpha': 0.0010594346755494447, 'reg_lambda': 2.382958725882665, 'colsample_bytree': 1.0, 'subsample': 0.6, 'learning_rate': 0.002, 'max_depth': 10, 'min_child_weight': 10}. Best is trial 83 with value: 28.441456327413405.\n",
      " 58%|█████▊    | 87/150 [4:46:43<4:35:28, 262.36s/it][I 2023-09-10 03:52:36,228] Trial 87 finished with value: 28.498267898358296 and parameters: {'reg_alpha': 0.0011734877432914566, 'reg_lambda': 2.5556958010786492, 'colsample_bytree': 1.0, 'subsample': 0.6, 'learning_rate': 0.002, 'max_depth': 10, 'min_child_weight': 10}. Best is trial 83 with value: 28.441456327413405.\n",
      " 59%|█████▊    | 88/150 [4:50:52<4:26:58, 258.35s/it][I 2023-09-10 03:57:12,904] Trial 88 finished with value: 28.480547255294013 and parameters: {'reg_alpha': 0.0010251276984019951, 'reg_lambda': 2.7635611558784836, 'colsample_bytree': 1.0, 'subsample': 0.6, 'learning_rate': 0.002, 'max_depth': 10, 'min_child_weight': 9}. Best is trial 83 with value: 28.441456327413405.\n",
      " 59%|█████▉    | 89/150 [4:55:29<4:28:14, 263.85s/it][I 2023-09-10 04:01:52,552] Trial 89 finished with value: 28.619654218292936 and parameters: {'reg_alpha': 0.0012417536874902953, 'reg_lambda': 2.398654695686934, 'colsample_bytree': 1.0, 'subsample': 0.6, 'learning_rate': 0.002, 'max_depth': 10, 'min_child_weight': 8}. Best is trial 83 with value: 28.441456327413405.\n",
      " 60%|██████    | 90/150 [5:00:08<4:28:35, 268.59s/it][I 2023-09-10 04:06:29,389] Trial 90 finished with value: 28.481244284654785 and parameters: {'reg_alpha': 0.0010106545058272615, 'reg_lambda': 3.9998678671928216, 'colsample_bytree': 1.0, 'subsample': 0.6, 'learning_rate': 0.002, 'max_depth': 10, 'min_child_weight': 9}. Best is trial 83 with value: 28.441456327413405.\n",
      " 61%|██████    | 91/150 [5:04:45<4:26:32, 271.06s/it][I 2023-09-10 04:11:05,203] Trial 91 finished with value: 28.562997824562075 and parameters: {'reg_alpha': 0.0010442099884138136, 'reg_lambda': 5.77945515663438, 'colsample_bytree': 1.0, 'subsample': 0.6, 'learning_rate': 0.002, 'max_depth': 10, 'min_child_weight': 9}. Best is trial 83 with value: 28.441456327413405.\n",
      " 61%|██████▏   | 92/150 [5:09:21<4:23:24, 272.49s/it][I 2023-09-10 04:15:46,193] Trial 92 finished with value: 28.63131537419545 and parameters: {'reg_alpha': 0.0011543495092960563, 'reg_lambda': 4.728548780652264, 'colsample_bytree': 1.0, 'subsample': 0.6, 'learning_rate': 0.002, 'max_depth': 10, 'min_child_weight': 7}. Best is trial 83 with value: 28.441456327413405.\n",
      " 62%|██████▏   | 93/150 [5:14:02<4:21:17, 275.04s/it][I 2023-09-10 04:20:03,967] Trial 93 finished with value: 28.651601935100597 and parameters: {'reg_alpha': 0.0019104347272200775, 'reg_lambda': 10.298600076496983, 'colsample_bytree': 0.95, 'subsample': 0.6, 'learning_rate': 0.002, 'max_depth': 10, 'min_child_weight': 9}. Best is trial 83 with value: 28.441456327413405.\n",
      " 63%|██████▎   | 94/150 [5:18:20<4:11:52, 269.86s/it][I 2023-09-10 04:24:47,995] Trial 94 finished with value: 28.534652325744258 and parameters: {'reg_alpha': 0.003945556020092287, 'reg_lambda': 1.4411049445220707, 'colsample_bytree': 1.0, 'subsample': 0.65, 'learning_rate': 0.002, 'max_depth': 10, 'min_child_weight': 10}. Best is trial 83 with value: 28.441456327413405.\n",
      " 63%|██████▎   | 95/150 [5:23:04<4:11:16, 274.11s/it][I 2023-09-10 04:29:00,615] Trial 95 finished with value: 28.561481890197456 and parameters: {'reg_alpha': 0.003533952223798541, 'reg_lambda': 1.7004678505126243, 'colsample_bytree': 1.0, 'subsample': 0.55, 'learning_rate': 0.002, 'max_depth': 10, 'min_child_weight': 10}. Best is trial 83 with value: 28.441456327413405.\n",
      " 64%|██████▍   | 96/150 [5:27:16<4:00:53, 267.66s/it][I 2023-09-10 04:33:41,260] Trial 96 finished with value: 28.656981455823672 and parameters: {'reg_alpha': 0.0016899806586916566, 'reg_lambda': 1.3733348404112786, 'colsample_bytree': 1.0, 'subsample': 0.65, 'learning_rate': 0.002, 'max_depth': 10, 'min_child_weight': 8}. Best is trial 83 with value: 28.441456327413405.\n",
      " 65%|██████▍   | 97/150 [5:31:57<3:59:52, 271.56s/it][I 2023-09-10 04:37:49,244] Trial 97 finished with value: 28.58099625750707 and parameters: {'reg_alpha': 0.0031242161685229634, 'reg_lambda': 3.4001129459866957, 'colsample_bytree': 0.95, 'subsample': 0.55, 'learning_rate': 0.002, 'max_depth': 10, 'min_child_weight': 10}. Best is trial 83 with value: 28.441456327413405.\n",
      " 65%|██████▌   | 98/150 [5:36:05<3:49:13, 264.49s/it][I 2023-09-10 04:39:23,146] Trial 98 finished with value: 29.540772904204175 and parameters: {'reg_alpha': 0.0016558831929922788, 'reg_lambda': 1.130049470208855, 'colsample_bytree': 1.0, 'subsample': 0.65, 'learning_rate': 0.002, 'max_depth': 2, 'min_child_weight': 8}. Best is trial 83 with value: 28.441456327413405.\n",
      " 66%|██████▌   | 99/150 [5:37:39<3:01:18, 213.31s/it][I 2023-09-10 04:43:59,924] Trial 99 finished with value: 28.455192885386456 and parameters: {'reg_alpha': 0.004423082486747179, 'reg_lambda': 0.8362004705226861, 'colsample_bytree': 1.0, 'subsample': 0.65, 'learning_rate': 0.002, 'max_depth': 10, 'min_child_weight': 11}. Best is trial 83 with value: 28.441456327413405.\n",
      " 67%|██████▋   | 100/150 [5:42:16<3:13:37, 232.35s/it][I 2023-09-10 04:48:18,197] Trial 100 finished with value: 28.599751724724616 and parameters: {'reg_alpha': 0.002454946593255654, 'reg_lambda': 2.8400799086343724, 'colsample_bytree': 0.95, 'subsample': 0.65, 'learning_rate': 0.002, 'max_depth': 10, 'min_child_weight': 11}. Best is trial 83 with value: 28.441456327413405.\n",
      " 67%|██████▋   | 101/150 [5:46:34<3:16:06, 240.13s/it][I 2023-09-10 04:53:07,005] Trial 101 finished with value: 28.473258388437003 and parameters: {'reg_alpha': 0.0037074902321952642, 'reg_lambda': 0.8136992789734966, 'colsample_bytree': 1.0, 'subsample': 0.65, 'learning_rate': 0.002, 'max_depth': 10, 'min_child_weight': 10}. Best is trial 83 with value: 28.441456327413405.\n",
      " 68%|██████▊   | 102/150 [5:51:23<3:23:47, 254.73s/it][I 2023-09-10 04:57:50,694] Trial 102 finished with value: 28.53197881141799 and parameters: {'reg_alpha': 0.006927268575011666, 'reg_lambda': 0.919370725613983, 'colsample_bytree': 1.0, 'subsample': 0.65, 'learning_rate': 0.002, 'max_depth': 10, 'min_child_weight': 10}. Best is trial 83 with value: 28.441456327413405.\n",
      " 69%|██████▊   | 103/150 [5:56:07<3:26:20, 263.42s/it][I 2023-09-10 05:02:28,942] Trial 103 finished with value: 28.671652247957685 and parameters: {'reg_alpha': 0.00160024958737769, 'reg_lambda': 0.856719650743835, 'colsample_bytree': 1.0, 'subsample': 0.6, 'learning_rate': 0.002, 'max_depth': 10, 'min_child_weight': 9}. Best is trial 83 with value: 28.441456327413405.\n",
      " 69%|██████▉   | 104/150 [6:00:45<3:25:21, 267.87s/it][I 2023-09-10 05:06:12,131] Trial 104 finished with value: 28.64106747867199 and parameters: {'reg_alpha': 0.002546252329337019, 'reg_lambda': 3.5614976009365145, 'colsample_bytree': 1.0, 'subsample': 0.55, 'learning_rate': 0.002, 'max_depth': 10, 'min_child_weight': 11}. Best is trial 83 with value: 28.441456327413405.\n",
      " 70%|███████   | 105/150 [6:04:28<3:10:50, 254.46s/it][I 2023-09-10 05:09:58,432] Trial 105 finished with value: 28.580816077932216 and parameters: {'reg_alpha': 0.0010033021164093366, 'reg_lambda': 1.9137257737442737, 'colsample_bytree': 0.95, 'subsample': 0.65, 'learning_rate': 0.002, 'max_depth': 10, 'min_child_weight': 9}. Best is trial 83 with value: 28.441456327413405.\n",
      " 71%|███████   | 106/150 [6:08:14<3:00:24, 246.01s/it][I 2023-09-10 05:14:30,222] Trial 106 finished with value: 28.61334826739399 and parameters: {'reg_alpha': 0.007257543629331207, 'reg_lambda': 7.150338488822938, 'colsample_bytree': 1.0, 'subsample': 0.6, 'learning_rate': 0.002, 'max_depth': 10, 'min_child_weight': 10}. Best is trial 83 with value: 28.441456327413405.\n",
      " 71%|███████▏  | 107/150 [6:12:46<3:01:51, 253.75s/it][I 2023-09-10 05:19:10,163] Trial 107 finished with value: 29.008682430361493 and parameters: {'reg_alpha': 0.005326054734445375, 'reg_lambda': 16.885667643682254, 'colsample_bytree': 0.95, 'subsample': 0.65, 'learning_rate': 0.002, 'max_depth': 10, 'min_child_weight': 7}. Best is trial 83 with value: 28.441456327413405.\n",
      " 72%|███████▏  | 108/150 [6:17:26<3:03:07, 261.61s/it][I 2023-09-10 05:23:44,006] Trial 108 finished with value: 28.568431676749178 and parameters: {'reg_alpha': 0.0015571944219506197, 'reg_lambda': 0.7968540605531695, 'colsample_bytree': 1.0, 'subsample': 0.6, 'learning_rate': 0.002, 'max_depth': 10, 'min_child_weight': 11}. Best is trial 83 with value: 28.441456327413405.\n",
      " 73%|███████▎  | 109/150 [6:22:00<3:01:16, 265.28s/it][I 2023-09-10 05:25:37,430] Trial 109 finished with value: 29.065287998055 and parameters: {'reg_alpha': 0.002302312815839045, 'reg_lambda': 3.424236232479361, 'colsample_bytree': 0.95, 'subsample': 0.6, 'learning_rate': 0.002, 'max_depth': 3, 'min_child_weight': 10}. Best is trial 83 with value: 28.441456327413405.\n",
      " 73%|███████▎  | 110/150 [6:23:53<2:26:28, 219.72s/it][I 2023-09-10 05:30:27,644] Trial 110 finished with value: 28.55817923079325 and parameters: {'reg_alpha': 0.003906688887022998, 'reg_lambda': 1.2241443443196767, 'colsample_bytree': 1.0, 'subsample': 0.65, 'learning_rate': 0.002, 'max_depth': 10, 'min_child_weight': 9}. Best is trial 83 with value: 28.441456327413405.\n",
      " 74%|███████▍  | 111/150 [6:28:43<2:36:33, 240.87s/it][I 2023-09-10 05:35:05,790] Trial 111 finished with value: 28.56851961578594 and parameters: {'reg_alpha': 0.003015364008813343, 'reg_lambda': 1.6428062689058585, 'colsample_bytree': 1.0, 'subsample': 0.65, 'learning_rate': 0.002, 'max_depth': 10, 'min_child_weight': 10}. Best is trial 83 with value: 28.441456327413405.\n",
      " 75%|███████▍  | 112/150 [6:33:22<2:39:37, 252.05s/it][I 2023-09-10 05:38:55,331] Trial 112 finished with value: 28.584278284489315 and parameters: {'reg_alpha': 0.007331958956194998, 'reg_lambda': 2.3336900727142154, 'colsample_bytree': 1.0, 'subsample': 0.55, 'learning_rate': 0.002, 'max_depth': 10, 'min_child_weight': 11}. Best is trial 83 with value: 28.441456327413405.\n",
      " 75%|███████▌  | 113/150 [6:37:11<2:31:16, 245.30s/it][I 2023-09-10 05:43:32,022] Trial 113 finished with value: 28.581770371026963 and parameters: {'reg_alpha': 0.0041975319801277385, 'reg_lambda': 1.192038780424405, 'colsample_bytree': 1.0, 'subsample': 0.7, 'learning_rate': 0.002, 'max_depth': 10, 'min_child_weight': 10}. Best is trial 83 with value: 28.441456327413405.\n",
      " 76%|███████▌  | 114/150 [6:41:48<2:32:49, 254.72s/it][I 2023-09-10 05:47:54,118] Trial 114 finished with value: 28.59631994815824 and parameters: {'reg_alpha': 0.0015386967905876587, 'reg_lambda': 0.4856774478076924, 'colsample_bytree': 0.95, 'subsample': 0.6, 'learning_rate': 0.002, 'max_depth': 10, 'min_child_weight': 11}. Best is trial 83 with value: 28.441456327413405.\n",
      " 77%|███████▋  | 115/150 [6:46:10<2:29:52, 256.93s/it][I 2023-09-10 05:52:35,252] Trial 115 finished with value: 28.62772977447794 and parameters: {'reg_alpha': 0.002146312325162489, 'reg_lambda': 4.481742226123483, 'colsample_bytree': 1.0, 'subsample': 0.65, 'learning_rate': 0.002, 'max_depth': 10, 'min_child_weight': 9}. Best is trial 83 with value: 28.441456327413405.\n",
      " 77%|███████▋  | 116/150 [6:50:51<2:29:42, 264.19s/it][I 2023-09-10 05:57:06,891] Trial 116 finished with value: 28.552708623394167 and parameters: {'reg_alpha': 0.0010048503415392774, 'reg_lambda': 6.71835350572357, 'colsample_bytree': 1.0, 'subsample': 0.6, 'learning_rate': 0.002, 'max_depth': 10, 'min_child_weight': 10}. Best is trial 83 with value: 28.441456327413405.\n",
      " 78%|███████▊  | 117/150 [6:55:23<2:26:32, 266.43s/it][I 2023-09-10 06:01:35,401] Trial 117 finished with value: 28.66283724209107 and parameters: {'reg_alpha': 0.010155590709485386, 'reg_lambda': 0.8141653565238991, 'colsample_bytree': 0.95, 'subsample': 0.65, 'learning_rate': 0.002, 'max_depth': 10, 'min_child_weight': 8}. Best is trial 83 with value: 28.441456327413405.\n",
      " 79%|███████▊  | 118/150 [6:59:51<2:22:25, 267.05s/it][I 2023-09-10 06:06:14,656] Trial 118 finished with value: 28.54398874193681 and parameters: {'reg_alpha': 0.00549392444710523, 'reg_lambda': 2.3827467901448003, 'colsample_bytree': 1.0, 'subsample': 0.7, 'learning_rate': 0.002, 'max_depth': 9, 'min_child_weight': 10}. Best is trial 83 with value: 28.441456327413405.\n",
      " 79%|███████▉  | 119/150 [7:04:30<2:19:52, 270.71s/it][I 2023-09-10 06:10:53,592] Trial 119 finished with value: 28.535757141390757 and parameters: {'reg_alpha': 0.003174781842446485, 'reg_lambda': 1.3578375457061238, 'colsample_bytree': 1.0, 'subsample': 0.65, 'learning_rate': 0.002, 'max_depth': 10, 'min_child_weight': 11}. Best is trial 83 with value: 28.441456327413405.\n",
      " 80%|████████  | 120/150 [7:09:09<2:16:35, 273.18s/it][I 2023-09-10 06:15:18,486] Trial 120 finished with value: 28.618479977085773 and parameters: {'reg_alpha': 0.007461419812496733, 'reg_lambda': 0.39830585774509053, 'colsample_bytree': 1.0, 'subsample': 0.55, 'learning_rate': 0.002, 'max_depth': 10, 'min_child_weight': 9}. Best is trial 83 with value: 28.441456327413405.\n",
      " 81%|████████  | 121/150 [7:13:34<2:10:50, 270.69s/it][I 2023-09-10 06:19:16,689] Trial 121 finished with value: 28.474908641951995 and parameters: {'reg_alpha': 0.003323949280650096, 'reg_lambda': 1.1762280254123432, 'colsample_bytree': 1.0, 'subsample': 0.65, 'learning_rate': 0.002, 'max_depth': 10, 'min_child_weight': 11}. Best is trial 83 with value: 28.441456327413405.\n",
      " 81%|████████▏ | 122/150 [7:17:33<2:01:46, 260.95s/it][I 2023-09-10 06:23:56,817] Trial 122 finished with value: 28.500838295828522 and parameters: {'reg_alpha': 0.0014447345307968043, 'reg_lambda': 0.6584349089166397, 'colsample_bytree': 1.0, 'subsample': 0.65, 'learning_rate': 0.002, 'max_depth': 10, 'min_child_weight': 11}. Best is trial 83 with value: 28.441456327413405.\n",
      " 82%|████████▏ | 123/150 [7:22:13<2:00:00, 266.70s/it][I 2023-09-10 06:26:33,177] Trial 123 finished with value: 28.70050526953932 and parameters: {'reg_alpha': 0.0014643332571196278, 'reg_lambda': 0.581538686894702, 'colsample_bytree': 0.5, 'subsample': 0.6, 'learning_rate': 0.002, 'max_depth': 10, 'min_child_weight': 11}. Best is trial 83 with value: 28.441456327413405.\n",
      " 83%|████████▎ | 124/150 [7:24:49<1:41:13, 233.60s/it][I 2023-09-10 06:30:29,544] Trial 124 finished with value: 28.617281017407116 and parameters: {'reg_alpha': 0.0021639693205515675, 'reg_lambda': 4.398324335857831, 'colsample_bytree': 0.95, 'subsample': 0.7, 'learning_rate': 0.002, 'max_depth': 10, 'min_child_weight': 12}. Best is trial 83 with value: 28.441456327413405.\n",
      " 83%|████████▎ | 125/150 [7:28:45<1:37:40, 234.43s/it][I 2023-09-10 06:35:06,368] Trial 125 finished with value: 28.437841890207608 and parameters: {'reg_alpha': 0.0019988395461605474, 'reg_lambda': 0.9250084571745059, 'colsample_bytree': 1.0, 'subsample': 0.65, 'learning_rate': 0.002, 'max_depth': 10, 'min_child_weight': 11}. Best is trial 125 with value: 28.437841890207608.\n",
      " 84%|████████▍ | 126/150 [7:33:22<1:38:51, 247.15s/it][I 2023-09-10 06:39:20,329] Trial 126 finished with value: 28.558798523075474 and parameters: {'reg_alpha': 0.0010018272967903638, 'reg_lambda': 2.6294341956568297, 'colsample_bytree': 1.0, 'subsample': 0.6, 'learning_rate': 0.002, 'max_depth': 9, 'min_child_weight': 11}. Best is trial 125 with value: 28.437841890207608.\n",
      " 85%|████████▍ | 127/150 [7:37:36<1:35:31, 249.19s/it][I 2023-09-10 06:44:05,317] Trial 127 finished with value: 28.59540708635844 and parameters: {'reg_alpha': 0.0018005091685033348, 'reg_lambda': 0.37990748112893097, 'colsample_bytree': 1.0, 'subsample': 0.65, 'learning_rate': 0.002, 'max_depth': 10, 'min_child_weight': 12}. Best is trial 125 with value: 28.437841890207608.\n",
      " 85%|████████▌ | 128/150 [7:42:21<1:35:18, 259.93s/it][I 2023-09-10 06:48:36,595] Trial 128 finished with value: 28.51615846957532 and parameters: {'reg_alpha': 0.0028036897973828757, 'reg_lambda': 0.7436319487794988, 'colsample_bytree': 1.0, 'subsample': 0.6, 'learning_rate': 0.002, 'max_depth': 10, 'min_child_weight': 12}. Best is trial 125 with value: 28.437841890207608.\n",
      " 86%|████████▌ | 129/150 [7:46:52<1:32:10, 263.33s/it][I 2023-09-10 06:52:28,984] Trial 129 finished with value: 28.623610275203777 and parameters: {'reg_alpha': 0.004609179627344951, 'reg_lambda': 1.8525929746488048, 'colsample_bytree': 0.95, 'subsample': 0.5, 'learning_rate': 0.002, 'max_depth': 10, 'min_child_weight': 11}. Best is trial 125 with value: 28.437841890207608.\n",
      " 87%|████████▋ | 130/150 [7:50:45<1:24:41, 254.05s/it][I 2023-09-10 06:56:27,123] Trial 130 finished with value: 28.57873137064022 and parameters: {'reg_alpha': 0.0012728288034574379, 'reg_lambda': 1.156188813959853, 'colsample_bytree': 0.95, 'subsample': 0.65, 'learning_rate': 0.002, 'max_depth': 9, 'min_child_weight': 11}. Best is trial 125 with value: 28.437841890207608.\n",
      " 87%|████████▋ | 131/150 [7:54:43<1:18:56, 249.28s/it][I 2023-09-10 07:00:27,528] Trial 131 finished with value: 28.546770351209208 and parameters: {'reg_alpha': 0.002686910094413813, 'reg_lambda': 0.7402111882318356, 'colsample_bytree': 1.0, 'subsample': 0.6, 'learning_rate': 0.002, 'max_depth': 10, 'min_child_weight': 12}. Best is trial 125 with value: 28.437841890207608.\n",
      " 88%|████████▊ | 132/150 [7:58:43<1:13:59, 246.62s/it][I 2023-09-10 07:04:25,411] Trial 132 finished with value: 28.552511663915322 and parameters: {'reg_alpha': 0.002249879222469269, 'reg_lambda': 0.5595210011720386, 'colsample_bytree': 1.0, 'subsample': 0.6, 'learning_rate': 0.002, 'max_depth': 10, 'min_child_weight': 12}. Best is trial 125 with value: 28.437841890207608.\n",
      " 89%|████████▊ | 133/150 [8:02:41<1:09:07, 244.00s/it][I 2023-09-10 07:08:56,563] Trial 133 finished with value: 28.48013038079676 and parameters: {'reg_alpha': 0.0033043931836101654, 'reg_lambda': 3.09621239662839, 'colsample_bytree': 1.0, 'subsample': 0.6, 'learning_rate': 0.002, 'max_depth': 10, 'min_child_weight': 11}. Best is trial 125 with value: 28.437841890207608.\n",
      " 89%|████████▉ | 134/150 [8:07:12<1:07:14, 252.14s/it][I 2023-09-10 07:13:05,126] Trial 134 finished with value: 28.5402560048549 and parameters: {'reg_alpha': 0.001578335703833821, 'reg_lambda': 3.7555297688410842, 'colsample_bytree': 1.0, 'subsample': 0.6, 'learning_rate': 0.002, 'max_depth': 10, 'min_child_weight': 10}. Best is trial 125 with value: 28.437841890207608.\n",
      " 90%|█████████ | 135/150 [8:11:21<1:02:46, 251.07s/it][I 2023-09-10 07:15:33,061] Trial 135 finished with value: 28.844884870433038 and parameters: {'reg_alpha': 0.004862124859005242, 'reg_lambda': 7.944435880684956, 'colsample_bytree': 1.0, 'subsample': 0.65, 'learning_rate': 0.002, 'max_depth': 4, 'min_child_weight': 11}. Best is trial 125 with value: 28.437841890207608.\n",
      " 91%|█████████ | 136/150 [8:13:49<51:21, 220.13s/it]  [I 2023-09-10 07:20:34,084] Trial 136 finished with value: 28.561109896914083 and parameters: {'reg_alpha': 0.010945424178164596, 'reg_lambda': 2.7991957736831004, 'colsample_bytree': 1.0, 'subsample': 0.7, 'learning_rate': 0.002, 'max_depth': 10, 'min_child_weight': 9}. Best is trial 125 with value: 28.437841890207608.\n",
      " 91%|█████████▏| 137/150 [8:18:50<52:57, 244.40s/it][I 2023-09-10 07:23:41,124] Trial 137 finished with value: 28.632517335913732 and parameters: {'reg_alpha': 0.0013670281768544553, 'reg_lambda': 5.548224510615366, 'colsample_bytree': 0.95, 'subsample': 0.55, 'learning_rate': 0.002, 'max_depth': 10, 'min_child_weight': 11}. Best is trial 125 with value: 28.437841890207608.\n",
      " 92%|█████████▏| 138/150 [8:21:57<45:26, 227.19s/it][I 2023-09-10 07:27:25,225] Trial 138 finished with value: 28.54602848386007 and parameters: {'reg_alpha': 0.0034440757768470012, 'reg_lambda': 1.77746219706292, 'colsample_bytree': 1.0, 'subsample': 0.65, 'learning_rate': 0.002, 'max_depth': 9, 'min_child_weight': 10}. Best is trial 125 with value: 28.437841890207608.\n",
      " 93%|█████████▎| 139/150 [8:25:41<41:28, 226.26s/it][I 2023-09-10 07:31:32,500] Trial 139 finished with value: 28.55805297898189 and parameters: {'reg_alpha': 0.002070056448941235, 'reg_lambda': 1.0592774057283723, 'colsample_bytree': 1.0, 'subsample': 0.6, 'learning_rate': 0.002, 'max_depth': 10, 'min_child_weight': 11}. Best is trial 125 with value: 28.437841890207608.\n",
      " 93%|█████████▎| 140/150 [8:29:48<38:45, 232.57s/it][I 2023-09-10 07:36:01,171] Trial 140 finished with value: 28.585485883883507 and parameters: {'reg_alpha': 0.003636964629063641, 'reg_lambda': 2.950927942829385, 'colsample_bytree': 1.0, 'subsample': 0.65, 'learning_rate': 0.002, 'max_depth': 10, 'min_child_weight': 12}. Best is trial 125 with value: 28.437841890207608.\n",
      " 94%|█████████▍| 141/150 [8:34:17<36:30, 243.40s/it][I 2023-09-10 07:40:33,033] Trial 141 finished with value: 28.53125552699365 and parameters: {'reg_alpha': 0.002695316506893733, 'reg_lambda': 0.6811815946673734, 'colsample_bytree': 1.0, 'subsample': 0.6, 'learning_rate': 0.002, 'max_depth': 10, 'min_child_weight': 12}. Best is trial 125 with value: 28.437841890207608.\n",
      " 95%|█████████▍| 142/150 [8:38:49<33:35, 251.94s/it][I 2023-09-10 07:45:04,234] Trial 142 finished with value: 28.462514935727967 and parameters: {'reg_alpha': 0.0013183836000507908, 'reg_lambda': 1.5970573408651625, 'colsample_bytree': 1.0, 'subsample': 0.6, 'learning_rate': 0.002, 'max_depth': 10, 'min_child_weight': 12}. Best is trial 125 with value: 28.437841890207608.\n",
      " 95%|█████████▌| 143/150 [8:43:20<30:04, 257.72s/it][I 2023-09-10 07:49:32,826] Trial 143 finished with value: 28.520280585480254 and parameters: {'reg_alpha': 0.0015065341055891953, 'reg_lambda': 1.6960578712667165, 'colsample_bytree': 1.0, 'subsample': 0.6, 'learning_rate': 0.002, 'max_depth': 10, 'min_child_weight': 13}. Best is trial 125 with value: 28.437841890207608.\n",
      " 96%|█████████▌| 144/150 [8:47:49<26:05, 260.98s/it][I 2023-09-10 07:54:15,821] Trial 144 finished with value: 28.61240600570705 and parameters: {'reg_alpha': 0.0010330698748870356, 'reg_lambda': 5.0635129236435095, 'colsample_bytree': 1.0, 'subsample': 0.65, 'learning_rate': 0.002, 'max_depth': 10, 'min_child_weight': 11}. Best is trial 125 with value: 28.437841890207608.\n",
      " 97%|█████████▋| 145/150 [8:52:32<22:17, 267.58s/it][I 2023-09-10 07:58:11,464] Trial 145 finished with value: 28.47429570893312 and parameters: {'reg_alpha': 0.0018873463113700585, 'reg_lambda': 2.27482420135868, 'colsample_bytree': 0.95, 'subsample': 0.55, 'learning_rate': 0.002, 'max_depth': 10, 'min_child_weight': 10}. Best is trial 125 with value: 28.437841890207608.\n",
      " 97%|█████████▋| 146/150 [8:56:27<17:12, 258.00s/it][I 2023-09-10 08:01:46,296] Trial 146 finished with value: 28.636345883156768 and parameters: {'reg_alpha': 0.0019162211106346816, 'reg_lambda': 1.0089218485029534, 'colsample_bytree': 0.95, 'subsample': 0.5, 'learning_rate': 0.002, 'max_depth': 10, 'min_child_weight': 10}. Best is trial 125 with value: 28.437841890207608.\n",
      " 98%|█████████▊| 147/150 [9:00:02<12:15, 245.05s/it][I 2023-09-10 08:06:00,838] Trial 147 finished with value: 28.752988385005093 and parameters: {'reg_alpha': 0.0057140521377258575, 'reg_lambda': 10.094442085006172, 'colsample_bytree': 0.95, 'subsample': 0.55, 'learning_rate': 0.002, 'max_depth': 10, 'min_child_weight': 9}. Best is trial 125 with value: 28.437841890207608.\n",
      " 99%|█████████▊| 148/150 [9:04:17<08:15, 247.90s/it][I 2023-09-10 08:10:06,798] Trial 148 finished with value: 28.54249301313036 and parameters: {'reg_alpha': 0.0014477898765475495, 'reg_lambda': 2.3142229974174953, 'colsample_bytree': 1.0, 'subsample': 0.55, 'learning_rate': 0.002, 'max_depth': 10, 'min_child_weight': 10}. Best is trial 125 with value: 28.437841890207608.\n",
      " 99%|█████████▉| 149/150 [9:08:23<04:07, 247.32s/it][I 2023-09-10 08:14:29,084] Trial 149 finished with value: 28.7750101136731 and parameters: {'reg_alpha': 0.0010226175239251053, 'reg_lambda': 0.36111779805239175, 'colsample_bytree': 1.0, 'subsample': 0.6, 'learning_rate': 0.002, 'max_depth': 10, 'min_child_weight': 9}. Best is trial 125 with value: 28.437841890207608.\n",
      "100%|██████████| 150/150 [9:12:45<00:00, 221.10s/it]"
     ]
    },
    {
     "name": "stdout",
     "output_type": "stream",
     "text": [
      "Number of finished trials: 150\n",
      "Best trial: {'reg_alpha': 0.0019988395461605474, 'reg_lambda': 0.9250084571745059, 'colsample_bytree': 1.0, 'subsample': 0.65, 'learning_rate': 0.002, 'max_depth': 10, 'min_child_weight': 11}\n"
     ]
    },
    {
     "name": "stderr",
     "output_type": "stream",
     "text": [
      "\n"
     ]
    }
   ],
   "source": [
    "study = optuna.create_study(direction='minimize', study_name=None)\n",
    "with tqdm(total=num_of_study) as pbar:  \n",
    "    def callback(study, trial):\n",
    "        pbar.update(1)\n",
    "    \n",
    "    study.optimize(objective, n_trials=num_of_study, callbacks=[callback])\n",
    "\n",
    "print('Number of finished trials:', len(study.trials))\n",
    "print('Best trial:', study.best_trial.params)"
   ]
  },
  {
   "cell_type": "code",
   "execution_count": 41,
   "metadata": {},
   "outputs": [
    {
     "data": {
      "text/html": [
       "<div>\n",
       "<style scoped>\n",
       "    .dataframe tbody tr th:only-of-type {\n",
       "        vertical-align: middle;\n",
       "    }\n",
       "\n",
       "    .dataframe tbody tr th {\n",
       "        vertical-align: top;\n",
       "    }\n",
       "\n",
       "    .dataframe thead th {\n",
       "        text-align: right;\n",
       "    }\n",
       "</style>\n",
       "<table border=\"1\" class=\"dataframe\">\n",
       "  <thead>\n",
       "    <tr style=\"text-align: right;\">\n",
       "      <th></th>\n",
       "      <th>number</th>\n",
       "      <th>value</th>\n",
       "      <th>datetime_start</th>\n",
       "      <th>datetime_complete</th>\n",
       "      <th>duration</th>\n",
       "      <th>params_colsample_bytree</th>\n",
       "      <th>params_learning_rate</th>\n",
       "      <th>params_max_depth</th>\n",
       "      <th>params_min_child_weight</th>\n",
       "      <th>params_reg_alpha</th>\n",
       "      <th>params_reg_lambda</th>\n",
       "      <th>params_subsample</th>\n",
       "      <th>state</th>\n",
       "    </tr>\n",
       "  </thead>\n",
       "  <tbody>\n",
       "    <tr>\n",
       "      <th>0</th>\n",
       "      <td>0</td>\n",
       "      <td>28.951004</td>\n",
       "      <td>2023-09-09 23:01:43.673219</td>\n",
       "      <td>2023-09-09 23:03:32.101014</td>\n",
       "      <td>0 days 00:01:48.427795</td>\n",
       "      <td>1.00</td>\n",
       "      <td>0.003</td>\n",
       "      <td>3</td>\n",
       "      <td>17</td>\n",
       "      <td>0.002558</td>\n",
       "      <td>0.312608</td>\n",
       "      <td>0.50</td>\n",
       "      <td>COMPLETE</td>\n",
       "    </tr>\n",
       "    <tr>\n",
       "      <th>1</th>\n",
       "      <td>1</td>\n",
       "      <td>28.618728</td>\n",
       "      <td>2023-09-09 23:03:32.102015</td>\n",
       "      <td>2023-09-09 23:06:54.637711</td>\n",
       "      <td>0 days 00:03:22.535696</td>\n",
       "      <td>0.75</td>\n",
       "      <td>0.002</td>\n",
       "      <td>8</td>\n",
       "      <td>13</td>\n",
       "      <td>0.017337</td>\n",
       "      <td>0.015725</td>\n",
       "      <td>0.90</td>\n",
       "      <td>COMPLETE</td>\n",
       "    </tr>\n",
       "    <tr>\n",
       "      <th>2</th>\n",
       "      <td>2</td>\n",
       "      <td>36.270963</td>\n",
       "      <td>2023-09-09 23:06:54.639711</td>\n",
       "      <td>2023-09-09 23:10:06.712047</td>\n",
       "      <td>0 days 00:03:12.072336</td>\n",
       "      <td>0.95</td>\n",
       "      <td>0.002</td>\n",
       "      <td>7</td>\n",
       "      <td>7</td>\n",
       "      <td>23195.210904</td>\n",
       "      <td>874.906725</td>\n",
       "      <td>0.60</td>\n",
       "      <td>COMPLETE</td>\n",
       "    </tr>\n",
       "    <tr>\n",
       "      <th>3</th>\n",
       "      <td>3</td>\n",
       "      <td>30.674320</td>\n",
       "      <td>2023-09-09 23:10:06.713047</td>\n",
       "      <td>2023-09-09 23:12:11.348167</td>\n",
       "      <td>0 days 00:02:04.635120</td>\n",
       "      <td>0.65</td>\n",
       "      <td>0.002</td>\n",
       "      <td>5</td>\n",
       "      <td>9</td>\n",
       "      <td>0.002595</td>\n",
       "      <td>881.154296</td>\n",
       "      <td>0.60</td>\n",
       "      <td>COMPLETE</td>\n",
       "    </tr>\n",
       "    <tr>\n",
       "      <th>4</th>\n",
       "      <td>4</td>\n",
       "      <td>33.031540</td>\n",
       "      <td>2023-09-09 23:12:11.349167</td>\n",
       "      <td>2023-09-09 23:14:04.859777</td>\n",
       "      <td>0 days 00:01:53.510610</td>\n",
       "      <td>0.80</td>\n",
       "      <td>0.002</td>\n",
       "      <td>5</td>\n",
       "      <td>4</td>\n",
       "      <td>11151.243517</td>\n",
       "      <td>10.735777</td>\n",
       "      <td>0.55</td>\n",
       "      <td>COMPLETE</td>\n",
       "    </tr>\n",
       "  </tbody>\n",
       "</table>\n",
       "</div>"
      ],
      "text/plain": [
       "   number      value             datetime_start          datetime_complete  \\\n",
       "0       0  28.951004 2023-09-09 23:01:43.673219 2023-09-09 23:03:32.101014   \n",
       "1       1  28.618728 2023-09-09 23:03:32.102015 2023-09-09 23:06:54.637711   \n",
       "2       2  36.270963 2023-09-09 23:06:54.639711 2023-09-09 23:10:06.712047   \n",
       "3       3  30.674320 2023-09-09 23:10:06.713047 2023-09-09 23:12:11.348167   \n",
       "4       4  33.031540 2023-09-09 23:12:11.349167 2023-09-09 23:14:04.859777   \n",
       "\n",
       "                duration  params_colsample_bytree  params_learning_rate  \\\n",
       "0 0 days 00:01:48.427795                     1.00                 0.003   \n",
       "1 0 days 00:03:22.535696                     0.75                 0.002   \n",
       "2 0 days 00:03:12.072336                     0.95                 0.002   \n",
       "3 0 days 00:02:04.635120                     0.65                 0.002   \n",
       "4 0 days 00:01:53.510610                     0.80                 0.002   \n",
       "\n",
       "   params_max_depth  params_min_child_weight  params_reg_alpha  \\\n",
       "0                 3                       17          0.002558   \n",
       "1                 8                       13          0.017337   \n",
       "2                 7                        7      23195.210904   \n",
       "3                 5                        9          0.002595   \n",
       "4                 5                        4      11151.243517   \n",
       "\n",
       "   params_reg_lambda  params_subsample     state  \n",
       "0           0.312608              0.50  COMPLETE  \n",
       "1           0.015725              0.90  COMPLETE  \n",
       "2         874.906725              0.60  COMPLETE  \n",
       "3         881.154296              0.60  COMPLETE  \n",
       "4          10.735777              0.55  COMPLETE  "
      ]
     },
     "execution_count": 41,
     "metadata": {},
     "output_type": "execute_result"
    }
   ],
   "source": [
    "study.trials_dataframe().head()"
   ]
  },
  {
   "cell_type": "code",
   "execution_count": 42,
   "metadata": {},
   "outputs": [
    {
     "data": {
      "image/png": "[encoded data removed]",
      "text/plain": [
       "<Figure size 1200x800 with 7 Axes>"
      ]
     },
     "metadata": {},
     "output_type": "display_data"
    }
   ],
   "source": [
    "df_study = study.trials_dataframe()\n",
    "\n",
    "study_cols = ['params_colsample_bytree', 'params_learning_rate', 'params_max_depth',\n",
    "       'params_min_child_weight', 'params_reg_alpha', 'params_reg_lambda',\n",
    "       'params_subsample']\n",
    "\n",
    "sns.set_style(\"whitegrid\")\n",
    "plt.figure(figsize=(12, 8))\n",
    "\n",
    "for i, col in enumerate(study_cols, 1):\n",
    "    plt.subplot(3, 3, i)\n",
    "    sns.histplot(df_study[col], bins=30, color='skyblue', kde=True)\n",
    "    plt.xlabel(col)\n",
    "    plt.ylabel('Frequency')\n",
    "\n",
    "plt.tight_layout()\n",
    "plt.show()"
   ]
  },
  {
   "cell_type": "code",
   "execution_count": 43,
   "metadata": {},
   "outputs": [
    {
     "data": {
      "application/vnd.plotly.v1+json": {
       "config": {
        "plotlyServerURL": "https://plot.ly"
       },
       "data": [
        {
         "mode": "markers",
         "name": "Objective Value",
         "type": "scatter",
         "x": [
          0,
          1,
          2,
          3,
          4,
          5,
          6,
          7,
          8,
          9,
          10,
          11,
          12,
          13,
          14,
          15,
          16,
          17,
          18,
          19,
          20,
          21,
          22,
          23,
          24,
          25,
          26,
          27,
          28,
          29,
          30,
          31,
          32,
          33,
          34,
          35,
          36,
          37,
          38,
          39,
          40,
          41,
          42,
          43,
          44,
          45,
          46,
          47,
          48,
          49,
          50,
          51,
          52,
          53,
          54,
          55,
          56,
          57,
          58,
          59,
          60,
          61,
          62,
          63,
          64,
          65,
          66,
          67,
          68,
          69,
          70,
          71,
          72,
          73,
          74,
          75,
          76,
          77,
          78,
          79,
          80,
          81,
          82,
          83,
          84,
          85,
          86,
          87,
          88,
          89,
          90,
          91,
          92,
          93,
          94,
          95,
          96,
          97,
          98,
          99,
          100,
          101,
          102,
          103,
          104,
          105,
          106,
          107,
          108,
          109,
          110,
          111,
          112,
          113,
          114,
          115,
          116,
          117,
          118,
          119,
          120,
          121,
          122,
          123,
          124,
          125,
          126,
          127,
          128,
          129,
          130,
          131,
          132,
          133,
          134,
          135,
          136,
          137,
          138,
          139,
          140,
          141,
          142,
          143,
          144,
          145,
          146,
          147,
          148,
          149
         ],
         "y": [
          28.951003958142422,
          28.61872824460185,
          36.270962802428826,
          30.674319911574383,
          33.03153961740546,
          28.84270251469723,
          32.96159851067105,
          28.796503928400078,
          29.22606016797026,
          28.73857586867008,
          41.563029366452916,
          28.751276432175818,
          28.661132602584775,
          28.644907051435435,
          28.701041385133692,
          28.791675136695993,
          29.187103499938143,
          28.737164848976562,
          28.899064262886142,
          29.30086141109862,
          28.908323255610572,
          28.67974035873975,
          28.7486282243582,
          28.702892108502034,
          28.67506123804804,
          28.815670355124567,
          28.82157721042467,
          28.73662327340445,
          28.81541095067897,
          28.861406558833078,
          28.995348476527706,
          28.639448715928857,
          28.600633938370976,
          28.754049862338686,
          28.732372709391623,
          28.774798360572557,
          28.744338229093554,
          29.242507974509284,
          48.81727924487241,
          28.870947424679787,
          28.75289280438304,
          28.694931126690012,
          28.679770164782393,
          28.67249341383001,
          28.813302102136223,
          28.73721528829033,
          28.746764027184334,
          28.627832297277795,
          28.67251663868743,
          28.673748660114832,
          28.852194752909153,
          28.688656512295854,
          28.723567138445368,
          28.65830416313091,
          28.712681580951113,
          28.74030725326011,
          28.731967467593734,
          28.861851104782282,
          28.76275114139709,
          28.740690827805768,
          28.7720279653138,
          28.722111978910398,
          28.691195560938255,
          28.818604051946867,
          28.69300757386815,
          28.643174164079827,
          28.743734085161606,
          28.683887108209234,
          28.719526328544738,
          28.67112024628411,
          28.635275339485446,
          28.647419957026088,
          28.686131054751613,
          28.84110536958852,
          28.608316108782084,
          28.66893709628323,
          28.634256344072508,
          28.63144134763365,
          28.55054739590847,
          28.702096263994022,
          28.79711181996676,
          28.484932274333868,
          28.507270172592257,
          28.441456327413405,
          28.7093788512743,
          28.49287193311787,
          28.459953761688237,
          28.498267898358296,
          28.480547255294013,
          28.619654218292936,
          28.481244284654785,
          28.562997824562075,
          28.63131537419545,
          28.651601935100597,
          28.534652325744258,
          28.561481890197456,
          28.656981455823672,
          28.58099625750707,
          29.540772904204175,
          28.455192885386456,
          28.599751724724616,
          28.473258388437003,
          28.53197881141799,
          28.671652247957685,
          28.64106747867199,
          28.580816077932216,
          28.61334826739399,
          29.008682430361493,
          28.568431676749178,
          29.065287998055,
          28.55817923079325,
          28.56851961578594,
          28.584278284489315,
          28.581770371026963,
          28.59631994815824,
          28.62772977447794,
          28.552708623394167,
          28.66283724209107,
          28.54398874193681,
          28.535757141390757,
          28.618479977085773,
          28.474908641951995,
          28.500838295828522,
          28.70050526953932,
          28.617281017407116,
          28.437841890207608,
          28.558798523075474,
          28.59540708635844,
          28.51615846957532,
          28.623610275203777,
          28.57873137064022,
          28.546770351209208,
          28.552511663915322,
          28.48013038079676,
          28.5402560048549,
          28.844884870433038,
          28.561109896914083,
          28.632517335913732,
          28.54602848386007,
          28.55805297898189,
          28.585485883883507,
          28.53125552699365,
          28.462514935727967,
          28.520280585480254,
          28.61240600570705,
          28.47429570893312,
          28.636345883156768,
          28.752988385005093,
          28.54249301313036,
          28.7750101136731
         ]
        },
        {
         "mode": "lines",
         "name": "Best Value",
         "type": "scatter",
         "x": [
          0,
          1,
          2,
          3,
          4,
          5,
          6,
          7,
          8,
          9,
          10,
          11,
          12,
          13,
          14,
          15,
          16,
          17,
          18,
          19,
          20,
          21,
          22,
          23,
          24,
          25,
          26,
          27,
          28,
          29,
          30,
          31,
          32,
          33,
          34,
          35,
          36,
          37,
          38,
          39,
          40,
          41,
          42,
          43,
          44,
          45,
          46,
          47,
          48,
          49,
          50,
          51,
          52,
          53,
          54,
          55,
          56,
          57,
          58,
          59,
          60,
          61,
          62,
          63,
          64,
          65,
          66,
          67,
          68,
          69,
          70,
          71,
          72,
          73,
          74,
          75,
          76,
          77,
          78,
          79,
          80,
          81,
          82,
          83,
          84,
          85,
          86,
          87,
          88,
          89,
          90,
          91,
          92,
          93,
          94,
          95,
          96,
          97,
          98,
          99,
          100,
          101,
          102,
          103,
          104,
          105,
          106,
          107,
          108,
          109,
          110,
          111,
          112,
          113,
          114,
          115,
          116,
          117,
          118,
          119,
          120,
          121,
          122,
          123,
          124,
          125,
          126,
          127,
          128,
          129,
          130,
          131,
          132,
          133,
          134,
          135,
          136,
          137,
          138,
          139,
          140,
          141,
          142,
          143,
          144,
          145,
          146,
          147,
          148,
          149
         ],
         "y": [
          28.951003958142422,
          28.61872824460185,
          28.61872824460185,
          28.61872824460185,
          28.61872824460185,
          28.61872824460185,
          28.61872824460185,
          28.61872824460185,
          28.61872824460185,
          28.61872824460185,
          28.61872824460185,
          28.61872824460185,
          28.61872824460185,
          28.61872824460185,
          28.61872824460185,
          28.61872824460185,
          28.61872824460185,
          28.61872824460185,
          28.61872824460185,
          28.61872824460185,
          28.61872824460185,
          28.61872824460185,
          28.61872824460185,
          28.61872824460185,
          28.61872824460185,
          28.61872824460185,
          28.61872824460185,
          28.61872824460185,
          28.61872824460185,
          28.61872824460185,
          28.61872824460185,
          28.61872824460185,
          28.600633938370976,
          28.600633938370976,
          28.600633938370976,
          28.600633938370976,
          28.600633938370976,
          28.600633938370976,
          28.600633938370976,
          28.600633938370976,
          28.600633938370976,
          28.600633938370976,
          28.600633938370976,
          28.600633938370976,
          28.600633938370976,
          28.600633938370976,
          28.600633938370976,
          28.600633938370976,
          28.600633938370976,
          28.600633938370976,
          28.600633938370976,
          28.600633938370976,
          28.600633938370976,
          28.600633938370976,
          28.600633938370976,
          28.600633938370976,
          28.600633938370976,
          28.600633938370976,
          28.600633938370976,
          28.600633938370976,
          28.600633938370976,
          28.600633938370976,
          28.600633938370976,
          28.600633938370976,
          28.600633938370976,
          28.600633938370976,
          28.600633938370976,
          28.600633938370976,
          28.600633938370976,
          28.600633938370976,
          28.600633938370976,
          28.600633938370976,
          28.600633938370976,
          28.600633938370976,
          28.600633938370976,
          28.600633938370976,
          28.600633938370976,
          28.600633938370976,
          28.55054739590847,
          28.55054739590847,
          28.55054739590847,
          28.484932274333868,
          28.484932274333868,
          28.441456327413405,
          28.441456327413405,
          28.441456327413405,
          28.441456327413405,
          28.441456327413405,
          28.441456327413405,
          28.441456327413405,
          28.441456327413405,
          28.441456327413405,
          28.441456327413405,
          28.441456327413405,
          28.441456327413405,
          28.441456327413405,
          28.441456327413405,
          28.441456327413405,
          28.441456327413405,
          28.441456327413405,
          28.441456327413405,
          28.441456327413405,
          28.441456327413405,
          28.441456327413405,
          28.441456327413405,
          28.441456327413405,
          28.441456327413405,
          28.441456327413405,
          28.441456327413405,
          28.441456327413405,
          28.441456327413405,
          28.441456327413405,
          28.441456327413405,
          28.441456327413405,
          28.441456327413405,
          28.441456327413405,
          28.441456327413405,
          28.441456327413405,
          28.441456327413405,
          28.441456327413405,
          28.441456327413405,
          28.441456327413405,
          28.441456327413405,
          28.441456327413405,
          28.441456327413405,
          28.437841890207608,
          28.437841890207608,
          28.437841890207608,
          28.437841890207608,
          28.437841890207608,
          28.437841890207608,
          28.437841890207608,
          28.437841890207608,
          28.437841890207608,
          28.437841890207608,
          28.437841890207608,
          28.437841890207608,
          28.437841890207608,
          28.437841890207608,
          28.437841890207608,
          28.437841890207608,
          28.437841890207608,
          28.437841890207608,
          28.437841890207608,
          28.437841890207608,
          28.437841890207608,
          28.437841890207608,
          28.437841890207608,
          28.437841890207608,
          28.437841890207608
         ]
        },
        {
         "marker": {
          "color": "#cccccc"
         },
         "mode": "markers",
         "name": "Infeasible Trial",
         "showlegend": false,
         "type": "scatter",
         "x": [],
         "y": []
        }
       ],
       "layout": {
        "template": {
         "data": {
          "bar": [
           {
            "error_x": {
             "color": "#2a3f5f"
            },
            "error_y": {
             "color": "#2a3f5f"
            },
            "marker": {
             "line": {
              "color": "#E5ECF6",
              "width": 0.5
             },
             "pattern": {
              "fillmode": "overlay",
              "size": 10,
              "solidity": 0.2
             }
            },
            "type": "bar"
           }
          ],
          "barpolar": [
           {
            "marker": {
             "line": {
              "color": "#E5ECF6",
              "width": 0.5
             },
             "pattern": {
              "fillmode": "overlay",
              "size": 10,
              "solidity": 0.2
             }
            },
            "type": "barpolar"
           }
          ],
          "carpet": [
           {
            "aaxis": {
             "endlinecolor": "#2a3f5f",
             "gridcolor": "white",
             "linecolor": "white",
             "minorgridcolor": "white",
             "startlinecolor": "#2a3f5f"
            },
            "baxis": {
             "endlinecolor": "#2a3f5f",
             "gridcolor": "white",
             "linecolor": "white",
             "minorgridcolor": "white",
             "startlinecolor": "#2a3f5f"
            },
            "type": "carpet"
           }
          ],
          "choropleth": [
           {
            "colorbar": {
             "outlinewidth": 0,
             "ticks": ""
            },
            "type": "choropleth"
           }
          ],
          "contour": [
           {
            "colorbar": {
             "outlinewidth": 0,
             "ticks": ""
            },
            "colorscale": [
             [
              0,
              "#0d0887"
             ],
             [
              0.1111111111111111,
              "#46039f"
             ],
             [
              0.2222222222222222,
              "#7201a8"
             ],
             [
              0.3333333333333333,
              "#9c179e"
             ],
             [
              0.4444444444444444,
              "#bd3786"
             ],
             [
              0.5555555555555556,
              "#d8576b"
             ],
             [
              0.6666666666666666,
              "#ed7953"
             ],
             [
              0.7777777777777778,
              "#fb9f3a"
             ],
             [
              0.8888888888888888,
              "#fdca26"
             ],
             [
              1,
              "#f0f921"
             ]
            ],
            "type": "contour"
           }
          ],
          "contourcarpet": [
           {
            "colorbar": {
             "outlinewidth": 0,
             "ticks": ""
            },
            "type": "contourcarpet"
           }
          ],
          "heatmap": [
           {
            "colorbar": {
             "outlinewidth": 0,
             "ticks": ""
            },
            "colorscale": [
             [
              0,
              "#0d0887"
             ],
             [
              0.1111111111111111,
              "#46039f"
             ],
             [
              0.2222222222222222,
              "#7201a8"
             ],
             [
              0.3333333333333333,
              "#9c179e"
             ],
             [
              0.4444444444444444,
              "#bd3786"
             ],
             [
              0.5555555555555556,
              "#d8576b"
             ],
             [
              0.6666666666666666,
              "#ed7953"
             ],
             [
              0.7777777777777778,
              "#fb9f3a"
             ],
             [
              0.8888888888888888,
              "#fdca26"
             ],
             [
              1,
              "#f0f921"
             ]
            ],
            "type": "heatmap"
           }
          ],
          "heatmapgl": [
           {
            "colorbar": {
             "outlinewidth": 0,
             "ticks": ""
            },
            "colorscale": [
             [
              0,
              "#0d0887"
             ],
             [
              0.1111111111111111,
              "#46039f"
             ],
             [
              0.2222222222222222,
              "#7201a8"
             ],
             [
              0.3333333333333333,
              "#9c179e"
             ],
             [
              0.4444444444444444,
              "#bd3786"
             ],
             [
              0.5555555555555556,
              "#d8576b"
             ],
             [
              0.6666666666666666,
              "#ed7953"
             ],
             [
              0.7777777777777778,
              "#fb9f3a"
             ],
             [
              0.8888888888888888,
              "#fdca26"
             ],
             [
              1,
              "#f0f921"
             ]
            ],
            "type": "heatmapgl"
           }
          ],
          "histogram": [
           {
            "marker": {
             "pattern": {
              "fillmode": "overlay",
              "size": 10,
              "solidity": 0.2
             }
            },
            "type": "histogram"
           }
          ],
          "histogram2d": [
           {
            "colorbar": {
             "outlinewidth": 0,
             "ticks": ""
            },
            "colorscale": [
             [
              0,
              "#0d0887"
             ],
             [
              0.1111111111111111,
              "#46039f"
             ],
             [
              0.2222222222222222,
              "#7201a8"
             ],
             [
              0.3333333333333333,
              "#9c179e"
             ],
             [
              0.4444444444444444,
              "#bd3786"
             ],
             [
              0.5555555555555556,
              "#d8576b"
             ],
             [
              0.6666666666666666,
              "#ed7953"
             ],
             [
              0.7777777777777778,
              "#fb9f3a"
             ],
             [
              0.8888888888888888,
              "#fdca26"
             ],
             [
              1,
              "#f0f921"
             ]
            ],
            "type": "histogram2d"
           }
          ],
          "histogram2dcontour": [
           {
            "colorbar": {
             "outlinewidth": 0,
             "ticks": ""
            },
            "colorscale": [
             [
              0,
              "#0d0887"
             ],
             [
              0.1111111111111111,
              "#46039f"
             ],
             [
              0.2222222222222222,
              "#7201a8"
             ],
             [
              0.3333333333333333,
              "#9c179e"
             ],
             [
              0.4444444444444444,
              "#bd3786"
             ],
             [
              0.5555555555555556,
              "#d8576b"
             ],
             [
              0.6666666666666666,
              "#ed7953"
             ],
             [
              0.7777777777777778,
              "#fb9f3a"
             ],
             [
              0.8888888888888888,
              "#fdca26"
             ],
             [
              1,
              "#f0f921"
             ]
            ],
            "type": "histogram2dcontour"
           }
          ],
          "mesh3d": [
           {
            "colorbar": {
             "outlinewidth": 0,
             "ticks": ""
            },
            "type": "mesh3d"
           }
          ],
          "parcoords": [
           {
            "line": {
             "colorbar": {
              "outlinewidth": 0,
              "ticks": ""
             }
            },
            "type": "parcoords"
           }
          ],
          "pie": [
           {
            "automargin": true,
            "type": "pie"
           }
          ],
          "scatter": [
           {
            "fillpattern": {
             "fillmode": "overlay",
             "size": 10,
             "solidity": 0.2
            },
            "type": "scatter"
           }
          ],
          "scatter3d": [
           {
            "line": {
             "colorbar": {
              "outlinewidth": 0,
              "ticks": ""
             }
            },
            "marker": {
             "colorbar": {
              "outlinewidth": 0,
              "ticks": ""
             }
            },
            "type": "scatter3d"
           }
          ],
          "scattercarpet": [
           {
            "marker": {
             "colorbar": {
              "outlinewidth": 0,
              "ticks": ""
             }
            },
            "type": "scattercarpet"
           }
          ],
          "scattergeo": [
           {
            "marker": {
             "colorbar": {
              "outlinewidth": 0,
              "ticks": ""
             }
            },
            "type": "scattergeo"
           }
          ],
          "scattergl": [
           {
            "marker": {
             "colorbar": {
              "outlinewidth": 0,
              "ticks": ""
             }
            },
            "type": "scattergl"
           }
          ],
          "scattermapbox": [
           {
            "marker": {
             "colorbar": {
              "outlinewidth": 0,
              "ticks": ""
             }
            },
            "type": "scattermapbox"
           }
          ],
          "scatterpolar": [
           {
            "marker": {
             "colorbar": {
              "outlinewidth": 0,
              "ticks": ""
             }
            },
            "type": "scatterpolar"
           }
          ],
          "scatterpolargl": [
           {
            "marker": {
             "colorbar": {
              "outlinewidth": 0,
              "ticks": ""
             }
            },
            "type": "scatterpolargl"
           }
          ],
          "scatterternary": [
           {
            "marker": {
             "colorbar": {
              "outlinewidth": 0,
              "ticks": ""
             }
            },
            "type": "scatterternary"
           }
          ],
          "surface": [
           {
            "colorbar": {
             "outlinewidth": 0,
             "ticks": ""
            },
            "colorscale": [
             [
              0,
              "#0d0887"
             ],
             [
              0.1111111111111111,
              "#46039f"
             ],
             [
              0.2222222222222222,
              "#7201a8"
             ],
             [
              0.3333333333333333,
              "#9c179e"
             ],
             [
              0.4444444444444444,
              "#bd3786"
             ],
             [
              0.5555555555555556,
              "#d8576b"
             ],
             [
              0.6666666666666666,
              "#ed7953"
             ],
             [
              0.7777777777777778,
              "#fb9f3a"
             ],
             [
              0.8888888888888888,
              "#fdca26"
             ],
             [
              1,
              "#f0f921"
             ]
            ],
            "type": "surface"
           }
          ],
          "table": [
           {
            "cells": {
             "fill": {
              "color": "#EBF0F8"
             },
             "line": {
              "color": "white"
             }
            },
            "header": {
             "fill": {
              "color": "#C8D4E3"
             },
             "line": {
              "color": "white"
             }
            },
            "type": "table"
           }
          ]
         },
         "layout": {
          "annotationdefaults": {
           "arrowcolor": "#2a3f5f",
           "arrowhead": 0,
           "arrowwidth": 1
          },
          "autotypenumbers": "strict",
          "coloraxis": {
           "colorbar": {
            "outlinewidth": 0,
            "ticks": ""
           }
          },
          "colorscale": {
           "diverging": [
            [
             0,
             "#8e0152"
            ],
            [
             0.1,
             "#c51b7d"
            ],
            [
             0.2,
             "#de77ae"
            ],
            [
             0.3,
             "#f1b6da"
            ],
            [
             0.4,
             "#fde0ef"
            ],
            [
             0.5,
             "#f7f7f7"
            ],
            [
             0.6,
             "#e6f5d0"
            ],
            [
             0.7,
             "#b8e186"
            ],
            [
             0.8,
             "#7fbc41"
            ],
            [
             0.9,
             "#4d9221"
            ],
            [
             1,
             "#276419"
            ]
           ],
           "sequential": [
            [
             0,
             "#0d0887"
            ],
            [
             0.1111111111111111,
             "#46039f"
            ],
            [
             0.2222222222222222,
             "#7201a8"
            ],
            [
             0.3333333333333333,
             "#9c179e"
            ],
            [
             0.4444444444444444,
             "#bd3786"
            ],
            [
             0.5555555555555556,
             "#d8576b"
            ],
            [
             0.6666666666666666,
             "#ed7953"
            ],
            [
             0.7777777777777778,
             "#fb9f3a"
            ],
            [
             0.8888888888888888,
             "#fdca26"
            ],
            [
             1,
             "#f0f921"
            ]
           ],
           "sequentialminus": [
            [
             0,
             "#0d0887"
            ],
            [
             0.1111111111111111,
             "#46039f"
            ],
            [
             0.2222222222222222,
             "#7201a8"
            ],
            [
             0.3333333333333333,
             "#9c179e"
            ],
            [
             0.4444444444444444,
             "#bd3786"
            ],
            [
             0.5555555555555556,
             "#d8576b"
            ],
            [
             0.6666666666666666,
             "#ed7953"
            ],
            [
             0.7777777777777778,
             "#fb9f3a"
            ],
            [
             0.8888888888888888,
             "#fdca26"
            ],
            [
             1,
             "#f0f921"
            ]
           ]
          },
          "colorway": [
           "#636efa",
           "#EF553B",
           "#00cc96",
           "#ab63fa",
           "#FFA15A",
           "#19d3f3",
           "#FF6692",
           "#B6E880",
           "#FF97FF",
           "#FECB52"
          ],
          "font": {
           "color": "#2a3f5f"
          },
          "geo": {
           "bgcolor": "white",
           "lakecolor": "white",
           "landcolor": "#E5ECF6",
           "showlakes": true,
           "showland": true,
           "subunitcolor": "white"
          },
          "hoverlabel": {
           "align": "left"
          },
          "hovermode": "closest",
          "mapbox": {
           "style": "light"
          },
          "paper_bgcolor": "white",
          "plot_bgcolor": "#E5ECF6",
          "polar": {
           "angularaxis": {
            "gridcolor": "white",
            "linecolor": "white",
            "ticks": ""
           },
           "bgcolor": "#E5ECF6",
           "radialaxis": {
            "gridcolor": "white",
            "linecolor": "white",
            "ticks": ""
           }
          },
          "scene": {
           "xaxis": {
            "backgroundcolor": "#E5ECF6",
            "gridcolor": "white",
            "gridwidth": 2,
            "linecolor": "white",
            "showbackground": true,
            "ticks": "",
            "zerolinecolor": "white"
           },
           "yaxis": {
            "backgroundcolor": "#E5ECF6",
            "gridcolor": "white",
            "gridwidth": 2,
            "linecolor": "white",
            "showbackground": true,
            "ticks": "",
            "zerolinecolor": "white"
           },
           "zaxis": {
            "backgroundcolor": "#E5ECF6",
            "gridcolor": "white",
            "gridwidth": 2,
            "linecolor": "white",
            "showbackground": true,
            "ticks": "",
            "zerolinecolor": "white"
           }
          },
          "shapedefaults": {
           "line": {
            "color": "#2a3f5f"
           }
          },
          "ternary": {
           "aaxis": {
            "gridcolor": "white",
            "linecolor": "white",
            "ticks": ""
           },
           "baxis": {
            "gridcolor": "white",
            "linecolor": "white",
            "ticks": ""
           },
           "bgcolor": "#E5ECF6",
           "caxis": {
            "gridcolor": "white",
            "linecolor": "white",
            "ticks": ""
           }
          },
          "title": {
           "x": 0.05
          },
          "xaxis": {
           "automargin": true,
           "gridcolor": "white",
           "linecolor": "white",
           "ticks": "",
           "title": {
            "standoff": 15
           },
           "zerolinecolor": "white",
           "zerolinewidth": 2
          },
          "yaxis": {
           "automargin": true,
           "gridcolor": "white",
           "linecolor": "white",
           "ticks": "",
           "title": {
            "standoff": 15
           },
           "zerolinecolor": "white",
           "zerolinewidth": 2
          }
         }
        },
        "title": {
         "text": "Optimization History Plot"
        },
        "xaxis": {
         "title": {
          "text": "Trial"
         }
        },
        "yaxis": {
         "title": {
          "text": "Objective Value"
         }
        }
       }
      }
     },
     "metadata": {},
     "output_type": "display_data"
    }
   ],
   "source": [
    "optuna.visualization.plot_optimization_history(study)"
   ]
  },
  {
   "cell_type": "code",
   "execution_count": 44,
   "metadata": {},
   "outputs": [
    {
     "data": {
      "application/vnd.plotly.v1+json": {
       "config": {
        "plotlyServerURL": "https://plot.ly"
       },
       "data": [
        {
         "cliponaxis": false,
         "hovertemplate": [
          "colsample_bytree (FloatDistribution): 0.028761920856871123<extra></extra>",
          "subsample (FloatDistribution): 0.03518526159639209<extra></extra>",
          "min_child_weight (IntDistribution): 0.049992875441623556<extra></extra>",
          "learning_rate (FloatDistribution): 0.05227775285599568<extra></extra>",
          "max_depth (IntDistribution): 0.10900037705220066<extra></extra>",
          "reg_lambda (FloatDistribution): 0.127692927530771<extra></extra>",
          "reg_alpha (FloatDistribution): 0.5970888846661458<extra></extra>"
         ],
         "marker": {
          "color": "rgb(66,146,198)"
         },
         "orientation": "h",
         "text": [
          "0.03",
          "0.04",
          "0.05",
          "0.05",
          "0.11",
          "0.13",
          "0.60"
         ],
         "textposition": "outside",
         "type": "bar",
         "x": [
          0.028761920856871123,
          0.03518526159639209,
          0.049992875441623556,
          0.05227775285599568,
          0.10900037705220066,
          0.127692927530771,
          0.5970888846661458
         ],
         "y": [
          "colsample_bytree",
          "subsample",
          "min_child_weight",
          "learning_rate",
          "max_depth",
          "reg_lambda",
          "reg_alpha"
         ]
        }
       ],
       "layout": {
        "showlegend": false,
        "template": {
         "data": {
          "bar": [
           {
            "error_x": {
             "color": "#2a3f5f"
            },
            "error_y": {
             "color": "#2a3f5f"
            },
            "marker": {
             "line": {
              "color": "#E5ECF6",
              "width": 0.5
             },
             "pattern": {
              "fillmode": "overlay",
              "size": 10,
              "solidity": 0.2
             }
            },
            "type": "bar"
           }
          ],
          "barpolar": [
           {
            "marker": {
             "line": {
              "color": "#E5ECF6",
              "width": 0.5
             },
             "pattern": {
              "fillmode": "overlay",
              "size": 10,
              "solidity": 0.2
             }
            },
            "type": "barpolar"
           }
          ],
          "carpet": [
           {
            "aaxis": {
             "endlinecolor": "#2a3f5f",
             "gridcolor": "white",
             "linecolor": "white",
             "minorgridcolor": "white",
             "startlinecolor": "#2a3f5f"
            },
            "baxis": {
             "endlinecolor": "#2a3f5f",
             "gridcolor": "white",
             "linecolor": "white",
             "minorgridcolor": "white",
             "startlinecolor": "#2a3f5f"
            },
            "type": "carpet"
           }
          ],
          "choropleth": [
           {
            "colorbar": {
             "outlinewidth": 0,
             "ticks": ""
            },
            "type": "choropleth"
           }
          ],
          "contour": [
           {
            "colorbar": {
             "outlinewidth": 0,
             "ticks": ""
            },
            "colorscale": [
             [
              0,
              "#0d0887"
             ],
             [
              0.1111111111111111,
              "#46039f"
             ],
             [
              0.2222222222222222,
              "#7201a8"
             ],
             [
              0.3333333333333333,
              "#9c179e"
             ],
             [
              0.4444444444444444,
              "#bd3786"
             ],
             [
              0.5555555555555556,
              "#d8576b"
             ],
             [
              0.6666666666666666,
              "#ed7953"
             ],
             [
              0.7777777777777778,
              "#fb9f3a"
             ],
             [
              0.8888888888888888,
              "#fdca26"
             ],
             [
              1,
              "#f0f921"
             ]
            ],
            "type": "contour"
           }
          ],
          "contourcarpet": [
           {
            "colorbar": {
             "outlinewidth": 0,
             "ticks": ""
            },
            "type": "contourcarpet"
           }
          ],
          "heatmap": [
           {
            "colorbar": {
             "outlinewidth": 0,
             "ticks": ""
            },
            "colorscale": [
             [
              0,
              "#0d0887"
             ],
             [
              0.1111111111111111,
              "#46039f"
             ],
             [
              0.2222222222222222,
              "#7201a8"
             ],
             [
              0.3333333333333333,
              "#9c179e"
             ],
             [
              0.4444444444444444,
              "#bd3786"
             ],
             [
              0.5555555555555556,
              "#d8576b"
             ],
             [
              0.6666666666666666,
              "#ed7953"
             ],
             [
              0.7777777777777778,
              "#fb9f3a"
             ],
             [
              0.8888888888888888,
              "#fdca26"
             ],
             [
              1,
              "#f0f921"
             ]
            ],
            "type": "heatmap"
           }
          ],
          "heatmapgl": [
           {
            "colorbar": {
             "outlinewidth": 0,
             "ticks": ""
            },
            "colorscale": [
             [
              0,
              "#0d0887"
             ],
             [
              0.1111111111111111,
              "#46039f"
             ],
             [
              0.2222222222222222,
              "#7201a8"
             ],
             [
              0.3333333333333333,
              "#9c179e"
             ],
             [
              0.4444444444444444,
              "#bd3786"
             ],
             [
              0.5555555555555556,
              "#d8576b"
             ],
             [
              0.6666666666666666,
              "#ed7953"
             ],
             [
              0.7777777777777778,
              "#fb9f3a"
             ],
             [
              0.8888888888888888,
              "#fdca26"
             ],
             [
              1,
              "#f0f921"
             ]
            ],
            "type": "heatmapgl"
           }
          ],
          "histogram": [
           {
            "marker": {
             "pattern": {
              "fillmode": "overlay",
              "size": 10,
              "solidity": 0.2
             }
            },
            "type": "histogram"
           }
          ],
          "histogram2d": [
           {
            "colorbar": {
             "outlinewidth": 0,
             "ticks": ""
            },
            "colorscale": [
             [
              0,
              "#0d0887"
             ],
             [
              0.1111111111111111,
              "#46039f"
             ],
             [
              0.2222222222222222,
              "#7201a8"
             ],
             [
              0.3333333333333333,
              "#9c179e"
             ],
             [
              0.4444444444444444,
              "#bd3786"
             ],
             [
              0.5555555555555556,
              "#d8576b"
             ],
             [
              0.6666666666666666,
              "#ed7953"
             ],
             [
              0.7777777777777778,
              "#fb9f3a"
             ],
             [
              0.8888888888888888,
              "#fdca26"
             ],
             [
              1,
              "#f0f921"
             ]
            ],
            "type": "histogram2d"
           }
          ],
          "histogram2dcontour": [
           {
            "colorbar": {
             "outlinewidth": 0,
             "ticks": ""
            },
            "colorscale": [
             [
              0,
              "#0d0887"
             ],
             [
              0.1111111111111111,
              "#46039f"
             ],
             [
              0.2222222222222222,
              "#7201a8"
             ],
             [
              0.3333333333333333,
              "#9c179e"
             ],
             [
              0.4444444444444444,
              "#bd3786"
             ],
             [
              0.5555555555555556,
              "#d8576b"
             ],
             [
              0.6666666666666666,
              "#ed7953"
             ],
             [
              0.7777777777777778,
              "#fb9f3a"
             ],
             [
              0.8888888888888888,
              "#fdca26"
             ],
             [
              1,
              "#f0f921"
             ]
            ],
            "type": "histogram2dcontour"
           }
          ],
          "mesh3d": [
           {
            "colorbar": {
             "outlinewidth": 0,
             "ticks": ""
            },
            "type": "mesh3d"
           }
          ],
          "parcoords": [
           {
            "line": {
             "colorbar": {
              "outlinewidth": 0,
              "ticks": ""
             }
            },
            "type": "parcoords"
           }
          ],
          "pie": [
           {
            "automargin": true,
            "type": "pie"
           }
          ],
          "scatter": [
           {
            "fillpattern": {
             "fillmode": "overlay",
             "size": 10,
             "solidity": 0.2
            },
            "type": "scatter"
           }
          ],
          "scatter3d": [
           {
            "line": {
             "colorbar": {
              "outlinewidth": 0,
              "ticks": ""
             }
            },
            "marker": {
             "colorbar": {
              "outlinewidth": 0,
              "ticks": ""
             }
            },
            "type": "scatter3d"
           }
          ],
          "scattercarpet": [
           {
            "marker": {
             "colorbar": {
              "outlinewidth": 0,
              "ticks": ""
             }
            },
            "type": "scattercarpet"
           }
          ],
          "scattergeo": [
           {
            "marker": {
             "colorbar": {
              "outlinewidth": 0,
              "ticks": ""
             }
            },
            "type": "scattergeo"
           }
          ],
          "scattergl": [
           {
            "marker": {
             "colorbar": {
              "outlinewidth": 0,
              "ticks": ""
             }
            },
            "type": "scattergl"
           }
          ],
          "scattermapbox": [
           {
            "marker": {
             "colorbar": {
              "outlinewidth": 0,
              "ticks": ""
             }
            },
            "type": "scattermapbox"
           }
          ],
          "scatterpolar": [
           {
            "marker": {
             "colorbar": {
              "outlinewidth": 0,
              "ticks": ""
             }
            },
            "type": "scatterpolar"
           }
          ],
          "scatterpolargl": [
           {
            "marker": {
             "colorbar": {
              "outlinewidth": 0,
              "ticks": ""
             }
            },
            "type": "scatterpolargl"
           }
          ],
          "scatterternary": [
           {
            "marker": {
             "colorbar": {
              "outlinewidth": 0,
              "ticks": ""
             }
            },
            "type": "scatterternary"
           }
          ],
          "surface": [
           {
            "colorbar": {
             "outlinewidth": 0,
             "ticks": ""
            },
            "colorscale": [
             [
              0,
              "#0d0887"
             ],
             [
              0.1111111111111111,
              "#46039f"
             ],
             [
              0.2222222222222222,
              "#7201a8"
             ],
             [
              0.3333333333333333,
              "#9c179e"
             ],
             [
              0.4444444444444444,
              "#bd3786"
             ],
             [
              0.5555555555555556,
              "#d8576b"
             ],
             [
              0.6666666666666666,
              "#ed7953"
             ],
             [
              0.7777777777777778,
              "#fb9f3a"
             ],
             [
              0.8888888888888888,
              "#fdca26"
             ],
             [
              1,
              "#f0f921"
             ]
            ],
            "type": "surface"
           }
          ],
          "table": [
           {
            "cells": {
             "fill": {
              "color": "#EBF0F8"
             },
             "line": {
              "color": "white"
             }
            },
            "header": {
             "fill": {
              "color": "#C8D4E3"
             },
             "line": {
              "color": "white"
             }
            },
            "type": "table"
           }
          ]
         },
         "layout": {
          "annotationdefaults": {
           "arrowcolor": "#2a3f5f",
           "arrowhead": 0,
           "arrowwidth": 1
          },
          "autotypenumbers": "strict",
          "coloraxis": {
           "colorbar": {
            "outlinewidth": 0,
            "ticks": ""
           }
          },
          "colorscale": {
           "diverging": [
            [
             0,
             "#8e0152"
            ],
            [
             0.1,
             "#c51b7d"
            ],
            [
             0.2,
             "#de77ae"
            ],
            [
             0.3,
             "#f1b6da"
            ],
            [
             0.4,
             "#fde0ef"
            ],
            [
             0.5,
             "#f7f7f7"
            ],
            [
             0.6,
             "#e6f5d0"
            ],
            [
             0.7,
             "#b8e186"
            ],
            [
             0.8,
             "#7fbc41"
            ],
            [
             0.9,
             "#4d9221"
            ],
            [
             1,
             "#276419"
            ]
           ],
           "sequential": [
            [
             0,
             "#0d0887"
            ],
            [
             0.1111111111111111,
             "#46039f"
            ],
            [
             0.2222222222222222,
             "#7201a8"
            ],
            [
             0.3333333333333333,
             "#9c179e"
            ],
            [
             0.4444444444444444,
             "#bd3786"
            ],
            [
             0.5555555555555556,
             "#d8576b"
            ],
            [
             0.6666666666666666,
             "#ed7953"
            ],
            [
             0.7777777777777778,
             "#fb9f3a"
            ],
            [
             0.8888888888888888,
             "#fdca26"
            ],
            [
             1,
             "#f0f921"
            ]
           ],
           "sequentialminus": [
            [
             0,
             "#0d0887"
            ],
            [
             0.1111111111111111,
             "#46039f"
            ],
            [
             0.2222222222222222,
             "#7201a8"
            ],
            [
             0.3333333333333333,
             "#9c179e"
            ],
            [
             0.4444444444444444,
             "#bd3786"
            ],
            [
             0.5555555555555556,
             "#d8576b"
            ],
            [
             0.6666666666666666,
             "#ed7953"
            ],
            [
             0.7777777777777778,
             "#fb9f3a"
            ],
            [
             0.8888888888888888,
             "#fdca26"
            ],
            [
             1,
             "#f0f921"
            ]
           ]
          },
          "colorway": [
           "#636efa",
           "#EF553B",
           "#00cc96",
           "#ab63fa",
           "#FFA15A",
           "#19d3f3",
           "#FF6692",
           "#B6E880",
           "#FF97FF",
           "#FECB52"
          ],
          "font": {
           "color": "#2a3f5f"
          },
          "geo": {
           "bgcolor": "white",
           "lakecolor": "white",
           "landcolor": "#E5ECF6",
           "showlakes": true,
           "showland": true,
           "subunitcolor": "white"
          },
          "hoverlabel": {
           "align": "left"
          },
          "hovermode": "closest",
          "mapbox": {
           "style": "light"
          },
          "paper_bgcolor": "white",
          "plot_bgcolor": "#E5ECF6",
          "polar": {
           "angularaxis": {
            "gridcolor": "white",
            "linecolor": "white",
            "ticks": ""
           },
           "bgcolor": "#E5ECF6",
           "radialaxis": {
            "gridcolor": "white",
            "linecolor": "white",
            "ticks": ""
           }
          },
          "scene": {
           "xaxis": {
            "backgroundcolor": "#E5ECF6",
            "gridcolor": "white",
            "gridwidth": 2,
            "linecolor": "white",
            "showbackground": true,
            "ticks": "",
            "zerolinecolor": "white"
           },
           "yaxis": {
            "backgroundcolor": "#E5ECF6",
            "gridcolor": "white",
            "gridwidth": 2,
            "linecolor": "white",
            "showbackground": true,
            "ticks": "",
            "zerolinecolor": "white"
           },
           "zaxis": {
            "backgroundcolor": "#E5ECF6",
            "gridcolor": "white",
            "gridwidth": 2,
            "linecolor": "white",
            "showbackground": true,
            "ticks": "",
            "zerolinecolor": "white"
           }
          },
          "shapedefaults": {
           "line": {
            "color": "#2a3f5f"
           }
          },
          "ternary": {
           "aaxis": {
            "gridcolor": "white",
            "linecolor": "white",
            "ticks": ""
           },
           "baxis": {
            "gridcolor": "white",
            "linecolor": "white",
            "ticks": ""
           },
           "bgcolor": "#E5ECF6",
           "caxis": {
            "gridcolor": "white",
            "linecolor": "white",
            "ticks": ""
           }
          },
          "title": {
           "x": 0.05
          },
          "xaxis": {
           "automargin": true,
           "gridcolor": "white",
           "linecolor": "white",
           "ticks": "",
           "title": {
            "standoff": 15
           },
           "zerolinecolor": "white",
           "zerolinewidth": 2
          },
          "yaxis": {
           "automargin": true,
           "gridcolor": "white",
           "linecolor": "white",
           "ticks": "",
           "title": {
            "standoff": 15
           },
           "zerolinecolor": "white",
           "zerolinewidth": 2
          }
         }
        },
        "title": {
         "text": "Hyperparameter Importances"
        },
        "xaxis": {
         "title": {
          "text": "Importance for Objective Value"
         }
        },
        "yaxis": {
         "title": {
          "text": "Hyperparameter"
         }
        }
       }
      }
     },
     "metadata": {},
     "output_type": "display_data"
    }
   ],
   "source": [
    "optuna.visualization.plot_param_importances(study)"
   ]
  },
  {
   "cell_type": "code",
   "execution_count": 45,
   "metadata": {},
   "outputs": [
    {
     "data": {
      "text/plain": [
       "{'reg_alpha': 0.0019988395461605474,\n",
       " 'reg_lambda': 0.9250084571745059,\n",
       " 'colsample_bytree': 1.0,\n",
       " 'subsample': 0.65,\n",
       " 'learning_rate': 0.002,\n",
       " 'max_depth': 10,\n",
       " 'min_child_weight': 11,\n",
       " 'eval_metric': 'rmse',\n",
       " 'early_stopping_rounds': 300,\n",
       " 'random_state': 10,\n",
       " 'n_estimators': 3000,\n",
       " 'n_jobs': -1}"
      ]
     },
     "execution_count": 45,
     "metadata": {},
     "output_type": "execute_result"
    }
   ],
   "source": [
    "params=study.best_params\n",
    "params['eval_metric'] = 'rmse'\n",
    "params['early_stopping_rounds'] = 300\n",
    "params['random_state'] = 10\n",
    "params['n_estimators'] = 3000\n",
    "params['n_jobs'] = -1\n",
    "\n",
    "params"
   ]
  },
  {
   "cell_type": "code",
   "execution_count": 46,
   "metadata": {},
   "outputs": [
    {
     "name": "stdout",
     "output_type": "stream",
     "text": [
      "trial 1: 28.66818\n",
      "trial 2: 29.75194\n",
      "trial 3: 30.28537\n",
      "trial 4: 28.97345\n",
      "trial 5: 31.26684\n",
      "trial 6: 27.78562\n",
      "trial 7: 29.82097\n",
      "trial 8: 30.66002\n",
      "trial 9: 30.14949\n",
      "trial 10: 32.86009\n",
      "\n",
      "average: 30.0222\n"
     ]
    }
   ],
   "source": [
    "from sklearn.model_selection import KFold\n",
    "\n",
    "kf = KFold(n_splits=cross_val_times, random_state=42, shuffle=True)\n",
    "preds_MLM = np.zeros(df_test.shape[0])\n",
    "rmse=[]\n",
    "n=0\n",
    "\n",
    "def RMSE_expm1(y_pred, y_true):\n",
    "    return np.sqrt(np.mean(np.square(np.expm1(y_pred) - np.expm1(y_true))))\n",
    "\n",
    "for trn_idx, test_idx in kf.split(df_train, df_train_target_MLM):\n",
    "    X_tr, X_val=df_train.iloc[trn_idx], df_train.iloc[test_idx]\n",
    "    y_tr, y_val=df_train_target_MLM.iloc[trn_idx], df_train_target_MLM.iloc[test_idx]\n",
    "\n",
    "    model = XGBRegressor(**params)\n",
    "    model.fit(X_tr, y_tr, eval_set=[(X_val,y_val)], verbose=False)\n",
    "    preds_MLM+=model.predict(df_test)/kf.n_splits\n",
    "\n",
    "    if target_log_on_off == 'on':\n",
    "        rmse.append(RMSE_expm1(y_val, model.predict(X_val)))\n",
    "    else:\n",
    "        rmse.append(mean_squared_error(y_val, model.predict(X_val), squared=False))\n",
    "\n",
    "    print(f'trial {n+1}:', round(rmse[n], 5))\n",
    "    n+=1\n",
    "\n",
    "MLM_cv = round(np.mean(rmse), 5)\n",
    "print(f'\\naverage: {MLM_cv}')"
   ]
  },
  {
   "cell_type": "markdown",
   "metadata": {},
   "source": [
    "### target HLM"
   ]
  },
  {
   "cell_type": "code",
   "execution_count": 47,
   "metadata": {},
   "outputs": [
    {
     "data": {
      "text/plain": [
       "0       50.680\n",
       "1       50.590\n",
       "2       80.892\n",
       "3        2.000\n",
       "4       99.990\n",
       "         ...  \n",
       "3458    66.126\n",
       "3459    63.732\n",
       "3460    93.840\n",
       "3461    49.519\n",
       "3462    10.867\n",
       "Name: HLM, Length: 3463, dtype: float64"
      ]
     },
     "execution_count": 47,
     "metadata": {},
     "output_type": "execute_result"
    }
   ],
   "source": [
    "df_train_target_HLM = df_train_target['HLM']\n",
    "df_train_target_HLM"
   ]
  },
  {
   "cell_type": "code",
   "execution_count": 48,
   "metadata": {},
   "outputs": [],
   "source": [
    "def objective(trial):\n",
    "\n",
    "    X_train, X_valid, y_train, y_valid = train_test_split(df_train, df_train_target_HLM, test_size = 0.1, random_state=42)\n",
    "\n",
    "    param = {\n",
    "        # gpu acceleration\n",
    "        # 'tree_method': 'gpu_hist',\n",
    "        # 'predictor': 'gpu_predictor',\n",
    "        # 'gpu_id' : 0,\n",
    "        # constant\n",
    "        'eval_metric': 'rmse',\n",
    "        'random_state': 10,\n",
    "        'n_estimators': 3000,\n",
    "        'early_stopping_rounds': 300,\n",
    "        'n_jobs': -1,\n",
    "        # log_uniform\n",
    "        'reg_alpha': trial.suggest_loguniform('reg_alpha', 1e-3, 1e+5),\n",
    "        'reg_lambda': trial.suggest_loguniform('reg_lambda', 1e-3, 1e+5),\n",
    "        # suggest_discrete_uniform\n",
    "        'colsample_bytree': trial.suggest_discrete_uniform('colsample_bytree', 0.5, 1.0, 0.05),\n",
    "        'subsample': trial.suggest_discrete_uniform('subsample', 0.5, 1.0, 0.05),\n",
    "        'learning_rate': trial.suggest_discrete_uniform('learning_rate', 0.001, 0.003, 0.001),\n",
    "        # suggest_int\n",
    "        'max_depth': trial.suggest_int('max_depth', 2, 10),\n",
    "        'min_child_weight': trial.suggest_int('min_child_weight', 1, 20),\n",
    "    }\n",
    "\n",
    "    model = XGBRegressor(**param)  \n",
    "    model.fit(X_train, y_train, eval_set=[(X_valid,y_valid)], verbose=False)\n",
    "    preds = model.predict(X_valid)\n",
    "\n",
    "    if target_log_on_off == 'on':\n",
    "        rmse = RMSE_expm1(y_valid, preds)\n",
    "    else:\n",
    "        rmse = mean_squared_error(y_valid, preds, squared=False)\n",
    "    \n",
    "    return rmse"
   ]
  },
  {
   "cell_type": "code",
   "execution_count": 49,
   "metadata": {},
   "outputs": [
    {
     "name": "stderr",
     "output_type": "stream",
     "text": [
      "[I 2023-09-10 09:03:05,870] A new study created in memory with name: no-name-fc6dd2a8-5ca5-4f04-b64c-6f9c305c1bac\n",
      "  0%|          | 0/150 [00:00<?, ?it/s][I 2023-09-10 09:05:07,204] Trial 0 finished with value: 30.142479249750394 and parameters: {'reg_alpha': 5.895154525587184, 'reg_lambda': 0.4592463472000279, 'colsample_bytree': 0.65, 'subsample': 0.6, 'learning_rate': 0.003, 'max_depth': 10, 'min_child_weight': 12}. Best is trial 0 with value: 30.142479249750394.\n",
      "  1%|          | 1/150 [02:01<5:01:18, 121.33s/it][I 2023-09-10 09:06:45,781] Trial 1 finished with value: 30.5223199572589 and parameters: {'reg_alpha': 0.048568403351673756, 'reg_lambda': 45.50605250491988, 'colsample_bytree': 0.7, 'subsample': 0.8, 'learning_rate': 0.003, 'max_depth': 4, 'min_child_weight': 4}. Best is trial 0 with value: 30.142479249750394.\n",
      "  1%|▏         | 2/150 [03:39<4:26:16, 107.95s/it][I 2023-09-10 09:08:07,587] Trial 2 finished with value: 30.114833259598406 and parameters: {'reg_alpha': 0.0018442870379756474, 'reg_lambda': 2.0856538363275967, 'colsample_bytree': 0.55, 'subsample': 1.0, 'learning_rate': 0.003, 'max_depth': 5, 'min_child_weight': 2}. Best is trial 2 with value: 30.114833259598406.\n",
      "  2%|▏         | 3/150 [05:01<3:55:13, 96.01s/it] [I 2023-09-10 09:09:31,166] Trial 3 finished with value: 45.54511289718445 and parameters: {'reg_alpha': 0.30145568604904777, 'reg_lambda': 7378.344955815549, 'colsample_bytree': 0.75, 'subsample': 0.6, 'learning_rate': 0.001, 'max_depth': 2, 'min_child_weight': 4}. Best is trial 2 with value: 30.114833259598406.\n",
      "  3%|▎         | 4/150 [06:25<3:41:40, 91.10s/it][I 2023-09-10 09:13:03,806] Trial 4 finished with value: 30.63394329406766 and parameters: {'reg_alpha': 2.7402814778704414, 'reg_lambda': 9.215380205222653, 'colsample_bytree': 0.7, 'subsample': 0.9, 'learning_rate': 0.001, 'max_depth': 7, 'min_child_weight': 7}. Best is trial 2 with value: 30.114833259598406.\n",
      "  3%|▎         | 5/150 [09:57<5:26:04, 134.93s/it][I 2023-09-10 09:14:35,904] Trial 5 finished with value: 30.577272941868454 and parameters: {'reg_alpha': 1051.3821881957858, 'reg_lambda': 15.563478458585811, 'colsample_bytree': 0.8, 'subsample': 0.65, 'learning_rate': 0.002, 'max_depth': 2, 'min_child_weight': 4}. Best is trial 2 with value: 30.114833259598406.\n",
      "  4%|▍         | 6/150 [11:30<4:48:52, 120.37s/it][I 2023-09-10 09:15:50,692] Trial 6 finished with value: 53.0883633656012 and parameters: {'reg_alpha': 198.5382105514982, 'reg_lambda': 17494.375552593807, 'colsample_bytree': 0.6, 'subsample': 0.6, 'learning_rate': 0.001, 'max_depth': 2, 'min_child_weight': 2}. Best is trial 2 with value: 30.114833259598406.\n",
      "  5%|▍         | 7/150 [12:44<4:11:21, 105.47s/it][I 2023-09-10 09:20:05,453] Trial 7 finished with value: 30.82490300796566 and parameters: {'reg_alpha': 462.37318725657616, 'reg_lambda': 2.106069579893526, 'colsample_bytree': 0.9, 'subsample': 0.9, 'learning_rate': 0.002, 'max_depth': 7, 'min_child_weight': 7}. Best is trial 2 with value: 30.114833259598406.\n",
      "  5%|▌         | 8/150 [16:59<6:02:05, 152.99s/it][I 2023-09-10 09:22:23,457] Trial 8 finished with value: 40.37058271312144 and parameters: {'reg_alpha': 2072.5158103244007, 'reg_lambda': 14770.157698038834, 'colsample_bytree': 1.0, 'subsample': 0.6, 'learning_rate': 0.003, 'max_depth': 4, 'min_child_weight': 7}. Best is trial 2 with value: 30.114833259598406.\n",
      "  6%|▌         | 9/150 [19:17<5:48:31, 148.31s/it][I 2023-09-10 09:26:04,116] Trial 9 finished with value: 30.54371224423206 and parameters: {'reg_alpha': 21.132950160047788, 'reg_lambda': 170.45817693309226, 'colsample_bytree': 1.0, 'subsample': 0.8, 'learning_rate': 0.003, 'max_depth': 7, 'min_child_weight': 19}. Best is trial 2 with value: 30.114833259598406.\n",
      "  7%|▋         | 10/150 [22:58<6:38:10, 170.64s/it][I 2023-09-10 09:28:38,246] Trial 10 finished with value: 30.112499561194564 and parameters: {'reg_alpha': 0.0030375461022481096, 'reg_lambda': 0.002613482409785003, 'colsample_bytree': 0.5, 'subsample': 1.0, 'learning_rate': 0.002, 'max_depth': 9, 'min_child_weight': 14}. Best is trial 10 with value: 30.112499561194564.\n",
      "  7%|▋         | 11/150 [25:32<6:23:37, 165.59s/it][I 2023-09-10 09:31:32,080] Trial 11 finished with value: 30.048982508873603 and parameters: {'reg_alpha': 0.0011811485829108235, 'reg_lambda': 0.0031697260309053138, 'colsample_bytree': 0.5, 'subsample': 1.0, 'learning_rate': 0.002, 'max_depth': 10, 'min_child_weight': 15}. Best is trial 11 with value: 30.048982508873603.\n",
      "  8%|▊         | 12/150 [28:26<6:26:37, 168.10s/it][I 2023-09-10 09:34:09,200] Trial 12 finished with value: 30.031925831949113 and parameters: {'reg_alpha': 0.0023883693870303535, 'reg_lambda': 0.00198377300497015, 'colsample_bytree': 0.5, 'subsample': 1.0, 'learning_rate': 0.002, 'max_depth': 10, 'min_child_weight': 15}. Best is trial 12 with value: 30.031925831949113.\n",
      "  9%|▊         | 13/150 [31:03<6:16:13, 164.77s/it][I 2023-09-10 09:36:42,614] Trial 13 finished with value: 30.111744697767044 and parameters: {'reg_alpha': 0.0015866106031987876, 'reg_lambda': 0.0011707280205581145, 'colsample_bytree': 0.5, 'subsample': 0.9, 'learning_rate': 0.002, 'max_depth': 10, 'min_child_weight': 16}. Best is trial 12 with value: 30.031925831949113.\n",
      "  9%|▉         | 14/150 [33:36<6:05:42, 161.34s/it][I 2023-09-10 09:37:56,503] Trial 14 finished with value: 44.00399191846183 and parameters: {'reg_alpha': 41590.14526218169, 'reg_lambda': 0.03797893947920899, 'colsample_bytree': 0.6, 'subsample': 0.5, 'learning_rate': 0.002, 'max_depth': 9, 'min_child_weight': 20}. Best is trial 12 with value: 30.031925831949113.\n",
      " 10%|█         | 15/150 [34:50<5:03:42, 134.98s/it][I 2023-09-10 09:40:29,482] Trial 15 finished with value: 30.009103575570112 and parameters: {'reg_alpha': 0.02160147124708594, 'reg_lambda': 0.01807566841308614, 'colsample_bytree': 0.5, 'subsample': 1.0, 'learning_rate': 0.002, 'max_depth': 9, 'min_child_weight': 16}. Best is trial 15 with value: 30.009103575570112.\n",
      " 11%|█         | 16/150 [37:23<5:13:33, 140.40s/it][I 2023-09-10 09:43:53,470] Trial 16 finished with value: 30.28045640122642 and parameters: {'reg_alpha': 0.03630449973729493, 'reg_lambda': 0.039268517405254555, 'colsample_bytree': 0.6, 'subsample': 0.95, 'learning_rate': 0.001, 'max_depth': 8, 'min_child_weight': 17}. Best is trial 15 with value: 30.009103575570112.\n",
      " 11%|█▏        | 17/150 [40:47<5:53:36, 159.52s/it][I 2023-09-10 09:47:19,688] Trial 17 finished with value: 30.148722665931476 and parameters: {'reg_alpha': 0.016543935325741638, 'reg_lambda': 0.018156395243263478, 'colsample_bytree': 0.8500000000000001, 'subsample': 0.8, 'learning_rate': 0.002, 'max_depth': 9, 'min_child_weight': 11}. Best is trial 15 with value: 30.009103575570112.\n",
      " 12%|█▏        | 18/150 [44:13<6:21:48, 173.55s/it][I 2023-09-10 09:50:10,933] Trial 18 finished with value: 30.268896764200125 and parameters: {'reg_alpha': 0.8307712704541178, 'reg_lambda': 0.11712372634545976, 'colsample_bytree': 0.55, 'subsample': 0.8500000000000001, 'learning_rate': 0.001, 'max_depth': 8, 'min_child_weight': 13}. Best is trial 15 with value: 30.009103575570112.\n",
      " 13%|█▎        | 19/150 [47:05<6:17:24, 172.86s/it][I 2023-09-10 09:52:01,451] Trial 19 finished with value: 30.195226100014448 and parameters: {'reg_alpha': 0.134781312254967, 'reg_lambda': 0.005004278259798506, 'colsample_bytree': 0.65, 'subsample': 0.7, 'learning_rate': 0.002, 'max_depth': 6, 'min_child_weight': 18}. Best is trial 15 with value: 30.009103575570112.\n",
      " 13%|█▎        | 20/150 [48:55<5:33:58, 154.14s/it][I 2023-09-10 09:54:44,970] Trial 20 finished with value: 30.134628802505347 and parameters: {'reg_alpha': 0.009900611432310953, 'reg_lambda': 0.010333820414197156, 'colsample_bytree': 0.55, 'subsample': 0.95, 'learning_rate': 0.002, 'max_depth': 8, 'min_child_weight': 9}. Best is trial 15 with value: 30.009103575570112.\n",
      " 14%|█▍        | 21/150 [51:39<5:37:27, 156.96s/it][I 2023-09-10 09:57:26,160] Trial 21 finished with value: 30.071936949585698 and parameters: {'reg_alpha': 0.010813738850455884, 'reg_lambda': 0.0011610785265872556, 'colsample_bytree': 0.5, 'subsample': 1.0, 'learning_rate': 0.002, 'max_depth': 10, 'min_child_weight': 15}. Best is trial 15 with value: 30.009103575570112.\n",
      " 15%|█▍        | 22/150 [54:20<5:37:33, 158.23s/it][I 2023-09-10 10:00:22,164] Trial 22 finished with value: 30.146221680469765 and parameters: {'reg_alpha': 0.0013143242805504934, 'reg_lambda': 0.00619189169935286, 'colsample_bytree': 0.5, 'subsample': 0.95, 'learning_rate': 0.002, 'max_depth': 10, 'min_child_weight': 15}. Best is trial 15 with value: 30.009103575570112.\n",
      " 15%|█▌        | 23/150 [57:16<5:46:12, 163.56s/it][I 2023-09-10 10:02:53,874] Trial 23 finished with value: 30.11385565509893 and parameters: {'reg_alpha': 0.006601658076866077, 'reg_lambda': 0.08822378447182504, 'colsample_bytree': 0.55, 'subsample': 1.0, 'learning_rate': 0.002, 'max_depth': 9, 'min_child_weight': 17}. Best is trial 15 with value: 30.009103575570112.\n",
      " 16%|█▌        | 24/150 [59:48<5:36:00, 160.01s/it][I 2023-09-10 10:06:15,262] Trial 24 finished with value: 30.24424137474461 and parameters: {'reg_alpha': 0.001011130132602783, 'reg_lambda': 0.006940161747989734, 'colsample_bytree': 0.65, 'subsample': 0.95, 'learning_rate': 0.002, 'max_depth': 10, 'min_child_weight': 13}. Best is trial 15 with value: 30.009103575570112.\n",
      " 17%|█▋        | 25/150 [1:03:09<5:59:12, 172.42s/it][I 2023-09-10 10:08:41,761] Trial 25 finished with value: 30.115618011207374 and parameters: {'reg_alpha': 0.064573025215648, 'reg_lambda': 0.0010889426563795396, 'colsample_bytree': 0.5, 'subsample': 0.8500000000000001, 'learning_rate': 0.002, 'max_depth': 9, 'min_child_weight': 9}. Best is trial 15 with value: 30.009103575570112.\n",
      " 17%|█▋        | 26/150 [1:05:35<5:40:15, 164.64s/it][I 2023-09-10 10:10:18,740] Trial 26 finished with value: 30.202370998307636 and parameters: {'reg_alpha': 0.01671198997711547, 'reg_lambda': 0.018374418193312113, 'colsample_bytree': 0.6, 'subsample': 0.8500000000000001, 'learning_rate': 0.003, 'max_depth': 8, 'min_child_weight': 16}. Best is trial 15 with value: 30.009103575570112.\n",
      " 18%|█▊        | 27/150 [1:07:12<4:55:54, 144.34s/it][I 2023-09-10 10:13:42,989] Trial 27 finished with value: 30.19407123849161 and parameters: {'reg_alpha': 0.0055143035398111245, 'reg_lambda': 0.14633329279899082, 'colsample_bytree': 0.55, 'subsample': 1.0, 'learning_rate': 0.001, 'max_depth': 10, 'min_child_weight': 20}. Best is trial 15 with value: 30.009103575570112.\n",
      " 19%|█▊        | 28/150 [1:10:37<5:30:02, 162.32s/it][I 2023-09-10 10:16:32,408] Trial 28 finished with value: 30.093114273007238 and parameters: {'reg_alpha': 0.2982444041918341, 'reg_lambda': 0.0037566812480382015, 'colsample_bytree': 0.7, 'subsample': 0.9, 'learning_rate': 0.002, 'max_depth': 9, 'min_child_weight': 14}. Best is trial 15 with value: 30.009103575570112.\n",
      " 19%|█▉        | 29/150 [1:13:26<5:31:38, 164.45s/it][I 2023-09-10 10:18:06,499] Trial 29 finished with value: 30.198848015746474 and parameters: {'reg_alpha': 0.0037851686506376585, 'reg_lambda': 0.36353821955759724, 'colsample_bytree': 0.65, 'subsample': 0.5, 'learning_rate': 0.003, 'max_depth': 10, 'min_child_weight': 12}. Best is trial 15 with value: 30.009103575570112.\n",
      " 20%|██        | 30/150 [1:15:00<4:46:40, 143.34s/it][I 2023-09-10 10:19:45,911] Trial 30 finished with value: 30.176810119704314 and parameters: {'reg_alpha': 0.042920778823652306, 'reg_lambda': 0.029278169184029416, 'colsample_bytree': 0.5, 'subsample': 0.75, 'learning_rate': 0.002, 'max_depth': 6, 'min_child_weight': 18}. Best is trial 15 with value: 30.009103575570112.\n",
      " 21%|██        | 31/150 [1:16:40<4:18:09, 130.16s/it][I 2023-09-10 10:22:12,876] Trial 31 finished with value: 30.032843460858412 and parameters: {'reg_alpha': 0.011513706661454397, 'reg_lambda': 0.0013647965167153167, 'colsample_bytree': 0.5, 'subsample': 1.0, 'learning_rate': 0.002, 'max_depth': 10, 'min_child_weight': 15}. Best is trial 15 with value: 30.009103575570112.\n",
      " 21%|██▏       | 32/150 [1:19:07<4:25:54, 135.20s/it][I 2023-09-10 10:25:09,924] Trial 32 finished with value: 30.113420970033946 and parameters: {'reg_alpha': 0.0010224739206172353, 'reg_lambda': 0.002265526261572233, 'colsample_bytree': 0.55, 'subsample': 0.95, 'learning_rate': 0.002, 'max_depth': 10, 'min_child_weight': 15}. Best is trial 15 with value: 30.009103575570112.\n",
      " 22%|██▏       | 33/150 [1:22:04<4:48:07, 147.76s/it][I 2023-09-10 10:27:37,643] Trial 33 finished with value: 30.104057346414606 and parameters: {'reg_alpha': 0.003889046517330486, 'reg_lambda': 0.009835325882596772, 'colsample_bytree': 0.5, 'subsample': 1.0, 'learning_rate': 0.002, 'max_depth': 9, 'min_child_weight': 12}. Best is trial 15 with value: 30.009103575570112.\n",
      " 23%|██▎       | 34/150 [1:24:31<4:45:38, 147.74s/it][I 2023-09-10 10:30:24,285] Trial 34 finished with value: 30.178900485134545 and parameters: {'reg_alpha': 0.02361030259556108, 'reg_lambda': 0.0010209374393180086, 'colsample_bytree': 0.55, 'subsample': 0.95, 'learning_rate': 0.002, 'max_depth': 10, 'min_child_weight': 17}. Best is trial 15 with value: 30.009103575570112.\n",
      " 23%|██▎       | 35/150 [1:27:18<4:54:02, 153.41s/it][I 2023-09-10 10:32:21,656] Trial 35 finished with value: 30.233432034442128 and parameters: {'reg_alpha': 0.004704551004796355, 'reg_lambda': 0.003524777347806464, 'colsample_bytree': 0.6, 'subsample': 1.0, 'learning_rate': 0.003, 'max_depth': 8, 'min_child_weight': 10}. Best is trial 15 with value: 30.009103575570112.\n",
      " 24%|██▍       | 36/150 [1:29:15<4:30:56, 142.60s/it][I 2023-09-10 10:34:39,849] Trial 36 finished with value: 30.158043085616285 and parameters: {'reg_alpha': 0.1235079786167278, 'reg_lambda': 0.02056260897616659, 'colsample_bytree': 0.75, 'subsample': 0.9, 'learning_rate': 0.002, 'max_depth': 5, 'min_child_weight': 14}. Best is trial 15 with value: 30.009103575570112.\n",
      " 25%|██▍       | 37/150 [1:31:33<4:26:04, 141.28s/it][I 2023-09-10 10:37:55,421] Trial 37 finished with value: 30.19113204822223 and parameters: {'reg_alpha': 0.01524103518431793, 'reg_lambda': 0.003465451781481505, 'colsample_bytree': 0.55, 'subsample': 1.0, 'learning_rate': 0.001, 'max_depth': 9, 'min_child_weight': 18}. Best is trial 15 with value: 30.009103575570112.\n",
      " 25%|██▌       | 38/150 [1:34:49<4:54:07, 157.57s/it][I 2023-09-10 10:40:32,012] Trial 38 finished with value: 30.14425016153014 and parameters: {'reg_alpha': 0.0028380220057423254, 'reg_lambda': 0.060072250627044695, 'colsample_bytree': 0.5, 'subsample': 0.95, 'learning_rate': 0.002, 'max_depth': 10, 'min_child_weight': 16}. Best is trial 15 with value: 30.009103575570112.\n",
      " 26%|██▌       | 39/150 [1:37:26<4:50:57, 157.27s/it][I 2023-09-10 10:42:31,500] Trial 39 finished with value: 30.616634900653114 and parameters: {'reg_alpha': 0.04988333073349695, 'reg_lambda': 0.39531381435651564, 'colsample_bytree': 0.8, 'subsample': 0.9, 'learning_rate': 0.001, 'max_depth': 3, 'min_child_weight': 13}. Best is trial 15 with value: 30.009103575570112.\n",
      " 27%|██▋       | 40/150 [1:39:25<4:27:33, 145.94s/it][I 2023-09-10 10:44:52,969] Trial 40 finished with value: 30.1082624136623 and parameters: {'reg_alpha': 0.007578908591058539, 'reg_lambda': 0.010242606379686941, 'colsample_bytree': 0.65, 'subsample': 1.0, 'learning_rate': 0.002, 'max_depth': 7, 'min_child_weight': 11}. Best is trial 15 with value: 30.009103575570112.\n",
      " 27%|██▋       | 41/150 [1:41:47<4:22:41, 144.60s/it][I 2023-09-10 10:47:24,954] Trial 41 finished with value: 30.077260342061713 and parameters: {'reg_alpha': 0.01645404742064076, 'reg_lambda': 0.0010446919187779785, 'colsample_bytree': 0.5, 'subsample': 1.0, 'learning_rate': 0.002, 'max_depth': 10, 'min_child_weight': 15}. Best is trial 15 with value: 30.009103575570112.\n",
      " 28%|██▊       | 42/150 [1:44:19<4:24:15, 146.81s/it][I 2023-09-10 10:50:09,857] Trial 42 finished with value: 30.15550548845717 and parameters: {'reg_alpha': 0.0025378761434004726, 'reg_lambda': 0.0022648112628884803, 'colsample_bytree': 0.5, 'subsample': 0.95, 'learning_rate': 0.002, 'max_depth': 10, 'min_child_weight': 15}. Best is trial 15 with value: 30.009103575570112.\n",
      " 29%|██▊       | 43/150 [1:47:03<4:31:29, 152.24s/it][I 2023-09-10 10:52:56,445] Trial 43 finished with value: 30.0664485600193 and parameters: {'reg_alpha': 0.009921788337773565, 'reg_lambda': 0.009911829294035014, 'colsample_bytree': 0.55, 'subsample': 1.0, 'learning_rate': 0.002, 'max_depth': 9, 'min_child_weight': 16}. Best is trial 15 with value: 30.009103575570112.\n",
      " 29%|██▉       | 44/150 [1:49:50<4:36:33, 156.54s/it][I 2023-09-10 10:58:00,739] Trial 44 finished with value: 30.44555810360416 and parameters: {'reg_alpha': 0.0021967982251800354, 'reg_lambda': 0.013801867208466408, 'colsample_bytree': 0.95, 'subsample': 1.0, 'learning_rate': 0.002, 'max_depth': 9, 'min_child_weight': 19}. Best is trial 15 with value: 30.009103575570112.\n",
      " 30%|███       | 45/150 [1:54:54<5:51:31, 200.87s/it][I 2023-09-10 10:59:44,305] Trial 45 finished with value: 30.147772604181796 and parameters: {'reg_alpha': 0.00810238583222103, 'reg_lambda': 0.04879492778163495, 'colsample_bytree': 0.6, 'subsample': 0.55, 'learning_rate': 0.002, 'max_depth': 8, 'min_child_weight': 16}. Best is trial 15 with value: 30.009103575570112.\n",
      " 31%|███       | 46/150 [1:56:38<4:57:34, 171.68s/it][I 2023-09-10 11:02:46,193] Trial 46 finished with value: 30.246228019598913 and parameters: {'reg_alpha': 0.028513727334800308, 'reg_lambda': 0.008542760089724148, 'colsample_bytree': 0.55, 'subsample': 0.95, 'learning_rate': 0.002, 'max_depth': 9, 'min_child_weight': 1}. Best is trial 15 with value: 30.009103575570112.\n",
      " 31%|███▏      | 47/150 [1:59:40<4:59:58, 174.74s/it][I 2023-09-10 11:04:37,655] Trial 47 finished with value: 30.176792904029217 and parameters: {'reg_alpha': 0.077827467846228, 'reg_lambda': 0.00252970074666925, 'colsample_bytree': 0.55, 'subsample': 0.9, 'learning_rate': 0.003, 'max_depth': 9, 'min_child_weight': 14}. Best is trial 15 with value: 30.009103575570112.\n",
      " 32%|███▏      | 48/150 [2:01:31<4:24:47, 155.76s/it][I 2023-09-10 11:06:40,463] Trial 48 finished with value: 30.17659275166497 and parameters: {'reg_alpha': 0.001938719917170464, 'reg_lambda': 0.026561486650295424, 'colsample_bytree': 0.6, 'subsample': 0.8500000000000001, 'learning_rate': 0.002, 'max_depth': 5, 'min_child_weight': 17}. Best is trial 15 with value: 30.009103575570112.\n",
      " 33%|███▎      | 49/150 [2:03:34<4:05:33, 145.87s/it][I 2023-09-10 11:08:43,681] Trial 49 finished with value: 30.117761754446466 and parameters: {'reg_alpha': 0.2385483617826286, 'reg_lambda': 0.21422972119311812, 'colsample_bytree': 0.5, 'subsample': 0.75, 'learning_rate': 0.002, 'max_depth': 7, 'min_child_weight': 13}. Best is trial 15 with value: 30.009103575570112.\n",
      " 33%|███▎      | 50/150 [2:05:37<3:51:47, 139.08s/it][I 2023-09-10 11:11:06,803] Trial 50 finished with value: 30.189613035094307 and parameters: {'reg_alpha': 1.0585507772621, 'reg_lambda': 0.06881103114271368, 'colsample_bytree': 0.55, 'subsample': 0.7, 'learning_rate': 0.002, 'max_depth': 8, 'min_child_weight': 19}. Best is trial 15 with value: 30.009103575570112.\n",
      " 34%|███▍      | 51/150 [2:08:00<3:51:28, 140.29s/it][I 2023-09-10 11:13:38,540] Trial 51 finished with value: 30.046425007800142 and parameters: {'reg_alpha': 0.00859473104846606, 'reg_lambda': 0.002188535604947008, 'colsample_bytree': 0.5, 'subsample': 1.0, 'learning_rate': 0.002, 'max_depth': 10, 'min_child_weight': 16}. Best is trial 15 with value: 30.009103575570112.\n",
      " 35%|███▍      | 52/150 [2:10:32<3:54:44, 143.72s/it][I 2023-09-10 11:16:16,599] Trial 52 finished with value: 30.033687305826675 and parameters: {'reg_alpha': 0.008312869071492833, 'reg_lambda': 0.0055447557391900045, 'colsample_bytree': 0.5, 'subsample': 1.0, 'learning_rate': 0.002, 'max_depth': 10, 'min_child_weight': 16}. Best is trial 15 with value: 30.009103575570112.\n",
      " 35%|███▌      | 53/150 [2:13:10<3:59:18, 148.02s/it][I 2023-09-10 11:19:09,929] Trial 53 finished with value: 30.12448098025882 and parameters: {'reg_alpha': 0.03273005203093302, 'reg_lambda': 0.004975674598817705, 'colsample_bytree': 0.5, 'subsample': 0.95, 'learning_rate': 0.002, 'max_depth': 10, 'min_child_weight': 17}. Best is trial 15 with value: 30.009103575570112.\n",
      " 36%|███▌      | 54/150 [2:16:04<4:08:59, 155.62s/it][I 2023-09-10 11:22:09,944] Trial 54 finished with value: 30.210069256043976 and parameters: {'reg_alpha': 0.0019703389708114263, 'reg_lambda': 0.002021677281356537, 'colsample_bytree': 0.5, 'subsample': 1.0, 'learning_rate': 0.002, 'max_depth': 10, 'min_child_weight': 5}. Best is trial 15 with value: 30.009103575570112.\n",
      " 37%|███▋      | 55/150 [2:19:04<4:17:58, 162.94s/it][I 2023-09-10 11:24:43,163] Trial 55 finished with value: 30.149274097650714 and parameters: {'reg_alpha': 0.005179207334986431, 'reg_lambda': 0.001817406212856309, 'colsample_bytree': 0.5, 'subsample': 0.95, 'learning_rate': 0.002, 'max_depth': 10, 'min_child_weight': 14}. Best is trial 15 with value: 30.009103575570112.\n",
      " 37%|███▋      | 56/150 [2:21:37<4:10:41, 160.02s/it][I 2023-09-10 11:27:11,972] Trial 56 finished with value: 30.007358959976557 and parameters: {'reg_alpha': 0.016763148698154918, 'reg_lambda': 0.006438953579614993, 'colsample_bytree': 0.5, 'subsample': 1.0, 'learning_rate': 0.002, 'max_depth': 10, 'min_child_weight': 18}. Best is trial 56 with value: 30.007358959976557.\n",
      " 38%|███▊      | 57/150 [2:24:06<4:02:49, 156.66s/it][I 2023-09-10 11:30:08,346] Trial 57 finished with value: 30.168011467947938 and parameters: {'reg_alpha': 0.029427957482209804, 'reg_lambda': 0.005433304383835826, 'colsample_bytree': 0.6, 'subsample': 0.95, 'learning_rate': 0.002, 'max_depth': 10, 'min_child_weight': 18}. Best is trial 56 with value: 30.007358959976557.\n",
      " 39%|███▊      | 58/150 [2:27:02<4:09:16, 162.57s/it][I 2023-09-10 11:32:32,480] Trial 58 finished with value: 30.0347450973712 and parameters: {'reg_alpha': 0.0869522176040003, 'reg_lambda': 1.2731545931104067, 'colsample_bytree': 0.5, 'subsample': 1.0, 'learning_rate': 0.002, 'max_depth': 9, 'min_child_weight': 20}. Best is trial 56 with value: 30.007358959976557.\n",
      " 39%|███▉      | 59/150 [2:29:26<3:58:10, 157.04s/it][I 2023-09-10 11:35:04,796] Trial 59 finished with value: 30.15889376857039 and parameters: {'reg_alpha': 0.08669591613840959, 'reg_lambda': 1.1020297354220743, 'colsample_bytree': 0.55, 'subsample': 0.9, 'learning_rate': 0.002, 'max_depth': 9, 'min_child_weight': 20}. Best is trial 56 with value: 30.007358959976557.\n",
      " 40%|████      | 60/150 [2:31:58<3:53:26, 155.62s/it][I 2023-09-10 11:37:37,154] Trial 60 finished with value: 30.14363564519853 and parameters: {'reg_alpha': 0.01731351541668536, 'reg_lambda': 0.021019199337348946, 'colsample_bytree': 0.55, 'subsample': 1.0, 'learning_rate': 0.002, 'max_depth': 9, 'min_child_weight': 19}. Best is trial 56 with value: 30.007358959976557.\n",
      " 41%|████      | 61/150 [2:34:31<3:49:23, 154.64s/it][I 2023-09-10 11:39:54,310] Trial 61 finished with value: 29.977581322484607 and parameters: {'reg_alpha': 0.00914849601189827, 'reg_lambda': 0.004723520309460989, 'colsample_bytree': 0.5, 'subsample': 1.0, 'learning_rate': 0.002, 'max_depth': 10, 'min_child_weight': 20}. Best is trial 61 with value: 29.977581322484607.\n",
      " 41%|████▏     | 62/150 [2:36:48<3:39:06, 149.40s/it][I 2023-09-10 11:42:20,681] Trial 62 finished with value: 30.002858484273403 and parameters: {'reg_alpha': 0.054176481517861086, 'reg_lambda': 0.00698888181112528, 'colsample_bytree': 0.5, 'subsample': 1.0, 'learning_rate': 0.002, 'max_depth': 10, 'min_child_weight': 20}. Best is trial 61 with value: 29.977581322484607.\n",
      " 42%|████▏     | 63/150 [2:39:14<3:35:18, 148.49s/it][I 2023-09-10 11:44:52,941] Trial 63 finished with value: 30.106830434101116 and parameters: {'reg_alpha': 0.013809576961278077, 'reg_lambda': 0.006291309992037819, 'colsample_bytree': 0.5, 'subsample': 0.95, 'learning_rate': 0.002, 'max_depth': 10, 'min_child_weight': 19}. Best is trial 61 with value: 29.977581322484607.\n",
      " 43%|████▎     | 64/150 [2:41:47<3:34:27, 149.62s/it][I 2023-09-10 11:47:19,264] Trial 64 finished with value: 30.00975126438837 and parameters: {'reg_alpha': 0.04243778152484466, 'reg_lambda': 0.03711749784508682, 'colsample_bytree': 0.5, 'subsample': 1.0, 'learning_rate': 0.002, 'max_depth': 10, 'min_child_weight': 18}. Best is trial 61 with value: 29.977581322484607.\n",
      " 43%|████▎     | 65/150 [2:44:13<3:30:33, 148.63s/it][I 2023-09-10 11:50:05,043] Trial 65 finished with value: 30.186672610315618 and parameters: {'reg_alpha': 0.04760582524358093, 'reg_lambda': 0.013821659022601303, 'colsample_bytree': 0.55, 'subsample': 0.95, 'learning_rate': 0.002, 'max_depth': 10, 'min_child_weight': 18}. Best is trial 61 with value: 29.977581322484607.\n",
      " 44%|████▍     | 66/150 [2:46:59<3:35:17, 153.78s/it][I 2023-09-10 11:53:36,596] Trial 66 finished with value: 30.269165484371303 and parameters: {'reg_alpha': 0.21088180601306308, 'reg_lambda': 0.031131319705440266, 'colsample_bytree': 0.9, 'subsample': 1.0, 'learning_rate': 0.002, 'max_depth': 10, 'min_child_weight': 20}. Best is trial 61 with value: 29.977581322484607.\n",
      " 45%|████▍     | 67/150 [2:50:30<3:56:42, 171.11s/it][I 2023-09-10 11:55:54,729] Trial 67 finished with value: 30.138522774411545 and parameters: {'reg_alpha': 0.14866052308123825, 'reg_lambda': 0.040942458852473045, 'colsample_bytree': 0.5, 'subsample': 0.9, 'learning_rate': 0.002, 'max_depth': 10, 'min_child_weight': 18}. Best is trial 61 with value: 29.977581322484607.\n",
      " 45%|████▌     | 68/150 [2:52:48<3:40:19, 161.22s/it][I 2023-09-10 11:58:19,527] Trial 68 finished with value: 30.147614608070185 and parameters: {'reg_alpha': 0.025424754685169252, 'reg_lambda': 0.10404152724965016, 'colsample_bytree': 0.75, 'subsample': 0.65, 'learning_rate': 0.002, 'max_depth': 9, 'min_child_weight': 19}. Best is trial 61 with value: 29.977581322484607.\n",
      " 46%|████▌     | 69/150 [2:55:13<3:30:59, 156.29s/it][I 2023-09-10 12:00:04,682] Trial 69 finished with value: 30.138110410243222 and parameters: {'reg_alpha': 0.5590549934014037, 'reg_lambda': 0.015608052292999516, 'colsample_bytree': 0.55, 'subsample': 0.95, 'learning_rate': 0.002, 'max_depth': 4, 'min_child_weight': 17}. Best is trial 61 with value: 29.977581322484607.\n",
      " 47%|████▋     | 70/150 [2:56:58<3:07:56, 140.95s/it][I 2023-09-10 12:03:29,286] Trial 70 finished with value: 30.227713400373826 and parameters: {'reg_alpha': 0.003148871839643971, 'reg_lambda': 0.0038312091282260026, 'colsample_bytree': 0.55, 'subsample': 1.0, 'learning_rate': 0.001, 'max_depth': 10, 'min_child_weight': 20}. Best is trial 61 with value: 29.977581322484607.\n",
      " 47%|████▋     | 71/150 [3:00:23<3:30:43, 160.05s/it][I 2023-09-10 12:05:57,293] Trial 71 finished with value: 29.968899388525227 and parameters: {'reg_alpha': 0.005189489132735222, 'reg_lambda': 0.006585697992077012, 'colsample_bytree': 0.5, 'subsample': 1.0, 'learning_rate': 0.002, 'max_depth': 10, 'min_child_weight': 19}. Best is trial 71 with value: 29.968899388525227.\n",
      " 48%|████▊     | 72/150 [3:02:51<3:23:21, 156.43s/it][I 2023-09-10 12:08:33,732] Trial 72 finished with value: 29.97751871091145 and parameters: {'reg_alpha': 0.0612811582855704, 'reg_lambda': 0.008820316247038329, 'colsample_bytree': 0.5, 'subsample': 1.0, 'learning_rate': 0.002, 'max_depth': 10, 'min_child_weight': 19}. Best is trial 71 with value: 29.968899388525227.\n",
      " 49%|████▊     | 73/150 [3:05:27<3:20:45, 156.44s/it][I 2023-09-10 12:10:50,016] Trial 73 finished with value: 29.955060992418563 and parameters: {'reg_alpha': 0.04661084356940824, 'reg_lambda': 0.007691051172559235, 'colsample_bytree': 0.5, 'subsample': 1.0, 'learning_rate': 0.002, 'max_depth': 9, 'min_child_weight': 19}. Best is trial 73 with value: 29.955060992418563.\n",
      " 49%|████▉     | 74/150 [3:07:44<3:10:29, 150.39s/it][I 2023-09-10 12:13:07,903] Trial 74 finished with value: 29.95245974841065 and parameters: {'reg_alpha': 0.06355635502354454, 'reg_lambda': 0.027750154130401973, 'colsample_bytree': 0.5, 'subsample': 1.0, 'learning_rate': 0.002, 'max_depth': 9, 'min_child_weight': 19}. Best is trial 74 with value: 29.95245974841065.\n",
      " 50%|█████     | 75/150 [3:10:02<3:03:17, 146.64s/it][I 2023-09-10 12:15:21,265] Trial 75 finished with value: 30.026286962584248 and parameters: {'reg_alpha': 0.07046613197983152, 'reg_lambda': 0.007932808623554258, 'colsample_bytree': 0.5, 'subsample': 1.0, 'learning_rate': 0.002, 'max_depth': 8, 'min_child_weight': 19}. Best is trial 74 with value: 29.95245974841065.\n",
      " 51%|█████     | 76/150 [3:12:15<2:55:56, 142.66s/it][I 2023-09-10 12:17:51,260] Trial 76 finished with value: 30.1483266164808 and parameters: {'reg_alpha': 0.138090950747329, 'reg_lambda': 0.019136396544333953, 'colsample_bytree': 0.55, 'subsample': 0.95, 'learning_rate': 0.002, 'max_depth': 9, 'min_child_weight': 20}. Best is trial 74 with value: 29.95245974841065.\n",
      " 51%|█████▏    | 77/150 [3:14:45<2:56:14, 144.86s/it][I 2023-09-10 12:20:14,411] Trial 77 finished with value: 30.147585604245492 and parameters: {'reg_alpha': 0.42743806834327247, 'reg_lambda': 0.07069805498062719, 'colsample_bytree': 0.5, 'subsample': 0.95, 'learning_rate': 0.002, 'max_depth': 9, 'min_child_weight': 20}. Best is trial 74 with value: 29.95245974841065.\n",
      " 52%|█████▏    | 78/150 [3:17:08<2:53:12, 144.35s/it][I 2023-09-10 12:22:28,845] Trial 78 finished with value: 30.042326774021255 and parameters: {'reg_alpha': 0.02145859509876877, 'reg_lambda': 0.012406793062212089, 'colsample_bytree': 0.5, 'subsample': 1.0, 'learning_rate': 0.002, 'max_depth': 8, 'min_child_weight': 19}. Best is trial 74 with value: 29.95245974841065.\n",
      " 53%|█████▎    | 79/150 [3:19:22<2:47:17, 141.37s/it][I 2023-09-10 12:25:21,713] Trial 79 finished with value: 30.09783994582631 and parameters: {'reg_alpha': 0.043995555071856485, 'reg_lambda': 0.00429622102088583, 'colsample_bytree': 0.7, 'subsample': 1.0, 'learning_rate': 0.002, 'max_depth': 7, 'min_child_weight': 18}. Best is trial 74 with value: 29.95245974841065.\n",
      " 53%|█████▎    | 80/150 [3:22:15<2:55:57, 150.82s/it][I 2023-09-10 12:27:19,454] Trial 80 finished with value: 30.11403228309777 and parameters: {'reg_alpha': 0.005756505958761558, 'reg_lambda': 0.02578524151571636, 'colsample_bytree': 0.6, 'subsample': 0.95, 'learning_rate': 0.003, 'max_depth': 9, 'min_child_weight': 19}. Best is trial 74 with value: 29.95245974841065.\n",
      " 54%|█████▍    | 81/150 [3:24:13<2:42:01, 140.90s/it][I 2023-09-10 12:29:49,641] Trial 81 finished with value: 29.98279561803892 and parameters: {'reg_alpha': 0.04424755657520077, 'reg_lambda': 0.04522579399826721, 'colsample_bytree': 0.5, 'subsample': 1.0, 'learning_rate': 0.002, 'max_depth': 10, 'min_child_weight': 18}. Best is trial 74 with value: 29.95245974841065.\n",
      " 55%|█████▍    | 82/150 [3:26:43<2:42:50, 143.68s/it][I 2023-09-10 12:32:17,744] Trial 82 finished with value: 30.012959257130305 and parameters: {'reg_alpha': 0.013512393052031156, 'reg_lambda': 0.009153272200931732, 'colsample_bytree': 0.5, 'subsample': 1.0, 'learning_rate': 0.002, 'max_depth': 10, 'min_child_weight': 19}. Best is trial 74 with value: 29.95245974841065.\n",
      " 55%|█████▌    | 83/150 [3:29:11<2:41:55, 145.01s/it][I 2023-09-10 12:35:00,125] Trial 83 finished with value: 30.133517482067006 and parameters: {'reg_alpha': 0.06319624221792289, 'reg_lambda': 0.0033286667686545524, 'colsample_bytree': 0.55, 'subsample': 1.0, 'learning_rate': 0.002, 'max_depth': 10, 'min_child_weight': 17}. Best is trial 74 with value: 29.95245974841065.\n",
      " 56%|█████▌    | 84/150 [3:31:54<2:45:14, 150.22s/it][I 2023-09-10 12:37:29,820] Trial 84 finished with value: 30.132211879965833 and parameters: {'reg_alpha': 0.027445656622210293, 'reg_lambda': 0.0456853083593874, 'colsample_bytree': 0.5, 'subsample': 0.8, 'learning_rate': 0.002, 'max_depth': 9, 'min_child_weight': 18}. Best is trial 74 with value: 29.95245974841065.\n",
      " 57%|█████▋    | 85/150 [3:34:23<2:42:34, 150.06s/it][I 2023-09-10 12:39:05,162] Trial 85 finished with value: 30.4817560357539 and parameters: {'reg_alpha': 0.12477808851583262, 'reg_lambda': 0.014734848444524403, 'colsample_bytree': 0.55, 'subsample': 1.0, 'learning_rate': 0.002, 'max_depth': 3, 'min_child_weight': 20}. Best is trial 74 with value: 29.95245974841065.\n",
      " 57%|█████▋    | 86/150 [3:35:59<2:22:33, 133.65s/it][I 2023-09-10 12:41:17,838] Trial 86 finished with value: 30.12502396731156 and parameters: {'reg_alpha': 0.0038690716109247457, 'reg_lambda': 0.008213712109024435, 'colsample_bytree': 0.5, 'subsample': 0.95, 'learning_rate': 0.002, 'max_depth': 9, 'min_child_weight': 19}. Best is trial 74 with value: 29.95245974841065.\n",
      " 58%|█████▊    | 87/150 [3:38:11<2:20:01, 133.36s/it][I 2023-09-10 12:43:37,944] Trial 87 finished with value: 30.01151982784896 and parameters: {'reg_alpha': 0.02201562124861208, 'reg_lambda': 0.023772011325337614, 'colsample_bytree': 0.5, 'subsample': 1.0, 'learning_rate': 0.002, 'max_depth': 10, 'min_child_weight': 18}. Best is trial 74 with value: 29.95245974841065.\n",
      " 59%|█████▊    | 88/150 [3:40:32<2:19:53, 135.38s/it][I 2023-09-10 12:46:52,660] Trial 88 finished with value: 30.198651274578197 and parameters: {'reg_alpha': 0.05897798723628789, 'reg_lambda': 0.18003692476004457, 'colsample_bytree': 0.8, 'subsample': 0.95, 'learning_rate': 0.002, 'max_depth': 9, 'min_child_weight': 20}. Best is trial 74 with value: 29.95245974841065.\n",
      " 59%|█████▉    | 89/150 [3:43:46<2:35:44, 153.18s/it][I 2023-09-10 12:49:28,893] Trial 89 finished with value: 30.07935167935099 and parameters: {'reg_alpha': 0.010504196178469281, 'reg_lambda': 0.001597410446988946, 'colsample_bytree': 0.55, 'subsample': 1.0, 'learning_rate': 0.002, 'max_depth': 10, 'min_child_weight': 17}. Best is trial 74 with value: 29.95245974841065.\n",
      " 60%|██████    | 90/150 [3:46:23<2:34:05, 154.10s/it][I 2023-09-10 12:52:11,175] Trial 90 finished with value: 29.952878940286816 and parameters: {'reg_alpha': 0.0065963631693215265, 'reg_lambda': 0.003098363014867313, 'colsample_bytree': 0.5, 'subsample': 1.0, 'learning_rate': 0.002, 'max_depth': 10, 'min_child_weight': 18}. Best is trial 74 with value: 29.95245974841065.\n",
      " 61%|██████    | 91/150 [3:49:05<2:33:56, 156.55s/it][I 2023-09-10 12:54:37,282] Trial 91 finished with value: 29.953167941270795 and parameters: {'reg_alpha': 0.006028518121939919, 'reg_lambda': 0.00546376555524185, 'colsample_bytree': 0.5, 'subsample': 1.0, 'learning_rate': 0.002, 'max_depth': 10, 'min_child_weight': 18}. Best is trial 74 with value: 29.95245974841065.\n",
      " 61%|██████▏   | 92/150 [3:51:31<2:28:18, 153.42s/it][I 2023-09-10 12:57:17,194] Trial 92 finished with value: 29.99036493139065 and parameters: {'reg_alpha': 0.00489293932267713, 'reg_lambda': 0.002739038462572277, 'colsample_bytree': 0.5, 'subsample': 1.0, 'learning_rate': 0.002, 'max_depth': 10, 'min_child_weight': 19}. Best is trial 74 with value: 29.95245974841065.\n",
      " 62%|██████▏   | 93/150 [3:54:11<2:27:35, 155.37s/it][I 2023-09-10 12:59:47,313] Trial 93 finished with value: 29.968321760244333 and parameters: {'reg_alpha': 0.006264845156576436, 'reg_lambda': 0.0027543216611974775, 'colsample_bytree': 0.5, 'subsample': 1.0, 'learning_rate': 0.002, 'max_depth': 10, 'min_child_weight': 19}. Best is trial 74 with value: 29.95245974841065.\n",
      " 63%|██████▎   | 94/150 [3:56:41<2:23:32, 153.79s/it][I 2023-09-10 13:02:21,822] Trial 94 finished with value: 30.1183019033182 and parameters: {'reg_alpha': 0.0015320461577181693, 'reg_lambda': 0.002610120745253623, 'colsample_bytree': 0.5, 'subsample': 0.95, 'learning_rate': 0.002, 'max_depth': 10, 'min_child_weight': 19}. Best is trial 74 with value: 29.95245974841065.\n",
      " 63%|██████▎   | 95/150 [3:59:15<2:21:10, 154.01s/it][I 2023-09-10 13:04:49,471] Trial 95 finished with value: 30.079018308990637 and parameters: {'reg_alpha': 0.00494374860120765, 'reg_lambda': 0.0015245272740295926, 'colsample_bytree': 0.5, 'subsample': 1.0, 'learning_rate': 0.002, 'max_depth': 10, 'min_child_weight': 17}. Best is trial 74 with value: 29.95245974841065.\n",
      " 64%|██████▍   | 96/150 [4:01:43<2:16:53, 152.10s/it][I 2023-09-10 13:07:17,174] Trial 96 finished with value: 30.10224429821558 and parameters: {'reg_alpha': 0.006609978466015717, 'reg_lambda': 0.002809319611656049, 'colsample_bytree': 0.55, 'subsample': 1.0, 'learning_rate': 0.002, 'max_depth': 10, 'min_child_weight': 18}. Best is trial 74 with value: 29.95245974841065.\n",
      " 65%|██████▍   | 97/150 [4:04:11<2:13:11, 150.78s/it][I 2023-09-10 13:10:19,713] Trial 97 finished with value: 30.209937225988508 and parameters: {'reg_alpha': 0.002883448275839473, 'reg_lambda': 0.0046233063427714785, 'colsample_bytree': 0.5, 'subsample': 1.0, 'learning_rate': 0.002, 'max_depth': 10, 'min_child_weight': 6}. Best is trial 74 with value: 29.95245974841065.\n",
      " 65%|██████▌   | 98/150 [4:07:13<2:18:56, 160.31s/it][I 2023-09-10 13:12:49,631] Trial 98 finished with value: 30.197167044513684 and parameters: {'reg_alpha': 0.011251745639226709, 'reg_lambda': 0.0033320778629073043, 'colsample_bytree': 0.55, 'subsample': 0.95, 'learning_rate': 0.002, 'max_depth': 10, 'min_child_weight': 19}. Best is trial 74 with value: 29.95245974841065.\n",
      " 66%|██████▌   | 99/150 [4:09:43<2:13:36, 157.19s/it][I 2023-09-10 13:15:27,984] Trial 99 finished with value: 29.999104575200956 and parameters: {'reg_alpha': 0.001467966305495011, 'reg_lambda': 0.0017792731785966477, 'colsample_bytree': 0.5, 'subsample': 1.0, 'learning_rate': 0.002, 'max_depth': 10, 'min_child_weight': 19}. Best is trial 74 with value: 29.95245974841065.\n",
      " 67%|██████▋   | 100/150 [4:12:22<2:11:16, 157.54s/it][I 2023-09-10 13:18:20,384] Trial 100 finished with value: 30.107761474495756 and parameters: {'reg_alpha': 0.004747879803038916, 'reg_lambda': 0.0012727217541821216, 'colsample_bytree': 0.8500000000000001, 'subsample': 0.95, 'learning_rate': 0.002, 'max_depth': 6, 'min_child_weight': 18}. Best is trial 74 with value: 29.95245974841065.\n",
      " 67%|██████▋   | 101/150 [4:15:14<2:12:17, 162.00s/it][I 2023-09-10 13:21:04,576] Trial 101 finished with value: 30.01193362845034 and parameters: {'reg_alpha': 0.0011939911491387193, 'reg_lambda': 0.0019704775659606572, 'colsample_bytree': 0.5, 'subsample': 1.0, 'learning_rate': 0.002, 'max_depth': 10, 'min_child_weight': 19}. Best is trial 74 with value: 29.95245974841065.\n",
      " 68%|██████▊   | 102/150 [4:17:58<2:10:07, 162.66s/it][I 2023-09-10 13:23:30,545] Trial 102 finished with value: 30.024933461740968 and parameters: {'reg_alpha': 0.0017210526194560243, 'reg_lambda': 0.004041212826450848, 'colsample_bytree': 0.5, 'subsample': 1.0, 'learning_rate': 0.002, 'max_depth': 10, 'min_child_weight': 20}. Best is trial 74 with value: 29.95245974841065.\n",
      " 69%|██████▊   | 103/150 [4:20:24<2:03:29, 157.65s/it][I 2023-09-10 13:25:50,316] Trial 103 finished with value: 29.981243080517245 and parameters: {'reg_alpha': 0.002973238105051293, 'reg_lambda': 0.001019221448647644, 'colsample_bytree': 0.5, 'subsample': 1.0, 'learning_rate': 0.002, 'max_depth': 10, 'min_child_weight': 19}. Best is trial 74 with value: 29.95245974841065.\n",
      " 69%|██████▉   | 104/150 [4:22:44<1:56:45, 152.29s/it][I 2023-09-10 13:28:11,607] Trial 104 finished with value: 30.004538815364928 and parameters: {'reg_alpha': 0.003309367075574979, 'reg_lambda': 0.0011127590219597615, 'colsample_bytree': 0.5, 'subsample': 1.0, 'learning_rate': 0.002, 'max_depth': 9, 'min_child_weight': 17}. Best is trial 74 with value: 29.95245974841065.\n",
      " 70%|███████   | 105/150 [4:25:05<1:51:44, 148.99s/it][I 2023-09-10 13:30:40,139] Trial 105 finished with value: 29.963072837177513 and parameters: {'reg_alpha': 0.006686018394880776, 'reg_lambda': 0.005459069540758252, 'colsample_bytree': 0.5, 'subsample': 1.0, 'learning_rate': 0.002, 'max_depth': 10, 'min_child_weight': 18}. Best is trial 74 with value: 29.95245974841065.\n",
      " 71%|███████   | 106/150 [4:27:34<1:49:09, 148.85s/it][I 2023-09-10 13:32:34,940] Trial 106 finished with value: 30.104790283218826 and parameters: {'reg_alpha': 0.007620201971283187, 'reg_lambda': 0.012038759008961312, 'colsample_bytree': 0.55, 'subsample': 0.55, 'learning_rate': 0.002, 'max_depth': 10, 'min_child_weight': 18}. Best is trial 74 with value: 29.95245974841065.\n",
      " 71%|███████▏  | 107/150 [4:29:29<1:39:21, 138.64s/it][I 2023-09-10 13:35:07,253] Trial 107 finished with value: 29.996522934323178 and parameters: {'reg_alpha': 0.01165346747597472, 'reg_lambda': 0.005565703935731631, 'colsample_bytree': 0.5, 'subsample': 1.0, 'learning_rate': 0.002, 'max_depth': 10, 'min_child_weight': 20}. Best is trial 74 with value: 29.95245974841065.\n",
      " 72%|███████▏  | 108/150 [4:32:01<1:39:55, 142.74s/it][I 2023-09-10 13:38:05,989] Trial 108 finished with value: 30.215851045725927 and parameters: {'reg_alpha': 0.0023848013146791666, 'reg_lambda': 0.006831252604540478, 'colsample_bytree': 0.55, 'subsample': 0.95, 'learning_rate': 0.002, 'max_depth': 9, 'min_child_weight': 9}. Best is trial 74 with value: 29.95245974841065.\n",
      " 73%|███████▎  | 109/150 [4:35:00<1:44:55, 153.54s/it][I 2023-09-10 13:40:34,252] Trial 109 finished with value: 30.068290335002608 and parameters: {'reg_alpha': 0.006676127738439553, 'reg_lambda': 0.01134783897010036, 'colsample_bytree': 0.5, 'subsample': 1.0, 'learning_rate': 0.002, 'max_depth': 10, 'min_child_weight': 17}. Best is trial 74 with value: 29.95245974841065.\n",
      " 73%|███████▎  | 110/150 [4:37:28<1:41:18, 151.96s/it][I 2023-09-10 13:44:02,951] Trial 110 finished with value: 30.30914684741876 and parameters: {'reg_alpha': 0.03737920019195923, 'reg_lambda': 0.0010296343991088978, 'colsample_bytree': 0.55, 'subsample': 0.95, 'learning_rate': 0.002, 'max_depth': 10, 'min_child_weight': 3}. Best is trial 74 with value: 29.95245974841065.\n",
      " 74%|███████▍  | 111/150 [4:40:57<1:49:50, 168.98s/it][I 2023-09-10 13:46:23,715] Trial 111 finished with value: 30.008983301399738 and parameters: {'reg_alpha': 0.004179224071047581, 'reg_lambda': 0.0027028546474685876, 'colsample_bytree': 0.5, 'subsample': 1.0, 'learning_rate': 0.002, 'max_depth': 10, 'min_child_weight': 19}. Best is trial 74 with value: 29.95245974841065.\n",
      " 75%|███████▍  | 112/150 [4:43:17<1:41:39, 160.51s/it][I 2023-09-10 13:48:49,805] Trial 112 finished with value: 29.987302897231004 and parameters: {'reg_alpha': 0.016634325672301314, 'reg_lambda': 0.004920670252989955, 'colsample_bytree': 0.5, 'subsample': 1.0, 'learning_rate': 0.002, 'max_depth': 10, 'min_child_weight': 18}. Best is trial 74 with value: 29.95245974841065.\n",
      " 75%|███████▌  | 113/150 [4:45:43<1:36:18, 156.19s/it][I 2023-09-10 13:51:08,556] Trial 113 finished with value: 29.99772716559051 and parameters: {'reg_alpha': 0.01782182699443429, 'reg_lambda': 0.008665773725841711, 'colsample_bytree': 0.5, 'subsample': 1.0, 'learning_rate': 0.002, 'max_depth': 10, 'min_child_weight': 18}. Best is trial 74 with value: 29.95245974841065.\n",
      " 76%|███████▌  | 114/150 [4:48:02<1:30:34, 150.96s/it][I 2023-09-10 13:53:36,275] Trial 114 finished with value: 30.001424717798656 and parameters: {'reg_alpha': 0.009310225678423751, 'reg_lambda': 0.004295090389251748, 'colsample_bytree': 0.5, 'subsample': 1.0, 'learning_rate': 0.002, 'max_depth': 10, 'min_child_weight': 18}. Best is trial 74 with value: 29.95245974841065.\n",
      " 77%|███████▋  | 115/150 [4:50:30<1:27:29, 149.99s/it][I 2023-09-10 13:56:03,632] Trial 115 finished with value: 30.01027765784972 and parameters: {'reg_alpha': 0.02791094415545826, 'reg_lambda': 0.01466027959839264, 'colsample_bytree': 0.5, 'subsample': 1.0, 'learning_rate': 0.002, 'max_depth': 9, 'min_child_weight': 20}. Best is trial 74 with value: 29.95245974841065.\n",
      " 77%|███████▋  | 116/150 [4:52:57<1:24:32, 149.20s/it][I 2023-09-10 13:58:48,496] Trial 116 finished with value: 30.15990931320788 and parameters: {'reg_alpha': 0.01708016534208024, 'reg_lambda': 0.0016858709989316441, 'colsample_bytree': 0.55, 'subsample': 0.95, 'learning_rate': 0.002, 'max_depth': 10, 'min_child_weight': 17}. Best is trial 74 with value: 29.95245974841065.\n",
      " 78%|███████▊  | 117/150 [4:55:42<1:24:38, 153.90s/it][I 2023-09-10 14:01:17,694] Trial 117 finished with value: 30.0214554574213 and parameters: {'reg_alpha': 0.0022117419878795344, 'reg_lambda': 0.005509433146023293, 'colsample_bytree': 0.5, 'subsample': 1.0, 'learning_rate': 0.002, 'max_depth': 10, 'min_child_weight': 18}. Best is trial 74 with value: 29.95245974841065.\n",
      " 79%|███████▊  | 118/150 [4:58:11<1:21:19, 152.49s/it][I 2023-09-10 14:03:36,896] Trial 118 finished with value: 30.01277711147548 and parameters: {'reg_alpha': 0.012551049717818018, 'reg_lambda': 0.01893946045180767, 'colsample_bytree': 0.5, 'subsample': 1.0, 'learning_rate': 0.002, 'max_depth': 9, 'min_child_weight': 19}. Best is trial 74 with value: 29.95245974841065.\n",
      " 79%|███████▉  | 119/150 [5:00:31<1:16:43, 148.50s/it][I 2023-09-10 14:07:13,711] Trial 119 finished with value: 30.16787160118606 and parameters: {'reg_alpha': 0.0069993207973998986, 'reg_lambda': 0.009336265389111462, 'colsample_bytree': 1.0, 'subsample': 0.7, 'learning_rate': 0.002, 'max_depth': 10, 'min_child_weight': 20}. Best is trial 74 with value: 29.95245974841065.\n",
      " 80%|████████  | 120/150 [5:04:07<1:24:29, 169.00s/it][I 2023-09-10 14:09:51,986] Trial 120 finished with value: 30.10376240855139 and parameters: {'reg_alpha': 0.037091474219691924, 'reg_lambda': 0.0036217892648071058, 'colsample_bytree': 0.55, 'subsample': 1.0, 'learning_rate': 0.002, 'max_depth': 9, 'min_child_weight': 19}. Best is trial 74 with value: 29.95245974841065.\n",
      " 81%|████████  | 121/150 [5:06:46<1:20:07, 165.78s/it][I 2023-09-10 14:12:26,989] Trial 121 finished with value: 30.015829993587147 and parameters: {'reg_alpha': 0.0034630870348315653, 'reg_lambda': 0.002367242969094093, 'colsample_bytree': 0.5, 'subsample': 1.0, 'learning_rate': 0.002, 'max_depth': 10, 'min_child_weight': 19}. Best is trial 74 with value: 29.95245974841065.\n",
      " 81%|████████▏ | 122/150 [5:09:21<1:15:51, 162.55s/it][I 2023-09-10 14:14:50,472] Trial 122 finished with value: 29.896087546898272 and parameters: {'reg_alpha': 0.004468442422020436, 'reg_lambda': 0.002903835410142105, 'colsample_bytree': 0.5, 'subsample': 1.0, 'learning_rate': 0.002, 'max_depth': 10, 'min_child_weight': 18}. Best is trial 122 with value: 29.896087546898272.\n",
      " 82%|████████▏ | 123/150 [5:11:44<1:10:34, 156.83s/it][I 2023-09-10 14:17:11,655] Trial 123 finished with value: 30.021637392578626 and parameters: {'reg_alpha': 0.008813544745949756, 'reg_lambda': 0.005596158814177095, 'colsample_bytree': 0.5, 'subsample': 1.0, 'learning_rate': 0.002, 'max_depth': 10, 'min_child_weight': 18}. Best is trial 122 with value: 29.896087546898272.\n",
      " 83%|████████▎ | 124/150 [5:14:05<1:05:55, 152.13s/it][I 2023-09-10 14:19:44,637] Trial 124 finished with value: 30.145367365702555 and parameters: {'reg_alpha': 0.00585982397807975, 'reg_lambda': 0.03089922535113194, 'colsample_bytree': 0.5, 'subsample': 0.95, 'learning_rate': 0.002, 'max_depth': 10, 'min_child_weight': 17}. Best is trial 122 with value: 29.896087546898272.\n",
      " 83%|████████▎ | 125/150 [5:16:38<1:03:29, 152.39s/it][I 2023-09-10 14:22:15,530] Trial 125 finished with value: 29.999636680041693 and parameters: {'reg_alpha': 0.021528415575715814, 'reg_lambda': 0.007141181601112607, 'colsample_bytree': 0.5, 'subsample': 1.0, 'learning_rate': 0.002, 'max_depth': 10, 'min_child_weight': 18}. Best is trial 122 with value: 29.896087546898272.\n",
      " 84%|████████▍ | 126/150 [5:19:09<1:00:46, 151.94s/it][I 2023-09-10 14:25:08,116] Trial 126 finished with value: 30.138222316609674 and parameters: {'reg_alpha': 0.0010275278229086018, 'reg_lambda': 0.0015126749425695772, 'colsample_bytree': 0.5, 'subsample': 0.95, 'learning_rate': 0.002, 'max_depth': 10, 'min_child_weight': 16}. Best is trial 122 with value: 29.896087546898272.\n",
      " 85%|████████▍ | 127/150 [5:22:02<1:00:37, 158.13s/it][I 2023-09-10 14:27:37,316] Trial 127 finished with value: 29.985571889707686 and parameters: {'reg_alpha': 0.0026964012121199117, 'reg_lambda': 0.0031863142494699963, 'colsample_bytree': 0.5, 'subsample': 1.0, 'learning_rate': 0.002, 'max_depth': 10, 'min_child_weight': 19}. Best is trial 122 with value: 29.896087546898272.\n",
      " 85%|████████▌ | 128/150 [5:24:31<56:59, 155.45s/it]  [I 2023-09-10 14:31:24,855] Trial 128 finished with value: 30.226126615443704 and parameters: {'reg_alpha': 0.002654391805033348, 'reg_lambda': 0.0029762938579382084, 'colsample_bytree': 0.7, 'subsample': 1.0, 'learning_rate': 0.002, 'max_depth': 10, 'min_child_weight': 20}. Best is trial 122 with value: 29.896087546898272.\n",
      " 86%|████████▌ | 129/150 [5:28:18<1:01:58, 177.08s/it][I 2023-09-10 14:33:56,690] Trial 129 finished with value: 30.09936264609499 and parameters: {'reg_alpha': 0.0017754799401205538, 'reg_lambda': 0.011783652405191237, 'colsample_bytree': 0.55, 'subsample': 1.0, 'learning_rate': 0.002, 'max_depth': 9, 'min_child_weight': 20}. Best is trial 122 with value: 29.896087546898272.\n",
      " 87%|████████▋ | 130/150 [5:30:50<56:30, 169.51s/it]  [I 2023-09-10 14:36:31,539] Trial 130 finished with value: 29.962145489151013 and parameters: {'reg_alpha': 0.0031880396258659777, 'reg_lambda': 0.002145018637506492, 'colsample_bytree': 0.5, 'subsample': 1.0, 'learning_rate': 0.002, 'max_depth': 10, 'min_child_weight': 19}. Best is trial 122 with value: 29.896087546898272.\n",
      " 87%|████████▋ | 131/150 [5:33:25<52:17, 165.11s/it][I 2023-09-10 14:38:57,726] Trial 131 finished with value: 30.024216497649274 and parameters: {'reg_alpha': 0.0036117308441358975, 'reg_lambda': 0.0018825950645189567, 'colsample_bytree': 0.5, 'subsample': 1.0, 'learning_rate': 0.002, 'max_depth': 10, 'min_child_weight': 19}. Best is trial 122 with value: 29.896087546898272.\n",
      " 88%|████████▊ | 132/150 [5:35:51<47:49, 159.43s/it][I 2023-09-10 14:41:24,503] Trial 132 finished with value: 29.993451106276762 and parameters: {'reg_alpha': 0.004935790839448795, 'reg_lambda': 0.0035901835068933518, 'colsample_bytree': 0.5, 'subsample': 1.0, 'learning_rate': 0.002, 'max_depth': 10, 'min_child_weight': 19}. Best is trial 122 with value: 29.896087546898272.\n",
      " 89%|████████▊ | 133/150 [5:38:18<44:05, 155.64s/it][I 2023-09-10 14:44:02,485] Trial 133 finished with value: 30.006105547366914 and parameters: {'reg_alpha': 0.002433460161424059, 'reg_lambda': 0.0025649235931550054, 'colsample_bytree': 0.5, 'subsample': 1.0, 'learning_rate': 0.002, 'max_depth': 10, 'min_child_weight': 19}. Best is trial 122 with value: 29.896087546898272.\n",
      " 89%|████████▉ | 134/150 [5:40:56<41:41, 156.34s/it][I 2023-09-10 14:45:37,855] Trial 134 finished with value: 30.107374535199245 and parameters: {'reg_alpha': 0.007412773796943427, 'reg_lambda': 0.0074208823786858944, 'colsample_bytree': 0.5, 'subsample': 1.0, 'learning_rate': 0.002, 'max_depth': 5, 'min_child_weight': 18}. Best is trial 122 with value: 29.896087546898272.\n",
      " 90%|█████████ | 135/150 [5:42:31<34:30, 138.05s/it][I 2023-09-10 14:48:05,840] Trial 135 finished with value: 30.130378798544413 and parameters: {'reg_alpha': 0.001537724648833519, 'reg_lambda': 0.0012622930687018455, 'colsample_bytree': 0.5, 'subsample': 0.95, 'learning_rate': 0.002, 'max_depth': 10, 'min_child_weight': 20}. Best is trial 122 with value: 29.896087546898272.\n",
      " 91%|█████████ | 136/150 [5:44:59<32:54, 141.03s/it][I 2023-09-10 14:50:52,882] Trial 136 finished with value: 30.12896841482276 and parameters: {'reg_alpha': 0.0038174064118347358, 'reg_lambda': 0.004151403623404618, 'colsample_bytree': 0.55, 'subsample': 1.0, 'learning_rate': 0.002, 'max_depth': 10, 'min_child_weight': 19}. Best is trial 122 with value: 29.896087546898272.\n",
      " 91%|█████████▏| 137/150 [5:47:47<32:14, 148.83s/it][I 2023-09-10 14:53:28,364] Trial 137 finished with value: 30.1327089438281 and parameters: {'reg_alpha': 0.01150069919952316, 'reg_lambda': 0.018374988317017723, 'colsample_bytree': 0.5, 'subsample': 0.95, 'learning_rate': 0.002, 'max_depth': 10, 'min_child_weight': 18}. Best is trial 122 with value: 29.896087546898272.\n",
      " 92%|█████████▏| 138/150 [5:50:22<30:09, 150.83s/it][I 2023-09-10 14:55:57,621] Trial 138 finished with value: 30.195556419395665 and parameters: {'reg_alpha': 0.0027263819423718797, 'reg_lambda': 0.002003589500018777, 'colsample_bytree': 0.55, 'subsample': 1.0, 'learning_rate': 0.002, 'max_depth': 9, 'min_child_weight': 19}. Best is trial 122 with value: 29.896087546898272.\n",
      " 93%|█████████▎| 139/150 [5:52:51<27:33, 150.36s/it][I 2023-09-10 14:58:17,427] Trial 139 finished with value: 29.994465032972936 and parameters: {'reg_alpha': 0.005735051456203756, 'reg_lambda': 0.01057120105413998, 'colsample_bytree': 0.5, 'subsample': 1.0, 'learning_rate': 0.002, 'max_depth': 10, 'min_child_weight': 20}. Best is trial 122 with value: 29.896087546898272.\n",
      " 93%|█████████▎| 140/150 [5:55:11<24:31, 147.19s/it][I 2023-09-10 15:00:59,521] Trial 140 finished with value: 30.045087941507816 and parameters: {'reg_alpha': 0.08579289722712757, 'reg_lambda': 0.0010236596827546038, 'colsample_bytree': 0.5, 'subsample': 0.8, 'learning_rate': 0.002, 'max_depth': 10, 'min_child_weight': 17}. Best is trial 122 with value: 29.896087546898272.\n",
      " 94%|█████████▍| 141/150 [5:57:53<22:44, 151.66s/it][I 2023-09-10 15:03:24,821] Trial 141 finished with value: 30.000656379247243 and parameters: {'reg_alpha': 0.013681426860565024, 'reg_lambda': 0.0048676347492208, 'colsample_bytree': 0.5, 'subsample': 1.0, 'learning_rate': 0.002, 'max_depth': 10, 'min_child_weight': 18}. Best is trial 122 with value: 29.896087546898272.\n",
      " 95%|█████████▍| 142/150 [6:00:18<19:58, 149.75s/it][I 2023-09-10 15:05:55,842] Trial 142 finished with value: 30.000387034753622 and parameters: {'reg_alpha': 0.008786006878493761, 'reg_lambda': 0.005368716387370199, 'colsample_bytree': 0.5, 'subsample': 1.0, 'learning_rate': 0.002, 'max_depth': 10, 'min_child_weight': 18}. Best is trial 122 with value: 29.896087546898272.\n",
      " 95%|█████████▌| 143/150 [6:02:49<17:30, 150.13s/it][I 2023-09-10 15:08:35,332] Trial 143 finished with value: 30.006477486865553 and parameters: {'reg_alpha': 0.03352553335104217, 'reg_lambda': 0.002974655331756312, 'colsample_bytree': 0.5, 'subsample': 1.0, 'learning_rate': 0.002, 'max_depth': 10, 'min_child_weight': 19}. Best is trial 122 with value: 29.896087546898272.\n",
      " 96%|█████████▌| 144/150 [6:05:29<15:17, 152.94s/it][I 2023-09-10 15:11:01,954] Trial 144 finished with value: 30.01582282707857 and parameters: {'reg_alpha': 0.004013354585409452, 'reg_lambda': 0.007343570933968269, 'colsample_bytree': 0.5, 'subsample': 1.0, 'learning_rate': 0.002, 'max_depth': 10, 'min_child_weight': 18}. Best is trial 122 with value: 29.896087546898272.\n",
      " 97%|█████████▋| 145/150 [6:07:56<12:35, 151.04s/it][I 2023-09-10 15:13:36,536] Trial 145 finished with value: 29.971124452205153 and parameters: {'reg_alpha': 0.0219739643149101, 'reg_lambda': 0.0016051294296632193, 'colsample_bytree': 0.5, 'subsample': 1.0, 'learning_rate': 0.002, 'max_depth': 10, 'min_child_weight': 19}. Best is trial 122 with value: 29.896087546898272.\n",
      " 97%|█████████▋| 146/150 [6:10:30<10:08, 152.11s/it][I 2023-09-10 15:16:11,750] Trial 146 finished with value: 29.991010233528797 and parameters: {'reg_alpha': 0.02533871716022527, 'reg_lambda': 0.0017014224230929124, 'colsample_bytree': 0.5, 'subsample': 1.0, 'learning_rate': 0.002, 'max_depth': 10, 'min_child_weight': 19}. Best is trial 122 with value: 29.896087546898272.\n",
      " 98%|█████████▊| 147/150 [6:13:05<07:39, 153.04s/it][I 2023-09-10 15:17:27,320] Trial 147 finished with value: 30.766914075021468 and parameters: {'reg_alpha': 0.04924652263788201, 'reg_lambda': 0.0022914131823966503, 'colsample_bytree': 0.5, 'subsample': 1.0, 'learning_rate': 0.002, 'max_depth': 2, 'min_child_weight': 20}. Best is trial 122 with value: 29.896087546898272.\n",
      " 99%|█████████▊| 148/150 [6:14:21<04:19, 129.80s/it][I 2023-09-10 15:19:57,010] Trial 148 finished with value: 30.12697256448339 and parameters: {'reg_alpha': 9.235386279570037, 'reg_lambda': 0.0014327806363217004, 'colsample_bytree': 0.55, 'subsample': 0.95, 'learning_rate': 0.002, 'max_depth': 9, 'min_child_weight': 19}. Best is trial 122 with value: 29.896087546898272.\n",
      " 99%|█████████▉| 149/150 [6:16:51<02:15, 135.77s/it][I 2023-09-10 15:24:36,387] Trial 149 finished with value: 30.421053054800193 and parameters: {'reg_alpha': 0.00550237087147128, 'reg_lambda': 0.0034462167553525156, 'colsample_bytree': 0.95, 'subsample': 1.0, 'learning_rate': 0.002, 'max_depth': 10, 'min_child_weight': 19}. Best is trial 122 with value: 29.896087546898272.\n",
      "100%|██████████| 150/150 [6:21:30<00:00, 152.60s/it]"
     ]
    },
    {
     "name": "stdout",
     "output_type": "stream",
     "text": [
      "Number of finished trials: 150\n",
      "Best trial: {'reg_alpha': 0.004468442422020436, 'reg_lambda': 0.002903835410142105, 'colsample_bytree': 0.5, 'subsample': 1.0, 'learning_rate': 0.002, 'max_depth': 10, 'min_child_weight': 18}\n"
     ]
    },
    {
     "name": "stderr",
     "output_type": "stream",
     "text": [
      "\n"
     ]
    }
   ],
   "source": [
    "study = optuna.create_study(direction='minimize', study_name=None)\n",
    "with tqdm(total=num_of_study) as pbar:  \n",
    "    def callback(study, trial):\n",
    "        pbar.update(1)  \n",
    "    \n",
    "    study.optimize(objective, n_trials=num_of_study, callbacks=[callback])\n",
    "\n",
    "print('Number of finished trials:', len(study.trials))\n",
    "print('Best trial:', study.best_trial.params)"
   ]
  },
  {
   "cell_type": "code",
   "execution_count": 50,
   "metadata": {},
   "outputs": [
    {
     "data": {
      "text/html": [
       "<div>\n",
       "<style scoped>\n",
       "    .dataframe tbody tr th:only-of-type {\n",
       "        vertical-align: middle;\n",
       "    }\n",
       "\n",
       "    .dataframe tbody tr th {\n",
       "        vertical-align: top;\n",
       "    }\n",
       "\n",
       "    .dataframe thead th {\n",
       "        text-align: right;\n",
       "    }\n",
       "</style>\n",
       "<table border=\"1\" class=\"dataframe\">\n",
       "  <thead>\n",
       "    <tr style=\"text-align: right;\">\n",
       "      <th></th>\n",
       "      <th>number</th>\n",
       "      <th>value</th>\n",
       "      <th>datetime_start</th>\n",
       "      <th>datetime_complete</th>\n",
       "      <th>duration</th>\n",
       "      <th>params_colsample_bytree</th>\n",
       "      <th>params_learning_rate</th>\n",
       "      <th>params_max_depth</th>\n",
       "      <th>params_min_child_weight</th>\n",
       "      <th>params_reg_alpha</th>\n",
       "      <th>params_reg_lambda</th>\n",
       "      <th>params_subsample</th>\n",
       "      <th>state</th>\n",
       "    </tr>\n",
       "  </thead>\n",
       "  <tbody>\n",
       "    <tr>\n",
       "      <th>0</th>\n",
       "      <td>0</td>\n",
       "      <td>30.142479</td>\n",
       "      <td>2023-09-10 09:03:05.873902</td>\n",
       "      <td>2023-09-10 09:05:07.203286</td>\n",
       "      <td>0 days 00:02:01.329384</td>\n",
       "      <td>0.65</td>\n",
       "      <td>0.003</td>\n",
       "      <td>10</td>\n",
       "      <td>12</td>\n",
       "      <td>5.895155</td>\n",
       "      <td>0.459246</td>\n",
       "      <td>0.6</td>\n",
       "      <td>COMPLETE</td>\n",
       "    </tr>\n",
       "    <tr>\n",
       "      <th>1</th>\n",
       "      <td>1</td>\n",
       "      <td>30.522320</td>\n",
       "      <td>2023-09-10 09:05:07.205287</td>\n",
       "      <td>2023-09-10 09:06:45.781621</td>\n",
       "      <td>0 days 00:01:38.576334</td>\n",
       "      <td>0.70</td>\n",
       "      <td>0.003</td>\n",
       "      <td>4</td>\n",
       "      <td>4</td>\n",
       "      <td>0.048568</td>\n",
       "      <td>45.506053</td>\n",
       "      <td>0.8</td>\n",
       "      <td>COMPLETE</td>\n",
       "    </tr>\n",
       "    <tr>\n",
       "      <th>2</th>\n",
       "      <td>2</td>\n",
       "      <td>30.114833</td>\n",
       "      <td>2023-09-10 09:06:45.782622</td>\n",
       "      <td>2023-09-10 09:08:07.586893</td>\n",
       "      <td>0 days 00:01:21.804271</td>\n",
       "      <td>0.55</td>\n",
       "      <td>0.003</td>\n",
       "      <td>5</td>\n",
       "      <td>2</td>\n",
       "      <td>0.001844</td>\n",
       "      <td>2.085654</td>\n",
       "      <td>1.0</td>\n",
       "      <td>COMPLETE</td>\n",
       "    </tr>\n",
       "    <tr>\n",
       "      <th>3</th>\n",
       "      <td>3</td>\n",
       "      <td>45.545113</td>\n",
       "      <td>2023-09-10 09:08:07.588894</td>\n",
       "      <td>2023-09-10 09:09:31.166696</td>\n",
       "      <td>0 days 00:01:23.577802</td>\n",
       "      <td>0.75</td>\n",
       "      <td>0.001</td>\n",
       "      <td>2</td>\n",
       "      <td>4</td>\n",
       "      <td>0.301456</td>\n",
       "      <td>7378.344956</td>\n",
       "      <td>0.6</td>\n",
       "      <td>COMPLETE</td>\n",
       "    </tr>\n",
       "    <tr>\n",
       "      <th>4</th>\n",
       "      <td>4</td>\n",
       "      <td>30.633943</td>\n",
       "      <td>2023-09-10 09:09:31.167696</td>\n",
       "      <td>2023-09-10 09:13:03.806121</td>\n",
       "      <td>0 days 00:03:32.638425</td>\n",
       "      <td>0.70</td>\n",
       "      <td>0.001</td>\n",
       "      <td>7</td>\n",
       "      <td>7</td>\n",
       "      <td>2.740281</td>\n",
       "      <td>9.215380</td>\n",
       "      <td>0.9</td>\n",
       "      <td>COMPLETE</td>\n",
       "    </tr>\n",
       "  </tbody>\n",
       "</table>\n",
       "</div>"
      ],
      "text/plain": [
       "   number      value             datetime_start          datetime_complete  \\\n",
       "0       0  30.142479 2023-09-10 09:03:05.873902 2023-09-10 09:05:07.203286   \n",
       "1       1  30.522320 2023-09-10 09:05:07.205287 2023-09-10 09:06:45.781621   \n",
       "2       2  30.114833 2023-09-10 09:06:45.782622 2023-09-10 09:08:07.586893   \n",
       "3       3  45.545113 2023-09-10 09:08:07.588894 2023-09-10 09:09:31.166696   \n",
       "4       4  30.633943 2023-09-10 09:09:31.167696 2023-09-10 09:13:03.806121   \n",
       "\n",
       "                duration  params_colsample_bytree  params_learning_rate  \\\n",
       "0 0 days 00:02:01.329384                     0.65                 0.003   \n",
       "1 0 days 00:01:38.576334                     0.70                 0.003   \n",
       "2 0 days 00:01:21.804271                     0.55                 0.003   \n",
       "3 0 days 00:01:23.577802                     0.75                 0.001   \n",
       "4 0 days 00:03:32.638425                     0.70                 0.001   \n",
       "\n",
       "   params_max_depth  params_min_child_weight  params_reg_alpha  \\\n",
       "0                10                       12          5.895155   \n",
       "1                 4                        4          0.048568   \n",
       "2                 5                        2          0.001844   \n",
       "3                 2                        4          0.301456   \n",
       "4                 7                        7          2.740281   \n",
       "\n",
       "   params_reg_lambda  params_subsample     state  \n",
       "0           0.459246               0.6  COMPLETE  \n",
       "1          45.506053               0.8  COMPLETE  \n",
       "2           2.085654               1.0  COMPLETE  \n",
       "3        7378.344956               0.6  COMPLETE  \n",
       "4           9.215380               0.9  COMPLETE  "
      ]
     },
     "execution_count": 50,
     "metadata": {},
     "output_type": "execute_result"
    }
   ],
   "source": [
    "study.trials_dataframe().head()"
   ]
  },
  {
   "cell_type": "code",
   "execution_count": 54,
   "metadata": {},
   "outputs": [
    {
     "data": {
      "image/png": "[encoded data removed]",
      "text/plain": [
       "<Figure size 1200x800 with 7 Axes>"
      ]
     },
     "metadata": {},
     "output_type": "display_data"
    }
   ],
   "source": [
    "df_study = study.trials_dataframe()\n",
    "\n",
    "study_cols = ['params_colsample_bytree', 'params_learning_rate', 'params_max_depth',\n",
    "       'params_min_child_weight', 'params_reg_alpha', 'params_reg_lambda',\n",
    "       'params_subsample']\n",
    "\n",
    "sns.set_style(\"whitegrid\")\n",
    "plt.figure(figsize=(12, 8))\n",
    "\n",
    "for i, col in enumerate(study_cols, 1):\n",
    "    plt.subplot(3, 3, i)\n",
    "    sns.histplot(df_study[col], bins=30, color='skyblue', kde=True)\n",
    "    plt.xlabel(col)\n",
    "    plt.ylabel('Frequency')\n",
    "\n",
    "plt.tight_layout()\n",
    "plt.show()"
   ]
  },
  {
   "cell_type": "code",
   "execution_count": 55,
   "metadata": {},
   "outputs": [
    {
     "data": {
      "application/vnd.plotly.v1+json": {
       "config": {
        "plotlyServerURL": "https://plot.ly"
       },
       "data": [
        {
         "mode": "markers",
         "name": "Objective Value",
         "type": "scatter",
         "x": [
          0,
          1,
          2,
          3,
          4,
          5,
          6,
          7,
          8,
          9,
          10,
          11,
          12,
          13,
          14,
          15,
          16,
          17,
          18,
          19,
          20,
          21,
          22,
          23,
          24,
          25,
          26,
          27,
          28,
          29,
          30,
          31,
          32,
          33,
          34,
          35,
          36,
          37,
          38,
          39,
          40,
          41,
          42,
          43,
          44,
          45,
          46,
          47,
          48,
          49,
          50,
          51,
          52,
          53,
          54,
          55,
          56,
          57,
          58,
          59,
          60,
          61,
          62,
          63,
          64,
          65,
          66,
          67,
          68,
          69,
          70,
          71,
          72,
          73,
          74,
          75,
          76,
          77,
          78,
          79,
          80,
          81,
          82,
          83,
          84,
          85,
          86,
          87,
          88,
          89,
          90,
          91,
          92,
          93,
          94,
          95,
          96,
          97,
          98,
          99,
          100,
          101,
          102,
          103,
          104,
          105,
          106,
          107,
          108,
          109,
          110,
          111,
          112,
          113,
          114,
          115,
          116,
          117,
          118,
          119,
          120,
          121,
          122,
          123,
          124,
          125,
          126,
          127,
          128,
          129,
          130,
          131,
          132,
          133,
          134,
          135,
          136,
          137,
          138,
          139,
          140,
          141,
          142,
          143,
          144,
          145,
          146,
          147,
          148,
          149
         ],
         "y": [
          30.142479249750394,
          30.5223199572589,
          30.114833259598406,
          45.54511289718445,
          30.63394329406766,
          30.577272941868454,
          53.0883633656012,
          30.82490300796566,
          40.37058271312144,
          30.54371224423206,
          30.112499561194564,
          30.048982508873603,
          30.031925831949113,
          30.111744697767044,
          44.00399191846183,
          30.009103575570112,
          30.28045640122642,
          30.148722665931476,
          30.268896764200125,
          30.195226100014448,
          30.134628802505347,
          30.071936949585698,
          30.146221680469765,
          30.11385565509893,
          30.24424137474461,
          30.115618011207374,
          30.202370998307636,
          30.19407123849161,
          30.093114273007238,
          30.198848015746474,
          30.176810119704314,
          30.032843460858412,
          30.113420970033946,
          30.104057346414606,
          30.178900485134545,
          30.233432034442128,
          30.158043085616285,
          30.19113204822223,
          30.14425016153014,
          30.616634900653114,
          30.1082624136623,
          30.077260342061713,
          30.15550548845717,
          30.0664485600193,
          30.44555810360416,
          30.147772604181796,
          30.246228019598913,
          30.176792904029217,
          30.17659275166497,
          30.117761754446466,
          30.189613035094307,
          30.046425007800142,
          30.033687305826675,
          30.12448098025882,
          30.210069256043976,
          30.149274097650714,
          30.007358959976557,
          30.168011467947938,
          30.0347450973712,
          30.15889376857039,
          30.14363564519853,
          29.977581322484607,
          30.002858484273403,
          30.106830434101116,
          30.00975126438837,
          30.186672610315618,
          30.269165484371303,
          30.138522774411545,
          30.147614608070185,
          30.138110410243222,
          30.227713400373826,
          29.968899388525227,
          29.97751871091145,
          29.955060992418563,
          29.95245974841065,
          30.026286962584248,
          30.1483266164808,
          30.147585604245492,
          30.042326774021255,
          30.09783994582631,
          30.11403228309777,
          29.98279561803892,
          30.012959257130305,
          30.133517482067006,
          30.132211879965833,
          30.4817560357539,
          30.12502396731156,
          30.01151982784896,
          30.198651274578197,
          30.07935167935099,
          29.952878940286816,
          29.953167941270795,
          29.99036493139065,
          29.968321760244333,
          30.1183019033182,
          30.079018308990637,
          30.10224429821558,
          30.209937225988508,
          30.197167044513684,
          29.999104575200956,
          30.107761474495756,
          30.01193362845034,
          30.024933461740968,
          29.981243080517245,
          30.004538815364928,
          29.963072837177513,
          30.104790283218826,
          29.996522934323178,
          30.215851045725927,
          30.068290335002608,
          30.30914684741876,
          30.008983301399738,
          29.987302897231004,
          29.99772716559051,
          30.001424717798656,
          30.01027765784972,
          30.15990931320788,
          30.0214554574213,
          30.01277711147548,
          30.16787160118606,
          30.10376240855139,
          30.015829993587147,
          29.896087546898272,
          30.021637392578626,
          30.145367365702555,
          29.999636680041693,
          30.138222316609674,
          29.985571889707686,
          30.226126615443704,
          30.09936264609499,
          29.962145489151013,
          30.024216497649274,
          29.993451106276762,
          30.006105547366914,
          30.107374535199245,
          30.130378798544413,
          30.12896841482276,
          30.1327089438281,
          30.195556419395665,
          29.994465032972936,
          30.045087941507816,
          30.000656379247243,
          30.000387034753622,
          30.006477486865553,
          30.01582282707857,
          29.971124452205153,
          29.991010233528797,
          30.766914075021468,
          30.12697256448339,
          30.421053054800193
         ]
        },
        {
         "mode": "lines",
         "name": "Best Value",
         "type": "scatter",
         "x": [
          0,
          1,
          2,
          3,
          4,
          5,
          6,
          7,
          8,
          9,
          10,
          11,
          12,
          13,
          14,
          15,
          16,
          17,
          18,
          19,
          20,
          21,
          22,
          23,
          24,
          25,
          26,
          27,
          28,
          29,
          30,
          31,
          32,
          33,
          34,
          35,
          36,
          37,
          38,
          39,
          40,
          41,
          42,
          43,
          44,
          45,
          46,
          47,
          48,
          49,
          50,
          51,
          52,
          53,
          54,
          55,
          56,
          57,
          58,
          59,
          60,
          61,
          62,
          63,
          64,
          65,
          66,
          67,
          68,
          69,
          70,
          71,
          72,
          73,
          74,
          75,
          76,
          77,
          78,
          79,
          80,
          81,
          82,
          83,
          84,
          85,
          86,
          87,
          88,
          89,
          90,
          91,
          92,
          93,
          94,
          95,
          96,
          97,
          98,
          99,
          100,
          101,
          102,
          103,
          104,
          105,
          106,
          107,
          108,
          109,
          110,
          111,
          112,
          113,
          114,
          115,
          116,
          117,
          118,
          119,
          120,
          121,
          122,
          123,
          124,
          125,
          126,
          127,
          128,
          129,
          130,
          131,
          132,
          133,
          134,
          135,
          136,
          137,
          138,
          139,
          140,
          141,
          142,
          143,
          144,
          145,
          146,
          147,
          148,
          149
         ],
         "y": [
          30.142479249750394,
          30.142479249750394,
          30.114833259598406,
          30.114833259598406,
          30.114833259598406,
          30.114833259598406,
          30.114833259598406,
          30.114833259598406,
          30.114833259598406,
          30.114833259598406,
          30.112499561194564,
          30.048982508873603,
          30.031925831949113,
          30.031925831949113,
          30.031925831949113,
          30.009103575570112,
          30.009103575570112,
          30.009103575570112,
          30.009103575570112,
          30.009103575570112,
          30.009103575570112,
          30.009103575570112,
          30.009103575570112,
          30.009103575570112,
          30.009103575570112,
          30.009103575570112,
          30.009103575570112,
          30.009103575570112,
          30.009103575570112,
          30.009103575570112,
          30.009103575570112,
          30.009103575570112,
          30.009103575570112,
          30.009103575570112,
          30.009103575570112,
          30.009103575570112,
          30.009103575570112,
          30.009103575570112,
          30.009103575570112,
          30.009103575570112,
          30.009103575570112,
          30.009103575570112,
          30.009103575570112,
          30.009103575570112,
          30.009103575570112,
          30.009103575570112,
          30.009103575570112,
          30.009103575570112,
          30.009103575570112,
          30.009103575570112,
          30.009103575570112,
          30.009103575570112,
          30.009103575570112,
          30.009103575570112,
          30.009103575570112,
          30.009103575570112,
          30.007358959976557,
          30.007358959976557,
          30.007358959976557,
          30.007358959976557,
          30.007358959976557,
          29.977581322484607,
          29.977581322484607,
          29.977581322484607,
          29.977581322484607,
          29.977581322484607,
          29.977581322484607,
          29.977581322484607,
          29.977581322484607,
          29.977581322484607,
          29.977581322484607,
          29.968899388525227,
          29.968899388525227,
          29.955060992418563,
          29.95245974841065,
          29.95245974841065,
          29.95245974841065,
          29.95245974841065,
          29.95245974841065,
          29.95245974841065,
          29.95245974841065,
          29.95245974841065,
          29.95245974841065,
          29.95245974841065,
          29.95245974841065,
          29.95245974841065,
          29.95245974841065,
          29.95245974841065,
          29.95245974841065,
          29.95245974841065,
          29.95245974841065,
          29.95245974841065,
          29.95245974841065,
          29.95245974841065,
          29.95245974841065,
          29.95245974841065,
          29.95245974841065,
          29.95245974841065,
          29.95245974841065,
          29.95245974841065,
          29.95245974841065,
          29.95245974841065,
          29.95245974841065,
          29.95245974841065,
          29.95245974841065,
          29.95245974841065,
          29.95245974841065,
          29.95245974841065,
          29.95245974841065,
          29.95245974841065,
          29.95245974841065,
          29.95245974841065,
          29.95245974841065,
          29.95245974841065,
          29.95245974841065,
          29.95245974841065,
          29.95245974841065,
          29.95245974841065,
          29.95245974841065,
          29.95245974841065,
          29.95245974841065,
          29.95245974841065,
          29.896087546898272,
          29.896087546898272,
          29.896087546898272,
          29.896087546898272,
          29.896087546898272,
          29.896087546898272,
          29.896087546898272,
          29.896087546898272,
          29.896087546898272,
          29.896087546898272,
          29.896087546898272,
          29.896087546898272,
          29.896087546898272,
          29.896087546898272,
          29.896087546898272,
          29.896087546898272,
          29.896087546898272,
          29.896087546898272,
          29.896087546898272,
          29.896087546898272,
          29.896087546898272,
          29.896087546898272,
          29.896087546898272,
          29.896087546898272,
          29.896087546898272,
          29.896087546898272,
          29.896087546898272,
          29.896087546898272
         ]
        },
        {
         "marker": {
          "color": "#cccccc"
         },
         "mode": "markers",
         "name": "Infeasible Trial",
         "showlegend": false,
         "type": "scatter",
         "x": [],
         "y": []
        }
       ],
       "layout": {
        "template": {
         "data": {
          "bar": [
           {
            "error_x": {
             "color": "#2a3f5f"
            },
            "error_y": {
             "color": "#2a3f5f"
            },
            "marker": {
             "line": {
              "color": "#E5ECF6",
              "width": 0.5
             },
             "pattern": {
              "fillmode": "overlay",
              "size": 10,
              "solidity": 0.2
             }
            },
            "type": "bar"
           }
          ],
          "barpolar": [
           {
            "marker": {
             "line": {
              "color": "#E5ECF6",
              "width": 0.5
             },
             "pattern": {
              "fillmode": "overlay",
              "size": 10,
              "solidity": 0.2
             }
            },
            "type": "barpolar"
           }
          ],
          "carpet": [
           {
            "aaxis": {
             "endlinecolor": "#2a3f5f",
             "gridcolor": "white",
             "linecolor": "white",
             "minorgridcolor": "white",
             "startlinecolor": "#2a3f5f"
            },
            "baxis": {
             "endlinecolor": "#2a3f5f",
             "gridcolor": "white",
             "linecolor": "white",
             "minorgridcolor": "white",
             "startlinecolor": "#2a3f5f"
            },
            "type": "carpet"
           }
          ],
          "choropleth": [
           {
            "colorbar": {
             "outlinewidth": 0,
             "ticks": ""
            },
            "type": "choropleth"
           }
          ],
          "contour": [
           {
            "colorbar": {
             "outlinewidth": 0,
             "ticks": ""
            },
            "colorscale": [
             [
              0,
              "#0d0887"
             ],
             [
              0.1111111111111111,
              "#46039f"
             ],
             [
              0.2222222222222222,
              "#7201a8"
             ],
             [
              0.3333333333333333,
              "#9c179e"
             ],
             [
              0.4444444444444444,
              "#bd3786"
             ],
             [
              0.5555555555555556,
              "#d8576b"
             ],
             [
              0.6666666666666666,
              "#ed7953"
             ],
             [
              0.7777777777777778,
              "#fb9f3a"
             ],
             [
              0.8888888888888888,
              "#fdca26"
             ],
             [
              1,
              "#f0f921"
             ]
            ],
            "type": "contour"
           }
          ],
          "contourcarpet": [
           {
            "colorbar": {
             "outlinewidth": 0,
             "ticks": ""
            },
            "type": "contourcarpet"
           }
          ],
          "heatmap": [
           {
            "colorbar": {
             "outlinewidth": 0,
             "ticks": ""
            },
            "colorscale": [
             [
              0,
              "#0d0887"
             ],
             [
              0.1111111111111111,
              "#46039f"
             ],
             [
              0.2222222222222222,
              "#7201a8"
             ],
             [
              0.3333333333333333,
              "#9c179e"
             ],
             [
              0.4444444444444444,
              "#bd3786"
             ],
             [
              0.5555555555555556,
              "#d8576b"
             ],
             [
              0.6666666666666666,
              "#ed7953"
             ],
             [
              0.7777777777777778,
              "#fb9f3a"
             ],
             [
              0.8888888888888888,
              "#fdca26"
             ],
             [
              1,
              "#f0f921"
             ]
            ],
            "type": "heatmap"
           }
          ],
          "heatmapgl": [
           {
            "colorbar": {
             "outlinewidth": 0,
             "ticks": ""
            },
            "colorscale": [
             [
              0,
              "#0d0887"
             ],
             [
              0.1111111111111111,
              "#46039f"
             ],
             [
              0.2222222222222222,
              "#7201a8"
             ],
             [
              0.3333333333333333,
              "#9c179e"
             ],
             [
              0.4444444444444444,
              "#bd3786"
             ],
             [
              0.5555555555555556,
              "#d8576b"
             ],
             [
              0.6666666666666666,
              "#ed7953"
             ],
             [
              0.7777777777777778,
              "#fb9f3a"
             ],
             [
              0.8888888888888888,
              "#fdca26"
             ],
             [
              1,
              "#f0f921"
             ]
            ],
            "type": "heatmapgl"
           }
          ],
          "histogram": [
           {
            "marker": {
             "pattern": {
              "fillmode": "overlay",
              "size": 10,
              "solidity": 0.2
             }
            },
            "type": "histogram"
           }
          ],
          "histogram2d": [
           {
            "colorbar": {
             "outlinewidth": 0,
             "ticks": ""
            },
            "colorscale": [
             [
              0,
              "#0d0887"
             ],
             [
              0.1111111111111111,
              "#46039f"
             ],
             [
              0.2222222222222222,
              "#7201a8"
             ],
             [
              0.3333333333333333,
              "#9c179e"
             ],
             [
              0.4444444444444444,
              "#bd3786"
             ],
             [
              0.5555555555555556,
              "#d8576b"
             ],
             [
              0.6666666666666666,
              "#ed7953"
             ],
             [
              0.7777777777777778,
              "#fb9f3a"
             ],
             [
              0.8888888888888888,
              "#fdca26"
             ],
             [
              1,
              "#f0f921"
             ]
            ],
            "type": "histogram2d"
           }
          ],
          "histogram2dcontour": [
           {
            "colorbar": {
             "outlinewidth": 0,
             "ticks": ""
            },
            "colorscale": [
             [
              0,
              "#0d0887"
             ],
             [
              0.1111111111111111,
              "#46039f"
             ],
             [
              0.2222222222222222,
              "#7201a8"
             ],
             [
              0.3333333333333333,
              "#9c179e"
             ],
             [
              0.4444444444444444,
              "#bd3786"
             ],
             [
              0.5555555555555556,
              "#d8576b"
             ],
             [
              0.6666666666666666,
              "#ed7953"
             ],
             [
              0.7777777777777778,
              "#fb9f3a"
             ],
             [
              0.8888888888888888,
              "#fdca26"
             ],
             [
              1,
              "#f0f921"
             ]
            ],
            "type": "histogram2dcontour"
           }
          ],
          "mesh3d": [
           {
            "colorbar": {
             "outlinewidth": 0,
             "ticks": ""
            },
            "type": "mesh3d"
           }
          ],
          "parcoords": [
           {
            "line": {
             "colorbar": {
              "outlinewidth": 0,
              "ticks": ""
             }
            },
            "type": "parcoords"
           }
          ],
          "pie": [
           {
            "automargin": true,
            "type": "pie"
           }
          ],
          "scatter": [
           {
            "fillpattern": {
             "fillmode": "overlay",
             "size": 10,
             "solidity": 0.2
            },
            "type": "scatter"
           }
          ],
          "scatter3d": [
           {
            "line": {
             "colorbar": {
              "outlinewidth": 0,
              "ticks": ""
             }
            },
            "marker": {
             "colorbar": {
              "outlinewidth": 0,
              "ticks": ""
             }
            },
            "type": "scatter3d"
           }
          ],
          "scattercarpet": [
           {
            "marker": {
             "colorbar": {
              "outlinewidth": 0,
              "ticks": ""
             }
            },
            "type": "scattercarpet"
           }
          ],
          "scattergeo": [
           {
            "marker": {
             "colorbar": {
              "outlinewidth": 0,
              "ticks": ""
             }
            },
            "type": "scattergeo"
           }
          ],
          "scattergl": [
           {
            "marker": {
             "colorbar": {
              "outlinewidth": 0,
              "ticks": ""
             }
            },
            "type": "scattergl"
           }
          ],
          "scattermapbox": [
           {
            "marker": {
             "colorbar": {
              "outlinewidth": 0,
              "ticks": ""
             }
            },
            "type": "scattermapbox"
           }
          ],
          "scatterpolar": [
           {
            "marker": {
             "colorbar": {
              "outlinewidth": 0,
              "ticks": ""
             }
            },
            "type": "scatterpolar"
           }
          ],
          "scatterpolargl": [
           {
            "marker": {
             "colorbar": {
              "outlinewidth": 0,
              "ticks": ""
             }
            },
            "type": "scatterpolargl"
           }
          ],
          "scatterternary": [
           {
            "marker": {
             "colorbar": {
              "outlinewidth": 0,
              "ticks": ""
             }
            },
            "type": "scatterternary"
           }
          ],
          "surface": [
           {
            "colorbar": {
             "outlinewidth": 0,
             "ticks": ""
            },
            "colorscale": [
             [
              0,
              "#0d0887"
             ],
             [
              0.1111111111111111,
              "#46039f"
             ],
             [
              0.2222222222222222,
              "#7201a8"
             ],
             [
              0.3333333333333333,
              "#9c179e"
             ],
             [
              0.4444444444444444,
              "#bd3786"
             ],
             [
              0.5555555555555556,
              "#d8576b"
             ],
             [
              0.6666666666666666,
              "#ed7953"
             ],
             [
              0.7777777777777778,
              "#fb9f3a"
             ],
             [
              0.8888888888888888,
              "#fdca26"
             ],
             [
              1,
              "#f0f921"
             ]
            ],
            "type": "surface"
           }
          ],
          "table": [
           {
            "cells": {
             "fill": {
              "color": "#EBF0F8"
             },
             "line": {
              "color": "white"
             }
            },
            "header": {
             "fill": {
              "color": "#C8D4E3"
             },
             "line": {
              "color": "white"
             }
            },
            "type": "table"
           }
          ]
         },
         "layout": {
          "annotationdefaults": {
           "arrowcolor": "#2a3f5f",
           "arrowhead": 0,
           "arrowwidth": 1
          },
          "autotypenumbers": "strict",
          "coloraxis": {
           "colorbar": {
            "outlinewidth": 0,
            "ticks": ""
           }
          },
          "colorscale": {
           "diverging": [
            [
             0,
             "#8e0152"
            ],
            [
             0.1,
             "#c51b7d"
            ],
            [
             0.2,
             "#de77ae"
            ],
            [
             0.3,
             "#f1b6da"
            ],
            [
             0.4,
             "#fde0ef"
            ],
            [
             0.5,
             "#f7f7f7"
            ],
            [
             0.6,
             "#e6f5d0"
            ],
            [
             0.7,
             "#b8e186"
            ],
            [
             0.8,
             "#7fbc41"
            ],
            [
             0.9,
             "#4d9221"
            ],
            [
             1,
             "#276419"
            ]
           ],
           "sequential": [
            [
             0,
             "#0d0887"
            ],
            [
             0.1111111111111111,
             "#46039f"
            ],
            [
             0.2222222222222222,
             "#7201a8"
            ],
            [
             0.3333333333333333,
             "#9c179e"
            ],
            [
             0.4444444444444444,
             "#bd3786"
            ],
            [
             0.5555555555555556,
             "#d8576b"
            ],
            [
             0.6666666666666666,
             "#ed7953"
            ],
            [
             0.7777777777777778,
             "#fb9f3a"
            ],
            [
             0.8888888888888888,
             "#fdca26"
            ],
            [
             1,
             "#f0f921"
            ]
           ],
           "sequentialminus": [
            [
             0,
             "#0d0887"
            ],
            [
             0.1111111111111111,
             "#46039f"
            ],
            [
             0.2222222222222222,
             "#7201a8"
            ],
            [
             0.3333333333333333,
             "#9c179e"
            ],
            [
             0.4444444444444444,
             "#bd3786"
            ],
            [
             0.5555555555555556,
             "#d8576b"
            ],
            [
             0.6666666666666666,
             "#ed7953"
            ],
            [
             0.7777777777777778,
             "#fb9f3a"
            ],
            [
             0.8888888888888888,
             "#fdca26"
            ],
            [
             1,
             "#f0f921"
            ]
           ]
          },
          "colorway": [
           "#636efa",
           "#EF553B",
           "#00cc96",
           "#ab63fa",
           "#FFA15A",
           "#19d3f3",
           "#FF6692",
           "#B6E880",
           "#FF97FF",
           "#FECB52"
          ],
          "font": {
           "color": "#2a3f5f"
          },
          "geo": {
           "bgcolor": "white",
           "lakecolor": "white",
           "landcolor": "#E5ECF6",
           "showlakes": true,
           "showland": true,
           "subunitcolor": "white"
          },
          "hoverlabel": {
           "align": "left"
          },
          "hovermode": "closest",
          "mapbox": {
           "style": "light"
          },
          "paper_bgcolor": "white",
          "plot_bgcolor": "#E5ECF6",
          "polar": {
           "angularaxis": {
            "gridcolor": "white",
            "linecolor": "white",
            "ticks": ""
           },
           "bgcolor": "#E5ECF6",
           "radialaxis": {
            "gridcolor": "white",
            "linecolor": "white",
            "ticks": ""
           }
          },
          "scene": {
           "xaxis": {
            "backgroundcolor": "#E5ECF6",
            "gridcolor": "white",
            "gridwidth": 2,
            "linecolor": "white",
            "showbackground": true,
            "ticks": "",
            "zerolinecolor": "white"
           },
           "yaxis": {
            "backgroundcolor": "#E5ECF6",
            "gridcolor": "white",
            "gridwidth": 2,
            "linecolor": "white",
            "showbackground": true,
            "ticks": "",
            "zerolinecolor": "white"
           },
           "zaxis": {
            "backgroundcolor": "#E5ECF6",
            "gridcolor": "white",
            "gridwidth": 2,
            "linecolor": "white",
            "showbackground": true,
            "ticks": "",
            "zerolinecolor": "white"
           }
          },
          "shapedefaults": {
           "line": {
            "color": "#2a3f5f"
           }
          },
          "ternary": {
           "aaxis": {
            "gridcolor": "white",
            "linecolor": "white",
            "ticks": ""
           },
           "baxis": {
            "gridcolor": "white",
            "linecolor": "white",
            "ticks": ""
           },
           "bgcolor": "#E5ECF6",
           "caxis": {
            "gridcolor": "white",
            "linecolor": "white",
            "ticks": ""
           }
          },
          "title": {
           "x": 0.05
          },
          "xaxis": {
           "automargin": true,
           "gridcolor": "white",
           "linecolor": "white",
           "ticks": "",
           "title": {
            "standoff": 15
           },
           "zerolinecolor": "white",
           "zerolinewidth": 2
          },
          "yaxis": {
           "automargin": true,
           "gridcolor": "white",
           "linecolor": "white",
           "ticks": "",
           "title": {
            "standoff": 15
           },
           "zerolinecolor": "white",
           "zerolinewidth": 2
          }
         }
        },
        "title": {
         "text": "Optimization History Plot"
        },
        "xaxis": {
         "title": {
          "text": "Trial"
         }
        },
        "yaxis": {
         "title": {
          "text": "Objective Value"
         }
        }
       }
      }
     },
     "metadata": {},
     "output_type": "display_data"
    }
   ],
   "source": [
    "optuna.visualization.plot_optimization_history(study)"
   ]
  },
  {
   "cell_type": "code",
   "execution_count": 56,
   "metadata": {},
   "outputs": [
    {
     "data": {
      "application/vnd.plotly.v1+json": {
       "config": {
        "plotlyServerURL": "https://plot.ly"
       },
       "data": [
        {
         "cliponaxis": false,
         "hovertemplate": [
          "learning_rate (FloatDistribution): 0.022831183493063453<extra></extra>",
          "max_depth (IntDistribution): 0.05843976329350845<extra></extra>",
          "reg_alpha (FloatDistribution): 0.07016252843176111<extra></extra>",
          "colsample_bytree (FloatDistribution): 0.10667849245407518<extra></extra>",
          "subsample (FloatDistribution): 0.13011553220085365<extra></extra>",
          "min_child_weight (IntDistribution): 0.19549599259845163<extra></extra>",
          "reg_lambda (FloatDistribution): 0.4162765075282867<extra></extra>"
         ],
         "marker": {
          "color": "rgb(66,146,198)"
         },
         "orientation": "h",
         "text": [
          "0.02",
          "0.06",
          "0.07",
          "0.11",
          "0.13",
          "0.20",
          "0.42"
         ],
         "textposition": "outside",
         "type": "bar",
         "x": [
          0.022831183493063453,
          0.05843976329350845,
          0.07016252843176111,
          0.10667849245407518,
          0.13011553220085365,
          0.19549599259845163,
          0.4162765075282867
         ],
         "y": [
          "learning_rate",
          "max_depth",
          "reg_alpha",
          "colsample_bytree",
          "subsample",
          "min_child_weight",
          "reg_lambda"
         ]
        }
       ],
       "layout": {
        "showlegend": false,
        "template": {
         "data": {
          "bar": [
           {
            "error_x": {
             "color": "#2a3f5f"
            },
            "error_y": {
             "color": "#2a3f5f"
            },
            "marker": {
             "line": {
              "color": "#E5ECF6",
              "width": 0.5
             },
             "pattern": {
              "fillmode": "overlay",
              "size": 10,
              "solidity": 0.2
             }
            },
            "type": "bar"
           }
          ],
          "barpolar": [
           {
            "marker": {
             "line": {
              "color": "#E5ECF6",
              "width": 0.5
             },
             "pattern": {
              "fillmode": "overlay",
              "size": 10,
              "solidity": 0.2
             }
            },
            "type": "barpolar"
           }
          ],
          "carpet": [
           {
            "aaxis": {
             "endlinecolor": "#2a3f5f",
             "gridcolor": "white",
             "linecolor": "white",
             "minorgridcolor": "white",
             "startlinecolor": "#2a3f5f"
            },
            "baxis": {
             "endlinecolor": "#2a3f5f",
             "gridcolor": "white",
             "linecolor": "white",
             "minorgridcolor": "white",
             "startlinecolor": "#2a3f5f"
            },
            "type": "carpet"
           }
          ],
          "choropleth": [
           {
            "colorbar": {
             "outlinewidth": 0,
             "ticks": ""
            },
            "type": "choropleth"
           }
          ],
          "contour": [
           {
            "colorbar": {
             "outlinewidth": 0,
             "ticks": ""
            },
            "colorscale": [
             [
              0,
              "#0d0887"
             ],
             [
              0.1111111111111111,
              "#46039f"
             ],
             [
              0.2222222222222222,
              "#7201a8"
             ],
             [
              0.3333333333333333,
              "#9c179e"
             ],
             [
              0.4444444444444444,
              "#bd3786"
             ],
             [
              0.5555555555555556,
              "#d8576b"
             ],
             [
              0.6666666666666666,
              "#ed7953"
             ],
             [
              0.7777777777777778,
              "#fb9f3a"
             ],
             [
              0.8888888888888888,
              "#fdca26"
             ],
             [
              1,
              "#f0f921"
             ]
            ],
            "type": "contour"
           }
          ],
          "contourcarpet": [
           {
            "colorbar": {
             "outlinewidth": 0,
             "ticks": ""
            },
            "type": "contourcarpet"
           }
          ],
          "heatmap": [
           {
            "colorbar": {
             "outlinewidth": 0,
             "ticks": ""
            },
            "colorscale": [
             [
              0,
              "#0d0887"
             ],
             [
              0.1111111111111111,
              "#46039f"
             ],
             [
              0.2222222222222222,
              "#7201a8"
             ],
             [
              0.3333333333333333,
              "#9c179e"
             ],
             [
              0.4444444444444444,
              "#bd3786"
             ],
             [
              0.5555555555555556,
              "#d8576b"
             ],
             [
              0.6666666666666666,
              "#ed7953"
             ],
             [
              0.7777777777777778,
              "#fb9f3a"
             ],
             [
              0.8888888888888888,
              "#fdca26"
             ],
             [
              1,
              "#f0f921"
             ]
            ],
            "type": "heatmap"
           }
          ],
          "heatmapgl": [
           {
            "colorbar": {
             "outlinewidth": 0,
             "ticks": ""
            },
            "colorscale": [
             [
              0,
              "#0d0887"
             ],
             [
              0.1111111111111111,
              "#46039f"
             ],
             [
              0.2222222222222222,
              "#7201a8"
             ],
             [
              0.3333333333333333,
              "#9c179e"
             ],
             [
              0.4444444444444444,
              "#bd3786"
             ],
             [
              0.5555555555555556,
              "#d8576b"
             ],
             [
              0.6666666666666666,
              "#ed7953"
             ],
             [
              0.7777777777777778,
              "#fb9f3a"
             ],
             [
              0.8888888888888888,
              "#fdca26"
             ],
             [
              1,
              "#f0f921"
             ]
            ],
            "type": "heatmapgl"
           }
          ],
          "histogram": [
           {
            "marker": {
             "pattern": {
              "fillmode": "overlay",
              "size": 10,
              "solidity": 0.2
             }
            },
            "type": "histogram"
           }
          ],
          "histogram2d": [
           {
            "colorbar": {
             "outlinewidth": 0,
             "ticks": ""
            },
            "colorscale": [
             [
              0,
              "#0d0887"
             ],
             [
              0.1111111111111111,
              "#46039f"
             ],
             [
              0.2222222222222222,
              "#7201a8"
             ],
             [
              0.3333333333333333,
              "#9c179e"
             ],
             [
              0.4444444444444444,
              "#bd3786"
             ],
             [
              0.5555555555555556,
              "#d8576b"
             ],
             [
              0.6666666666666666,
              "#ed7953"
             ],
             [
              0.7777777777777778,
              "#fb9f3a"
             ],
             [
              0.8888888888888888,
              "#fdca26"
             ],
             [
              1,
              "#f0f921"
             ]
            ],
            "type": "histogram2d"
           }
          ],
          "histogram2dcontour": [
           {
            "colorbar": {
             "outlinewidth": 0,
             "ticks": ""
            },
            "colorscale": [
             [
              0,
              "#0d0887"
             ],
             [
              0.1111111111111111,
              "#46039f"
             ],
             [
              0.2222222222222222,
              "#7201a8"
             ],
             [
              0.3333333333333333,
              "#9c179e"
             ],
             [
              0.4444444444444444,
              "#bd3786"
             ],
             [
              0.5555555555555556,
              "#d8576b"
             ],
             [
              0.6666666666666666,
              "#ed7953"
             ],
             [
              0.7777777777777778,
              "#fb9f3a"
             ],
             [
              0.8888888888888888,
              "#fdca26"
             ],
             [
              1,
              "#f0f921"
             ]
            ],
            "type": "histogram2dcontour"
           }
          ],
          "mesh3d": [
           {
            "colorbar": {
             "outlinewidth": 0,
             "ticks": ""
            },
            "type": "mesh3d"
           }
          ],
          "parcoords": [
           {
            "line": {
             "colorbar": {
              "outlinewidth": 0,
              "ticks": ""
             }
            },
            "type": "parcoords"
           }
          ],
          "pie": [
           {
            "automargin": true,
            "type": "pie"
           }
          ],
          "scatter": [
           {
            "fillpattern": {
             "fillmode": "overlay",
             "size": 10,
             "solidity": 0.2
            },
            "type": "scatter"
           }
          ],
          "scatter3d": [
           {
            "line": {
             "colorbar": {
              "outlinewidth": 0,
              "ticks": ""
             }
            },
            "marker": {
             "colorbar": {
              "outlinewidth": 0,
              "ticks": ""
             }
            },
            "type": "scatter3d"
           }
          ],
          "scattercarpet": [
           {
            "marker": {
             "colorbar": {
              "outlinewidth": 0,
              "ticks": ""
             }
            },
            "type": "scattercarpet"
           }
          ],
          "scattergeo": [
           {
            "marker": {
             "colorbar": {
              "outlinewidth": 0,
              "ticks": ""
             }
            },
            "type": "scattergeo"
           }
          ],
          "scattergl": [
           {
            "marker": {
             "colorbar": {
              "outlinewidth": 0,
              "ticks": ""
             }
            },
            "type": "scattergl"
           }
          ],
          "scattermapbox": [
           {
            "marker": {
             "colorbar": {
              "outlinewidth": 0,
              "ticks": ""
             }
            },
            "type": "scattermapbox"
           }
          ],
          "scatterpolar": [
           {
            "marker": {
             "colorbar": {
              "outlinewidth": 0,
              "ticks": ""
             }
            },
            "type": "scatterpolar"
           }
          ],
          "scatterpolargl": [
           {
            "marker": {
             "colorbar": {
              "outlinewidth": 0,
              "ticks": ""
             }
            },
            "type": "scatterpolargl"
           }
          ],
          "scatterternary": [
           {
            "marker": {
             "colorbar": {
              "outlinewidth": 0,
              "ticks": ""
             }
            },
            "type": "scatterternary"
           }
          ],
          "surface": [
           {
            "colorbar": {
             "outlinewidth": 0,
             "ticks": ""
            },
            "colorscale": [
             [
              0,
              "#0d0887"
             ],
             [
              0.1111111111111111,
              "#46039f"
             ],
             [
              0.2222222222222222,
              "#7201a8"
             ],
             [
              0.3333333333333333,
              "#9c179e"
             ],
             [
              0.4444444444444444,
              "#bd3786"
             ],
             [
              0.5555555555555556,
              "#d8576b"
             ],
             [
              0.6666666666666666,
              "#ed7953"
             ],
             [
              0.7777777777777778,
              "#fb9f3a"
             ],
             [
              0.8888888888888888,
              "#fdca26"
             ],
             [
              1,
              "#f0f921"
             ]
            ],
            "type": "surface"
           }
          ],
          "table": [
           {
            "cells": {
             "fill": {
              "color": "#EBF0F8"
             },
             "line": {
              "color": "white"
             }
            },
            "header": {
             "fill": {
              "color": "#C8D4E3"
             },
             "line": {
              "color": "white"
             }
            },
            "type": "table"
           }
          ]
         },
         "layout": {
          "annotationdefaults": {
           "arrowcolor": "#2a3f5f",
           "arrowhead": 0,
           "arrowwidth": 1
          },
          "autotypenumbers": "strict",
          "coloraxis": {
           "colorbar": {
            "outlinewidth": 0,
            "ticks": ""
           }
          },
          "colorscale": {
           "diverging": [
            [
             0,
             "#8e0152"
            ],
            [
             0.1,
             "#c51b7d"
            ],
            [
             0.2,
             "#de77ae"
            ],
            [
             0.3,
             "#f1b6da"
            ],
            [
             0.4,
             "#fde0ef"
            ],
            [
             0.5,
             "#f7f7f7"
            ],
            [
             0.6,
             "#e6f5d0"
            ],
            [
             0.7,
             "#b8e186"
            ],
            [
             0.8,
             "#7fbc41"
            ],
            [
             0.9,
             "#4d9221"
            ],
            [
             1,
             "#276419"
            ]
           ],
           "sequential": [
            [
             0,
             "#0d0887"
            ],
            [
             0.1111111111111111,
             "#46039f"
            ],
            [
             0.2222222222222222,
             "#7201a8"
            ],
            [
             0.3333333333333333,
             "#9c179e"
            ],
            [
             0.4444444444444444,
             "#bd3786"
            ],
            [
             0.5555555555555556,
             "#d8576b"
            ],
            [
             0.6666666666666666,
             "#ed7953"
            ],
            [
             0.7777777777777778,
             "#fb9f3a"
            ],
            [
             0.8888888888888888,
             "#fdca26"
            ],
            [
             1,
             "#f0f921"
            ]
           ],
           "sequentialminus": [
            [
             0,
             "#0d0887"
            ],
            [
             0.1111111111111111,
             "#46039f"
            ],
            [
             0.2222222222222222,
             "#7201a8"
            ],
            [
             0.3333333333333333,
             "#9c179e"
            ],
            [
             0.4444444444444444,
             "#bd3786"
            ],
            [
             0.5555555555555556,
             "#d8576b"
            ],
            [
             0.6666666666666666,
             "#ed7953"
            ],
            [
             0.7777777777777778,
             "#fb9f3a"
            ],
            [
             0.8888888888888888,
             "#fdca26"
            ],
            [
             1,
             "#f0f921"
            ]
           ]
          },
          "colorway": [
           "#636efa",
           "#EF553B",
           "#00cc96",
           "#ab63fa",
           "#FFA15A",
           "#19d3f3",
           "#FF6692",
           "#B6E880",
           "#FF97FF",
           "#FECB52"
          ],
          "font": {
           "color": "#2a3f5f"
          },
          "geo": {
           "bgcolor": "white",
           "lakecolor": "white",
           "landcolor": "#E5ECF6",
           "showlakes": true,
           "showland": true,
           "subunitcolor": "white"
          },
          "hoverlabel": {
           "align": "left"
          },
          "hovermode": "closest",
          "mapbox": {
           "style": "light"
          },
          "paper_bgcolor": "white",
          "plot_bgcolor": "#E5ECF6",
          "polar": {
           "angularaxis": {
            "gridcolor": "white",
            "linecolor": "white",
            "ticks": ""
           },
           "bgcolor": "#E5ECF6",
           "radialaxis": {
            "gridcolor": "white",
            "linecolor": "white",
            "ticks": ""
           }
          },
          "scene": {
           "xaxis": {
            "backgroundcolor": "#E5ECF6",
            "gridcolor": "white",
            "gridwidth": 2,
            "linecolor": "white",
            "showbackground": true,
            "ticks": "",
            "zerolinecolor": "white"
           },
           "yaxis": {
            "backgroundcolor": "#E5ECF6",
            "gridcolor": "white",
            "gridwidth": 2,
            "linecolor": "white",
            "showbackground": true,
            "ticks": "",
            "zerolinecolor": "white"
           },
           "zaxis": {
            "backgroundcolor": "#E5ECF6",
            "gridcolor": "white",
            "gridwidth": 2,
            "linecolor": "white",
            "showbackground": true,
            "ticks": "",
            "zerolinecolor": "white"
           }
          },
          "shapedefaults": {
           "line": {
            "color": "#2a3f5f"
           }
          },
          "ternary": {
           "aaxis": {
            "gridcolor": "white",
            "linecolor": "white",
            "ticks": ""
           },
           "baxis": {
            "gridcolor": "white",
            "linecolor": "white",
            "ticks": ""
           },
           "bgcolor": "#E5ECF6",
           "caxis": {
            "gridcolor": "white",
            "linecolor": "white",
            "ticks": ""
           }
          },
          "title": {
           "x": 0.05
          },
          "xaxis": {
           "automargin": true,
           "gridcolor": "white",
           "linecolor": "white",
           "ticks": "",
           "title": {
            "standoff": 15
           },
           "zerolinecolor": "white",
           "zerolinewidth": 2
          },
          "yaxis": {
           "automargin": true,
           "gridcolor": "white",
           "linecolor": "white",
           "ticks": "",
           "title": {
            "standoff": 15
           },
           "zerolinecolor": "white",
           "zerolinewidth": 2
          }
         }
        },
        "title": {
         "text": "Hyperparameter Importances"
        },
        "xaxis": {
         "title": {
          "text": "Importance for Objective Value"
         }
        },
        "yaxis": {
         "title": {
          "text": "Hyperparameter"
         }
        }
       }
      }
     },
     "metadata": {},
     "output_type": "display_data"
    }
   ],
   "source": [
    "optuna.visualization.plot_param_importances(study)"
   ]
  },
  {
   "cell_type": "code",
   "execution_count": 57,
   "metadata": {},
   "outputs": [
    {
     "data": {
      "text/plain": [
       "{'reg_alpha': 0.004468442422020436,\n",
       " 'reg_lambda': 0.002903835410142105,\n",
       " 'colsample_bytree': 0.5,\n",
       " 'subsample': 1.0,\n",
       " 'learning_rate': 0.002,\n",
       " 'max_depth': 10,\n",
       " 'min_child_weight': 18,\n",
       " 'eval_metric': 'rmse',\n",
       " 'early_stopping_rounds': 300,\n",
       " 'random_state': 10,\n",
       " 'n_estimators': 3000,\n",
       " 'n_jobs': -1}"
      ]
     },
     "execution_count": 57,
     "metadata": {},
     "output_type": "execute_result"
    }
   ],
   "source": [
    "params=study.best_params\n",
    "params['eval_metric'] = 'rmse'\n",
    "params['early_stopping_rounds'] = 300\n",
    "params['random_state'] = 10\n",
    "params['n_estimators'] = 3000\n",
    "params['n_jobs'] = -1\n",
    "\n",
    "params"
   ]
  },
  {
   "cell_type": "code",
   "execution_count": 58,
   "metadata": {},
   "outputs": [
    {
     "name": "stdout",
     "output_type": "stream",
     "text": [
      "trial 1: 29.89609\n",
      "trial 2: 31.1794\n",
      "trial 3: 31.14594\n",
      "trial 4: 31.88265\n",
      "trial 5: 31.84103\n",
      "trial 6: 29.77683\n",
      "trial 7: 29.86281\n",
      "trial 8: 31.29937\n",
      "trial 9: 31.66857\n",
      "trial 10: 33.58527\n",
      "\n",
      "average: 31.2138\n"
     ]
    }
   ],
   "source": [
    "from sklearn.model_selection import KFold\n",
    "\n",
    "kf = KFold(n_splits=cross_val_times, random_state=42, shuffle=True)\n",
    "preds_HLM = np.zeros(df_test.shape[0])\n",
    "rmse=[]\n",
    "n=0\n",
    "\n",
    "def RMSE_expm1(y_pred, y_true):\n",
    "    return np.sqrt(np.mean(np.square(np.expm1(y_pred) - np.expm1(y_true))))\n",
    "\n",
    "for trn_idx, test_idx in kf.split(df_train, df_train_target_HLM):\n",
    "    X_tr, X_val=df_train.iloc[trn_idx], df_train.iloc[test_idx]\n",
    "    y_tr, y_val=df_train_target_HLM.iloc[trn_idx], df_train_target_HLM.iloc[test_idx]\n",
    "\n",
    "    model = XGBRegressor(**params)\n",
    "    model.fit(X_tr, y_tr, eval_set=[(X_val,y_val)], verbose=False)\n",
    "    preds_HLM+=model.predict(df_test)/kf.n_splits\n",
    "\n",
    "    if target_log_on_off == 'on':\n",
    "        rmse.append(RMSE_expm1(y_val, model.predict(X_val)))\n",
    "    else:\n",
    "        rmse.append(mean_squared_error(y_val, model.predict(X_val), squared=False))\n",
    "\n",
    "    print(f'trial {n+1}:', round(rmse[n], 5))\n",
    "    n+=1\n",
    "\n",
    "HLM_cv = round(np.mean(rmse), 5)\n",
    "print(f'\\naverage: {HLM_cv}')"
   ]
  },
  {
   "cell_type": "markdown",
   "metadata": {},
   "source": [
    "## export csv"
   ]
  },
  {
   "cell_type": "code",
   "execution_count": 59,
   "metadata": {},
   "outputs": [],
   "source": [
    "# 로그 변환 후 역변환\n",
    "if target_log_on_off == 'on':\n",
    "    df_sample['MLM'] = np.expm1(preds_MLM)\n",
    "    df_sample['HLM'] = np.expm1(preds_HLM)\n",
    "else:\n",
    "    df_sample['MLM'] = preds_MLM\n",
    "    df_sample['HLM'] = preds_HLM\n",
    "\n",
    "cv = round((MLM_cv + MLM_cv) / 2, 3)\n",
    "\n",
    "df_sample.to_csv(f\"./submission/submission_05_targetlog-{target_log_on_off}_study{num_of_study}_cv{cv}.csv\", index = False, encoding = \"utf-8-sig\")"
   ]
  },
  {
   "cell_type": "code",
   "execution_count": 60,
   "metadata": {},
   "outputs": [
    {
     "data": {
      "text/html": [
       "<div>\n",
       "<style scoped>\n",
       "    .dataframe tbody tr th:only-of-type {\n",
       "        vertical-align: middle;\n",
       "    }\n",
       "\n",
       "    .dataframe tbody tr th {\n",
       "        vertical-align: top;\n",
       "    }\n",
       "\n",
       "    .dataframe thead th {\n",
       "        text-align: right;\n",
       "    }\n",
       "</style>\n",
       "<table border=\"1\" class=\"dataframe\">\n",
       "  <thead>\n",
       "    <tr style=\"text-align: right;\">\n",
       "      <th></th>\n",
       "      <th>id</th>\n",
       "      <th>MLM</th>\n",
       "      <th>HLM</th>\n",
       "    </tr>\n",
       "  </thead>\n",
       "  <tbody>\n",
       "    <tr>\n",
       "      <th>0</th>\n",
       "      <td>TEST_000</td>\n",
       "      <td>25.485986</td>\n",
       "      <td>47.956054</td>\n",
       "    </tr>\n",
       "    <tr>\n",
       "      <th>1</th>\n",
       "      <td>TEST_001</td>\n",
       "      <td>57.827649</td>\n",
       "      <td>74.850831</td>\n",
       "    </tr>\n",
       "    <tr>\n",
       "      <th>2</th>\n",
       "      <td>TEST_002</td>\n",
       "      <td>34.601564</td>\n",
       "      <td>47.553239</td>\n",
       "    </tr>\n",
       "    <tr>\n",
       "      <th>3</th>\n",
       "      <td>TEST_003</td>\n",
       "      <td>46.295405</td>\n",
       "      <td>75.020906</td>\n",
       "    </tr>\n",
       "    <tr>\n",
       "      <th>4</th>\n",
       "      <td>TEST_004</td>\n",
       "      <td>68.833456</td>\n",
       "      <td>80.782045</td>\n",
       "    </tr>\n",
       "    <tr>\n",
       "      <th>...</th>\n",
       "      <td>...</td>\n",
       "      <td>...</td>\n",
       "      <td>...</td>\n",
       "    </tr>\n",
       "    <tr>\n",
       "      <th>478</th>\n",
       "      <td>TEST_478</td>\n",
       "      <td>16.139589</td>\n",
       "      <td>39.210171</td>\n",
       "    </tr>\n",
       "    <tr>\n",
       "      <th>479</th>\n",
       "      <td>TEST_479</td>\n",
       "      <td>78.520260</td>\n",
       "      <td>85.702877</td>\n",
       "    </tr>\n",
       "    <tr>\n",
       "      <th>480</th>\n",
       "      <td>TEST_480</td>\n",
       "      <td>52.666646</td>\n",
       "      <td>68.970022</td>\n",
       "    </tr>\n",
       "    <tr>\n",
       "      <th>481</th>\n",
       "      <td>TEST_481</td>\n",
       "      <td>63.921368</td>\n",
       "      <td>74.430436</td>\n",
       "    </tr>\n",
       "    <tr>\n",
       "      <th>482</th>\n",
       "      <td>TEST_482</td>\n",
       "      <td>26.024881</td>\n",
       "      <td>63.951231</td>\n",
       "    </tr>\n",
       "  </tbody>\n",
       "</table>\n",
       "<p>483 rows × 3 columns</p>\n",
       "</div>"
      ],
      "text/plain": [
       "           id        MLM        HLM\n",
       "0    TEST_000  25.485986  47.956054\n",
       "1    TEST_001  57.827649  74.850831\n",
       "2    TEST_002  34.601564  47.553239\n",
       "3    TEST_003  46.295405  75.020906\n",
       "4    TEST_004  68.833456  80.782045\n",
       "..        ...        ...        ...\n",
       "478  TEST_478  16.139589  39.210171\n",
       "479  TEST_479  78.520260  85.702877\n",
       "480  TEST_480  52.666646  68.970022\n",
       "481  TEST_481  63.921368  74.430436\n",
       "482  TEST_482  26.024881  63.951231\n",
       "\n",
       "[483 rows x 3 columns]"
      ]
     },
     "execution_count": 60,
     "metadata": {},
     "output_type": "execute_result"
    }
   ],
   "source": [
    "df_sample"
   ]
  }
 ],
 "metadata": {
  "kernelspec": {
   "display_name": "base",
   "language": "python",
   "name": "python3"
  },
  "language_info": {
   "codemirror_mode": {
    "name": "ipython",
    "version": 3
   },
   "file_extension": ".py",
   "mimetype": "text/x-python",
   "name": "python",
   "nbconvert_exporter": "python",
   "pygments_lexer": "ipython3",
   "version": "3.10.9"
  },
  "orig_nbformat": 4
 },
 "nbformat": 4,
 "nbformat_minor": 2
}
