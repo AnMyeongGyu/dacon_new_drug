{
 "cells": [
  {
   "cell_type": "markdown",
   "metadata": {},
   "source": [
    "## data preprocessing"
   ]
  },
  {
   "cell_type": "code",
   "execution_count": 1,
   "metadata": {},
   "outputs": [],
   "source": [
    "# private settings\n",
    "num_of_study = 50\n",
    "target_log_on_off = 'off'\n",
    "cross_val_times = 10"
   ]
  },
  {
   "cell_type": "code",
   "execution_count": 2,
   "metadata": {},
   "outputs": [],
   "source": [
    "import pandas as pd\n",
    "import numpy as np\n",
    "import matplotlib.pyplot as plt\n",
    "import seaborn as sns\n",
    "from tqdm import tqdm\n",
    "\n",
    "import warnings\n",
    "warnings.filterwarnings(\"ignore\")"
   ]
  },
  {
   "cell_type": "code",
   "execution_count": 3,
   "metadata": {},
   "outputs": [
    {
     "data": {
      "text/html": [
       "<div>\n",
       "<style scoped>\n",
       "    .dataframe tbody tr th:only-of-type {\n",
       "        vertical-align: middle;\n",
       "    }\n",
       "\n",
       "    .dataframe tbody tr th {\n",
       "        vertical-align: top;\n",
       "    }\n",
       "\n",
       "    .dataframe thead th {\n",
       "        text-align: right;\n",
       "    }\n",
       "</style>\n",
       "<table border=\"1\" class=\"dataframe\">\n",
       "  <thead>\n",
       "    <tr style=\"text-align: right;\">\n",
       "      <th></th>\n",
       "      <th>id</th>\n",
       "      <th>SMILES</th>\n",
       "      <th>MLM</th>\n",
       "      <th>HLM</th>\n",
       "      <th>AlogP</th>\n",
       "      <th>Molecular_Weight</th>\n",
       "      <th>Num_H_Acceptors</th>\n",
       "      <th>Num_H_Donors</th>\n",
       "      <th>Num_RotatableBonds</th>\n",
       "      <th>LogD</th>\n",
       "      <th>Molecular_PolarSurfaceArea</th>\n",
       "    </tr>\n",
       "  </thead>\n",
       "  <tbody>\n",
       "    <tr>\n",
       "      <th>0</th>\n",
       "      <td>TRAIN_0000</td>\n",
       "      <td>CCOc1ccc(CNC(=O)c2cc(-c3sc(C)nc3C)n[nH]2)cc1OCC</td>\n",
       "      <td>26.010</td>\n",
       "      <td>50.680</td>\n",
       "      <td>3.259</td>\n",
       "      <td>400.495</td>\n",
       "      <td>5</td>\n",
       "      <td>2</td>\n",
       "      <td>8</td>\n",
       "      <td>3.259</td>\n",
       "      <td>117.37</td>\n",
       "    </tr>\n",
       "    <tr>\n",
       "      <th>1</th>\n",
       "      <td>TRAIN_0001</td>\n",
       "      <td>Cc1nc(C)c(CN2CC(C)C(=O)Nc3ccccc32)s1</td>\n",
       "      <td>29.270</td>\n",
       "      <td>50.590</td>\n",
       "      <td>2.169</td>\n",
       "      <td>301.407</td>\n",
       "      <td>2</td>\n",
       "      <td>1</td>\n",
       "      <td>2</td>\n",
       "      <td>2.172</td>\n",
       "      <td>73.47</td>\n",
       "    </tr>\n",
       "    <tr>\n",
       "      <th>2</th>\n",
       "      <td>TRAIN_0002</td>\n",
       "      <td>CCCN1CCN(c2nn3nnnc3c3ccccc23)CC1</td>\n",
       "      <td>5.586</td>\n",
       "      <td>80.892</td>\n",
       "      <td>1.593</td>\n",
       "      <td>297.358</td>\n",
       "      <td>5</td>\n",
       "      <td>0</td>\n",
       "      <td>3</td>\n",
       "      <td>1.585</td>\n",
       "      <td>62.45</td>\n",
       "    </tr>\n",
       "    <tr>\n",
       "      <th>3</th>\n",
       "      <td>TRAIN_0003</td>\n",
       "      <td>Cc1ccc(-c2ccc(-n3nc(C)c(S(=O)(=O)N4CCN(C5CCCCC...</td>\n",
       "      <td>5.710</td>\n",
       "      <td>2.000</td>\n",
       "      <td>4.771</td>\n",
       "      <td>494.652</td>\n",
       "      <td>6</td>\n",
       "      <td>0</td>\n",
       "      <td>5</td>\n",
       "      <td>3.475</td>\n",
       "      <td>92.60</td>\n",
       "    </tr>\n",
       "    <tr>\n",
       "      <th>4</th>\n",
       "      <td>TRAIN_0004</td>\n",
       "      <td>Cc1ccc2c(c1)N(C(=O)c1ccncc1)CC(C)O2</td>\n",
       "      <td>93.270</td>\n",
       "      <td>99.990</td>\n",
       "      <td>2.335</td>\n",
       "      <td>268.310</td>\n",
       "      <td>3</td>\n",
       "      <td>0</td>\n",
       "      <td>1</td>\n",
       "      <td>2.337</td>\n",
       "      <td>42.43</td>\n",
       "    </tr>\n",
       "    <tr>\n",
       "      <th>...</th>\n",
       "      <td>...</td>\n",
       "      <td>...</td>\n",
       "      <td>...</td>\n",
       "      <td>...</td>\n",
       "      <td>...</td>\n",
       "      <td>...</td>\n",
       "      <td>...</td>\n",
       "      <td>...</td>\n",
       "      <td>...</td>\n",
       "      <td>...</td>\n",
       "      <td>...</td>\n",
       "    </tr>\n",
       "    <tr>\n",
       "      <th>3493</th>\n",
       "      <td>TRAIN_3493</td>\n",
       "      <td>Cn1nc(CNC(=O)Cn2nc(C(F)(F)F)c3c2CCC3)c(Cl)c1Cl</td>\n",
       "      <td>1.556</td>\n",
       "      <td>3.079</td>\n",
       "      <td>3.409</td>\n",
       "      <td>396.195</td>\n",
       "      <td>3</td>\n",
       "      <td>1</td>\n",
       "      <td>5</td>\n",
       "      <td>3.409</td>\n",
       "      <td>64.74</td>\n",
       "    </tr>\n",
       "    <tr>\n",
       "      <th>3494</th>\n",
       "      <td>TRAIN_3494</td>\n",
       "      <td>CCn1[nH]cc/c1=N\\C(=O)c1nn(-c2ccccc2)c(=O)c2ccc...</td>\n",
       "      <td>35.560</td>\n",
       "      <td>47.630</td>\n",
       "      <td>1.912</td>\n",
       "      <td>359.381</td>\n",
       "      <td>4</td>\n",
       "      <td>1</td>\n",
       "      <td>3</td>\n",
       "      <td>1.844</td>\n",
       "      <td>77.37</td>\n",
       "    </tr>\n",
       "    <tr>\n",
       "      <th>3495</th>\n",
       "      <td>TRAIN_3495</td>\n",
       "      <td>CCOC(=O)CCCc1nc2cc(N)ccc2n1C</td>\n",
       "      <td>56.150</td>\n",
       "      <td>1.790</td>\n",
       "      <td>1.941</td>\n",
       "      <td>261.320</td>\n",
       "      <td>3</td>\n",
       "      <td>1</td>\n",
       "      <td>6</td>\n",
       "      <td>2.124</td>\n",
       "      <td>70.14</td>\n",
       "    </tr>\n",
       "    <tr>\n",
       "      <th>3496</th>\n",
       "      <td>TRAIN_3496</td>\n",
       "      <td>Nc1cc(C(=O)OCCC2CCOC2=O)cnc1Cl</td>\n",
       "      <td>0.030</td>\n",
       "      <td>2.770</td>\n",
       "      <td>0.989</td>\n",
       "      <td>284.696</td>\n",
       "      <td>5</td>\n",
       "      <td>1</td>\n",
       "      <td>5</td>\n",
       "      <td>0.989</td>\n",
       "      <td>91.51</td>\n",
       "    </tr>\n",
       "    <tr>\n",
       "      <th>3497</th>\n",
       "      <td>TRAIN_3497</td>\n",
       "      <td>COc1ccc(-c2nc(Cc3ccccc3)sc2C)cc1</td>\n",
       "      <td>0.450</td>\n",
       "      <td>2.650</td>\n",
       "      <td>4.321</td>\n",
       "      <td>295.399</td>\n",
       "      <td>2</td>\n",
       "      <td>0</td>\n",
       "      <td>4</td>\n",
       "      <td>4.321</td>\n",
       "      <td>50.36</td>\n",
       "    </tr>\n",
       "  </tbody>\n",
       "</table>\n",
       "<p>3498 rows × 11 columns</p>\n",
       "</div>"
      ],
      "text/plain": [
       "              id                                             SMILES     MLM  \\\n",
       "0     TRAIN_0000    CCOc1ccc(CNC(=O)c2cc(-c3sc(C)nc3C)n[nH]2)cc1OCC  26.010   \n",
       "1     TRAIN_0001               Cc1nc(C)c(CN2CC(C)C(=O)Nc3ccccc32)s1  29.270   \n",
       "2     TRAIN_0002                   CCCN1CCN(c2nn3nnnc3c3ccccc23)CC1   5.586   \n",
       "3     TRAIN_0003  Cc1ccc(-c2ccc(-n3nc(C)c(S(=O)(=O)N4CCN(C5CCCCC...   5.710   \n",
       "4     TRAIN_0004                Cc1ccc2c(c1)N(C(=O)c1ccncc1)CC(C)O2  93.270   \n",
       "...          ...                                                ...     ...   \n",
       "3493  TRAIN_3493     Cn1nc(CNC(=O)Cn2nc(C(F)(F)F)c3c2CCC3)c(Cl)c1Cl   1.556   \n",
       "3494  TRAIN_3494  CCn1[nH]cc/c1=N\\C(=O)c1nn(-c2ccccc2)c(=O)c2ccc...  35.560   \n",
       "3495  TRAIN_3495                       CCOC(=O)CCCc1nc2cc(N)ccc2n1C  56.150   \n",
       "3496  TRAIN_3496                     Nc1cc(C(=O)OCCC2CCOC2=O)cnc1Cl   0.030   \n",
       "3497  TRAIN_3497                   COc1ccc(-c2nc(Cc3ccccc3)sc2C)cc1   0.450   \n",
       "\n",
       "         HLM  AlogP  Molecular_Weight  Num_H_Acceptors  Num_H_Donors  \\\n",
       "0     50.680  3.259           400.495                5             2   \n",
       "1     50.590  2.169           301.407                2             1   \n",
       "2     80.892  1.593           297.358                5             0   \n",
       "3      2.000  4.771           494.652                6             0   \n",
       "4     99.990  2.335           268.310                3             0   \n",
       "...      ...    ...               ...              ...           ...   \n",
       "3493   3.079  3.409           396.195                3             1   \n",
       "3494  47.630  1.912           359.381                4             1   \n",
       "3495   1.790  1.941           261.320                3             1   \n",
       "3496   2.770  0.989           284.696                5             1   \n",
       "3497   2.650  4.321           295.399                2             0   \n",
       "\n",
       "      Num_RotatableBonds   LogD  Molecular_PolarSurfaceArea  \n",
       "0                      8  3.259                      117.37  \n",
       "1                      2  2.172                       73.47  \n",
       "2                      3  1.585                       62.45  \n",
       "3                      5  3.475                       92.60  \n",
       "4                      1  2.337                       42.43  \n",
       "...                  ...    ...                         ...  \n",
       "3493                   5  3.409                       64.74  \n",
       "3494                   3  1.844                       77.37  \n",
       "3495                   6  2.124                       70.14  \n",
       "3496                   5  0.989                       91.51  \n",
       "3497                   4  4.321                       50.36  \n",
       "\n",
       "[3498 rows x 11 columns]"
      ]
     },
     "execution_count": 3,
     "metadata": {},
     "output_type": "execute_result"
    }
   ],
   "source": [
    "df_train = pd.read_csv('./data/train.csv')\n",
    "df_train"
   ]
  },
  {
   "cell_type": "code",
   "execution_count": 4,
   "metadata": {},
   "outputs": [
    {
     "data": {
      "text/html": [
       "<div>\n",
       "<style scoped>\n",
       "    .dataframe tbody tr th:only-of-type {\n",
       "        vertical-align: middle;\n",
       "    }\n",
       "\n",
       "    .dataframe tbody tr th {\n",
       "        vertical-align: top;\n",
       "    }\n",
       "\n",
       "    .dataframe thead th {\n",
       "        text-align: right;\n",
       "    }\n",
       "</style>\n",
       "<table border=\"1\" class=\"dataframe\">\n",
       "  <thead>\n",
       "    <tr style=\"text-align: right;\">\n",
       "      <th></th>\n",
       "      <th>id</th>\n",
       "      <th>SMILES</th>\n",
       "      <th>AlogP</th>\n",
       "      <th>Molecular_Weight</th>\n",
       "      <th>Num_H_Acceptors</th>\n",
       "      <th>Num_H_Donors</th>\n",
       "      <th>Num_RotatableBonds</th>\n",
       "      <th>LogD</th>\n",
       "      <th>Molecular_PolarSurfaceArea</th>\n",
       "    </tr>\n",
       "  </thead>\n",
       "  <tbody>\n",
       "    <tr>\n",
       "      <th>0</th>\n",
       "      <td>TEST_000</td>\n",
       "      <td>CC(C)Nc1ccnc(N2CCN(Cc3cccs3)C(CCO)C2)n1</td>\n",
       "      <td>2.641</td>\n",
       "      <td>361.505</td>\n",
       "      <td>4</td>\n",
       "      <td>2</td>\n",
       "      <td>7</td>\n",
       "      <td>2.635</td>\n",
       "      <td>92.76</td>\n",
       "    </tr>\n",
       "    <tr>\n",
       "      <th>1</th>\n",
       "      <td>TEST_001</td>\n",
       "      <td>COc1cc(=O)n(-c2ccccc2)cc1C(=O)N1CCC2(CC1)OCCO2</td>\n",
       "      <td>0.585</td>\n",
       "      <td>370.399</td>\n",
       "      <td>5</td>\n",
       "      <td>0</td>\n",
       "      <td>3</td>\n",
       "      <td>0.585</td>\n",
       "      <td>68.31</td>\n",
       "    </tr>\n",
       "    <tr>\n",
       "      <th>2</th>\n",
       "      <td>TEST_002</td>\n",
       "      <td>Cc1cccc(NC(=N)/N=c2\\nc(O)c(Cc3ccccc3)c(C)[nH]2)c1</td>\n",
       "      <td>4.276</td>\n",
       "      <td>347.414</td>\n",
       "      <td>4</td>\n",
       "      <td>4</td>\n",
       "      <td>5</td>\n",
       "      <td>4.290</td>\n",
       "      <td>92.86</td>\n",
       "    </tr>\n",
       "    <tr>\n",
       "      <th>3</th>\n",
       "      <td>TEST_003</td>\n",
       "      <td>O=C(c1nc2ncccn2n1)N1CCCn2cc(-c3ccccc3)nc21</td>\n",
       "      <td>1.795</td>\n",
       "      <td>345.358</td>\n",
       "      <td>5</td>\n",
       "      <td>0</td>\n",
       "      <td>2</td>\n",
       "      <td>1.795</td>\n",
       "      <td>81.21</td>\n",
       "    </tr>\n",
       "    <tr>\n",
       "      <th>4</th>\n",
       "      <td>TEST_004</td>\n",
       "      <td>CCN1CCN(C(=O)c2cc3c(=O)n4cc(C)ccc4nc3n2C)CC1</td>\n",
       "      <td>1.219</td>\n",
       "      <td>353.418</td>\n",
       "      <td>4</td>\n",
       "      <td>0</td>\n",
       "      <td>2</td>\n",
       "      <td>0.169</td>\n",
       "      <td>61.15</td>\n",
       "    </tr>\n",
       "    <tr>\n",
       "      <th>...</th>\n",
       "      <td>...</td>\n",
       "      <td>...</td>\n",
       "      <td>...</td>\n",
       "      <td>...</td>\n",
       "      <td>...</td>\n",
       "      <td>...</td>\n",
       "      <td>...</td>\n",
       "      <td>...</td>\n",
       "      <td>...</td>\n",
       "    </tr>\n",
       "    <tr>\n",
       "      <th>478</th>\n",
       "      <td>TEST_478</td>\n",
       "      <td>CCc1noc(CC)c1CC(=O)NCC1(CC)CCCCC1</td>\n",
       "      <td>4.207</td>\n",
       "      <td>306.443</td>\n",
       "      <td>2</td>\n",
       "      <td>1</td>\n",
       "      <td>7</td>\n",
       "      <td>4.207</td>\n",
       "      <td>55.13</td>\n",
       "    </tr>\n",
       "    <tr>\n",
       "      <th>479</th>\n",
       "      <td>TEST_479</td>\n",
       "      <td>CC(=O)N1CCC2(CC1)OC(=O)C(C)=C2C(=O)N1CCN(C)CC1</td>\n",
       "      <td>-0.608</td>\n",
       "      <td>335.398</td>\n",
       "      <td>5</td>\n",
       "      <td>0</td>\n",
       "      <td>1</td>\n",
       "      <td>-1.736</td>\n",
       "      <td>70.16</td>\n",
       "    </tr>\n",
       "    <tr>\n",
       "      <th>480</th>\n",
       "      <td>TEST_480</td>\n",
       "      <td>CC(C)NC(=O)CN1C(=O)c2ccccc2N2C(=O)c3ccccc3C12</td>\n",
       "      <td>1.792</td>\n",
       "      <td>349.383</td>\n",
       "      <td>3</td>\n",
       "      <td>1</td>\n",
       "      <td>3</td>\n",
       "      <td>1.792</td>\n",
       "      <td>69.72</td>\n",
       "    </tr>\n",
       "    <tr>\n",
       "      <th>481</th>\n",
       "      <td>TEST_481</td>\n",
       "      <td>Cn1cc(Br)c(=O)c(NC(=O)c2ccc(O)cc2F)c1</td>\n",
       "      <td>0.790</td>\n",
       "      <td>341.132</td>\n",
       "      <td>3</td>\n",
       "      <td>2</td>\n",
       "      <td>2</td>\n",
       "      <td>0.423</td>\n",
       "      <td>69.64</td>\n",
       "    </tr>\n",
       "    <tr>\n",
       "      <th>482</th>\n",
       "      <td>TEST_482</td>\n",
       "      <td>CC(C)C(CCN1CCN(C)CC1)c1ccco1</td>\n",
       "      <td>2.782</td>\n",
       "      <td>250.380</td>\n",
       "      <td>2</td>\n",
       "      <td>0</td>\n",
       "      <td>5</td>\n",
       "      <td>0.606</td>\n",
       "      <td>19.62</td>\n",
       "    </tr>\n",
       "  </tbody>\n",
       "</table>\n",
       "<p>483 rows × 9 columns</p>\n",
       "</div>"
      ],
      "text/plain": [
       "           id                                             SMILES  AlogP  \\\n",
       "0    TEST_000            CC(C)Nc1ccnc(N2CCN(Cc3cccs3)C(CCO)C2)n1  2.641   \n",
       "1    TEST_001     COc1cc(=O)n(-c2ccccc2)cc1C(=O)N1CCC2(CC1)OCCO2  0.585   \n",
       "2    TEST_002  Cc1cccc(NC(=N)/N=c2\\nc(O)c(Cc3ccccc3)c(C)[nH]2)c1  4.276   \n",
       "3    TEST_003         O=C(c1nc2ncccn2n1)N1CCCn2cc(-c3ccccc3)nc21  1.795   \n",
       "4    TEST_004       CCN1CCN(C(=O)c2cc3c(=O)n4cc(C)ccc4nc3n2C)CC1  1.219   \n",
       "..        ...                                                ...    ...   \n",
       "478  TEST_478                  CCc1noc(CC)c1CC(=O)NCC1(CC)CCCCC1  4.207   \n",
       "479  TEST_479     CC(=O)N1CCC2(CC1)OC(=O)C(C)=C2C(=O)N1CCN(C)CC1 -0.608   \n",
       "480  TEST_480      CC(C)NC(=O)CN1C(=O)c2ccccc2N2C(=O)c3ccccc3C12  1.792   \n",
       "481  TEST_481              Cn1cc(Br)c(=O)c(NC(=O)c2ccc(O)cc2F)c1  0.790   \n",
       "482  TEST_482                       CC(C)C(CCN1CCN(C)CC1)c1ccco1  2.782   \n",
       "\n",
       "     Molecular_Weight  Num_H_Acceptors  Num_H_Donors  Num_RotatableBonds  \\\n",
       "0             361.505                4             2                   7   \n",
       "1             370.399                5             0                   3   \n",
       "2             347.414                4             4                   5   \n",
       "3             345.358                5             0                   2   \n",
       "4             353.418                4             0                   2   \n",
       "..                ...              ...           ...                 ...   \n",
       "478           306.443                2             1                   7   \n",
       "479           335.398                5             0                   1   \n",
       "480           349.383                3             1                   3   \n",
       "481           341.132                3             2                   2   \n",
       "482           250.380                2             0                   5   \n",
       "\n",
       "      LogD  Molecular_PolarSurfaceArea  \n",
       "0    2.635                       92.76  \n",
       "1    0.585                       68.31  \n",
       "2    4.290                       92.86  \n",
       "3    1.795                       81.21  \n",
       "4    0.169                       61.15  \n",
       "..     ...                         ...  \n",
       "478  4.207                       55.13  \n",
       "479 -1.736                       70.16  \n",
       "480  1.792                       69.72  \n",
       "481  0.423                       69.64  \n",
       "482  0.606                       19.62  \n",
       "\n",
       "[483 rows x 9 columns]"
      ]
     },
     "execution_count": 4,
     "metadata": {},
     "output_type": "execute_result"
    }
   ],
   "source": [
    "df_test = pd.read_csv('./data/test.csv')\n",
    "df_test"
   ]
  },
  {
   "cell_type": "code",
   "execution_count": 5,
   "metadata": {},
   "outputs": [
    {
     "data": {
      "text/html": [
       "<div>\n",
       "<style scoped>\n",
       "    .dataframe tbody tr th:only-of-type {\n",
       "        vertical-align: middle;\n",
       "    }\n",
       "\n",
       "    .dataframe tbody tr th {\n",
       "        vertical-align: top;\n",
       "    }\n",
       "\n",
       "    .dataframe thead th {\n",
       "        text-align: right;\n",
       "    }\n",
       "</style>\n",
       "<table border=\"1\" class=\"dataframe\">\n",
       "  <thead>\n",
       "    <tr style=\"text-align: right;\">\n",
       "      <th></th>\n",
       "      <th>id</th>\n",
       "      <th>MLM</th>\n",
       "      <th>HLM</th>\n",
       "    </tr>\n",
       "  </thead>\n",
       "  <tbody>\n",
       "    <tr>\n",
       "      <th>0</th>\n",
       "      <td>TEST_000</td>\n",
       "      <td>0</td>\n",
       "      <td>0</td>\n",
       "    </tr>\n",
       "    <tr>\n",
       "      <th>1</th>\n",
       "      <td>TEST_001</td>\n",
       "      <td>0</td>\n",
       "      <td>0</td>\n",
       "    </tr>\n",
       "    <tr>\n",
       "      <th>2</th>\n",
       "      <td>TEST_002</td>\n",
       "      <td>0</td>\n",
       "      <td>0</td>\n",
       "    </tr>\n",
       "    <tr>\n",
       "      <th>3</th>\n",
       "      <td>TEST_003</td>\n",
       "      <td>0</td>\n",
       "      <td>0</td>\n",
       "    </tr>\n",
       "    <tr>\n",
       "      <th>4</th>\n",
       "      <td>TEST_004</td>\n",
       "      <td>0</td>\n",
       "      <td>0</td>\n",
       "    </tr>\n",
       "    <tr>\n",
       "      <th>...</th>\n",
       "      <td>...</td>\n",
       "      <td>...</td>\n",
       "      <td>...</td>\n",
       "    </tr>\n",
       "    <tr>\n",
       "      <th>478</th>\n",
       "      <td>TEST_478</td>\n",
       "      <td>0</td>\n",
       "      <td>0</td>\n",
       "    </tr>\n",
       "    <tr>\n",
       "      <th>479</th>\n",
       "      <td>TEST_479</td>\n",
       "      <td>0</td>\n",
       "      <td>0</td>\n",
       "    </tr>\n",
       "    <tr>\n",
       "      <th>480</th>\n",
       "      <td>TEST_480</td>\n",
       "      <td>0</td>\n",
       "      <td>0</td>\n",
       "    </tr>\n",
       "    <tr>\n",
       "      <th>481</th>\n",
       "      <td>TEST_481</td>\n",
       "      <td>0</td>\n",
       "      <td>0</td>\n",
       "    </tr>\n",
       "    <tr>\n",
       "      <th>482</th>\n",
       "      <td>TEST_482</td>\n",
       "      <td>0</td>\n",
       "      <td>0</td>\n",
       "    </tr>\n",
       "  </tbody>\n",
       "</table>\n",
       "<p>483 rows × 3 columns</p>\n",
       "</div>"
      ],
      "text/plain": [
       "           id  MLM  HLM\n",
       "0    TEST_000    0    0\n",
       "1    TEST_001    0    0\n",
       "2    TEST_002    0    0\n",
       "3    TEST_003    0    0\n",
       "4    TEST_004    0    0\n",
       "..        ...  ...  ...\n",
       "478  TEST_478    0    0\n",
       "479  TEST_479    0    0\n",
       "480  TEST_480    0    0\n",
       "481  TEST_481    0    0\n",
       "482  TEST_482    0    0\n",
       "\n",
       "[483 rows x 3 columns]"
      ]
     },
     "execution_count": 5,
     "metadata": {},
     "output_type": "execute_result"
    }
   ],
   "source": [
    "df_sample = pd.read_csv('./data/sample_submission.csv')\n",
    "df_sample"
   ]
  },
  {
   "cell_type": "code",
   "execution_count": 6,
   "metadata": {},
   "outputs": [
    {
     "name": "stdout",
     "output_type": "stream",
     "text": [
      "train size : (3498, 10)\n"
     ]
    },
    {
     "data": {
      "text/html": [
       "<div>\n",
       "<style scoped>\n",
       "    .dataframe tbody tr th:only-of-type {\n",
       "        vertical-align: middle;\n",
       "    }\n",
       "\n",
       "    .dataframe tbody tr th {\n",
       "        vertical-align: top;\n",
       "    }\n",
       "\n",
       "    .dataframe thead th {\n",
       "        text-align: right;\n",
       "    }\n",
       "</style>\n",
       "<table border=\"1\" class=\"dataframe\">\n",
       "  <thead>\n",
       "    <tr style=\"text-align: right;\">\n",
       "      <th></th>\n",
       "      <th>MLM</th>\n",
       "      <th>HLM</th>\n",
       "      <th>SMILES</th>\n",
       "      <th>AlogP</th>\n",
       "      <th>Molecular_Weight</th>\n",
       "      <th>Num_H_Acceptors</th>\n",
       "      <th>Num_H_Donors</th>\n",
       "      <th>Num_RotatableBonds</th>\n",
       "      <th>LogD</th>\n",
       "      <th>Molecular_PolarSurfaceArea</th>\n",
       "    </tr>\n",
       "  </thead>\n",
       "  <tbody>\n",
       "    <tr>\n",
       "      <th>0</th>\n",
       "      <td>26.010</td>\n",
       "      <td>50.680</td>\n",
       "      <td>CCOc1ccc(CNC(=O)c2cc(-c3sc(C)nc3C)n[nH]2)cc1OCC</td>\n",
       "      <td>3.259</td>\n",
       "      <td>400.495</td>\n",
       "      <td>5</td>\n",
       "      <td>2</td>\n",
       "      <td>8</td>\n",
       "      <td>3.259</td>\n",
       "      <td>117.37</td>\n",
       "    </tr>\n",
       "    <tr>\n",
       "      <th>1</th>\n",
       "      <td>29.270</td>\n",
       "      <td>50.590</td>\n",
       "      <td>Cc1nc(C)c(CN2CC(C)C(=O)Nc3ccccc32)s1</td>\n",
       "      <td>2.169</td>\n",
       "      <td>301.407</td>\n",
       "      <td>2</td>\n",
       "      <td>1</td>\n",
       "      <td>2</td>\n",
       "      <td>2.172</td>\n",
       "      <td>73.47</td>\n",
       "    </tr>\n",
       "    <tr>\n",
       "      <th>2</th>\n",
       "      <td>5.586</td>\n",
       "      <td>80.892</td>\n",
       "      <td>CCCN1CCN(c2nn3nnnc3c3ccccc23)CC1</td>\n",
       "      <td>1.593</td>\n",
       "      <td>297.358</td>\n",
       "      <td>5</td>\n",
       "      <td>0</td>\n",
       "      <td>3</td>\n",
       "      <td>1.585</td>\n",
       "      <td>62.45</td>\n",
       "    </tr>\n",
       "    <tr>\n",
       "      <th>3</th>\n",
       "      <td>5.710</td>\n",
       "      <td>2.000</td>\n",
       "      <td>Cc1ccc(-c2ccc(-n3nc(C)c(S(=O)(=O)N4CCN(C5CCCCC...</td>\n",
       "      <td>4.771</td>\n",
       "      <td>494.652</td>\n",
       "      <td>6</td>\n",
       "      <td>0</td>\n",
       "      <td>5</td>\n",
       "      <td>3.475</td>\n",
       "      <td>92.60</td>\n",
       "    </tr>\n",
       "    <tr>\n",
       "      <th>4</th>\n",
       "      <td>93.270</td>\n",
       "      <td>99.990</td>\n",
       "      <td>Cc1ccc2c(c1)N(C(=O)c1ccncc1)CC(C)O2</td>\n",
       "      <td>2.335</td>\n",
       "      <td>268.310</td>\n",
       "      <td>3</td>\n",
       "      <td>0</td>\n",
       "      <td>1</td>\n",
       "      <td>2.337</td>\n",
       "      <td>42.43</td>\n",
       "    </tr>\n",
       "  </tbody>\n",
       "</table>\n",
       "</div>"
      ],
      "text/plain": [
       "      MLM     HLM                                             SMILES  AlogP  \\\n",
       "0  26.010  50.680    CCOc1ccc(CNC(=O)c2cc(-c3sc(C)nc3C)n[nH]2)cc1OCC  3.259   \n",
       "1  29.270  50.590               Cc1nc(C)c(CN2CC(C)C(=O)Nc3ccccc32)s1  2.169   \n",
       "2   5.586  80.892                   CCCN1CCN(c2nn3nnnc3c3ccccc23)CC1  1.593   \n",
       "3   5.710   2.000  Cc1ccc(-c2ccc(-n3nc(C)c(S(=O)(=O)N4CCN(C5CCCCC...  4.771   \n",
       "4  93.270  99.990                Cc1ccc2c(c1)N(C(=O)c1ccncc1)CC(C)O2  2.335   \n",
       "\n",
       "   Molecular_Weight  Num_H_Acceptors  Num_H_Donors  Num_RotatableBonds   LogD  \\\n",
       "0           400.495                5             2                   8  3.259   \n",
       "1           301.407                2             1                   2  2.172   \n",
       "2           297.358                5             0                   3  1.585   \n",
       "3           494.652                6             0                   5  3.475   \n",
       "4           268.310                3             0                   1  2.337   \n",
       "\n",
       "   Molecular_PolarSurfaceArea  \n",
       "0                      117.37  \n",
       "1                       73.47  \n",
       "2                       62.45  \n",
       "3                       92.60  \n",
       "4                       42.43  "
      ]
     },
     "execution_count": 6,
     "metadata": {},
     "output_type": "execute_result"
    }
   ],
   "source": [
    "# column 순서 조절 및 'id' drop\n",
    "new_column_order = ['id', 'MLM', 'HLM', 'SMILES', 'AlogP', 'Molecular_Weight',\n",
    "                    'Num_H_Acceptors', 'Num_H_Donors', 'Num_RotatableBonds', 'LogD',\n",
    "                    'Molecular_PolarSurfaceArea']\n",
    "\n",
    "df_train = df_train[new_column_order]\n",
    "df_train = df_train.drop('id', axis=1)\n",
    "df_test = df_test.drop('id', axis=1)\n",
    "\n",
    "print(f'train size : {df_train.shape}')\n",
    "df_train.head()"
   ]
  },
  {
   "cell_type": "code",
   "execution_count": 7,
   "metadata": {},
   "outputs": [
    {
     "data": {
      "text/html": [
       "<div>\n",
       "<style scoped>\n",
       "    .dataframe tbody tr th:only-of-type {\n",
       "        vertical-align: middle;\n",
       "    }\n",
       "\n",
       "    .dataframe tbody tr th {\n",
       "        vertical-align: top;\n",
       "    }\n",
       "\n",
       "    .dataframe thead th {\n",
       "        text-align: right;\n",
       "    }\n",
       "</style>\n",
       "<table border=\"1\" class=\"dataframe\">\n",
       "  <thead>\n",
       "    <tr style=\"text-align: right;\">\n",
       "      <th></th>\n",
       "      <th>MLM</th>\n",
       "      <th>HLM</th>\n",
       "      <th>SMILES</th>\n",
       "      <th>AlogP</th>\n",
       "      <th>Molecular_Weight</th>\n",
       "      <th>Num_H_Acceptors</th>\n",
       "      <th>Num_H_Donors</th>\n",
       "      <th>Num_RotatableBonds</th>\n",
       "      <th>LogD</th>\n",
       "      <th>Molecular_PolarSurfaceArea</th>\n",
       "    </tr>\n",
       "  </thead>\n",
       "  <tbody>\n",
       "    <tr>\n",
       "      <th>0</th>\n",
       "      <td>0.9225</td>\n",
       "      <td>28.0615</td>\n",
       "      <td>C(=C/c1nnn(Cc2ccccc2)n1)\\c1ccccc1</td>\n",
       "      <td>3.556</td>\n",
       "      <td>262.309</td>\n",
       "      <td>3.0</td>\n",
       "      <td>0.0</td>\n",
       "      <td>4.0</td>\n",
       "      <td>3.556</td>\n",
       "      <td>43.60</td>\n",
       "    </tr>\n",
       "    <tr>\n",
       "      <th>1</th>\n",
       "      <td>62.2175</td>\n",
       "      <td>77.9110</td>\n",
       "      <td>CC(=O)Nc1ccc(N2N=C(c3ccc(O)cc3)C(C)CC2=O)cc1</td>\n",
       "      <td>2.172</td>\n",
       "      <td>337.372</td>\n",
       "      <td>4.0</td>\n",
       "      <td>2.0</td>\n",
       "      <td>3.0</td>\n",
       "      <td>2.169</td>\n",
       "      <td>82.00</td>\n",
       "    </tr>\n",
       "    <tr>\n",
       "      <th>2</th>\n",
       "      <td>68.6310</td>\n",
       "      <td>64.6690</td>\n",
       "      <td>CC(=O)Nc1nc2ccc(-c3nn(C(C)C)c4nc(N)ncc34)cc2s1</td>\n",
       "      <td>2.293</td>\n",
       "      <td>367.428</td>\n",
       "      <td>5.0</td>\n",
       "      <td>2.0</td>\n",
       "      <td>3.0</td>\n",
       "      <td>2.307</td>\n",
       "      <td>139.85</td>\n",
       "    </tr>\n",
       "    <tr>\n",
       "      <th>3</th>\n",
       "      <td>32.1435</td>\n",
       "      <td>85.6850</td>\n",
       "      <td>CC(C)(C)OC(=O)N1CCC(c2n[nH]c3nc(S(C)(=O)=O)ncc...</td>\n",
       "      <td>1.684</td>\n",
       "      <td>381.450</td>\n",
       "      <td>7.0</td>\n",
       "      <td>1.0</td>\n",
       "      <td>4.0</td>\n",
       "      <td>1.684</td>\n",
       "      <td>126.52</td>\n",
       "    </tr>\n",
       "    <tr>\n",
       "      <th>4</th>\n",
       "      <td>3.6870</td>\n",
       "      <td>43.3385</td>\n",
       "      <td>CC(C)COc1cc(=O)n2c(c1C(=O)N1CCC(C)CC1)CCCCC2</td>\n",
       "      <td>2.843</td>\n",
       "      <td>360.490</td>\n",
       "      <td>3.0</td>\n",
       "      <td>0.0</td>\n",
       "      <td>4.0</td>\n",
       "      <td>2.843</td>\n",
       "      <td>49.85</td>\n",
       "    </tr>\n",
       "    <tr>\n",
       "      <th>5</th>\n",
       "      <td>62.1085</td>\n",
       "      <td>68.1015</td>\n",
       "      <td>CC(C)NC(=O)c1c(Cl)nn(C)c1NC(=O)c1cc(Br)nn1-c1n...</td>\n",
       "      <td>3.750</td>\n",
       "      <td>501.165</td>\n",
       "      <td>5.0</td>\n",
       "      <td>2.0</td>\n",
       "      <td>5.0</td>\n",
       "      <td>3.750</td>\n",
       "      <td>106.72</td>\n",
       "    </tr>\n",
       "    <tr>\n",
       "      <th>6</th>\n",
       "      <td>43.1700</td>\n",
       "      <td>31.1300</td>\n",
       "      <td>CC1CC(=O)N(c2ccc(-c3cccc(C#N)c3)cc2)N=C1c1ccc(...</td>\n",
       "      <td>4.449</td>\n",
       "      <td>381.427</td>\n",
       "      <td>4.0</td>\n",
       "      <td>1.0</td>\n",
       "      <td>3.0</td>\n",
       "      <td>4.446</td>\n",
       "      <td>76.69</td>\n",
       "    </tr>\n",
       "    <tr>\n",
       "      <th>7</th>\n",
       "      <td>2.3395</td>\n",
       "      <td>36.8145</td>\n",
       "      <td>CCCCC/N=c1\\n(C)c(=O)nc2sccn12</td>\n",
       "      <td>2.484</td>\n",
       "      <td>252.336</td>\n",
       "      <td>4.0</td>\n",
       "      <td>0.0</td>\n",
       "      <td>4.0</td>\n",
       "      <td>2.474</td>\n",
       "      <td>73.56</td>\n",
       "    </tr>\n",
       "    <tr>\n",
       "      <th>8</th>\n",
       "      <td>3.4420</td>\n",
       "      <td>3.6015</td>\n",
       "      <td>CCOC(=O)CC1(NC(=O)N2Cc3c(sc4c3CCCC4)-n3cccc3C2...</td>\n",
       "      <td>6.727</td>\n",
       "      <td>537.736</td>\n",
       "      <td>3.0</td>\n",
       "      <td>1.0</td>\n",
       "      <td>6.0</td>\n",
       "      <td>6.727</td>\n",
       "      <td>120.05</td>\n",
       "    </tr>\n",
       "    <tr>\n",
       "      <th>9</th>\n",
       "      <td>73.5450</td>\n",
       "      <td>1.1345</td>\n",
       "      <td>CCc1nc2cc(Br)c(C(=O)OC)nc2n1CC(=O)c1ccccc1</td>\n",
       "      <td>3.815</td>\n",
       "      <td>402.242</td>\n",
       "      <td>5.0</td>\n",
       "      <td>0.0</td>\n",
       "      <td>6.0</td>\n",
       "      <td>3.819</td>\n",
       "      <td>74.08</td>\n",
       "    </tr>\n",
       "    <tr>\n",
       "      <th>10</th>\n",
       "      <td>41.5740</td>\n",
       "      <td>47.1345</td>\n",
       "      <td>CN(C)c1ccc(C2c3cccn3-c3sc4c(c3CN2C(=O)NCc2cccc...</td>\n",
       "      <td>6.501</td>\n",
       "      <td>496.666</td>\n",
       "      <td>1.0</td>\n",
       "      <td>1.0</td>\n",
       "      <td>4.0</td>\n",
       "      <td>6.501</td>\n",
       "      <td>68.74</td>\n",
       "    </tr>\n",
       "    <tr>\n",
       "      <th>11</th>\n",
       "      <td>52.3650</td>\n",
       "      <td>69.5790</td>\n",
       "      <td>CN(C1CCNCC1)S(=O)(=O)c1ccc(Cl)s1</td>\n",
       "      <td>0.767</td>\n",
       "      <td>294.821</td>\n",
       "      <td>3.0</td>\n",
       "      <td>1.0</td>\n",
       "      <td>3.0</td>\n",
       "      <td>0.388</td>\n",
       "      <td>86.03</td>\n",
       "    </tr>\n",
       "    <tr>\n",
       "      <th>12</th>\n",
       "      <td>10.9270</td>\n",
       "      <td>15.1105</td>\n",
       "      <td>COC(=O)C1(CCCN(C)CCc2ccc(OC)c(OC)c2)CCCc2c1ccc...</td>\n",
       "      <td>5.374</td>\n",
       "      <td>485.612</td>\n",
       "      <td>7.0</td>\n",
       "      <td>0.0</td>\n",
       "      <td>13.0</td>\n",
       "      <td>3.870</td>\n",
       "      <td>66.46</td>\n",
       "    </tr>\n",
       "    <tr>\n",
       "      <th>13</th>\n",
       "      <td>82.1700</td>\n",
       "      <td>95.6250</td>\n",
       "      <td>COCCOc1cc(=O)n2c(c1C(=O)N1CCCC1)CCOCC2</td>\n",
       "      <td>-0.811</td>\n",
       "      <td>336.383</td>\n",
       "      <td>5.0</td>\n",
       "      <td>0.0</td>\n",
       "      <td>5.0</td>\n",
       "      <td>-0.811</td>\n",
       "      <td>68.31</td>\n",
       "    </tr>\n",
       "    <tr>\n",
       "      <th>14</th>\n",
       "      <td>4.1750</td>\n",
       "      <td>34.8750</td>\n",
       "      <td>COc1cc(CN2CCC(NC(=O)c3cc4cc(Br)c5ccccc5c4o3)CC...</td>\n",
       "      <td>4.934</td>\n",
       "      <td>553.444</td>\n",
       "      <td>5.0</td>\n",
       "      <td>1.0</td>\n",
       "      <td>7.0</td>\n",
       "      <td>4.934</td>\n",
       "      <td>73.17</td>\n",
       "    </tr>\n",
       "    <tr>\n",
       "      <th>15</th>\n",
       "      <td>64.1215</td>\n",
       "      <td>18.6150</td>\n",
       "      <td>COc1ccc(C2=NOC(c3ccc(-c4nnn[nH]4)cc3)C2)cc1</td>\n",
       "      <td>2.235</td>\n",
       "      <td>321.333</td>\n",
       "      <td>6.0</td>\n",
       "      <td>1.0</td>\n",
       "      <td>4.0</td>\n",
       "      <td>1.806</td>\n",
       "      <td>85.28</td>\n",
       "    </tr>\n",
       "    <tr>\n",
       "      <th>16</th>\n",
       "      <td>4.1520</td>\n",
       "      <td>5.9740</td>\n",
       "      <td>COc1ccc(C2=NOC(c3ccsc3)C2)cc1</td>\n",
       "      <td>2.868</td>\n",
       "      <td>259.324</td>\n",
       "      <td>3.0</td>\n",
       "      <td>0.0</td>\n",
       "      <td>3.0</td>\n",
       "      <td>2.868</td>\n",
       "      <td>59.06</td>\n",
       "    </tr>\n",
       "    <tr>\n",
       "      <th>17</th>\n",
       "      <td>0.6545</td>\n",
       "      <td>4.1300</td>\n",
       "      <td>COc1ccc([C@H]2Oc3cc(OC)cc(OC)c3C[C@H]2O)cc1</td>\n",
       "      <td>2.940</td>\n",
       "      <td>316.348</td>\n",
       "      <td>5.0</td>\n",
       "      <td>1.0</td>\n",
       "      <td>4.0</td>\n",
       "      <td>2.940</td>\n",
       "      <td>57.15</td>\n",
       "    </tr>\n",
       "    <tr>\n",
       "      <th>18</th>\n",
       "      <td>86.9900</td>\n",
       "      <td>69.4465</td>\n",
       "      <td>COc1cccc(-c2cc(-c3nc4c5cnn(-c6ccccc6)c5ncn4n3)...</td>\n",
       "      <td>3.908</td>\n",
       "      <td>408.415</td>\n",
       "      <td>6.0</td>\n",
       "      <td>1.0</td>\n",
       "      <td>4.0</td>\n",
       "      <td>3.909</td>\n",
       "      <td>98.81</td>\n",
       "    </tr>\n",
       "    <tr>\n",
       "      <th>19</th>\n",
       "      <td>1.5570</td>\n",
       "      <td>2.6530</td>\n",
       "      <td>CS(=O)(=O)N1CCN(CCOc2ccc3c(c2)C(c2cc(F)cc(F)c2...</td>\n",
       "      <td>3.219</td>\n",
       "      <td>525.567</td>\n",
       "      <td>6.0</td>\n",
       "      <td>0.0</td>\n",
       "      <td>7.0</td>\n",
       "      <td>3.086</td>\n",
       "      <td>88.19</td>\n",
       "    </tr>\n",
       "    <tr>\n",
       "      <th>20</th>\n",
       "      <td>11.6895</td>\n",
       "      <td>11.1320</td>\n",
       "      <td>Cc1cc(=O)[nH]c(SCC(=O)C23CC4CC(CC(C4)C2)C3)c1C#N</td>\n",
       "      <td>3.322</td>\n",
       "      <td>342.455</td>\n",
       "      <td>4.0</td>\n",
       "      <td>1.0</td>\n",
       "      <td>4.0</td>\n",
       "      <td>3.322</td>\n",
       "      <td>95.26</td>\n",
       "    </tr>\n",
       "    <tr>\n",
       "      <th>21</th>\n",
       "      <td>28.4630</td>\n",
       "      <td>24.1955</td>\n",
       "      <td>Cc1ccc(-c2cc(-c3nc4c5ccccc5ncn4n3)[nH]n2)c(C)c1</td>\n",
       "      <td>4.609</td>\n",
       "      <td>340.381</td>\n",
       "      <td>4.0</td>\n",
       "      <td>1.0</td>\n",
       "      <td>2.0</td>\n",
       "      <td>4.736</td>\n",
       "      <td>71.75</td>\n",
       "    </tr>\n",
       "    <tr>\n",
       "      <th>22</th>\n",
       "      <td>56.0435</td>\n",
       "      <td>66.1260</td>\n",
       "      <td>Cc1ccc(-c2ccc(C(CN3CCCC3)N(C)C(=O)CN3C(=O)COc4...</td>\n",
       "      <td>4.282</td>\n",
       "      <td>553.480</td>\n",
       "      <td>5.0</td>\n",
       "      <td>0.0</td>\n",
       "      <td>7.0</td>\n",
       "      <td>4.009</td>\n",
       "      <td>65.98</td>\n",
       "    </tr>\n",
       "    <tr>\n",
       "      <th>23</th>\n",
       "      <td>56.3130</td>\n",
       "      <td>63.7320</td>\n",
       "      <td>Cc1ccccc1-c1nc2ccccc2cc1C(C)n1c(=O)[nH]c2c(S(C...</td>\n",
       "      <td>4.304</td>\n",
       "      <td>459.520</td>\n",
       "      <td>6.0</td>\n",
       "      <td>1.0</td>\n",
       "      <td>4.0</td>\n",
       "      <td>4.304</td>\n",
       "      <td>113.53</td>\n",
       "    </tr>\n",
       "    <tr>\n",
       "      <th>24</th>\n",
       "      <td>70.2150</td>\n",
       "      <td>93.8400</td>\n",
       "      <td>N#Cc1nccnc1OC1CCN(C(=O)C2CC(=O)N(C3CCOCC3)C2)C1</td>\n",
       "      <td>-1.133</td>\n",
       "      <td>385.417</td>\n",
       "      <td>7.0</td>\n",
       "      <td>0.0</td>\n",
       "      <td>4.0</td>\n",
       "      <td>-1.133</td>\n",
       "      <td>108.65</td>\n",
       "    </tr>\n",
       "    <tr>\n",
       "      <th>25</th>\n",
       "      <td>56.6085</td>\n",
       "      <td>49.5190</td>\n",
       "      <td>N#Cc1nccnc1OC1CCN(C(=O)N2CCNC2=O)C1</td>\n",
       "      <td>-0.533</td>\n",
       "      <td>302.289</td>\n",
       "      <td>6.0</td>\n",
       "      <td>1.0</td>\n",
       "      <td>2.0</td>\n",
       "      <td>-0.533</td>\n",
       "      <td>111.44</td>\n",
       "    </tr>\n",
       "    <tr>\n",
       "      <th>26</th>\n",
       "      <td>6.1730</td>\n",
       "      <td>10.8670</td>\n",
       "      <td>O=S(=O)(c1ccccc1)n1ccc(C/C=C/Cc2ccn(S(=O)(=O)c...</td>\n",
       "      <td>5.630</td>\n",
       "      <td>466.572</td>\n",
       "      <td>4.0</td>\n",
       "      <td>0.0</td>\n",
       "      <td>8.0</td>\n",
       "      <td>5.630</td>\n",
       "      <td>94.90</td>\n",
       "    </tr>\n",
       "  </tbody>\n",
       "</table>\n",
       "</div>"
      ],
      "text/plain": [
       "        MLM      HLM                                             SMILES  \\\n",
       "0    0.9225  28.0615                  C(=C/c1nnn(Cc2ccccc2)n1)\\c1ccccc1   \n",
       "1   62.2175  77.9110       CC(=O)Nc1ccc(N2N=C(c3ccc(O)cc3)C(C)CC2=O)cc1   \n",
       "2   68.6310  64.6690     CC(=O)Nc1nc2ccc(-c3nn(C(C)C)c4nc(N)ncc34)cc2s1   \n",
       "3   32.1435  85.6850  CC(C)(C)OC(=O)N1CCC(c2n[nH]c3nc(S(C)(=O)=O)ncc...   \n",
       "4    3.6870  43.3385       CC(C)COc1cc(=O)n2c(c1C(=O)N1CCC(C)CC1)CCCCC2   \n",
       "5   62.1085  68.1015  CC(C)NC(=O)c1c(Cl)nn(C)c1NC(=O)c1cc(Br)nn1-c1n...   \n",
       "6   43.1700  31.1300  CC1CC(=O)N(c2ccc(-c3cccc(C#N)c3)cc2)N=C1c1ccc(...   \n",
       "7    2.3395  36.8145                      CCCCC/N=c1\\n(C)c(=O)nc2sccn12   \n",
       "8    3.4420   3.6015  CCOC(=O)CC1(NC(=O)N2Cc3c(sc4c3CCCC4)-n3cccc3C2...   \n",
       "9   73.5450   1.1345         CCc1nc2cc(Br)c(C(=O)OC)nc2n1CC(=O)c1ccccc1   \n",
       "10  41.5740  47.1345  CN(C)c1ccc(C2c3cccn3-c3sc4c(c3CN2C(=O)NCc2cccc...   \n",
       "11  52.3650  69.5790                   CN(C1CCNCC1)S(=O)(=O)c1ccc(Cl)s1   \n",
       "12  10.9270  15.1105  COC(=O)C1(CCCN(C)CCc2ccc(OC)c(OC)c2)CCCc2c1ccc...   \n",
       "13  82.1700  95.6250             COCCOc1cc(=O)n2c(c1C(=O)N1CCCC1)CCOCC2   \n",
       "14   4.1750  34.8750  COc1cc(CN2CCC(NC(=O)c3cc4cc(Br)c5ccccc5c4o3)CC...   \n",
       "15  64.1215  18.6150        COc1ccc(C2=NOC(c3ccc(-c4nnn[nH]4)cc3)C2)cc1   \n",
       "16   4.1520   5.9740                      COc1ccc(C2=NOC(c3ccsc3)C2)cc1   \n",
       "17   0.6545   4.1300        COc1ccc([C@H]2Oc3cc(OC)cc(OC)c3C[C@H]2O)cc1   \n",
       "18  86.9900  69.4465  COc1cccc(-c2cc(-c3nc4c5cnn(-c6ccccc6)c5ncn4n3)...   \n",
       "19   1.5570   2.6530  CS(=O)(=O)N1CCN(CCOc2ccc3c(c2)C(c2cc(F)cc(F)c2...   \n",
       "20  11.6895  11.1320   Cc1cc(=O)[nH]c(SCC(=O)C23CC4CC(CC(C4)C2)C3)c1C#N   \n",
       "21  28.4630  24.1955    Cc1ccc(-c2cc(-c3nc4c5ccccc5ncn4n3)[nH]n2)c(C)c1   \n",
       "22  56.0435  66.1260  Cc1ccc(-c2ccc(C(CN3CCCC3)N(C)C(=O)CN3C(=O)COc4...   \n",
       "23  56.3130  63.7320  Cc1ccccc1-c1nc2ccccc2cc1C(C)n1c(=O)[nH]c2c(S(C...   \n",
       "24  70.2150  93.8400    N#Cc1nccnc1OC1CCN(C(=O)C2CC(=O)N(C3CCOCC3)C2)C1   \n",
       "25  56.6085  49.5190                N#Cc1nccnc1OC1CCN(C(=O)N2CCNC2=O)C1   \n",
       "26   6.1730  10.8670  O=S(=O)(c1ccccc1)n1ccc(C/C=C/Cc2ccn(S(=O)(=O)c...   \n",
       "\n",
       "    AlogP  Molecular_Weight  Num_H_Acceptors  Num_H_Donors  \\\n",
       "0   3.556           262.309              3.0           0.0   \n",
       "1   2.172           337.372              4.0           2.0   \n",
       "2   2.293           367.428              5.0           2.0   \n",
       "3   1.684           381.450              7.0           1.0   \n",
       "4   2.843           360.490              3.0           0.0   \n",
       "5   3.750           501.165              5.0           2.0   \n",
       "6   4.449           381.427              4.0           1.0   \n",
       "7   2.484           252.336              4.0           0.0   \n",
       "8   6.727           537.736              3.0           1.0   \n",
       "9   3.815           402.242              5.0           0.0   \n",
       "10  6.501           496.666              1.0           1.0   \n",
       "11  0.767           294.821              3.0           1.0   \n",
       "12  5.374           485.612              7.0           0.0   \n",
       "13 -0.811           336.383              5.0           0.0   \n",
       "14  4.934           553.444              5.0           1.0   \n",
       "15  2.235           321.333              6.0           1.0   \n",
       "16  2.868           259.324              3.0           0.0   \n",
       "17  2.940           316.348              5.0           1.0   \n",
       "18  3.908           408.415              6.0           1.0   \n",
       "19  3.219           525.567              6.0           0.0   \n",
       "20  3.322           342.455              4.0           1.0   \n",
       "21  4.609           340.381              4.0           1.0   \n",
       "22  4.282           553.480              5.0           0.0   \n",
       "23  4.304           459.520              6.0           1.0   \n",
       "24 -1.133           385.417              7.0           0.0   \n",
       "25 -0.533           302.289              6.0           1.0   \n",
       "26  5.630           466.572              4.0           0.0   \n",
       "\n",
       "    Num_RotatableBonds   LogD  Molecular_PolarSurfaceArea  \n",
       "0                  4.0  3.556                       43.60  \n",
       "1                  3.0  2.169                       82.00  \n",
       "2                  3.0  2.307                      139.85  \n",
       "3                  4.0  1.684                      126.52  \n",
       "4                  4.0  2.843                       49.85  \n",
       "5                  5.0  3.750                      106.72  \n",
       "6                  3.0  4.446                       76.69  \n",
       "7                  4.0  2.474                       73.56  \n",
       "8                  6.0  6.727                      120.05  \n",
       "9                  6.0  3.819                       74.08  \n",
       "10                 4.0  6.501                       68.74  \n",
       "11                 3.0  0.388                       86.03  \n",
       "12                13.0  3.870                       66.46  \n",
       "13                 5.0 -0.811                       68.31  \n",
       "14                 7.0  4.934                       73.17  \n",
       "15                 4.0  1.806                       85.28  \n",
       "16                 3.0  2.868                       59.06  \n",
       "17                 4.0  2.940                       57.15  \n",
       "18                 4.0  3.909                       98.81  \n",
       "19                 7.0  3.086                       88.19  \n",
       "20                 4.0  3.322                       95.26  \n",
       "21                 2.0  4.736                       71.75  \n",
       "22                 7.0  4.009                       65.98  \n",
       "23                 4.0  4.304                      113.53  \n",
       "24                 4.0 -1.133                      108.65  \n",
       "25                 2.0 -0.533                      111.44  \n",
       "26                 8.0  5.630                       94.90  "
      ]
     },
     "execution_count": 7,
     "metadata": {},
     "output_type": "execute_result"
    }
   ],
   "source": [
    "# train data 같은 인풋 값 대비 다른 아웃풋 average로 변환\n",
    "duplicated_rows = df_train[df_train.iloc[:, 2:].duplicated(keep=False)]\n",
    "sorted_duplicates = duplicated_rows.sort_values(by='SMILES', ascending=False)\n",
    "average_df = sorted_duplicates.groupby('SMILES').mean().reset_index()\n",
    "\n",
    "# column 순서 조절\n",
    "new_column_order = ['MLM', 'HLM', 'SMILES', 'AlogP', 'Molecular_Weight',\n",
    "                    'Num_H_Acceptors', 'Num_H_Donors', 'Num_RotatableBonds', 'LogD',\n",
    "                    'Molecular_PolarSurfaceArea']\n",
    "\n",
    "average_df = average_df[new_column_order]\n",
    "average_df"
   ]
  },
  {
   "cell_type": "code",
   "execution_count": 8,
   "metadata": {},
   "outputs": [
    {
     "name": "stdout",
     "output_type": "stream",
     "text": [
      "train size : (3471, 10)\n"
     ]
    },
    {
     "data": {
      "text/html": [
       "<div>\n",
       "<style scoped>\n",
       "    .dataframe tbody tr th:only-of-type {\n",
       "        vertical-align: middle;\n",
       "    }\n",
       "\n",
       "    .dataframe tbody tr th {\n",
       "        vertical-align: top;\n",
       "    }\n",
       "\n",
       "    .dataframe thead th {\n",
       "        text-align: right;\n",
       "    }\n",
       "</style>\n",
       "<table border=\"1\" class=\"dataframe\">\n",
       "  <thead>\n",
       "    <tr style=\"text-align: right;\">\n",
       "      <th></th>\n",
       "      <th>MLM</th>\n",
       "      <th>HLM</th>\n",
       "      <th>SMILES</th>\n",
       "      <th>AlogP</th>\n",
       "      <th>Molecular_Weight</th>\n",
       "      <th>Num_H_Acceptors</th>\n",
       "      <th>Num_H_Donors</th>\n",
       "      <th>Num_RotatableBonds</th>\n",
       "      <th>LogD</th>\n",
       "      <th>Molecular_PolarSurfaceArea</th>\n",
       "    </tr>\n",
       "  </thead>\n",
       "  <tbody>\n",
       "    <tr>\n",
       "      <th>0</th>\n",
       "      <td>26.010</td>\n",
       "      <td>50.680</td>\n",
       "      <td>CCOc1ccc(CNC(=O)c2cc(-c3sc(C)nc3C)n[nH]2)cc1OCC</td>\n",
       "      <td>3.259</td>\n",
       "      <td>400.495</td>\n",
       "      <td>5.0</td>\n",
       "      <td>2.0</td>\n",
       "      <td>8.0</td>\n",
       "      <td>3.259</td>\n",
       "      <td>117.37</td>\n",
       "    </tr>\n",
       "    <tr>\n",
       "      <th>1</th>\n",
       "      <td>29.270</td>\n",
       "      <td>50.590</td>\n",
       "      <td>Cc1nc(C)c(CN2CC(C)C(=O)Nc3ccccc32)s1</td>\n",
       "      <td>2.169</td>\n",
       "      <td>301.407</td>\n",
       "      <td>2.0</td>\n",
       "      <td>1.0</td>\n",
       "      <td>2.0</td>\n",
       "      <td>2.172</td>\n",
       "      <td>73.47</td>\n",
       "    </tr>\n",
       "    <tr>\n",
       "      <th>2</th>\n",
       "      <td>5.586</td>\n",
       "      <td>80.892</td>\n",
       "      <td>CCCN1CCN(c2nn3nnnc3c3ccccc23)CC1</td>\n",
       "      <td>1.593</td>\n",
       "      <td>297.358</td>\n",
       "      <td>5.0</td>\n",
       "      <td>0.0</td>\n",
       "      <td>3.0</td>\n",
       "      <td>1.585</td>\n",
       "      <td>62.45</td>\n",
       "    </tr>\n",
       "    <tr>\n",
       "      <th>3</th>\n",
       "      <td>5.710</td>\n",
       "      <td>2.000</td>\n",
       "      <td>Cc1ccc(-c2ccc(-n3nc(C)c(S(=O)(=O)N4CCN(C5CCCCC...</td>\n",
       "      <td>4.771</td>\n",
       "      <td>494.652</td>\n",
       "      <td>6.0</td>\n",
       "      <td>0.0</td>\n",
       "      <td>5.0</td>\n",
       "      <td>3.475</td>\n",
       "      <td>92.60</td>\n",
       "    </tr>\n",
       "    <tr>\n",
       "      <th>4</th>\n",
       "      <td>93.270</td>\n",
       "      <td>99.990</td>\n",
       "      <td>Cc1ccc2c(c1)N(C(=O)c1ccncc1)CC(C)O2</td>\n",
       "      <td>2.335</td>\n",
       "      <td>268.310</td>\n",
       "      <td>3.0</td>\n",
       "      <td>0.0</td>\n",
       "      <td>1.0</td>\n",
       "      <td>2.337</td>\n",
       "      <td>42.43</td>\n",
       "    </tr>\n",
       "  </tbody>\n",
       "</table>\n",
       "</div>"
      ],
      "text/plain": [
       "      MLM     HLM                                             SMILES  AlogP  \\\n",
       "0  26.010  50.680    CCOc1ccc(CNC(=O)c2cc(-c3sc(C)nc3C)n[nH]2)cc1OCC  3.259   \n",
       "1  29.270  50.590               Cc1nc(C)c(CN2CC(C)C(=O)Nc3ccccc32)s1  2.169   \n",
       "2   5.586  80.892                   CCCN1CCN(c2nn3nnnc3c3ccccc23)CC1  1.593   \n",
       "3   5.710   2.000  Cc1ccc(-c2ccc(-n3nc(C)c(S(=O)(=O)N4CCN(C5CCCCC...  4.771   \n",
       "4  93.270  99.990                Cc1ccc2c(c1)N(C(=O)c1ccncc1)CC(C)O2  2.335   \n",
       "\n",
       "   Molecular_Weight  Num_H_Acceptors  Num_H_Donors  Num_RotatableBonds   LogD  \\\n",
       "0           400.495              5.0           2.0                 8.0  3.259   \n",
       "1           301.407              2.0           1.0                 2.0  2.172   \n",
       "2           297.358              5.0           0.0                 3.0  1.585   \n",
       "3           494.652              6.0           0.0                 5.0  3.475   \n",
       "4           268.310              3.0           0.0                 1.0  2.337   \n",
       "\n",
       "   Molecular_PolarSurfaceArea  \n",
       "0                      117.37  \n",
       "1                       73.47  \n",
       "2                       62.45  \n",
       "3                       92.60  \n",
       "4                       42.43  "
      ]
     },
     "execution_count": 8,
     "metadata": {},
     "output_type": "execute_result"
    }
   ],
   "source": [
    "# 중복값 제거한 train unique value\n",
    "unique_df = df_train[~df_train.iloc[:, 2:].duplicated(keep=False)]\n",
    "\n",
    "# unique value 와 average value concat\n",
    "df_train = pd.concat([unique_df, average_df])\n",
    "df_train.reset_index(drop = True, inplace = True)\n",
    "print(f'train size : {df_train.shape}')\n",
    "\n",
    "df_train.head()"
   ]
  },
  {
   "cell_type": "code",
   "execution_count": 9,
   "metadata": {},
   "outputs": [
    {
     "name": "stdout",
     "output_type": "stream",
     "text": [
      "test size : (483, 8)\n"
     ]
    },
    {
     "data": {
      "text/html": [
       "<div>\n",
       "<style scoped>\n",
       "    .dataframe tbody tr th:only-of-type {\n",
       "        vertical-align: middle;\n",
       "    }\n",
       "\n",
       "    .dataframe tbody tr th {\n",
       "        vertical-align: top;\n",
       "    }\n",
       "\n",
       "    .dataframe thead th {\n",
       "        text-align: right;\n",
       "    }\n",
       "</style>\n",
       "<table border=\"1\" class=\"dataframe\">\n",
       "  <thead>\n",
       "    <tr style=\"text-align: right;\">\n",
       "      <th></th>\n",
       "      <th>SMILES</th>\n",
       "      <th>AlogP</th>\n",
       "      <th>Molecular_Weight</th>\n",
       "      <th>Num_H_Acceptors</th>\n",
       "      <th>Num_H_Donors</th>\n",
       "      <th>Num_RotatableBonds</th>\n",
       "      <th>LogD</th>\n",
       "      <th>Molecular_PolarSurfaceArea</th>\n",
       "    </tr>\n",
       "  </thead>\n",
       "  <tbody>\n",
       "    <tr>\n",
       "      <th>0</th>\n",
       "      <td>CC(C)Nc1ccnc(N2CCN(Cc3cccs3)C(CCO)C2)n1</td>\n",
       "      <td>2.641</td>\n",
       "      <td>361.505</td>\n",
       "      <td>4</td>\n",
       "      <td>2</td>\n",
       "      <td>7</td>\n",
       "      <td>2.635</td>\n",
       "      <td>92.76</td>\n",
       "    </tr>\n",
       "    <tr>\n",
       "      <th>1</th>\n",
       "      <td>COc1cc(=O)n(-c2ccccc2)cc1C(=O)N1CCC2(CC1)OCCO2</td>\n",
       "      <td>0.585</td>\n",
       "      <td>370.399</td>\n",
       "      <td>5</td>\n",
       "      <td>0</td>\n",
       "      <td>3</td>\n",
       "      <td>0.585</td>\n",
       "      <td>68.31</td>\n",
       "    </tr>\n",
       "    <tr>\n",
       "      <th>2</th>\n",
       "      <td>Cc1cccc(NC(=N)/N=c2\\nc(O)c(Cc3ccccc3)c(C)[nH]2)c1</td>\n",
       "      <td>4.276</td>\n",
       "      <td>347.414</td>\n",
       "      <td>4</td>\n",
       "      <td>4</td>\n",
       "      <td>5</td>\n",
       "      <td>4.290</td>\n",
       "      <td>92.86</td>\n",
       "    </tr>\n",
       "    <tr>\n",
       "      <th>3</th>\n",
       "      <td>O=C(c1nc2ncccn2n1)N1CCCn2cc(-c3ccccc3)nc21</td>\n",
       "      <td>1.795</td>\n",
       "      <td>345.358</td>\n",
       "      <td>5</td>\n",
       "      <td>0</td>\n",
       "      <td>2</td>\n",
       "      <td>1.795</td>\n",
       "      <td>81.21</td>\n",
       "    </tr>\n",
       "    <tr>\n",
       "      <th>4</th>\n",
       "      <td>CCN1CCN(C(=O)c2cc3c(=O)n4cc(C)ccc4nc3n2C)CC1</td>\n",
       "      <td>1.219</td>\n",
       "      <td>353.418</td>\n",
       "      <td>4</td>\n",
       "      <td>0</td>\n",
       "      <td>2</td>\n",
       "      <td>0.169</td>\n",
       "      <td>61.15</td>\n",
       "    </tr>\n",
       "  </tbody>\n",
       "</table>\n",
       "</div>"
      ],
      "text/plain": [
       "                                              SMILES  AlogP  Molecular_Weight  \\\n",
       "0            CC(C)Nc1ccnc(N2CCN(Cc3cccs3)C(CCO)C2)n1  2.641           361.505   \n",
       "1     COc1cc(=O)n(-c2ccccc2)cc1C(=O)N1CCC2(CC1)OCCO2  0.585           370.399   \n",
       "2  Cc1cccc(NC(=N)/N=c2\\nc(O)c(Cc3ccccc3)c(C)[nH]2)c1  4.276           347.414   \n",
       "3         O=C(c1nc2ncccn2n1)N1CCCn2cc(-c3ccccc3)nc21  1.795           345.358   \n",
       "4       CCN1CCN(C(=O)c2cc3c(=O)n4cc(C)ccc4nc3n2C)CC1  1.219           353.418   \n",
       "\n",
       "   Num_H_Acceptors  Num_H_Donors  Num_RotatableBonds   LogD  \\\n",
       "0                4             2                   7  2.635   \n",
       "1                5             0                   3  0.585   \n",
       "2                4             4                   5  4.290   \n",
       "3                5             0                   2  1.795   \n",
       "4                4             0                   2  0.169   \n",
       "\n",
       "   Molecular_PolarSurfaceArea  \n",
       "0                       92.76  \n",
       "1                       68.31  \n",
       "2                       92.86  \n",
       "3                       81.21  \n",
       "4                       61.15  "
      ]
     },
     "execution_count": 9,
     "metadata": {},
     "output_type": "execute_result"
    }
   ],
   "source": [
    "print(f'test size : {df_test.shape}')\n",
    "df_test.head()"
   ]
  },
  {
   "cell_type": "markdown",
   "metadata": {},
   "source": [
    "### merge train and test data for feature engineering"
   ]
  },
  {
   "cell_type": "code",
   "execution_count": 10,
   "metadata": {},
   "outputs": [
    {
     "data": {
      "text/html": [
       "<div>\n",
       "<style scoped>\n",
       "    .dataframe tbody tr th:only-of-type {\n",
       "        vertical-align: middle;\n",
       "    }\n",
       "\n",
       "    .dataframe tbody tr th {\n",
       "        vertical-align: top;\n",
       "    }\n",
       "\n",
       "    .dataframe thead th {\n",
       "        text-align: right;\n",
       "    }\n",
       "</style>\n",
       "<table border=\"1\" class=\"dataframe\">\n",
       "  <thead>\n",
       "    <tr style=\"text-align: right;\">\n",
       "      <th></th>\n",
       "      <th>MLM</th>\n",
       "      <th>HLM</th>\n",
       "      <th>SMILES</th>\n",
       "      <th>AlogP</th>\n",
       "      <th>Molecular_Weight</th>\n",
       "      <th>Num_H_Acceptors</th>\n",
       "      <th>Num_H_Donors</th>\n",
       "      <th>Num_RotatableBonds</th>\n",
       "      <th>LogD</th>\n",
       "      <th>Molecular_PolarSurfaceArea</th>\n",
       "    </tr>\n",
       "  </thead>\n",
       "  <tbody>\n",
       "    <tr>\n",
       "      <th>0</th>\n",
       "      <td>26.010</td>\n",
       "      <td>50.680</td>\n",
       "      <td>CCOc1ccc(CNC(=O)c2cc(-c3sc(C)nc3C)n[nH]2)cc1OCC</td>\n",
       "      <td>3.259</td>\n",
       "      <td>400.495</td>\n",
       "      <td>5.0</td>\n",
       "      <td>2.0</td>\n",
       "      <td>8.0</td>\n",
       "      <td>3.259</td>\n",
       "      <td>117.37</td>\n",
       "    </tr>\n",
       "    <tr>\n",
       "      <th>1</th>\n",
       "      <td>29.270</td>\n",
       "      <td>50.590</td>\n",
       "      <td>Cc1nc(C)c(CN2CC(C)C(=O)Nc3ccccc32)s1</td>\n",
       "      <td>2.169</td>\n",
       "      <td>301.407</td>\n",
       "      <td>2.0</td>\n",
       "      <td>1.0</td>\n",
       "      <td>2.0</td>\n",
       "      <td>2.172</td>\n",
       "      <td>73.47</td>\n",
       "    </tr>\n",
       "    <tr>\n",
       "      <th>2</th>\n",
       "      <td>5.586</td>\n",
       "      <td>80.892</td>\n",
       "      <td>CCCN1CCN(c2nn3nnnc3c3ccccc23)CC1</td>\n",
       "      <td>1.593</td>\n",
       "      <td>297.358</td>\n",
       "      <td>5.0</td>\n",
       "      <td>0.0</td>\n",
       "      <td>3.0</td>\n",
       "      <td>1.585</td>\n",
       "      <td>62.45</td>\n",
       "    </tr>\n",
       "    <tr>\n",
       "      <th>3</th>\n",
       "      <td>5.710</td>\n",
       "      <td>2.000</td>\n",
       "      <td>Cc1ccc(-c2ccc(-n3nc(C)c(S(=O)(=O)N4CCN(C5CCCCC...</td>\n",
       "      <td>4.771</td>\n",
       "      <td>494.652</td>\n",
       "      <td>6.0</td>\n",
       "      <td>0.0</td>\n",
       "      <td>5.0</td>\n",
       "      <td>3.475</td>\n",
       "      <td>92.60</td>\n",
       "    </tr>\n",
       "    <tr>\n",
       "      <th>4</th>\n",
       "      <td>93.270</td>\n",
       "      <td>99.990</td>\n",
       "      <td>Cc1ccc2c(c1)N(C(=O)c1ccncc1)CC(C)O2</td>\n",
       "      <td>2.335</td>\n",
       "      <td>268.310</td>\n",
       "      <td>3.0</td>\n",
       "      <td>0.0</td>\n",
       "      <td>1.0</td>\n",
       "      <td>2.337</td>\n",
       "      <td>42.43</td>\n",
       "    </tr>\n",
       "  </tbody>\n",
       "</table>\n",
       "</div>"
      ],
      "text/plain": [
       "      MLM     HLM                                             SMILES  AlogP  \\\n",
       "0  26.010  50.680    CCOc1ccc(CNC(=O)c2cc(-c3sc(C)nc3C)n[nH]2)cc1OCC  3.259   \n",
       "1  29.270  50.590               Cc1nc(C)c(CN2CC(C)C(=O)Nc3ccccc32)s1  2.169   \n",
       "2   5.586  80.892                   CCCN1CCN(c2nn3nnnc3c3ccccc23)CC1  1.593   \n",
       "3   5.710   2.000  Cc1ccc(-c2ccc(-n3nc(C)c(S(=O)(=O)N4CCN(C5CCCCC...  4.771   \n",
       "4  93.270  99.990                Cc1ccc2c(c1)N(C(=O)c1ccncc1)CC(C)O2  2.335   \n",
       "\n",
       "   Molecular_Weight  Num_H_Acceptors  Num_H_Donors  Num_RotatableBonds   LogD  \\\n",
       "0           400.495              5.0           2.0                 8.0  3.259   \n",
       "1           301.407              2.0           1.0                 2.0  2.172   \n",
       "2           297.358              5.0           0.0                 3.0  1.585   \n",
       "3           494.652              6.0           0.0                 5.0  3.475   \n",
       "4           268.310              3.0           0.0                 1.0  2.337   \n",
       "\n",
       "   Molecular_PolarSurfaceArea  \n",
       "0                      117.37  \n",
       "1                       73.47  \n",
       "2                       62.45  \n",
       "3                       92.60  \n",
       "4                       42.43  "
      ]
     },
     "execution_count": 10,
     "metadata": {},
     "output_type": "execute_result"
    }
   ],
   "source": [
    "df_total = pd.concat([df_train, df_test])\n",
    "df_total = df_total.reset_index(drop = True)\n",
    "df_total.head()"
   ]
  },
  {
   "cell_type": "code",
   "execution_count": 11,
   "metadata": {},
   "outputs": [
    {
     "data": {
      "text/html": [
       "<div>\n",
       "<style scoped>\n",
       "    .dataframe tbody tr th:only-of-type {\n",
       "        vertical-align: middle;\n",
       "    }\n",
       "\n",
       "    .dataframe tbody tr th {\n",
       "        vertical-align: top;\n",
       "    }\n",
       "\n",
       "    .dataframe thead th {\n",
       "        text-align: right;\n",
       "    }\n",
       "</style>\n",
       "<table border=\"1\" class=\"dataframe\">\n",
       "  <thead>\n",
       "    <tr style=\"text-align: right;\">\n",
       "      <th></th>\n",
       "      <th>MLM</th>\n",
       "      <th>HLM</th>\n",
       "      <th>SMILES</th>\n",
       "      <th>AlogP</th>\n",
       "      <th>Molecular_Weight</th>\n",
       "      <th>Num_H_Acceptors</th>\n",
       "      <th>Num_H_Donors</th>\n",
       "      <th>Num_RotatableBonds</th>\n",
       "      <th>LogD</th>\n",
       "      <th>Molecular_PolarSurfaceArea</th>\n",
       "    </tr>\n",
       "  </thead>\n",
       "  <tbody>\n",
       "    <tr>\n",
       "      <th>2752</th>\n",
       "      <td>0.549</td>\n",
       "      <td>0.2</td>\n",
       "      <td>[H][C@]1(CC[C@@]2([H])[C@@H](C)C=CC3=C[C@H](C)...</td>\n",
       "      <td>NaN</td>\n",
       "      <td>418.566</td>\n",
       "      <td>5.0</td>\n",
       "      <td>1.0</td>\n",
       "      <td>7.0</td>\n",
       "      <td>4.634</td>\n",
       "      <td>72.83</td>\n",
       "    </tr>\n",
       "    <tr>\n",
       "      <th>3334</th>\n",
       "      <td>0.240</td>\n",
       "      <td>3.2</td>\n",
       "      <td>COc1cc2c(cc1OC)/C(=N\\c1ccccc1)N(Cc1ccccc1F)CC2</td>\n",
       "      <td>NaN</td>\n",
       "      <td>390.450</td>\n",
       "      <td>3.0</td>\n",
       "      <td>0.0</td>\n",
       "      <td>5.0</td>\n",
       "      <td>4.911</td>\n",
       "      <td>34.06</td>\n",
       "    </tr>\n",
       "    <tr>\n",
       "      <th>3481</th>\n",
       "      <td>NaN</td>\n",
       "      <td>NaN</td>\n",
       "      <td>[H]C1(C(O)c2ccc3c(c2)OCO3)C(=O)Oc2cc(OC)ccc2C1...</td>\n",
       "      <td>NaN</td>\n",
       "      <td>404.412</td>\n",
       "      <td>6.0</td>\n",
       "      <td>1.0</td>\n",
       "      <td>4.0</td>\n",
       "      <td>3.942</td>\n",
       "      <td>74.22</td>\n",
       "    </tr>\n",
       "  </tbody>\n",
       "</table>\n",
       "</div>"
      ],
      "text/plain": [
       "        MLM  HLM                                             SMILES  AlogP  \\\n",
       "2752  0.549  0.2  [H][C@]1(CC[C@@]2([H])[C@@H](C)C=CC3=C[C@H](C)...    NaN   \n",
       "3334  0.240  3.2     COc1cc2c(cc1OC)/C(=N\\c1ccccc1)N(Cc1ccccc1F)CC2    NaN   \n",
       "3481    NaN  NaN  [H]C1(C(O)c2ccc3c(c2)OCO3)C(=O)Oc2cc(OC)ccc2C1...    NaN   \n",
       "\n",
       "      Molecular_Weight  Num_H_Acceptors  Num_H_Donors  Num_RotatableBonds  \\\n",
       "2752           418.566              5.0           1.0                 7.0   \n",
       "3334           390.450              3.0           0.0                 5.0   \n",
       "3481           404.412              6.0           1.0                 4.0   \n",
       "\n",
       "       LogD  Molecular_PolarSurfaceArea  \n",
       "2752  4.634                       72.83  \n",
       "3334  4.911                       34.06  \n",
       "3481  3.942                       74.22  "
      ]
     },
     "execution_count": 11,
     "metadata": {},
     "output_type": "execute_result"
    }
   ],
   "source": [
    "# Alop 결측값 처리\n",
    "df_total[df_total.AlogP.isna()]"
   ]
  },
  {
   "cell_type": "code",
   "execution_count": 12,
   "metadata": {},
   "outputs": [
    {
     "data": {
      "text/html": [
       "<div>\n",
       "<style scoped>\n",
       "    .dataframe tbody tr th:only-of-type {\n",
       "        vertical-align: middle;\n",
       "    }\n",
       "\n",
       "    .dataframe tbody tr th {\n",
       "        vertical-align: top;\n",
       "    }\n",
       "\n",
       "    .dataframe thead th {\n",
       "        text-align: right;\n",
       "    }\n",
       "</style>\n",
       "<table border=\"1\" class=\"dataframe\">\n",
       "  <thead>\n",
       "    <tr style=\"text-align: right;\">\n",
       "      <th></th>\n",
       "      <th>MLM</th>\n",
       "      <th>HLM</th>\n",
       "      <th>SMILES</th>\n",
       "      <th>AlogP</th>\n",
       "      <th>Molecular_Weight</th>\n",
       "      <th>Num_H_Acceptors</th>\n",
       "      <th>Num_H_Donors</th>\n",
       "      <th>Num_RotatableBonds</th>\n",
       "      <th>LogD</th>\n",
       "      <th>Molecular_PolarSurfaceArea</th>\n",
       "    </tr>\n",
       "  </thead>\n",
       "  <tbody>\n",
       "    <tr>\n",
       "      <th>2752</th>\n",
       "      <td>0.549</td>\n",
       "      <td>0.2</td>\n",
       "      <td>[H][C@]1(CC[C@@]2([H])[C@@H](C)C=CC3=C[C@H](C)...</td>\n",
       "      <td>4.634</td>\n",
       "      <td>418.566</td>\n",
       "      <td>5.0</td>\n",
       "      <td>1.0</td>\n",
       "      <td>7.0</td>\n",
       "      <td>4.634</td>\n",
       "      <td>72.83</td>\n",
       "    </tr>\n",
       "    <tr>\n",
       "      <th>3334</th>\n",
       "      <td>0.240</td>\n",
       "      <td>3.2</td>\n",
       "      <td>COc1cc2c(cc1OC)/C(=N\\c1ccccc1)N(Cc1ccccc1F)CC2</td>\n",
       "      <td>4.911</td>\n",
       "      <td>390.450</td>\n",
       "      <td>3.0</td>\n",
       "      <td>0.0</td>\n",
       "      <td>5.0</td>\n",
       "      <td>4.911</td>\n",
       "      <td>34.06</td>\n",
       "    </tr>\n",
       "    <tr>\n",
       "      <th>3481</th>\n",
       "      <td>NaN</td>\n",
       "      <td>NaN</td>\n",
       "      <td>[H]C1(C(O)c2ccc3c(c2)OCO3)C(=O)Oc2cc(OC)ccc2C1...</td>\n",
       "      <td>3.942</td>\n",
       "      <td>404.412</td>\n",
       "      <td>6.0</td>\n",
       "      <td>1.0</td>\n",
       "      <td>4.0</td>\n",
       "      <td>3.942</td>\n",
       "      <td>74.22</td>\n",
       "    </tr>\n",
       "  </tbody>\n",
       "</table>\n",
       "</div>"
      ],
      "text/plain": [
       "        MLM  HLM                                             SMILES  AlogP  \\\n",
       "2752  0.549  0.2  [H][C@]1(CC[C@@]2([H])[C@@H](C)C=CC3=C[C@H](C)...  4.634   \n",
       "3334  0.240  3.2     COc1cc2c(cc1OC)/C(=N\\c1ccccc1)N(Cc1ccccc1F)CC2  4.911   \n",
       "3481    NaN  NaN  [H]C1(C(O)c2ccc3c(c2)OCO3)C(=O)Oc2cc(OC)ccc2C1...  3.942   \n",
       "\n",
       "      Molecular_Weight  Num_H_Acceptors  Num_H_Donors  Num_RotatableBonds  \\\n",
       "2752           418.566              5.0           1.0                 7.0   \n",
       "3334           390.450              3.0           0.0                 5.0   \n",
       "3481           404.412              6.0           1.0                 4.0   \n",
       "\n",
       "       LogD  Molecular_PolarSurfaceArea  \n",
       "2752  4.634                       72.83  \n",
       "3334  4.911                       34.06  \n",
       "3481  3.942                       74.22  "
      ]
     },
     "execution_count": 12,
     "metadata": {},
     "output_type": "execute_result"
    }
   ],
   "source": [
    "# 결측치 LogD 값으로 대체 (corr = 0.96)\n",
    "df_total['AlogP'].fillna(df_total['LogD'], inplace=True)\n",
    "row_2752 = df_total.loc[[2752]]\n",
    "row_3334 = df_total.loc[[3334]]\n",
    "row_3481 = df_total.loc[[3481]]\n",
    "\n",
    "missing_df = pd.concat([row_2752, row_3334, row_3481])\n",
    "missing_df"
   ]
  },
  {
   "cell_type": "code",
   "execution_count": 13,
   "metadata": {},
   "outputs": [
    {
     "data": {
      "text/plain": [
       "MLM                           483\n",
       "HLM                           483\n",
       "SMILES                          0\n",
       "AlogP                           0\n",
       "Molecular_Weight                0\n",
       "Num_H_Acceptors                 0\n",
       "Num_H_Donors                    0\n",
       "Num_RotatableBonds              0\n",
       "LogD                            0\n",
       "Molecular_PolarSurfaceArea      0\n",
       "dtype: int64"
      ]
     },
     "execution_count": 13,
     "metadata": {},
     "output_type": "execute_result"
    }
   ],
   "source": [
    "df_total.isna().sum()"
   ]
  },
  {
   "cell_type": "code",
   "execution_count": 14,
   "metadata": {},
   "outputs": [
    {
     "name": "stdout",
     "output_type": "stream",
     "text": [
      "dataset size: (3954, 10)\n"
     ]
    },
    {
     "data": {
      "text/html": [
       "<div>\n",
       "<style scoped>\n",
       "    .dataframe tbody tr th:only-of-type {\n",
       "        vertical-align: middle;\n",
       "    }\n",
       "\n",
       "    .dataframe tbody tr th {\n",
       "        vertical-align: top;\n",
       "    }\n",
       "\n",
       "    .dataframe thead th {\n",
       "        text-align: right;\n",
       "    }\n",
       "</style>\n",
       "<table border=\"1\" class=\"dataframe\">\n",
       "  <thead>\n",
       "    <tr style=\"text-align: right;\">\n",
       "      <th></th>\n",
       "      <th>feature</th>\n",
       "      <th>data type</th>\n",
       "      <th>num of missing value</th>\n",
       "      <th>num of unique value</th>\n",
       "      <th>First value</th>\n",
       "      <th>Second value</th>\n",
       "      <th>Third value</th>\n",
       "    </tr>\n",
       "  </thead>\n",
       "  <tbody>\n",
       "    <tr>\n",
       "      <th>0</th>\n",
       "      <td>MLM</td>\n",
       "      <td>float64</td>\n",
       "      <td>483</td>\n",
       "      <td>2720</td>\n",
       "      <td>26.01</td>\n",
       "      <td>29.27</td>\n",
       "      <td>5.586</td>\n",
       "    </tr>\n",
       "    <tr>\n",
       "      <th>1</th>\n",
       "      <td>HLM</td>\n",
       "      <td>float64</td>\n",
       "      <td>483</td>\n",
       "      <td>2766</td>\n",
       "      <td>50.68</td>\n",
       "      <td>50.59</td>\n",
       "      <td>80.892</td>\n",
       "    </tr>\n",
       "    <tr>\n",
       "      <th>2</th>\n",
       "      <td>SMILES</td>\n",
       "      <td>object</td>\n",
       "      <td>0</td>\n",
       "      <td>3954</td>\n",
       "      <td>CCOc1ccc(CNC(=O)c2cc(-c3sc(C)nc3C)n[nH]2)cc1OCC</td>\n",
       "      <td>Cc1nc(C)c(CN2CC(C)C(=O)Nc3ccccc32)s1</td>\n",
       "      <td>CCCN1CCN(c2nn3nnnc3c3ccccc23)CC1</td>\n",
       "    </tr>\n",
       "    <tr>\n",
       "      <th>3</th>\n",
       "      <td>AlogP</td>\n",
       "      <td>float64</td>\n",
       "      <td>0</td>\n",
       "      <td>2837</td>\n",
       "      <td>3.259</td>\n",
       "      <td>2.169</td>\n",
       "      <td>1.593</td>\n",
       "    </tr>\n",
       "    <tr>\n",
       "      <th>4</th>\n",
       "      <td>Molecular_Weight</td>\n",
       "      <td>float64</td>\n",
       "      <td>0</td>\n",
       "      <td>3425</td>\n",
       "      <td>400.495</td>\n",
       "      <td>301.407</td>\n",
       "      <td>297.358</td>\n",
       "    </tr>\n",
       "    <tr>\n",
       "      <th>5</th>\n",
       "      <td>Num_H_Acceptors</td>\n",
       "      <td>float64</td>\n",
       "      <td>0</td>\n",
       "      <td>15</td>\n",
       "      <td>5.0</td>\n",
       "      <td>2.0</td>\n",
       "      <td>5.0</td>\n",
       "    </tr>\n",
       "    <tr>\n",
       "      <th>6</th>\n",
       "      <td>Num_H_Donors</td>\n",
       "      <td>float64</td>\n",
       "      <td>0</td>\n",
       "      <td>10</td>\n",
       "      <td>2.0</td>\n",
       "      <td>1.0</td>\n",
       "      <td>0.0</td>\n",
       "    </tr>\n",
       "    <tr>\n",
       "      <th>7</th>\n",
       "      <td>Num_RotatableBonds</td>\n",
       "      <td>float64</td>\n",
       "      <td>0</td>\n",
       "      <td>21</td>\n",
       "      <td>8.0</td>\n",
       "      <td>2.0</td>\n",
       "      <td>3.0</td>\n",
       "    </tr>\n",
       "    <tr>\n",
       "      <th>8</th>\n",
       "      <td>LogD</td>\n",
       "      <td>float64</td>\n",
       "      <td>0</td>\n",
       "      <td>2910</td>\n",
       "      <td>3.259</td>\n",
       "      <td>2.172</td>\n",
       "      <td>1.585</td>\n",
       "    </tr>\n",
       "    <tr>\n",
       "      <th>9</th>\n",
       "      <td>Molecular_PolarSurfaceArea</td>\n",
       "      <td>float64</td>\n",
       "      <td>0</td>\n",
       "      <td>2378</td>\n",
       "      <td>117.37</td>\n",
       "      <td>73.47</td>\n",
       "      <td>62.45</td>\n",
       "    </tr>\n",
       "  </tbody>\n",
       "</table>\n",
       "</div>"
      ],
      "text/plain": [
       "                      feature data type  num of missing value  \\\n",
       "0                         MLM   float64                   483   \n",
       "1                         HLM   float64                   483   \n",
       "2                      SMILES    object                     0   \n",
       "3                       AlogP   float64                     0   \n",
       "4            Molecular_Weight   float64                     0   \n",
       "5             Num_H_Acceptors   float64                     0   \n",
       "6                Num_H_Donors   float64                     0   \n",
       "7          Num_RotatableBonds   float64                     0   \n",
       "8                        LogD   float64                     0   \n",
       "9  Molecular_PolarSurfaceArea   float64                     0   \n",
       "\n",
       "   num of unique value                                      First value  \\\n",
       "0                 2720                                            26.01   \n",
       "1                 2766                                            50.68   \n",
       "2                 3954  CCOc1ccc(CNC(=O)c2cc(-c3sc(C)nc3C)n[nH]2)cc1OCC   \n",
       "3                 2837                                            3.259   \n",
       "4                 3425                                          400.495   \n",
       "5                   15                                              5.0   \n",
       "6                   10                                              2.0   \n",
       "7                   21                                              8.0   \n",
       "8                 2910                                            3.259   \n",
       "9                 2378                                           117.37   \n",
       "\n",
       "                           Second value                       Third value  \n",
       "0                                 29.27                             5.586  \n",
       "1                                 50.59                            80.892  \n",
       "2  Cc1nc(C)c(CN2CC(C)C(=O)Nc3ccccc32)s1  CCCN1CCN(c2nn3nnnc3c3ccccc23)CC1  \n",
       "3                                 2.169                             1.593  \n",
       "4                               301.407                           297.358  \n",
       "5                                   2.0                               5.0  \n",
       "6                                   1.0                               0.0  \n",
       "7                                   2.0                               3.0  \n",
       "8                                 2.172                             1.585  \n",
       "9                                 73.47                             62.45  "
      ]
     },
     "execution_count": 14,
     "metadata": {},
     "output_type": "execute_result"
    }
   ],
   "source": [
    "def resumetable(df):\n",
    "    print(f'dataset size: {df.shape}')\n",
    "    summary = pd.DataFrame(df.dtypes, columns=['data type'])\n",
    "    summary = summary.reset_index()\n",
    "    summary = summary.rename(columns={'index': 'feature'})\n",
    "    summary['num of missing value'] = df.isnull().sum().values\n",
    "    summary['num of unique value'] = df.nunique().values\n",
    "    summary['First value'] = df.loc[0].values\n",
    "    summary['Second value'] = df.loc[1].values\n",
    "    summary['Third value'] = df.loc[2].values\n",
    "    return summary\n",
    "\n",
    "resumetable(df_total)"
   ]
  },
  {
   "cell_type": "code",
   "execution_count": 15,
   "metadata": {},
   "outputs": [
    {
     "data": {
      "text/html": [
       "<div>\n",
       "<style scoped>\n",
       "    .dataframe tbody tr th:only-of-type {\n",
       "        vertical-align: middle;\n",
       "    }\n",
       "\n",
       "    .dataframe tbody tr th {\n",
       "        vertical-align: top;\n",
       "    }\n",
       "\n",
       "    .dataframe thead th {\n",
       "        text-align: right;\n",
       "    }\n",
       "</style>\n",
       "<table border=\"1\" class=\"dataframe\">\n",
       "  <thead>\n",
       "    <tr style=\"text-align: right;\">\n",
       "      <th></th>\n",
       "      <th>MLM</th>\n",
       "      <th>HLM</th>\n",
       "      <th>SMILES</th>\n",
       "      <th>AlogP</th>\n",
       "      <th>Molecular_Weight</th>\n",
       "      <th>Num_H_Acceptors</th>\n",
       "      <th>Num_H_Donors</th>\n",
       "      <th>Num_RotatableBonds</th>\n",
       "      <th>LogD</th>\n",
       "      <th>Molecular_PolarSurfaceArea</th>\n",
       "      <th>C</th>\n",
       "      <th>O</th>\n",
       "      <th>N</th>\n",
       "      <th>S</th>\n",
       "      <th>F</th>\n",
       "      <th>Cl</th>\n",
       "      <th>Br</th>\n",
       "      <th>Se</th>\n",
       "      <th>I</th>\n",
       "      <th>P</th>\n",
       "    </tr>\n",
       "  </thead>\n",
       "  <tbody>\n",
       "    <tr>\n",
       "      <th>0</th>\n",
       "      <td>26.010</td>\n",
       "      <td>50.680</td>\n",
       "      <td>CCOc1ccc(CNC(=O)c2cc(-c3sc(C)nc3C)n[nH]2)cc1OCC</td>\n",
       "      <td>3.259</td>\n",
       "      <td>400.495</td>\n",
       "      <td>5.0</td>\n",
       "      <td>2.0</td>\n",
       "      <td>8.0</td>\n",
       "      <td>3.259</td>\n",
       "      <td>117.37</td>\n",
       "      <td>20</td>\n",
       "      <td>3</td>\n",
       "      <td>4</td>\n",
       "      <td>1</td>\n",
       "      <td>0</td>\n",
       "      <td>0</td>\n",
       "      <td>0</td>\n",
       "      <td>0</td>\n",
       "      <td>0</td>\n",
       "      <td>0</td>\n",
       "    </tr>\n",
       "    <tr>\n",
       "      <th>1</th>\n",
       "      <td>29.270</td>\n",
       "      <td>50.590</td>\n",
       "      <td>Cc1nc(C)c(CN2CC(C)C(=O)Nc3ccccc32)s1</td>\n",
       "      <td>2.169</td>\n",
       "      <td>301.407</td>\n",
       "      <td>2.0</td>\n",
       "      <td>1.0</td>\n",
       "      <td>2.0</td>\n",
       "      <td>2.172</td>\n",
       "      <td>73.47</td>\n",
       "      <td>16</td>\n",
       "      <td>1</td>\n",
       "      <td>3</td>\n",
       "      <td>1</td>\n",
       "      <td>0</td>\n",
       "      <td>0</td>\n",
       "      <td>0</td>\n",
       "      <td>0</td>\n",
       "      <td>0</td>\n",
       "      <td>0</td>\n",
       "    </tr>\n",
       "    <tr>\n",
       "      <th>2</th>\n",
       "      <td>5.586</td>\n",
       "      <td>80.892</td>\n",
       "      <td>CCCN1CCN(c2nn3nnnc3c3ccccc23)CC1</td>\n",
       "      <td>1.593</td>\n",
       "      <td>297.358</td>\n",
       "      <td>5.0</td>\n",
       "      <td>0.0</td>\n",
       "      <td>3.0</td>\n",
       "      <td>1.585</td>\n",
       "      <td>62.45</td>\n",
       "      <td>15</td>\n",
       "      <td>0</td>\n",
       "      <td>7</td>\n",
       "      <td>0</td>\n",
       "      <td>0</td>\n",
       "      <td>0</td>\n",
       "      <td>0</td>\n",
       "      <td>0</td>\n",
       "      <td>0</td>\n",
       "      <td>0</td>\n",
       "    </tr>\n",
       "    <tr>\n",
       "      <th>3</th>\n",
       "      <td>5.710</td>\n",
       "      <td>2.000</td>\n",
       "      <td>Cc1ccc(-c2ccc(-n3nc(C)c(S(=O)(=O)N4CCN(C5CCCCC...</td>\n",
       "      <td>4.771</td>\n",
       "      <td>494.652</td>\n",
       "      <td>6.0</td>\n",
       "      <td>0.0</td>\n",
       "      <td>5.0</td>\n",
       "      <td>3.475</td>\n",
       "      <td>92.60</td>\n",
       "      <td>26</td>\n",
       "      <td>2</td>\n",
       "      <td>6</td>\n",
       "      <td>1</td>\n",
       "      <td>0</td>\n",
       "      <td>0</td>\n",
       "      <td>0</td>\n",
       "      <td>0</td>\n",
       "      <td>0</td>\n",
       "      <td>0</td>\n",
       "    </tr>\n",
       "    <tr>\n",
       "      <th>4</th>\n",
       "      <td>93.270</td>\n",
       "      <td>99.990</td>\n",
       "      <td>Cc1ccc2c(c1)N(C(=O)c1ccncc1)CC(C)O2</td>\n",
       "      <td>2.335</td>\n",
       "      <td>268.310</td>\n",
       "      <td>3.0</td>\n",
       "      <td>0.0</td>\n",
       "      <td>1.0</td>\n",
       "      <td>2.337</td>\n",
       "      <td>42.43</td>\n",
       "      <td>16</td>\n",
       "      <td>2</td>\n",
       "      <td>2</td>\n",
       "      <td>0</td>\n",
       "      <td>0</td>\n",
       "      <td>0</td>\n",
       "      <td>0</td>\n",
       "      <td>0</td>\n",
       "      <td>0</td>\n",
       "      <td>0</td>\n",
       "    </tr>\n",
       "    <tr>\n",
       "      <th>...</th>\n",
       "      <td>...</td>\n",
       "      <td>...</td>\n",
       "      <td>...</td>\n",
       "      <td>...</td>\n",
       "      <td>...</td>\n",
       "      <td>...</td>\n",
       "      <td>...</td>\n",
       "      <td>...</td>\n",
       "      <td>...</td>\n",
       "      <td>...</td>\n",
       "      <td>...</td>\n",
       "      <td>...</td>\n",
       "      <td>...</td>\n",
       "      <td>...</td>\n",
       "      <td>...</td>\n",
       "      <td>...</td>\n",
       "      <td>...</td>\n",
       "      <td>...</td>\n",
       "      <td>...</td>\n",
       "      <td>...</td>\n",
       "    </tr>\n",
       "    <tr>\n",
       "      <th>3949</th>\n",
       "      <td>NaN</td>\n",
       "      <td>NaN</td>\n",
       "      <td>CCc1noc(CC)c1CC(=O)NCC1(CC)CCCCC1</td>\n",
       "      <td>4.207</td>\n",
       "      <td>306.443</td>\n",
       "      <td>2.0</td>\n",
       "      <td>1.0</td>\n",
       "      <td>7.0</td>\n",
       "      <td>4.207</td>\n",
       "      <td>55.13</td>\n",
       "      <td>18</td>\n",
       "      <td>2</td>\n",
       "      <td>2</td>\n",
       "      <td>0</td>\n",
       "      <td>0</td>\n",
       "      <td>0</td>\n",
       "      <td>0</td>\n",
       "      <td>0</td>\n",
       "      <td>0</td>\n",
       "      <td>0</td>\n",
       "    </tr>\n",
       "    <tr>\n",
       "      <th>3950</th>\n",
       "      <td>NaN</td>\n",
       "      <td>NaN</td>\n",
       "      <td>CC(=O)N1CCC2(CC1)OC(=O)C(C)=C2C(=O)N1CCN(C)CC1</td>\n",
       "      <td>-0.608</td>\n",
       "      <td>335.398</td>\n",
       "      <td>5.0</td>\n",
       "      <td>0.0</td>\n",
       "      <td>1.0</td>\n",
       "      <td>-1.736</td>\n",
       "      <td>70.16</td>\n",
       "      <td>17</td>\n",
       "      <td>4</td>\n",
       "      <td>3</td>\n",
       "      <td>0</td>\n",
       "      <td>0</td>\n",
       "      <td>0</td>\n",
       "      <td>0</td>\n",
       "      <td>0</td>\n",
       "      <td>0</td>\n",
       "      <td>0</td>\n",
       "    </tr>\n",
       "    <tr>\n",
       "      <th>3951</th>\n",
       "      <td>NaN</td>\n",
       "      <td>NaN</td>\n",
       "      <td>CC(C)NC(=O)CN1C(=O)c2ccccc2N2C(=O)c3ccccc3C12</td>\n",
       "      <td>1.792</td>\n",
       "      <td>349.383</td>\n",
       "      <td>3.0</td>\n",
       "      <td>1.0</td>\n",
       "      <td>3.0</td>\n",
       "      <td>1.792</td>\n",
       "      <td>69.72</td>\n",
       "      <td>20</td>\n",
       "      <td>3</td>\n",
       "      <td>3</td>\n",
       "      <td>0</td>\n",
       "      <td>0</td>\n",
       "      <td>0</td>\n",
       "      <td>0</td>\n",
       "      <td>0</td>\n",
       "      <td>0</td>\n",
       "      <td>0</td>\n",
       "    </tr>\n",
       "    <tr>\n",
       "      <th>3952</th>\n",
       "      <td>NaN</td>\n",
       "      <td>NaN</td>\n",
       "      <td>Cn1cc(Br)c(=O)c(NC(=O)c2ccc(O)cc2F)c1</td>\n",
       "      <td>0.790</td>\n",
       "      <td>341.132</td>\n",
       "      <td>3.0</td>\n",
       "      <td>2.0</td>\n",
       "      <td>2.0</td>\n",
       "      <td>0.423</td>\n",
       "      <td>69.64</td>\n",
       "      <td>13</td>\n",
       "      <td>3</td>\n",
       "      <td>2</td>\n",
       "      <td>0</td>\n",
       "      <td>1</td>\n",
       "      <td>0</td>\n",
       "      <td>1</td>\n",
       "      <td>0</td>\n",
       "      <td>0</td>\n",
       "      <td>0</td>\n",
       "    </tr>\n",
       "    <tr>\n",
       "      <th>3953</th>\n",
       "      <td>NaN</td>\n",
       "      <td>NaN</td>\n",
       "      <td>CC(C)C(CCN1CCN(C)CC1)c1ccco1</td>\n",
       "      <td>2.782</td>\n",
       "      <td>250.380</td>\n",
       "      <td>2.0</td>\n",
       "      <td>0.0</td>\n",
       "      <td>5.0</td>\n",
       "      <td>0.606</td>\n",
       "      <td>19.62</td>\n",
       "      <td>15</td>\n",
       "      <td>1</td>\n",
       "      <td>2</td>\n",
       "      <td>0</td>\n",
       "      <td>0</td>\n",
       "      <td>0</td>\n",
       "      <td>0</td>\n",
       "      <td>0</td>\n",
       "      <td>0</td>\n",
       "      <td>0</td>\n",
       "    </tr>\n",
       "  </tbody>\n",
       "</table>\n",
       "<p>3954 rows × 20 columns</p>\n",
       "</div>"
      ],
      "text/plain": [
       "         MLM     HLM                                             SMILES  \\\n",
       "0     26.010  50.680    CCOc1ccc(CNC(=O)c2cc(-c3sc(C)nc3C)n[nH]2)cc1OCC   \n",
       "1     29.270  50.590               Cc1nc(C)c(CN2CC(C)C(=O)Nc3ccccc32)s1   \n",
       "2      5.586  80.892                   CCCN1CCN(c2nn3nnnc3c3ccccc23)CC1   \n",
       "3      5.710   2.000  Cc1ccc(-c2ccc(-n3nc(C)c(S(=O)(=O)N4CCN(C5CCCCC...   \n",
       "4     93.270  99.990                Cc1ccc2c(c1)N(C(=O)c1ccncc1)CC(C)O2   \n",
       "...      ...     ...                                                ...   \n",
       "3949     NaN     NaN                  CCc1noc(CC)c1CC(=O)NCC1(CC)CCCCC1   \n",
       "3950     NaN     NaN     CC(=O)N1CCC2(CC1)OC(=O)C(C)=C2C(=O)N1CCN(C)CC1   \n",
       "3951     NaN     NaN      CC(C)NC(=O)CN1C(=O)c2ccccc2N2C(=O)c3ccccc3C12   \n",
       "3952     NaN     NaN              Cn1cc(Br)c(=O)c(NC(=O)c2ccc(O)cc2F)c1   \n",
       "3953     NaN     NaN                       CC(C)C(CCN1CCN(C)CC1)c1ccco1   \n",
       "\n",
       "      AlogP  Molecular_Weight  Num_H_Acceptors  Num_H_Donors  \\\n",
       "0     3.259           400.495              5.0           2.0   \n",
       "1     2.169           301.407              2.0           1.0   \n",
       "2     1.593           297.358              5.0           0.0   \n",
       "3     4.771           494.652              6.0           0.0   \n",
       "4     2.335           268.310              3.0           0.0   \n",
       "...     ...               ...              ...           ...   \n",
       "3949  4.207           306.443              2.0           1.0   \n",
       "3950 -0.608           335.398              5.0           0.0   \n",
       "3951  1.792           349.383              3.0           1.0   \n",
       "3952  0.790           341.132              3.0           2.0   \n",
       "3953  2.782           250.380              2.0           0.0   \n",
       "\n",
       "      Num_RotatableBonds   LogD  Molecular_PolarSurfaceArea   C  O  N  S  F  \\\n",
       "0                    8.0  3.259                      117.37  20  3  4  1  0   \n",
       "1                    2.0  2.172                       73.47  16  1  3  1  0   \n",
       "2                    3.0  1.585                       62.45  15  0  7  0  0   \n",
       "3                    5.0  3.475                       92.60  26  2  6  1  0   \n",
       "4                    1.0  2.337                       42.43  16  2  2  0  0   \n",
       "...                  ...    ...                         ...  .. .. .. .. ..   \n",
       "3949                 7.0  4.207                       55.13  18  2  2  0  0   \n",
       "3950                 1.0 -1.736                       70.16  17  4  3  0  0   \n",
       "3951                 3.0  1.792                       69.72  20  3  3  0  0   \n",
       "3952                 2.0  0.423                       69.64  13  3  2  0  1   \n",
       "3953                 5.0  0.606                       19.62  15  1  2  0  0   \n",
       "\n",
       "      Cl  Br  Se  I  P  \n",
       "0      0   0   0  0  0  \n",
       "1      0   0   0  0  0  \n",
       "2      0   0   0  0  0  \n",
       "3      0   0   0  0  0  \n",
       "4      0   0   0  0  0  \n",
       "...   ..  ..  .. .. ..  \n",
       "3949   0   0   0  0  0  \n",
       "3950   0   0   0  0  0  \n",
       "3951   0   0   0  0  0  \n",
       "3952   0   1   0  0  0  \n",
       "3953   0   0   0  0  0  \n",
       "\n",
       "[3954 rows x 20 columns]"
      ]
     },
     "execution_count": 15,
     "metadata": {},
     "output_type": "execute_result"
    }
   ],
   "source": [
    "from rdkit import Chem, DataStructs\n",
    "from rdkit.Chem import Draw, Descriptors, AllChem\n",
    "from rdkit.Chem.Draw import IPythonConsole\n",
    "from collections import Counter\n",
    "\n",
    "def count_atoms(smiles):\n",
    "    mol = Chem.MolFromSmiles(smiles)\n",
    "    if mol is not None:\n",
    "        atom_symbols = [atom.GetSymbol() for atom in mol.GetAtoms()]\n",
    "        atom_counts = dict(Counter(atom_symbols))\n",
    "        return atom_counts\n",
    "    else:\n",
    "        return {}\n",
    "\n",
    "df_total['Atom_Counts'] = df_total['SMILES'].apply(count_atoms)\n",
    "atom_counts_df = pd.DataFrame(df_total['Atom_Counts'].tolist()).fillna(0).astype(int)\n",
    "df_total = pd.concat([df_total, atom_counts_df], axis=1)\n",
    "df_total = df_total.drop(columns=['Atom_Counts'])\n",
    "\n",
    "df_total"
   ]
  },
  {
   "cell_type": "code",
   "execution_count": 16,
   "metadata": {},
   "outputs": [
    {
     "data": {
      "text/html": [
       "<div>\n",
       "<style scoped>\n",
       "    .dataframe tbody tr th:only-of-type {\n",
       "        vertical-align: middle;\n",
       "    }\n",
       "\n",
       "    .dataframe tbody tr th {\n",
       "        vertical-align: top;\n",
       "    }\n",
       "\n",
       "    .dataframe thead th {\n",
       "        text-align: right;\n",
       "    }\n",
       "</style>\n",
       "<table border=\"1\" class=\"dataframe\">\n",
       "  <thead>\n",
       "    <tr style=\"text-align: right;\">\n",
       "      <th></th>\n",
       "      <th>MLM</th>\n",
       "      <th>HLM</th>\n",
       "      <th>SMILES</th>\n",
       "      <th>AlogP</th>\n",
       "      <th>Molecular_Weight</th>\n",
       "      <th>Num_H_Acceptors</th>\n",
       "      <th>Num_H_Donors</th>\n",
       "      <th>Num_RotatableBonds</th>\n",
       "      <th>LogD</th>\n",
       "      <th>Molecular_PolarSurfaceArea</th>\n",
       "      <th>...</th>\n",
       "      <th>F</th>\n",
       "      <th>Cl</th>\n",
       "      <th>Br</th>\n",
       "      <th>Se</th>\n",
       "      <th>I</th>\n",
       "      <th>P</th>\n",
       "      <th>Bond_1.0</th>\n",
       "      <th>Bond_1.5</th>\n",
       "      <th>Bond_2.0</th>\n",
       "      <th>Bond_3.0</th>\n",
       "    </tr>\n",
       "  </thead>\n",
       "  <tbody>\n",
       "    <tr>\n",
       "      <th>0</th>\n",
       "      <td>26.010</td>\n",
       "      <td>50.680</td>\n",
       "      <td>CCOc1ccc(CNC(=O)c2cc(-c3sc(C)nc3C)n[nH]2)cc1OCC</td>\n",
       "      <td>3.259</td>\n",
       "      <td>400.495</td>\n",
       "      <td>5.0</td>\n",
       "      <td>2.0</td>\n",
       "      <td>8.0</td>\n",
       "      <td>3.259</td>\n",
       "      <td>117.37</td>\n",
       "      <td>...</td>\n",
       "      <td>0</td>\n",
       "      <td>0</td>\n",
       "      <td>0</td>\n",
       "      <td>0</td>\n",
       "      <td>0</td>\n",
       "      <td>0</td>\n",
       "      <td>13</td>\n",
       "      <td>16</td>\n",
       "      <td>1</td>\n",
       "      <td>0</td>\n",
       "    </tr>\n",
       "    <tr>\n",
       "      <th>1</th>\n",
       "      <td>29.270</td>\n",
       "      <td>50.590</td>\n",
       "      <td>Cc1nc(C)c(CN2CC(C)C(=O)Nc3ccccc32)s1</td>\n",
       "      <td>2.169</td>\n",
       "      <td>301.407</td>\n",
       "      <td>2.0</td>\n",
       "      <td>1.0</td>\n",
       "      <td>2.0</td>\n",
       "      <td>2.172</td>\n",
       "      <td>73.47</td>\n",
       "      <td>...</td>\n",
       "      <td>0</td>\n",
       "      <td>0</td>\n",
       "      <td>0</td>\n",
       "      <td>0</td>\n",
       "      <td>0</td>\n",
       "      <td>0</td>\n",
       "      <td>11</td>\n",
       "      <td>11</td>\n",
       "      <td>1</td>\n",
       "      <td>0</td>\n",
       "    </tr>\n",
       "    <tr>\n",
       "      <th>2</th>\n",
       "      <td>5.586</td>\n",
       "      <td>80.892</td>\n",
       "      <td>CCCN1CCN(c2nn3nnnc3c3ccccc23)CC1</td>\n",
       "      <td>1.593</td>\n",
       "      <td>297.358</td>\n",
       "      <td>5.0</td>\n",
       "      <td>0.0</td>\n",
       "      <td>3.0</td>\n",
       "      <td>1.585</td>\n",
       "      <td>62.45</td>\n",
       "      <td>...</td>\n",
       "      <td>0</td>\n",
       "      <td>0</td>\n",
       "      <td>0</td>\n",
       "      <td>0</td>\n",
       "      <td>0</td>\n",
       "      <td>0</td>\n",
       "      <td>10</td>\n",
       "      <td>15</td>\n",
       "      <td>0</td>\n",
       "      <td>0</td>\n",
       "    </tr>\n",
       "    <tr>\n",
       "      <th>3</th>\n",
       "      <td>5.710</td>\n",
       "      <td>2.000</td>\n",
       "      <td>Cc1ccc(-c2ccc(-n3nc(C)c(S(=O)(=O)N4CCN(C5CCCCC...</td>\n",
       "      <td>4.771</td>\n",
       "      <td>494.652</td>\n",
       "      <td>6.0</td>\n",
       "      <td>0.0</td>\n",
       "      <td>5.0</td>\n",
       "      <td>3.475</td>\n",
       "      <td>92.60</td>\n",
       "      <td>...</td>\n",
       "      <td>0</td>\n",
       "      <td>0</td>\n",
       "      <td>0</td>\n",
       "      <td>0</td>\n",
       "      <td>0</td>\n",
       "      <td>0</td>\n",
       "      <td>20</td>\n",
       "      <td>17</td>\n",
       "      <td>2</td>\n",
       "      <td>0</td>\n",
       "    </tr>\n",
       "    <tr>\n",
       "      <th>4</th>\n",
       "      <td>93.270</td>\n",
       "      <td>99.990</td>\n",
       "      <td>Cc1ccc2c(c1)N(C(=O)c1ccncc1)CC(C)O2</td>\n",
       "      <td>2.335</td>\n",
       "      <td>268.310</td>\n",
       "      <td>3.0</td>\n",
       "      <td>0.0</td>\n",
       "      <td>1.0</td>\n",
       "      <td>2.337</td>\n",
       "      <td>42.43</td>\n",
       "      <td>...</td>\n",
       "      <td>0</td>\n",
       "      <td>0</td>\n",
       "      <td>0</td>\n",
       "      <td>0</td>\n",
       "      <td>0</td>\n",
       "      <td>0</td>\n",
       "      <td>9</td>\n",
       "      <td>12</td>\n",
       "      <td>1</td>\n",
       "      <td>0</td>\n",
       "    </tr>\n",
       "    <tr>\n",
       "      <th>...</th>\n",
       "      <td>...</td>\n",
       "      <td>...</td>\n",
       "      <td>...</td>\n",
       "      <td>...</td>\n",
       "      <td>...</td>\n",
       "      <td>...</td>\n",
       "      <td>...</td>\n",
       "      <td>...</td>\n",
       "      <td>...</td>\n",
       "      <td>...</td>\n",
       "      <td>...</td>\n",
       "      <td>...</td>\n",
       "      <td>...</td>\n",
       "      <td>...</td>\n",
       "      <td>...</td>\n",
       "      <td>...</td>\n",
       "      <td>...</td>\n",
       "      <td>...</td>\n",
       "      <td>...</td>\n",
       "      <td>...</td>\n",
       "      <td>...</td>\n",
       "    </tr>\n",
       "    <tr>\n",
       "      <th>3949</th>\n",
       "      <td>NaN</td>\n",
       "      <td>NaN</td>\n",
       "      <td>CCc1noc(CC)c1CC(=O)NCC1(CC)CCCCC1</td>\n",
       "      <td>4.207</td>\n",
       "      <td>306.443</td>\n",
       "      <td>2.0</td>\n",
       "      <td>1.0</td>\n",
       "      <td>7.0</td>\n",
       "      <td>4.207</td>\n",
       "      <td>55.13</td>\n",
       "      <td>...</td>\n",
       "      <td>0</td>\n",
       "      <td>0</td>\n",
       "      <td>0</td>\n",
       "      <td>0</td>\n",
       "      <td>0</td>\n",
       "      <td>0</td>\n",
       "      <td>17</td>\n",
       "      <td>5</td>\n",
       "      <td>1</td>\n",
       "      <td>0</td>\n",
       "    </tr>\n",
       "    <tr>\n",
       "      <th>3950</th>\n",
       "      <td>NaN</td>\n",
       "      <td>NaN</td>\n",
       "      <td>CC(=O)N1CCC2(CC1)OC(=O)C(C)=C2C(=O)N1CCN(C)CC1</td>\n",
       "      <td>-0.608</td>\n",
       "      <td>335.398</td>\n",
       "      <td>5.0</td>\n",
       "      <td>0.0</td>\n",
       "      <td>1.0</td>\n",
       "      <td>-1.736</td>\n",
       "      <td>70.16</td>\n",
       "      <td>...</td>\n",
       "      <td>0</td>\n",
       "      <td>0</td>\n",
       "      <td>0</td>\n",
       "      <td>0</td>\n",
       "      <td>0</td>\n",
       "      <td>0</td>\n",
       "      <td>22</td>\n",
       "      <td>0</td>\n",
       "      <td>4</td>\n",
       "      <td>0</td>\n",
       "    </tr>\n",
       "    <tr>\n",
       "      <th>3951</th>\n",
       "      <td>NaN</td>\n",
       "      <td>NaN</td>\n",
       "      <td>CC(C)NC(=O)CN1C(=O)c2ccccc2N2C(=O)c3ccccc3C12</td>\n",
       "      <td>1.792</td>\n",
       "      <td>349.383</td>\n",
       "      <td>3.0</td>\n",
       "      <td>1.0</td>\n",
       "      <td>3.0</td>\n",
       "      <td>1.792</td>\n",
       "      <td>69.72</td>\n",
       "      <td>...</td>\n",
       "      <td>0</td>\n",
       "      <td>0</td>\n",
       "      <td>0</td>\n",
       "      <td>0</td>\n",
       "      <td>0</td>\n",
       "      <td>0</td>\n",
       "      <td>14</td>\n",
       "      <td>12</td>\n",
       "      <td>3</td>\n",
       "      <td>0</td>\n",
       "    </tr>\n",
       "    <tr>\n",
       "      <th>3952</th>\n",
       "      <td>NaN</td>\n",
       "      <td>NaN</td>\n",
       "      <td>Cn1cc(Br)c(=O)c(NC(=O)c2ccc(O)cc2F)c1</td>\n",
       "      <td>0.790</td>\n",
       "      <td>341.132</td>\n",
       "      <td>3.0</td>\n",
       "      <td>2.0</td>\n",
       "      <td>2.0</td>\n",
       "      <td>0.423</td>\n",
       "      <td>69.64</td>\n",
       "      <td>...</td>\n",
       "      <td>1</td>\n",
       "      <td>0</td>\n",
       "      <td>1</td>\n",
       "      <td>0</td>\n",
       "      <td>0</td>\n",
       "      <td>0</td>\n",
       "      <td>7</td>\n",
       "      <td>12</td>\n",
       "      <td>2</td>\n",
       "      <td>0</td>\n",
       "    </tr>\n",
       "    <tr>\n",
       "      <th>3953</th>\n",
       "      <td>NaN</td>\n",
       "      <td>NaN</td>\n",
       "      <td>CC(C)C(CCN1CCN(C)CC1)c1ccco1</td>\n",
       "      <td>2.782</td>\n",
       "      <td>250.380</td>\n",
       "      <td>2.0</td>\n",
       "      <td>0.0</td>\n",
       "      <td>5.0</td>\n",
       "      <td>0.606</td>\n",
       "      <td>19.62</td>\n",
       "      <td>...</td>\n",
       "      <td>0</td>\n",
       "      <td>0</td>\n",
       "      <td>0</td>\n",
       "      <td>0</td>\n",
       "      <td>0</td>\n",
       "      <td>0</td>\n",
       "      <td>14</td>\n",
       "      <td>5</td>\n",
       "      <td>0</td>\n",
       "      <td>0</td>\n",
       "    </tr>\n",
       "  </tbody>\n",
       "</table>\n",
       "<p>3954 rows × 24 columns</p>\n",
       "</div>"
      ],
      "text/plain": [
       "         MLM     HLM                                             SMILES  \\\n",
       "0     26.010  50.680    CCOc1ccc(CNC(=O)c2cc(-c3sc(C)nc3C)n[nH]2)cc1OCC   \n",
       "1     29.270  50.590               Cc1nc(C)c(CN2CC(C)C(=O)Nc3ccccc32)s1   \n",
       "2      5.586  80.892                   CCCN1CCN(c2nn3nnnc3c3ccccc23)CC1   \n",
       "3      5.710   2.000  Cc1ccc(-c2ccc(-n3nc(C)c(S(=O)(=O)N4CCN(C5CCCCC...   \n",
       "4     93.270  99.990                Cc1ccc2c(c1)N(C(=O)c1ccncc1)CC(C)O2   \n",
       "...      ...     ...                                                ...   \n",
       "3949     NaN     NaN                  CCc1noc(CC)c1CC(=O)NCC1(CC)CCCCC1   \n",
       "3950     NaN     NaN     CC(=O)N1CCC2(CC1)OC(=O)C(C)=C2C(=O)N1CCN(C)CC1   \n",
       "3951     NaN     NaN      CC(C)NC(=O)CN1C(=O)c2ccccc2N2C(=O)c3ccccc3C12   \n",
       "3952     NaN     NaN              Cn1cc(Br)c(=O)c(NC(=O)c2ccc(O)cc2F)c1   \n",
       "3953     NaN     NaN                       CC(C)C(CCN1CCN(C)CC1)c1ccco1   \n",
       "\n",
       "      AlogP  Molecular_Weight  Num_H_Acceptors  Num_H_Donors  \\\n",
       "0     3.259           400.495              5.0           2.0   \n",
       "1     2.169           301.407              2.0           1.0   \n",
       "2     1.593           297.358              5.0           0.0   \n",
       "3     4.771           494.652              6.0           0.0   \n",
       "4     2.335           268.310              3.0           0.0   \n",
       "...     ...               ...              ...           ...   \n",
       "3949  4.207           306.443              2.0           1.0   \n",
       "3950 -0.608           335.398              5.0           0.0   \n",
       "3951  1.792           349.383              3.0           1.0   \n",
       "3952  0.790           341.132              3.0           2.0   \n",
       "3953  2.782           250.380              2.0           0.0   \n",
       "\n",
       "      Num_RotatableBonds   LogD  Molecular_PolarSurfaceArea  ...  F  Cl  Br  \\\n",
       "0                    8.0  3.259                      117.37  ...  0   0   0   \n",
       "1                    2.0  2.172                       73.47  ...  0   0   0   \n",
       "2                    3.0  1.585                       62.45  ...  0   0   0   \n",
       "3                    5.0  3.475                       92.60  ...  0   0   0   \n",
       "4                    1.0  2.337                       42.43  ...  0   0   0   \n",
       "...                  ...    ...                         ...  ... ..  ..  ..   \n",
       "3949                 7.0  4.207                       55.13  ...  0   0   0   \n",
       "3950                 1.0 -1.736                       70.16  ...  0   0   0   \n",
       "3951                 3.0  1.792                       69.72  ...  0   0   0   \n",
       "3952                 2.0  0.423                       69.64  ...  1   0   1   \n",
       "3953                 5.0  0.606                       19.62  ...  0   0   0   \n",
       "\n",
       "      Se  I  P  Bond_1.0  Bond_1.5  Bond_2.0  Bond_3.0  \n",
       "0      0  0  0        13        16         1         0  \n",
       "1      0  0  0        11        11         1         0  \n",
       "2      0  0  0        10        15         0         0  \n",
       "3      0  0  0        20        17         2         0  \n",
       "4      0  0  0         9        12         1         0  \n",
       "...   .. .. ..       ...       ...       ...       ...  \n",
       "3949   0  0  0        17         5         1         0  \n",
       "3950   0  0  0        22         0         4         0  \n",
       "3951   0  0  0        14        12         3         0  \n",
       "3952   0  0  0         7        12         2         0  \n",
       "3953   0  0  0        14         5         0         0  \n",
       "\n",
       "[3954 rows x 24 columns]"
      ]
     },
     "execution_count": 16,
     "metadata": {},
     "output_type": "execute_result"
    }
   ],
   "source": [
    "def bond_frequency(smiles):\n",
    "    mol = Chem.MolFromSmiles(smiles)\n",
    "    if mol is not None:\n",
    "        bonds = mol.GetBonds()\n",
    "        bond_counts = [bond.GetBondTypeAsDouble() for bond in bonds]\n",
    "        bond_freq = dict(Counter(bond_counts))\n",
    "        return bond_freq\n",
    "    else:\n",
    "        return {}\n",
    "\n",
    "# dictionary 형태로 저장 및 pandas column 변환\n",
    "df_total['Bond_Frequencies'] = df_total['SMILES'].apply(bond_frequency)\n",
    "bond_freq_df = pd.DataFrame(df_total['Bond_Frequencies'].tolist()).fillna(0).astype(int)\n",
    "df_total = pd.concat([df_total, bond_freq_df], axis=1)\n",
    "\n",
    "# 추출한 특성 drop\n",
    "df_total = df_total.drop(columns=['Bond_Frequencies'])\n",
    "\n",
    "# 결합 column name 변경\n",
    "new_column_names = {\n",
    "    1.0: 'Bond_1.0',\n",
    "    1.5: 'Bond_1.5',\n",
    "    2.0: 'Bond_2.0',\n",
    "    3.0: 'Bond_3.0'\n",
    "}\n",
    "df_total = df_total.rename(columns=new_column_names)\n",
    "\n",
    "df_total"
   ]
  },
  {
   "cell_type": "markdown",
   "metadata": {},
   "source": [
    "## 특성 공학 추가"
   ]
  },
  {
   "cell_type": "code",
   "execution_count": 17,
   "metadata": {},
   "outputs": [
    {
     "data": {
      "text/html": [
       "<div>\n",
       "<style scoped>\n",
       "    .dataframe tbody tr th:only-of-type {\n",
       "        vertical-align: middle;\n",
       "    }\n",
       "\n",
       "    .dataframe tbody tr th {\n",
       "        vertical-align: top;\n",
       "    }\n",
       "\n",
       "    .dataframe thead th {\n",
       "        text-align: right;\n",
       "    }\n",
       "</style>\n",
       "<table border=\"1\" class=\"dataframe\">\n",
       "  <thead>\n",
       "    <tr style=\"text-align: right;\">\n",
       "      <th></th>\n",
       "      <th>MLM</th>\n",
       "      <th>HLM</th>\n",
       "      <th>SMILES</th>\n",
       "      <th>AlogP</th>\n",
       "      <th>Molecular_Weight</th>\n",
       "      <th>Num_H_Acceptors</th>\n",
       "      <th>Num_H_Donors</th>\n",
       "      <th>Num_RotatableBonds</th>\n",
       "      <th>LogD</th>\n",
       "      <th>Molecular_PolarSurfaceArea</th>\n",
       "      <th>...</th>\n",
       "      <th>F</th>\n",
       "      <th>Cl</th>\n",
       "      <th>Br</th>\n",
       "      <th>Se</th>\n",
       "      <th>I</th>\n",
       "      <th>P</th>\n",
       "      <th>Bond_1.0</th>\n",
       "      <th>Bond_1.5</th>\n",
       "      <th>Bond_2.0</th>\n",
       "      <th>Bond_3.0</th>\n",
       "    </tr>\n",
       "  </thead>\n",
       "  <tbody>\n",
       "    <tr>\n",
       "      <th>651</th>\n",
       "      <td>131.720</td>\n",
       "      <td>99.570</td>\n",
       "      <td>O=C(Nc1ccccc1)C1CCCN1C1=NS(=O)(=O)c2ccccc21</td>\n",
       "      <td>1.412</td>\n",
       "      <td>355.411</td>\n",
       "      <td>4.0</td>\n",
       "      <td>1.0</td>\n",
       "      <td>3.0</td>\n",
       "      <td>1.412</td>\n",
       "      <td>87.22</td>\n",
       "      <td>...</td>\n",
       "      <td>0</td>\n",
       "      <td>0</td>\n",
       "      <td>0</td>\n",
       "      <td>0</td>\n",
       "      <td>0</td>\n",
       "      <td>0</td>\n",
       "      <td>12</td>\n",
       "      <td>12</td>\n",
       "      <td>4</td>\n",
       "      <td>0</td>\n",
       "    </tr>\n",
       "    <tr>\n",
       "      <th>1076</th>\n",
       "      <td>3.820</td>\n",
       "      <td>106.510</td>\n",
       "      <td>COc1c(NC(=O)c2ccc[nH]2)cc(Cl)cc1C(=O)N(C)C</td>\n",
       "      <td>2.061</td>\n",
       "      <td>321.759</td>\n",
       "      <td>3.0</td>\n",
       "      <td>2.0</td>\n",
       "      <td>4.0</td>\n",
       "      <td>2.061</td>\n",
       "      <td>74.43</td>\n",
       "      <td>...</td>\n",
       "      <td>0</td>\n",
       "      <td>1</td>\n",
       "      <td>0</td>\n",
       "      <td>0</td>\n",
       "      <td>0</td>\n",
       "      <td>0</td>\n",
       "      <td>10</td>\n",
       "      <td>11</td>\n",
       "      <td>2</td>\n",
       "      <td>0</td>\n",
       "    </tr>\n",
       "    <tr>\n",
       "      <th>1564</th>\n",
       "      <td>1.745</td>\n",
       "      <td>135.336</td>\n",
       "      <td>CN(C)S(=O)(=O)CCNCc1ccc(-c2ccccc2)cc1</td>\n",
       "      <td>2.075</td>\n",
       "      <td>318.434</td>\n",
       "      <td>3.0</td>\n",
       "      <td>1.0</td>\n",
       "      <td>7.0</td>\n",
       "      <td>2.052</td>\n",
       "      <td>57.79</td>\n",
       "      <td>...</td>\n",
       "      <td>0</td>\n",
       "      <td>0</td>\n",
       "      <td>0</td>\n",
       "      <td>0</td>\n",
       "      <td>0</td>\n",
       "      <td>0</td>\n",
       "      <td>9</td>\n",
       "      <td>12</td>\n",
       "      <td>2</td>\n",
       "      <td>0</td>\n",
       "    </tr>\n",
       "    <tr>\n",
       "      <th>2373</th>\n",
       "      <td>86.878</td>\n",
       "      <td>107.323</td>\n",
       "      <td>CC(C)CCC1CCN(C(=O)C2CC(O)CN2)CC1</td>\n",
       "      <td>1.345</td>\n",
       "      <td>268.395</td>\n",
       "      <td>3.0</td>\n",
       "      <td>2.0</td>\n",
       "      <td>4.0</td>\n",
       "      <td>0.139</td>\n",
       "      <td>52.57</td>\n",
       "      <td>...</td>\n",
       "      <td>0</td>\n",
       "      <td>0</td>\n",
       "      <td>0</td>\n",
       "      <td>0</td>\n",
       "      <td>0</td>\n",
       "      <td>0</td>\n",
       "      <td>19</td>\n",
       "      <td>0</td>\n",
       "      <td>1</td>\n",
       "      <td>0</td>\n",
       "    </tr>\n",
       "    <tr>\n",
       "      <th>2546</th>\n",
       "      <td>98.550</td>\n",
       "      <td>103.720</td>\n",
       "      <td>Cc1nc(-c2c[nH]c(C(=O)N3CCOc4cc(F)ccc43)c2)cs1</td>\n",
       "      <td>2.876</td>\n",
       "      <td>343.375</td>\n",
       "      <td>3.0</td>\n",
       "      <td>1.0</td>\n",
       "      <td>2.0</td>\n",
       "      <td>3.032</td>\n",
       "      <td>86.46</td>\n",
       "      <td>...</td>\n",
       "      <td>1</td>\n",
       "      <td>0</td>\n",
       "      <td>0</td>\n",
       "      <td>0</td>\n",
       "      <td>0</td>\n",
       "      <td>0</td>\n",
       "      <td>10</td>\n",
       "      <td>16</td>\n",
       "      <td>1</td>\n",
       "      <td>0</td>\n",
       "    </tr>\n",
       "    <tr>\n",
       "      <th>2899</th>\n",
       "      <td>101.380</td>\n",
       "      <td>52.330</td>\n",
       "      <td>CCCC(=O)Nc1cc(C(=O)NC2CCCCC2)ccc1S(=O)(=O)c1cc...</td>\n",
       "      <td>4.906</td>\n",
       "      <td>462.989</td>\n",
       "      <td>4.0</td>\n",
       "      <td>2.0</td>\n",
       "      <td>7.0</td>\n",
       "      <td>4.906</td>\n",
       "      <td>100.72</td>\n",
       "      <td>...</td>\n",
       "      <td>0</td>\n",
       "      <td>1</td>\n",
       "      <td>0</td>\n",
       "      <td>0</td>\n",
       "      <td>0</td>\n",
       "      <td>0</td>\n",
       "      <td>17</td>\n",
       "      <td>12</td>\n",
       "      <td>4</td>\n",
       "      <td>0</td>\n",
       "    </tr>\n",
       "    <tr>\n",
       "      <th>3107</th>\n",
       "      <td>52.847</td>\n",
       "      <td>103.907</td>\n",
       "      <td>CN1C(=O)c2cccc3c2C1=Cc1ccc2ccccc2c1O3</td>\n",
       "      <td>3.319</td>\n",
       "      <td>299.323</td>\n",
       "      <td>2.0</td>\n",
       "      <td>0.0</td>\n",
       "      <td>0.0</td>\n",
       "      <td>3.319</td>\n",
       "      <td>29.54</td>\n",
       "      <td>...</td>\n",
       "      <td>0</td>\n",
       "      <td>0</td>\n",
       "      <td>0</td>\n",
       "      <td>0</td>\n",
       "      <td>0</td>\n",
       "      <td>0</td>\n",
       "      <td>8</td>\n",
       "      <td>17</td>\n",
       "      <td>2</td>\n",
       "      <td>0</td>\n",
       "    </tr>\n",
       "    <tr>\n",
       "      <th>3350</th>\n",
       "      <td>8.890</td>\n",
       "      <td>100.830</td>\n",
       "      <td>c1cnc2c(C3NCCc4c3[nH]c3ccccc43)cccc2c1</td>\n",
       "      <td>3.719</td>\n",
       "      <td>299.369</td>\n",
       "      <td>2.0</td>\n",
       "      <td>2.0</td>\n",
       "      <td>1.0</td>\n",
       "      <td>3.719</td>\n",
       "      <td>40.71</td>\n",
       "      <td>...</td>\n",
       "      <td>0</td>\n",
       "      <td>0</td>\n",
       "      <td>0</td>\n",
       "      <td>0</td>\n",
       "      <td>0</td>\n",
       "      <td>0</td>\n",
       "      <td>6</td>\n",
       "      <td>21</td>\n",
       "      <td>0</td>\n",
       "      <td>0</td>\n",
       "    </tr>\n",
       "  </tbody>\n",
       "</table>\n",
       "<p>8 rows × 24 columns</p>\n",
       "</div>"
      ],
      "text/plain": [
       "          MLM      HLM                                             SMILES  \\\n",
       "651   131.720   99.570        O=C(Nc1ccccc1)C1CCCN1C1=NS(=O)(=O)c2ccccc21   \n",
       "1076    3.820  106.510         COc1c(NC(=O)c2ccc[nH]2)cc(Cl)cc1C(=O)N(C)C   \n",
       "1564    1.745  135.336              CN(C)S(=O)(=O)CCNCc1ccc(-c2ccccc2)cc1   \n",
       "2373   86.878  107.323                   CC(C)CCC1CCN(C(=O)C2CC(O)CN2)CC1   \n",
       "2546   98.550  103.720      Cc1nc(-c2c[nH]c(C(=O)N3CCOc4cc(F)ccc43)c2)cs1   \n",
       "2899  101.380   52.330  CCCC(=O)Nc1cc(C(=O)NC2CCCCC2)ccc1S(=O)(=O)c1cc...   \n",
       "3107   52.847  103.907              CN1C(=O)c2cccc3c2C1=Cc1ccc2ccccc2c1O3   \n",
       "3350    8.890  100.830             c1cnc2c(C3NCCc4c3[nH]c3ccccc43)cccc2c1   \n",
       "\n",
       "      AlogP  Molecular_Weight  Num_H_Acceptors  Num_H_Donors  \\\n",
       "651   1.412           355.411              4.0           1.0   \n",
       "1076  2.061           321.759              3.0           2.0   \n",
       "1564  2.075           318.434              3.0           1.0   \n",
       "2373  1.345           268.395              3.0           2.0   \n",
       "2546  2.876           343.375              3.0           1.0   \n",
       "2899  4.906           462.989              4.0           2.0   \n",
       "3107  3.319           299.323              2.0           0.0   \n",
       "3350  3.719           299.369              2.0           2.0   \n",
       "\n",
       "      Num_RotatableBonds   LogD  Molecular_PolarSurfaceArea  ...  F  Cl  Br  \\\n",
       "651                  3.0  1.412                       87.22  ...  0   0   0   \n",
       "1076                 4.0  2.061                       74.43  ...  0   1   0   \n",
       "1564                 7.0  2.052                       57.79  ...  0   0   0   \n",
       "2373                 4.0  0.139                       52.57  ...  0   0   0   \n",
       "2546                 2.0  3.032                       86.46  ...  1   0   0   \n",
       "2899                 7.0  4.906                      100.72  ...  0   1   0   \n",
       "3107                 0.0  3.319                       29.54  ...  0   0   0   \n",
       "3350                 1.0  3.719                       40.71  ...  0   0   0   \n",
       "\n",
       "      Se  I  P  Bond_1.0  Bond_1.5  Bond_2.0  Bond_3.0  \n",
       "651    0  0  0        12        12         4         0  \n",
       "1076   0  0  0        10        11         2         0  \n",
       "1564   0  0  0         9        12         2         0  \n",
       "2373   0  0  0        19         0         1         0  \n",
       "2546   0  0  0        10        16         1         0  \n",
       "2899   0  0  0        17        12         4         0  \n",
       "3107   0  0  0         8        17         2         0  \n",
       "3350   0  0  0         6        21         0         0  \n",
       "\n",
       "[8 rows x 24 columns]"
      ]
     },
     "execution_count": 17,
     "metadata": {},
     "output_type": "execute_result"
    }
   ],
   "source": [
    "# target(MLM, HLM) 100 이상의 이상치 제거\n",
    "df_total[(df_total['HLM'] > 100) | (df_total['MLM'] > 100)]"
   ]
  },
  {
   "cell_type": "code",
   "execution_count": 18,
   "metadata": {},
   "outputs": [
    {
     "data": {
      "text/html": [
       "<div>\n",
       "<style scoped>\n",
       "    .dataframe tbody tr th:only-of-type {\n",
       "        vertical-align: middle;\n",
       "    }\n",
       "\n",
       "    .dataframe tbody tr th {\n",
       "        vertical-align: top;\n",
       "    }\n",
       "\n",
       "    .dataframe thead th {\n",
       "        text-align: right;\n",
       "    }\n",
       "</style>\n",
       "<table border=\"1\" class=\"dataframe\">\n",
       "  <thead>\n",
       "    <tr style=\"text-align: right;\">\n",
       "      <th></th>\n",
       "      <th>MLM</th>\n",
       "      <th>HLM</th>\n",
       "      <th>SMILES</th>\n",
       "      <th>AlogP</th>\n",
       "      <th>Molecular_Weight</th>\n",
       "      <th>Num_H_Acceptors</th>\n",
       "      <th>Num_H_Donors</th>\n",
       "      <th>Num_RotatableBonds</th>\n",
       "      <th>LogD</th>\n",
       "      <th>Molecular_PolarSurfaceArea</th>\n",
       "      <th>...</th>\n",
       "      <th>F</th>\n",
       "      <th>Cl</th>\n",
       "      <th>Br</th>\n",
       "      <th>Se</th>\n",
       "      <th>I</th>\n",
       "      <th>P</th>\n",
       "      <th>Bond_1.0</th>\n",
       "      <th>Bond_1.5</th>\n",
       "      <th>Bond_2.0</th>\n",
       "      <th>Bond_3.0</th>\n",
       "    </tr>\n",
       "  </thead>\n",
       "  <tbody>\n",
       "    <tr>\n",
       "      <th>0</th>\n",
       "      <td>26.010</td>\n",
       "      <td>50.680</td>\n",
       "      <td>CCOc1ccc(CNC(=O)c2cc(-c3sc(C)nc3C)n[nH]2)cc1OCC</td>\n",
       "      <td>3.259</td>\n",
       "      <td>400.495</td>\n",
       "      <td>5.0</td>\n",
       "      <td>2.0</td>\n",
       "      <td>8.0</td>\n",
       "      <td>3.259</td>\n",
       "      <td>117.37</td>\n",
       "      <td>...</td>\n",
       "      <td>0</td>\n",
       "      <td>0</td>\n",
       "      <td>0</td>\n",
       "      <td>0</td>\n",
       "      <td>0</td>\n",
       "      <td>0</td>\n",
       "      <td>13</td>\n",
       "      <td>16</td>\n",
       "      <td>1</td>\n",
       "      <td>0</td>\n",
       "    </tr>\n",
       "    <tr>\n",
       "      <th>1</th>\n",
       "      <td>29.270</td>\n",
       "      <td>50.590</td>\n",
       "      <td>Cc1nc(C)c(CN2CC(C)C(=O)Nc3ccccc32)s1</td>\n",
       "      <td>2.169</td>\n",
       "      <td>301.407</td>\n",
       "      <td>2.0</td>\n",
       "      <td>1.0</td>\n",
       "      <td>2.0</td>\n",
       "      <td>2.172</td>\n",
       "      <td>73.47</td>\n",
       "      <td>...</td>\n",
       "      <td>0</td>\n",
       "      <td>0</td>\n",
       "      <td>0</td>\n",
       "      <td>0</td>\n",
       "      <td>0</td>\n",
       "      <td>0</td>\n",
       "      <td>11</td>\n",
       "      <td>11</td>\n",
       "      <td>1</td>\n",
       "      <td>0</td>\n",
       "    </tr>\n",
       "    <tr>\n",
       "      <th>2</th>\n",
       "      <td>5.586</td>\n",
       "      <td>80.892</td>\n",
       "      <td>CCCN1CCN(c2nn3nnnc3c3ccccc23)CC1</td>\n",
       "      <td>1.593</td>\n",
       "      <td>297.358</td>\n",
       "      <td>5.0</td>\n",
       "      <td>0.0</td>\n",
       "      <td>3.0</td>\n",
       "      <td>1.585</td>\n",
       "      <td>62.45</td>\n",
       "      <td>...</td>\n",
       "      <td>0</td>\n",
       "      <td>0</td>\n",
       "      <td>0</td>\n",
       "      <td>0</td>\n",
       "      <td>0</td>\n",
       "      <td>0</td>\n",
       "      <td>10</td>\n",
       "      <td>15</td>\n",
       "      <td>0</td>\n",
       "      <td>0</td>\n",
       "    </tr>\n",
       "    <tr>\n",
       "      <th>3</th>\n",
       "      <td>5.710</td>\n",
       "      <td>2.000</td>\n",
       "      <td>Cc1ccc(-c2ccc(-n3nc(C)c(S(=O)(=O)N4CCN(C5CCCCC...</td>\n",
       "      <td>4.771</td>\n",
       "      <td>494.652</td>\n",
       "      <td>6.0</td>\n",
       "      <td>0.0</td>\n",
       "      <td>5.0</td>\n",
       "      <td>3.475</td>\n",
       "      <td>92.60</td>\n",
       "      <td>...</td>\n",
       "      <td>0</td>\n",
       "      <td>0</td>\n",
       "      <td>0</td>\n",
       "      <td>0</td>\n",
       "      <td>0</td>\n",
       "      <td>0</td>\n",
       "      <td>20</td>\n",
       "      <td>17</td>\n",
       "      <td>2</td>\n",
       "      <td>0</td>\n",
       "    </tr>\n",
       "    <tr>\n",
       "      <th>4</th>\n",
       "      <td>93.270</td>\n",
       "      <td>99.990</td>\n",
       "      <td>Cc1ccc2c(c1)N(C(=O)c1ccncc1)CC(C)O2</td>\n",
       "      <td>2.335</td>\n",
       "      <td>268.310</td>\n",
       "      <td>3.0</td>\n",
       "      <td>0.0</td>\n",
       "      <td>1.0</td>\n",
       "      <td>2.337</td>\n",
       "      <td>42.43</td>\n",
       "      <td>...</td>\n",
       "      <td>0</td>\n",
       "      <td>0</td>\n",
       "      <td>0</td>\n",
       "      <td>0</td>\n",
       "      <td>0</td>\n",
       "      <td>0</td>\n",
       "      <td>9</td>\n",
       "      <td>12</td>\n",
       "      <td>1</td>\n",
       "      <td>0</td>\n",
       "    </tr>\n",
       "    <tr>\n",
       "      <th>...</th>\n",
       "      <td>...</td>\n",
       "      <td>...</td>\n",
       "      <td>...</td>\n",
       "      <td>...</td>\n",
       "      <td>...</td>\n",
       "      <td>...</td>\n",
       "      <td>...</td>\n",
       "      <td>...</td>\n",
       "      <td>...</td>\n",
       "      <td>...</td>\n",
       "      <td>...</td>\n",
       "      <td>...</td>\n",
       "      <td>...</td>\n",
       "      <td>...</td>\n",
       "      <td>...</td>\n",
       "      <td>...</td>\n",
       "      <td>...</td>\n",
       "      <td>...</td>\n",
       "      <td>...</td>\n",
       "      <td>...</td>\n",
       "      <td>...</td>\n",
       "    </tr>\n",
       "    <tr>\n",
       "      <th>3949</th>\n",
       "      <td>NaN</td>\n",
       "      <td>NaN</td>\n",
       "      <td>CCc1noc(CC)c1CC(=O)NCC1(CC)CCCCC1</td>\n",
       "      <td>4.207</td>\n",
       "      <td>306.443</td>\n",
       "      <td>2.0</td>\n",
       "      <td>1.0</td>\n",
       "      <td>7.0</td>\n",
       "      <td>4.207</td>\n",
       "      <td>55.13</td>\n",
       "      <td>...</td>\n",
       "      <td>0</td>\n",
       "      <td>0</td>\n",
       "      <td>0</td>\n",
       "      <td>0</td>\n",
       "      <td>0</td>\n",
       "      <td>0</td>\n",
       "      <td>17</td>\n",
       "      <td>5</td>\n",
       "      <td>1</td>\n",
       "      <td>0</td>\n",
       "    </tr>\n",
       "    <tr>\n",
       "      <th>3950</th>\n",
       "      <td>NaN</td>\n",
       "      <td>NaN</td>\n",
       "      <td>CC(=O)N1CCC2(CC1)OC(=O)C(C)=C2C(=O)N1CCN(C)CC1</td>\n",
       "      <td>-0.608</td>\n",
       "      <td>335.398</td>\n",
       "      <td>5.0</td>\n",
       "      <td>0.0</td>\n",
       "      <td>1.0</td>\n",
       "      <td>-1.736</td>\n",
       "      <td>70.16</td>\n",
       "      <td>...</td>\n",
       "      <td>0</td>\n",
       "      <td>0</td>\n",
       "      <td>0</td>\n",
       "      <td>0</td>\n",
       "      <td>0</td>\n",
       "      <td>0</td>\n",
       "      <td>22</td>\n",
       "      <td>0</td>\n",
       "      <td>4</td>\n",
       "      <td>0</td>\n",
       "    </tr>\n",
       "    <tr>\n",
       "      <th>3951</th>\n",
       "      <td>NaN</td>\n",
       "      <td>NaN</td>\n",
       "      <td>CC(C)NC(=O)CN1C(=O)c2ccccc2N2C(=O)c3ccccc3C12</td>\n",
       "      <td>1.792</td>\n",
       "      <td>349.383</td>\n",
       "      <td>3.0</td>\n",
       "      <td>1.0</td>\n",
       "      <td>3.0</td>\n",
       "      <td>1.792</td>\n",
       "      <td>69.72</td>\n",
       "      <td>...</td>\n",
       "      <td>0</td>\n",
       "      <td>0</td>\n",
       "      <td>0</td>\n",
       "      <td>0</td>\n",
       "      <td>0</td>\n",
       "      <td>0</td>\n",
       "      <td>14</td>\n",
       "      <td>12</td>\n",
       "      <td>3</td>\n",
       "      <td>0</td>\n",
       "    </tr>\n",
       "    <tr>\n",
       "      <th>3952</th>\n",
       "      <td>NaN</td>\n",
       "      <td>NaN</td>\n",
       "      <td>Cn1cc(Br)c(=O)c(NC(=O)c2ccc(O)cc2F)c1</td>\n",
       "      <td>0.790</td>\n",
       "      <td>341.132</td>\n",
       "      <td>3.0</td>\n",
       "      <td>2.0</td>\n",
       "      <td>2.0</td>\n",
       "      <td>0.423</td>\n",
       "      <td>69.64</td>\n",
       "      <td>...</td>\n",
       "      <td>1</td>\n",
       "      <td>0</td>\n",
       "      <td>1</td>\n",
       "      <td>0</td>\n",
       "      <td>0</td>\n",
       "      <td>0</td>\n",
       "      <td>7</td>\n",
       "      <td>12</td>\n",
       "      <td>2</td>\n",
       "      <td>0</td>\n",
       "    </tr>\n",
       "    <tr>\n",
       "      <th>3953</th>\n",
       "      <td>NaN</td>\n",
       "      <td>NaN</td>\n",
       "      <td>CC(C)C(CCN1CCN(C)CC1)c1ccco1</td>\n",
       "      <td>2.782</td>\n",
       "      <td>250.380</td>\n",
       "      <td>2.0</td>\n",
       "      <td>0.0</td>\n",
       "      <td>5.0</td>\n",
       "      <td>0.606</td>\n",
       "      <td>19.62</td>\n",
       "      <td>...</td>\n",
       "      <td>0</td>\n",
       "      <td>0</td>\n",
       "      <td>0</td>\n",
       "      <td>0</td>\n",
       "      <td>0</td>\n",
       "      <td>0</td>\n",
       "      <td>14</td>\n",
       "      <td>5</td>\n",
       "      <td>0</td>\n",
       "      <td>0</td>\n",
       "    </tr>\n",
       "  </tbody>\n",
       "</table>\n",
       "<p>3946 rows × 24 columns</p>\n",
       "</div>"
      ],
      "text/plain": [
       "         MLM     HLM                                             SMILES  \\\n",
       "0     26.010  50.680    CCOc1ccc(CNC(=O)c2cc(-c3sc(C)nc3C)n[nH]2)cc1OCC   \n",
       "1     29.270  50.590               Cc1nc(C)c(CN2CC(C)C(=O)Nc3ccccc32)s1   \n",
       "2      5.586  80.892                   CCCN1CCN(c2nn3nnnc3c3ccccc23)CC1   \n",
       "3      5.710   2.000  Cc1ccc(-c2ccc(-n3nc(C)c(S(=O)(=O)N4CCN(C5CCCCC...   \n",
       "4     93.270  99.990                Cc1ccc2c(c1)N(C(=O)c1ccncc1)CC(C)O2   \n",
       "...      ...     ...                                                ...   \n",
       "3949     NaN     NaN                  CCc1noc(CC)c1CC(=O)NCC1(CC)CCCCC1   \n",
       "3950     NaN     NaN     CC(=O)N1CCC2(CC1)OC(=O)C(C)=C2C(=O)N1CCN(C)CC1   \n",
       "3951     NaN     NaN      CC(C)NC(=O)CN1C(=O)c2ccccc2N2C(=O)c3ccccc3C12   \n",
       "3952     NaN     NaN              Cn1cc(Br)c(=O)c(NC(=O)c2ccc(O)cc2F)c1   \n",
       "3953     NaN     NaN                       CC(C)C(CCN1CCN(C)CC1)c1ccco1   \n",
       "\n",
       "      AlogP  Molecular_Weight  Num_H_Acceptors  Num_H_Donors  \\\n",
       "0     3.259           400.495              5.0           2.0   \n",
       "1     2.169           301.407              2.0           1.0   \n",
       "2     1.593           297.358              5.0           0.0   \n",
       "3     4.771           494.652              6.0           0.0   \n",
       "4     2.335           268.310              3.0           0.0   \n",
       "...     ...               ...              ...           ...   \n",
       "3949  4.207           306.443              2.0           1.0   \n",
       "3950 -0.608           335.398              5.0           0.0   \n",
       "3951  1.792           349.383              3.0           1.0   \n",
       "3952  0.790           341.132              3.0           2.0   \n",
       "3953  2.782           250.380              2.0           0.0   \n",
       "\n",
       "      Num_RotatableBonds   LogD  Molecular_PolarSurfaceArea  ...  F  Cl  Br  \\\n",
       "0                    8.0  3.259                      117.37  ...  0   0   0   \n",
       "1                    2.0  2.172                       73.47  ...  0   0   0   \n",
       "2                    3.0  1.585                       62.45  ...  0   0   0   \n",
       "3                    5.0  3.475                       92.60  ...  0   0   0   \n",
       "4                    1.0  2.337                       42.43  ...  0   0   0   \n",
       "...                  ...    ...                         ...  ... ..  ..  ..   \n",
       "3949                 7.0  4.207                       55.13  ...  0   0   0   \n",
       "3950                 1.0 -1.736                       70.16  ...  0   0   0   \n",
       "3951                 3.0  1.792                       69.72  ...  0   0   0   \n",
       "3952                 2.0  0.423                       69.64  ...  1   0   1   \n",
       "3953                 5.0  0.606                       19.62  ...  0   0   0   \n",
       "\n",
       "      Se  I  P  Bond_1.0  Bond_1.5  Bond_2.0  Bond_3.0  \n",
       "0      0  0  0        13        16         1         0  \n",
       "1      0  0  0        11        11         1         0  \n",
       "2      0  0  0        10        15         0         0  \n",
       "3      0  0  0        20        17         2         0  \n",
       "4      0  0  0         9        12         1         0  \n",
       "...   .. .. ..       ...       ...       ...       ...  \n",
       "3949   0  0  0        17         5         1         0  \n",
       "3950   0  0  0        22         0         4         0  \n",
       "3951   0  0  0        14        12         3         0  \n",
       "3952   0  0  0         7        12         2         0  \n",
       "3953   0  0  0        14         5         0         0  \n",
       "\n",
       "[3946 rows x 24 columns]"
      ]
     },
     "execution_count": 18,
     "metadata": {},
     "output_type": "execute_result"
    }
   ],
   "source": [
    "df_total = df_total[~((df_total['HLM'] > 100) | (df_total['MLM'] > 100))]\n",
    "df_total"
   ]
  },
  {
   "cell_type": "code",
   "execution_count": 19,
   "metadata": {},
   "outputs": [
    {
     "data": {
      "text/html": [
       "<div>\n",
       "<style scoped>\n",
       "    .dataframe tbody tr th:only-of-type {\n",
       "        vertical-align: middle;\n",
       "    }\n",
       "\n",
       "    .dataframe tbody tr th {\n",
       "        vertical-align: top;\n",
       "    }\n",
       "\n",
       "    .dataframe thead th {\n",
       "        text-align: right;\n",
       "    }\n",
       "</style>\n",
       "<table border=\"1\" class=\"dataframe\">\n",
       "  <thead>\n",
       "    <tr style=\"text-align: right;\">\n",
       "      <th></th>\n",
       "      <th>MLM</th>\n",
       "      <th>HLM</th>\n",
       "      <th>SMILES</th>\n",
       "      <th>AlogP</th>\n",
       "      <th>Molecular_Weight</th>\n",
       "      <th>Num_H_Acceptors</th>\n",
       "      <th>Num_H_Donors</th>\n",
       "      <th>Num_RotatableBonds</th>\n",
       "      <th>LogD</th>\n",
       "      <th>Molecular_PolarSurfaceArea</th>\n",
       "      <th>...</th>\n",
       "      <th>F</th>\n",
       "      <th>Cl</th>\n",
       "      <th>Br</th>\n",
       "      <th>Se</th>\n",
       "      <th>I</th>\n",
       "      <th>P</th>\n",
       "      <th>Bond_1.0</th>\n",
       "      <th>Bond_1.5</th>\n",
       "      <th>Bond_2.0</th>\n",
       "      <th>Bond_3.0</th>\n",
       "    </tr>\n",
       "  </thead>\n",
       "  <tbody>\n",
       "    <tr>\n",
       "      <th>177</th>\n",
       "      <td>62.030</td>\n",
       "      <td>50.590</td>\n",
       "      <td>CCC(CN1CCN(C)CC1)NC(=O)Cc1csc(Nc2ccccc2F)n1</td>\n",
       "      <td>-4.137</td>\n",
       "      <td>597.656</td>\n",
       "      <td>11.0</td>\n",
       "      <td>6.0</td>\n",
       "      <td>13.0</td>\n",
       "      <td>-4.241</td>\n",
       "      <td>220.86</td>\n",
       "      <td>...</td>\n",
       "      <td>1</td>\n",
       "      <td>0</td>\n",
       "      <td>0</td>\n",
       "      <td>0</td>\n",
       "      <td>0</td>\n",
       "      <td>0</td>\n",
       "      <td>18</td>\n",
       "      <td>11</td>\n",
       "      <td>1</td>\n",
       "      <td>0</td>\n",
       "    </tr>\n",
       "    <tr>\n",
       "      <th>1156</th>\n",
       "      <td>99.900</td>\n",
       "      <td>99.900</td>\n",
       "      <td>COC(=O)c1cc(F)c(NCCCN(CCCCN(CCCn2c(=O)[nH]c3cc...</td>\n",
       "      <td>8.241</td>\n",
       "      <td>1360.467</td>\n",
       "      <td>15.0</td>\n",
       "      <td>5.0</td>\n",
       "      <td>38.0</td>\n",
       "      <td>8.257</td>\n",
       "      <td>296.43</td>\n",
       "      <td>...</td>\n",
       "      <td>5</td>\n",
       "      <td>0</td>\n",
       "      <td>0</td>\n",
       "      <td>0</td>\n",
       "      <td>0</td>\n",
       "      <td>0</td>\n",
       "      <td>62</td>\n",
       "      <td>28</td>\n",
       "      <td>10</td>\n",
       "      <td>0</td>\n",
       "    </tr>\n",
       "    <tr>\n",
       "      <th>1222</th>\n",
       "      <td>69.077</td>\n",
       "      <td>48.075</td>\n",
       "      <td>c1ccc(-c2cc(CNCC3COCCO3)c3nnnn3c2)cc1</td>\n",
       "      <td>-3.761</td>\n",
       "      <td>517.489</td>\n",
       "      <td>13.0</td>\n",
       "      <td>5.0</td>\n",
       "      <td>10.0</td>\n",
       "      <td>-4.920</td>\n",
       "      <td>205.69</td>\n",
       "      <td>...</td>\n",
       "      <td>0</td>\n",
       "      <td>0</td>\n",
       "      <td>0</td>\n",
       "      <td>0</td>\n",
       "      <td>0</td>\n",
       "      <td>0</td>\n",
       "      <td>11</td>\n",
       "      <td>16</td>\n",
       "      <td>0</td>\n",
       "      <td>0</td>\n",
       "    </tr>\n",
       "    <tr>\n",
       "      <th>1864</th>\n",
       "      <td>94.200</td>\n",
       "      <td>62.300</td>\n",
       "      <td>O=C([O-])CN1C(=O)S/C(=C\\C=C2\\SCCN2CCCS(=O)(=O)...</td>\n",
       "      <td>-2.191</td>\n",
       "      <td>422.520</td>\n",
       "      <td>9.0</td>\n",
       "      <td>0.0</td>\n",
       "      <td>7.0</td>\n",
       "      <td>-2.189</td>\n",
       "      <td>211.95</td>\n",
       "      <td>...</td>\n",
       "      <td>0</td>\n",
       "      <td>0</td>\n",
       "      <td>0</td>\n",
       "      <td>0</td>\n",
       "      <td>0</td>\n",
       "      <td>0</td>\n",
       "      <td>19</td>\n",
       "      <td>0</td>\n",
       "      <td>7</td>\n",
       "      <td>0</td>\n",
       "    </tr>\n",
       "    <tr>\n",
       "      <th>2669</th>\n",
       "      <td>40.761</td>\n",
       "      <td>51.084</td>\n",
       "      <td>CC(C)c1c(C(=O)Nc2ccccc2)c(-c2ccccc2)c(-c2ccc(F...</td>\n",
       "      <td>8.163</td>\n",
       "      <td>1115.264</td>\n",
       "      <td>10.0</td>\n",
       "      <td>6.0</td>\n",
       "      <td>24.0</td>\n",
       "      <td>8.156</td>\n",
       "      <td>229.23</td>\n",
       "      <td>...</td>\n",
       "      <td>1</td>\n",
       "      <td>0</td>\n",
       "      <td>0</td>\n",
       "      <td>0</td>\n",
       "      <td>0</td>\n",
       "      <td>0</td>\n",
       "      <td>19</td>\n",
       "      <td>23</td>\n",
       "      <td>2</td>\n",
       "      <td>0</td>\n",
       "    </tr>\n",
       "    <tr>\n",
       "      <th>3196</th>\n",
       "      <td>88.310</td>\n",
       "      <td>81.100</td>\n",
       "      <td>Oc1cc(O)c2c(c1)O[C@H](c1ccc(O)c(O)c1)[C@H](O)[...</td>\n",
       "      <td>3.565</td>\n",
       "      <td>578.520</td>\n",
       "      <td>12.0</td>\n",
       "      <td>10.0</td>\n",
       "      <td>3.0</td>\n",
       "      <td>2.406</td>\n",
       "      <td>220.75</td>\n",
       "      <td>...</td>\n",
       "      <td>0</td>\n",
       "      <td>0</td>\n",
       "      <td>0</td>\n",
       "      <td>0</td>\n",
       "      <td>0</td>\n",
       "      <td>0</td>\n",
       "      <td>23</td>\n",
       "      <td>24</td>\n",
       "      <td>0</td>\n",
       "      <td>0</td>\n",
       "    </tr>\n",
       "    <tr>\n",
       "      <th>3500</th>\n",
       "      <td>NaN</td>\n",
       "      <td>NaN</td>\n",
       "      <td>COc1nc2cc(C)ccc2cc1CN(C)C1(C)CCS(=O)(=O)C1</td>\n",
       "      <td>-1.542</td>\n",
       "      <td>540.583</td>\n",
       "      <td>12.0</td>\n",
       "      <td>4.0</td>\n",
       "      <td>9.0</td>\n",
       "      <td>-2.371</td>\n",
       "      <td>200.00</td>\n",
       "      <td>...</td>\n",
       "      <td>0</td>\n",
       "      <td>0</td>\n",
       "      <td>0</td>\n",
       "      <td>0</td>\n",
       "      <td>0</td>\n",
       "      <td>0</td>\n",
       "      <td>13</td>\n",
       "      <td>11</td>\n",
       "      <td>2</td>\n",
       "      <td>0</td>\n",
       "    </tr>\n",
       "  </tbody>\n",
       "</table>\n",
       "<p>7 rows × 24 columns</p>\n",
       "</div>"
      ],
      "text/plain": [
       "         MLM     HLM                                             SMILES  \\\n",
       "177   62.030  50.590        CCC(CN1CCN(C)CC1)NC(=O)Cc1csc(Nc2ccccc2F)n1   \n",
       "1156  99.900  99.900  COC(=O)c1cc(F)c(NCCCN(CCCCN(CCCn2c(=O)[nH]c3cc...   \n",
       "1222  69.077  48.075              c1ccc(-c2cc(CNCC3COCCO3)c3nnnn3c2)cc1   \n",
       "1864  94.200  62.300  O=C([O-])CN1C(=O)S/C(=C\\C=C2\\SCCN2CCCS(=O)(=O)...   \n",
       "2669  40.761  51.084  CC(C)c1c(C(=O)Nc2ccccc2)c(-c2ccccc2)c(-c2ccc(F...   \n",
       "3196  88.310  81.100  Oc1cc(O)c2c(c1)O[C@H](c1ccc(O)c(O)c1)[C@H](O)[...   \n",
       "3500     NaN     NaN         COc1nc2cc(C)ccc2cc1CN(C)C1(C)CCS(=O)(=O)C1   \n",
       "\n",
       "      AlogP  Molecular_Weight  Num_H_Acceptors  Num_H_Donors  \\\n",
       "177  -4.137           597.656             11.0           6.0   \n",
       "1156  8.241          1360.467             15.0           5.0   \n",
       "1222 -3.761           517.489             13.0           5.0   \n",
       "1864 -2.191           422.520              9.0           0.0   \n",
       "2669  8.163          1115.264             10.0           6.0   \n",
       "3196  3.565           578.520             12.0          10.0   \n",
       "3500 -1.542           540.583             12.0           4.0   \n",
       "\n",
       "      Num_RotatableBonds   LogD  Molecular_PolarSurfaceArea  ...  F  Cl  Br  \\\n",
       "177                 13.0 -4.241                      220.86  ...  1   0   0   \n",
       "1156                38.0  8.257                      296.43  ...  5   0   0   \n",
       "1222                10.0 -4.920                      205.69  ...  0   0   0   \n",
       "1864                 7.0 -2.189                      211.95  ...  0   0   0   \n",
       "2669                24.0  8.156                      229.23  ...  1   0   0   \n",
       "3196                 3.0  2.406                      220.75  ...  0   0   0   \n",
       "3500                 9.0 -2.371                      200.00  ...  0   0   0   \n",
       "\n",
       "      Se  I  P  Bond_1.0  Bond_1.5  Bond_2.0  Bond_3.0  \n",
       "177    0  0  0        18        11         1         0  \n",
       "1156   0  0  0        62        28        10         0  \n",
       "1222   0  0  0        11        16         0         0  \n",
       "1864   0  0  0        19         0         7         0  \n",
       "2669   0  0  0        19        23         2         0  \n",
       "3196   0  0  0        23        24         0         0  \n",
       "3500   0  0  0        13        11         2         0  \n",
       "\n",
       "[7 rows x 24 columns]"
      ]
     },
     "execution_count": 19,
     "metadata": {},
     "output_type": "execute_result"
    }
   ],
   "source": [
    "df_polar_over200 = df_total[df_total.Molecular_PolarSurfaceArea >= 200]\n",
    "df_polar_over200"
   ]
  },
  {
   "cell_type": "code",
   "execution_count": 20,
   "metadata": {},
   "outputs": [
    {
     "data": {
      "image/png": "[encoded data removed]",
      "text/plain": [
       "<PIL.PngImagePlugin.PngImageFile image mode=RGB size=1200x300>"
      ]
     },
     "metadata": {},
     "output_type": "display_data"
    },
    {
     "data": {
      "image/png": "[encoded data removed]",
      "text/plain": [
       "<PIL.PngImagePlugin.PngImageFile image mode=RGB size=1200x300>"
      ]
     },
     "metadata": {},
     "output_type": "display_data"
    }
   ],
   "source": [
    "# 200을 초과하는 값이 이상치가 아닌것으로 판단됨\n",
    "\n",
    "from rdkit import Chem, DataStructs\n",
    "from rdkit.Chem import Draw, Descriptors, AllChem\n",
    "from rdkit.Chem.Draw import IPythonConsole\n",
    "\n",
    "def show_smiles(smiles):\n",
    "  data_smiles = smiles['SMILES']\n",
    "  # Convert the SMILES strings to RDKit molecules\n",
    "  molecules = [Chem.MolFromSmiles(smile) for smile in data_smiles]\n",
    "\n",
    "  # Draw the first molecules\n",
    "  img_4 = Draw.MolsToGridImage(molecules[:4], molsPerRow=4, subImgSize=(300,300),\n",
    "                            legends=[f'SurfaceArea: {round(x, 3)}' for x in smiles['Molecular_PolarSurfaceArea'].iloc[:4]], \n",
    "                            returnPNG=False)\n",
    "  \n",
    "  img_3 = Draw.MolsToGridImage(molecules[4:], molsPerRow=4, subImgSize=(300,300),\n",
    "                            legends=[f'SurfaceArea: {round(x, 3)}' for x in smiles['Molecular_PolarSurfaceArea'].iloc[4:]], \n",
    "                            returnPNG=False)\n",
    "                             \n",
    "  from IPython.display import display, Image\n",
    "  display(img_4)\n",
    "  display(img_3)\n",
    "\n",
    "show_smiles(df_polar_over200)"
   ]
  },
  {
   "cell_type": "code",
   "execution_count": 21,
   "metadata": {},
   "outputs": [
    {
     "data": {
      "text/html": [
       "<div>\n",
       "<style scoped>\n",
       "    .dataframe tbody tr th:only-of-type {\n",
       "        vertical-align: middle;\n",
       "    }\n",
       "\n",
       "    .dataframe tbody tr th {\n",
       "        vertical-align: top;\n",
       "    }\n",
       "\n",
       "    .dataframe thead th {\n",
       "        text-align: right;\n",
       "    }\n",
       "</style>\n",
       "<table border=\"1\" class=\"dataframe\">\n",
       "  <thead>\n",
       "    <tr style=\"text-align: right;\">\n",
       "      <th></th>\n",
       "      <th>Molecular_Weight</th>\n",
       "      <th>Molecular_Weight_Bins</th>\n",
       "    </tr>\n",
       "  </thead>\n",
       "  <tbody>\n",
       "    <tr>\n",
       "      <th>0</th>\n",
       "      <td>400.495</td>\n",
       "      <td>3</td>\n",
       "    </tr>\n",
       "    <tr>\n",
       "      <th>1</th>\n",
       "      <td>301.407</td>\n",
       "      <td>2</td>\n",
       "    </tr>\n",
       "    <tr>\n",
       "      <th>2</th>\n",
       "      <td>297.358</td>\n",
       "      <td>2</td>\n",
       "    </tr>\n",
       "    <tr>\n",
       "      <th>3</th>\n",
       "      <td>494.652</td>\n",
       "      <td>3</td>\n",
       "    </tr>\n",
       "    <tr>\n",
       "      <th>4</th>\n",
       "      <td>268.310</td>\n",
       "      <td>2</td>\n",
       "    </tr>\n",
       "  </tbody>\n",
       "</table>\n",
       "</div>"
      ],
      "text/plain": [
       "   Molecular_Weight Molecular_Weight_Bins\n",
       "0           400.495                     3\n",
       "1           301.407                     2\n",
       "2           297.358                     2\n",
       "3           494.652                     3\n",
       "4           268.310                     2"
      ]
     },
     "execution_count": 21,
     "metadata": {},
     "output_type": "execute_result"
    }
   ],
   "source": [
    "bins = [0, 200, 400, 600, df_train['Molecular_Weight'].max()]\n",
    "labels = [1, 2, 3, 4]\n",
    "df_total['Molecular_Weight_Bins'] = pd.cut(df_total['Molecular_Weight'], bins=bins, labels=labels)\n",
    "\n",
    "df_total[['Molecular_Weight', 'Molecular_Weight_Bins']].head()"
   ]
  },
  {
   "cell_type": "code",
   "execution_count": 22,
   "metadata": {},
   "outputs": [
    {
     "data": {
      "text/html": [
       "<div>\n",
       "<style scoped>\n",
       "    .dataframe tbody tr th:only-of-type {\n",
       "        vertical-align: middle;\n",
       "    }\n",
       "\n",
       "    .dataframe tbody tr th {\n",
       "        vertical-align: top;\n",
       "    }\n",
       "\n",
       "    .dataframe thead th {\n",
       "        text-align: right;\n",
       "    }\n",
       "</style>\n",
       "<table border=\"1\" class=\"dataframe\">\n",
       "  <thead>\n",
       "    <tr style=\"text-align: right;\">\n",
       "      <th></th>\n",
       "      <th>Num_H_Acceptors</th>\n",
       "      <th>Num_H_Donors</th>\n",
       "      <th>H_Acceptors_x_H_Donors</th>\n",
       "    </tr>\n",
       "  </thead>\n",
       "  <tbody>\n",
       "    <tr>\n",
       "      <th>0</th>\n",
       "      <td>5.0</td>\n",
       "      <td>2.0</td>\n",
       "      <td>10.0</td>\n",
       "    </tr>\n",
       "    <tr>\n",
       "      <th>1</th>\n",
       "      <td>2.0</td>\n",
       "      <td>1.0</td>\n",
       "      <td>2.0</td>\n",
       "    </tr>\n",
       "    <tr>\n",
       "      <th>2</th>\n",
       "      <td>5.0</td>\n",
       "      <td>0.0</td>\n",
       "      <td>0.0</td>\n",
       "    </tr>\n",
       "    <tr>\n",
       "      <th>3</th>\n",
       "      <td>6.0</td>\n",
       "      <td>0.0</td>\n",
       "      <td>0.0</td>\n",
       "    </tr>\n",
       "    <tr>\n",
       "      <th>4</th>\n",
       "      <td>3.0</td>\n",
       "      <td>0.0</td>\n",
       "      <td>0.0</td>\n",
       "    </tr>\n",
       "  </tbody>\n",
       "</table>\n",
       "</div>"
      ],
      "text/plain": [
       "   Num_H_Acceptors  Num_H_Donors  H_Acceptors_x_H_Donors\n",
       "0              5.0           2.0                    10.0\n",
       "1              2.0           1.0                     2.0\n",
       "2              5.0           0.0                     0.0\n",
       "3              6.0           0.0                     0.0\n",
       "4              3.0           0.0                     0.0"
      ]
     },
     "execution_count": 22,
     "metadata": {},
     "output_type": "execute_result"
    }
   ],
   "source": [
    "df_total['H_Acceptors_x_H_Donors'] = df_total['Num_H_Acceptors'] * df_total['Num_H_Donors']\n",
    "df_total[['Num_H_Acceptors', 'Num_H_Donors', 'H_Acceptors_x_H_Donors']].head()"
   ]
  },
  {
   "cell_type": "code",
   "execution_count": 23,
   "metadata": {},
   "outputs": [
    {
     "data": {
      "text/html": [
       "<div>\n",
       "<style scoped>\n",
       "    .dataframe tbody tr th:only-of-type {\n",
       "        vertical-align: middle;\n",
       "    }\n",
       "\n",
       "    .dataframe tbody tr th {\n",
       "        vertical-align: top;\n",
       "    }\n",
       "\n",
       "    .dataframe thead th {\n",
       "        text-align: right;\n",
       "    }\n",
       "</style>\n",
       "<table border=\"1\" class=\"dataframe\">\n",
       "  <thead>\n",
       "    <tr style=\"text-align: right;\">\n",
       "      <th></th>\n",
       "      <th>MLM</th>\n",
       "      <th>HLM</th>\n",
       "      <th>SMILES</th>\n",
       "      <th>AlogP</th>\n",
       "      <th>Molecular_Weight</th>\n",
       "      <th>Num_H_Acceptors</th>\n",
       "      <th>Num_H_Donors</th>\n",
       "      <th>Num_RotatableBonds</th>\n",
       "      <th>LogD</th>\n",
       "      <th>Molecular_PolarSurfaceArea</th>\n",
       "      <th>...</th>\n",
       "      <th>P</th>\n",
       "      <th>Bond_1.0</th>\n",
       "      <th>Bond_1.5</th>\n",
       "      <th>Bond_2.0</th>\n",
       "      <th>Bond_3.0</th>\n",
       "      <th>Molecular_Weight_Bins</th>\n",
       "      <th>H_Acceptors_x_H_Donors</th>\n",
       "      <th>AlogP^2</th>\n",
       "      <th>LogD^2</th>\n",
       "      <th>Alog_LogD</th>\n",
       "    </tr>\n",
       "  </thead>\n",
       "  <tbody>\n",
       "    <tr>\n",
       "      <th>0</th>\n",
       "      <td>26.010</td>\n",
       "      <td>50.680</td>\n",
       "      <td>CCOc1ccc(CNC(=O)c2cc(-c3sc(C)nc3C)n[nH]2)cc1OCC</td>\n",
       "      <td>3.259</td>\n",
       "      <td>400.495</td>\n",
       "      <td>5.0</td>\n",
       "      <td>2.0</td>\n",
       "      <td>8.0</td>\n",
       "      <td>3.259</td>\n",
       "      <td>117.37</td>\n",
       "      <td>...</td>\n",
       "      <td>0</td>\n",
       "      <td>13</td>\n",
       "      <td>16</td>\n",
       "      <td>1</td>\n",
       "      <td>0</td>\n",
       "      <td>3</td>\n",
       "      <td>10.0</td>\n",
       "      <td>10.621081</td>\n",
       "      <td>10.621081</td>\n",
       "      <td>10.621081</td>\n",
       "    </tr>\n",
       "    <tr>\n",
       "      <th>1</th>\n",
       "      <td>29.270</td>\n",
       "      <td>50.590</td>\n",
       "      <td>Cc1nc(C)c(CN2CC(C)C(=O)Nc3ccccc32)s1</td>\n",
       "      <td>2.169</td>\n",
       "      <td>301.407</td>\n",
       "      <td>2.0</td>\n",
       "      <td>1.0</td>\n",
       "      <td>2.0</td>\n",
       "      <td>2.172</td>\n",
       "      <td>73.47</td>\n",
       "      <td>...</td>\n",
       "      <td>0</td>\n",
       "      <td>11</td>\n",
       "      <td>11</td>\n",
       "      <td>1</td>\n",
       "      <td>0</td>\n",
       "      <td>2</td>\n",
       "      <td>2.0</td>\n",
       "      <td>4.704561</td>\n",
       "      <td>4.717584</td>\n",
       "      <td>4.711068</td>\n",
       "    </tr>\n",
       "    <tr>\n",
       "      <th>2</th>\n",
       "      <td>5.586</td>\n",
       "      <td>80.892</td>\n",
       "      <td>CCCN1CCN(c2nn3nnnc3c3ccccc23)CC1</td>\n",
       "      <td>1.593</td>\n",
       "      <td>297.358</td>\n",
       "      <td>5.0</td>\n",
       "      <td>0.0</td>\n",
       "      <td>3.0</td>\n",
       "      <td>1.585</td>\n",
       "      <td>62.45</td>\n",
       "      <td>...</td>\n",
       "      <td>0</td>\n",
       "      <td>10</td>\n",
       "      <td>15</td>\n",
       "      <td>0</td>\n",
       "      <td>0</td>\n",
       "      <td>2</td>\n",
       "      <td>0.0</td>\n",
       "      <td>2.537649</td>\n",
       "      <td>2.512225</td>\n",
       "      <td>2.524905</td>\n",
       "    </tr>\n",
       "    <tr>\n",
       "      <th>3</th>\n",
       "      <td>5.710</td>\n",
       "      <td>2.000</td>\n",
       "      <td>Cc1ccc(-c2ccc(-n3nc(C)c(S(=O)(=O)N4CCN(C5CCCCC...</td>\n",
       "      <td>4.771</td>\n",
       "      <td>494.652</td>\n",
       "      <td>6.0</td>\n",
       "      <td>0.0</td>\n",
       "      <td>5.0</td>\n",
       "      <td>3.475</td>\n",
       "      <td>92.60</td>\n",
       "      <td>...</td>\n",
       "      <td>0</td>\n",
       "      <td>20</td>\n",
       "      <td>17</td>\n",
       "      <td>2</td>\n",
       "      <td>0</td>\n",
       "      <td>3</td>\n",
       "      <td>0.0</td>\n",
       "      <td>22.762441</td>\n",
       "      <td>12.075625</td>\n",
       "      <td>16.579225</td>\n",
       "    </tr>\n",
       "    <tr>\n",
       "      <th>4</th>\n",
       "      <td>93.270</td>\n",
       "      <td>99.990</td>\n",
       "      <td>Cc1ccc2c(c1)N(C(=O)c1ccncc1)CC(C)O2</td>\n",
       "      <td>2.335</td>\n",
       "      <td>268.310</td>\n",
       "      <td>3.0</td>\n",
       "      <td>0.0</td>\n",
       "      <td>1.0</td>\n",
       "      <td>2.337</td>\n",
       "      <td>42.43</td>\n",
       "      <td>...</td>\n",
       "      <td>0</td>\n",
       "      <td>9</td>\n",
       "      <td>12</td>\n",
       "      <td>1</td>\n",
       "      <td>0</td>\n",
       "      <td>2</td>\n",
       "      <td>0.0</td>\n",
       "      <td>5.452225</td>\n",
       "      <td>5.461569</td>\n",
       "      <td>5.456895</td>\n",
       "    </tr>\n",
       "    <tr>\n",
       "      <th>...</th>\n",
       "      <td>...</td>\n",
       "      <td>...</td>\n",
       "      <td>...</td>\n",
       "      <td>...</td>\n",
       "      <td>...</td>\n",
       "      <td>...</td>\n",
       "      <td>...</td>\n",
       "      <td>...</td>\n",
       "      <td>...</td>\n",
       "      <td>...</td>\n",
       "      <td>...</td>\n",
       "      <td>...</td>\n",
       "      <td>...</td>\n",
       "      <td>...</td>\n",
       "      <td>...</td>\n",
       "      <td>...</td>\n",
       "      <td>...</td>\n",
       "      <td>...</td>\n",
       "      <td>...</td>\n",
       "      <td>...</td>\n",
       "      <td>...</td>\n",
       "    </tr>\n",
       "    <tr>\n",
       "      <th>3949</th>\n",
       "      <td>NaN</td>\n",
       "      <td>NaN</td>\n",
       "      <td>CCc1noc(CC)c1CC(=O)NCC1(CC)CCCCC1</td>\n",
       "      <td>4.207</td>\n",
       "      <td>306.443</td>\n",
       "      <td>2.0</td>\n",
       "      <td>1.0</td>\n",
       "      <td>7.0</td>\n",
       "      <td>4.207</td>\n",
       "      <td>55.13</td>\n",
       "      <td>...</td>\n",
       "      <td>0</td>\n",
       "      <td>17</td>\n",
       "      <td>5</td>\n",
       "      <td>1</td>\n",
       "      <td>0</td>\n",
       "      <td>2</td>\n",
       "      <td>2.0</td>\n",
       "      <td>17.698849</td>\n",
       "      <td>17.698849</td>\n",
       "      <td>17.698849</td>\n",
       "    </tr>\n",
       "    <tr>\n",
       "      <th>3950</th>\n",
       "      <td>NaN</td>\n",
       "      <td>NaN</td>\n",
       "      <td>CC(=O)N1CCC2(CC1)OC(=O)C(C)=C2C(=O)N1CCN(C)CC1</td>\n",
       "      <td>-0.608</td>\n",
       "      <td>335.398</td>\n",
       "      <td>5.0</td>\n",
       "      <td>0.0</td>\n",
       "      <td>1.0</td>\n",
       "      <td>-1.736</td>\n",
       "      <td>70.16</td>\n",
       "      <td>...</td>\n",
       "      <td>0</td>\n",
       "      <td>22</td>\n",
       "      <td>0</td>\n",
       "      <td>4</td>\n",
       "      <td>0</td>\n",
       "      <td>2</td>\n",
       "      <td>0.0</td>\n",
       "      <td>0.369664</td>\n",
       "      <td>3.013696</td>\n",
       "      <td>1.055488</td>\n",
       "    </tr>\n",
       "    <tr>\n",
       "      <th>3951</th>\n",
       "      <td>NaN</td>\n",
       "      <td>NaN</td>\n",
       "      <td>CC(C)NC(=O)CN1C(=O)c2ccccc2N2C(=O)c3ccccc3C12</td>\n",
       "      <td>1.792</td>\n",
       "      <td>349.383</td>\n",
       "      <td>3.0</td>\n",
       "      <td>1.0</td>\n",
       "      <td>3.0</td>\n",
       "      <td>1.792</td>\n",
       "      <td>69.72</td>\n",
       "      <td>...</td>\n",
       "      <td>0</td>\n",
       "      <td>14</td>\n",
       "      <td>12</td>\n",
       "      <td>3</td>\n",
       "      <td>0</td>\n",
       "      <td>2</td>\n",
       "      <td>3.0</td>\n",
       "      <td>3.211264</td>\n",
       "      <td>3.211264</td>\n",
       "      <td>3.211264</td>\n",
       "    </tr>\n",
       "    <tr>\n",
       "      <th>3952</th>\n",
       "      <td>NaN</td>\n",
       "      <td>NaN</td>\n",
       "      <td>Cn1cc(Br)c(=O)c(NC(=O)c2ccc(O)cc2F)c1</td>\n",
       "      <td>0.790</td>\n",
       "      <td>341.132</td>\n",
       "      <td>3.0</td>\n",
       "      <td>2.0</td>\n",
       "      <td>2.0</td>\n",
       "      <td>0.423</td>\n",
       "      <td>69.64</td>\n",
       "      <td>...</td>\n",
       "      <td>0</td>\n",
       "      <td>7</td>\n",
       "      <td>12</td>\n",
       "      <td>2</td>\n",
       "      <td>0</td>\n",
       "      <td>2</td>\n",
       "      <td>6.0</td>\n",
       "      <td>0.624100</td>\n",
       "      <td>0.178929</td>\n",
       "      <td>0.334170</td>\n",
       "    </tr>\n",
       "    <tr>\n",
       "      <th>3953</th>\n",
       "      <td>NaN</td>\n",
       "      <td>NaN</td>\n",
       "      <td>CC(C)C(CCN1CCN(C)CC1)c1ccco1</td>\n",
       "      <td>2.782</td>\n",
       "      <td>250.380</td>\n",
       "      <td>2.0</td>\n",
       "      <td>0.0</td>\n",
       "      <td>5.0</td>\n",
       "      <td>0.606</td>\n",
       "      <td>19.62</td>\n",
       "      <td>...</td>\n",
       "      <td>0</td>\n",
       "      <td>14</td>\n",
       "      <td>5</td>\n",
       "      <td>0</td>\n",
       "      <td>0</td>\n",
       "      <td>2</td>\n",
       "      <td>0.0</td>\n",
       "      <td>7.739524</td>\n",
       "      <td>0.367236</td>\n",
       "      <td>1.685892</td>\n",
       "    </tr>\n",
       "  </tbody>\n",
       "</table>\n",
       "<p>3946 rows × 29 columns</p>\n",
       "</div>"
      ],
      "text/plain": [
       "         MLM     HLM                                             SMILES  \\\n",
       "0     26.010  50.680    CCOc1ccc(CNC(=O)c2cc(-c3sc(C)nc3C)n[nH]2)cc1OCC   \n",
       "1     29.270  50.590               Cc1nc(C)c(CN2CC(C)C(=O)Nc3ccccc32)s1   \n",
       "2      5.586  80.892                   CCCN1CCN(c2nn3nnnc3c3ccccc23)CC1   \n",
       "3      5.710   2.000  Cc1ccc(-c2ccc(-n3nc(C)c(S(=O)(=O)N4CCN(C5CCCCC...   \n",
       "4     93.270  99.990                Cc1ccc2c(c1)N(C(=O)c1ccncc1)CC(C)O2   \n",
       "...      ...     ...                                                ...   \n",
       "3949     NaN     NaN                  CCc1noc(CC)c1CC(=O)NCC1(CC)CCCCC1   \n",
       "3950     NaN     NaN     CC(=O)N1CCC2(CC1)OC(=O)C(C)=C2C(=O)N1CCN(C)CC1   \n",
       "3951     NaN     NaN      CC(C)NC(=O)CN1C(=O)c2ccccc2N2C(=O)c3ccccc3C12   \n",
       "3952     NaN     NaN              Cn1cc(Br)c(=O)c(NC(=O)c2ccc(O)cc2F)c1   \n",
       "3953     NaN     NaN                       CC(C)C(CCN1CCN(C)CC1)c1ccco1   \n",
       "\n",
       "      AlogP  Molecular_Weight  Num_H_Acceptors  Num_H_Donors  \\\n",
       "0     3.259           400.495              5.0           2.0   \n",
       "1     2.169           301.407              2.0           1.0   \n",
       "2     1.593           297.358              5.0           0.0   \n",
       "3     4.771           494.652              6.0           0.0   \n",
       "4     2.335           268.310              3.0           0.0   \n",
       "...     ...               ...              ...           ...   \n",
       "3949  4.207           306.443              2.0           1.0   \n",
       "3950 -0.608           335.398              5.0           0.0   \n",
       "3951  1.792           349.383              3.0           1.0   \n",
       "3952  0.790           341.132              3.0           2.0   \n",
       "3953  2.782           250.380              2.0           0.0   \n",
       "\n",
       "      Num_RotatableBonds   LogD  Molecular_PolarSurfaceArea  ...  P  Bond_1.0  \\\n",
       "0                    8.0  3.259                      117.37  ...  0        13   \n",
       "1                    2.0  2.172                       73.47  ...  0        11   \n",
       "2                    3.0  1.585                       62.45  ...  0        10   \n",
       "3                    5.0  3.475                       92.60  ...  0        20   \n",
       "4                    1.0  2.337                       42.43  ...  0         9   \n",
       "...                  ...    ...                         ...  ... ..       ...   \n",
       "3949                 7.0  4.207                       55.13  ...  0        17   \n",
       "3950                 1.0 -1.736                       70.16  ...  0        22   \n",
       "3951                 3.0  1.792                       69.72  ...  0        14   \n",
       "3952                 2.0  0.423                       69.64  ...  0         7   \n",
       "3953                 5.0  0.606                       19.62  ...  0        14   \n",
       "\n",
       "      Bond_1.5  Bond_2.0  Bond_3.0  Molecular_Weight_Bins  \\\n",
       "0           16         1         0                      3   \n",
       "1           11         1         0                      2   \n",
       "2           15         0         0                      2   \n",
       "3           17         2         0                      3   \n",
       "4           12         1         0                      2   \n",
       "...        ...       ...       ...                    ...   \n",
       "3949         5         1         0                      2   \n",
       "3950         0         4         0                      2   \n",
       "3951        12         3         0                      2   \n",
       "3952        12         2         0                      2   \n",
       "3953         5         0         0                      2   \n",
       "\n",
       "      H_Acceptors_x_H_Donors    AlogP^2     LogD^2  Alog_LogD  \n",
       "0                       10.0  10.621081  10.621081  10.621081  \n",
       "1                        2.0   4.704561   4.717584   4.711068  \n",
       "2                        0.0   2.537649   2.512225   2.524905  \n",
       "3                        0.0  22.762441  12.075625  16.579225  \n",
       "4                        0.0   5.452225   5.461569   5.456895  \n",
       "...                      ...        ...        ...        ...  \n",
       "3949                     2.0  17.698849  17.698849  17.698849  \n",
       "3950                     0.0   0.369664   3.013696   1.055488  \n",
       "3951                     3.0   3.211264   3.211264   3.211264  \n",
       "3952                     6.0   0.624100   0.178929   0.334170  \n",
       "3953                     0.0   7.739524   0.367236   1.685892  \n",
       "\n",
       "[3946 rows x 29 columns]"
      ]
     },
     "execution_count": 23,
     "metadata": {},
     "output_type": "execute_result"
    }
   ],
   "source": [
    "df_total['AlogP^2'] = df_total['AlogP'] * df_total['AlogP']\n",
    "df_total['LogD^2'] = df_total['LogD'] * df_total['LogD']\n",
    "df_total['Alog_LogD'] = df_total['AlogP'] * df_total['LogD']\n",
    "df_total"
   ]
  },
  {
   "cell_type": "code",
   "execution_count": 24,
   "metadata": {},
   "outputs": [
    {
     "data": {
      "text/html": [
       "<div>\n",
       "<style scoped>\n",
       "    .dataframe tbody tr th:only-of-type {\n",
       "        vertical-align: middle;\n",
       "    }\n",
       "\n",
       "    .dataframe tbody tr th {\n",
       "        vertical-align: top;\n",
       "    }\n",
       "\n",
       "    .dataframe thead th {\n",
       "        text-align: right;\n",
       "    }\n",
       "</style>\n",
       "<table border=\"1\" class=\"dataframe\">\n",
       "  <thead>\n",
       "    <tr style=\"text-align: right;\">\n",
       "      <th></th>\n",
       "      <th>SMILES</th>\n",
       "      <th>SMILES_Length</th>\n",
       "    </tr>\n",
       "  </thead>\n",
       "  <tbody>\n",
       "    <tr>\n",
       "      <th>0</th>\n",
       "      <td>CCOc1ccc(CNC(=O)c2cc(-c3sc(C)nc3C)n[nH]2)cc1OCC</td>\n",
       "      <td>47</td>\n",
       "    </tr>\n",
       "    <tr>\n",
       "      <th>1</th>\n",
       "      <td>Cc1nc(C)c(CN2CC(C)C(=O)Nc3ccccc32)s1</td>\n",
       "      <td>36</td>\n",
       "    </tr>\n",
       "    <tr>\n",
       "      <th>2</th>\n",
       "      <td>CCCN1CCN(c2nn3nnnc3c3ccccc23)CC1</td>\n",
       "      <td>32</td>\n",
       "    </tr>\n",
       "    <tr>\n",
       "      <th>3</th>\n",
       "      <td>Cc1ccc(-c2ccc(-n3nc(C)c(S(=O)(=O)N4CCN(C5CCCCC...</td>\n",
       "      <td>63</td>\n",
       "    </tr>\n",
       "    <tr>\n",
       "      <th>4</th>\n",
       "      <td>Cc1ccc2c(c1)N(C(=O)c1ccncc1)CC(C)O2</td>\n",
       "      <td>35</td>\n",
       "    </tr>\n",
       "  </tbody>\n",
       "</table>\n",
       "</div>"
      ],
      "text/plain": [
       "                                              SMILES  SMILES_Length\n",
       "0    CCOc1ccc(CNC(=O)c2cc(-c3sc(C)nc3C)n[nH]2)cc1OCC             47\n",
       "1               Cc1nc(C)c(CN2CC(C)C(=O)Nc3ccccc32)s1             36\n",
       "2                   CCCN1CCN(c2nn3nnnc3c3ccccc23)CC1             32\n",
       "3  Cc1ccc(-c2ccc(-n3nc(C)c(S(=O)(=O)N4CCN(C5CCCCC...             63\n",
       "4                Cc1ccc2c(c1)N(C(=O)c1ccncc1)CC(C)O2             35"
      ]
     },
     "execution_count": 24,
     "metadata": {},
     "output_type": "execute_result"
    }
   ],
   "source": [
    "df_total['SMILES_Length'] = df_total['SMILES'].apply(len)\n",
    "df_total[['SMILES', 'SMILES_Length']].head()"
   ]
  },
  {
   "cell_type": "code",
   "execution_count": 25,
   "metadata": {},
   "outputs": [
    {
     "name": "stdout",
     "output_type": "stream",
     "text": [
      "new feature numbers : 1826\n"
     ]
    },
    {
     "name": "stderr",
     "output_type": "stream",
     "text": [
      "  6%|▌         | 246/3946 [00:16<08:06,  7.60it/s]"
     ]
    },
    {
     "name": "stdout",
     "output_type": "stream",
     "text": [
      "c:\\Users\\audrb\\anaconda3\\lib\\site-packages\\numpy\\core\\fromnumeric.py:86: RuntimeWarning: overflow encountered in reduce\n",
      "  return ufunc.reduce(obj, axis, dtype, out, **passkwargs)\n"
     ]
    },
    {
     "name": "stderr",
     "output_type": "stream",
     "text": [
      " 29%|██▉       | 1155/3946 [01:05<08:26,  5.51it/s]"
     ]
    },
    {
     "name": "stdout",
     "output_type": "stream",
     "text": [
      "c:\\Users\\audrb\\anaconda3\\lib\\site-packages\\numpy\\core\\fromnumeric.py:86: RuntimeWarning: overflow encountered in reduce\n",
      "  return ufunc.reduce(obj, axis, dtype, out, **passkwargs)\n"
     ]
    },
    {
     "name": "stderr",
     "output_type": "stream",
     "text": [
      "100%|██████████| 3946/3946 [03:32<00:00, 18.55it/s]\n"
     ]
    },
    {
     "data": {
      "text/html": [
       "<div>\n",
       "<style scoped>\n",
       "    .dataframe tbody tr th:only-of-type {\n",
       "        vertical-align: middle;\n",
       "    }\n",
       "\n",
       "    .dataframe tbody tr th {\n",
       "        vertical-align: top;\n",
       "    }\n",
       "\n",
       "    .dataframe thead th {\n",
       "        text-align: right;\n",
       "    }\n",
       "</style>\n",
       "<table border=\"1\" class=\"dataframe\">\n",
       "  <thead>\n",
       "    <tr style=\"text-align: right;\">\n",
       "      <th></th>\n",
       "      <th>ABC</th>\n",
       "      <th>ABCGG</th>\n",
       "      <th>nAcid</th>\n",
       "      <th>nBase</th>\n",
       "      <th>SpAbs_A</th>\n",
       "      <th>SpMax_A</th>\n",
       "      <th>SpDiam_A</th>\n",
       "      <th>SpAD_A</th>\n",
       "      <th>SpMAD_A</th>\n",
       "      <th>LogEE_A</th>\n",
       "      <th>...</th>\n",
       "      <th>SRW10</th>\n",
       "      <th>TSRW10</th>\n",
       "      <th>MW</th>\n",
       "      <th>AMW</th>\n",
       "      <th>WPath</th>\n",
       "      <th>WPol</th>\n",
       "      <th>Zagreb1</th>\n",
       "      <th>Zagreb2</th>\n",
       "      <th>mZagreb1</th>\n",
       "      <th>mZagreb2</th>\n",
       "    </tr>\n",
       "  </thead>\n",
       "  <tbody>\n",
       "    <tr>\n",
       "      <th>0</th>\n",
       "      <td>21.379612</td>\n",
       "      <td>17.449011</td>\n",
       "      <td>0</td>\n",
       "      <td>0</td>\n",
       "      <td>35.689316</td>\n",
       "      <td>2.421199</td>\n",
       "      <td>4.745523</td>\n",
       "      <td>35.689316</td>\n",
       "      <td>1.274618</td>\n",
       "      <td>4.249154</td>\n",
       "      <td>...</td>\n",
       "      <td>10.081676</td>\n",
       "      <td>78.761075</td>\n",
       "      <td>400.156912</td>\n",
       "      <td>7.695325</td>\n",
       "      <td>2380</td>\n",
       "      <td>40</td>\n",
       "      <td>142.0</td>\n",
       "      <td>165.0</td>\n",
       "      <td>9.500000</td>\n",
       "      <td>6.361111</td>\n",
       "    </tr>\n",
       "    <tr>\n",
       "      <th>1</th>\n",
       "      <td>16.539255</td>\n",
       "      <td>14.049653</td>\n",
       "      <td>0</td>\n",
       "      <td>0</td>\n",
       "      <td>26.575899</td>\n",
       "      <td>2.426398</td>\n",
       "      <td>4.757199</td>\n",
       "      <td>26.575899</td>\n",
       "      <td>1.265519</td>\n",
       "      <td>3.984419</td>\n",
       "      <td>...</td>\n",
       "      <td>9.907828</td>\n",
       "      <td>69.149596</td>\n",
       "      <td>301.124883</td>\n",
       "      <td>7.528122</td>\n",
       "      <td>870</td>\n",
       "      <td>35</td>\n",
       "      <td>112.0</td>\n",
       "      <td>132.0</td>\n",
       "      <td>7.138889</td>\n",
       "      <td>4.527778</td>\n",
       "    </tr>\n",
       "    <tr>\n",
       "      <th>2</th>\n",
       "      <td>17.475469</td>\n",
       "      <td>13.660693</td>\n",
       "      <td>2</td>\n",
       "      <td>1</td>\n",
       "      <td>29.802128</td>\n",
       "      <td>2.510668</td>\n",
       "      <td>4.982923</td>\n",
       "      <td>29.802128</td>\n",
       "      <td>1.354642</td>\n",
       "      <td>4.049690</td>\n",
       "      <td>...</td>\n",
       "      <td>10.144510</td>\n",
       "      <td>70.158066</td>\n",
       "      <td>297.170194</td>\n",
       "      <td>7.248054</td>\n",
       "      <td>1028</td>\n",
       "      <td>36</td>\n",
       "      <td>120.0</td>\n",
       "      <td>145.0</td>\n",
       "      <td>5.277778</td>\n",
       "      <td>4.888889</td>\n",
       "    </tr>\n",
       "    <tr>\n",
       "      <th>3</th>\n",
       "      <td>27.857311</td>\n",
       "      <td>20.034364</td>\n",
       "      <td>0</td>\n",
       "      <td>1</td>\n",
       "      <td>45.884166</td>\n",
       "      <td>2.532483</td>\n",
       "      <td>4.973440</td>\n",
       "      <td>45.884166</td>\n",
       "      <td>1.310976</td>\n",
       "      <td>4.500758</td>\n",
       "      <td>...</td>\n",
       "      <td>10.613467</td>\n",
       "      <td>86.199585</td>\n",
       "      <td>494.246395</td>\n",
       "      <td>7.162991</td>\n",
       "      <td>4170</td>\n",
       "      <td>61</td>\n",
       "      <td>192.0</td>\n",
       "      <td>231.0</td>\n",
       "      <td>10.784722</td>\n",
       "      <td>7.500000</td>\n",
       "    </tr>\n",
       "    <tr>\n",
       "      <th>4</th>\n",
       "      <td>15.722758</td>\n",
       "      <td>12.817176</td>\n",
       "      <td>0</td>\n",
       "      <td>0</td>\n",
       "      <td>26.308663</td>\n",
       "      <td>2.452930</td>\n",
       "      <td>4.905860</td>\n",
       "      <td>26.308663</td>\n",
       "      <td>1.315433</td>\n",
       "      <td>3.935574</td>\n",
       "      <td>...</td>\n",
       "      <td>9.978363</td>\n",
       "      <td>53.872357</td>\n",
       "      <td>268.121178</td>\n",
       "      <td>7.447810</td>\n",
       "      <td>762</td>\n",
       "      <td>32</td>\n",
       "      <td>106.0</td>\n",
       "      <td>125.0</td>\n",
       "      <td>6.277778</td>\n",
       "      <td>4.361111</td>\n",
       "    </tr>\n",
       "    <tr>\n",
       "      <th>...</th>\n",
       "      <td>...</td>\n",
       "      <td>...</td>\n",
       "      <td>...</td>\n",
       "      <td>...</td>\n",
       "      <td>...</td>\n",
       "      <td>...</td>\n",
       "      <td>...</td>\n",
       "      <td>...</td>\n",
       "      <td>...</td>\n",
       "      <td>...</td>\n",
       "      <td>...</td>\n",
       "      <td>...</td>\n",
       "      <td>...</td>\n",
       "      <td>...</td>\n",
       "      <td>...</td>\n",
       "      <td>...</td>\n",
       "      <td>...</td>\n",
       "      <td>...</td>\n",
       "      <td>...</td>\n",
       "      <td>...</td>\n",
       "      <td>...</td>\n",
       "    </tr>\n",
       "    <tr>\n",
       "      <th>3941</th>\n",
       "      <td>16.291966</td>\n",
       "      <td>14.728760</td>\n",
       "      <td>0</td>\n",
       "      <td>0</td>\n",
       "      <td>28.248662</td>\n",
       "      <td>2.381151</td>\n",
       "      <td>4.715751</td>\n",
       "      <td>28.248662</td>\n",
       "      <td>1.284030</td>\n",
       "      <td>3.995519</td>\n",
       "      <td>...</td>\n",
       "      <td>9.862509</td>\n",
       "      <td>69.656439</td>\n",
       "      <td>306.230728</td>\n",
       "      <td>5.889052</td>\n",
       "      <td>1138</td>\n",
       "      <td>32</td>\n",
       "      <td>108.0</td>\n",
       "      <td>125.0</td>\n",
       "      <td>7.756944</td>\n",
       "      <td>5.222222</td>\n",
       "    </tr>\n",
       "    <tr>\n",
       "      <th>3942</th>\n",
       "      <td>18.777305</td>\n",
       "      <td>15.822051</td>\n",
       "      <td>0</td>\n",
       "      <td>1</td>\n",
       "      <td>29.983837</td>\n",
       "      <td>2.559820</td>\n",
       "      <td>5.003321</td>\n",
       "      <td>29.983837</td>\n",
       "      <td>1.249327</td>\n",
       "      <td>4.116090</td>\n",
       "      <td>...</td>\n",
       "      <td>10.288852</td>\n",
       "      <td>73.647870</td>\n",
       "      <td>335.184506</td>\n",
       "      <td>6.840500</td>\n",
       "      <td>1280</td>\n",
       "      <td>42</td>\n",
       "      <td>130.0</td>\n",
       "      <td>157.0</td>\n",
       "      <td>9.201389</td>\n",
       "      <td>5.180556</td>\n",
       "    </tr>\n",
       "    <tr>\n",
       "      <th>3943</th>\n",
       "      <td>20.648645</td>\n",
       "      <td>16.775304</td>\n",
       "      <td>0</td>\n",
       "      <td>0</td>\n",
       "      <td>33.716988</td>\n",
       "      <td>2.612365</td>\n",
       "      <td>5.113784</td>\n",
       "      <td>33.716988</td>\n",
       "      <td>1.296807</td>\n",
       "      <td>4.210713</td>\n",
       "      <td>...</td>\n",
       "      <td>10.447235</td>\n",
       "      <td>76.277596</td>\n",
       "      <td>349.142641</td>\n",
       "      <td>7.758725</td>\n",
       "      <td>1469</td>\n",
       "      <td>48</td>\n",
       "      <td>144.0</td>\n",
       "      <td>177.0</td>\n",
       "      <td>8.722222</td>\n",
       "      <td>5.611111</td>\n",
       "    </tr>\n",
       "    <tr>\n",
       "      <th>3944</th>\n",
       "      <td>15.343821</td>\n",
       "      <td>13.245018</td>\n",
       "      <td>0</td>\n",
       "      <td>0</td>\n",
       "      <td>24.141151</td>\n",
       "      <td>2.379239</td>\n",
       "      <td>4.758478</td>\n",
       "      <td>24.141151</td>\n",
       "      <td>1.207058</td>\n",
       "      <td>3.909645</td>\n",
       "      <td>...</td>\n",
       "      <td>9.874728</td>\n",
       "      <td>53.565348</td>\n",
       "      <td>339.985883</td>\n",
       "      <td>11.332863</td>\n",
       "      <td>826</td>\n",
       "      <td>31</td>\n",
       "      <td>102.0</td>\n",
       "      <td>118.0</td>\n",
       "      <td>8.388889</td>\n",
       "      <td>4.361111</td>\n",
       "    </tr>\n",
       "    <tr>\n",
       "      <th>3945</th>\n",
       "      <td>13.682318</td>\n",
       "      <td>12.093020</td>\n",
       "      <td>0</td>\n",
       "      <td>2</td>\n",
       "      <td>22.745617</td>\n",
       "      <td>2.313193</td>\n",
       "      <td>4.579581</td>\n",
       "      <td>22.745617</td>\n",
       "      <td>1.263645</td>\n",
       "      <td>3.800919</td>\n",
       "      <td>...</td>\n",
       "      <td>9.478763</td>\n",
       "      <td>63.502070</td>\n",
       "      <td>250.204513</td>\n",
       "      <td>5.686466</td>\n",
       "      <td>660</td>\n",
       "      <td>22</td>\n",
       "      <td>88.0</td>\n",
       "      <td>99.0</td>\n",
       "      <td>6.055556</td>\n",
       "      <td>4.055556</td>\n",
       "    </tr>\n",
       "  </tbody>\n",
       "</table>\n",
       "<p>3946 rows × 1826 columns</p>\n",
       "</div>"
      ],
      "text/plain": [
       "            ABC      ABCGG  nAcid  nBase    SpAbs_A   SpMax_A  SpDiam_A  \\\n",
       "0     21.379612  17.449011      0      0  35.689316  2.421199  4.745523   \n",
       "1     16.539255  14.049653      0      0  26.575899  2.426398  4.757199   \n",
       "2     17.475469  13.660693      2      1  29.802128  2.510668  4.982923   \n",
       "3     27.857311  20.034364      0      1  45.884166  2.532483  4.973440   \n",
       "4     15.722758  12.817176      0      0  26.308663  2.452930  4.905860   \n",
       "...         ...        ...    ...    ...        ...       ...       ...   \n",
       "3941  16.291966  14.728760      0      0  28.248662  2.381151  4.715751   \n",
       "3942  18.777305  15.822051      0      1  29.983837  2.559820  5.003321   \n",
       "3943  20.648645  16.775304      0      0  33.716988  2.612365  5.113784   \n",
       "3944  15.343821  13.245018      0      0  24.141151  2.379239  4.758478   \n",
       "3945  13.682318  12.093020      0      2  22.745617  2.313193  4.579581   \n",
       "\n",
       "         SpAD_A   SpMAD_A   LogEE_A  ...      SRW10     TSRW10          MW  \\\n",
       "0     35.689316  1.274618  4.249154  ...  10.081676  78.761075  400.156912   \n",
       "1     26.575899  1.265519  3.984419  ...   9.907828  69.149596  301.124883   \n",
       "2     29.802128  1.354642  4.049690  ...  10.144510  70.158066  297.170194   \n",
       "3     45.884166  1.310976  4.500758  ...  10.613467  86.199585  494.246395   \n",
       "4     26.308663  1.315433  3.935574  ...   9.978363  53.872357  268.121178   \n",
       "...         ...       ...       ...  ...        ...        ...         ...   \n",
       "3941  28.248662  1.284030  3.995519  ...   9.862509  69.656439  306.230728   \n",
       "3942  29.983837  1.249327  4.116090  ...  10.288852  73.647870  335.184506   \n",
       "3943  33.716988  1.296807  4.210713  ...  10.447235  76.277596  349.142641   \n",
       "3944  24.141151  1.207058  3.909645  ...   9.874728  53.565348  339.985883   \n",
       "3945  22.745617  1.263645  3.800919  ...   9.478763  63.502070  250.204513   \n",
       "\n",
       "            AMW  WPath  WPol  Zagreb1  Zagreb2   mZagreb1  mZagreb2  \n",
       "0      7.695325   2380    40    142.0    165.0   9.500000  6.361111  \n",
       "1      7.528122    870    35    112.0    132.0   7.138889  4.527778  \n",
       "2      7.248054   1028    36    120.0    145.0   5.277778  4.888889  \n",
       "3      7.162991   4170    61    192.0    231.0  10.784722  7.500000  \n",
       "4      7.447810    762    32    106.0    125.0   6.277778  4.361111  \n",
       "...         ...    ...   ...      ...      ...        ...       ...  \n",
       "3941   5.889052   1138    32    108.0    125.0   7.756944  5.222222  \n",
       "3942   6.840500   1280    42    130.0    157.0   9.201389  5.180556  \n",
       "3943   7.758725   1469    48    144.0    177.0   8.722222  5.611111  \n",
       "3944  11.332863    826    31    102.0    118.0   8.388889  4.361111  \n",
       "3945   5.686466    660    22     88.0     99.0   6.055556  4.055556  \n",
       "\n",
       "[3946 rows x 1826 columns]"
      ]
     },
     "execution_count": 25,
     "metadata": {},
     "output_type": "execute_result"
    }
   ],
   "source": [
    "# 2D and 3D features\n",
    "from mordred import Calculator, descriptors\n",
    "\n",
    "calc = Calculator(descriptors, ignore_3D=False)\n",
    "print(f'new feature numbers : {len(calc.descriptors)}')\n",
    "\n",
    "total_mordred = calc.pandas([Chem.MolFromSmiles(x) for x in df_total.SMILES])\n",
    "total_mordred"
   ]
  },
  {
   "cell_type": "code",
   "execution_count": 26,
   "metadata": {},
   "outputs": [
    {
     "data": {
      "text/html": [
       "<div>\n",
       "<style scoped>\n",
       "    .dataframe tbody tr th:only-of-type {\n",
       "        vertical-align: middle;\n",
       "    }\n",
       "\n",
       "    .dataframe tbody tr th {\n",
       "        vertical-align: top;\n",
       "    }\n",
       "\n",
       "    .dataframe thead th {\n",
       "        text-align: right;\n",
       "    }\n",
       "</style>\n",
       "<table border=\"1\" class=\"dataframe\">\n",
       "  <thead>\n",
       "    <tr style=\"text-align: right;\">\n",
       "      <th></th>\n",
       "      <th>MLM</th>\n",
       "      <th>HLM</th>\n",
       "      <th>SMILES</th>\n",
       "      <th>AlogP</th>\n",
       "      <th>Molecular_Weight</th>\n",
       "      <th>Num_H_Acceptors</th>\n",
       "      <th>Num_H_Donors</th>\n",
       "      <th>Num_RotatableBonds</th>\n",
       "      <th>LogD</th>\n",
       "      <th>Molecular_PolarSurfaceArea</th>\n",
       "      <th>...</th>\n",
       "      <th>Bond_1.0</th>\n",
       "      <th>Bond_1.5</th>\n",
       "      <th>Bond_2.0</th>\n",
       "      <th>Bond_3.0</th>\n",
       "      <th>Molecular_Weight_Bins</th>\n",
       "      <th>H_Acceptors_x_H_Donors</th>\n",
       "      <th>AlogP^2</th>\n",
       "      <th>LogD^2</th>\n",
       "      <th>Alog_LogD</th>\n",
       "      <th>SMILES_Length</th>\n",
       "    </tr>\n",
       "  </thead>\n",
       "  <tbody>\n",
       "    <tr>\n",
       "      <th>0</th>\n",
       "      <td>26.010</td>\n",
       "      <td>50.680</td>\n",
       "      <td>CCOc1ccc(CNC(=O)c2cc(-c3sc(C)nc3C)n[nH]2)cc1OCC</td>\n",
       "      <td>3.259</td>\n",
       "      <td>400.495</td>\n",
       "      <td>5.0</td>\n",
       "      <td>2.0</td>\n",
       "      <td>8.0</td>\n",
       "      <td>3.259</td>\n",
       "      <td>117.37</td>\n",
       "      <td>...</td>\n",
       "      <td>13</td>\n",
       "      <td>16</td>\n",
       "      <td>1</td>\n",
       "      <td>0</td>\n",
       "      <td>3</td>\n",
       "      <td>10.0</td>\n",
       "      <td>10.621081</td>\n",
       "      <td>10.621081</td>\n",
       "      <td>10.621081</td>\n",
       "      <td>47</td>\n",
       "    </tr>\n",
       "    <tr>\n",
       "      <th>1</th>\n",
       "      <td>29.270</td>\n",
       "      <td>50.590</td>\n",
       "      <td>Cc1nc(C)c(CN2CC(C)C(=O)Nc3ccccc32)s1</td>\n",
       "      <td>2.169</td>\n",
       "      <td>301.407</td>\n",
       "      <td>2.0</td>\n",
       "      <td>1.0</td>\n",
       "      <td>2.0</td>\n",
       "      <td>2.172</td>\n",
       "      <td>73.47</td>\n",
       "      <td>...</td>\n",
       "      <td>11</td>\n",
       "      <td>11</td>\n",
       "      <td>1</td>\n",
       "      <td>0</td>\n",
       "      <td>2</td>\n",
       "      <td>2.0</td>\n",
       "      <td>4.704561</td>\n",
       "      <td>4.717584</td>\n",
       "      <td>4.711068</td>\n",
       "      <td>36</td>\n",
       "    </tr>\n",
       "    <tr>\n",
       "      <th>2</th>\n",
       "      <td>5.586</td>\n",
       "      <td>80.892</td>\n",
       "      <td>CCCN1CCN(c2nn3nnnc3c3ccccc23)CC1</td>\n",
       "      <td>1.593</td>\n",
       "      <td>297.358</td>\n",
       "      <td>5.0</td>\n",
       "      <td>0.0</td>\n",
       "      <td>3.0</td>\n",
       "      <td>1.585</td>\n",
       "      <td>62.45</td>\n",
       "      <td>...</td>\n",
       "      <td>10</td>\n",
       "      <td>15</td>\n",
       "      <td>0</td>\n",
       "      <td>0</td>\n",
       "      <td>2</td>\n",
       "      <td>0.0</td>\n",
       "      <td>2.537649</td>\n",
       "      <td>2.512225</td>\n",
       "      <td>2.524905</td>\n",
       "      <td>32</td>\n",
       "    </tr>\n",
       "    <tr>\n",
       "      <th>3</th>\n",
       "      <td>5.710</td>\n",
       "      <td>2.000</td>\n",
       "      <td>Cc1ccc(-c2ccc(-n3nc(C)c(S(=O)(=O)N4CCN(C5CCCCC...</td>\n",
       "      <td>4.771</td>\n",
       "      <td>494.652</td>\n",
       "      <td>6.0</td>\n",
       "      <td>0.0</td>\n",
       "      <td>5.0</td>\n",
       "      <td>3.475</td>\n",
       "      <td>92.60</td>\n",
       "      <td>...</td>\n",
       "      <td>20</td>\n",
       "      <td>17</td>\n",
       "      <td>2</td>\n",
       "      <td>0</td>\n",
       "      <td>3</td>\n",
       "      <td>0.0</td>\n",
       "      <td>22.762441</td>\n",
       "      <td>12.075625</td>\n",
       "      <td>16.579225</td>\n",
       "      <td>63</td>\n",
       "    </tr>\n",
       "    <tr>\n",
       "      <th>4</th>\n",
       "      <td>93.270</td>\n",
       "      <td>99.990</td>\n",
       "      <td>Cc1ccc2c(c1)N(C(=O)c1ccncc1)CC(C)O2</td>\n",
       "      <td>2.335</td>\n",
       "      <td>268.310</td>\n",
       "      <td>3.0</td>\n",
       "      <td>0.0</td>\n",
       "      <td>1.0</td>\n",
       "      <td>2.337</td>\n",
       "      <td>42.43</td>\n",
       "      <td>...</td>\n",
       "      <td>9</td>\n",
       "      <td>12</td>\n",
       "      <td>1</td>\n",
       "      <td>0</td>\n",
       "      <td>2</td>\n",
       "      <td>0.0</td>\n",
       "      <td>5.452225</td>\n",
       "      <td>5.461569</td>\n",
       "      <td>5.456895</td>\n",
       "      <td>35</td>\n",
       "    </tr>\n",
       "    <tr>\n",
       "      <th>...</th>\n",
       "      <td>...</td>\n",
       "      <td>...</td>\n",
       "      <td>...</td>\n",
       "      <td>...</td>\n",
       "      <td>...</td>\n",
       "      <td>...</td>\n",
       "      <td>...</td>\n",
       "      <td>...</td>\n",
       "      <td>...</td>\n",
       "      <td>...</td>\n",
       "      <td>...</td>\n",
       "      <td>...</td>\n",
       "      <td>...</td>\n",
       "      <td>...</td>\n",
       "      <td>...</td>\n",
       "      <td>...</td>\n",
       "      <td>...</td>\n",
       "      <td>...</td>\n",
       "      <td>...</td>\n",
       "      <td>...</td>\n",
       "      <td>...</td>\n",
       "    </tr>\n",
       "    <tr>\n",
       "      <th>3941</th>\n",
       "      <td>NaN</td>\n",
       "      <td>NaN</td>\n",
       "      <td>CCc1noc(CC)c1CC(=O)NCC1(CC)CCCCC1</td>\n",
       "      <td>4.207</td>\n",
       "      <td>306.443</td>\n",
       "      <td>2.0</td>\n",
       "      <td>1.0</td>\n",
       "      <td>7.0</td>\n",
       "      <td>4.207</td>\n",
       "      <td>55.13</td>\n",
       "      <td>...</td>\n",
       "      <td>17</td>\n",
       "      <td>5</td>\n",
       "      <td>1</td>\n",
       "      <td>0</td>\n",
       "      <td>2</td>\n",
       "      <td>2.0</td>\n",
       "      <td>17.698849</td>\n",
       "      <td>17.698849</td>\n",
       "      <td>17.698849</td>\n",
       "      <td>33</td>\n",
       "    </tr>\n",
       "    <tr>\n",
       "      <th>3942</th>\n",
       "      <td>NaN</td>\n",
       "      <td>NaN</td>\n",
       "      <td>CC(=O)N1CCC2(CC1)OC(=O)C(C)=C2C(=O)N1CCN(C)CC1</td>\n",
       "      <td>-0.608</td>\n",
       "      <td>335.398</td>\n",
       "      <td>5.0</td>\n",
       "      <td>0.0</td>\n",
       "      <td>1.0</td>\n",
       "      <td>-1.736</td>\n",
       "      <td>70.16</td>\n",
       "      <td>...</td>\n",
       "      <td>22</td>\n",
       "      <td>0</td>\n",
       "      <td>4</td>\n",
       "      <td>0</td>\n",
       "      <td>2</td>\n",
       "      <td>0.0</td>\n",
       "      <td>0.369664</td>\n",
       "      <td>3.013696</td>\n",
       "      <td>1.055488</td>\n",
       "      <td>46</td>\n",
       "    </tr>\n",
       "    <tr>\n",
       "      <th>3943</th>\n",
       "      <td>NaN</td>\n",
       "      <td>NaN</td>\n",
       "      <td>CC(C)NC(=O)CN1C(=O)c2ccccc2N2C(=O)c3ccccc3C12</td>\n",
       "      <td>1.792</td>\n",
       "      <td>349.383</td>\n",
       "      <td>3.0</td>\n",
       "      <td>1.0</td>\n",
       "      <td>3.0</td>\n",
       "      <td>1.792</td>\n",
       "      <td>69.72</td>\n",
       "      <td>...</td>\n",
       "      <td>14</td>\n",
       "      <td>12</td>\n",
       "      <td>3</td>\n",
       "      <td>0</td>\n",
       "      <td>2</td>\n",
       "      <td>3.0</td>\n",
       "      <td>3.211264</td>\n",
       "      <td>3.211264</td>\n",
       "      <td>3.211264</td>\n",
       "      <td>45</td>\n",
       "    </tr>\n",
       "    <tr>\n",
       "      <th>3944</th>\n",
       "      <td>NaN</td>\n",
       "      <td>NaN</td>\n",
       "      <td>Cn1cc(Br)c(=O)c(NC(=O)c2ccc(O)cc2F)c1</td>\n",
       "      <td>0.790</td>\n",
       "      <td>341.132</td>\n",
       "      <td>3.0</td>\n",
       "      <td>2.0</td>\n",
       "      <td>2.0</td>\n",
       "      <td>0.423</td>\n",
       "      <td>69.64</td>\n",
       "      <td>...</td>\n",
       "      <td>7</td>\n",
       "      <td>12</td>\n",
       "      <td>2</td>\n",
       "      <td>0</td>\n",
       "      <td>2</td>\n",
       "      <td>6.0</td>\n",
       "      <td>0.624100</td>\n",
       "      <td>0.178929</td>\n",
       "      <td>0.334170</td>\n",
       "      <td>37</td>\n",
       "    </tr>\n",
       "    <tr>\n",
       "      <th>3945</th>\n",
       "      <td>NaN</td>\n",
       "      <td>NaN</td>\n",
       "      <td>CC(C)C(CCN1CCN(C)CC1)c1ccco1</td>\n",
       "      <td>2.782</td>\n",
       "      <td>250.380</td>\n",
       "      <td>2.0</td>\n",
       "      <td>0.0</td>\n",
       "      <td>5.0</td>\n",
       "      <td>0.606</td>\n",
       "      <td>19.62</td>\n",
       "      <td>...</td>\n",
       "      <td>14</td>\n",
       "      <td>5</td>\n",
       "      <td>0</td>\n",
       "      <td>0</td>\n",
       "      <td>2</td>\n",
       "      <td>0.0</td>\n",
       "      <td>7.739524</td>\n",
       "      <td>0.367236</td>\n",
       "      <td>1.685892</td>\n",
       "      <td>28</td>\n",
       "    </tr>\n",
       "  </tbody>\n",
       "</table>\n",
       "<p>3946 rows × 30 columns</p>\n",
       "</div>"
      ],
      "text/plain": [
       "         MLM     HLM                                             SMILES  \\\n",
       "0     26.010  50.680    CCOc1ccc(CNC(=O)c2cc(-c3sc(C)nc3C)n[nH]2)cc1OCC   \n",
       "1     29.270  50.590               Cc1nc(C)c(CN2CC(C)C(=O)Nc3ccccc32)s1   \n",
       "2      5.586  80.892                   CCCN1CCN(c2nn3nnnc3c3ccccc23)CC1   \n",
       "3      5.710   2.000  Cc1ccc(-c2ccc(-n3nc(C)c(S(=O)(=O)N4CCN(C5CCCCC...   \n",
       "4     93.270  99.990                Cc1ccc2c(c1)N(C(=O)c1ccncc1)CC(C)O2   \n",
       "...      ...     ...                                                ...   \n",
       "3941     NaN     NaN                  CCc1noc(CC)c1CC(=O)NCC1(CC)CCCCC1   \n",
       "3942     NaN     NaN     CC(=O)N1CCC2(CC1)OC(=O)C(C)=C2C(=O)N1CCN(C)CC1   \n",
       "3943     NaN     NaN      CC(C)NC(=O)CN1C(=O)c2ccccc2N2C(=O)c3ccccc3C12   \n",
       "3944     NaN     NaN              Cn1cc(Br)c(=O)c(NC(=O)c2ccc(O)cc2F)c1   \n",
       "3945     NaN     NaN                       CC(C)C(CCN1CCN(C)CC1)c1ccco1   \n",
       "\n",
       "      AlogP  Molecular_Weight  Num_H_Acceptors  Num_H_Donors  \\\n",
       "0     3.259           400.495              5.0           2.0   \n",
       "1     2.169           301.407              2.0           1.0   \n",
       "2     1.593           297.358              5.0           0.0   \n",
       "3     4.771           494.652              6.0           0.0   \n",
       "4     2.335           268.310              3.0           0.0   \n",
       "...     ...               ...              ...           ...   \n",
       "3941  4.207           306.443              2.0           1.0   \n",
       "3942 -0.608           335.398              5.0           0.0   \n",
       "3943  1.792           349.383              3.0           1.0   \n",
       "3944  0.790           341.132              3.0           2.0   \n",
       "3945  2.782           250.380              2.0           0.0   \n",
       "\n",
       "      Num_RotatableBonds   LogD  Molecular_PolarSurfaceArea  ...  Bond_1.0  \\\n",
       "0                    8.0  3.259                      117.37  ...        13   \n",
       "1                    2.0  2.172                       73.47  ...        11   \n",
       "2                    3.0  1.585                       62.45  ...        10   \n",
       "3                    5.0  3.475                       92.60  ...        20   \n",
       "4                    1.0  2.337                       42.43  ...         9   \n",
       "...                  ...    ...                         ...  ...       ...   \n",
       "3941                 7.0  4.207                       55.13  ...        17   \n",
       "3942                 1.0 -1.736                       70.16  ...        22   \n",
       "3943                 3.0  1.792                       69.72  ...        14   \n",
       "3944                 2.0  0.423                       69.64  ...         7   \n",
       "3945                 5.0  0.606                       19.62  ...        14   \n",
       "\n",
       "      Bond_1.5  Bond_2.0  Bond_3.0  Molecular_Weight_Bins  \\\n",
       "0           16         1         0                      3   \n",
       "1           11         1         0                      2   \n",
       "2           15         0         0                      2   \n",
       "3           17         2         0                      3   \n",
       "4           12         1         0                      2   \n",
       "...        ...       ...       ...                    ...   \n",
       "3941         5         1         0                      2   \n",
       "3942         0         4         0                      2   \n",
       "3943        12         3         0                      2   \n",
       "3944        12         2         0                      2   \n",
       "3945         5         0         0                      2   \n",
       "\n",
       "      H_Acceptors_x_H_Donors    AlogP^2     LogD^2  Alog_LogD  SMILES_Length  \n",
       "0                       10.0  10.621081  10.621081  10.621081             47  \n",
       "1                        2.0   4.704561   4.717584   4.711068             36  \n",
       "2                        0.0   2.537649   2.512225   2.524905             32  \n",
       "3                        0.0  22.762441  12.075625  16.579225             63  \n",
       "4                        0.0   5.452225   5.461569   5.456895             35  \n",
       "...                      ...        ...        ...        ...            ...  \n",
       "3941                     2.0  17.698849  17.698849  17.698849             33  \n",
       "3942                     0.0   0.369664   3.013696   1.055488             46  \n",
       "3943                     3.0   3.211264   3.211264   3.211264             45  \n",
       "3944                     6.0   0.624100   0.178929   0.334170             37  \n",
       "3945                     0.0   7.739524   0.367236   1.685892             28  \n",
       "\n",
       "[3946 rows x 30 columns]"
      ]
     },
     "execution_count": 26,
     "metadata": {},
     "output_type": "execute_result"
    }
   ],
   "source": [
    "df_total.reset_index(drop = True, inplace= True)\n",
    "df_total"
   ]
  },
  {
   "cell_type": "code",
   "execution_count": 27,
   "metadata": {},
   "outputs": [
    {
     "data": {
      "text/html": [
       "<div>\n",
       "<style scoped>\n",
       "    .dataframe tbody tr th:only-of-type {\n",
       "        vertical-align: middle;\n",
       "    }\n",
       "\n",
       "    .dataframe tbody tr th {\n",
       "        vertical-align: top;\n",
       "    }\n",
       "\n",
       "    .dataframe thead th {\n",
       "        text-align: right;\n",
       "    }\n",
       "</style>\n",
       "<table border=\"1\" class=\"dataframe\">\n",
       "  <thead>\n",
       "    <tr style=\"text-align: right;\">\n",
       "      <th></th>\n",
       "      <th>MLM</th>\n",
       "      <th>HLM</th>\n",
       "      <th>SMILES</th>\n",
       "      <th>AlogP</th>\n",
       "      <th>Molecular_Weight</th>\n",
       "      <th>Num_H_Acceptors</th>\n",
       "      <th>Num_H_Donors</th>\n",
       "      <th>Num_RotatableBonds</th>\n",
       "      <th>LogD</th>\n",
       "      <th>Molecular_PolarSurfaceArea</th>\n",
       "      <th>...</th>\n",
       "      <th>SRW10</th>\n",
       "      <th>TSRW10</th>\n",
       "      <th>MW</th>\n",
       "      <th>AMW</th>\n",
       "      <th>WPath</th>\n",
       "      <th>WPol</th>\n",
       "      <th>Zagreb1</th>\n",
       "      <th>Zagreb2</th>\n",
       "      <th>mZagreb1</th>\n",
       "      <th>mZagreb2</th>\n",
       "    </tr>\n",
       "  </thead>\n",
       "  <tbody>\n",
       "    <tr>\n",
       "      <th>0</th>\n",
       "      <td>26.010</td>\n",
       "      <td>50.680</td>\n",
       "      <td>CCOc1ccc(CNC(=O)c2cc(-c3sc(C)nc3C)n[nH]2)cc1OCC</td>\n",
       "      <td>3.259</td>\n",
       "      <td>400.495</td>\n",
       "      <td>5.0</td>\n",
       "      <td>2.0</td>\n",
       "      <td>8.0</td>\n",
       "      <td>3.259</td>\n",
       "      <td>117.37</td>\n",
       "      <td>...</td>\n",
       "      <td>10.081676</td>\n",
       "      <td>78.761075</td>\n",
       "      <td>400.156912</td>\n",
       "      <td>7.695325</td>\n",
       "      <td>2380</td>\n",
       "      <td>40</td>\n",
       "      <td>142.0</td>\n",
       "      <td>165.0</td>\n",
       "      <td>9.500000</td>\n",
       "      <td>6.361111</td>\n",
       "    </tr>\n",
       "    <tr>\n",
       "      <th>1</th>\n",
       "      <td>29.270</td>\n",
       "      <td>50.590</td>\n",
       "      <td>Cc1nc(C)c(CN2CC(C)C(=O)Nc3ccccc32)s1</td>\n",
       "      <td>2.169</td>\n",
       "      <td>301.407</td>\n",
       "      <td>2.0</td>\n",
       "      <td>1.0</td>\n",
       "      <td>2.0</td>\n",
       "      <td>2.172</td>\n",
       "      <td>73.47</td>\n",
       "      <td>...</td>\n",
       "      <td>9.907828</td>\n",
       "      <td>69.149596</td>\n",
       "      <td>301.124883</td>\n",
       "      <td>7.528122</td>\n",
       "      <td>870</td>\n",
       "      <td>35</td>\n",
       "      <td>112.0</td>\n",
       "      <td>132.0</td>\n",
       "      <td>7.138889</td>\n",
       "      <td>4.527778</td>\n",
       "    </tr>\n",
       "    <tr>\n",
       "      <th>2</th>\n",
       "      <td>5.586</td>\n",
       "      <td>80.892</td>\n",
       "      <td>CCCN1CCN(c2nn3nnnc3c3ccccc23)CC1</td>\n",
       "      <td>1.593</td>\n",
       "      <td>297.358</td>\n",
       "      <td>5.0</td>\n",
       "      <td>0.0</td>\n",
       "      <td>3.0</td>\n",
       "      <td>1.585</td>\n",
       "      <td>62.45</td>\n",
       "      <td>...</td>\n",
       "      <td>10.144510</td>\n",
       "      <td>70.158066</td>\n",
       "      <td>297.170194</td>\n",
       "      <td>7.248054</td>\n",
       "      <td>1028</td>\n",
       "      <td>36</td>\n",
       "      <td>120.0</td>\n",
       "      <td>145.0</td>\n",
       "      <td>5.277778</td>\n",
       "      <td>4.888889</td>\n",
       "    </tr>\n",
       "    <tr>\n",
       "      <th>3</th>\n",
       "      <td>5.710</td>\n",
       "      <td>2.000</td>\n",
       "      <td>Cc1ccc(-c2ccc(-n3nc(C)c(S(=O)(=O)N4CCN(C5CCCCC...</td>\n",
       "      <td>4.771</td>\n",
       "      <td>494.652</td>\n",
       "      <td>6.0</td>\n",
       "      <td>0.0</td>\n",
       "      <td>5.0</td>\n",
       "      <td>3.475</td>\n",
       "      <td>92.60</td>\n",
       "      <td>...</td>\n",
       "      <td>10.613467</td>\n",
       "      <td>86.199585</td>\n",
       "      <td>494.246395</td>\n",
       "      <td>7.162991</td>\n",
       "      <td>4170</td>\n",
       "      <td>61</td>\n",
       "      <td>192.0</td>\n",
       "      <td>231.0</td>\n",
       "      <td>10.784722</td>\n",
       "      <td>7.500000</td>\n",
       "    </tr>\n",
       "    <tr>\n",
       "      <th>4</th>\n",
       "      <td>93.270</td>\n",
       "      <td>99.990</td>\n",
       "      <td>Cc1ccc2c(c1)N(C(=O)c1ccncc1)CC(C)O2</td>\n",
       "      <td>2.335</td>\n",
       "      <td>268.310</td>\n",
       "      <td>3.0</td>\n",
       "      <td>0.0</td>\n",
       "      <td>1.0</td>\n",
       "      <td>2.337</td>\n",
       "      <td>42.43</td>\n",
       "      <td>...</td>\n",
       "      <td>9.978363</td>\n",
       "      <td>53.872357</td>\n",
       "      <td>268.121178</td>\n",
       "      <td>7.447810</td>\n",
       "      <td>762</td>\n",
       "      <td>32</td>\n",
       "      <td>106.0</td>\n",
       "      <td>125.0</td>\n",
       "      <td>6.277778</td>\n",
       "      <td>4.361111</td>\n",
       "    </tr>\n",
       "    <tr>\n",
       "      <th>...</th>\n",
       "      <td>...</td>\n",
       "      <td>...</td>\n",
       "      <td>...</td>\n",
       "      <td>...</td>\n",
       "      <td>...</td>\n",
       "      <td>...</td>\n",
       "      <td>...</td>\n",
       "      <td>...</td>\n",
       "      <td>...</td>\n",
       "      <td>...</td>\n",
       "      <td>...</td>\n",
       "      <td>...</td>\n",
       "      <td>...</td>\n",
       "      <td>...</td>\n",
       "      <td>...</td>\n",
       "      <td>...</td>\n",
       "      <td>...</td>\n",
       "      <td>...</td>\n",
       "      <td>...</td>\n",
       "      <td>...</td>\n",
       "      <td>...</td>\n",
       "    </tr>\n",
       "    <tr>\n",
       "      <th>3941</th>\n",
       "      <td>NaN</td>\n",
       "      <td>NaN</td>\n",
       "      <td>CCc1noc(CC)c1CC(=O)NCC1(CC)CCCCC1</td>\n",
       "      <td>4.207</td>\n",
       "      <td>306.443</td>\n",
       "      <td>2.0</td>\n",
       "      <td>1.0</td>\n",
       "      <td>7.0</td>\n",
       "      <td>4.207</td>\n",
       "      <td>55.13</td>\n",
       "      <td>...</td>\n",
       "      <td>9.862509</td>\n",
       "      <td>69.656439</td>\n",
       "      <td>306.230728</td>\n",
       "      <td>5.889052</td>\n",
       "      <td>1138</td>\n",
       "      <td>32</td>\n",
       "      <td>108.0</td>\n",
       "      <td>125.0</td>\n",
       "      <td>7.756944</td>\n",
       "      <td>5.222222</td>\n",
       "    </tr>\n",
       "    <tr>\n",
       "      <th>3942</th>\n",
       "      <td>NaN</td>\n",
       "      <td>NaN</td>\n",
       "      <td>CC(=O)N1CCC2(CC1)OC(=O)C(C)=C2C(=O)N1CCN(C)CC1</td>\n",
       "      <td>-0.608</td>\n",
       "      <td>335.398</td>\n",
       "      <td>5.0</td>\n",
       "      <td>0.0</td>\n",
       "      <td>1.0</td>\n",
       "      <td>-1.736</td>\n",
       "      <td>70.16</td>\n",
       "      <td>...</td>\n",
       "      <td>10.288852</td>\n",
       "      <td>73.647870</td>\n",
       "      <td>335.184506</td>\n",
       "      <td>6.840500</td>\n",
       "      <td>1280</td>\n",
       "      <td>42</td>\n",
       "      <td>130.0</td>\n",
       "      <td>157.0</td>\n",
       "      <td>9.201389</td>\n",
       "      <td>5.180556</td>\n",
       "    </tr>\n",
       "    <tr>\n",
       "      <th>3943</th>\n",
       "      <td>NaN</td>\n",
       "      <td>NaN</td>\n",
       "      <td>CC(C)NC(=O)CN1C(=O)c2ccccc2N2C(=O)c3ccccc3C12</td>\n",
       "      <td>1.792</td>\n",
       "      <td>349.383</td>\n",
       "      <td>3.0</td>\n",
       "      <td>1.0</td>\n",
       "      <td>3.0</td>\n",
       "      <td>1.792</td>\n",
       "      <td>69.72</td>\n",
       "      <td>...</td>\n",
       "      <td>10.447235</td>\n",
       "      <td>76.277596</td>\n",
       "      <td>349.142641</td>\n",
       "      <td>7.758725</td>\n",
       "      <td>1469</td>\n",
       "      <td>48</td>\n",
       "      <td>144.0</td>\n",
       "      <td>177.0</td>\n",
       "      <td>8.722222</td>\n",
       "      <td>5.611111</td>\n",
       "    </tr>\n",
       "    <tr>\n",
       "      <th>3944</th>\n",
       "      <td>NaN</td>\n",
       "      <td>NaN</td>\n",
       "      <td>Cn1cc(Br)c(=O)c(NC(=O)c2ccc(O)cc2F)c1</td>\n",
       "      <td>0.790</td>\n",
       "      <td>341.132</td>\n",
       "      <td>3.0</td>\n",
       "      <td>2.0</td>\n",
       "      <td>2.0</td>\n",
       "      <td>0.423</td>\n",
       "      <td>69.64</td>\n",
       "      <td>...</td>\n",
       "      <td>9.874728</td>\n",
       "      <td>53.565348</td>\n",
       "      <td>339.985883</td>\n",
       "      <td>11.332863</td>\n",
       "      <td>826</td>\n",
       "      <td>31</td>\n",
       "      <td>102.0</td>\n",
       "      <td>118.0</td>\n",
       "      <td>8.388889</td>\n",
       "      <td>4.361111</td>\n",
       "    </tr>\n",
       "    <tr>\n",
       "      <th>3945</th>\n",
       "      <td>NaN</td>\n",
       "      <td>NaN</td>\n",
       "      <td>CC(C)C(CCN1CCN(C)CC1)c1ccco1</td>\n",
       "      <td>2.782</td>\n",
       "      <td>250.380</td>\n",
       "      <td>2.0</td>\n",
       "      <td>0.0</td>\n",
       "      <td>5.0</td>\n",
       "      <td>0.606</td>\n",
       "      <td>19.62</td>\n",
       "      <td>...</td>\n",
       "      <td>9.478763</td>\n",
       "      <td>63.502070</td>\n",
       "      <td>250.204513</td>\n",
       "      <td>5.686466</td>\n",
       "      <td>660</td>\n",
       "      <td>22</td>\n",
       "      <td>88.0</td>\n",
       "      <td>99.0</td>\n",
       "      <td>6.055556</td>\n",
       "      <td>4.055556</td>\n",
       "    </tr>\n",
       "  </tbody>\n",
       "</table>\n",
       "<p>3946 rows × 1856 columns</p>\n",
       "</div>"
      ],
      "text/plain": [
       "         MLM     HLM                                             SMILES  \\\n",
       "0     26.010  50.680    CCOc1ccc(CNC(=O)c2cc(-c3sc(C)nc3C)n[nH]2)cc1OCC   \n",
       "1     29.270  50.590               Cc1nc(C)c(CN2CC(C)C(=O)Nc3ccccc32)s1   \n",
       "2      5.586  80.892                   CCCN1CCN(c2nn3nnnc3c3ccccc23)CC1   \n",
       "3      5.710   2.000  Cc1ccc(-c2ccc(-n3nc(C)c(S(=O)(=O)N4CCN(C5CCCCC...   \n",
       "4     93.270  99.990                Cc1ccc2c(c1)N(C(=O)c1ccncc1)CC(C)O2   \n",
       "...      ...     ...                                                ...   \n",
       "3941     NaN     NaN                  CCc1noc(CC)c1CC(=O)NCC1(CC)CCCCC1   \n",
       "3942     NaN     NaN     CC(=O)N1CCC2(CC1)OC(=O)C(C)=C2C(=O)N1CCN(C)CC1   \n",
       "3943     NaN     NaN      CC(C)NC(=O)CN1C(=O)c2ccccc2N2C(=O)c3ccccc3C12   \n",
       "3944     NaN     NaN              Cn1cc(Br)c(=O)c(NC(=O)c2ccc(O)cc2F)c1   \n",
       "3945     NaN     NaN                       CC(C)C(CCN1CCN(C)CC1)c1ccco1   \n",
       "\n",
       "      AlogP  Molecular_Weight  Num_H_Acceptors  Num_H_Donors  \\\n",
       "0     3.259           400.495              5.0           2.0   \n",
       "1     2.169           301.407              2.0           1.0   \n",
       "2     1.593           297.358              5.0           0.0   \n",
       "3     4.771           494.652              6.0           0.0   \n",
       "4     2.335           268.310              3.0           0.0   \n",
       "...     ...               ...              ...           ...   \n",
       "3941  4.207           306.443              2.0           1.0   \n",
       "3942 -0.608           335.398              5.0           0.0   \n",
       "3943  1.792           349.383              3.0           1.0   \n",
       "3944  0.790           341.132              3.0           2.0   \n",
       "3945  2.782           250.380              2.0           0.0   \n",
       "\n",
       "      Num_RotatableBonds   LogD  Molecular_PolarSurfaceArea  ...      SRW10  \\\n",
       "0                    8.0  3.259                      117.37  ...  10.081676   \n",
       "1                    2.0  2.172                       73.47  ...   9.907828   \n",
       "2                    3.0  1.585                       62.45  ...  10.144510   \n",
       "3                    5.0  3.475                       92.60  ...  10.613467   \n",
       "4                    1.0  2.337                       42.43  ...   9.978363   \n",
       "...                  ...    ...                         ...  ...        ...   \n",
       "3941                 7.0  4.207                       55.13  ...   9.862509   \n",
       "3942                 1.0 -1.736                       70.16  ...  10.288852   \n",
       "3943                 3.0  1.792                       69.72  ...  10.447235   \n",
       "3944                 2.0  0.423                       69.64  ...   9.874728   \n",
       "3945                 5.0  0.606                       19.62  ...   9.478763   \n",
       "\n",
       "         TSRW10          MW        AMW  WPath  WPol  Zagreb1  Zagreb2  \\\n",
       "0     78.761075  400.156912   7.695325   2380    40    142.0    165.0   \n",
       "1     69.149596  301.124883   7.528122    870    35    112.0    132.0   \n",
       "2     70.158066  297.170194   7.248054   1028    36    120.0    145.0   \n",
       "3     86.199585  494.246395   7.162991   4170    61    192.0    231.0   \n",
       "4     53.872357  268.121178   7.447810    762    32    106.0    125.0   \n",
       "...         ...         ...        ...    ...   ...      ...      ...   \n",
       "3941  69.656439  306.230728   5.889052   1138    32    108.0    125.0   \n",
       "3942  73.647870  335.184506   6.840500   1280    42    130.0    157.0   \n",
       "3943  76.277596  349.142641   7.758725   1469    48    144.0    177.0   \n",
       "3944  53.565348  339.985883  11.332863    826    31    102.0    118.0   \n",
       "3945  63.502070  250.204513   5.686466    660    22     88.0     99.0   \n",
       "\n",
       "       mZagreb1  mZagreb2  \n",
       "0      9.500000  6.361111  \n",
       "1      7.138889  4.527778  \n",
       "2      5.277778  4.888889  \n",
       "3     10.784722  7.500000  \n",
       "4      6.277778  4.361111  \n",
       "...         ...       ...  \n",
       "3941   7.756944  5.222222  \n",
       "3942   9.201389  5.180556  \n",
       "3943   8.722222  5.611111  \n",
       "3944   8.388889  4.361111  \n",
       "3945   6.055556  4.055556  \n",
       "\n",
       "[3946 rows x 1856 columns]"
      ]
     },
     "execution_count": 27,
     "metadata": {},
     "output_type": "execute_result"
    }
   ],
   "source": [
    "df_total = pd.concat([df_total, total_mordred], axis = 1)\n",
    "df_total"
   ]
  },
  {
   "cell_type": "markdown",
   "metadata": {},
   "source": [
    "## 데이터 나누기 + study 횟수"
   ]
  },
  {
   "cell_type": "code",
   "execution_count": 28,
   "metadata": {},
   "outputs": [],
   "source": [
    "col_list = df_total.columns.to_list()\n",
    "dtype_list = col_list[9:]"
   ]
  },
  {
   "cell_type": "code",
   "execution_count": 29,
   "metadata": {},
   "outputs": [],
   "source": [
    "for i in dtype_list:\n",
    "    if df_total[i].dtype == 'object' or 'category':\n",
    "        df_total[i] = df_total[i].astype('float32')"
   ]
  },
  {
   "cell_type": "code",
   "execution_count": 30,
   "metadata": {},
   "outputs": [
    {
     "name": "stdout",
     "output_type": "stream",
     "text": [
      "<class 'pandas.core.frame.DataFrame'>\n",
      "RangeIndex: 3946 entries, 0 to 3945\n",
      "Columns: 1856 entries, MLM to mZagreb2\n",
      "dtypes: float32(1847), float64(8), object(1)\n",
      "memory usage: 28.1+ MB\n"
     ]
    }
   ],
   "source": [
    "df_total.info()"
   ]
  },
  {
   "cell_type": "code",
   "execution_count": 31,
   "metadata": {},
   "outputs": [],
   "source": [
    "dataframe_number = len(df_train) - 8"
   ]
  },
  {
   "cell_type": "code",
   "execution_count": 32,
   "metadata": {},
   "outputs": [
    {
     "data": {
      "text/html": [
       "<div>\n",
       "<style scoped>\n",
       "    .dataframe tbody tr th:only-of-type {\n",
       "        vertical-align: middle;\n",
       "    }\n",
       "\n",
       "    .dataframe tbody tr th {\n",
       "        vertical-align: top;\n",
       "    }\n",
       "\n",
       "    .dataframe thead th {\n",
       "        text-align: right;\n",
       "    }\n",
       "</style>\n",
       "<table border=\"1\" class=\"dataframe\">\n",
       "  <thead>\n",
       "    <tr style=\"text-align: right;\">\n",
       "      <th></th>\n",
       "      <th>AlogP</th>\n",
       "      <th>Molecular_Weight</th>\n",
       "      <th>Num_H_Acceptors</th>\n",
       "      <th>Num_H_Donors</th>\n",
       "      <th>Num_RotatableBonds</th>\n",
       "      <th>LogD</th>\n",
       "      <th>Molecular_PolarSurfaceArea</th>\n",
       "      <th>C</th>\n",
       "      <th>O</th>\n",
       "      <th>N</th>\n",
       "      <th>...</th>\n",
       "      <th>SRW10</th>\n",
       "      <th>TSRW10</th>\n",
       "      <th>MW</th>\n",
       "      <th>AMW</th>\n",
       "      <th>WPath</th>\n",
       "      <th>WPol</th>\n",
       "      <th>Zagreb1</th>\n",
       "      <th>Zagreb2</th>\n",
       "      <th>mZagreb1</th>\n",
       "      <th>mZagreb2</th>\n",
       "    </tr>\n",
       "  </thead>\n",
       "  <tbody>\n",
       "    <tr>\n",
       "      <th>0</th>\n",
       "      <td>3.259</td>\n",
       "      <td>400.495</td>\n",
       "      <td>5.0</td>\n",
       "      <td>2.0</td>\n",
       "      <td>8.0</td>\n",
       "      <td>3.259</td>\n",
       "      <td>117.370003</td>\n",
       "      <td>20.0</td>\n",
       "      <td>3.0</td>\n",
       "      <td>4.0</td>\n",
       "      <td>...</td>\n",
       "      <td>10.081676</td>\n",
       "      <td>78.761078</td>\n",
       "      <td>400.156921</td>\n",
       "      <td>7.695325</td>\n",
       "      <td>2380.0</td>\n",
       "      <td>40.0</td>\n",
       "      <td>142.0</td>\n",
       "      <td>165.0</td>\n",
       "      <td>9.500000</td>\n",
       "      <td>6.361111</td>\n",
       "    </tr>\n",
       "    <tr>\n",
       "      <th>1</th>\n",
       "      <td>2.169</td>\n",
       "      <td>301.407</td>\n",
       "      <td>2.0</td>\n",
       "      <td>1.0</td>\n",
       "      <td>2.0</td>\n",
       "      <td>2.172</td>\n",
       "      <td>73.470001</td>\n",
       "      <td>16.0</td>\n",
       "      <td>1.0</td>\n",
       "      <td>3.0</td>\n",
       "      <td>...</td>\n",
       "      <td>9.907828</td>\n",
       "      <td>69.149597</td>\n",
       "      <td>301.124878</td>\n",
       "      <td>7.528122</td>\n",
       "      <td>870.0</td>\n",
       "      <td>35.0</td>\n",
       "      <td>112.0</td>\n",
       "      <td>132.0</td>\n",
       "      <td>7.138889</td>\n",
       "      <td>4.527778</td>\n",
       "    </tr>\n",
       "    <tr>\n",
       "      <th>2</th>\n",
       "      <td>1.593</td>\n",
       "      <td>297.358</td>\n",
       "      <td>5.0</td>\n",
       "      <td>0.0</td>\n",
       "      <td>3.0</td>\n",
       "      <td>1.585</td>\n",
       "      <td>62.450001</td>\n",
       "      <td>15.0</td>\n",
       "      <td>0.0</td>\n",
       "      <td>7.0</td>\n",
       "      <td>...</td>\n",
       "      <td>10.144510</td>\n",
       "      <td>70.158066</td>\n",
       "      <td>297.170197</td>\n",
       "      <td>7.248054</td>\n",
       "      <td>1028.0</td>\n",
       "      <td>36.0</td>\n",
       "      <td>120.0</td>\n",
       "      <td>145.0</td>\n",
       "      <td>5.277778</td>\n",
       "      <td>4.888889</td>\n",
       "    </tr>\n",
       "    <tr>\n",
       "      <th>3</th>\n",
       "      <td>4.771</td>\n",
       "      <td>494.652</td>\n",
       "      <td>6.0</td>\n",
       "      <td>0.0</td>\n",
       "      <td>5.0</td>\n",
       "      <td>3.475</td>\n",
       "      <td>92.599998</td>\n",
       "      <td>26.0</td>\n",
       "      <td>2.0</td>\n",
       "      <td>6.0</td>\n",
       "      <td>...</td>\n",
       "      <td>10.613467</td>\n",
       "      <td>86.199585</td>\n",
       "      <td>494.246399</td>\n",
       "      <td>7.162991</td>\n",
       "      <td>4170.0</td>\n",
       "      <td>61.0</td>\n",
       "      <td>192.0</td>\n",
       "      <td>231.0</td>\n",
       "      <td>10.784722</td>\n",
       "      <td>7.500000</td>\n",
       "    </tr>\n",
       "    <tr>\n",
       "      <th>4</th>\n",
       "      <td>2.335</td>\n",
       "      <td>268.310</td>\n",
       "      <td>3.0</td>\n",
       "      <td>0.0</td>\n",
       "      <td>1.0</td>\n",
       "      <td>2.337</td>\n",
       "      <td>42.430000</td>\n",
       "      <td>16.0</td>\n",
       "      <td>2.0</td>\n",
       "      <td>2.0</td>\n",
       "      <td>...</td>\n",
       "      <td>9.978363</td>\n",
       "      <td>53.872356</td>\n",
       "      <td>268.121185</td>\n",
       "      <td>7.447811</td>\n",
       "      <td>762.0</td>\n",
       "      <td>32.0</td>\n",
       "      <td>106.0</td>\n",
       "      <td>125.0</td>\n",
       "      <td>6.277778</td>\n",
       "      <td>4.361111</td>\n",
       "    </tr>\n",
       "    <tr>\n",
       "      <th>...</th>\n",
       "      <td>...</td>\n",
       "      <td>...</td>\n",
       "      <td>...</td>\n",
       "      <td>...</td>\n",
       "      <td>...</td>\n",
       "      <td>...</td>\n",
       "      <td>...</td>\n",
       "      <td>...</td>\n",
       "      <td>...</td>\n",
       "      <td>...</td>\n",
       "      <td>...</td>\n",
       "      <td>...</td>\n",
       "      <td>...</td>\n",
       "      <td>...</td>\n",
       "      <td>...</td>\n",
       "      <td>...</td>\n",
       "      <td>...</td>\n",
       "      <td>...</td>\n",
       "      <td>...</td>\n",
       "      <td>...</td>\n",
       "      <td>...</td>\n",
       "    </tr>\n",
       "    <tr>\n",
       "      <th>3458</th>\n",
       "      <td>4.282</td>\n",
       "      <td>553.480</td>\n",
       "      <td>5.0</td>\n",
       "      <td>0.0</td>\n",
       "      <td>7.0</td>\n",
       "      <td>4.009</td>\n",
       "      <td>65.980003</td>\n",
       "      <td>29.0</td>\n",
       "      <td>3.0</td>\n",
       "      <td>4.0</td>\n",
       "      <td>...</td>\n",
       "      <td>10.593756</td>\n",
       "      <td>88.164474</td>\n",
       "      <td>552.169495</td>\n",
       "      <td>8.120140</td>\n",
       "      <td>4874.0</td>\n",
       "      <td>63.0</td>\n",
       "      <td>204.0</td>\n",
       "      <td>242.0</td>\n",
       "      <td>12.055555</td>\n",
       "      <td>8.222222</td>\n",
       "    </tr>\n",
       "    <tr>\n",
       "      <th>3459</th>\n",
       "      <td>4.304</td>\n",
       "      <td>459.520</td>\n",
       "      <td>6.0</td>\n",
       "      <td>1.0</td>\n",
       "      <td>4.0</td>\n",
       "      <td>4.304</td>\n",
       "      <td>113.529999</td>\n",
       "      <td>24.0</td>\n",
       "      <td>3.0</td>\n",
       "      <td>5.0</td>\n",
       "      <td>...</td>\n",
       "      <td>10.677177</td>\n",
       "      <td>84.226166</td>\n",
       "      <td>459.136505</td>\n",
       "      <td>8.502528</td>\n",
       "      <td>2888.0</td>\n",
       "      <td>61.0</td>\n",
       "      <td>186.0</td>\n",
       "      <td>227.0</td>\n",
       "      <td>10.895833</td>\n",
       "      <td>6.944445</td>\n",
       "    </tr>\n",
       "    <tr>\n",
       "      <th>3460</th>\n",
       "      <td>-1.133</td>\n",
       "      <td>385.417</td>\n",
       "      <td>7.0</td>\n",
       "      <td>0.0</td>\n",
       "      <td>4.0</td>\n",
       "      <td>-1.133</td>\n",
       "      <td>108.650002</td>\n",
       "      <td>19.0</td>\n",
       "      <td>4.0</td>\n",
       "      <td>5.0</td>\n",
       "      <td>...</td>\n",
       "      <td>10.177818</td>\n",
       "      <td>79.094666</td>\n",
       "      <td>385.175018</td>\n",
       "      <td>7.552451</td>\n",
       "      <td>2262.0</td>\n",
       "      <td>42.0</td>\n",
       "      <td>148.0</td>\n",
       "      <td>175.0</td>\n",
       "      <td>8.000000</td>\n",
       "      <td>6.222222</td>\n",
       "    </tr>\n",
       "    <tr>\n",
       "      <th>3461</th>\n",
       "      <td>-0.533</td>\n",
       "      <td>302.289</td>\n",
       "      <td>6.0</td>\n",
       "      <td>1.0</td>\n",
       "      <td>2.0</td>\n",
       "      <td>-0.533</td>\n",
       "      <td>111.440002</td>\n",
       "      <td>13.0</td>\n",
       "      <td>3.0</td>\n",
       "      <td>6.0</td>\n",
       "      <td>...</td>\n",
       "      <td>9.881191</td>\n",
       "      <td>71.515480</td>\n",
       "      <td>302.112732</td>\n",
       "      <td>8.392020</td>\n",
       "      <td>1133.0</td>\n",
       "      <td>31.0</td>\n",
       "      <td>114.0</td>\n",
       "      <td>134.0</td>\n",
       "      <td>6.777778</td>\n",
       "      <td>4.944445</td>\n",
       "    </tr>\n",
       "    <tr>\n",
       "      <th>3462</th>\n",
       "      <td>5.630</td>\n",
       "      <td>466.572</td>\n",
       "      <td>4.0</td>\n",
       "      <td>0.0</td>\n",
       "      <td>8.0</td>\n",
       "      <td>5.630</td>\n",
       "      <td>94.900002</td>\n",
       "      <td>24.0</td>\n",
       "      <td>4.0</td>\n",
       "      <td>2.0</td>\n",
       "      <td>...</td>\n",
       "      <td>10.410937</td>\n",
       "      <td>83.783310</td>\n",
       "      <td>466.102112</td>\n",
       "      <td>8.631520</td>\n",
       "      <td>3644.0</td>\n",
       "      <td>49.0</td>\n",
       "      <td>170.0</td>\n",
       "      <td>200.0</td>\n",
       "      <td>9.791667</td>\n",
       "      <td>6.916667</td>\n",
       "    </tr>\n",
       "  </tbody>\n",
       "</table>\n",
       "<p>3463 rows × 1853 columns</p>\n",
       "</div>"
      ],
      "text/plain": [
       "      AlogP  Molecular_Weight  Num_H_Acceptors  Num_H_Donors  \\\n",
       "0     3.259           400.495              5.0           2.0   \n",
       "1     2.169           301.407              2.0           1.0   \n",
       "2     1.593           297.358              5.0           0.0   \n",
       "3     4.771           494.652              6.0           0.0   \n",
       "4     2.335           268.310              3.0           0.0   \n",
       "...     ...               ...              ...           ...   \n",
       "3458  4.282           553.480              5.0           0.0   \n",
       "3459  4.304           459.520              6.0           1.0   \n",
       "3460 -1.133           385.417              7.0           0.0   \n",
       "3461 -0.533           302.289              6.0           1.0   \n",
       "3462  5.630           466.572              4.0           0.0   \n",
       "\n",
       "      Num_RotatableBonds   LogD  Molecular_PolarSurfaceArea     C    O    N  \\\n",
       "0                    8.0  3.259                  117.370003  20.0  3.0  4.0   \n",
       "1                    2.0  2.172                   73.470001  16.0  1.0  3.0   \n",
       "2                    3.0  1.585                   62.450001  15.0  0.0  7.0   \n",
       "3                    5.0  3.475                   92.599998  26.0  2.0  6.0   \n",
       "4                    1.0  2.337                   42.430000  16.0  2.0  2.0   \n",
       "...                  ...    ...                         ...   ...  ...  ...   \n",
       "3458                 7.0  4.009                   65.980003  29.0  3.0  4.0   \n",
       "3459                 4.0  4.304                  113.529999  24.0  3.0  5.0   \n",
       "3460                 4.0 -1.133                  108.650002  19.0  4.0  5.0   \n",
       "3461                 2.0 -0.533                  111.440002  13.0  3.0  6.0   \n",
       "3462                 8.0  5.630                   94.900002  24.0  4.0  2.0   \n",
       "\n",
       "      ...      SRW10     TSRW10          MW       AMW   WPath  WPol  Zagreb1  \\\n",
       "0     ...  10.081676  78.761078  400.156921  7.695325  2380.0  40.0    142.0   \n",
       "1     ...   9.907828  69.149597  301.124878  7.528122   870.0  35.0    112.0   \n",
       "2     ...  10.144510  70.158066  297.170197  7.248054  1028.0  36.0    120.0   \n",
       "3     ...  10.613467  86.199585  494.246399  7.162991  4170.0  61.0    192.0   \n",
       "4     ...   9.978363  53.872356  268.121185  7.447811   762.0  32.0    106.0   \n",
       "...   ...        ...        ...         ...       ...     ...   ...      ...   \n",
       "3458  ...  10.593756  88.164474  552.169495  8.120140  4874.0  63.0    204.0   \n",
       "3459  ...  10.677177  84.226166  459.136505  8.502528  2888.0  61.0    186.0   \n",
       "3460  ...  10.177818  79.094666  385.175018  7.552451  2262.0  42.0    148.0   \n",
       "3461  ...   9.881191  71.515480  302.112732  8.392020  1133.0  31.0    114.0   \n",
       "3462  ...  10.410937  83.783310  466.102112  8.631520  3644.0  49.0    170.0   \n",
       "\n",
       "      Zagreb2   mZagreb1  mZagreb2  \n",
       "0       165.0   9.500000  6.361111  \n",
       "1       132.0   7.138889  4.527778  \n",
       "2       145.0   5.277778  4.888889  \n",
       "3       231.0  10.784722  7.500000  \n",
       "4       125.0   6.277778  4.361111  \n",
       "...       ...        ...       ...  \n",
       "3458    242.0  12.055555  8.222222  \n",
       "3459    227.0  10.895833  6.944445  \n",
       "3460    175.0   8.000000  6.222222  \n",
       "3461    134.0   6.777778  4.944445  \n",
       "3462    200.0   9.791667  6.916667  \n",
       "\n",
       "[3463 rows x 1853 columns]"
      ]
     },
     "execution_count": 32,
     "metadata": {},
     "output_type": "execute_result"
    }
   ],
   "source": [
    "df_train = df_total.iloc[:dataframe_number, :].copy()\n",
    "df_train.reset_index(drop = True, inplace = True)\n",
    "df_train.drop(['SMILES','MLM', 'HLM'], axis=1, inplace = True)\n",
    "df_train"
   ]
  },
  {
   "cell_type": "code",
   "execution_count": 33,
   "metadata": {},
   "outputs": [
    {
     "data": {
      "text/html": [
       "<div>\n",
       "<style scoped>\n",
       "    .dataframe tbody tr th:only-of-type {\n",
       "        vertical-align: middle;\n",
       "    }\n",
       "\n",
       "    .dataframe tbody tr th {\n",
       "        vertical-align: top;\n",
       "    }\n",
       "\n",
       "    .dataframe thead th {\n",
       "        text-align: right;\n",
       "    }\n",
       "</style>\n",
       "<table border=\"1\" class=\"dataframe\">\n",
       "  <thead>\n",
       "    <tr style=\"text-align: right;\">\n",
       "      <th></th>\n",
       "      <th>AlogP</th>\n",
       "      <th>Molecular_Weight</th>\n",
       "      <th>Num_H_Acceptors</th>\n",
       "      <th>Num_H_Donors</th>\n",
       "      <th>Num_RotatableBonds</th>\n",
       "      <th>LogD</th>\n",
       "      <th>Molecular_PolarSurfaceArea</th>\n",
       "      <th>C</th>\n",
       "      <th>O</th>\n",
       "      <th>N</th>\n",
       "      <th>...</th>\n",
       "      <th>SRW10</th>\n",
       "      <th>TSRW10</th>\n",
       "      <th>MW</th>\n",
       "      <th>AMW</th>\n",
       "      <th>WPath</th>\n",
       "      <th>WPol</th>\n",
       "      <th>Zagreb1</th>\n",
       "      <th>Zagreb2</th>\n",
       "      <th>mZagreb1</th>\n",
       "      <th>mZagreb2</th>\n",
       "    </tr>\n",
       "  </thead>\n",
       "  <tbody>\n",
       "    <tr>\n",
       "      <th>0</th>\n",
       "      <td>2.641</td>\n",
       "      <td>361.505</td>\n",
       "      <td>4.0</td>\n",
       "      <td>2.0</td>\n",
       "      <td>7.0</td>\n",
       "      <td>2.635</td>\n",
       "      <td>92.760002</td>\n",
       "      <td>18.0</td>\n",
       "      <td>1.0</td>\n",
       "      <td>5.0</td>\n",
       "      <td>...</td>\n",
       "      <td>9.935713</td>\n",
       "      <td>72.422577</td>\n",
       "      <td>361.193634</td>\n",
       "      <td>6.946032</td>\n",
       "      <td>1607.0</td>\n",
       "      <td>34.0</td>\n",
       "      <td>126.0</td>\n",
       "      <td>144.0</td>\n",
       "      <td>7.527778</td>\n",
       "      <td>5.638889</td>\n",
       "    </tr>\n",
       "    <tr>\n",
       "      <th>1</th>\n",
       "      <td>0.585</td>\n",
       "      <td>370.399</td>\n",
       "      <td>5.0</td>\n",
       "      <td>0.0</td>\n",
       "      <td>3.0</td>\n",
       "      <td>0.585</td>\n",
       "      <td>68.309998</td>\n",
       "      <td>20.0</td>\n",
       "      <td>5.0</td>\n",
       "      <td>2.0</td>\n",
       "      <td>...</td>\n",
       "      <td>10.330420</td>\n",
       "      <td>76.111618</td>\n",
       "      <td>370.152863</td>\n",
       "      <td>7.554140</td>\n",
       "      <td>1853.0</td>\n",
       "      <td>45.0</td>\n",
       "      <td>146.0</td>\n",
       "      <td>175.0</td>\n",
       "      <td>7.840278</td>\n",
       "      <td>5.972222</td>\n",
       "    </tr>\n",
       "    <tr>\n",
       "      <th>2</th>\n",
       "      <td>4.276</td>\n",
       "      <td>347.414</td>\n",
       "      <td>4.0</td>\n",
       "      <td>4.0</td>\n",
       "      <td>5.0</td>\n",
       "      <td>4.290</td>\n",
       "      <td>92.860001</td>\n",
       "      <td>20.0</td>\n",
       "      <td>1.0</td>\n",
       "      <td>5.0</td>\n",
       "      <td>...</td>\n",
       "      <td>10.008162</td>\n",
       "      <td>60.614033</td>\n",
       "      <td>347.174622</td>\n",
       "      <td>7.386694</td>\n",
       "      <td>1905.0</td>\n",
       "      <td>37.0</td>\n",
       "      <td>132.0</td>\n",
       "      <td>150.0</td>\n",
       "      <td>8.388889</td>\n",
       "      <td>5.722222</td>\n",
       "    </tr>\n",
       "    <tr>\n",
       "      <th>3</th>\n",
       "      <td>1.795</td>\n",
       "      <td>345.358</td>\n",
       "      <td>5.0</td>\n",
       "      <td>0.0</td>\n",
       "      <td>2.0</td>\n",
       "      <td>1.795</td>\n",
       "      <td>81.209999</td>\n",
       "      <td>18.0</td>\n",
       "      <td>1.0</td>\n",
       "      <td>7.0</td>\n",
       "      <td>...</td>\n",
       "      <td>10.288444</td>\n",
       "      <td>77.464783</td>\n",
       "      <td>345.133820</td>\n",
       "      <td>8.417898</td>\n",
       "      <td>1673.0</td>\n",
       "      <td>42.0</td>\n",
       "      <td>146.0</td>\n",
       "      <td>177.0</td>\n",
       "      <td>6.000000</td>\n",
       "      <td>5.583333</td>\n",
       "    </tr>\n",
       "    <tr>\n",
       "      <th>4</th>\n",
       "      <td>1.219</td>\n",
       "      <td>353.418</td>\n",
       "      <td>4.0</td>\n",
       "      <td>0.0</td>\n",
       "      <td>2.0</td>\n",
       "      <td>0.169</td>\n",
       "      <td>61.150002</td>\n",
       "      <td>19.0</td>\n",
       "      <td>2.0</td>\n",
       "      <td>5.0</td>\n",
       "      <td>...</td>\n",
       "      <td>10.380312</td>\n",
       "      <td>75.874626</td>\n",
       "      <td>353.185181</td>\n",
       "      <td>7.207861</td>\n",
       "      <td>1656.0</td>\n",
       "      <td>47.0</td>\n",
       "      <td>144.0</td>\n",
       "      <td>176.0</td>\n",
       "      <td>8.722222</td>\n",
       "      <td>5.638889</td>\n",
       "    </tr>\n",
       "    <tr>\n",
       "      <th>...</th>\n",
       "      <td>...</td>\n",
       "      <td>...</td>\n",
       "      <td>...</td>\n",
       "      <td>...</td>\n",
       "      <td>...</td>\n",
       "      <td>...</td>\n",
       "      <td>...</td>\n",
       "      <td>...</td>\n",
       "      <td>...</td>\n",
       "      <td>...</td>\n",
       "      <td>...</td>\n",
       "      <td>...</td>\n",
       "      <td>...</td>\n",
       "      <td>...</td>\n",
       "      <td>...</td>\n",
       "      <td>...</td>\n",
       "      <td>...</td>\n",
       "      <td>...</td>\n",
       "      <td>...</td>\n",
       "      <td>...</td>\n",
       "      <td>...</td>\n",
       "    </tr>\n",
       "    <tr>\n",
       "      <th>478</th>\n",
       "      <td>4.207</td>\n",
       "      <td>306.443</td>\n",
       "      <td>2.0</td>\n",
       "      <td>1.0</td>\n",
       "      <td>7.0</td>\n",
       "      <td>4.207</td>\n",
       "      <td>55.130001</td>\n",
       "      <td>18.0</td>\n",
       "      <td>2.0</td>\n",
       "      <td>2.0</td>\n",
       "      <td>...</td>\n",
       "      <td>9.862510</td>\n",
       "      <td>69.656441</td>\n",
       "      <td>306.230743</td>\n",
       "      <td>5.889052</td>\n",
       "      <td>1138.0</td>\n",
       "      <td>32.0</td>\n",
       "      <td>108.0</td>\n",
       "      <td>125.0</td>\n",
       "      <td>7.756945</td>\n",
       "      <td>5.222222</td>\n",
       "    </tr>\n",
       "    <tr>\n",
       "      <th>479</th>\n",
       "      <td>-0.608</td>\n",
       "      <td>335.398</td>\n",
       "      <td>5.0</td>\n",
       "      <td>0.0</td>\n",
       "      <td>1.0</td>\n",
       "      <td>-1.736</td>\n",
       "      <td>70.160004</td>\n",
       "      <td>17.0</td>\n",
       "      <td>4.0</td>\n",
       "      <td>3.0</td>\n",
       "      <td>...</td>\n",
       "      <td>10.288852</td>\n",
       "      <td>73.647873</td>\n",
       "      <td>335.184509</td>\n",
       "      <td>6.840500</td>\n",
       "      <td>1280.0</td>\n",
       "      <td>42.0</td>\n",
       "      <td>130.0</td>\n",
       "      <td>157.0</td>\n",
       "      <td>9.201389</td>\n",
       "      <td>5.180555</td>\n",
       "    </tr>\n",
       "    <tr>\n",
       "      <th>480</th>\n",
       "      <td>1.792</td>\n",
       "      <td>349.383</td>\n",
       "      <td>3.0</td>\n",
       "      <td>1.0</td>\n",
       "      <td>3.0</td>\n",
       "      <td>1.792</td>\n",
       "      <td>69.720001</td>\n",
       "      <td>20.0</td>\n",
       "      <td>3.0</td>\n",
       "      <td>3.0</td>\n",
       "      <td>...</td>\n",
       "      <td>10.447235</td>\n",
       "      <td>76.277596</td>\n",
       "      <td>349.142639</td>\n",
       "      <td>7.758725</td>\n",
       "      <td>1469.0</td>\n",
       "      <td>48.0</td>\n",
       "      <td>144.0</td>\n",
       "      <td>177.0</td>\n",
       "      <td>8.722222</td>\n",
       "      <td>5.611111</td>\n",
       "    </tr>\n",
       "    <tr>\n",
       "      <th>481</th>\n",
       "      <td>0.790</td>\n",
       "      <td>341.132</td>\n",
       "      <td>3.0</td>\n",
       "      <td>2.0</td>\n",
       "      <td>2.0</td>\n",
       "      <td>0.423</td>\n",
       "      <td>69.639999</td>\n",
       "      <td>13.0</td>\n",
       "      <td>3.0</td>\n",
       "      <td>2.0</td>\n",
       "      <td>...</td>\n",
       "      <td>9.874728</td>\n",
       "      <td>53.565346</td>\n",
       "      <td>339.985870</td>\n",
       "      <td>11.332863</td>\n",
       "      <td>826.0</td>\n",
       "      <td>31.0</td>\n",
       "      <td>102.0</td>\n",
       "      <td>118.0</td>\n",
       "      <td>8.388889</td>\n",
       "      <td>4.361111</td>\n",
       "    </tr>\n",
       "    <tr>\n",
       "      <th>482</th>\n",
       "      <td>2.782</td>\n",
       "      <td>250.380</td>\n",
       "      <td>2.0</td>\n",
       "      <td>0.0</td>\n",
       "      <td>5.0</td>\n",
       "      <td>0.606</td>\n",
       "      <td>19.620001</td>\n",
       "      <td>15.0</td>\n",
       "      <td>1.0</td>\n",
       "      <td>2.0</td>\n",
       "      <td>...</td>\n",
       "      <td>9.478764</td>\n",
       "      <td>63.502071</td>\n",
       "      <td>250.204514</td>\n",
       "      <td>5.686466</td>\n",
       "      <td>660.0</td>\n",
       "      <td>22.0</td>\n",
       "      <td>88.0</td>\n",
       "      <td>99.0</td>\n",
       "      <td>6.055555</td>\n",
       "      <td>4.055555</td>\n",
       "    </tr>\n",
       "  </tbody>\n",
       "</table>\n",
       "<p>483 rows × 1853 columns</p>\n",
       "</div>"
      ],
      "text/plain": [
       "     AlogP  Molecular_Weight  Num_H_Acceptors  Num_H_Donors  \\\n",
       "0    2.641           361.505              4.0           2.0   \n",
       "1    0.585           370.399              5.0           0.0   \n",
       "2    4.276           347.414              4.0           4.0   \n",
       "3    1.795           345.358              5.0           0.0   \n",
       "4    1.219           353.418              4.0           0.0   \n",
       "..     ...               ...              ...           ...   \n",
       "478  4.207           306.443              2.0           1.0   \n",
       "479 -0.608           335.398              5.0           0.0   \n",
       "480  1.792           349.383              3.0           1.0   \n",
       "481  0.790           341.132              3.0           2.0   \n",
       "482  2.782           250.380              2.0           0.0   \n",
       "\n",
       "     Num_RotatableBonds   LogD  Molecular_PolarSurfaceArea     C    O    N  \\\n",
       "0                   7.0  2.635                   92.760002  18.0  1.0  5.0   \n",
       "1                   3.0  0.585                   68.309998  20.0  5.0  2.0   \n",
       "2                   5.0  4.290                   92.860001  20.0  1.0  5.0   \n",
       "3                   2.0  1.795                   81.209999  18.0  1.0  7.0   \n",
       "4                   2.0  0.169                   61.150002  19.0  2.0  5.0   \n",
       "..                  ...    ...                         ...   ...  ...  ...   \n",
       "478                 7.0  4.207                   55.130001  18.0  2.0  2.0   \n",
       "479                 1.0 -1.736                   70.160004  17.0  4.0  3.0   \n",
       "480                 3.0  1.792                   69.720001  20.0  3.0  3.0   \n",
       "481                 2.0  0.423                   69.639999  13.0  3.0  2.0   \n",
       "482                 5.0  0.606                   19.620001  15.0  1.0  2.0   \n",
       "\n",
       "     ...      SRW10     TSRW10          MW        AMW   WPath  WPol  Zagreb1  \\\n",
       "0    ...   9.935713  72.422577  361.193634   6.946032  1607.0  34.0    126.0   \n",
       "1    ...  10.330420  76.111618  370.152863   7.554140  1853.0  45.0    146.0   \n",
       "2    ...  10.008162  60.614033  347.174622   7.386694  1905.0  37.0    132.0   \n",
       "3    ...  10.288444  77.464783  345.133820   8.417898  1673.0  42.0    146.0   \n",
       "4    ...  10.380312  75.874626  353.185181   7.207861  1656.0  47.0    144.0   \n",
       "..   ...        ...        ...         ...        ...     ...   ...      ...   \n",
       "478  ...   9.862510  69.656441  306.230743   5.889052  1138.0  32.0    108.0   \n",
       "479  ...  10.288852  73.647873  335.184509   6.840500  1280.0  42.0    130.0   \n",
       "480  ...  10.447235  76.277596  349.142639   7.758725  1469.0  48.0    144.0   \n",
       "481  ...   9.874728  53.565346  339.985870  11.332863   826.0  31.0    102.0   \n",
       "482  ...   9.478764  63.502071  250.204514   5.686466   660.0  22.0     88.0   \n",
       "\n",
       "     Zagreb2  mZagreb1  mZagreb2  \n",
       "0      144.0  7.527778  5.638889  \n",
       "1      175.0  7.840278  5.972222  \n",
       "2      150.0  8.388889  5.722222  \n",
       "3      177.0  6.000000  5.583333  \n",
       "4      176.0  8.722222  5.638889  \n",
       "..       ...       ...       ...  \n",
       "478    125.0  7.756945  5.222222  \n",
       "479    157.0  9.201389  5.180555  \n",
       "480    177.0  8.722222  5.611111  \n",
       "481    118.0  8.388889  4.361111  \n",
       "482     99.0  6.055555  4.055555  \n",
       "\n",
       "[483 rows x 1853 columns]"
      ]
     },
     "execution_count": 33,
     "metadata": {},
     "output_type": "execute_result"
    }
   ],
   "source": [
    "df_test = df_total.iloc[dataframe_number:, :].copy()\n",
    "df_test.reset_index(drop = True, inplace = True)\n",
    "df_test.drop(['SMILES','MLM', 'HLM'], axis=1, inplace = True)\n",
    "df_test"
   ]
  },
  {
   "cell_type": "code",
   "execution_count": 34,
   "metadata": {},
   "outputs": [
    {
     "data": {
      "text/html": [
       "<div>\n",
       "<style scoped>\n",
       "    .dataframe tbody tr th:only-of-type {\n",
       "        vertical-align: middle;\n",
       "    }\n",
       "\n",
       "    .dataframe tbody tr th {\n",
       "        vertical-align: top;\n",
       "    }\n",
       "\n",
       "    .dataframe thead th {\n",
       "        text-align: right;\n",
       "    }\n",
       "</style>\n",
       "<table border=\"1\" class=\"dataframe\">\n",
       "  <thead>\n",
       "    <tr style=\"text-align: right;\">\n",
       "      <th></th>\n",
       "      <th>MLM</th>\n",
       "      <th>HLM</th>\n",
       "    </tr>\n",
       "  </thead>\n",
       "  <tbody>\n",
       "    <tr>\n",
       "      <th>0</th>\n",
       "      <td>26.0100</td>\n",
       "      <td>50.680</td>\n",
       "    </tr>\n",
       "    <tr>\n",
       "      <th>1</th>\n",
       "      <td>29.2700</td>\n",
       "      <td>50.590</td>\n",
       "    </tr>\n",
       "    <tr>\n",
       "      <th>2</th>\n",
       "      <td>5.5860</td>\n",
       "      <td>80.892</td>\n",
       "    </tr>\n",
       "    <tr>\n",
       "      <th>3</th>\n",
       "      <td>5.7100</td>\n",
       "      <td>2.000</td>\n",
       "    </tr>\n",
       "    <tr>\n",
       "      <th>4</th>\n",
       "      <td>93.2700</td>\n",
       "      <td>99.990</td>\n",
       "    </tr>\n",
       "    <tr>\n",
       "      <th>...</th>\n",
       "      <td>...</td>\n",
       "      <td>...</td>\n",
       "    </tr>\n",
       "    <tr>\n",
       "      <th>3458</th>\n",
       "      <td>56.0435</td>\n",
       "      <td>66.126</td>\n",
       "    </tr>\n",
       "    <tr>\n",
       "      <th>3459</th>\n",
       "      <td>56.3130</td>\n",
       "      <td>63.732</td>\n",
       "    </tr>\n",
       "    <tr>\n",
       "      <th>3460</th>\n",
       "      <td>70.2150</td>\n",
       "      <td>93.840</td>\n",
       "    </tr>\n",
       "    <tr>\n",
       "      <th>3461</th>\n",
       "      <td>56.6085</td>\n",
       "      <td>49.519</td>\n",
       "    </tr>\n",
       "    <tr>\n",
       "      <th>3462</th>\n",
       "      <td>6.1730</td>\n",
       "      <td>10.867</td>\n",
       "    </tr>\n",
       "  </tbody>\n",
       "</table>\n",
       "<p>3463 rows × 2 columns</p>\n",
       "</div>"
      ],
      "text/plain": [
       "          MLM     HLM\n",
       "0     26.0100  50.680\n",
       "1     29.2700  50.590\n",
       "2      5.5860  80.892\n",
       "3      5.7100   2.000\n",
       "4     93.2700  99.990\n",
       "...       ...     ...\n",
       "3458  56.0435  66.126\n",
       "3459  56.3130  63.732\n",
       "3460  70.2150  93.840\n",
       "3461  56.6085  49.519\n",
       "3462   6.1730  10.867\n",
       "\n",
       "[3463 rows x 2 columns]"
      ]
     },
     "execution_count": 34,
     "metadata": {},
     "output_type": "execute_result"
    }
   ],
   "source": [
    "df_train_target = df_total[['MLM', 'HLM']].copy()\n",
    "df_train_target.dropna(inplace = True)\n",
    "df_train_target.reset_index(drop = True, inplace = True)\n",
    "df_train_target"
   ]
  },
  {
   "cell_type": "code",
   "execution_count": 35,
   "metadata": {},
   "outputs": [
    {
     "data": {
      "image/png": "[encoded data removed]",
      "text/plain": [
       "<Figure size 800x600 with 2 Axes>"
      ]
     },
     "metadata": {},
     "output_type": "display_data"
    }
   ],
   "source": [
    "sns.set_style(\"whitegrid\")\n",
    "plt.figure(figsize=(8, 6))\n",
    "\n",
    "numerical_columns = ['MLM', 'HLM']\n",
    "\n",
    "for i, col in enumerate(numerical_columns, 1):\n",
    "    plt.subplot(1, 2, i)\n",
    "    sns.histplot(df_train_target[col], bins=30, color='skyblue', kde=True)\n",
    "    plt.title(f'Distribution of {col}\\nskew: {round(df_train_target[col].skew(),3)}')\n",
    "    plt.xlabel(col)\n",
    "    plt.ylabel('Frequency')\n",
    "\n",
    "plt.tight_layout()\n",
    "plt.show()"
   ]
  },
  {
   "cell_type": "code",
   "execution_count": 36,
   "metadata": {},
   "outputs": [],
   "source": [
    "# Target 로그 변환 / 변환전후 비교 필요\n",
    "if target_log_on_off == 'on':\n",
    "    df_train_target['MLM'] = np.log1p(df_train_target['MLM'])\n",
    "    df_train_target['HLM'] = np.log1p(df_train_target['HLM'])\n",
    "    df_train_target"
   ]
  },
  {
   "cell_type": "code",
   "execution_count": 37,
   "metadata": {},
   "outputs": [],
   "source": [
    "if target_log_on_off == 'on':\n",
    "\n",
    "    sns.set_style(\"whitegrid\")\n",
    "    plt.figure(figsize=(8, 6))\n",
    "\n",
    "    numerical_columns = ['MLM', 'HLM']\n",
    "\n",
    "    for i, col in enumerate(numerical_columns, 1):\n",
    "        plt.subplot(1, 2, i)\n",
    "        sns.histplot(df_train_target[col], bins=30, color='skyblue', kde=True)\n",
    "        plt.title(f'Distribution of {col}\\nskew: {round(df_train_target[col].skew(),3)}')\n",
    "        plt.xlabel(col)\n",
    "        plt.ylabel('Frequency')\n",
    "\n",
    "    plt.tight_layout()\n",
    "    plt.show()"
   ]
  },
  {
   "cell_type": "markdown",
   "metadata": {},
   "source": [
    "### target MLM"
   ]
  },
  {
   "cell_type": "code",
   "execution_count": 38,
   "metadata": {},
   "outputs": [
    {
     "data": {
      "text/plain": [
       "0       26.0100\n",
       "1       29.2700\n",
       "2        5.5860\n",
       "3        5.7100\n",
       "4       93.2700\n",
       "         ...   \n",
       "3458    56.0435\n",
       "3459    56.3130\n",
       "3460    70.2150\n",
       "3461    56.6085\n",
       "3462     6.1730\n",
       "Name: MLM, Length: 3463, dtype: float64"
      ]
     },
     "execution_count": 38,
     "metadata": {},
     "output_type": "execute_result"
    }
   ],
   "source": [
    "df_train_target_MLM = df_train_target['MLM']\n",
    "df_train_target_MLM"
   ]
  },
  {
   "cell_type": "code",
   "execution_count": 39,
   "metadata": {},
   "outputs": [],
   "source": [
    "from xgboost import XGBRegressor\n",
    "from sklearn.metrics import mean_squared_error\n",
    "import optuna\n",
    "from sklearn.model_selection import train_test_split\n",
    "\n",
    "def RMSE_expm1(y_pred, y_true):\n",
    "    return np.sqrt(np.mean(np.square(np.expm1(y_pred) - np.expm1(y_true))))\n",
    "\n",
    "def objective(trial):\n",
    "\n",
    "    X_train, X_valid, y_train, y_valid = train_test_split(df_train, df_train_target_MLM, test_size = 0.1, random_state=42)\n",
    "\n",
    "    param = {\n",
    "        # gpu acceleration\n",
    "        # 'tree_method': 'gpu_hist',\n",
    "        # 'predictor': 'gpu_predictor',\n",
    "        # 'gpu_id' : 0,\n",
    "        # constant\n",
    "        'eval_metric': 'rmse',\n",
    "        'random_state': 10,\n",
    "        'n_estimators': 3000,\n",
    "        'early_stopping_rounds': 300,\n",
    "        'n_jobs': -1,\n",
    "        # log_uniform\n",
    "        'reg_alpha': trial.suggest_loguniform('reg_alpha', 1e-2, 100.0),\n",
    "        'reg_lambda': trial.suggest_loguniform('reg_lambda', 1e-2, 100.0),\n",
    "        # suggest_discrete_uniform\n",
    "        'colsample_bytree': trial.suggest_discrete_uniform('colsample_bytree', 0.5, 1.0, 0.05),\n",
    "        'subsample': trial.suggest_discrete_uniform('subsample', 0.5, 1.0, 0.05),\n",
    "        'learning_rate': trial.suggest_discrete_uniform('learning_rate', 0.001, 0.003, 0.001),\n",
    "        # suggest_int\n",
    "        'max_depth': trial.suggest_int('max_depth', 3, 10, 1),\n",
    "        'min_child_weight': trial.suggest_int('min_child_weight', 1, 10),\n",
    "    }\n",
    "    model = XGBRegressor(**param)  \n",
    "    model.fit(X_train, y_train, eval_set=[(X_valid,y_valid)], verbose=False)\n",
    "    preds = model.predict(X_valid)\n",
    "    \n",
    "    if target_log_on_off == 'on':\n",
    "        rmse = RMSE_expm1(y_valid, preds)\n",
    "    else:\n",
    "        rmse = mean_squared_error(y_valid, preds, squared=False)\n",
    "    \n",
    "    return rmse"
   ]
  },
  {
   "cell_type": "code",
   "execution_count": 40,
   "metadata": {},
   "outputs": [
    {
     "name": "stderr",
     "output_type": "stream",
     "text": [
      "[I 2023-09-09 13:59:22,937] A new study created in memory with name: no-name-d39e3f1f-6fd2-4d23-a1bf-070054bb0c18\n",
      "  0%|          | 0/50 [00:00<?, ?it/s][I 2023-09-09 14:01:34,658] Trial 0 finished with value: 29.61111183767763 and parameters: {'reg_alpha': 0.600354555500663, 'reg_lambda': 0.23113121474506274, 'colsample_bytree': 0.9, 'subsample': 0.75, 'learning_rate': 0.003, 'max_depth': 9, 'min_child_weight': 1}. Best is trial 0 with value: 29.61111183767763.\n",
      "  2%|▏         | 1/50 [02:11<1:47:34, 131.72s/it][I 2023-09-09 14:06:46,001] Trial 1 finished with value: 30.16292373699265 and parameters: {'reg_alpha': 0.010071278331637581, 'reg_lambda': 0.1094737525874124, 'colsample_bytree': 0.95, 'subsample': 1.0, 'learning_rate': 0.001, 'max_depth': 9, 'min_child_weight': 6}. Best is trial 0 with value: 29.61111183767763.\n",
      "  4%|▍         | 2/50 [07:23<3:09:54, 237.38s/it][I 2023-09-09 14:08:04,776] Trial 2 finished with value: 30.01519253403207 and parameters: {'reg_alpha': 71.49096748513976, 'reg_lambda': 0.05656429770733268, 'colsample_bytree': 0.55, 'subsample': 0.55, 'learning_rate': 0.001, 'max_depth': 3, 'min_child_weight': 9}. Best is trial 0 with value: 29.61111183767763.\n",
      "  6%|▌         | 3/50 [08:41<2:09:13, 164.96s/it][I 2023-09-09 14:10:00,166] Trial 3 finished with value: 29.70636476931319 and parameters: {'reg_alpha': 0.013351959746110555, 'reg_lambda': 0.017837668656362618, 'colsample_bytree': 0.7, 'subsample': 0.75, 'learning_rate': 0.003, 'max_depth': 4, 'min_child_weight': 9}. Best is trial 0 with value: 29.61111183767763.\n",
      "  8%|▊         | 4/50 [10:37<1:51:27, 145.39s/it][I 2023-09-09 14:11:41,300] Trial 4 finished with value: 29.869536734721958 and parameters: {'reg_alpha': 8.201987262211633, 'reg_lambda': 0.1519890597264102, 'colsample_bytree': 0.6, 'subsample': 1.0, 'learning_rate': 0.002, 'max_depth': 3, 'min_child_weight': 3}. Best is trial 0 with value: 29.61111183767763.\n",
      " 10%|█         | 5/50 [12:18<1:37:04, 129.43s/it][I 2023-09-09 14:13:17,546] Trial 5 finished with value: 29.59647003646436 and parameters: {'reg_alpha': 0.017385261999811094, 'reg_lambda': 1.4358433942036675, 'colsample_bytree': 0.7, 'subsample': 0.95, 'learning_rate': 0.003, 'max_depth': 7, 'min_child_weight': 10}. Best is trial 5 with value: 29.59647003646436.\n",
      " 12%|█▏        | 6/50 [13:54<1:26:38, 118.15s/it][I 2023-09-09 14:14:28,097] Trial 6 finished with value: 29.570824830958475 and parameters: {'reg_alpha': 6.91347047100166, 'reg_lambda': 0.030421413538992546, 'colsample_bytree': 0.5, 'subsample': 0.7, 'learning_rate': 0.003, 'max_depth': 8, 'min_child_weight': 5}. Best is trial 6 with value: 29.570824830958475.\n",
      " 14%|█▍        | 7/50 [15:05<1:13:31, 102.59s/it][I 2023-09-09 14:16:37,307] Trial 7 finished with value: 29.487739530031742 and parameters: {'reg_alpha': 0.07657609336412348, 'reg_lambda': 0.020280616620834104, 'colsample_bytree': 0.65, 'subsample': 0.8, 'learning_rate': 0.002, 'max_depth': 8, 'min_child_weight': 6}. Best is trial 7 with value: 29.487739530031742.\n",
      " 16%|█▌        | 8/50 [17:14<1:17:44, 111.06s/it][I 2023-09-09 14:18:05,554] Trial 8 finished with value: 29.803995865463857 and parameters: {'reg_alpha': 0.12749556443381543, 'reg_lambda': 2.6496497392533964, 'colsample_bytree': 0.5, 'subsample': 0.9, 'learning_rate': 0.003, 'max_depth': 3, 'min_child_weight': 9}. Best is trial 7 with value: 29.487739530031742.\n",
      " 18%|█▊        | 9/50 [18:42<1:11:01, 103.93s/it][I 2023-09-09 14:19:51,264] Trial 9 finished with value: 29.6559221527605 and parameters: {'reg_alpha': 0.22240209476539038, 'reg_lambda': 11.985199908370591, 'colsample_bytree': 0.5, 'subsample': 0.65, 'learning_rate': 0.001, 'max_depth': 5, 'min_child_weight': 4}. Best is trial 7 with value: 29.487739530031742.\n",
      " 20%|██        | 10/50 [20:28<1:09:39, 104.48s/it][I 2023-09-09 14:22:42,132] Trial 10 finished with value: 29.709399617167577 and parameters: {'reg_alpha': 0.07941500141461152, 'reg_lambda': 0.011790646770489957, 'colsample_bytree': 0.8, 'subsample': 0.8500000000000001, 'learning_rate': 0.002, 'max_depth': 10, 'min_child_weight': 7}. Best is trial 7 with value: 29.487739530031742.\n",
      " 22%|██▏       | 11/50 [23:19<1:21:07, 124.80s/it][I 2023-09-09 14:24:30,610] Trial 11 finished with value: 29.439623741217595 and parameters: {'reg_alpha': 2.612243906865327, 'reg_lambda': 0.012697874397071188, 'colsample_bytree': 0.65, 'subsample': 0.65, 'learning_rate': 0.002, 'max_depth': 7, 'min_child_weight': 5}. Best is trial 11 with value: 29.439623741217595.\n",
      " 24%|██▍       | 12/50 [25:07<1:15:53, 119.83s/it][I 2023-09-09 14:26:18,226] Trial 12 finished with value: 29.578512087051607 and parameters: {'reg_alpha': 1.3151754160559745, 'reg_lambda': 0.010750238010177908, 'colsample_bytree': 0.65, 'subsample': 0.6, 'learning_rate': 0.002, 'max_depth': 6, 'min_child_weight': 7}. Best is trial 11 with value: 29.439623741217595.\n",
      " 26%|██▌       | 13/50 [26:55<1:11:36, 116.13s/it][I 2023-09-09 14:28:54,016] Trial 13 finished with value: 29.55540620040795 and parameters: {'reg_alpha': 1.6138999458651615, 'reg_lambda': 0.3520478371682566, 'colsample_bytree': 0.8, 'subsample': 0.8500000000000001, 'learning_rate': 0.002, 'max_depth': 7, 'min_child_weight': 3}. Best is trial 11 with value: 29.439623741217595.\n",
      " 28%|██▊       | 14/50 [29:31<1:16:51, 128.11s/it][I 2023-09-09 14:30:18,664] Trial 14 finished with value: 29.627764823650004 and parameters: {'reg_alpha': 0.0682640189368771, 'reg_lambda': 0.03974601284413283, 'colsample_bytree': 0.65, 'subsample': 0.5, 'learning_rate': 0.002, 'max_depth': 6, 'min_child_weight': 6}. Best is trial 11 with value: 29.439623741217595.\n",
      " 30%|███       | 15/50 [30:55<1:07:05, 115.01s/it][I 2023-09-09 14:32:49,563] Trial 15 finished with value: 29.531509326032403 and parameters: {'reg_alpha': 0.36584462899429276, 'reg_lambda': 0.06774326311338527, 'colsample_bytree': 0.75, 'subsample': 0.8, 'learning_rate': 0.002, 'max_depth': 8, 'min_child_weight': 4}. Best is trial 11 with value: 29.439623741217595.\n",
      " 32%|███▏      | 16/50 [33:26<1:11:17, 125.81s/it][I 2023-09-09 14:35:37,060] Trial 16 finished with value: 29.542578165439032 and parameters: {'reg_alpha': 0.04660586666785384, 'reg_lambda': 0.010558344226248016, 'colsample_bytree': 0.6, 'subsample': 0.65, 'learning_rate': 0.001, 'max_depth': 8, 'min_child_weight': 1}. Best is trial 11 with value: 29.439623741217595.\n",
      " 34%|███▍      | 17/50 [36:14<1:16:05, 138.35s/it][I 2023-09-09 14:37:24,501] Trial 17 finished with value: 29.662708061229072 and parameters: {'reg_alpha': 0.265501683012167, 'reg_lambda': 0.5270222060195652, 'colsample_bytree': 0.8500000000000001, 'subsample': 0.7, 'learning_rate': 0.002, 'max_depth': 5, 'min_child_weight': 7}. Best is trial 11 with value: 29.439623741217595.\n",
      " 36%|███▌      | 18/50 [38:01<1:08:49, 129.06s/it][I 2023-09-09 14:40:04,601] Trial 18 finished with value: 29.665100083580107 and parameters: {'reg_alpha': 0.03559651977285788, 'reg_lambda': 0.030239195577069156, 'colsample_bytree': 0.7, 'subsample': 0.8, 'learning_rate': 0.002, 'max_depth': 10, 'min_child_weight': 5}. Best is trial 11 with value: 29.439623741217595.\n",
      " 38%|███▊      | 19/50 [40:41<1:11:29, 138.38s/it][I 2023-09-09 14:42:20,997] Trial 19 finished with value: 30.227443754630027 and parameters: {'reg_alpha': 0.7430641055694628, 'reg_lambda': 73.07957891566258, 'colsample_bytree': 0.6, 'subsample': 0.6, 'learning_rate': 0.001, 'max_depth': 7, 'min_child_weight': 3}. Best is trial 11 with value: 29.439623741217595.\n",
      " 40%|████      | 20/50 [42:58<1:08:53, 137.79s/it][I 2023-09-09 14:44:43,037] Trial 20 finished with value: 29.480408927798678 and parameters: {'reg_alpha': 0.15394473418564084, 'reg_lambda': 0.084559843644663, 'colsample_bytree': 1.0, 'subsample': 0.5, 'learning_rate': 0.002, 'max_depth': 9, 'min_child_weight': 8}. Best is trial 11 with value: 29.439623741217595.\n",
      " 42%|████▏     | 21/50 [45:20<1:07:12, 139.06s/it][I 2023-09-09 14:46:58,511] Trial 21 finished with value: 29.51726984036805 and parameters: {'reg_alpha': 0.1790706168357113, 'reg_lambda': 0.11668315679852012, 'colsample_bytree': 1.0, 'subsample': 0.5, 'learning_rate': 0.002, 'max_depth': 9, 'min_child_weight': 7}. Best is trial 11 with value: 29.439623741217595.\n",
      " 44%|████▍     | 22/50 [47:35<1:04:23, 137.99s/it][I 2023-09-09 14:49:07,288] Trial 22 finished with value: 29.523131063062493 and parameters: {'reg_alpha': 0.10693394058961263, 'reg_lambda': 0.02370691296228061, 'colsample_bytree': 1.0, 'subsample': 0.55, 'learning_rate': 0.002, 'max_depth': 8, 'min_child_weight': 8}. Best is trial 11 with value: 29.439623741217595.\n",
      " 46%|████▌     | 23/50 [49:44<1:00:51, 135.22s/it][I 2023-09-09 14:51:14,456] Trial 23 finished with value: 29.60178608372166 and parameters: {'reg_alpha': 0.03774103939940323, 'reg_lambda': 0.05478806633678554, 'colsample_bytree': 0.75, 'subsample': 0.7, 'learning_rate': 0.002, 'max_depth': 9, 'min_child_weight': 8}. Best is trial 11 with value: 29.439623741217595.\n",
      " 48%|████▊     | 24/50 [51:51<57:32, 132.81s/it]  [I 2023-09-09 14:53:15,931] Trial 24 finished with value: 29.503882029257696 and parameters: {'reg_alpha': 0.40311129039525245, 'reg_lambda': 0.020699138412717644, 'colsample_bytree': 0.65, 'subsample': 0.6, 'learning_rate': 0.002, 'max_depth': 10, 'min_child_weight': 6}. Best is trial 11 with value: 29.439623741217595.\n",
      " 50%|█████     | 25/50 [53:52<53:55, 129.41s/it][I 2023-09-09 14:54:59,060] Trial 25 finished with value: 29.522722153181398 and parameters: {'reg_alpha': 0.13410282969805226, 'reg_lambda': 0.0805323635366628, 'colsample_bytree': 0.8500000000000001, 'subsample': 0.55, 'learning_rate': 0.002, 'max_depth': 7, 'min_child_weight': 5}. Best is trial 11 with value: 29.439623741217595.\n",
      " 52%|█████▏    | 26/50 [55:36<48:36, 121.52s/it][I 2023-09-09 14:56:16,128] Trial 26 finished with value: 29.57991501094906 and parameters: {'reg_alpha': 2.0168900299163117, 'reg_lambda': 0.04199985827623385, 'colsample_bytree': 0.55, 'subsample': 0.75, 'learning_rate': 0.003, 'max_depth': 6, 'min_child_weight': 8}. Best is trial 11 with value: 29.439623741217595.\n",
      " 54%|█████▍    | 27/50 [56:53<41:28, 108.18s/it][I 2023-09-09 14:59:17,167] Trial 27 finished with value: 29.590079652530346 and parameters: {'reg_alpha': 0.02605720761394904, 'reg_lambda': 0.019217517257803355, 'colsample_bytree': 0.75, 'subsample': 0.65, 'learning_rate': 0.001, 'max_depth': 8, 'min_child_weight': 4}. Best is trial 11 with value: 29.439623741217595.\n",
      " 56%|█████▌    | 28/50 [59:54<47:40, 130.04s/it][I 2023-09-09 15:01:16,618] Trial 28 finished with value: 29.52871694823782 and parameters: {'reg_alpha': 0.05635501101713123, 'reg_lambda': 0.17934807714343656, 'colsample_bytree': 0.65, 'subsample': 0.8, 'learning_rate': 0.002, 'max_depth': 9, 'min_child_weight': 10}. Best is trial 11 with value: 29.439623741217595.\n",
      " 58%|█████▊    | 29/50 [1:01:53<44:24, 126.86s/it][I 2023-09-09 15:03:18,316] Trial 29 finished with value: 29.576586077125153 and parameters: {'reg_alpha': 0.5568619305264108, 'reg_lambda': 0.26871191185667986, 'colsample_bytree': 0.9, 'subsample': 0.8500000000000001, 'learning_rate': 0.003, 'max_depth': 8, 'min_child_weight': 2}. Best is trial 11 with value: 29.439623741217595.\n",
      " 60%|██████    | 30/50 [1:03:55<41:46, 125.31s/it][I 2023-09-09 15:05:42,733] Trial 30 finished with value: 29.600027212815966 and parameters: {'reg_alpha': 0.02277110052922403, 'reg_lambda': 0.0715044822023841, 'colsample_bytree': 0.95, 'subsample': 0.5, 'learning_rate': 0.002, 'max_depth': 10, 'min_child_weight': 6}. Best is trial 11 with value: 29.439623741217595.\n",
      " 62%|██████▏   | 31/50 [1:06:19<41:29, 131.05s/it][I 2023-09-09 15:07:44,647] Trial 31 finished with value: 29.486853359719333 and parameters: {'reg_alpha': 0.42269717774868604, 'reg_lambda': 0.021878921850494566, 'colsample_bytree': 0.65, 'subsample': 0.6, 'learning_rate': 0.002, 'max_depth': 10, 'min_child_weight': 6}. Best is trial 11 with value: 29.439623741217595.\n",
      " 64%|██████▍   | 32/50 [1:08:21<38:29, 128.31s/it][I 2023-09-09 15:09:38,284] Trial 32 finished with value: 29.544928044063678 and parameters: {'reg_alpha': 0.22956446509995412, 'reg_lambda': 0.017865242574714914, 'colsample_bytree': 0.7, 'subsample': 0.55, 'learning_rate': 0.002, 'max_depth': 9, 'min_child_weight': 5}. Best is trial 11 with value: 29.439623741217595.\n",
      " 66%|██████▌   | 33/50 [1:10:15<35:06, 123.90s/it][I 2023-09-09 15:11:14,173] Trial 33 finished with value: 29.558337739122916 and parameters: {'reg_alpha': 0.8434981707077054, 'reg_lambda': 0.03832463867703084, 'colsample_bytree': 0.55, 'subsample': 0.6, 'learning_rate': 0.002, 'max_depth': 9, 'min_child_weight': 6}. Best is trial 11 with value: 29.439623741217595.\n",
      " 68%|██████▊   | 34/50 [1:11:51<30:48, 115.50s/it][I 2023-09-09 15:13:14,614] Trial 34 finished with value: 29.472849394047266 and parameters: {'reg_alpha': 0.08664540733482799, 'reg_lambda': 0.10437863996390984, 'colsample_bytree': 0.6, 'subsample': 0.65, 'learning_rate': 0.002, 'max_depth': 10, 'min_child_weight': 7}. Best is trial 11 with value: 29.439623741217595.\n",
      " 70%|███████   | 35/50 [1:13:51<29:14, 116.98s/it][I 2023-09-09 15:16:05,130] Trial 35 finished with value: 29.49839393657662 and parameters: {'reg_alpha': 0.3702645210004647, 'reg_lambda': 0.1253559763268527, 'colsample_bytree': 0.6, 'subsample': 0.65, 'learning_rate': 0.001, 'max_depth': 10, 'min_child_weight': 8}. Best is trial 11 with value: 29.439623741217595.\n",
      " 72%|███████▏  | 36/50 [1:16:42<31:02, 133.04s/it][I 2023-09-09 15:17:34,579] Trial 36 finished with value: 29.636792600338616 and parameters: {'reg_alpha': 0.011834363445761557, 'reg_lambda': 0.088453624030413, 'colsample_bytree': 0.55, 'subsample': 0.55, 'learning_rate': 0.002, 'max_depth': 10, 'min_child_weight': 9}. Best is trial 11 with value: 29.439623741217595.\n",
      " 74%|███████▍  | 37/50 [1:18:11<25:59, 119.96s/it][I 2023-09-09 15:19:13,057] Trial 37 finished with value: 29.5915421656997 and parameters: {'reg_alpha': 2.4247342667157015, 'reg_lambda': 0.1487489550959581, 'colsample_bytree': 0.7, 'subsample': 0.7, 'learning_rate': 0.003, 'max_depth': 10, 'min_child_weight': 7}. Best is trial 11 with value: 29.439623741217595.\n",
      " 76%|███████▌  | 38/50 [1:19:50<22:42, 113.52s/it][I 2023-09-09 15:20:45,649] Trial 38 finished with value: 29.532631786583558 and parameters: {'reg_alpha': 0.5533473617773358, 'reg_lambda': 0.0377248910924518, 'colsample_bytree': 0.6, 'subsample': 0.6, 'learning_rate': 0.002, 'max_depth': 9, 'min_child_weight': 8}. Best is trial 11 with value: 29.439623741217595.\n",
      " 78%|███████▊  | 39/50 [1:21:22<19:39, 107.24s/it][I 2023-09-09 15:23:41,268] Trial 39 finished with value: 29.466727820854672 and parameters: {'reg_alpha': 0.1473264988984253, 'reg_lambda': 0.06876847464111194, 'colsample_bytree': 0.8, 'subsample': 0.5, 'learning_rate': 0.001, 'max_depth': 9, 'min_child_weight': 7}. Best is trial 11 with value: 29.439623741217595.\n",
      " 80%|████████  | 40/50 [1:24:18<21:17, 127.75s/it][I 2023-09-09 15:25:55,143] Trial 40 finished with value: 29.643919307731515 and parameters: {'reg_alpha': 0.10909664325325867, 'reg_lambda': 0.2276440542232806, 'colsample_bytree': 0.95, 'subsample': 0.5, 'learning_rate': 0.001, 'max_depth': 5, 'min_child_weight': 10}. Best is trial 11 with value: 29.439623741217595.\n",
      " 82%|████████▏ | 41/50 [1:26:32<19:26, 129.59s/it][I 2023-09-09 15:29:17,602] Trial 41 finished with value: 29.50455202971976 and parameters: {'reg_alpha': 0.15912558045902653, 'reg_lambda': 0.05709937769119921, 'colsample_bytree': 0.9, 'subsample': 0.55, 'learning_rate': 0.001, 'max_depth': 9, 'min_child_weight': 7}. Best is trial 11 with value: 29.439623741217595.\n",
      " 84%|████████▍ | 42/50 [1:29:54<20:11, 151.45s/it][I 2023-09-09 15:32:26,991] Trial 42 finished with value: 29.51502830156187 and parameters: {'reg_alpha': 0.08648018184392275, 'reg_lambda': 0.0284253595246103, 'colsample_bytree': 0.8, 'subsample': 0.5, 'learning_rate': 0.001, 'max_depth': 10, 'min_child_weight': 6}. Best is trial 11 with value: 29.439623741217595.\n",
      " 86%|████████▌ | 43/50 [1:33:04<18:59, 162.83s/it][I 2023-09-09 15:33:46,170] Trial 43 finished with value: 29.574017396516243 and parameters: {'reg_alpha': 0.19114451205628277, 'reg_lambda': 0.014104512582058217, 'colsample_bytree': 0.55, 'subsample': 0.65, 'learning_rate': 0.003, 'max_depth': 9, 'min_child_weight': 9}. Best is trial 11 with value: 29.439623741217595.\n",
      " 88%|████████▊ | 44/50 [1:34:23<13:46, 137.74s/it][I 2023-09-09 15:35:49,636] Trial 44 finished with value: 29.500576675270448 and parameters: {'reg_alpha': 0.28253403256011755, 'reg_lambda': 0.09917621922265618, 'colsample_bytree': 0.65, 'subsample': 0.6, 'learning_rate': 0.002, 'max_depth': 10, 'min_child_weight': 5}. Best is trial 11 with value: 29.439623741217595.\n",
      " 90%|█████████ | 45/50 [1:36:26<11:07, 133.46s/it][I 2023-09-09 15:37:30,342] Trial 45 finished with value: 29.836846985115756 and parameters: {'reg_alpha': 3.6074469964943376, 'reg_lambda': 0.01607769551927191, 'colsample_bytree': 0.7, 'subsample': 0.55, 'learning_rate': 0.001, 'max_depth': 4, 'min_child_weight': 7}. Best is trial 11 with value: 29.439623741217595.\n",
      " 92%|█████████▏| 46/50 [1:38:07<08:14, 123.63s/it][I 2023-09-09 15:40:05,052] Trial 46 finished with value: 29.5832962040419 and parameters: {'reg_alpha': 1.0341079155131643, 'reg_lambda': 0.052844786466847954, 'colsample_bytree': 0.8500000000000001, 'subsample': 0.7, 'learning_rate': 0.002, 'max_depth': 10, 'min_child_weight': 4}. Best is trial 11 with value: 29.439623741217595.\n",
      " 94%|█████████▍| 47/50 [1:40:42<06:38, 132.95s/it][I 2023-09-09 15:41:21,211] Trial 47 finished with value: 29.63973008612636 and parameters: {'reg_alpha': 0.14081696406162855, 'reg_lambda': 0.010486590914371508, 'colsample_bytree': 0.75, 'subsample': 0.5, 'learning_rate': 0.003, 'max_depth': 9, 'min_child_weight': 8}. Best is trial 11 with value: 29.439623741217595.\n",
      " 96%|█████████▌| 48/50 [1:41:58<03:51, 115.92s/it][I 2023-09-09 15:43:39,900] Trial 48 finished with value: 29.436344334341026 and parameters: {'reg_alpha': 0.0784643903193065, 'reg_lambda': 0.026905929719959937, 'colsample_bytree': 0.9, 'subsample': 0.65, 'learning_rate': 0.002, 'max_depth': 8, 'min_child_weight': 7}. Best is trial 48 with value: 29.436344334341026.\n",
      " 98%|█████████▊| 49/50 [1:44:16<02:02, 122.75s/it][I 2023-09-09 15:46:19,939] Trial 49 finished with value: 29.516122955594145 and parameters: {'reg_alpha': 0.06602583704509386, 'reg_lambda': 0.028870386824060044, 'colsample_bytree': 0.95, 'subsample': 0.75, 'learning_rate': 0.002, 'max_depth': 8, 'min_child_weight': 7}. Best is trial 48 with value: 29.436344334341026.\n",
      "100%|██████████| 50/50 [1:46:57<00:00, 128.34s/it]"
     ]
    },
    {
     "name": "stdout",
     "output_type": "stream",
     "text": [
      "Number of finished trials: 50\n",
      "Best trial: {'reg_alpha': 0.0784643903193065, 'reg_lambda': 0.026905929719959937, 'colsample_bytree': 0.9, 'subsample': 0.65, 'learning_rate': 0.002, 'max_depth': 8, 'min_child_weight': 7}\n"
     ]
    },
    {
     "name": "stderr",
     "output_type": "stream",
     "text": [
      "\n"
     ]
    }
   ],
   "source": [
    "study = optuna.create_study(direction='minimize', study_name=None)\n",
    "with tqdm(total=num_of_study) as pbar:  \n",
    "    def callback(study, trial):\n",
    "        pbar.update(1)\n",
    "    \n",
    "    study.optimize(objective, n_trials=num_of_study, callbacks=[callback])\n",
    "\n",
    "print('Number of finished trials:', len(study.trials))\n",
    "print('Best trial:', study.best_trial.params)"
   ]
  },
  {
   "cell_type": "code",
   "execution_count": 41,
   "metadata": {},
   "outputs": [
    {
     "data": {
      "text/html": [
       "<div>\n",
       "<style scoped>\n",
       "    .dataframe tbody tr th:only-of-type {\n",
       "        vertical-align: middle;\n",
       "    }\n",
       "\n",
       "    .dataframe tbody tr th {\n",
       "        vertical-align: top;\n",
       "    }\n",
       "\n",
       "    .dataframe thead th {\n",
       "        text-align: right;\n",
       "    }\n",
       "</style>\n",
       "<table border=\"1\" class=\"dataframe\">\n",
       "  <thead>\n",
       "    <tr style=\"text-align: right;\">\n",
       "      <th></th>\n",
       "      <th>number</th>\n",
       "      <th>value</th>\n",
       "      <th>datetime_start</th>\n",
       "      <th>datetime_complete</th>\n",
       "      <th>duration</th>\n",
       "      <th>params_colsample_bytree</th>\n",
       "      <th>params_learning_rate</th>\n",
       "      <th>params_max_depth</th>\n",
       "      <th>params_min_child_weight</th>\n",
       "      <th>params_reg_alpha</th>\n",
       "      <th>params_reg_lambda</th>\n",
       "      <th>params_subsample</th>\n",
       "      <th>state</th>\n",
       "    </tr>\n",
       "  </thead>\n",
       "  <tbody>\n",
       "    <tr>\n",
       "      <th>0</th>\n",
       "      <td>0</td>\n",
       "      <td>29.611112</td>\n",
       "      <td>2023-09-09 13:59:22.939023</td>\n",
       "      <td>2023-09-09 14:01:34.658465</td>\n",
       "      <td>0 days 00:02:11.719442</td>\n",
       "      <td>0.90</td>\n",
       "      <td>0.003</td>\n",
       "      <td>9</td>\n",
       "      <td>1</td>\n",
       "      <td>0.600355</td>\n",
       "      <td>0.231131</td>\n",
       "      <td>0.75</td>\n",
       "      <td>COMPLETE</td>\n",
       "    </tr>\n",
       "    <tr>\n",
       "      <th>1</th>\n",
       "      <td>1</td>\n",
       "      <td>30.162924</td>\n",
       "      <td>2023-09-09 14:01:34.659465</td>\n",
       "      <td>2023-09-09 14:06:46.000444</td>\n",
       "      <td>0 days 00:05:11.340979</td>\n",
       "      <td>0.95</td>\n",
       "      <td>0.001</td>\n",
       "      <td>9</td>\n",
       "      <td>6</td>\n",
       "      <td>0.010071</td>\n",
       "      <td>0.109474</td>\n",
       "      <td>1.00</td>\n",
       "      <td>COMPLETE</td>\n",
       "    </tr>\n",
       "    <tr>\n",
       "      <th>2</th>\n",
       "      <td>2</td>\n",
       "      <td>30.015193</td>\n",
       "      <td>2023-09-09 14:06:46.002445</td>\n",
       "      <td>2023-09-09 14:08:04.775516</td>\n",
       "      <td>0 days 00:01:18.773071</td>\n",
       "      <td>0.55</td>\n",
       "      <td>0.001</td>\n",
       "      <td>3</td>\n",
       "      <td>9</td>\n",
       "      <td>71.490967</td>\n",
       "      <td>0.056564</td>\n",
       "      <td>0.55</td>\n",
       "      <td>COMPLETE</td>\n",
       "    </tr>\n",
       "    <tr>\n",
       "      <th>3</th>\n",
       "      <td>3</td>\n",
       "      <td>29.706365</td>\n",
       "      <td>2023-09-09 14:08:04.777516</td>\n",
       "      <td>2023-09-09 14:10:00.165487</td>\n",
       "      <td>0 days 00:01:55.387971</td>\n",
       "      <td>0.70</td>\n",
       "      <td>0.003</td>\n",
       "      <td>4</td>\n",
       "      <td>9</td>\n",
       "      <td>0.013352</td>\n",
       "      <td>0.017838</td>\n",
       "      <td>0.75</td>\n",
       "      <td>COMPLETE</td>\n",
       "    </tr>\n",
       "    <tr>\n",
       "      <th>4</th>\n",
       "      <td>4</td>\n",
       "      <td>29.869537</td>\n",
       "      <td>2023-09-09 14:10:00.167487</td>\n",
       "      <td>2023-09-09 14:11:41.299959</td>\n",
       "      <td>0 days 00:01:41.132472</td>\n",
       "      <td>0.60</td>\n",
       "      <td>0.002</td>\n",
       "      <td>3</td>\n",
       "      <td>3</td>\n",
       "      <td>8.201987</td>\n",
       "      <td>0.151989</td>\n",
       "      <td>1.00</td>\n",
       "      <td>COMPLETE</td>\n",
       "    </tr>\n",
       "  </tbody>\n",
       "</table>\n",
       "</div>"
      ],
      "text/plain": [
       "   number      value             datetime_start          datetime_complete  \\\n",
       "0       0  29.611112 2023-09-09 13:59:22.939023 2023-09-09 14:01:34.658465   \n",
       "1       1  30.162924 2023-09-09 14:01:34.659465 2023-09-09 14:06:46.000444   \n",
       "2       2  30.015193 2023-09-09 14:06:46.002445 2023-09-09 14:08:04.775516   \n",
       "3       3  29.706365 2023-09-09 14:08:04.777516 2023-09-09 14:10:00.165487   \n",
       "4       4  29.869537 2023-09-09 14:10:00.167487 2023-09-09 14:11:41.299959   \n",
       "\n",
       "                duration  params_colsample_bytree  params_learning_rate  \\\n",
       "0 0 days 00:02:11.719442                     0.90                 0.003   \n",
       "1 0 days 00:05:11.340979                     0.95                 0.001   \n",
       "2 0 days 00:01:18.773071                     0.55                 0.001   \n",
       "3 0 days 00:01:55.387971                     0.70                 0.003   \n",
       "4 0 days 00:01:41.132472                     0.60                 0.002   \n",
       "\n",
       "   params_max_depth  params_min_child_weight  params_reg_alpha  \\\n",
       "0                 9                        1          0.600355   \n",
       "1                 9                        6          0.010071   \n",
       "2                 3                        9         71.490967   \n",
       "3                 4                        9          0.013352   \n",
       "4                 3                        3          8.201987   \n",
       "\n",
       "   params_reg_lambda  params_subsample     state  \n",
       "0           0.231131              0.75  COMPLETE  \n",
       "1           0.109474              1.00  COMPLETE  \n",
       "2           0.056564              0.55  COMPLETE  \n",
       "3           0.017838              0.75  COMPLETE  \n",
       "4           0.151989              1.00  COMPLETE  "
      ]
     },
     "execution_count": 41,
     "metadata": {},
     "output_type": "execute_result"
    }
   ],
   "source": [
    "study.trials_dataframe().head()"
   ]
  },
  {
   "cell_type": "code",
   "execution_count": 42,
   "metadata": {},
   "outputs": [
    {
     "data": {
      "image/png": "[encoded data removed]",
      "text/plain": [
       "<Figure size 1200x800 with 7 Axes>"
      ]
     },
     "metadata": {},
     "output_type": "display_data"
    }
   ],
   "source": [
    "df_study = study.trials_dataframe()\n",
    "\n",
    "study_cols = ['params_colsample_bytree', 'params_learning_rate', 'params_max_depth',\n",
    "       'params_min_child_weight', 'params_reg_alpha', 'params_reg_lambda',\n",
    "       'params_subsample']\n",
    "\n",
    "sns.set_style(\"whitegrid\")\n",
    "plt.figure(figsize=(12, 8))\n",
    "\n",
    "for i, col in enumerate(study_cols, 1):\n",
    "    plt.subplot(3, 3, i)\n",
    "    sns.histplot(df_study[col], bins=30, color='skyblue', kde=True)\n",
    "    plt.xlabel(col)\n",
    "    plt.ylabel('Frequency')\n",
    "\n",
    "plt.tight_layout()\n",
    "plt.show()"
   ]
  },
  {
   "cell_type": "code",
   "execution_count": 43,
   "metadata": {},
   "outputs": [
    {
     "data": {
      "application/vnd.plotly.v1+json": {
       "config": {
        "plotlyServerURL": "https://plot.ly"
       },
       "data": [
        {
         "mode": "markers",
         "name": "Objective Value",
         "type": "scatter",
         "x": [
          0,
          1,
          2,
          3,
          4,
          5,
          6,
          7,
          8,
          9,
          10,
          11,
          12,
          13,
          14,
          15,
          16,
          17,
          18,
          19,
          20,
          21,
          22,
          23,
          24,
          25,
          26,
          27,
          28,
          29,
          30,
          31,
          32,
          33,
          34,
          35,
          36,
          37,
          38,
          39,
          40,
          41,
          42,
          43,
          44,
          45,
          46,
          47,
          48,
          49
         ],
         "y": [
          29.61111183767763,
          30.16292373699265,
          30.01519253403207,
          29.70636476931319,
          29.869536734721958,
          29.59647003646436,
          29.570824830958475,
          29.487739530031742,
          29.803995865463857,
          29.6559221527605,
          29.709399617167577,
          29.439623741217595,
          29.578512087051607,
          29.55540620040795,
          29.627764823650004,
          29.531509326032403,
          29.542578165439032,
          29.662708061229072,
          29.665100083580107,
          30.227443754630027,
          29.480408927798678,
          29.51726984036805,
          29.523131063062493,
          29.60178608372166,
          29.503882029257696,
          29.522722153181398,
          29.57991501094906,
          29.590079652530346,
          29.52871694823782,
          29.576586077125153,
          29.600027212815966,
          29.486853359719333,
          29.544928044063678,
          29.558337739122916,
          29.472849394047266,
          29.49839393657662,
          29.636792600338616,
          29.5915421656997,
          29.532631786583558,
          29.466727820854672,
          29.643919307731515,
          29.50455202971976,
          29.51502830156187,
          29.574017396516243,
          29.500576675270448,
          29.836846985115756,
          29.5832962040419,
          29.63973008612636,
          29.436344334341026,
          29.516122955594145
         ]
        },
        {
         "mode": "lines",
         "name": "Best Value",
         "type": "scatter",
         "x": [
          0,
          1,
          2,
          3,
          4,
          5,
          6,
          7,
          8,
          9,
          10,
          11,
          12,
          13,
          14,
          15,
          16,
          17,
          18,
          19,
          20,
          21,
          22,
          23,
          24,
          25,
          26,
          27,
          28,
          29,
          30,
          31,
          32,
          33,
          34,
          35,
          36,
          37,
          38,
          39,
          40,
          41,
          42,
          43,
          44,
          45,
          46,
          47,
          48,
          49
         ],
         "y": [
          29.61111183767763,
          29.61111183767763,
          29.61111183767763,
          29.61111183767763,
          29.61111183767763,
          29.59647003646436,
          29.570824830958475,
          29.487739530031742,
          29.487739530031742,
          29.487739530031742,
          29.487739530031742,
          29.439623741217595,
          29.439623741217595,
          29.439623741217595,
          29.439623741217595,
          29.439623741217595,
          29.439623741217595,
          29.439623741217595,
          29.439623741217595,
          29.439623741217595,
          29.439623741217595,
          29.439623741217595,
          29.439623741217595,
          29.439623741217595,
          29.439623741217595,
          29.439623741217595,
          29.439623741217595,
          29.439623741217595,
          29.439623741217595,
          29.439623741217595,
          29.439623741217595,
          29.439623741217595,
          29.439623741217595,
          29.439623741217595,
          29.439623741217595,
          29.439623741217595,
          29.439623741217595,
          29.439623741217595,
          29.439623741217595,
          29.439623741217595,
          29.439623741217595,
          29.439623741217595,
          29.439623741217595,
          29.439623741217595,
          29.439623741217595,
          29.439623741217595,
          29.439623741217595,
          29.439623741217595,
          29.436344334341026,
          29.436344334341026
         ]
        },
        {
         "marker": {
          "color": "#cccccc"
         },
         "mode": "markers",
         "name": "Infeasible Trial",
         "showlegend": false,
         "type": "scatter",
         "x": [],
         "y": []
        }
       ],
       "layout": {
        "template": {
         "data": {
          "bar": [
           {
            "error_x": {
             "color": "#2a3f5f"
            },
            "error_y": {
             "color": "#2a3f5f"
            },
            "marker": {
             "line": {
              "color": "#E5ECF6",
              "width": 0.5
             },
             "pattern": {
              "fillmode": "overlay",
              "size": 10,
              "solidity": 0.2
             }
            },
            "type": "bar"
           }
          ],
          "barpolar": [
           {
            "marker": {
             "line": {
              "color": "#E5ECF6",
              "width": 0.5
             },
             "pattern": {
              "fillmode": "overlay",
              "size": 10,
              "solidity": 0.2
             }
            },
            "type": "barpolar"
           }
          ],
          "carpet": [
           {
            "aaxis": {
             "endlinecolor": "#2a3f5f",
             "gridcolor": "white",
             "linecolor": "white",
             "minorgridcolor": "white",
             "startlinecolor": "#2a3f5f"
            },
            "baxis": {
             "endlinecolor": "#2a3f5f",
             "gridcolor": "white",
             "linecolor": "white",
             "minorgridcolor": "white",
             "startlinecolor": "#2a3f5f"
            },
            "type": "carpet"
           }
          ],
          "choropleth": [
           {
            "colorbar": {
             "outlinewidth": 0,
             "ticks": ""
            },
            "type": "choropleth"
           }
          ],
          "contour": [
           {
            "colorbar": {
             "outlinewidth": 0,
             "ticks": ""
            },
            "colorscale": [
             [
              0,
              "#0d0887"
             ],
             [
              0.1111111111111111,
              "#46039f"
             ],
             [
              0.2222222222222222,
              "#7201a8"
             ],
             [
              0.3333333333333333,
              "#9c179e"
             ],
             [
              0.4444444444444444,
              "#bd3786"
             ],
             [
              0.5555555555555556,
              "#d8576b"
             ],
             [
              0.6666666666666666,
              "#ed7953"
             ],
             [
              0.7777777777777778,
              "#fb9f3a"
             ],
             [
              0.8888888888888888,
              "#fdca26"
             ],
             [
              1,
              "#f0f921"
             ]
            ],
            "type": "contour"
           }
          ],
          "contourcarpet": [
           {
            "colorbar": {
             "outlinewidth": 0,
             "ticks": ""
            },
            "type": "contourcarpet"
           }
          ],
          "heatmap": [
           {
            "colorbar": {
             "outlinewidth": 0,
             "ticks": ""
            },
            "colorscale": [
             [
              0,
              "#0d0887"
             ],
             [
              0.1111111111111111,
              "#46039f"
             ],
             [
              0.2222222222222222,
              "#7201a8"
             ],
             [
              0.3333333333333333,
              "#9c179e"
             ],
             [
              0.4444444444444444,
              "#bd3786"
             ],
             [
              0.5555555555555556,
              "#d8576b"
             ],
             [
              0.6666666666666666,
              "#ed7953"
             ],
             [
              0.7777777777777778,
              "#fb9f3a"
             ],
             [
              0.8888888888888888,
              "#fdca26"
             ],
             [
              1,
              "#f0f921"
             ]
            ],
            "type": "heatmap"
           }
          ],
          "heatmapgl": [
           {
            "colorbar": {
             "outlinewidth": 0,
             "ticks": ""
            },
            "colorscale": [
             [
              0,
              "#0d0887"
             ],
             [
              0.1111111111111111,
              "#46039f"
             ],
             [
              0.2222222222222222,
              "#7201a8"
             ],
             [
              0.3333333333333333,
              "#9c179e"
             ],
             [
              0.4444444444444444,
              "#bd3786"
             ],
             [
              0.5555555555555556,
              "#d8576b"
             ],
             [
              0.6666666666666666,
              "#ed7953"
             ],
             [
              0.7777777777777778,
              "#fb9f3a"
             ],
             [
              0.8888888888888888,
              "#fdca26"
             ],
             [
              1,
              "#f0f921"
             ]
            ],
            "type": "heatmapgl"
           }
          ],
          "histogram": [
           {
            "marker": {
             "pattern": {
              "fillmode": "overlay",
              "size": 10,
              "solidity": 0.2
             }
            },
            "type": "histogram"
           }
          ],
          "histogram2d": [
           {
            "colorbar": {
             "outlinewidth": 0,
             "ticks": ""
            },
            "colorscale": [
             [
              0,
              "#0d0887"
             ],
             [
              0.1111111111111111,
              "#46039f"
             ],
             [
              0.2222222222222222,
              "#7201a8"
             ],
             [
              0.3333333333333333,
              "#9c179e"
             ],
             [
              0.4444444444444444,
              "#bd3786"
             ],
             [
              0.5555555555555556,
              "#d8576b"
             ],
             [
              0.6666666666666666,
              "#ed7953"
             ],
             [
              0.7777777777777778,
              "#fb9f3a"
             ],
             [
              0.8888888888888888,
              "#fdca26"
             ],
             [
              1,
              "#f0f921"
             ]
            ],
            "type": "histogram2d"
           }
          ],
          "histogram2dcontour": [
           {
            "colorbar": {
             "outlinewidth": 0,
             "ticks": ""
            },
            "colorscale": [
             [
              0,
              "#0d0887"
             ],
             [
              0.1111111111111111,
              "#46039f"
             ],
             [
              0.2222222222222222,
              "#7201a8"
             ],
             [
              0.3333333333333333,
              "#9c179e"
             ],
             [
              0.4444444444444444,
              "#bd3786"
             ],
             [
              0.5555555555555556,
              "#d8576b"
             ],
             [
              0.6666666666666666,
              "#ed7953"
             ],
             [
              0.7777777777777778,
              "#fb9f3a"
             ],
             [
              0.8888888888888888,
              "#fdca26"
             ],
             [
              1,
              "#f0f921"
             ]
            ],
            "type": "histogram2dcontour"
           }
          ],
          "mesh3d": [
           {
            "colorbar": {
             "outlinewidth": 0,
             "ticks": ""
            },
            "type": "mesh3d"
           }
          ],
          "parcoords": [
           {
            "line": {
             "colorbar": {
              "outlinewidth": 0,
              "ticks": ""
             }
            },
            "type": "parcoords"
           }
          ],
          "pie": [
           {
            "automargin": true,
            "type": "pie"
           }
          ],
          "scatter": [
           {
            "fillpattern": {
             "fillmode": "overlay",
             "size": 10,
             "solidity": 0.2
            },
            "type": "scatter"
           }
          ],
          "scatter3d": [
           {
            "line": {
             "colorbar": {
              "outlinewidth": 0,
              "ticks": ""
             }
            },
            "marker": {
             "colorbar": {
              "outlinewidth": 0,
              "ticks": ""
             }
            },
            "type": "scatter3d"
           }
          ],
          "scattercarpet": [
           {
            "marker": {
             "colorbar": {
              "outlinewidth": 0,
              "ticks": ""
             }
            },
            "type": "scattercarpet"
           }
          ],
          "scattergeo": [
           {
            "marker": {
             "colorbar": {
              "outlinewidth": 0,
              "ticks": ""
             }
            },
            "type": "scattergeo"
           }
          ],
          "scattergl": [
           {
            "marker": {
             "colorbar": {
              "outlinewidth": 0,
              "ticks": ""
             }
            },
            "type": "scattergl"
           }
          ],
          "scattermapbox": [
           {
            "marker": {
             "colorbar": {
              "outlinewidth": 0,
              "ticks": ""
             }
            },
            "type": "scattermapbox"
           }
          ],
          "scatterpolar": [
           {
            "marker": {
             "colorbar": {
              "outlinewidth": 0,
              "ticks": ""
             }
            },
            "type": "scatterpolar"
           }
          ],
          "scatterpolargl": [
           {
            "marker": {
             "colorbar": {
              "outlinewidth": 0,
              "ticks": ""
             }
            },
            "type": "scatterpolargl"
           }
          ],
          "scatterternary": [
           {
            "marker": {
             "colorbar": {
              "outlinewidth": 0,
              "ticks": ""
             }
            },
            "type": "scatterternary"
           }
          ],
          "surface": [
           {
            "colorbar": {
             "outlinewidth": 0,
             "ticks": ""
            },
            "colorscale": [
             [
              0,
              "#0d0887"
             ],
             [
              0.1111111111111111,
              "#46039f"
             ],
             [
              0.2222222222222222,
              "#7201a8"
             ],
             [
              0.3333333333333333,
              "#9c179e"
             ],
             [
              0.4444444444444444,
              "#bd3786"
             ],
             [
              0.5555555555555556,
              "#d8576b"
             ],
             [
              0.6666666666666666,
              "#ed7953"
             ],
             [
              0.7777777777777778,
              "#fb9f3a"
             ],
             [
              0.8888888888888888,
              "#fdca26"
             ],
             [
              1,
              "#f0f921"
             ]
            ],
            "type": "surface"
           }
          ],
          "table": [
           {
            "cells": {
             "fill": {
              "color": "#EBF0F8"
             },
             "line": {
              "color": "white"
             }
            },
            "header": {
             "fill": {
              "color": "#C8D4E3"
             },
             "line": {
              "color": "white"
             }
            },
            "type": "table"
           }
          ]
         },
         "layout": {
          "annotationdefaults": {
           "arrowcolor": "#2a3f5f",
           "arrowhead": 0,
           "arrowwidth": 1
          },
          "autotypenumbers": "strict",
          "coloraxis": {
           "colorbar": {
            "outlinewidth": 0,
            "ticks": ""
           }
          },
          "colorscale": {
           "diverging": [
            [
             0,
             "#8e0152"
            ],
            [
             0.1,
             "#c51b7d"
            ],
            [
             0.2,
             "#de77ae"
            ],
            [
             0.3,
             "#f1b6da"
            ],
            [
             0.4,
             "#fde0ef"
            ],
            [
             0.5,
             "#f7f7f7"
            ],
            [
             0.6,
             "#e6f5d0"
            ],
            [
             0.7,
             "#b8e186"
            ],
            [
             0.8,
             "#7fbc41"
            ],
            [
             0.9,
             "#4d9221"
            ],
            [
             1,
             "#276419"
            ]
           ],
           "sequential": [
            [
             0,
             "#0d0887"
            ],
            [
             0.1111111111111111,
             "#46039f"
            ],
            [
             0.2222222222222222,
             "#7201a8"
            ],
            [
             0.3333333333333333,
             "#9c179e"
            ],
            [
             0.4444444444444444,
             "#bd3786"
            ],
            [
             0.5555555555555556,
             "#d8576b"
            ],
            [
             0.6666666666666666,
             "#ed7953"
            ],
            [
             0.7777777777777778,
             "#fb9f3a"
            ],
            [
             0.8888888888888888,
             "#fdca26"
            ],
            [
             1,
             "#f0f921"
            ]
           ],
           "sequentialminus": [
            [
             0,
             "#0d0887"
            ],
            [
             0.1111111111111111,
             "#46039f"
            ],
            [
             0.2222222222222222,
             "#7201a8"
            ],
            [
             0.3333333333333333,
             "#9c179e"
            ],
            [
             0.4444444444444444,
             "#bd3786"
            ],
            [
             0.5555555555555556,
             "#d8576b"
            ],
            [
             0.6666666666666666,
             "#ed7953"
            ],
            [
             0.7777777777777778,
             "#fb9f3a"
            ],
            [
             0.8888888888888888,
             "#fdca26"
            ],
            [
             1,
             "#f0f921"
            ]
           ]
          },
          "colorway": [
           "#636efa",
           "#EF553B",
           "#00cc96",
           "#ab63fa",
           "#FFA15A",
           "#19d3f3",
           "#FF6692",
           "#B6E880",
           "#FF97FF",
           "#FECB52"
          ],
          "font": {
           "color": "#2a3f5f"
          },
          "geo": {
           "bgcolor": "white",
           "lakecolor": "white",
           "landcolor": "#E5ECF6",
           "showlakes": true,
           "showland": true,
           "subunitcolor": "white"
          },
          "hoverlabel": {
           "align": "left"
          },
          "hovermode": "closest",
          "mapbox": {
           "style": "light"
          },
          "paper_bgcolor": "white",
          "plot_bgcolor": "#E5ECF6",
          "polar": {
           "angularaxis": {
            "gridcolor": "white",
            "linecolor": "white",
            "ticks": ""
           },
           "bgcolor": "#E5ECF6",
           "radialaxis": {
            "gridcolor": "white",
            "linecolor": "white",
            "ticks": ""
           }
          },
          "scene": {
           "xaxis": {
            "backgroundcolor": "#E5ECF6",
            "gridcolor": "white",
            "gridwidth": 2,
            "linecolor": "white",
            "showbackground": true,
            "ticks": "",
            "zerolinecolor": "white"
           },
           "yaxis": {
            "backgroundcolor": "#E5ECF6",
            "gridcolor": "white",
            "gridwidth": 2,
            "linecolor": "white",
            "showbackground": true,
            "ticks": "",
            "zerolinecolor": "white"
           },
           "zaxis": {
            "backgroundcolor": "#E5ECF6",
            "gridcolor": "white",
            "gridwidth": 2,
            "linecolor": "white",
            "showbackground": true,
            "ticks": "",
            "zerolinecolor": "white"
           }
          },
          "shapedefaults": {
           "line": {
            "color": "#2a3f5f"
           }
          },
          "ternary": {
           "aaxis": {
            "gridcolor": "white",
            "linecolor": "white",
            "ticks": ""
           },
           "baxis": {
            "gridcolor": "white",
            "linecolor": "white",
            "ticks": ""
           },
           "bgcolor": "#E5ECF6",
           "caxis": {
            "gridcolor": "white",
            "linecolor": "white",
            "ticks": ""
           }
          },
          "title": {
           "x": 0.05
          },
          "xaxis": {
           "automargin": true,
           "gridcolor": "white",
           "linecolor": "white",
           "ticks": "",
           "title": {
            "standoff": 15
           },
           "zerolinecolor": "white",
           "zerolinewidth": 2
          },
          "yaxis": {
           "automargin": true,
           "gridcolor": "white",
           "linecolor": "white",
           "ticks": "",
           "title": {
            "standoff": 15
           },
           "zerolinecolor": "white",
           "zerolinewidth": 2
          }
         }
        },
        "title": {
         "text": "Optimization History Plot"
        },
        "xaxis": {
         "title": {
          "text": "Trial"
         }
        },
        "yaxis": {
         "title": {
          "text": "Objective Value"
         }
        }
       }
      }
     },
     "metadata": {},
     "output_type": "display_data"
    }
   ],
   "source": [
    "optuna.visualization.plot_optimization_history(study)"
   ]
  },
  {
   "cell_type": "code",
   "execution_count": 44,
   "metadata": {},
   "outputs": [
    {
     "data": {
      "application/vnd.plotly.v1+json": {
       "config": {
        "plotlyServerURL": "https://plot.ly"
       },
       "data": [
        {
         "cliponaxis": false,
         "hovertemplate": [
          "min_child_weight (IntDistribution): 0.0033613334172932934<extra></extra>",
          "colsample_bytree (FloatDistribution): 0.015543113794778704<extra></extra>",
          "learning_rate (FloatDistribution): 0.025254168653062164<extra></extra>",
          "reg_alpha (FloatDistribution): 0.041035366715254686<extra></extra>",
          "subsample (FloatDistribution): 0.0906739757504567<extra></extra>",
          "max_depth (IntDistribution): 0.2677805047379374<extra></extra>",
          "reg_lambda (FloatDistribution): 0.5563515369312171<extra></extra>"
         ],
         "marker": {
          "color": "rgb(66,146,198)"
         },
         "orientation": "h",
         "text": [
          "<0.01",
          "0.02",
          "0.03",
          "0.04",
          "0.09",
          "0.27",
          "0.56"
         ],
         "textposition": "outside",
         "type": "bar",
         "x": [
          0.0033613334172932934,
          0.015543113794778704,
          0.025254168653062164,
          0.041035366715254686,
          0.0906739757504567,
          0.2677805047379374,
          0.5563515369312171
         ],
         "y": [
          "min_child_weight",
          "colsample_bytree",
          "learning_rate",
          "reg_alpha",
          "subsample",
          "max_depth",
          "reg_lambda"
         ]
        }
       ],
       "layout": {
        "showlegend": false,
        "template": {
         "data": {
          "bar": [
           {
            "error_x": {
             "color": "#2a3f5f"
            },
            "error_y": {
             "color": "#2a3f5f"
            },
            "marker": {
             "line": {
              "color": "#E5ECF6",
              "width": 0.5
             },
             "pattern": {
              "fillmode": "overlay",
              "size": 10,
              "solidity": 0.2
             }
            },
            "type": "bar"
           }
          ],
          "barpolar": [
           {
            "marker": {
             "line": {
              "color": "#E5ECF6",
              "width": 0.5
             },
             "pattern": {
              "fillmode": "overlay",
              "size": 10,
              "solidity": 0.2
             }
            },
            "type": "barpolar"
           }
          ],
          "carpet": [
           {
            "aaxis": {
             "endlinecolor": "#2a3f5f",
             "gridcolor": "white",
             "linecolor": "white",
             "minorgridcolor": "white",
             "startlinecolor": "#2a3f5f"
            },
            "baxis": {
             "endlinecolor": "#2a3f5f",
             "gridcolor": "white",
             "linecolor": "white",
             "minorgridcolor": "white",
             "startlinecolor": "#2a3f5f"
            },
            "type": "carpet"
           }
          ],
          "choropleth": [
           {
            "colorbar": {
             "outlinewidth": 0,
             "ticks": ""
            },
            "type": "choropleth"
           }
          ],
          "contour": [
           {
            "colorbar": {
             "outlinewidth": 0,
             "ticks": ""
            },
            "colorscale": [
             [
              0,
              "#0d0887"
             ],
             [
              0.1111111111111111,
              "#46039f"
             ],
             [
              0.2222222222222222,
              "#7201a8"
             ],
             [
              0.3333333333333333,
              "#9c179e"
             ],
             [
              0.4444444444444444,
              "#bd3786"
             ],
             [
              0.5555555555555556,
              "#d8576b"
             ],
             [
              0.6666666666666666,
              "#ed7953"
             ],
             [
              0.7777777777777778,
              "#fb9f3a"
             ],
             [
              0.8888888888888888,
              "#fdca26"
             ],
             [
              1,
              "#f0f921"
             ]
            ],
            "type": "contour"
           }
          ],
          "contourcarpet": [
           {
            "colorbar": {
             "outlinewidth": 0,
             "ticks": ""
            },
            "type": "contourcarpet"
           }
          ],
          "heatmap": [
           {
            "colorbar": {
             "outlinewidth": 0,
             "ticks": ""
            },
            "colorscale": [
             [
              0,
              "#0d0887"
             ],
             [
              0.1111111111111111,
              "#46039f"
             ],
             [
              0.2222222222222222,
              "#7201a8"
             ],
             [
              0.3333333333333333,
              "#9c179e"
             ],
             [
              0.4444444444444444,
              "#bd3786"
             ],
             [
              0.5555555555555556,
              "#d8576b"
             ],
             [
              0.6666666666666666,
              "#ed7953"
             ],
             [
              0.7777777777777778,
              "#fb9f3a"
             ],
             [
              0.8888888888888888,
              "#fdca26"
             ],
             [
              1,
              "#f0f921"
             ]
            ],
            "type": "heatmap"
           }
          ],
          "heatmapgl": [
           {
            "colorbar": {
             "outlinewidth": 0,
             "ticks": ""
            },
            "colorscale": [
             [
              0,
              "#0d0887"
             ],
             [
              0.1111111111111111,
              "#46039f"
             ],
             [
              0.2222222222222222,
              "#7201a8"
             ],
             [
              0.3333333333333333,
              "#9c179e"
             ],
             [
              0.4444444444444444,
              "#bd3786"
             ],
             [
              0.5555555555555556,
              "#d8576b"
             ],
             [
              0.6666666666666666,
              "#ed7953"
             ],
             [
              0.7777777777777778,
              "#fb9f3a"
             ],
             [
              0.8888888888888888,
              "#fdca26"
             ],
             [
              1,
              "#f0f921"
             ]
            ],
            "type": "heatmapgl"
           }
          ],
          "histogram": [
           {
            "marker": {
             "pattern": {
              "fillmode": "overlay",
              "size": 10,
              "solidity": 0.2
             }
            },
            "type": "histogram"
           }
          ],
          "histogram2d": [
           {
            "colorbar": {
             "outlinewidth": 0,
             "ticks": ""
            },
            "colorscale": [
             [
              0,
              "#0d0887"
             ],
             [
              0.1111111111111111,
              "#46039f"
             ],
             [
              0.2222222222222222,
              "#7201a8"
             ],
             [
              0.3333333333333333,
              "#9c179e"
             ],
             [
              0.4444444444444444,
              "#bd3786"
             ],
             [
              0.5555555555555556,
              "#d8576b"
             ],
             [
              0.6666666666666666,
              "#ed7953"
             ],
             [
              0.7777777777777778,
              "#fb9f3a"
             ],
             [
              0.8888888888888888,
              "#fdca26"
             ],
             [
              1,
              "#f0f921"
             ]
            ],
            "type": "histogram2d"
           }
          ],
          "histogram2dcontour": [
           {
            "colorbar": {
             "outlinewidth": 0,
             "ticks": ""
            },
            "colorscale": [
             [
              0,
              "#0d0887"
             ],
             [
              0.1111111111111111,
              "#46039f"
             ],
             [
              0.2222222222222222,
              "#7201a8"
             ],
             [
              0.3333333333333333,
              "#9c179e"
             ],
             [
              0.4444444444444444,
              "#bd3786"
             ],
             [
              0.5555555555555556,
              "#d8576b"
             ],
             [
              0.6666666666666666,
              "#ed7953"
             ],
             [
              0.7777777777777778,
              "#fb9f3a"
             ],
             [
              0.8888888888888888,
              "#fdca26"
             ],
             [
              1,
              "#f0f921"
             ]
            ],
            "type": "histogram2dcontour"
           }
          ],
          "mesh3d": [
           {
            "colorbar": {
             "outlinewidth": 0,
             "ticks": ""
            },
            "type": "mesh3d"
           }
          ],
          "parcoords": [
           {
            "line": {
             "colorbar": {
              "outlinewidth": 0,
              "ticks": ""
             }
            },
            "type": "parcoords"
           }
          ],
          "pie": [
           {
            "automargin": true,
            "type": "pie"
           }
          ],
          "scatter": [
           {
            "fillpattern": {
             "fillmode": "overlay",
             "size": 10,
             "solidity": 0.2
            },
            "type": "scatter"
           }
          ],
          "scatter3d": [
           {
            "line": {
             "colorbar": {
              "outlinewidth": 0,
              "ticks": ""
             }
            },
            "marker": {
             "colorbar": {
              "outlinewidth": 0,
              "ticks": ""
             }
            },
            "type": "scatter3d"
           }
          ],
          "scattercarpet": [
           {
            "marker": {
             "colorbar": {
              "outlinewidth": 0,
              "ticks": ""
             }
            },
            "type": "scattercarpet"
           }
          ],
          "scattergeo": [
           {
            "marker": {
             "colorbar": {
              "outlinewidth": 0,
              "ticks": ""
             }
            },
            "type": "scattergeo"
           }
          ],
          "scattergl": [
           {
            "marker": {
             "colorbar": {
              "outlinewidth": 0,
              "ticks": ""
             }
            },
            "type": "scattergl"
           }
          ],
          "scattermapbox": [
           {
            "marker": {
             "colorbar": {
              "outlinewidth": 0,
              "ticks": ""
             }
            },
            "type": "scattermapbox"
           }
          ],
          "scatterpolar": [
           {
            "marker": {
             "colorbar": {
              "outlinewidth": 0,
              "ticks": ""
             }
            },
            "type": "scatterpolar"
           }
          ],
          "scatterpolargl": [
           {
            "marker": {
             "colorbar": {
              "outlinewidth": 0,
              "ticks": ""
             }
            },
            "type": "scatterpolargl"
           }
          ],
          "scatterternary": [
           {
            "marker": {
             "colorbar": {
              "outlinewidth": 0,
              "ticks": ""
             }
            },
            "type": "scatterternary"
           }
          ],
          "surface": [
           {
            "colorbar": {
             "outlinewidth": 0,
             "ticks": ""
            },
            "colorscale": [
             [
              0,
              "#0d0887"
             ],
             [
              0.1111111111111111,
              "#46039f"
             ],
             [
              0.2222222222222222,
              "#7201a8"
             ],
             [
              0.3333333333333333,
              "#9c179e"
             ],
             [
              0.4444444444444444,
              "#bd3786"
             ],
             [
              0.5555555555555556,
              "#d8576b"
             ],
             [
              0.6666666666666666,
              "#ed7953"
             ],
             [
              0.7777777777777778,
              "#fb9f3a"
             ],
             [
              0.8888888888888888,
              "#fdca26"
             ],
             [
              1,
              "#f0f921"
             ]
            ],
            "type": "surface"
           }
          ],
          "table": [
           {
            "cells": {
             "fill": {
              "color": "#EBF0F8"
             },
             "line": {
              "color": "white"
             }
            },
            "header": {
             "fill": {
              "color": "#C8D4E3"
             },
             "line": {
              "color": "white"
             }
            },
            "type": "table"
           }
          ]
         },
         "layout": {
          "annotationdefaults": {
           "arrowcolor": "#2a3f5f",
           "arrowhead": 0,
           "arrowwidth": 1
          },
          "autotypenumbers": "strict",
          "coloraxis": {
           "colorbar": {
            "outlinewidth": 0,
            "ticks": ""
           }
          },
          "colorscale": {
           "diverging": [
            [
             0,
             "#8e0152"
            ],
            [
             0.1,
             "#c51b7d"
            ],
            [
             0.2,
             "#de77ae"
            ],
            [
             0.3,
             "#f1b6da"
            ],
            [
             0.4,
             "#fde0ef"
            ],
            [
             0.5,
             "#f7f7f7"
            ],
            [
             0.6,
             "#e6f5d0"
            ],
            [
             0.7,
             "#b8e186"
            ],
            [
             0.8,
             "#7fbc41"
            ],
            [
             0.9,
             "#4d9221"
            ],
            [
             1,
             "#276419"
            ]
           ],
           "sequential": [
            [
             0,
             "#0d0887"
            ],
            [
             0.1111111111111111,
             "#46039f"
            ],
            [
             0.2222222222222222,
             "#7201a8"
            ],
            [
             0.3333333333333333,
             "#9c179e"
            ],
            [
             0.4444444444444444,
             "#bd3786"
            ],
            [
             0.5555555555555556,
             "#d8576b"
            ],
            [
             0.6666666666666666,
             "#ed7953"
            ],
            [
             0.7777777777777778,
             "#fb9f3a"
            ],
            [
             0.8888888888888888,
             "#fdca26"
            ],
            [
             1,
             "#f0f921"
            ]
           ],
           "sequentialminus": [
            [
             0,
             "#0d0887"
            ],
            [
             0.1111111111111111,
             "#46039f"
            ],
            [
             0.2222222222222222,
             "#7201a8"
            ],
            [
             0.3333333333333333,
             "#9c179e"
            ],
            [
             0.4444444444444444,
             "#bd3786"
            ],
            [
             0.5555555555555556,
             "#d8576b"
            ],
            [
             0.6666666666666666,
             "#ed7953"
            ],
            [
             0.7777777777777778,
             "#fb9f3a"
            ],
            [
             0.8888888888888888,
             "#fdca26"
            ],
            [
             1,
             "#f0f921"
            ]
           ]
          },
          "colorway": [
           "#636efa",
           "#EF553B",
           "#00cc96",
           "#ab63fa",
           "#FFA15A",
           "#19d3f3",
           "#FF6692",
           "#B6E880",
           "#FF97FF",
           "#FECB52"
          ],
          "font": {
           "color": "#2a3f5f"
          },
          "geo": {
           "bgcolor": "white",
           "lakecolor": "white",
           "landcolor": "#E5ECF6",
           "showlakes": true,
           "showland": true,
           "subunitcolor": "white"
          },
          "hoverlabel": {
           "align": "left"
          },
          "hovermode": "closest",
          "mapbox": {
           "style": "light"
          },
          "paper_bgcolor": "white",
          "plot_bgcolor": "#E5ECF6",
          "polar": {
           "angularaxis": {
            "gridcolor": "white",
            "linecolor": "white",
            "ticks": ""
           },
           "bgcolor": "#E5ECF6",
           "radialaxis": {
            "gridcolor": "white",
            "linecolor": "white",
            "ticks": ""
           }
          },
          "scene": {
           "xaxis": {
            "backgroundcolor": "#E5ECF6",
            "gridcolor": "white",
            "gridwidth": 2,
            "linecolor": "white",
            "showbackground": true,
            "ticks": "",
            "zerolinecolor": "white"
           },
           "yaxis": {
            "backgroundcolor": "#E5ECF6",
            "gridcolor": "white",
            "gridwidth": 2,
            "linecolor": "white",
            "showbackground": true,
            "ticks": "",
            "zerolinecolor": "white"
           },
           "zaxis": {
            "backgroundcolor": "#E5ECF6",
            "gridcolor": "white",
            "gridwidth": 2,
            "linecolor": "white",
            "showbackground": true,
            "ticks": "",
            "zerolinecolor": "white"
           }
          },
          "shapedefaults": {
           "line": {
            "color": "#2a3f5f"
           }
          },
          "ternary": {
           "aaxis": {
            "gridcolor": "white",
            "linecolor": "white",
            "ticks": ""
           },
           "baxis": {
            "gridcolor": "white",
            "linecolor": "white",
            "ticks": ""
           },
           "bgcolor": "#E5ECF6",
           "caxis": {
            "gridcolor": "white",
            "linecolor": "white",
            "ticks": ""
           }
          },
          "title": {
           "x": 0.05
          },
          "xaxis": {
           "automargin": true,
           "gridcolor": "white",
           "linecolor": "white",
           "ticks": "",
           "title": {
            "standoff": 15
           },
           "zerolinecolor": "white",
           "zerolinewidth": 2
          },
          "yaxis": {
           "automargin": true,
           "gridcolor": "white",
           "linecolor": "white",
           "ticks": "",
           "title": {
            "standoff": 15
           },
           "zerolinecolor": "white",
           "zerolinewidth": 2
          }
         }
        },
        "title": {
         "text": "Hyperparameter Importances"
        },
        "xaxis": {
         "title": {
          "text": "Importance for Objective Value"
         }
        },
        "yaxis": {
         "title": {
          "text": "Hyperparameter"
         }
        }
       }
      }
     },
     "metadata": {},
     "output_type": "display_data"
    }
   ],
   "source": [
    "optuna.visualization.plot_param_importances(study)"
   ]
  },
  {
   "cell_type": "code",
   "execution_count": 45,
   "metadata": {},
   "outputs": [
    {
     "data": {
      "text/plain": [
       "{'reg_alpha': 0.0784643903193065,\n",
       " 'reg_lambda': 0.026905929719959937,\n",
       " 'colsample_bytree': 0.9,\n",
       " 'subsample': 0.65,\n",
       " 'learning_rate': 0.002,\n",
       " 'max_depth': 8,\n",
       " 'min_child_weight': 7,\n",
       " 'eval_metric': 'rmse',\n",
       " 'early_stopping_rounds': 300,\n",
       " 'random_state': 10,\n",
       " 'n_estimators': 3000,\n",
       " 'n_jobs': -1}"
      ]
     },
     "execution_count": 45,
     "metadata": {},
     "output_type": "execute_result"
    }
   ],
   "source": [
    "params=study.best_params\n",
    "params['eval_metric'] = 'rmse'\n",
    "params['early_stopping_rounds'] = 300\n",
    "params['random_state'] = 10\n",
    "params['n_estimators'] = 3000\n",
    "params['n_jobs'] = -1\n",
    "\n",
    "params"
   ]
  },
  {
   "cell_type": "code",
   "execution_count": 46,
   "metadata": {},
   "outputs": [
    {
     "name": "stdout",
     "output_type": "stream",
     "text": [
      "trial 1: 28.85483\n",
      "trial 2: 28.61704\n",
      "trial 3: 28.13607\n",
      "trial 4: 31.97422\n",
      "trial 5: 28.60119\n",
      "trial 6: 28.03175\n",
      "trial 7: 29.13944\n",
      "trial 8: 29.21379\n",
      "trial 9: 31.78343\n",
      "trial 10: 29.63375\n",
      "trial 11: 28.44821\n",
      "trial 12: 29.25011\n",
      "trial 13: 31.13792\n",
      "trial 14: 30.87879\n",
      "trial 15: 31.91854\n",
      "trial 16: 27.54049\n",
      "trial 17: 27.50651\n",
      "trial 18: 28.47195\n",
      "trial 19: 29.27545\n",
      "trial 20: 30.58594\n",
      "trial 21: 28.23557\n",
      "trial 22: 29.59515\n",
      "trial 23: 31.52699\n",
      "trial 24: 30.44581\n",
      "trial 25: 31.87203\n",
      "trial 26: 29.23801\n",
      "trial 27: 29.49725\n",
      "trial 28: 31.47262\n",
      "trial 29: 35.34524\n",
      "trial 30: 31.08788\n",
      "\n",
      "average: 29.91053\n"
     ]
    }
   ],
   "source": [
    "from sklearn.model_selection import KFold\n",
    "\n",
    "kf = KFold(n_splits=cross_val_times, random_state=42, shuffle=True)\n",
    "preds_MLM = np.zeros(df_test.shape[0])\n",
    "rmse=[]\n",
    "n=0\n",
    "\n",
    "def RMSE_expm1(y_pred, y_true):\n",
    "    return np.sqrt(np.mean(np.square(np.expm1(y_pred) - np.expm1(y_true))))\n",
    "\n",
    "for trn_idx, test_idx in kf.split(df_train, df_train_target_MLM):\n",
    "    X_tr, X_val=df_train.iloc[trn_idx], df_train.iloc[test_idx]\n",
    "    y_tr, y_val=df_train_target_MLM.iloc[trn_idx], df_train_target_MLM.iloc[test_idx]\n",
    "\n",
    "    model = XGBRegressor(**params)\n",
    "    model.fit(X_tr, y_tr, eval_set=[(X_val,y_val)], verbose=False)\n",
    "    preds_MLM+=model.predict(df_test)/kf.n_splits\n",
    "\n",
    "    if target_log_on_off == 'on':\n",
    "        rmse.append(RMSE_expm1(y_val, model.predict(X_val)))\n",
    "    else:\n",
    "        rmse.append(mean_squared_error(y_val, model.predict(X_val), squared=False))\n",
    "\n",
    "    print(f'trial {n+1}:', round(rmse[n], 5))\n",
    "    n+=1\n",
    "\n",
    "MLM_cv = round(np.mean(rmse), 5)\n",
    "print(f'\\naverage: {MLM_cv}')"
   ]
  },
  {
   "cell_type": "markdown",
   "metadata": {},
   "source": [
    "### target HLM"
   ]
  },
  {
   "cell_type": "code",
   "execution_count": 47,
   "metadata": {},
   "outputs": [
    {
     "data": {
      "text/plain": [
       "0       50.680\n",
       "1       50.590\n",
       "2       80.892\n",
       "3        2.000\n",
       "4       99.990\n",
       "         ...  \n",
       "3458    66.126\n",
       "3459    63.732\n",
       "3460    93.840\n",
       "3461    49.519\n",
       "3462    10.867\n",
       "Name: HLM, Length: 3463, dtype: float64"
      ]
     },
     "execution_count": 47,
     "metadata": {},
     "output_type": "execute_result"
    }
   ],
   "source": [
    "df_train_target_HLM = df_train_target['HLM']\n",
    "df_train_target_HLM"
   ]
  },
  {
   "cell_type": "code",
   "execution_count": 48,
   "metadata": {},
   "outputs": [],
   "source": [
    "def objective(trial):\n",
    "\n",
    "    X_train, X_valid, y_train, y_valid = train_test_split(df_train, df_train_target_HLM, test_size = 0.1, random_state=42)\n",
    "\n",
    "    param = {\n",
    "        # constant\n",
    "        'eval_metric': 'rmse',\n",
    "        'random_state': 10,\n",
    "        'n_estimators': 3000,\n",
    "        'early_stopping_rounds': 300,\n",
    "        'n_jobs': -1,\n",
    "        # log_uniform\n",
    "        'reg_alpha': trial.suggest_loguniform('reg_alpha', 1e-2, 1e+4),\n",
    "        'reg_lambda': trial.suggest_loguniform('reg_lambda', 1e-2, 1e+4),\n",
    "        # suggest_discrete_uniform\n",
    "        'colsample_bytree': trial.suggest_discrete_uniform('colsample_bytree', 0.5, 1.0, 0.05),\n",
    "        'subsample': trial.suggest_discrete_uniform('subsample', 0.5, 1.0, 0.05),\n",
    "        'learning_rate': trial.suggest_discrete_uniform('learning_rate', 0.001, 0.003, 0.001),\n",
    "        # suggest_int\n",
    "        'max_depth': trial.suggest_int('max_depth', 3, 10, 1),\n",
    "        'min_child_weight': trial.suggest_int('min_child_weight', 1, 10),\n",
    "    }\n",
    "    model = XGBRegressor(**param)  \n",
    "    model.fit(X_train, y_train, eval_set=[(X_valid,y_valid)], verbose=False)\n",
    "    preds = model.predict(X_valid)\n",
    "\n",
    "    if target_log_on_off == 'on':\n",
    "        rmse = RMSE_expm1(y_valid, preds)\n",
    "    else:\n",
    "        rmse = mean_squared_error(y_valid, preds, squared=False)\n",
    "    \n",
    "    return rmse"
   ]
  },
  {
   "cell_type": "code",
   "execution_count": 49,
   "metadata": {},
   "outputs": [
    {
     "name": "stderr",
     "output_type": "stream",
     "text": [
      "[I 2023-09-09 17:41:16,940] A new study created in memory with name: no-name-99d53945-4fb0-4819-8448-9677bb59c8ad\n",
      "  0%|          | 0/50 [00:00<?, ?it/s][I 2023-09-09 17:44:39,271] Trial 0 finished with value: 31.26680684964206 and parameters: {'reg_alpha': 155.6775412746283, 'reg_lambda': 165.30032548934327, 'colsample_bytree': 0.75, 'subsample': 0.8, 'learning_rate': 0.003, 'max_depth': 8, 'min_child_weight': 8}. Best is trial 0 with value: 31.26680684964206.\n",
      "  2%|▏         | 1/50 [03:22<2:45:14, 202.33s/it][I 2023-09-09 17:46:37,095] Trial 1 finished with value: 32.47850501129974 and parameters: {'reg_alpha': 2925.0536111136107, 'reg_lambda': 1.556727868549062, 'colsample_bytree': 0.5, 'subsample': 0.7, 'learning_rate': 0.001, 'max_depth': 7, 'min_child_weight': 5}. Best is trial 0 with value: 31.26680684964206.\n",
      "  4%|▍         | 2/50 [05:20<2:02:05, 152.62s/it][I 2023-09-09 17:49:55,037] Trial 2 finished with value: 31.90224018614432 and parameters: {'reg_alpha': 781.0620864155336, 'reg_lambda': 1423.3914198791945, 'colsample_bytree': 0.8500000000000001, 'subsample': 0.65, 'learning_rate': 0.003, 'max_depth': 8, 'min_child_weight': 6}. Best is trial 0 with value: 31.26680684964206.\n",
      "  6%|▌         | 3/50 [08:38<2:15:45, 173.32s/it][I 2023-09-09 17:52:47,160] Trial 3 finished with value: 31.916297372833466 and parameters: {'reg_alpha': 923.0178837895679, 'reg_lambda': 1.7915312940764518, 'colsample_bytree': 0.9, 'subsample': 0.5, 'learning_rate': 0.001, 'max_depth': 8, 'min_child_weight': 6}. Best is trial 0 with value: 31.26680684964206.\n",
      "  8%|▊         | 4/50 [11:30<2:12:30, 172.84s/it][I 2023-09-09 17:55:30,960] Trial 4 finished with value: 32.07835601912587 and parameters: {'reg_alpha': 1222.9426264548852, 'reg_lambda': 33.78701106106616, 'colsample_bytree': 0.55, 'subsample': 0.8, 'learning_rate': 0.001, 'max_depth': 9, 'min_child_weight': 4}. Best is trial 0 with value: 31.26680684964206.\n",
      " 10%|█         | 5/50 [14:14<2:07:11, 169.58s/it][I 2023-09-09 17:57:10,123] Trial 5 finished with value: 38.101756359955324 and parameters: {'reg_alpha': 0.7514453623990761, 'reg_lambda': 8218.777305717786, 'colsample_bytree': 0.8, 'subsample': 0.75, 'learning_rate': 0.002, 'max_depth': 3, 'min_child_weight': 5}. Best is trial 0 with value: 31.26680684964206.\n",
      " 12%|█▏        | 6/50 [15:53<1:46:48, 145.64s/it][I 2023-09-09 18:00:19,588] Trial 6 finished with value: 31.9251562654726 and parameters: {'reg_alpha': 0.18049195501416546, 'reg_lambda': 142.19045511388148, 'colsample_bytree': 0.65, 'subsample': 0.9, 'learning_rate': 0.001, 'max_depth': 8, 'min_child_weight': 2}. Best is trial 0 with value: 31.26680684964206.\n",
      " 14%|█▍        | 7/50 [19:02<1:54:38, 159.97s/it][I 2023-09-09 18:03:00,514] Trial 7 finished with value: 30.919953765828673 and parameters: {'reg_alpha': 0.25852020941707377, 'reg_lambda': 16.14929471211087, 'colsample_bytree': 0.8, 'subsample': 0.95, 'learning_rate': 0.002, 'max_depth': 5, 'min_child_weight': 4}. Best is trial 7 with value: 30.919953765828673.\n",
      " 16%|█▌        | 8/50 [21:43<1:52:11, 160.27s/it][I 2023-09-09 18:06:26,932] Trial 8 finished with value: 30.969581957003136 and parameters: {'reg_alpha': 2.534676292959961, 'reg_lambda': 0.016449792239686272, 'colsample_bytree': 0.7, 'subsample': 1.0, 'learning_rate': 0.001, 'max_depth': 8, 'min_child_weight': 7}. Best is trial 7 with value: 30.919953765828673.\n",
      " 18%|█▊        | 9/50 [25:09<1:59:22, 174.70s/it][I 2023-09-09 18:08:26,101] Trial 9 finished with value: 31.196522656990005 and parameters: {'reg_alpha': 1823.5759084755898, 'reg_lambda': 33.24698119318704, 'colsample_bytree': 0.7, 'subsample': 0.65, 'learning_rate': 0.003, 'max_depth': 5, 'min_child_weight': 10}. Best is trial 7 with value: 30.919953765828673.\n",
      " 20%|██        | 10/50 [27:09<1:45:02, 157.55s/it][I 2023-09-09 18:11:36,163] Trial 10 finished with value: 31.093990224875117 and parameters: {'reg_alpha': 0.01146328692457784, 'reg_lambda': 1.0271123084825136, 'colsample_bytree': 1.0, 'subsample': 1.0, 'learning_rate': 0.002, 'max_depth': 5, 'min_child_weight': 1}. Best is trial 7 with value: 30.919953765828673.\n",
      " 22%|██▏       | 11/50 [30:19<1:48:52, 167.50s/it][I 2023-09-09 18:14:25,781] Trial 11 finished with value: 30.92170443552372 and parameters: {'reg_alpha': 7.465935571789005, 'reg_lambda': 0.017651873257786572, 'colsample_bytree': 0.65, 'subsample': 1.0, 'learning_rate': 0.002, 'max_depth': 10, 'min_child_weight': 8}. Best is trial 7 with value: 30.919953765828673.\n",
      " 24%|██▍       | 12/50 [33:08<1:46:29, 168.15s/it][I 2023-09-09 18:17:09,294] Trial 12 finished with value: 30.8669326100444 and parameters: {'reg_alpha': 21.99306128314943, 'reg_lambda': 0.025479534428623524, 'colsample_bytree': 0.6, 'subsample': 0.9, 'learning_rate': 0.002, 'max_depth': 10, 'min_child_weight': 9}. Best is trial 12 with value: 30.8669326100444.\n",
      " 26%|██▌       | 13/50 [35:52<1:42:49, 166.74s/it][I 2023-09-09 18:18:47,742] Trial 13 finished with value: 30.758579805845173 and parameters: {'reg_alpha': 35.698282904981234, 'reg_lambda': 0.14538702782872076, 'colsample_bytree': 0.6, 'subsample': 0.9, 'learning_rate': 0.002, 'max_depth': 5, 'min_child_weight': 3}. Best is trial 13 with value: 30.758579805845173.\n",
      " 28%|██▊       | 14/50 [37:30<1:27:40, 146.11s/it][I 2023-09-09 18:20:15,682] Trial 14 finished with value: 30.89925073593036 and parameters: {'reg_alpha': 57.72054642442671, 'reg_lambda': 0.10541475561658571, 'colsample_bytree': 0.55, 'subsample': 0.9, 'learning_rate': 0.002, 'max_depth': 3, 'min_child_weight': 10}. Best is trial 13 with value: 30.758579805845173.\n",
      " 30%|███       | 15/50 [38:58<1:15:00, 128.58s/it][I 2023-09-09 18:21:55,362] Trial 15 finished with value: 30.79435774176959 and parameters: {'reg_alpha': 32.68650359374845, 'reg_lambda': 0.15525725970931437, 'colsample_bytree': 0.6, 'subsample': 0.8500000000000001, 'learning_rate': 0.002, 'max_depth': 6, 'min_child_weight': 3}. Best is trial 13 with value: 30.758579805845173.\n",
      " 32%|███▏      | 16/50 [40:38<1:07:55, 119.88s/it][I 2023-09-09 18:23:13,703] Trial 16 finished with value: 30.934499111392235 and parameters: {'reg_alpha': 160.72007897744214, 'reg_lambda': 0.10569038563052824, 'colsample_bytree': 0.5, 'subsample': 0.8500000000000001, 'learning_rate': 0.003, 'max_depth': 6, 'min_child_weight': 3}. Best is trial 13 with value: 30.758579805845173.\n",
      " 34%|███▍      | 17/50 [41:56<59:03, 107.39s/it]  [I 2023-09-09 18:24:40,484] Trial 17 finished with value: 30.76921334138083 and parameters: {'reg_alpha': 13.472080963987539, 'reg_lambda': 0.19368279017525536, 'colsample_bytree': 0.6, 'subsample': 0.8, 'learning_rate': 0.002, 'max_depth': 4, 'min_child_weight': 1}. Best is trial 13 with value: 30.758579805845173.\n",
      " 36%|███▌      | 18/50 [43:23<53:58, 101.20s/it][I 2023-09-09 18:26:03,625] Trial 18 finished with value: 32.827653808328606 and parameters: {'reg_alpha': 7111.867069533743, 'reg_lambda': 0.48912318300059177, 'colsample_bytree': 0.6, 'subsample': 0.55, 'learning_rate': 0.002, 'max_depth': 4, 'min_child_weight': 1}. Best is trial 13 with value: 30.758579805845173.\n",
      " 38%|███▊      | 19/50 [44:46<49:28, 95.77s/it] [I 2023-09-09 18:27:20,482] Trial 19 finished with value: 30.80309828756008 and parameters: {'reg_alpha': 7.976274554319818, 'reg_lambda': 4.400052968871332, 'colsample_bytree': 0.7, 'subsample': 0.75, 'learning_rate': 0.003, 'max_depth': 4, 'min_child_weight': 2}. Best is trial 13 with value: 30.758579805845173.\n",
      " 40%|████      | 20/50 [46:03<45:02, 90.09s/it][I 2023-09-09 18:29:02,521] Trial 20 finished with value: 30.854547210924114 and parameters: {'reg_alpha': 148.3301150047139, 'reg_lambda': 0.2802631001493287, 'colsample_bytree': 0.55, 'subsample': 0.8, 'learning_rate': 0.002, 'max_depth': 4, 'min_child_weight': 2}. Best is trial 13 with value: 30.758579805845173.\n",
      " 42%|████▏     | 21/50 [47:45<45:16, 93.68s/it][I 2023-09-09 18:30:54,719] Trial 21 finished with value: 30.769607972108428 and parameters: {'reg_alpha': 28.43657490246332, 'reg_lambda': 0.10806381329354321, 'colsample_bytree': 0.6, 'subsample': 0.8500000000000001, 'learning_rate': 0.002, 'max_depth': 6, 'min_child_weight': 3}. Best is trial 13 with value: 30.758579805845173.\n",
      " 44%|████▍     | 22/50 [49:37<46:18, 99.24s/it][I 2023-09-09 18:32:52,722] Trial 22 finished with value: 30.721753320230928 and parameters: {'reg_alpha': 12.68133666681563, 'reg_lambda': 0.04720523972238655, 'colsample_bytree': 0.65, 'subsample': 0.8500000000000001, 'learning_rate': 0.002, 'max_depth': 6, 'min_child_weight': 3}. Best is trial 22 with value: 30.721753320230928.\n",
      " 46%|████▌     | 23/50 [51:35<47:11, 104.87s/it][I 2023-09-09 18:34:34,521] Trial 23 finished with value: 30.7397808333149 and parameters: {'reg_alpha': 4.035021821272561, 'reg_lambda': 0.038047058626735776, 'colsample_bytree': 0.65, 'subsample': 0.9, 'learning_rate': 0.002, 'max_depth': 5, 'min_child_weight': 1}. Best is trial 22 with value: 30.721753320230928.\n",
      " 48%|████▊     | 24/50 [53:17<45:02, 103.95s/it][I 2023-09-09 18:36:40,829] Trial 24 finished with value: 30.760690398181197 and parameters: {'reg_alpha': 2.3596098555837677, 'reg_lambda': 0.03773433915471246, 'colsample_bytree': 0.65, 'subsample': 0.95, 'learning_rate': 0.002, 'max_depth': 7, 'min_child_weight': 4}. Best is trial 22 with value: 30.721753320230928.\n",
      " 50%|█████     | 25/50 [55:23<46:06, 110.66s/it][I 2023-09-09 18:38:26,762] Trial 25 finished with value: 30.815644423874634 and parameters: {'reg_alpha': 4.5439192051065875, 'reg_lambda': 0.04524834955640439, 'colsample_bytree': 0.75, 'subsample': 0.95, 'learning_rate': 0.002, 'max_depth': 5, 'min_child_weight': 2}. Best is trial 22 with value: 30.721753320230928.\n",
      " 52%|█████▏    | 26/50 [57:09<43:41, 109.24s/it][I 2023-09-09 18:41:08,315] Trial 26 finished with value: 30.867605354217858 and parameters: {'reg_alpha': 44.636895247427134, 'reg_lambda': 0.011203336050629143, 'colsample_bytree': 0.7, 'subsample': 0.9, 'learning_rate': 0.001, 'max_depth': 6, 'min_child_weight': 3}. Best is trial 22 with value: 30.721753320230928.\n",
      " 54%|█████▍    | 27/50 [59:51<47:53, 124.93s/it][I 2023-09-09 18:42:29,340] Trial 27 finished with value: 30.80807360275055 and parameters: {'reg_alpha': 1.4107440214139326, 'reg_lambda': 0.5140926305707348, 'colsample_bytree': 0.65, 'subsample': 0.8500000000000001, 'learning_rate': 0.003, 'max_depth': 7, 'min_child_weight': 1}. Best is trial 22 with value: 30.721753320230928.\n",
      " 56%|█████▌    | 28/50 [1:01:12<40:58, 111.76s/it][I 2023-09-09 18:43:56,689] Trial 28 finished with value: 30.795362633456673 and parameters: {'reg_alpha': 8.603539854343072, 'reg_lambda': 0.05329910101812717, 'colsample_bytree': 0.55, 'subsample': 0.95, 'learning_rate': 0.002, 'max_depth': 5, 'min_child_weight': 4}. Best is trial 22 with value: 30.721753320230928.\n",
      " 58%|█████▊    | 29/50 [1:02:39<36:33, 104.44s/it][I 2023-09-09 18:45:22,079] Trial 29 finished with value: 30.886492237555586 and parameters: {'reg_alpha': 92.92155439137244, 'reg_lambda': 0.012981840828782886, 'colsample_bytree': 0.75, 'subsample': 0.8, 'learning_rate': 0.003, 'max_depth': 6, 'min_child_weight': 2}. Best is trial 22 with value: 30.721753320230928.\n",
      " 60%|██████    | 30/50 [1:04:05<32:54, 98.72s/it] [I 2023-09-09 18:48:27,254] Trial 30 finished with value: 30.975994042739508 and parameters: {'reg_alpha': 200.91097162520333, 'reg_lambda': 0.0490051895573595, 'colsample_bytree': 0.8, 'subsample': 0.7, 'learning_rate': 0.002, 'max_depth': 7, 'min_child_weight': 5}. Best is trial 22 with value: 30.721753320230928.\n",
      " 62%|██████▏   | 31/50 [1:07:10<39:28, 124.66s/it][I 2023-09-09 18:50:35,973] Trial 31 finished with value: 30.77903944449801 and parameters: {'reg_alpha': 3.472895072180347, 'reg_lambda': 0.04912378659262584, 'colsample_bytree': 0.65, 'subsample': 0.95, 'learning_rate': 0.002, 'max_depth': 7, 'min_child_weight': 4}. Best is trial 22 with value: 30.721753320230928.\n",
      " 64%|██████▍   | 32/50 [1:09:19<37:45, 125.88s/it][I 2023-09-09 18:52:46,276] Trial 32 finished with value: 30.768338524187428 and parameters: {'reg_alpha': 14.644555871084933, 'reg_lambda': 0.0334942138544147, 'colsample_bytree': 0.65, 'subsample': 0.9, 'learning_rate': 0.002, 'max_depth': 7, 'min_child_weight': 3}. Best is trial 22 with value: 30.721753320230928.\n",
      " 66%|██████▌   | 33/50 [1:11:29<36:02, 127.20s/it][I 2023-09-09 18:54:06,775] Trial 33 finished with value: 30.76993496711526 and parameters: {'reg_alpha': 2.012394023580433, 'reg_lambda': 0.3254731228067101, 'colsample_bytree': 0.5, 'subsample': 0.95, 'learning_rate': 0.002, 'max_depth': 5, 'min_child_weight': 4}. Best is trial 22 with value: 30.721753320230928.\n",
      " 68%|██████▊   | 34/50 [1:12:49<30:11, 113.19s/it][I 2023-09-09 18:56:42,371] Trial 34 finished with value: 30.74292359452828 and parameters: {'reg_alpha': 6.0093333523344095, 'reg_lambda': 0.06859399652638817, 'colsample_bytree': 0.7, 'subsample': 0.8500000000000001, 'learning_rate': 0.001, 'max_depth': 6, 'min_child_weight': 5}. Best is trial 22 with value: 30.721753320230928.\n",
      " 70%|███████   | 35/50 [1:15:25<31:28, 125.91s/it][I 2023-09-09 18:59:27,935] Trial 35 finished with value: 31.35185031730962 and parameters: {'reg_alpha': 356.19075624156847, 'reg_lambda': 0.9221338921508593, 'colsample_bytree': 0.75, 'subsample': 0.8500000000000001, 'learning_rate': 0.001, 'max_depth': 6, 'min_child_weight': 7}. Best is trial 22 with value: 30.721753320230928.\n",
      " 72%|███████▏  | 36/50 [1:18:10<32:09, 137.81s/it][I 2023-09-09 19:01:19,667] Trial 36 finished with value: 30.89771869330552 and parameters: {'reg_alpha': 59.406781234619636, 'reg_lambda': 0.10918896045702889, 'colsample_bytree': 0.7, 'subsample': 0.75, 'learning_rate': 0.001, 'max_depth': 4, 'min_child_weight': 6}. Best is trial 22 with value: 30.721753320230928.\n",
      " 74%|███████▍  | 37/50 [1:20:02<28:09, 129.99s/it][I 2023-09-09 19:03:42,794] Trial 37 finished with value: 30.903562573006518 and parameters: {'reg_alpha': 21.40695782929711, 'reg_lambda': 4.160396557180503, 'colsample_bytree': 0.8500000000000001, 'subsample': 0.7, 'learning_rate': 0.001, 'max_depth': 5, 'min_child_weight': 5}. Best is trial 22 with value: 30.721753320230928.\n",
      " 76%|███████▌  | 38/50 [1:22:25<26:47, 133.93s/it][I 2023-09-09 19:06:50,897] Trial 38 finished with value: 30.777350184683314 and parameters: {'reg_alpha': 5.699909243011498, 'reg_lambda': 0.01000822282989256, 'colsample_bytree': 0.95, 'subsample': 0.8, 'learning_rate': 0.001, 'max_depth': 6, 'min_child_weight': 6}. Best is trial 22 with value: 30.721753320230928.\n",
      " 78%|███████▊  | 39/50 [1:25:33<27:31, 150.18s/it][I 2023-09-09 19:09:44,231] Trial 39 finished with value: 30.870226165663 and parameters: {'reg_alpha': 13.151598475533257, 'reg_lambda': 0.39075652678257794, 'colsample_bytree': 0.55, 'subsample': 0.8500000000000001, 'learning_rate': 0.001, 'max_depth': 9, 'min_child_weight': 5}. Best is trial 22 with value: 30.721753320230928.\n",
      " 80%|████████  | 40/50 [1:28:27<26:11, 157.13s/it][I 2023-09-09 19:10:58,421] Trial 40 finished with value: 30.747300085763193 and parameters: {'reg_alpha': 0.909512646125816, 'reg_lambda': 0.02304584770704914, 'colsample_bytree': 0.7, 'subsample': 0.9, 'learning_rate': 0.003, 'max_depth': 5, 'min_child_weight': 7}. Best is trial 22 with value: 30.721753320230928.\n",
      " 82%|████████▏ | 41/50 [1:29:41<19:50, 132.25s/it][I 2023-09-09 19:12:11,540] Trial 41 finished with value: 30.75497133779496 and parameters: {'reg_alpha': 0.9841120991913858, 'reg_lambda': 0.024391547566845882, 'colsample_bytree': 0.7, 'subsample': 0.9, 'learning_rate': 0.003, 'max_depth': 5, 'min_child_weight': 7}. Best is trial 22 with value: 30.721753320230928.\n",
      " 84%|████████▍ | 42/50 [1:30:54<15:16, 114.51s/it][I 2023-09-09 19:13:25,662] Trial 42 finished with value: 30.760894456917253 and parameters: {'reg_alpha': 0.72753573708324, 'reg_lambda': 0.0218195605193906, 'colsample_bytree': 0.7, 'subsample': 0.9, 'learning_rate': 0.003, 'max_depth': 5, 'min_child_weight': 7}. Best is trial 22 with value: 30.721753320230928.\n",
      " 86%|████████▌ | 43/50 [1:32:08<11:56, 102.39s/it][I 2023-09-09 19:14:29,499] Trial 43 finished with value: 30.96077670067631 and parameters: {'reg_alpha': 0.9806407406153667, 'reg_lambda': 0.022794963648367493, 'colsample_bytree': 0.8, 'subsample': 0.8500000000000001, 'learning_rate': 0.003, 'max_depth': 3, 'min_child_weight': 8}. Best is trial 22 with value: 30.721753320230928.\n",
      " 88%|████████▊ | 44/50 [1:33:12<09:04, 90.83s/it] [I 2023-09-09 19:15:55,023] Trial 44 finished with value: 31.162330109323168 and parameters: {'reg_alpha': 0.589179191362598, 'reg_lambda': 0.06892219381583474, 'colsample_bytree': 0.75, 'subsample': 1.0, 'learning_rate': 0.003, 'max_depth': 6, 'min_child_weight': 7}. Best is trial 22 with value: 30.721753320230928.\n",
      " 90%|█████████ | 45/50 [1:34:38<07:26, 89.23s/it][I 2023-09-09 19:16:58,932] Trial 45 finished with value: 30.825103393666872 and parameters: {'reg_alpha': 3.905566760460537, 'reg_lambda': 0.02577991993491736, 'colsample_bytree': 0.7, 'subsample': 0.9, 'learning_rate': 0.003, 'max_depth': 4, 'min_child_weight': 8}. Best is trial 22 with value: 30.721753320230928.\n",
      " 92%|█████████▏| 46/50 [1:35:41<05:26, 81.64s/it][I 2023-09-09 19:18:04,832] Trial 46 finished with value: 30.737304954960724 and parameters: {'reg_alpha': 0.2744513174876318, 'reg_lambda': 0.06791492777761265, 'colsample_bytree': 0.65, 'subsample': 0.8, 'learning_rate': 0.003, 'max_depth': 5, 'min_child_weight': 6}. Best is trial 22 with value: 30.721753320230928.\n",
      " 94%|█████████▍| 47/50 [1:36:47<03:50, 76.92s/it][I 2023-09-09 19:19:12,331] Trial 47 finished with value: 30.664994723308546 and parameters: {'reg_alpha': 0.3555899722763544, 'reg_lambda': 0.07267462902645146, 'colsample_bytree': 0.65, 'subsample': 0.75, 'learning_rate': 0.003, 'max_depth': 5, 'min_child_weight': 6}. Best is trial 47 with value: 30.664994723308546.\n",
      " 96%|█████████▌| 48/50 [1:37:55<02:28, 74.09s/it][I 2023-09-09 19:20:22,240] Trial 48 finished with value: 30.67067244690095 and parameters: {'reg_alpha': 0.2561574024751501, 'reg_lambda': 0.07993133759245773, 'colsample_bytree': 0.65, 'subsample': 0.75, 'learning_rate': 0.003, 'max_depth': 6, 'min_child_weight': 5}. Best is trial 47 with value: 30.664994723308546.\n",
      " 98%|█████████▊| 49/50 [1:39:05<01:12, 72.84s/it][I 2023-09-09 19:21:17,257] Trial 49 finished with value: 30.808952784798628 and parameters: {'reg_alpha': 0.15332110395145637, 'reg_lambda': 0.18529742343018973, 'colsample_bytree': 0.65, 'subsample': 0.65, 'learning_rate': 0.003, 'max_depth': 4, 'min_child_weight': 6}. Best is trial 47 with value: 30.664994723308546.\n",
      "100%|██████████| 50/50 [1:40:00<00:00, 120.01s/it]"
     ]
    },
    {
     "name": "stdout",
     "output_type": "stream",
     "text": [
      "Number of finished trials: 50\n",
      "Best trial: {'reg_alpha': 0.3555899722763544, 'reg_lambda': 0.07267462902645146, 'colsample_bytree': 0.65, 'subsample': 0.75, 'learning_rate': 0.003, 'max_depth': 5, 'min_child_weight': 6}\n"
     ]
    },
    {
     "name": "stderr",
     "output_type": "stream",
     "text": [
      "\n"
     ]
    }
   ],
   "source": [
    "study = optuna.create_study(direction='minimize', study_name=None)\n",
    "with tqdm(total=num_of_study) as pbar:  \n",
    "    def callback(study, trial):\n",
    "        pbar.update(1)  \n",
    "    \n",
    "    study.optimize(objective, n_trials=num_of_study, callbacks=[callback])\n",
    "\n",
    "print('Number of finished trials:', len(study.trials))\n",
    "print('Best trial:', study.best_trial.params)"
   ]
  },
  {
   "cell_type": "code",
   "execution_count": 50,
   "metadata": {},
   "outputs": [
    {
     "data": {
      "text/html": [
       "<div>\n",
       "<style scoped>\n",
       "    .dataframe tbody tr th:only-of-type {\n",
       "        vertical-align: middle;\n",
       "    }\n",
       "\n",
       "    .dataframe tbody tr th {\n",
       "        vertical-align: top;\n",
       "    }\n",
       "\n",
       "    .dataframe thead th {\n",
       "        text-align: right;\n",
       "    }\n",
       "</style>\n",
       "<table border=\"1\" class=\"dataframe\">\n",
       "  <thead>\n",
       "    <tr style=\"text-align: right;\">\n",
       "      <th></th>\n",
       "      <th>number</th>\n",
       "      <th>value</th>\n",
       "      <th>datetime_start</th>\n",
       "      <th>datetime_complete</th>\n",
       "      <th>duration</th>\n",
       "      <th>params_colsample_bytree</th>\n",
       "      <th>params_learning_rate</th>\n",
       "      <th>params_max_depth</th>\n",
       "      <th>params_min_child_weight</th>\n",
       "      <th>params_reg_alpha</th>\n",
       "      <th>params_reg_lambda</th>\n",
       "      <th>params_subsample</th>\n",
       "      <th>state</th>\n",
       "    </tr>\n",
       "  </thead>\n",
       "  <tbody>\n",
       "    <tr>\n",
       "      <th>0</th>\n",
       "      <td>0</td>\n",
       "      <td>31.266807</td>\n",
       "      <td>2023-09-09 17:41:16.942406</td>\n",
       "      <td>2023-09-09 17:44:39.270055</td>\n",
       "      <td>0 days 00:03:22.327649</td>\n",
       "      <td>0.75</td>\n",
       "      <td>0.003</td>\n",
       "      <td>8</td>\n",
       "      <td>8</td>\n",
       "      <td>155.677541</td>\n",
       "      <td>165.300325</td>\n",
       "      <td>0.80</td>\n",
       "      <td>COMPLETE</td>\n",
       "    </tr>\n",
       "    <tr>\n",
       "      <th>1</th>\n",
       "      <td>1</td>\n",
       "      <td>32.478505</td>\n",
       "      <td>2023-09-09 17:44:39.272055</td>\n",
       "      <td>2023-09-09 17:46:37.095638</td>\n",
       "      <td>0 days 00:01:57.823583</td>\n",
       "      <td>0.50</td>\n",
       "      <td>0.001</td>\n",
       "      <td>7</td>\n",
       "      <td>5</td>\n",
       "      <td>2925.053611</td>\n",
       "      <td>1.556728</td>\n",
       "      <td>0.70</td>\n",
       "      <td>COMPLETE</td>\n",
       "    </tr>\n",
       "    <tr>\n",
       "      <th>2</th>\n",
       "      <td>2</td>\n",
       "      <td>31.902240</td>\n",
       "      <td>2023-09-09 17:46:37.097639</td>\n",
       "      <td>2023-09-09 17:49:55.037298</td>\n",
       "      <td>0 days 00:03:17.939659</td>\n",
       "      <td>0.85</td>\n",
       "      <td>0.003</td>\n",
       "      <td>8</td>\n",
       "      <td>6</td>\n",
       "      <td>781.062086</td>\n",
       "      <td>1423.391420</td>\n",
       "      <td>0.65</td>\n",
       "      <td>COMPLETE</td>\n",
       "    </tr>\n",
       "    <tr>\n",
       "      <th>3</th>\n",
       "      <td>3</td>\n",
       "      <td>31.916297</td>\n",
       "      <td>2023-09-09 17:49:55.038298</td>\n",
       "      <td>2023-09-09 17:52:47.160132</td>\n",
       "      <td>0 days 00:02:52.121834</td>\n",
       "      <td>0.90</td>\n",
       "      <td>0.001</td>\n",
       "      <td>8</td>\n",
       "      <td>6</td>\n",
       "      <td>923.017884</td>\n",
       "      <td>1.791531</td>\n",
       "      <td>0.50</td>\n",
       "      <td>COMPLETE</td>\n",
       "    </tr>\n",
       "    <tr>\n",
       "      <th>4</th>\n",
       "      <td>4</td>\n",
       "      <td>32.078356</td>\n",
       "      <td>2023-09-09 17:52:47.161132</td>\n",
       "      <td>2023-09-09 17:55:30.959088</td>\n",
       "      <td>0 days 00:02:43.797956</td>\n",
       "      <td>0.55</td>\n",
       "      <td>0.001</td>\n",
       "      <td>9</td>\n",
       "      <td>4</td>\n",
       "      <td>1222.942626</td>\n",
       "      <td>33.787011</td>\n",
       "      <td>0.80</td>\n",
       "      <td>COMPLETE</td>\n",
       "    </tr>\n",
       "  </tbody>\n",
       "</table>\n",
       "</div>"
      ],
      "text/plain": [
       "   number      value             datetime_start          datetime_complete  \\\n",
       "0       0  31.266807 2023-09-09 17:41:16.942406 2023-09-09 17:44:39.270055   \n",
       "1       1  32.478505 2023-09-09 17:44:39.272055 2023-09-09 17:46:37.095638   \n",
       "2       2  31.902240 2023-09-09 17:46:37.097639 2023-09-09 17:49:55.037298   \n",
       "3       3  31.916297 2023-09-09 17:49:55.038298 2023-09-09 17:52:47.160132   \n",
       "4       4  32.078356 2023-09-09 17:52:47.161132 2023-09-09 17:55:30.959088   \n",
       "\n",
       "                duration  params_colsample_bytree  params_learning_rate  \\\n",
       "0 0 days 00:03:22.327649                     0.75                 0.003   \n",
       "1 0 days 00:01:57.823583                     0.50                 0.001   \n",
       "2 0 days 00:03:17.939659                     0.85                 0.003   \n",
       "3 0 days 00:02:52.121834                     0.90                 0.001   \n",
       "4 0 days 00:02:43.797956                     0.55                 0.001   \n",
       "\n",
       "   params_max_depth  params_min_child_weight  params_reg_alpha  \\\n",
       "0                 8                        8        155.677541   \n",
       "1                 7                        5       2925.053611   \n",
       "2                 8                        6        781.062086   \n",
       "3                 8                        6        923.017884   \n",
       "4                 9                        4       1222.942626   \n",
       "\n",
       "   params_reg_lambda  params_subsample     state  \n",
       "0         165.300325              0.80  COMPLETE  \n",
       "1           1.556728              0.70  COMPLETE  \n",
       "2        1423.391420              0.65  COMPLETE  \n",
       "3           1.791531              0.50  COMPLETE  \n",
       "4          33.787011              0.80  COMPLETE  "
      ]
     },
     "execution_count": 50,
     "metadata": {},
     "output_type": "execute_result"
    }
   ],
   "source": [
    "study.trials_dataframe().head()"
   ]
  },
  {
   "cell_type": "code",
   "execution_count": 51,
   "metadata": {},
   "outputs": [
    {
     "data": {
      "image/png": "[encoded data removed]",
      "text/plain": [
       "<Figure size 1200x800 with 7 Axes>"
      ]
     },
     "metadata": {},
     "output_type": "display_data"
    }
   ],
   "source": [
    "df_study = study.trials_dataframe()\n",
    "\n",
    "study_cols = ['params_colsample_bytree', 'params_learning_rate', 'params_max_depth',\n",
    "       'params_min_child_weight', 'params_reg_alpha', 'params_reg_lambda',\n",
    "       'params_subsample']\n",
    "\n",
    "sns.set_style(\"whitegrid\")\n",
    "plt.figure(figsize=(12, 8))\n",
    "\n",
    "for i, col in enumerate(study_cols, 1):\n",
    "    plt.subplot(3, 3, i)\n",
    "    sns.histplot(df_study[col], bins=30, color='skyblue', kde=True)\n",
    "    plt.xlabel(col)\n",
    "    plt.ylabel('Frequency')\n",
    "\n",
    "plt.tight_layout()\n",
    "plt.show()"
   ]
  },
  {
   "cell_type": "code",
   "execution_count": 52,
   "metadata": {},
   "outputs": [
    {
     "data": {
      "application/vnd.plotly.v1+json": {
       "config": {
        "plotlyServerURL": "https://plot.ly"
       },
       "data": [
        {
         "mode": "markers",
         "name": "Objective Value",
         "type": "scatter",
         "x": [
          0,
          1,
          2,
          3,
          4,
          5,
          6,
          7,
          8,
          9,
          10,
          11,
          12,
          13,
          14,
          15,
          16,
          17,
          18,
          19,
          20,
          21,
          22,
          23,
          24,
          25,
          26,
          27,
          28,
          29,
          30,
          31,
          32,
          33,
          34,
          35,
          36,
          37,
          38,
          39,
          40,
          41,
          42,
          43,
          44,
          45,
          46,
          47,
          48,
          49
         ],
         "y": [
          31.26680684964206,
          32.47850501129974,
          31.90224018614432,
          31.916297372833466,
          32.07835601912587,
          38.101756359955324,
          31.9251562654726,
          30.919953765828673,
          30.969581957003136,
          31.196522656990005,
          31.093990224875117,
          30.92170443552372,
          30.8669326100444,
          30.758579805845173,
          30.89925073593036,
          30.79435774176959,
          30.934499111392235,
          30.76921334138083,
          32.827653808328606,
          30.80309828756008,
          30.854547210924114,
          30.769607972108428,
          30.721753320230928,
          30.7397808333149,
          30.760690398181197,
          30.815644423874634,
          30.867605354217858,
          30.80807360275055,
          30.795362633456673,
          30.886492237555586,
          30.975994042739508,
          30.77903944449801,
          30.768338524187428,
          30.76993496711526,
          30.74292359452828,
          31.35185031730962,
          30.89771869330552,
          30.903562573006518,
          30.777350184683314,
          30.870226165663,
          30.747300085763193,
          30.75497133779496,
          30.760894456917253,
          30.96077670067631,
          31.162330109323168,
          30.825103393666872,
          30.737304954960724,
          30.664994723308546,
          30.67067244690095,
          30.808952784798628
         ]
        },
        {
         "mode": "lines",
         "name": "Best Value",
         "type": "scatter",
         "x": [
          0,
          1,
          2,
          3,
          4,
          5,
          6,
          7,
          8,
          9,
          10,
          11,
          12,
          13,
          14,
          15,
          16,
          17,
          18,
          19,
          20,
          21,
          22,
          23,
          24,
          25,
          26,
          27,
          28,
          29,
          30,
          31,
          32,
          33,
          34,
          35,
          36,
          37,
          38,
          39,
          40,
          41,
          42,
          43,
          44,
          45,
          46,
          47,
          48,
          49
         ],
         "y": [
          31.26680684964206,
          31.26680684964206,
          31.26680684964206,
          31.26680684964206,
          31.26680684964206,
          31.26680684964206,
          31.26680684964206,
          30.919953765828673,
          30.919953765828673,
          30.919953765828673,
          30.919953765828673,
          30.919953765828673,
          30.8669326100444,
          30.758579805845173,
          30.758579805845173,
          30.758579805845173,
          30.758579805845173,
          30.758579805845173,
          30.758579805845173,
          30.758579805845173,
          30.758579805845173,
          30.758579805845173,
          30.721753320230928,
          30.721753320230928,
          30.721753320230928,
          30.721753320230928,
          30.721753320230928,
          30.721753320230928,
          30.721753320230928,
          30.721753320230928,
          30.721753320230928,
          30.721753320230928,
          30.721753320230928,
          30.721753320230928,
          30.721753320230928,
          30.721753320230928,
          30.721753320230928,
          30.721753320230928,
          30.721753320230928,
          30.721753320230928,
          30.721753320230928,
          30.721753320230928,
          30.721753320230928,
          30.721753320230928,
          30.721753320230928,
          30.721753320230928,
          30.721753320230928,
          30.664994723308546,
          30.664994723308546,
          30.664994723308546
         ]
        },
        {
         "marker": {
          "color": "#cccccc"
         },
         "mode": "markers",
         "name": "Infeasible Trial",
         "showlegend": false,
         "type": "scatter",
         "x": [],
         "y": []
        }
       ],
       "layout": {
        "template": {
         "data": {
          "bar": [
           {
            "error_x": {
             "color": "#2a3f5f"
            },
            "error_y": {
             "color": "#2a3f5f"
            },
            "marker": {
             "line": {
              "color": "#E5ECF6",
              "width": 0.5
             },
             "pattern": {
              "fillmode": "overlay",
              "size": 10,
              "solidity": 0.2
             }
            },
            "type": "bar"
           }
          ],
          "barpolar": [
           {
            "marker": {
             "line": {
              "color": "#E5ECF6",
              "width": 0.5
             },
             "pattern": {
              "fillmode": "overlay",
              "size": 10,
              "solidity": 0.2
             }
            },
            "type": "barpolar"
           }
          ],
          "carpet": [
           {
            "aaxis": {
             "endlinecolor": "#2a3f5f",
             "gridcolor": "white",
             "linecolor": "white",
             "minorgridcolor": "white",
             "startlinecolor": "#2a3f5f"
            },
            "baxis": {
             "endlinecolor": "#2a3f5f",
             "gridcolor": "white",
             "linecolor": "white",
             "minorgridcolor": "white",
             "startlinecolor": "#2a3f5f"
            },
            "type": "carpet"
           }
          ],
          "choropleth": [
           {
            "colorbar": {
             "outlinewidth": 0,
             "ticks": ""
            },
            "type": "choropleth"
           }
          ],
          "contour": [
           {
            "colorbar": {
             "outlinewidth": 0,
             "ticks": ""
            },
            "colorscale": [
             [
              0,
              "#0d0887"
             ],
             [
              0.1111111111111111,
              "#46039f"
             ],
             [
              0.2222222222222222,
              "#7201a8"
             ],
             [
              0.3333333333333333,
              "#9c179e"
             ],
             [
              0.4444444444444444,
              "#bd3786"
             ],
             [
              0.5555555555555556,
              "#d8576b"
             ],
             [
              0.6666666666666666,
              "#ed7953"
             ],
             [
              0.7777777777777778,
              "#fb9f3a"
             ],
             [
              0.8888888888888888,
              "#fdca26"
             ],
             [
              1,
              "#f0f921"
             ]
            ],
            "type": "contour"
           }
          ],
          "contourcarpet": [
           {
            "colorbar": {
             "outlinewidth": 0,
             "ticks": ""
            },
            "type": "contourcarpet"
           }
          ],
          "heatmap": [
           {
            "colorbar": {
             "outlinewidth": 0,
             "ticks": ""
            },
            "colorscale": [
             [
              0,
              "#0d0887"
             ],
             [
              0.1111111111111111,
              "#46039f"
             ],
             [
              0.2222222222222222,
              "#7201a8"
             ],
             [
              0.3333333333333333,
              "#9c179e"
             ],
             [
              0.4444444444444444,
              "#bd3786"
             ],
             [
              0.5555555555555556,
              "#d8576b"
             ],
             [
              0.6666666666666666,
              "#ed7953"
             ],
             [
              0.7777777777777778,
              "#fb9f3a"
             ],
             [
              0.8888888888888888,
              "#fdca26"
             ],
             [
              1,
              "#f0f921"
             ]
            ],
            "type": "heatmap"
           }
          ],
          "heatmapgl": [
           {
            "colorbar": {
             "outlinewidth": 0,
             "ticks": ""
            },
            "colorscale": [
             [
              0,
              "#0d0887"
             ],
             [
              0.1111111111111111,
              "#46039f"
             ],
             [
              0.2222222222222222,
              "#7201a8"
             ],
             [
              0.3333333333333333,
              "#9c179e"
             ],
             [
              0.4444444444444444,
              "#bd3786"
             ],
             [
              0.5555555555555556,
              "#d8576b"
             ],
             [
              0.6666666666666666,
              "#ed7953"
             ],
             [
              0.7777777777777778,
              "#fb9f3a"
             ],
             [
              0.8888888888888888,
              "#fdca26"
             ],
             [
              1,
              "#f0f921"
             ]
            ],
            "type": "heatmapgl"
           }
          ],
          "histogram": [
           {
            "marker": {
             "pattern": {
              "fillmode": "overlay",
              "size": 10,
              "solidity": 0.2
             }
            },
            "type": "histogram"
           }
          ],
          "histogram2d": [
           {
            "colorbar": {
             "outlinewidth": 0,
             "ticks": ""
            },
            "colorscale": [
             [
              0,
              "#0d0887"
             ],
             [
              0.1111111111111111,
              "#46039f"
             ],
             [
              0.2222222222222222,
              "#7201a8"
             ],
             [
              0.3333333333333333,
              "#9c179e"
             ],
             [
              0.4444444444444444,
              "#bd3786"
             ],
             [
              0.5555555555555556,
              "#d8576b"
             ],
             [
              0.6666666666666666,
              "#ed7953"
             ],
             [
              0.7777777777777778,
              "#fb9f3a"
             ],
             [
              0.8888888888888888,
              "#fdca26"
             ],
             [
              1,
              "#f0f921"
             ]
            ],
            "type": "histogram2d"
           }
          ],
          "histogram2dcontour": [
           {
            "colorbar": {
             "outlinewidth": 0,
             "ticks": ""
            },
            "colorscale": [
             [
              0,
              "#0d0887"
             ],
             [
              0.1111111111111111,
              "#46039f"
             ],
             [
              0.2222222222222222,
              "#7201a8"
             ],
             [
              0.3333333333333333,
              "#9c179e"
             ],
             [
              0.4444444444444444,
              "#bd3786"
             ],
             [
              0.5555555555555556,
              "#d8576b"
             ],
             [
              0.6666666666666666,
              "#ed7953"
             ],
             [
              0.7777777777777778,
              "#fb9f3a"
             ],
             [
              0.8888888888888888,
              "#fdca26"
             ],
             [
              1,
              "#f0f921"
             ]
            ],
            "type": "histogram2dcontour"
           }
          ],
          "mesh3d": [
           {
            "colorbar": {
             "outlinewidth": 0,
             "ticks": ""
            },
            "type": "mesh3d"
           }
          ],
          "parcoords": [
           {
            "line": {
             "colorbar": {
              "outlinewidth": 0,
              "ticks": ""
             }
            },
            "type": "parcoords"
           }
          ],
          "pie": [
           {
            "automargin": true,
            "type": "pie"
           }
          ],
          "scatter": [
           {
            "fillpattern": {
             "fillmode": "overlay",
             "size": 10,
             "solidity": 0.2
            },
            "type": "scatter"
           }
          ],
          "scatter3d": [
           {
            "line": {
             "colorbar": {
              "outlinewidth": 0,
              "ticks": ""
             }
            },
            "marker": {
             "colorbar": {
              "outlinewidth": 0,
              "ticks": ""
             }
            },
            "type": "scatter3d"
           }
          ],
          "scattercarpet": [
           {
            "marker": {
             "colorbar": {
              "outlinewidth": 0,
              "ticks": ""
             }
            },
            "type": "scattercarpet"
           }
          ],
          "scattergeo": [
           {
            "marker": {
             "colorbar": {
              "outlinewidth": 0,
              "ticks": ""
             }
            },
            "type": "scattergeo"
           }
          ],
          "scattergl": [
           {
            "marker": {
             "colorbar": {
              "outlinewidth": 0,
              "ticks": ""
             }
            },
            "type": "scattergl"
           }
          ],
          "scattermapbox": [
           {
            "marker": {
             "colorbar": {
              "outlinewidth": 0,
              "ticks": ""
             }
            },
            "type": "scattermapbox"
           }
          ],
          "scatterpolar": [
           {
            "marker": {
             "colorbar": {
              "outlinewidth": 0,
              "ticks": ""
             }
            },
            "type": "scatterpolar"
           }
          ],
          "scatterpolargl": [
           {
            "marker": {
             "colorbar": {
              "outlinewidth": 0,
              "ticks": ""
             }
            },
            "type": "scatterpolargl"
           }
          ],
          "scatterternary": [
           {
            "marker": {
             "colorbar": {
              "outlinewidth": 0,
              "ticks": ""
             }
            },
            "type": "scatterternary"
           }
          ],
          "surface": [
           {
            "colorbar": {
             "outlinewidth": 0,
             "ticks": ""
            },
            "colorscale": [
             [
              0,
              "#0d0887"
             ],
             [
              0.1111111111111111,
              "#46039f"
             ],
             [
              0.2222222222222222,
              "#7201a8"
             ],
             [
              0.3333333333333333,
              "#9c179e"
             ],
             [
              0.4444444444444444,
              "#bd3786"
             ],
             [
              0.5555555555555556,
              "#d8576b"
             ],
             [
              0.6666666666666666,
              "#ed7953"
             ],
             [
              0.7777777777777778,
              "#fb9f3a"
             ],
             [
              0.8888888888888888,
              "#fdca26"
             ],
             [
              1,
              "#f0f921"
             ]
            ],
            "type": "surface"
           }
          ],
          "table": [
           {
            "cells": {
             "fill": {
              "color": "#EBF0F8"
             },
             "line": {
              "color": "white"
             }
            },
            "header": {
             "fill": {
              "color": "#C8D4E3"
             },
             "line": {
              "color": "white"
             }
            },
            "type": "table"
           }
          ]
         },
         "layout": {
          "annotationdefaults": {
           "arrowcolor": "#2a3f5f",
           "arrowhead": 0,
           "arrowwidth": 1
          },
          "autotypenumbers": "strict",
          "coloraxis": {
           "colorbar": {
            "outlinewidth": 0,
            "ticks": ""
           }
          },
          "colorscale": {
           "diverging": [
            [
             0,
             "#8e0152"
            ],
            [
             0.1,
             "#c51b7d"
            ],
            [
             0.2,
             "#de77ae"
            ],
            [
             0.3,
             "#f1b6da"
            ],
            [
             0.4,
             "#fde0ef"
            ],
            [
             0.5,
             "#f7f7f7"
            ],
            [
             0.6,
             "#e6f5d0"
            ],
            [
             0.7,
             "#b8e186"
            ],
            [
             0.8,
             "#7fbc41"
            ],
            [
             0.9,
             "#4d9221"
            ],
            [
             1,
             "#276419"
            ]
           ],
           "sequential": [
            [
             0,
             "#0d0887"
            ],
            [
             0.1111111111111111,
             "#46039f"
            ],
            [
             0.2222222222222222,
             "#7201a8"
            ],
            [
             0.3333333333333333,
             "#9c179e"
            ],
            [
             0.4444444444444444,
             "#bd3786"
            ],
            [
             0.5555555555555556,
             "#d8576b"
            ],
            [
             0.6666666666666666,
             "#ed7953"
            ],
            [
             0.7777777777777778,
             "#fb9f3a"
            ],
            [
             0.8888888888888888,
             "#fdca26"
            ],
            [
             1,
             "#f0f921"
            ]
           ],
           "sequentialminus": [
            [
             0,
             "#0d0887"
            ],
            [
             0.1111111111111111,
             "#46039f"
            ],
            [
             0.2222222222222222,
             "#7201a8"
            ],
            [
             0.3333333333333333,
             "#9c179e"
            ],
            [
             0.4444444444444444,
             "#bd3786"
            ],
            [
             0.5555555555555556,
             "#d8576b"
            ],
            [
             0.6666666666666666,
             "#ed7953"
            ],
            [
             0.7777777777777778,
             "#fb9f3a"
            ],
            [
             0.8888888888888888,
             "#fdca26"
            ],
            [
             1,
             "#f0f921"
            ]
           ]
          },
          "colorway": [
           "#636efa",
           "#EF553B",
           "#00cc96",
           "#ab63fa",
           "#FFA15A",
           "#19d3f3",
           "#FF6692",
           "#B6E880",
           "#FF97FF",
           "#FECB52"
          ],
          "font": {
           "color": "#2a3f5f"
          },
          "geo": {
           "bgcolor": "white",
           "lakecolor": "white",
           "landcolor": "#E5ECF6",
           "showlakes": true,
           "showland": true,
           "subunitcolor": "white"
          },
          "hoverlabel": {
           "align": "left"
          },
          "hovermode": "closest",
          "mapbox": {
           "style": "light"
          },
          "paper_bgcolor": "white",
          "plot_bgcolor": "#E5ECF6",
          "polar": {
           "angularaxis": {
            "gridcolor": "white",
            "linecolor": "white",
            "ticks": ""
           },
           "bgcolor": "#E5ECF6",
           "radialaxis": {
            "gridcolor": "white",
            "linecolor": "white",
            "ticks": ""
           }
          },
          "scene": {
           "xaxis": {
            "backgroundcolor": "#E5ECF6",
            "gridcolor": "white",
            "gridwidth": 2,
            "linecolor": "white",
            "showbackground": true,
            "ticks": "",
            "zerolinecolor": "white"
           },
           "yaxis": {
            "backgroundcolor": "#E5ECF6",
            "gridcolor": "white",
            "gridwidth": 2,
            "linecolor": "white",
            "showbackground": true,
            "ticks": "",
            "zerolinecolor": "white"
           },
           "zaxis": {
            "backgroundcolor": "#E5ECF6",
            "gridcolor": "white",
            "gridwidth": 2,
            "linecolor": "white",
            "showbackground": true,
            "ticks": "",
            "zerolinecolor": "white"
           }
          },
          "shapedefaults": {
           "line": {
            "color": "#2a3f5f"
           }
          },
          "ternary": {
           "aaxis": {
            "gridcolor": "white",
            "linecolor": "white",
            "ticks": ""
           },
           "baxis": {
            "gridcolor": "white",
            "linecolor": "white",
            "ticks": ""
           },
           "bgcolor": "#E5ECF6",
           "caxis": {
            "gridcolor": "white",
            "linecolor": "white",
            "ticks": ""
           }
          },
          "title": {
           "x": 0.05
          },
          "xaxis": {
           "automargin": true,
           "gridcolor": "white",
           "linecolor": "white",
           "ticks": "",
           "title": {
            "standoff": 15
           },
           "zerolinecolor": "white",
           "zerolinewidth": 2
          },
          "yaxis": {
           "automargin": true,
           "gridcolor": "white",
           "linecolor": "white",
           "ticks": "",
           "title": {
            "standoff": 15
           },
           "zerolinecolor": "white",
           "zerolinewidth": 2
          }
         }
        },
        "title": {
         "text": "Optimization History Plot"
        },
        "xaxis": {
         "title": {
          "text": "Trial"
         }
        },
        "yaxis": {
         "title": {
          "text": "Objective Value"
         }
        }
       }
      }
     },
     "metadata": {},
     "output_type": "display_data"
    }
   ],
   "source": [
    "optuna.visualization.plot_optimization_history(study)"
   ]
  },
  {
   "cell_type": "code",
   "execution_count": 53,
   "metadata": {},
   "outputs": [
    {
     "data": {
      "application/vnd.plotly.v1+json": {
       "config": {
        "plotlyServerURL": "https://plot.ly"
       },
       "data": [
        {
         "cliponaxis": false,
         "hovertemplate": [
          "subsample (FloatDistribution): 0.010026257240500302<extra></extra>",
          "learning_rate (FloatDistribution): 0.013764494322696113<extra></extra>",
          "colsample_bytree (FloatDistribution): 0.01682994339649253<extra></extra>",
          "min_child_weight (IntDistribution): 0.11884239544942533<extra></extra>",
          "reg_alpha (FloatDistribution): 0.18580040726591665<extra></extra>",
          "max_depth (IntDistribution): 0.19956872340718657<extra></extra>",
          "reg_lambda (FloatDistribution): 0.4551677789177825<extra></extra>"
         ],
         "marker": {
          "color": "rgb(66,146,198)"
         },
         "orientation": "h",
         "text": [
          "0.01",
          "0.01",
          "0.02",
          "0.12",
          "0.19",
          "0.20",
          "0.46"
         ],
         "textposition": "outside",
         "type": "bar",
         "x": [
          0.010026257240500302,
          0.013764494322696113,
          0.01682994339649253,
          0.11884239544942533,
          0.18580040726591665,
          0.19956872340718657,
          0.4551677789177825
         ],
         "y": [
          "subsample",
          "learning_rate",
          "colsample_bytree",
          "min_child_weight",
          "reg_alpha",
          "max_depth",
          "reg_lambda"
         ]
        }
       ],
       "layout": {
        "showlegend": false,
        "template": {
         "data": {
          "bar": [
           {
            "error_x": {
             "color": "#2a3f5f"
            },
            "error_y": {
             "color": "#2a3f5f"
            },
            "marker": {
             "line": {
              "color": "#E5ECF6",
              "width": 0.5
             },
             "pattern": {
              "fillmode": "overlay",
              "size": 10,
              "solidity": 0.2
             }
            },
            "type": "bar"
           }
          ],
          "barpolar": [
           {
            "marker": {
             "line": {
              "color": "#E5ECF6",
              "width": 0.5
             },
             "pattern": {
              "fillmode": "overlay",
              "size": 10,
              "solidity": 0.2
             }
            },
            "type": "barpolar"
           }
          ],
          "carpet": [
           {
            "aaxis": {
             "endlinecolor": "#2a3f5f",
             "gridcolor": "white",
             "linecolor": "white",
             "minorgridcolor": "white",
             "startlinecolor": "#2a3f5f"
            },
            "baxis": {
             "endlinecolor": "#2a3f5f",
             "gridcolor": "white",
             "linecolor": "white",
             "minorgridcolor": "white",
             "startlinecolor": "#2a3f5f"
            },
            "type": "carpet"
           }
          ],
          "choropleth": [
           {
            "colorbar": {
             "outlinewidth": 0,
             "ticks": ""
            },
            "type": "choropleth"
           }
          ],
          "contour": [
           {
            "colorbar": {
             "outlinewidth": 0,
             "ticks": ""
            },
            "colorscale": [
             [
              0,
              "#0d0887"
             ],
             [
              0.1111111111111111,
              "#46039f"
             ],
             [
              0.2222222222222222,
              "#7201a8"
             ],
             [
              0.3333333333333333,
              "#9c179e"
             ],
             [
              0.4444444444444444,
              "#bd3786"
             ],
             [
              0.5555555555555556,
              "#d8576b"
             ],
             [
              0.6666666666666666,
              "#ed7953"
             ],
             [
              0.7777777777777778,
              "#fb9f3a"
             ],
             [
              0.8888888888888888,
              "#fdca26"
             ],
             [
              1,
              "#f0f921"
             ]
            ],
            "type": "contour"
           }
          ],
          "contourcarpet": [
           {
            "colorbar": {
             "outlinewidth": 0,
             "ticks": ""
            },
            "type": "contourcarpet"
           }
          ],
          "heatmap": [
           {
            "colorbar": {
             "outlinewidth": 0,
             "ticks": ""
            },
            "colorscale": [
             [
              0,
              "#0d0887"
             ],
             [
              0.1111111111111111,
              "#46039f"
             ],
             [
              0.2222222222222222,
              "#7201a8"
             ],
             [
              0.3333333333333333,
              "#9c179e"
             ],
             [
              0.4444444444444444,
              "#bd3786"
             ],
             [
              0.5555555555555556,
              "#d8576b"
             ],
             [
              0.6666666666666666,
              "#ed7953"
             ],
             [
              0.7777777777777778,
              "#fb9f3a"
             ],
             [
              0.8888888888888888,
              "#fdca26"
             ],
             [
              1,
              "#f0f921"
             ]
            ],
            "type": "heatmap"
           }
          ],
          "heatmapgl": [
           {
            "colorbar": {
             "outlinewidth": 0,
             "ticks": ""
            },
            "colorscale": [
             [
              0,
              "#0d0887"
             ],
             [
              0.1111111111111111,
              "#46039f"
             ],
             [
              0.2222222222222222,
              "#7201a8"
             ],
             [
              0.3333333333333333,
              "#9c179e"
             ],
             [
              0.4444444444444444,
              "#bd3786"
             ],
             [
              0.5555555555555556,
              "#d8576b"
             ],
             [
              0.6666666666666666,
              "#ed7953"
             ],
             [
              0.7777777777777778,
              "#fb9f3a"
             ],
             [
              0.8888888888888888,
              "#fdca26"
             ],
             [
              1,
              "#f0f921"
             ]
            ],
            "type": "heatmapgl"
           }
          ],
          "histogram": [
           {
            "marker": {
             "pattern": {
              "fillmode": "overlay",
              "size": 10,
              "solidity": 0.2
             }
            },
            "type": "histogram"
           }
          ],
          "histogram2d": [
           {
            "colorbar": {
             "outlinewidth": 0,
             "ticks": ""
            },
            "colorscale": [
             [
              0,
              "#0d0887"
             ],
             [
              0.1111111111111111,
              "#46039f"
             ],
             [
              0.2222222222222222,
              "#7201a8"
             ],
             [
              0.3333333333333333,
              "#9c179e"
             ],
             [
              0.4444444444444444,
              "#bd3786"
             ],
             [
              0.5555555555555556,
              "#d8576b"
             ],
             [
              0.6666666666666666,
              "#ed7953"
             ],
             [
              0.7777777777777778,
              "#fb9f3a"
             ],
             [
              0.8888888888888888,
              "#fdca26"
             ],
             [
              1,
              "#f0f921"
             ]
            ],
            "type": "histogram2d"
           }
          ],
          "histogram2dcontour": [
           {
            "colorbar": {
             "outlinewidth": 0,
             "ticks": ""
            },
            "colorscale": [
             [
              0,
              "#0d0887"
             ],
             [
              0.1111111111111111,
              "#46039f"
             ],
             [
              0.2222222222222222,
              "#7201a8"
             ],
             [
              0.3333333333333333,
              "#9c179e"
             ],
             [
              0.4444444444444444,
              "#bd3786"
             ],
             [
              0.5555555555555556,
              "#d8576b"
             ],
             [
              0.6666666666666666,
              "#ed7953"
             ],
             [
              0.7777777777777778,
              "#fb9f3a"
             ],
             [
              0.8888888888888888,
              "#fdca26"
             ],
             [
              1,
              "#f0f921"
             ]
            ],
            "type": "histogram2dcontour"
           }
          ],
          "mesh3d": [
           {
            "colorbar": {
             "outlinewidth": 0,
             "ticks": ""
            },
            "type": "mesh3d"
           }
          ],
          "parcoords": [
           {
            "line": {
             "colorbar": {
              "outlinewidth": 0,
              "ticks": ""
             }
            },
            "type": "parcoords"
           }
          ],
          "pie": [
           {
            "automargin": true,
            "type": "pie"
           }
          ],
          "scatter": [
           {
            "fillpattern": {
             "fillmode": "overlay",
             "size": 10,
             "solidity": 0.2
            },
            "type": "scatter"
           }
          ],
          "scatter3d": [
           {
            "line": {
             "colorbar": {
              "outlinewidth": 0,
              "ticks": ""
             }
            },
            "marker": {
             "colorbar": {
              "outlinewidth": 0,
              "ticks": ""
             }
            },
            "type": "scatter3d"
           }
          ],
          "scattercarpet": [
           {
            "marker": {
             "colorbar": {
              "outlinewidth": 0,
              "ticks": ""
             }
            },
            "type": "scattercarpet"
           }
          ],
          "scattergeo": [
           {
            "marker": {
             "colorbar": {
              "outlinewidth": 0,
              "ticks": ""
             }
            },
            "type": "scattergeo"
           }
          ],
          "scattergl": [
           {
            "marker": {
             "colorbar": {
              "outlinewidth": 0,
              "ticks": ""
             }
            },
            "type": "scattergl"
           }
          ],
          "scattermapbox": [
           {
            "marker": {
             "colorbar": {
              "outlinewidth": 0,
              "ticks": ""
             }
            },
            "type": "scattermapbox"
           }
          ],
          "scatterpolar": [
           {
            "marker": {
             "colorbar": {
              "outlinewidth": 0,
              "ticks": ""
             }
            },
            "type": "scatterpolar"
           }
          ],
          "scatterpolargl": [
           {
            "marker": {
             "colorbar": {
              "outlinewidth": 0,
              "ticks": ""
             }
            },
            "type": "scatterpolargl"
           }
          ],
          "scatterternary": [
           {
            "marker": {
             "colorbar": {
              "outlinewidth": 0,
              "ticks": ""
             }
            },
            "type": "scatterternary"
           }
          ],
          "surface": [
           {
            "colorbar": {
             "outlinewidth": 0,
             "ticks": ""
            },
            "colorscale": [
             [
              0,
              "#0d0887"
             ],
             [
              0.1111111111111111,
              "#46039f"
             ],
             [
              0.2222222222222222,
              "#7201a8"
             ],
             [
              0.3333333333333333,
              "#9c179e"
             ],
             [
              0.4444444444444444,
              "#bd3786"
             ],
             [
              0.5555555555555556,
              "#d8576b"
             ],
             [
              0.6666666666666666,
              "#ed7953"
             ],
             [
              0.7777777777777778,
              "#fb9f3a"
             ],
             [
              0.8888888888888888,
              "#fdca26"
             ],
             [
              1,
              "#f0f921"
             ]
            ],
            "type": "surface"
           }
          ],
          "table": [
           {
            "cells": {
             "fill": {
              "color": "#EBF0F8"
             },
             "line": {
              "color": "white"
             }
            },
            "header": {
             "fill": {
              "color": "#C8D4E3"
             },
             "line": {
              "color": "white"
             }
            },
            "type": "table"
           }
          ]
         },
         "layout": {
          "annotationdefaults": {
           "arrowcolor": "#2a3f5f",
           "arrowhead": 0,
           "arrowwidth": 1
          },
          "autotypenumbers": "strict",
          "coloraxis": {
           "colorbar": {
            "outlinewidth": 0,
            "ticks": ""
           }
          },
          "colorscale": {
           "diverging": [
            [
             0,
             "#8e0152"
            ],
            [
             0.1,
             "#c51b7d"
            ],
            [
             0.2,
             "#de77ae"
            ],
            [
             0.3,
             "#f1b6da"
            ],
            [
             0.4,
             "#fde0ef"
            ],
            [
             0.5,
             "#f7f7f7"
            ],
            [
             0.6,
             "#e6f5d0"
            ],
            [
             0.7,
             "#b8e186"
            ],
            [
             0.8,
             "#7fbc41"
            ],
            [
             0.9,
             "#4d9221"
            ],
            [
             1,
             "#276419"
            ]
           ],
           "sequential": [
            [
             0,
             "#0d0887"
            ],
            [
             0.1111111111111111,
             "#46039f"
            ],
            [
             0.2222222222222222,
             "#7201a8"
            ],
            [
             0.3333333333333333,
             "#9c179e"
            ],
            [
             0.4444444444444444,
             "#bd3786"
            ],
            [
             0.5555555555555556,
             "#d8576b"
            ],
            [
             0.6666666666666666,
             "#ed7953"
            ],
            [
             0.7777777777777778,
             "#fb9f3a"
            ],
            [
             0.8888888888888888,
             "#fdca26"
            ],
            [
             1,
             "#f0f921"
            ]
           ],
           "sequentialminus": [
            [
             0,
             "#0d0887"
            ],
            [
             0.1111111111111111,
             "#46039f"
            ],
            [
             0.2222222222222222,
             "#7201a8"
            ],
            [
             0.3333333333333333,
             "#9c179e"
            ],
            [
             0.4444444444444444,
             "#bd3786"
            ],
            [
             0.5555555555555556,
             "#d8576b"
            ],
            [
             0.6666666666666666,
             "#ed7953"
            ],
            [
             0.7777777777777778,
             "#fb9f3a"
            ],
            [
             0.8888888888888888,
             "#fdca26"
            ],
            [
             1,
             "#f0f921"
            ]
           ]
          },
          "colorway": [
           "#636efa",
           "#EF553B",
           "#00cc96",
           "#ab63fa",
           "#FFA15A",
           "#19d3f3",
           "#FF6692",
           "#B6E880",
           "#FF97FF",
           "#FECB52"
          ],
          "font": {
           "color": "#2a3f5f"
          },
          "geo": {
           "bgcolor": "white",
           "lakecolor": "white",
           "landcolor": "#E5ECF6",
           "showlakes": true,
           "showland": true,
           "subunitcolor": "white"
          },
          "hoverlabel": {
           "align": "left"
          },
          "hovermode": "closest",
          "mapbox": {
           "style": "light"
          },
          "paper_bgcolor": "white",
          "plot_bgcolor": "#E5ECF6",
          "polar": {
           "angularaxis": {
            "gridcolor": "white",
            "linecolor": "white",
            "ticks": ""
           },
           "bgcolor": "#E5ECF6",
           "radialaxis": {
            "gridcolor": "white",
            "linecolor": "white",
            "ticks": ""
           }
          },
          "scene": {
           "xaxis": {
            "backgroundcolor": "#E5ECF6",
            "gridcolor": "white",
            "gridwidth": 2,
            "linecolor": "white",
            "showbackground": true,
            "ticks": "",
            "zerolinecolor": "white"
           },
           "yaxis": {
            "backgroundcolor": "#E5ECF6",
            "gridcolor": "white",
            "gridwidth": 2,
            "linecolor": "white",
            "showbackground": true,
            "ticks": "",
            "zerolinecolor": "white"
           },
           "zaxis": {
            "backgroundcolor": "#E5ECF6",
            "gridcolor": "white",
            "gridwidth": 2,
            "linecolor": "white",
            "showbackground": true,
            "ticks": "",
            "zerolinecolor": "white"
           }
          },
          "shapedefaults": {
           "line": {
            "color": "#2a3f5f"
           }
          },
          "ternary": {
           "aaxis": {
            "gridcolor": "white",
            "linecolor": "white",
            "ticks": ""
           },
           "baxis": {
            "gridcolor": "white",
            "linecolor": "white",
            "ticks": ""
           },
           "bgcolor": "#E5ECF6",
           "caxis": {
            "gridcolor": "white",
            "linecolor": "white",
            "ticks": ""
           }
          },
          "title": {
           "x": 0.05
          },
          "xaxis": {
           "automargin": true,
           "gridcolor": "white",
           "linecolor": "white",
           "ticks": "",
           "title": {
            "standoff": 15
           },
           "zerolinecolor": "white",
           "zerolinewidth": 2
          },
          "yaxis": {
           "automargin": true,
           "gridcolor": "white",
           "linecolor": "white",
           "ticks": "",
           "title": {
            "standoff": 15
           },
           "zerolinecolor": "white",
           "zerolinewidth": 2
          }
         }
        },
        "title": {
         "text": "Hyperparameter Importances"
        },
        "xaxis": {
         "title": {
          "text": "Importance for Objective Value"
         }
        },
        "yaxis": {
         "title": {
          "text": "Hyperparameter"
         }
        }
       }
      }
     },
     "metadata": {},
     "output_type": "display_data"
    }
   ],
   "source": [
    "optuna.visualization.plot_param_importances(study)"
   ]
  },
  {
   "cell_type": "code",
   "execution_count": 54,
   "metadata": {},
   "outputs": [
    {
     "data": {
      "text/plain": [
       "{'reg_alpha': 0.3555899722763544,\n",
       " 'reg_lambda': 0.07267462902645146,\n",
       " 'colsample_bytree': 0.65,\n",
       " 'subsample': 0.75,\n",
       " 'learning_rate': 0.003,\n",
       " 'max_depth': 5,\n",
       " 'min_child_weight': 6,\n",
       " 'eval_metric': 'rmse',\n",
       " 'early_stopping_rounds': 300,\n",
       " 'random_state': 10,\n",
       " 'n_estimators': 3000,\n",
       " 'n_jobs': -1}"
      ]
     },
     "execution_count": 54,
     "metadata": {},
     "output_type": "execute_result"
    }
   ],
   "source": [
    "params=study.best_params\n",
    "params['eval_metric'] = 'rmse'\n",
    "params['early_stopping_rounds'] = 300\n",
    "params['random_state'] = 10\n",
    "params['n_estimators'] = 3000\n",
    "params['n_jobs'] = -1\n",
    "\n",
    "params"
   ]
  },
  {
   "cell_type": "code",
   "execution_count": 55,
   "metadata": {},
   "outputs": [
    {
     "name": "stdout",
     "output_type": "stream",
     "text": [
      "trial 1: 32.21509\n",
      "trial 2: 28.11907\n",
      "trial 3: 29.22001\n",
      "trial 4: 30.417\n",
      "trial 5: 30.6524\n",
      "trial 6: 31.53242\n",
      "trial 7: 30.62962\n",
      "trial 8: 31.5648\n",
      "trial 9: 30.60922\n",
      "trial 10: 32.12238\n",
      "trial 11: 32.24108\n",
      "trial 12: 30.02771\n",
      "trial 13: 32.68094\n",
      "trial 14: 32.35791\n",
      "trial 15: 29.89885\n",
      "trial 16: 30.10277\n",
      "trial 17: 30.10343\n",
      "trial 18: 27.79544\n",
      "trial 19: 28.4007\n",
      "trial 20: 28.90162\n",
      "trial 21: 32.47862\n",
      "trial 22: 30.99545\n",
      "trial 23: 31.17554\n",
      "trial 24: 31.16235\n",
      "trial 25: 32.45663\n",
      "trial 26: 31.668\n",
      "trial 27: 31.02688\n",
      "trial 28: 33.0657\n",
      "trial 29: 33.8676\n",
      "trial 30: 31.80343\n",
      "\n",
      "average: 30.97642\n"
     ]
    }
   ],
   "source": [
    "from sklearn.model_selection import KFold\n",
    "\n",
    "kf = KFold(n_splits=cross_val_times, random_state=42, shuffle=True)\n",
    "preds_HLM = np.zeros(df_test.shape[0])\n",
    "rmse=[]\n",
    "n=0\n",
    "\n",
    "def RMSE_expm1(y_pred, y_true):\n",
    "    return np.sqrt(np.mean(np.square(np.expm1(y_pred) - np.expm1(y_true))))\n",
    "\n",
    "for trn_idx, test_idx in kf.split(df_train, df_train_target_HLM):\n",
    "    X_tr, X_val=df_train.iloc[trn_idx], df_train.iloc[test_idx]\n",
    "    y_tr, y_val=df_train_target_HLM.iloc[trn_idx], df_train_target_HLM.iloc[test_idx]\n",
    "\n",
    "    model = XGBRegressor(**params)\n",
    "    model.fit(X_tr, y_tr, eval_set=[(X_val,y_val)], verbose=False)\n",
    "    preds_HLM+=model.predict(df_test)/kf.n_splits\n",
    "\n",
    "    if target_log_on_off == 'on':\n",
    "        rmse.append(RMSE_expm1(y_val, model.predict(X_val)))\n",
    "    else:\n",
    "        rmse.append(mean_squared_error(y_val, model.predict(X_val), squared=False))\n",
    "\n",
    "    print(f'trial {n+1}:', round(rmse[n], 5))\n",
    "    n+=1\n",
    "\n",
    "HLM_cv = round(np.mean(rmse), 5)\n",
    "print(f'\\naverage: {HLM_cv}')"
   ]
  },
  {
   "cell_type": "markdown",
   "metadata": {},
   "source": [
    "## export csv"
   ]
  },
  {
   "cell_type": "code",
   "execution_count": 56,
   "metadata": {},
   "outputs": [],
   "source": [
    "# 로그 변환 후 역변환\n",
    "if target_log_on_off == 'on':\n",
    "    df_sample['MLM'] = np.expm1(preds_MLM)\n",
    "    df_sample['HLM'] = np.expm1(preds_HLM)\n",
    "else:\n",
    "    df_sample['MLM'] = preds_MLM\n",
    "    df_sample['HLM'] = preds_HLM\n",
    "\n",
    "cv = round((MLM_cv + MLM_cv) / 2, 3)\n",
    "\n",
    "df_sample.to_csv(f\"./submission/submission_05_targetlog-{target_log_on_off}_study{num_of_study}_cv{cv}.csv\", index = False, encoding = \"utf-8-sig\")"
   ]
  },
  {
   "cell_type": "code",
   "execution_count": 57,
   "metadata": {},
   "outputs": [
    {
     "data": {
      "text/html": [
       "<div>\n",
       "<style scoped>\n",
       "    .dataframe tbody tr th:only-of-type {\n",
       "        vertical-align: middle;\n",
       "    }\n",
       "\n",
       "    .dataframe tbody tr th {\n",
       "        vertical-align: top;\n",
       "    }\n",
       "\n",
       "    .dataframe thead th {\n",
       "        text-align: right;\n",
       "    }\n",
       "</style>\n",
       "<table border=\"1\" class=\"dataframe\">\n",
       "  <thead>\n",
       "    <tr style=\"text-align: right;\">\n",
       "      <th></th>\n",
       "      <th>id</th>\n",
       "      <th>MLM</th>\n",
       "      <th>HLM</th>\n",
       "    </tr>\n",
       "  </thead>\n",
       "  <tbody>\n",
       "    <tr>\n",
       "      <th>0</th>\n",
       "      <td>TEST_000</td>\n",
       "      <td>25.597574</td>\n",
       "      <td>46.668645</td>\n",
       "    </tr>\n",
       "    <tr>\n",
       "      <th>1</th>\n",
       "      <td>TEST_001</td>\n",
       "      <td>56.822184</td>\n",
       "      <td>73.549127</td>\n",
       "    </tr>\n",
       "    <tr>\n",
       "      <th>2</th>\n",
       "      <td>TEST_002</td>\n",
       "      <td>35.903849</td>\n",
       "      <td>51.705095</td>\n",
       "    </tr>\n",
       "    <tr>\n",
       "      <th>3</th>\n",
       "      <td>TEST_003</td>\n",
       "      <td>45.294683</td>\n",
       "      <td>72.161092</td>\n",
       "    </tr>\n",
       "    <tr>\n",
       "      <th>4</th>\n",
       "      <td>TEST_004</td>\n",
       "      <td>68.435261</td>\n",
       "      <td>78.957750</td>\n",
       "    </tr>\n",
       "    <tr>\n",
       "      <th>...</th>\n",
       "      <td>...</td>\n",
       "      <td>...</td>\n",
       "      <td>...</td>\n",
       "    </tr>\n",
       "    <tr>\n",
       "      <th>478</th>\n",
       "      <td>TEST_478</td>\n",
       "      <td>18.119505</td>\n",
       "      <td>36.648254</td>\n",
       "    </tr>\n",
       "    <tr>\n",
       "      <th>479</th>\n",
       "      <td>TEST_479</td>\n",
       "      <td>75.976737</td>\n",
       "      <td>81.111672</td>\n",
       "    </tr>\n",
       "    <tr>\n",
       "      <th>480</th>\n",
       "      <td>TEST_480</td>\n",
       "      <td>52.026277</td>\n",
       "      <td>68.602254</td>\n",
       "    </tr>\n",
       "    <tr>\n",
       "      <th>481</th>\n",
       "      <td>TEST_481</td>\n",
       "      <td>64.158732</td>\n",
       "      <td>74.686266</td>\n",
       "    </tr>\n",
       "    <tr>\n",
       "      <th>482</th>\n",
       "      <td>TEST_482</td>\n",
       "      <td>24.927561</td>\n",
       "      <td>64.730703</td>\n",
       "    </tr>\n",
       "  </tbody>\n",
       "</table>\n",
       "<p>483 rows × 3 columns</p>\n",
       "</div>"
      ],
      "text/plain": [
       "           id        MLM        HLM\n",
       "0    TEST_000  25.597574  46.668645\n",
       "1    TEST_001  56.822184  73.549127\n",
       "2    TEST_002  35.903849  51.705095\n",
       "3    TEST_003  45.294683  72.161092\n",
       "4    TEST_004  68.435261  78.957750\n",
       "..        ...        ...        ...\n",
       "478  TEST_478  18.119505  36.648254\n",
       "479  TEST_479  75.976737  81.111672\n",
       "480  TEST_480  52.026277  68.602254\n",
       "481  TEST_481  64.158732  74.686266\n",
       "482  TEST_482  24.927561  64.730703\n",
       "\n",
       "[483 rows x 3 columns]"
      ]
     },
     "execution_count": 57,
     "metadata": {},
     "output_type": "execute_result"
    }
   ],
   "source": [
    "df_sample"
   ]
  }
 ],
 "metadata": {
  "kernelspec": {
   "display_name": "base",
   "language": "python",
   "name": "python3"
  },
  "language_info": {
   "codemirror_mode": {
    "name": "ipython",
    "version": 3
   },
   "file_extension": ".py",
   "mimetype": "text/x-python",
   "name": "python",
   "nbconvert_exporter": "python",
   "pygments_lexer": "ipython3",
   "version": "3.10.9"
  },
  "orig_nbformat": 4
 },
 "nbformat": 4,
 "nbformat_minor": 2
}
