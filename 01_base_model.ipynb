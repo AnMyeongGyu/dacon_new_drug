{
 "cells": [
  {
   "cell_type": "markdown",
   "metadata": {},
   "source": [
    "## data preprocessing"
   ]
  },
  {
   "cell_type": "code",
   "execution_count": 1,
   "metadata": {},
   "outputs": [],
   "source": [
    "import pandas as pd\n",
    "import numpy as np\n",
    "import matplotlib.pyplot as plt\n",
    "import seaborn as sns\n",
    "\n",
    "import warnings\n",
    "warnings.filterwarnings(\"ignore\")"
   ]
  },
  {
   "cell_type": "code",
   "execution_count": 2,
   "metadata": {},
   "outputs": [
    {
     "data": {
      "text/html": [
       "<div>\n",
       "<style scoped>\n",
       "    .dataframe tbody tr th:only-of-type {\n",
       "        vertical-align: middle;\n",
       "    }\n",
       "\n",
       "    .dataframe tbody tr th {\n",
       "        vertical-align: top;\n",
       "    }\n",
       "\n",
       "    .dataframe thead th {\n",
       "        text-align: right;\n",
       "    }\n",
       "</style>\n",
       "<table border=\"1\" class=\"dataframe\">\n",
       "  <thead>\n",
       "    <tr style=\"text-align: right;\">\n",
       "      <th></th>\n",
       "      <th>id</th>\n",
       "      <th>SMILES</th>\n",
       "      <th>MLM</th>\n",
       "      <th>HLM</th>\n",
       "      <th>AlogP</th>\n",
       "      <th>Molecular_Weight</th>\n",
       "      <th>Num_H_Acceptors</th>\n",
       "      <th>Num_H_Donors</th>\n",
       "      <th>Num_RotatableBonds</th>\n",
       "      <th>LogD</th>\n",
       "      <th>Molecular_PolarSurfaceArea</th>\n",
       "    </tr>\n",
       "  </thead>\n",
       "  <tbody>\n",
       "    <tr>\n",
       "      <th>0</th>\n",
       "      <td>TRAIN_0000</td>\n",
       "      <td>CCOc1ccc(CNC(=O)c2cc(-c3sc(C)nc3C)n[nH]2)cc1OCC</td>\n",
       "      <td>26.010</td>\n",
       "      <td>50.680</td>\n",
       "      <td>3.259</td>\n",
       "      <td>400.495</td>\n",
       "      <td>5</td>\n",
       "      <td>2</td>\n",
       "      <td>8</td>\n",
       "      <td>3.259</td>\n",
       "      <td>117.37</td>\n",
       "    </tr>\n",
       "    <tr>\n",
       "      <th>1</th>\n",
       "      <td>TRAIN_0001</td>\n",
       "      <td>Cc1nc(C)c(CN2CC(C)C(=O)Nc3ccccc32)s1</td>\n",
       "      <td>29.270</td>\n",
       "      <td>50.590</td>\n",
       "      <td>2.169</td>\n",
       "      <td>301.407</td>\n",
       "      <td>2</td>\n",
       "      <td>1</td>\n",
       "      <td>2</td>\n",
       "      <td>2.172</td>\n",
       "      <td>73.47</td>\n",
       "    </tr>\n",
       "    <tr>\n",
       "      <th>2</th>\n",
       "      <td>TRAIN_0002</td>\n",
       "      <td>CCCN1CCN(c2nn3nnnc3c3ccccc23)CC1</td>\n",
       "      <td>5.586</td>\n",
       "      <td>80.892</td>\n",
       "      <td>1.593</td>\n",
       "      <td>297.358</td>\n",
       "      <td>5</td>\n",
       "      <td>0</td>\n",
       "      <td>3</td>\n",
       "      <td>1.585</td>\n",
       "      <td>62.45</td>\n",
       "    </tr>\n",
       "    <tr>\n",
       "      <th>3</th>\n",
       "      <td>TRAIN_0003</td>\n",
       "      <td>Cc1ccc(-c2ccc(-n3nc(C)c(S(=O)(=O)N4CCN(C5CCCCC...</td>\n",
       "      <td>5.710</td>\n",
       "      <td>2.000</td>\n",
       "      <td>4.771</td>\n",
       "      <td>494.652</td>\n",
       "      <td>6</td>\n",
       "      <td>0</td>\n",
       "      <td>5</td>\n",
       "      <td>3.475</td>\n",
       "      <td>92.60</td>\n",
       "    </tr>\n",
       "    <tr>\n",
       "      <th>4</th>\n",
       "      <td>TRAIN_0004</td>\n",
       "      <td>Cc1ccc2c(c1)N(C(=O)c1ccncc1)CC(C)O2</td>\n",
       "      <td>93.270</td>\n",
       "      <td>99.990</td>\n",
       "      <td>2.335</td>\n",
       "      <td>268.310</td>\n",
       "      <td>3</td>\n",
       "      <td>0</td>\n",
       "      <td>1</td>\n",
       "      <td>2.337</td>\n",
       "      <td>42.43</td>\n",
       "    </tr>\n",
       "    <tr>\n",
       "      <th>...</th>\n",
       "      <td>...</td>\n",
       "      <td>...</td>\n",
       "      <td>...</td>\n",
       "      <td>...</td>\n",
       "      <td>...</td>\n",
       "      <td>...</td>\n",
       "      <td>...</td>\n",
       "      <td>...</td>\n",
       "      <td>...</td>\n",
       "      <td>...</td>\n",
       "      <td>...</td>\n",
       "    </tr>\n",
       "    <tr>\n",
       "      <th>3493</th>\n",
       "      <td>TRAIN_3493</td>\n",
       "      <td>Cn1nc(CNC(=O)Cn2nc(C(F)(F)F)c3c2CCC3)c(Cl)c1Cl</td>\n",
       "      <td>1.556</td>\n",
       "      <td>3.079</td>\n",
       "      <td>3.409</td>\n",
       "      <td>396.195</td>\n",
       "      <td>3</td>\n",
       "      <td>1</td>\n",
       "      <td>5</td>\n",
       "      <td>3.409</td>\n",
       "      <td>64.74</td>\n",
       "    </tr>\n",
       "    <tr>\n",
       "      <th>3494</th>\n",
       "      <td>TRAIN_3494</td>\n",
       "      <td>CCn1[nH]cc/c1=N\\C(=O)c1nn(-c2ccccc2)c(=O)c2ccc...</td>\n",
       "      <td>35.560</td>\n",
       "      <td>47.630</td>\n",
       "      <td>1.912</td>\n",
       "      <td>359.381</td>\n",
       "      <td>4</td>\n",
       "      <td>1</td>\n",
       "      <td>3</td>\n",
       "      <td>1.844</td>\n",
       "      <td>77.37</td>\n",
       "    </tr>\n",
       "    <tr>\n",
       "      <th>3495</th>\n",
       "      <td>TRAIN_3495</td>\n",
       "      <td>CCOC(=O)CCCc1nc2cc(N)ccc2n1C</td>\n",
       "      <td>56.150</td>\n",
       "      <td>1.790</td>\n",
       "      <td>1.941</td>\n",
       "      <td>261.320</td>\n",
       "      <td>3</td>\n",
       "      <td>1</td>\n",
       "      <td>6</td>\n",
       "      <td>2.124</td>\n",
       "      <td>70.14</td>\n",
       "    </tr>\n",
       "    <tr>\n",
       "      <th>3496</th>\n",
       "      <td>TRAIN_3496</td>\n",
       "      <td>Nc1cc(C(=O)OCCC2CCOC2=O)cnc1Cl</td>\n",
       "      <td>0.030</td>\n",
       "      <td>2.770</td>\n",
       "      <td>0.989</td>\n",
       "      <td>284.696</td>\n",
       "      <td>5</td>\n",
       "      <td>1</td>\n",
       "      <td>5</td>\n",
       "      <td>0.989</td>\n",
       "      <td>91.51</td>\n",
       "    </tr>\n",
       "    <tr>\n",
       "      <th>3497</th>\n",
       "      <td>TRAIN_3497</td>\n",
       "      <td>COc1ccc(-c2nc(Cc3ccccc3)sc2C)cc1</td>\n",
       "      <td>0.450</td>\n",
       "      <td>2.650</td>\n",
       "      <td>4.321</td>\n",
       "      <td>295.399</td>\n",
       "      <td>2</td>\n",
       "      <td>0</td>\n",
       "      <td>4</td>\n",
       "      <td>4.321</td>\n",
       "      <td>50.36</td>\n",
       "    </tr>\n",
       "  </tbody>\n",
       "</table>\n",
       "<p>3498 rows × 11 columns</p>\n",
       "</div>"
      ],
      "text/plain": [
       "              id                                             SMILES     MLM  \\\n",
       "0     TRAIN_0000    CCOc1ccc(CNC(=O)c2cc(-c3sc(C)nc3C)n[nH]2)cc1OCC  26.010   \n",
       "1     TRAIN_0001               Cc1nc(C)c(CN2CC(C)C(=O)Nc3ccccc32)s1  29.270   \n",
       "2     TRAIN_0002                   CCCN1CCN(c2nn3nnnc3c3ccccc23)CC1   5.586   \n",
       "3     TRAIN_0003  Cc1ccc(-c2ccc(-n3nc(C)c(S(=O)(=O)N4CCN(C5CCCCC...   5.710   \n",
       "4     TRAIN_0004                Cc1ccc2c(c1)N(C(=O)c1ccncc1)CC(C)O2  93.270   \n",
       "...          ...                                                ...     ...   \n",
       "3493  TRAIN_3493     Cn1nc(CNC(=O)Cn2nc(C(F)(F)F)c3c2CCC3)c(Cl)c1Cl   1.556   \n",
       "3494  TRAIN_3494  CCn1[nH]cc/c1=N\\C(=O)c1nn(-c2ccccc2)c(=O)c2ccc...  35.560   \n",
       "3495  TRAIN_3495                       CCOC(=O)CCCc1nc2cc(N)ccc2n1C  56.150   \n",
       "3496  TRAIN_3496                     Nc1cc(C(=O)OCCC2CCOC2=O)cnc1Cl   0.030   \n",
       "3497  TRAIN_3497                   COc1ccc(-c2nc(Cc3ccccc3)sc2C)cc1   0.450   \n",
       "\n",
       "         HLM  AlogP  Molecular_Weight  Num_H_Acceptors  Num_H_Donors  \\\n",
       "0     50.680  3.259           400.495                5             2   \n",
       "1     50.590  2.169           301.407                2             1   \n",
       "2     80.892  1.593           297.358                5             0   \n",
       "3      2.000  4.771           494.652                6             0   \n",
       "4     99.990  2.335           268.310                3             0   \n",
       "...      ...    ...               ...              ...           ...   \n",
       "3493   3.079  3.409           396.195                3             1   \n",
       "3494  47.630  1.912           359.381                4             1   \n",
       "3495   1.790  1.941           261.320                3             1   \n",
       "3496   2.770  0.989           284.696                5             1   \n",
       "3497   2.650  4.321           295.399                2             0   \n",
       "\n",
       "      Num_RotatableBonds   LogD  Molecular_PolarSurfaceArea  \n",
       "0                      8  3.259                      117.37  \n",
       "1                      2  2.172                       73.47  \n",
       "2                      3  1.585                       62.45  \n",
       "3                      5  3.475                       92.60  \n",
       "4                      1  2.337                       42.43  \n",
       "...                  ...    ...                         ...  \n",
       "3493                   5  3.409                       64.74  \n",
       "3494                   3  1.844                       77.37  \n",
       "3495                   6  2.124                       70.14  \n",
       "3496                   5  0.989                       91.51  \n",
       "3497                   4  4.321                       50.36  \n",
       "\n",
       "[3498 rows x 11 columns]"
      ]
     },
     "execution_count": 2,
     "metadata": {},
     "output_type": "execute_result"
    }
   ],
   "source": [
    "df_train = pd.read_csv('./data/train.csv')\n",
    "df_train"
   ]
  },
  {
   "cell_type": "code",
   "execution_count": 3,
   "metadata": {},
   "outputs": [
    {
     "data": {
      "text/html": [
       "<div>\n",
       "<style scoped>\n",
       "    .dataframe tbody tr th:only-of-type {\n",
       "        vertical-align: middle;\n",
       "    }\n",
       "\n",
       "    .dataframe tbody tr th {\n",
       "        vertical-align: top;\n",
       "    }\n",
       "\n",
       "    .dataframe thead th {\n",
       "        text-align: right;\n",
       "    }\n",
       "</style>\n",
       "<table border=\"1\" class=\"dataframe\">\n",
       "  <thead>\n",
       "    <tr style=\"text-align: right;\">\n",
       "      <th></th>\n",
       "      <th>id</th>\n",
       "      <th>SMILES</th>\n",
       "      <th>AlogP</th>\n",
       "      <th>Molecular_Weight</th>\n",
       "      <th>Num_H_Acceptors</th>\n",
       "      <th>Num_H_Donors</th>\n",
       "      <th>Num_RotatableBonds</th>\n",
       "      <th>LogD</th>\n",
       "      <th>Molecular_PolarSurfaceArea</th>\n",
       "    </tr>\n",
       "  </thead>\n",
       "  <tbody>\n",
       "    <tr>\n",
       "      <th>0</th>\n",
       "      <td>TEST_000</td>\n",
       "      <td>CC(C)Nc1ccnc(N2CCN(Cc3cccs3)C(CCO)C2)n1</td>\n",
       "      <td>2.641</td>\n",
       "      <td>361.505</td>\n",
       "      <td>4</td>\n",
       "      <td>2</td>\n",
       "      <td>7</td>\n",
       "      <td>2.635</td>\n",
       "      <td>92.76</td>\n",
       "    </tr>\n",
       "    <tr>\n",
       "      <th>1</th>\n",
       "      <td>TEST_001</td>\n",
       "      <td>COc1cc(=O)n(-c2ccccc2)cc1C(=O)N1CCC2(CC1)OCCO2</td>\n",
       "      <td>0.585</td>\n",
       "      <td>370.399</td>\n",
       "      <td>5</td>\n",
       "      <td>0</td>\n",
       "      <td>3</td>\n",
       "      <td>0.585</td>\n",
       "      <td>68.31</td>\n",
       "    </tr>\n",
       "    <tr>\n",
       "      <th>2</th>\n",
       "      <td>TEST_002</td>\n",
       "      <td>Cc1cccc(NC(=N)/N=c2\\nc(O)c(Cc3ccccc3)c(C)[nH]2)c1</td>\n",
       "      <td>4.276</td>\n",
       "      <td>347.414</td>\n",
       "      <td>4</td>\n",
       "      <td>4</td>\n",
       "      <td>5</td>\n",
       "      <td>4.290</td>\n",
       "      <td>92.86</td>\n",
       "    </tr>\n",
       "    <tr>\n",
       "      <th>3</th>\n",
       "      <td>TEST_003</td>\n",
       "      <td>O=C(c1nc2ncccn2n1)N1CCCn2cc(-c3ccccc3)nc21</td>\n",
       "      <td>1.795</td>\n",
       "      <td>345.358</td>\n",
       "      <td>5</td>\n",
       "      <td>0</td>\n",
       "      <td>2</td>\n",
       "      <td>1.795</td>\n",
       "      <td>81.21</td>\n",
       "    </tr>\n",
       "    <tr>\n",
       "      <th>4</th>\n",
       "      <td>TEST_004</td>\n",
       "      <td>CCN1CCN(C(=O)c2cc3c(=O)n4cc(C)ccc4nc3n2C)CC1</td>\n",
       "      <td>1.219</td>\n",
       "      <td>353.418</td>\n",
       "      <td>4</td>\n",
       "      <td>0</td>\n",
       "      <td>2</td>\n",
       "      <td>0.169</td>\n",
       "      <td>61.15</td>\n",
       "    </tr>\n",
       "    <tr>\n",
       "      <th>...</th>\n",
       "      <td>...</td>\n",
       "      <td>...</td>\n",
       "      <td>...</td>\n",
       "      <td>...</td>\n",
       "      <td>...</td>\n",
       "      <td>...</td>\n",
       "      <td>...</td>\n",
       "      <td>...</td>\n",
       "      <td>...</td>\n",
       "    </tr>\n",
       "    <tr>\n",
       "      <th>478</th>\n",
       "      <td>TEST_478</td>\n",
       "      <td>CCc1noc(CC)c1CC(=O)NCC1(CC)CCCCC1</td>\n",
       "      <td>4.207</td>\n",
       "      <td>306.443</td>\n",
       "      <td>2</td>\n",
       "      <td>1</td>\n",
       "      <td>7</td>\n",
       "      <td>4.207</td>\n",
       "      <td>55.13</td>\n",
       "    </tr>\n",
       "    <tr>\n",
       "      <th>479</th>\n",
       "      <td>TEST_479</td>\n",
       "      <td>CC(=O)N1CCC2(CC1)OC(=O)C(C)=C2C(=O)N1CCN(C)CC1</td>\n",
       "      <td>-0.608</td>\n",
       "      <td>335.398</td>\n",
       "      <td>5</td>\n",
       "      <td>0</td>\n",
       "      <td>1</td>\n",
       "      <td>-1.736</td>\n",
       "      <td>70.16</td>\n",
       "    </tr>\n",
       "    <tr>\n",
       "      <th>480</th>\n",
       "      <td>TEST_480</td>\n",
       "      <td>CC(C)NC(=O)CN1C(=O)c2ccccc2N2C(=O)c3ccccc3C12</td>\n",
       "      <td>1.792</td>\n",
       "      <td>349.383</td>\n",
       "      <td>3</td>\n",
       "      <td>1</td>\n",
       "      <td>3</td>\n",
       "      <td>1.792</td>\n",
       "      <td>69.72</td>\n",
       "    </tr>\n",
       "    <tr>\n",
       "      <th>481</th>\n",
       "      <td>TEST_481</td>\n",
       "      <td>Cn1cc(Br)c(=O)c(NC(=O)c2ccc(O)cc2F)c1</td>\n",
       "      <td>0.790</td>\n",
       "      <td>341.132</td>\n",
       "      <td>3</td>\n",
       "      <td>2</td>\n",
       "      <td>2</td>\n",
       "      <td>0.423</td>\n",
       "      <td>69.64</td>\n",
       "    </tr>\n",
       "    <tr>\n",
       "      <th>482</th>\n",
       "      <td>TEST_482</td>\n",
       "      <td>CC(C)C(CCN1CCN(C)CC1)c1ccco1</td>\n",
       "      <td>2.782</td>\n",
       "      <td>250.380</td>\n",
       "      <td>2</td>\n",
       "      <td>0</td>\n",
       "      <td>5</td>\n",
       "      <td>0.606</td>\n",
       "      <td>19.62</td>\n",
       "    </tr>\n",
       "  </tbody>\n",
       "</table>\n",
       "<p>483 rows × 9 columns</p>\n",
       "</div>"
      ],
      "text/plain": [
       "           id                                             SMILES  AlogP  \\\n",
       "0    TEST_000            CC(C)Nc1ccnc(N2CCN(Cc3cccs3)C(CCO)C2)n1  2.641   \n",
       "1    TEST_001     COc1cc(=O)n(-c2ccccc2)cc1C(=O)N1CCC2(CC1)OCCO2  0.585   \n",
       "2    TEST_002  Cc1cccc(NC(=N)/N=c2\\nc(O)c(Cc3ccccc3)c(C)[nH]2)c1  4.276   \n",
       "3    TEST_003         O=C(c1nc2ncccn2n1)N1CCCn2cc(-c3ccccc3)nc21  1.795   \n",
       "4    TEST_004       CCN1CCN(C(=O)c2cc3c(=O)n4cc(C)ccc4nc3n2C)CC1  1.219   \n",
       "..        ...                                                ...    ...   \n",
       "478  TEST_478                  CCc1noc(CC)c1CC(=O)NCC1(CC)CCCCC1  4.207   \n",
       "479  TEST_479     CC(=O)N1CCC2(CC1)OC(=O)C(C)=C2C(=O)N1CCN(C)CC1 -0.608   \n",
       "480  TEST_480      CC(C)NC(=O)CN1C(=O)c2ccccc2N2C(=O)c3ccccc3C12  1.792   \n",
       "481  TEST_481              Cn1cc(Br)c(=O)c(NC(=O)c2ccc(O)cc2F)c1  0.790   \n",
       "482  TEST_482                       CC(C)C(CCN1CCN(C)CC1)c1ccco1  2.782   \n",
       "\n",
       "     Molecular_Weight  Num_H_Acceptors  Num_H_Donors  Num_RotatableBonds  \\\n",
       "0             361.505                4             2                   7   \n",
       "1             370.399                5             0                   3   \n",
       "2             347.414                4             4                   5   \n",
       "3             345.358                5             0                   2   \n",
       "4             353.418                4             0                   2   \n",
       "..                ...              ...           ...                 ...   \n",
       "478           306.443                2             1                   7   \n",
       "479           335.398                5             0                   1   \n",
       "480           349.383                3             1                   3   \n",
       "481           341.132                3             2                   2   \n",
       "482           250.380                2             0                   5   \n",
       "\n",
       "      LogD  Molecular_PolarSurfaceArea  \n",
       "0    2.635                       92.76  \n",
       "1    0.585                       68.31  \n",
       "2    4.290                       92.86  \n",
       "3    1.795                       81.21  \n",
       "4    0.169                       61.15  \n",
       "..     ...                         ...  \n",
       "478  4.207                       55.13  \n",
       "479 -1.736                       70.16  \n",
       "480  1.792                       69.72  \n",
       "481  0.423                       69.64  \n",
       "482  0.606                       19.62  \n",
       "\n",
       "[483 rows x 9 columns]"
      ]
     },
     "execution_count": 3,
     "metadata": {},
     "output_type": "execute_result"
    }
   ],
   "source": [
    "df_test = pd.read_csv('./data/test.csv')\n",
    "df_test"
   ]
  },
  {
   "cell_type": "code",
   "execution_count": 4,
   "metadata": {},
   "outputs": [
    {
     "data": {
      "text/html": [
       "<div>\n",
       "<style scoped>\n",
       "    .dataframe tbody tr th:only-of-type {\n",
       "        vertical-align: middle;\n",
       "    }\n",
       "\n",
       "    .dataframe tbody tr th {\n",
       "        vertical-align: top;\n",
       "    }\n",
       "\n",
       "    .dataframe thead th {\n",
       "        text-align: right;\n",
       "    }\n",
       "</style>\n",
       "<table border=\"1\" class=\"dataframe\">\n",
       "  <thead>\n",
       "    <tr style=\"text-align: right;\">\n",
       "      <th></th>\n",
       "      <th>id</th>\n",
       "      <th>MLM</th>\n",
       "      <th>HLM</th>\n",
       "    </tr>\n",
       "  </thead>\n",
       "  <tbody>\n",
       "    <tr>\n",
       "      <th>0</th>\n",
       "      <td>TEST_000</td>\n",
       "      <td>0</td>\n",
       "      <td>0</td>\n",
       "    </tr>\n",
       "    <tr>\n",
       "      <th>1</th>\n",
       "      <td>TEST_001</td>\n",
       "      <td>0</td>\n",
       "      <td>0</td>\n",
       "    </tr>\n",
       "    <tr>\n",
       "      <th>2</th>\n",
       "      <td>TEST_002</td>\n",
       "      <td>0</td>\n",
       "      <td>0</td>\n",
       "    </tr>\n",
       "    <tr>\n",
       "      <th>3</th>\n",
       "      <td>TEST_003</td>\n",
       "      <td>0</td>\n",
       "      <td>0</td>\n",
       "    </tr>\n",
       "    <tr>\n",
       "      <th>4</th>\n",
       "      <td>TEST_004</td>\n",
       "      <td>0</td>\n",
       "      <td>0</td>\n",
       "    </tr>\n",
       "    <tr>\n",
       "      <th>...</th>\n",
       "      <td>...</td>\n",
       "      <td>...</td>\n",
       "      <td>...</td>\n",
       "    </tr>\n",
       "    <tr>\n",
       "      <th>478</th>\n",
       "      <td>TEST_478</td>\n",
       "      <td>0</td>\n",
       "      <td>0</td>\n",
       "    </tr>\n",
       "    <tr>\n",
       "      <th>479</th>\n",
       "      <td>TEST_479</td>\n",
       "      <td>0</td>\n",
       "      <td>0</td>\n",
       "    </tr>\n",
       "    <tr>\n",
       "      <th>480</th>\n",
       "      <td>TEST_480</td>\n",
       "      <td>0</td>\n",
       "      <td>0</td>\n",
       "    </tr>\n",
       "    <tr>\n",
       "      <th>481</th>\n",
       "      <td>TEST_481</td>\n",
       "      <td>0</td>\n",
       "      <td>0</td>\n",
       "    </tr>\n",
       "    <tr>\n",
       "      <th>482</th>\n",
       "      <td>TEST_482</td>\n",
       "      <td>0</td>\n",
       "      <td>0</td>\n",
       "    </tr>\n",
       "  </tbody>\n",
       "</table>\n",
       "<p>483 rows × 3 columns</p>\n",
       "</div>"
      ],
      "text/plain": [
       "           id  MLM  HLM\n",
       "0    TEST_000    0    0\n",
       "1    TEST_001    0    0\n",
       "2    TEST_002    0    0\n",
       "3    TEST_003    0    0\n",
       "4    TEST_004    0    0\n",
       "..        ...  ...  ...\n",
       "478  TEST_478    0    0\n",
       "479  TEST_479    0    0\n",
       "480  TEST_480    0    0\n",
       "481  TEST_481    0    0\n",
       "482  TEST_482    0    0\n",
       "\n",
       "[483 rows x 3 columns]"
      ]
     },
     "execution_count": 4,
     "metadata": {},
     "output_type": "execute_result"
    }
   ],
   "source": [
    "df_sample = pd.read_csv('./data/sample_submission.csv')\n",
    "df_sample"
   ]
  },
  {
   "cell_type": "code",
   "execution_count": 5,
   "metadata": {},
   "outputs": [
    {
     "name": "stdout",
     "output_type": "stream",
     "text": [
      "train size : (3498, 10)\n"
     ]
    },
    {
     "data": {
      "text/html": [
       "<div>\n",
       "<style scoped>\n",
       "    .dataframe tbody tr th:only-of-type {\n",
       "        vertical-align: middle;\n",
       "    }\n",
       "\n",
       "    .dataframe tbody tr th {\n",
       "        vertical-align: top;\n",
       "    }\n",
       "\n",
       "    .dataframe thead th {\n",
       "        text-align: right;\n",
       "    }\n",
       "</style>\n",
       "<table border=\"1\" class=\"dataframe\">\n",
       "  <thead>\n",
       "    <tr style=\"text-align: right;\">\n",
       "      <th></th>\n",
       "      <th>MLM</th>\n",
       "      <th>HLM</th>\n",
       "      <th>SMILES</th>\n",
       "      <th>AlogP</th>\n",
       "      <th>Molecular_Weight</th>\n",
       "      <th>Num_H_Acceptors</th>\n",
       "      <th>Num_H_Donors</th>\n",
       "      <th>Num_RotatableBonds</th>\n",
       "      <th>LogD</th>\n",
       "      <th>Molecular_PolarSurfaceArea</th>\n",
       "    </tr>\n",
       "  </thead>\n",
       "  <tbody>\n",
       "    <tr>\n",
       "      <th>0</th>\n",
       "      <td>26.010</td>\n",
       "      <td>50.680</td>\n",
       "      <td>CCOc1ccc(CNC(=O)c2cc(-c3sc(C)nc3C)n[nH]2)cc1OCC</td>\n",
       "      <td>3.259</td>\n",
       "      <td>400.495</td>\n",
       "      <td>5</td>\n",
       "      <td>2</td>\n",
       "      <td>8</td>\n",
       "      <td>3.259</td>\n",
       "      <td>117.37</td>\n",
       "    </tr>\n",
       "    <tr>\n",
       "      <th>1</th>\n",
       "      <td>29.270</td>\n",
       "      <td>50.590</td>\n",
       "      <td>Cc1nc(C)c(CN2CC(C)C(=O)Nc3ccccc32)s1</td>\n",
       "      <td>2.169</td>\n",
       "      <td>301.407</td>\n",
       "      <td>2</td>\n",
       "      <td>1</td>\n",
       "      <td>2</td>\n",
       "      <td>2.172</td>\n",
       "      <td>73.47</td>\n",
       "    </tr>\n",
       "    <tr>\n",
       "      <th>2</th>\n",
       "      <td>5.586</td>\n",
       "      <td>80.892</td>\n",
       "      <td>CCCN1CCN(c2nn3nnnc3c3ccccc23)CC1</td>\n",
       "      <td>1.593</td>\n",
       "      <td>297.358</td>\n",
       "      <td>5</td>\n",
       "      <td>0</td>\n",
       "      <td>3</td>\n",
       "      <td>1.585</td>\n",
       "      <td>62.45</td>\n",
       "    </tr>\n",
       "    <tr>\n",
       "      <th>3</th>\n",
       "      <td>5.710</td>\n",
       "      <td>2.000</td>\n",
       "      <td>Cc1ccc(-c2ccc(-n3nc(C)c(S(=O)(=O)N4CCN(C5CCCCC...</td>\n",
       "      <td>4.771</td>\n",
       "      <td>494.652</td>\n",
       "      <td>6</td>\n",
       "      <td>0</td>\n",
       "      <td>5</td>\n",
       "      <td>3.475</td>\n",
       "      <td>92.60</td>\n",
       "    </tr>\n",
       "    <tr>\n",
       "      <th>4</th>\n",
       "      <td>93.270</td>\n",
       "      <td>99.990</td>\n",
       "      <td>Cc1ccc2c(c1)N(C(=O)c1ccncc1)CC(C)O2</td>\n",
       "      <td>2.335</td>\n",
       "      <td>268.310</td>\n",
       "      <td>3</td>\n",
       "      <td>0</td>\n",
       "      <td>1</td>\n",
       "      <td>2.337</td>\n",
       "      <td>42.43</td>\n",
       "    </tr>\n",
       "  </tbody>\n",
       "</table>\n",
       "</div>"
      ],
      "text/plain": [
       "      MLM     HLM                                             SMILES  AlogP  \\\n",
       "0  26.010  50.680    CCOc1ccc(CNC(=O)c2cc(-c3sc(C)nc3C)n[nH]2)cc1OCC  3.259   \n",
       "1  29.270  50.590               Cc1nc(C)c(CN2CC(C)C(=O)Nc3ccccc32)s1  2.169   \n",
       "2   5.586  80.892                   CCCN1CCN(c2nn3nnnc3c3ccccc23)CC1  1.593   \n",
       "3   5.710   2.000  Cc1ccc(-c2ccc(-n3nc(C)c(S(=O)(=O)N4CCN(C5CCCCC...  4.771   \n",
       "4  93.270  99.990                Cc1ccc2c(c1)N(C(=O)c1ccncc1)CC(C)O2  2.335   \n",
       "\n",
       "   Molecular_Weight  Num_H_Acceptors  Num_H_Donors  Num_RotatableBonds   LogD  \\\n",
       "0           400.495                5             2                   8  3.259   \n",
       "1           301.407                2             1                   2  2.172   \n",
       "2           297.358                5             0                   3  1.585   \n",
       "3           494.652                6             0                   5  3.475   \n",
       "4           268.310                3             0                   1  2.337   \n",
       "\n",
       "   Molecular_PolarSurfaceArea  \n",
       "0                      117.37  \n",
       "1                       73.47  \n",
       "2                       62.45  \n",
       "3                       92.60  \n",
       "4                       42.43  "
      ]
     },
     "execution_count": 5,
     "metadata": {},
     "output_type": "execute_result"
    }
   ],
   "source": [
    "# column 순서 조절 및 'id' drop\n",
    "new_column_order = ['id', 'MLM', 'HLM', 'SMILES', 'AlogP', 'Molecular_Weight',\n",
    "                    'Num_H_Acceptors', 'Num_H_Donors', 'Num_RotatableBonds', 'LogD',\n",
    "                    'Molecular_PolarSurfaceArea']\n",
    "\n",
    "df_train = df_train[new_column_order]\n",
    "df_train = df_train.drop('id', axis=1)\n",
    "df_test = df_test.drop('id', axis=1)\n",
    "\n",
    "print(f'train size : {df_train.shape}')\n",
    "df_train.head()"
   ]
  },
  {
   "cell_type": "code",
   "execution_count": 6,
   "metadata": {},
   "outputs": [
    {
     "data": {
      "text/html": [
       "<div>\n",
       "<style scoped>\n",
       "    .dataframe tbody tr th:only-of-type {\n",
       "        vertical-align: middle;\n",
       "    }\n",
       "\n",
       "    .dataframe tbody tr th {\n",
       "        vertical-align: top;\n",
       "    }\n",
       "\n",
       "    .dataframe thead th {\n",
       "        text-align: right;\n",
       "    }\n",
       "</style>\n",
       "<table border=\"1\" class=\"dataframe\">\n",
       "  <thead>\n",
       "    <tr style=\"text-align: right;\">\n",
       "      <th></th>\n",
       "      <th>MLM</th>\n",
       "      <th>HLM</th>\n",
       "      <th>SMILES</th>\n",
       "      <th>AlogP</th>\n",
       "      <th>Molecular_Weight</th>\n",
       "      <th>Num_H_Acceptors</th>\n",
       "      <th>Num_H_Donors</th>\n",
       "      <th>Num_RotatableBonds</th>\n",
       "      <th>LogD</th>\n",
       "      <th>Molecular_PolarSurfaceArea</th>\n",
       "    </tr>\n",
       "  </thead>\n",
       "  <tbody>\n",
       "    <tr>\n",
       "      <th>0</th>\n",
       "      <td>0.9225</td>\n",
       "      <td>28.0615</td>\n",
       "      <td>C(=C/c1nnn(Cc2ccccc2)n1)\\c1ccccc1</td>\n",
       "      <td>3.556</td>\n",
       "      <td>262.309</td>\n",
       "      <td>3.0</td>\n",
       "      <td>0.0</td>\n",
       "      <td>4.0</td>\n",
       "      <td>3.556</td>\n",
       "      <td>43.60</td>\n",
       "    </tr>\n",
       "    <tr>\n",
       "      <th>1</th>\n",
       "      <td>62.2175</td>\n",
       "      <td>77.9110</td>\n",
       "      <td>CC(=O)Nc1ccc(N2N=C(c3ccc(O)cc3)C(C)CC2=O)cc1</td>\n",
       "      <td>2.172</td>\n",
       "      <td>337.372</td>\n",
       "      <td>4.0</td>\n",
       "      <td>2.0</td>\n",
       "      <td>3.0</td>\n",
       "      <td>2.169</td>\n",
       "      <td>82.00</td>\n",
       "    </tr>\n",
       "    <tr>\n",
       "      <th>2</th>\n",
       "      <td>68.6310</td>\n",
       "      <td>64.6690</td>\n",
       "      <td>CC(=O)Nc1nc2ccc(-c3nn(C(C)C)c4nc(N)ncc34)cc2s1</td>\n",
       "      <td>2.293</td>\n",
       "      <td>367.428</td>\n",
       "      <td>5.0</td>\n",
       "      <td>2.0</td>\n",
       "      <td>3.0</td>\n",
       "      <td>2.307</td>\n",
       "      <td>139.85</td>\n",
       "    </tr>\n",
       "    <tr>\n",
       "      <th>3</th>\n",
       "      <td>32.1435</td>\n",
       "      <td>85.6850</td>\n",
       "      <td>CC(C)(C)OC(=O)N1CCC(c2n[nH]c3nc(S(C)(=O)=O)ncc...</td>\n",
       "      <td>1.684</td>\n",
       "      <td>381.450</td>\n",
       "      <td>7.0</td>\n",
       "      <td>1.0</td>\n",
       "      <td>4.0</td>\n",
       "      <td>1.684</td>\n",
       "      <td>126.52</td>\n",
       "    </tr>\n",
       "    <tr>\n",
       "      <th>4</th>\n",
       "      <td>3.6870</td>\n",
       "      <td>43.3385</td>\n",
       "      <td>CC(C)COc1cc(=O)n2c(c1C(=O)N1CCC(C)CC1)CCCCC2</td>\n",
       "      <td>2.843</td>\n",
       "      <td>360.490</td>\n",
       "      <td>3.0</td>\n",
       "      <td>0.0</td>\n",
       "      <td>4.0</td>\n",
       "      <td>2.843</td>\n",
       "      <td>49.85</td>\n",
       "    </tr>\n",
       "    <tr>\n",
       "      <th>5</th>\n",
       "      <td>62.1085</td>\n",
       "      <td>68.1015</td>\n",
       "      <td>CC(C)NC(=O)c1c(Cl)nn(C)c1NC(=O)c1cc(Br)nn1-c1n...</td>\n",
       "      <td>3.750</td>\n",
       "      <td>501.165</td>\n",
       "      <td>5.0</td>\n",
       "      <td>2.0</td>\n",
       "      <td>5.0</td>\n",
       "      <td>3.750</td>\n",
       "      <td>106.72</td>\n",
       "    </tr>\n",
       "    <tr>\n",
       "      <th>6</th>\n",
       "      <td>43.1700</td>\n",
       "      <td>31.1300</td>\n",
       "      <td>CC1CC(=O)N(c2ccc(-c3cccc(C#N)c3)cc2)N=C1c1ccc(...</td>\n",
       "      <td>4.449</td>\n",
       "      <td>381.427</td>\n",
       "      <td>4.0</td>\n",
       "      <td>1.0</td>\n",
       "      <td>3.0</td>\n",
       "      <td>4.446</td>\n",
       "      <td>76.69</td>\n",
       "    </tr>\n",
       "    <tr>\n",
       "      <th>7</th>\n",
       "      <td>2.3395</td>\n",
       "      <td>36.8145</td>\n",
       "      <td>CCCCC/N=c1\\n(C)c(=O)nc2sccn12</td>\n",
       "      <td>2.484</td>\n",
       "      <td>252.336</td>\n",
       "      <td>4.0</td>\n",
       "      <td>0.0</td>\n",
       "      <td>4.0</td>\n",
       "      <td>2.474</td>\n",
       "      <td>73.56</td>\n",
       "    </tr>\n",
       "    <tr>\n",
       "      <th>8</th>\n",
       "      <td>3.4420</td>\n",
       "      <td>3.6015</td>\n",
       "      <td>CCOC(=O)CC1(NC(=O)N2Cc3c(sc4c3CCCC4)-n3cccc3C2...</td>\n",
       "      <td>6.727</td>\n",
       "      <td>537.736</td>\n",
       "      <td>3.0</td>\n",
       "      <td>1.0</td>\n",
       "      <td>6.0</td>\n",
       "      <td>6.727</td>\n",
       "      <td>120.05</td>\n",
       "    </tr>\n",
       "    <tr>\n",
       "      <th>9</th>\n",
       "      <td>73.5450</td>\n",
       "      <td>1.1345</td>\n",
       "      <td>CCc1nc2cc(Br)c(C(=O)OC)nc2n1CC(=O)c1ccccc1</td>\n",
       "      <td>3.815</td>\n",
       "      <td>402.242</td>\n",
       "      <td>5.0</td>\n",
       "      <td>0.0</td>\n",
       "      <td>6.0</td>\n",
       "      <td>3.819</td>\n",
       "      <td>74.08</td>\n",
       "    </tr>\n",
       "    <tr>\n",
       "      <th>10</th>\n",
       "      <td>41.5740</td>\n",
       "      <td>47.1345</td>\n",
       "      <td>CN(C)c1ccc(C2c3cccn3-c3sc4c(c3CN2C(=O)NCc2cccc...</td>\n",
       "      <td>6.501</td>\n",
       "      <td>496.666</td>\n",
       "      <td>1.0</td>\n",
       "      <td>1.0</td>\n",
       "      <td>4.0</td>\n",
       "      <td>6.501</td>\n",
       "      <td>68.74</td>\n",
       "    </tr>\n",
       "    <tr>\n",
       "      <th>11</th>\n",
       "      <td>52.3650</td>\n",
       "      <td>69.5790</td>\n",
       "      <td>CN(C1CCNCC1)S(=O)(=O)c1ccc(Cl)s1</td>\n",
       "      <td>0.767</td>\n",
       "      <td>294.821</td>\n",
       "      <td>3.0</td>\n",
       "      <td>1.0</td>\n",
       "      <td>3.0</td>\n",
       "      <td>0.388</td>\n",
       "      <td>86.03</td>\n",
       "    </tr>\n",
       "    <tr>\n",
       "      <th>12</th>\n",
       "      <td>10.9270</td>\n",
       "      <td>15.1105</td>\n",
       "      <td>COC(=O)C1(CCCN(C)CCc2ccc(OC)c(OC)c2)CCCc2c1ccc...</td>\n",
       "      <td>5.374</td>\n",
       "      <td>485.612</td>\n",
       "      <td>7.0</td>\n",
       "      <td>0.0</td>\n",
       "      <td>13.0</td>\n",
       "      <td>3.870</td>\n",
       "      <td>66.46</td>\n",
       "    </tr>\n",
       "    <tr>\n",
       "      <th>13</th>\n",
       "      <td>82.1700</td>\n",
       "      <td>95.6250</td>\n",
       "      <td>COCCOc1cc(=O)n2c(c1C(=O)N1CCCC1)CCOCC2</td>\n",
       "      <td>-0.811</td>\n",
       "      <td>336.383</td>\n",
       "      <td>5.0</td>\n",
       "      <td>0.0</td>\n",
       "      <td>5.0</td>\n",
       "      <td>-0.811</td>\n",
       "      <td>68.31</td>\n",
       "    </tr>\n",
       "    <tr>\n",
       "      <th>14</th>\n",
       "      <td>4.1750</td>\n",
       "      <td>34.8750</td>\n",
       "      <td>COc1cc(CN2CCC(NC(=O)c3cc4cc(Br)c5ccccc5c4o3)CC...</td>\n",
       "      <td>4.934</td>\n",
       "      <td>553.444</td>\n",
       "      <td>5.0</td>\n",
       "      <td>1.0</td>\n",
       "      <td>7.0</td>\n",
       "      <td>4.934</td>\n",
       "      <td>73.17</td>\n",
       "    </tr>\n",
       "    <tr>\n",
       "      <th>15</th>\n",
       "      <td>64.1215</td>\n",
       "      <td>18.6150</td>\n",
       "      <td>COc1ccc(C2=NOC(c3ccc(-c4nnn[nH]4)cc3)C2)cc1</td>\n",
       "      <td>2.235</td>\n",
       "      <td>321.333</td>\n",
       "      <td>6.0</td>\n",
       "      <td>1.0</td>\n",
       "      <td>4.0</td>\n",
       "      <td>1.806</td>\n",
       "      <td>85.28</td>\n",
       "    </tr>\n",
       "    <tr>\n",
       "      <th>16</th>\n",
       "      <td>4.1520</td>\n",
       "      <td>5.9740</td>\n",
       "      <td>COc1ccc(C2=NOC(c3ccsc3)C2)cc1</td>\n",
       "      <td>2.868</td>\n",
       "      <td>259.324</td>\n",
       "      <td>3.0</td>\n",
       "      <td>0.0</td>\n",
       "      <td>3.0</td>\n",
       "      <td>2.868</td>\n",
       "      <td>59.06</td>\n",
       "    </tr>\n",
       "    <tr>\n",
       "      <th>17</th>\n",
       "      <td>0.6545</td>\n",
       "      <td>4.1300</td>\n",
       "      <td>COc1ccc([C@H]2Oc3cc(OC)cc(OC)c3C[C@H]2O)cc1</td>\n",
       "      <td>2.940</td>\n",
       "      <td>316.348</td>\n",
       "      <td>5.0</td>\n",
       "      <td>1.0</td>\n",
       "      <td>4.0</td>\n",
       "      <td>2.940</td>\n",
       "      <td>57.15</td>\n",
       "    </tr>\n",
       "    <tr>\n",
       "      <th>18</th>\n",
       "      <td>86.9900</td>\n",
       "      <td>69.4465</td>\n",
       "      <td>COc1cccc(-c2cc(-c3nc4c5cnn(-c6ccccc6)c5ncn4n3)...</td>\n",
       "      <td>3.908</td>\n",
       "      <td>408.415</td>\n",
       "      <td>6.0</td>\n",
       "      <td>1.0</td>\n",
       "      <td>4.0</td>\n",
       "      <td>3.909</td>\n",
       "      <td>98.81</td>\n",
       "    </tr>\n",
       "    <tr>\n",
       "      <th>19</th>\n",
       "      <td>1.5570</td>\n",
       "      <td>2.6530</td>\n",
       "      <td>CS(=O)(=O)N1CCN(CCOc2ccc3c(c2)C(c2cc(F)cc(F)c2...</td>\n",
       "      <td>3.219</td>\n",
       "      <td>525.567</td>\n",
       "      <td>6.0</td>\n",
       "      <td>0.0</td>\n",
       "      <td>7.0</td>\n",
       "      <td>3.086</td>\n",
       "      <td>88.19</td>\n",
       "    </tr>\n",
       "    <tr>\n",
       "      <th>20</th>\n",
       "      <td>11.6895</td>\n",
       "      <td>11.1320</td>\n",
       "      <td>Cc1cc(=O)[nH]c(SCC(=O)C23CC4CC(CC(C4)C2)C3)c1C#N</td>\n",
       "      <td>3.322</td>\n",
       "      <td>342.455</td>\n",
       "      <td>4.0</td>\n",
       "      <td>1.0</td>\n",
       "      <td>4.0</td>\n",
       "      <td>3.322</td>\n",
       "      <td>95.26</td>\n",
       "    </tr>\n",
       "    <tr>\n",
       "      <th>21</th>\n",
       "      <td>28.4630</td>\n",
       "      <td>24.1955</td>\n",
       "      <td>Cc1ccc(-c2cc(-c3nc4c5ccccc5ncn4n3)[nH]n2)c(C)c1</td>\n",
       "      <td>4.609</td>\n",
       "      <td>340.381</td>\n",
       "      <td>4.0</td>\n",
       "      <td>1.0</td>\n",
       "      <td>2.0</td>\n",
       "      <td>4.736</td>\n",
       "      <td>71.75</td>\n",
       "    </tr>\n",
       "    <tr>\n",
       "      <th>22</th>\n",
       "      <td>56.0435</td>\n",
       "      <td>66.1260</td>\n",
       "      <td>Cc1ccc(-c2ccc(C(CN3CCCC3)N(C)C(=O)CN3C(=O)COc4...</td>\n",
       "      <td>4.282</td>\n",
       "      <td>553.480</td>\n",
       "      <td>5.0</td>\n",
       "      <td>0.0</td>\n",
       "      <td>7.0</td>\n",
       "      <td>4.009</td>\n",
       "      <td>65.98</td>\n",
       "    </tr>\n",
       "    <tr>\n",
       "      <th>23</th>\n",
       "      <td>56.3130</td>\n",
       "      <td>63.7320</td>\n",
       "      <td>Cc1ccccc1-c1nc2ccccc2cc1C(C)n1c(=O)[nH]c2c(S(C...</td>\n",
       "      <td>4.304</td>\n",
       "      <td>459.520</td>\n",
       "      <td>6.0</td>\n",
       "      <td>1.0</td>\n",
       "      <td>4.0</td>\n",
       "      <td>4.304</td>\n",
       "      <td>113.53</td>\n",
       "    </tr>\n",
       "    <tr>\n",
       "      <th>24</th>\n",
       "      <td>70.2150</td>\n",
       "      <td>93.8400</td>\n",
       "      <td>N#Cc1nccnc1OC1CCN(C(=O)C2CC(=O)N(C3CCOCC3)C2)C1</td>\n",
       "      <td>-1.133</td>\n",
       "      <td>385.417</td>\n",
       "      <td>7.0</td>\n",
       "      <td>0.0</td>\n",
       "      <td>4.0</td>\n",
       "      <td>-1.133</td>\n",
       "      <td>108.65</td>\n",
       "    </tr>\n",
       "    <tr>\n",
       "      <th>25</th>\n",
       "      <td>56.6085</td>\n",
       "      <td>49.5190</td>\n",
       "      <td>N#Cc1nccnc1OC1CCN(C(=O)N2CCNC2=O)C1</td>\n",
       "      <td>-0.533</td>\n",
       "      <td>302.289</td>\n",
       "      <td>6.0</td>\n",
       "      <td>1.0</td>\n",
       "      <td>2.0</td>\n",
       "      <td>-0.533</td>\n",
       "      <td>111.44</td>\n",
       "    </tr>\n",
       "    <tr>\n",
       "      <th>26</th>\n",
       "      <td>6.1730</td>\n",
       "      <td>10.8670</td>\n",
       "      <td>O=S(=O)(c1ccccc1)n1ccc(C/C=C/Cc2ccn(S(=O)(=O)c...</td>\n",
       "      <td>5.630</td>\n",
       "      <td>466.572</td>\n",
       "      <td>4.0</td>\n",
       "      <td>0.0</td>\n",
       "      <td>8.0</td>\n",
       "      <td>5.630</td>\n",
       "      <td>94.90</td>\n",
       "    </tr>\n",
       "  </tbody>\n",
       "</table>\n",
       "</div>"
      ],
      "text/plain": [
       "        MLM      HLM                                             SMILES  \\\n",
       "0    0.9225  28.0615                  C(=C/c1nnn(Cc2ccccc2)n1)\\c1ccccc1   \n",
       "1   62.2175  77.9110       CC(=O)Nc1ccc(N2N=C(c3ccc(O)cc3)C(C)CC2=O)cc1   \n",
       "2   68.6310  64.6690     CC(=O)Nc1nc2ccc(-c3nn(C(C)C)c4nc(N)ncc34)cc2s1   \n",
       "3   32.1435  85.6850  CC(C)(C)OC(=O)N1CCC(c2n[nH]c3nc(S(C)(=O)=O)ncc...   \n",
       "4    3.6870  43.3385       CC(C)COc1cc(=O)n2c(c1C(=O)N1CCC(C)CC1)CCCCC2   \n",
       "5   62.1085  68.1015  CC(C)NC(=O)c1c(Cl)nn(C)c1NC(=O)c1cc(Br)nn1-c1n...   \n",
       "6   43.1700  31.1300  CC1CC(=O)N(c2ccc(-c3cccc(C#N)c3)cc2)N=C1c1ccc(...   \n",
       "7    2.3395  36.8145                      CCCCC/N=c1\\n(C)c(=O)nc2sccn12   \n",
       "8    3.4420   3.6015  CCOC(=O)CC1(NC(=O)N2Cc3c(sc4c3CCCC4)-n3cccc3C2...   \n",
       "9   73.5450   1.1345         CCc1nc2cc(Br)c(C(=O)OC)nc2n1CC(=O)c1ccccc1   \n",
       "10  41.5740  47.1345  CN(C)c1ccc(C2c3cccn3-c3sc4c(c3CN2C(=O)NCc2cccc...   \n",
       "11  52.3650  69.5790                   CN(C1CCNCC1)S(=O)(=O)c1ccc(Cl)s1   \n",
       "12  10.9270  15.1105  COC(=O)C1(CCCN(C)CCc2ccc(OC)c(OC)c2)CCCc2c1ccc...   \n",
       "13  82.1700  95.6250             COCCOc1cc(=O)n2c(c1C(=O)N1CCCC1)CCOCC2   \n",
       "14   4.1750  34.8750  COc1cc(CN2CCC(NC(=O)c3cc4cc(Br)c5ccccc5c4o3)CC...   \n",
       "15  64.1215  18.6150        COc1ccc(C2=NOC(c3ccc(-c4nnn[nH]4)cc3)C2)cc1   \n",
       "16   4.1520   5.9740                      COc1ccc(C2=NOC(c3ccsc3)C2)cc1   \n",
       "17   0.6545   4.1300        COc1ccc([C@H]2Oc3cc(OC)cc(OC)c3C[C@H]2O)cc1   \n",
       "18  86.9900  69.4465  COc1cccc(-c2cc(-c3nc4c5cnn(-c6ccccc6)c5ncn4n3)...   \n",
       "19   1.5570   2.6530  CS(=O)(=O)N1CCN(CCOc2ccc3c(c2)C(c2cc(F)cc(F)c2...   \n",
       "20  11.6895  11.1320   Cc1cc(=O)[nH]c(SCC(=O)C23CC4CC(CC(C4)C2)C3)c1C#N   \n",
       "21  28.4630  24.1955    Cc1ccc(-c2cc(-c3nc4c5ccccc5ncn4n3)[nH]n2)c(C)c1   \n",
       "22  56.0435  66.1260  Cc1ccc(-c2ccc(C(CN3CCCC3)N(C)C(=O)CN3C(=O)COc4...   \n",
       "23  56.3130  63.7320  Cc1ccccc1-c1nc2ccccc2cc1C(C)n1c(=O)[nH]c2c(S(C...   \n",
       "24  70.2150  93.8400    N#Cc1nccnc1OC1CCN(C(=O)C2CC(=O)N(C3CCOCC3)C2)C1   \n",
       "25  56.6085  49.5190                N#Cc1nccnc1OC1CCN(C(=O)N2CCNC2=O)C1   \n",
       "26   6.1730  10.8670  O=S(=O)(c1ccccc1)n1ccc(C/C=C/Cc2ccn(S(=O)(=O)c...   \n",
       "\n",
       "    AlogP  Molecular_Weight  Num_H_Acceptors  Num_H_Donors  \\\n",
       "0   3.556           262.309              3.0           0.0   \n",
       "1   2.172           337.372              4.0           2.0   \n",
       "2   2.293           367.428              5.0           2.0   \n",
       "3   1.684           381.450              7.0           1.0   \n",
       "4   2.843           360.490              3.0           0.0   \n",
       "5   3.750           501.165              5.0           2.0   \n",
       "6   4.449           381.427              4.0           1.0   \n",
       "7   2.484           252.336              4.0           0.0   \n",
       "8   6.727           537.736              3.0           1.0   \n",
       "9   3.815           402.242              5.0           0.0   \n",
       "10  6.501           496.666              1.0           1.0   \n",
       "11  0.767           294.821              3.0           1.0   \n",
       "12  5.374           485.612              7.0           0.0   \n",
       "13 -0.811           336.383              5.0           0.0   \n",
       "14  4.934           553.444              5.0           1.0   \n",
       "15  2.235           321.333              6.0           1.0   \n",
       "16  2.868           259.324              3.0           0.0   \n",
       "17  2.940           316.348              5.0           1.0   \n",
       "18  3.908           408.415              6.0           1.0   \n",
       "19  3.219           525.567              6.0           0.0   \n",
       "20  3.322           342.455              4.0           1.0   \n",
       "21  4.609           340.381              4.0           1.0   \n",
       "22  4.282           553.480              5.0           0.0   \n",
       "23  4.304           459.520              6.0           1.0   \n",
       "24 -1.133           385.417              7.0           0.0   \n",
       "25 -0.533           302.289              6.0           1.0   \n",
       "26  5.630           466.572              4.0           0.0   \n",
       "\n",
       "    Num_RotatableBonds   LogD  Molecular_PolarSurfaceArea  \n",
       "0                  4.0  3.556                       43.60  \n",
       "1                  3.0  2.169                       82.00  \n",
       "2                  3.0  2.307                      139.85  \n",
       "3                  4.0  1.684                      126.52  \n",
       "4                  4.0  2.843                       49.85  \n",
       "5                  5.0  3.750                      106.72  \n",
       "6                  3.0  4.446                       76.69  \n",
       "7                  4.0  2.474                       73.56  \n",
       "8                  6.0  6.727                      120.05  \n",
       "9                  6.0  3.819                       74.08  \n",
       "10                 4.0  6.501                       68.74  \n",
       "11                 3.0  0.388                       86.03  \n",
       "12                13.0  3.870                       66.46  \n",
       "13                 5.0 -0.811                       68.31  \n",
       "14                 7.0  4.934                       73.17  \n",
       "15                 4.0  1.806                       85.28  \n",
       "16                 3.0  2.868                       59.06  \n",
       "17                 4.0  2.940                       57.15  \n",
       "18                 4.0  3.909                       98.81  \n",
       "19                 7.0  3.086                       88.19  \n",
       "20                 4.0  3.322                       95.26  \n",
       "21                 2.0  4.736                       71.75  \n",
       "22                 7.0  4.009                       65.98  \n",
       "23                 4.0  4.304                      113.53  \n",
       "24                 4.0 -1.133                      108.65  \n",
       "25                 2.0 -0.533                      111.44  \n",
       "26                 8.0  5.630                       94.90  "
      ]
     },
     "execution_count": 6,
     "metadata": {},
     "output_type": "execute_result"
    }
   ],
   "source": [
    "# train data 같은 인풋 값 대비 다른 아웃풋 average로 변환\n",
    "duplicated_rows = df_train[df_train.iloc[:, 2:].duplicated(keep=False)]\n",
    "sorted_duplicates = duplicated_rows.sort_values(by='SMILES', ascending=False)\n",
    "average_df = sorted_duplicates.groupby('SMILES').mean().reset_index()\n",
    "\n",
    "# column 순서 조절\n",
    "new_column_order = ['MLM', 'HLM', 'SMILES', 'AlogP', 'Molecular_Weight',\n",
    "                    'Num_H_Acceptors', 'Num_H_Donors', 'Num_RotatableBonds', 'LogD',\n",
    "                    'Molecular_PolarSurfaceArea']\n",
    "\n",
    "average_df = average_df[new_column_order]\n",
    "average_df"
   ]
  },
  {
   "cell_type": "code",
   "execution_count": 7,
   "metadata": {},
   "outputs": [
    {
     "data": {
      "text/html": [
       "<div>\n",
       "<style scoped>\n",
       "    .dataframe tbody tr th:only-of-type {\n",
       "        vertical-align: middle;\n",
       "    }\n",
       "\n",
       "    .dataframe tbody tr th {\n",
       "        vertical-align: top;\n",
       "    }\n",
       "\n",
       "    .dataframe thead th {\n",
       "        text-align: right;\n",
       "    }\n",
       "</style>\n",
       "<table border=\"1\" class=\"dataframe\">\n",
       "  <thead>\n",
       "    <tr style=\"text-align: right;\">\n",
       "      <th></th>\n",
       "      <th>MLM</th>\n",
       "      <th>HLM</th>\n",
       "      <th>SMILES</th>\n",
       "      <th>AlogP</th>\n",
       "      <th>Molecular_Weight</th>\n",
       "      <th>Num_H_Acceptors</th>\n",
       "      <th>Num_H_Donors</th>\n",
       "      <th>Num_RotatableBonds</th>\n",
       "      <th>LogD</th>\n",
       "      <th>Molecular_PolarSurfaceArea</th>\n",
       "    </tr>\n",
       "  </thead>\n",
       "  <tbody>\n",
       "    <tr>\n",
       "      <th>0</th>\n",
       "      <td>26.0100</td>\n",
       "      <td>50.680</td>\n",
       "      <td>CCOc1ccc(CNC(=O)c2cc(-c3sc(C)nc3C)n[nH]2)cc1OCC</td>\n",
       "      <td>3.259</td>\n",
       "      <td>400.495</td>\n",
       "      <td>5.0</td>\n",
       "      <td>2.0</td>\n",
       "      <td>8.0</td>\n",
       "      <td>3.259</td>\n",
       "      <td>117.37</td>\n",
       "    </tr>\n",
       "    <tr>\n",
       "      <th>1</th>\n",
       "      <td>29.2700</td>\n",
       "      <td>50.590</td>\n",
       "      <td>Cc1nc(C)c(CN2CC(C)C(=O)Nc3ccccc32)s1</td>\n",
       "      <td>2.169</td>\n",
       "      <td>301.407</td>\n",
       "      <td>2.0</td>\n",
       "      <td>1.0</td>\n",
       "      <td>2.0</td>\n",
       "      <td>2.172</td>\n",
       "      <td>73.47</td>\n",
       "    </tr>\n",
       "    <tr>\n",
       "      <th>2</th>\n",
       "      <td>5.5860</td>\n",
       "      <td>80.892</td>\n",
       "      <td>CCCN1CCN(c2nn3nnnc3c3ccccc23)CC1</td>\n",
       "      <td>1.593</td>\n",
       "      <td>297.358</td>\n",
       "      <td>5.0</td>\n",
       "      <td>0.0</td>\n",
       "      <td>3.0</td>\n",
       "      <td>1.585</td>\n",
       "      <td>62.45</td>\n",
       "    </tr>\n",
       "    <tr>\n",
       "      <th>3</th>\n",
       "      <td>5.7100</td>\n",
       "      <td>2.000</td>\n",
       "      <td>Cc1ccc(-c2ccc(-n3nc(C)c(S(=O)(=O)N4CCN(C5CCCCC...</td>\n",
       "      <td>4.771</td>\n",
       "      <td>494.652</td>\n",
       "      <td>6.0</td>\n",
       "      <td>0.0</td>\n",
       "      <td>5.0</td>\n",
       "      <td>3.475</td>\n",
       "      <td>92.60</td>\n",
       "    </tr>\n",
       "    <tr>\n",
       "      <th>4</th>\n",
       "      <td>93.2700</td>\n",
       "      <td>99.990</td>\n",
       "      <td>Cc1ccc2c(c1)N(C(=O)c1ccncc1)CC(C)O2</td>\n",
       "      <td>2.335</td>\n",
       "      <td>268.310</td>\n",
       "      <td>3.0</td>\n",
       "      <td>0.0</td>\n",
       "      <td>1.0</td>\n",
       "      <td>2.337</td>\n",
       "      <td>42.43</td>\n",
       "    </tr>\n",
       "    <tr>\n",
       "      <th>...</th>\n",
       "      <td>...</td>\n",
       "      <td>...</td>\n",
       "      <td>...</td>\n",
       "      <td>...</td>\n",
       "      <td>...</td>\n",
       "      <td>...</td>\n",
       "      <td>...</td>\n",
       "      <td>...</td>\n",
       "      <td>...</td>\n",
       "      <td>...</td>\n",
       "    </tr>\n",
       "    <tr>\n",
       "      <th>3466</th>\n",
       "      <td>56.0435</td>\n",
       "      <td>66.126</td>\n",
       "      <td>Cc1ccc(-c2ccc(C(CN3CCCC3)N(C)C(=O)CN3C(=O)COc4...</td>\n",
       "      <td>4.282</td>\n",
       "      <td>553.480</td>\n",
       "      <td>5.0</td>\n",
       "      <td>0.0</td>\n",
       "      <td>7.0</td>\n",
       "      <td>4.009</td>\n",
       "      <td>65.98</td>\n",
       "    </tr>\n",
       "    <tr>\n",
       "      <th>3467</th>\n",
       "      <td>56.3130</td>\n",
       "      <td>63.732</td>\n",
       "      <td>Cc1ccccc1-c1nc2ccccc2cc1C(C)n1c(=O)[nH]c2c(S(C...</td>\n",
       "      <td>4.304</td>\n",
       "      <td>459.520</td>\n",
       "      <td>6.0</td>\n",
       "      <td>1.0</td>\n",
       "      <td>4.0</td>\n",
       "      <td>4.304</td>\n",
       "      <td>113.53</td>\n",
       "    </tr>\n",
       "    <tr>\n",
       "      <th>3468</th>\n",
       "      <td>70.2150</td>\n",
       "      <td>93.840</td>\n",
       "      <td>N#Cc1nccnc1OC1CCN(C(=O)C2CC(=O)N(C3CCOCC3)C2)C1</td>\n",
       "      <td>-1.133</td>\n",
       "      <td>385.417</td>\n",
       "      <td>7.0</td>\n",
       "      <td>0.0</td>\n",
       "      <td>4.0</td>\n",
       "      <td>-1.133</td>\n",
       "      <td>108.65</td>\n",
       "    </tr>\n",
       "    <tr>\n",
       "      <th>3469</th>\n",
       "      <td>56.6085</td>\n",
       "      <td>49.519</td>\n",
       "      <td>N#Cc1nccnc1OC1CCN(C(=O)N2CCNC2=O)C1</td>\n",
       "      <td>-0.533</td>\n",
       "      <td>302.289</td>\n",
       "      <td>6.0</td>\n",
       "      <td>1.0</td>\n",
       "      <td>2.0</td>\n",
       "      <td>-0.533</td>\n",
       "      <td>111.44</td>\n",
       "    </tr>\n",
       "    <tr>\n",
       "      <th>3470</th>\n",
       "      <td>6.1730</td>\n",
       "      <td>10.867</td>\n",
       "      <td>O=S(=O)(c1ccccc1)n1ccc(C/C=C/Cc2ccn(S(=O)(=O)c...</td>\n",
       "      <td>5.630</td>\n",
       "      <td>466.572</td>\n",
       "      <td>4.0</td>\n",
       "      <td>0.0</td>\n",
       "      <td>8.0</td>\n",
       "      <td>5.630</td>\n",
       "      <td>94.90</td>\n",
       "    </tr>\n",
       "  </tbody>\n",
       "</table>\n",
       "<p>3471 rows × 10 columns</p>\n",
       "</div>"
      ],
      "text/plain": [
       "          MLM     HLM                                             SMILES  \\\n",
       "0     26.0100  50.680    CCOc1ccc(CNC(=O)c2cc(-c3sc(C)nc3C)n[nH]2)cc1OCC   \n",
       "1     29.2700  50.590               Cc1nc(C)c(CN2CC(C)C(=O)Nc3ccccc32)s1   \n",
       "2      5.5860  80.892                   CCCN1CCN(c2nn3nnnc3c3ccccc23)CC1   \n",
       "3      5.7100   2.000  Cc1ccc(-c2ccc(-n3nc(C)c(S(=O)(=O)N4CCN(C5CCCCC...   \n",
       "4     93.2700  99.990                Cc1ccc2c(c1)N(C(=O)c1ccncc1)CC(C)O2   \n",
       "...       ...     ...                                                ...   \n",
       "3466  56.0435  66.126  Cc1ccc(-c2ccc(C(CN3CCCC3)N(C)C(=O)CN3C(=O)COc4...   \n",
       "3467  56.3130  63.732  Cc1ccccc1-c1nc2ccccc2cc1C(C)n1c(=O)[nH]c2c(S(C...   \n",
       "3468  70.2150  93.840    N#Cc1nccnc1OC1CCN(C(=O)C2CC(=O)N(C3CCOCC3)C2)C1   \n",
       "3469  56.6085  49.519                N#Cc1nccnc1OC1CCN(C(=O)N2CCNC2=O)C1   \n",
       "3470   6.1730  10.867  O=S(=O)(c1ccccc1)n1ccc(C/C=C/Cc2ccn(S(=O)(=O)c...   \n",
       "\n",
       "      AlogP  Molecular_Weight  Num_H_Acceptors  Num_H_Donors  \\\n",
       "0     3.259           400.495              5.0           2.0   \n",
       "1     2.169           301.407              2.0           1.0   \n",
       "2     1.593           297.358              5.0           0.0   \n",
       "3     4.771           494.652              6.0           0.0   \n",
       "4     2.335           268.310              3.0           0.0   \n",
       "...     ...               ...              ...           ...   \n",
       "3466  4.282           553.480              5.0           0.0   \n",
       "3467  4.304           459.520              6.0           1.0   \n",
       "3468 -1.133           385.417              7.0           0.0   \n",
       "3469 -0.533           302.289              6.0           1.0   \n",
       "3470  5.630           466.572              4.0           0.0   \n",
       "\n",
       "      Num_RotatableBonds   LogD  Molecular_PolarSurfaceArea  \n",
       "0                    8.0  3.259                      117.37  \n",
       "1                    2.0  2.172                       73.47  \n",
       "2                    3.0  1.585                       62.45  \n",
       "3                    5.0  3.475                       92.60  \n",
       "4                    1.0  2.337                       42.43  \n",
       "...                  ...    ...                         ...  \n",
       "3466                 7.0  4.009                       65.98  \n",
       "3467                 4.0  4.304                      113.53  \n",
       "3468                 4.0 -1.133                      108.65  \n",
       "3469                 2.0 -0.533                      111.44  \n",
       "3470                 8.0  5.630                       94.90  \n",
       "\n",
       "[3471 rows x 10 columns]"
      ]
     },
     "execution_count": 7,
     "metadata": {},
     "output_type": "execute_result"
    }
   ],
   "source": [
    "# 중복값 제거한 train unique value\n",
    "unique_df = df_train[~df_train.iloc[:, 2:].duplicated(keep=False)]\n",
    "\n",
    "# unique value 와 average value concat\n",
    "df_train = pd.concat([unique_df, average_df])\n",
    "df_train.reset_index(drop = True, inplace = True)\n",
    "df_train"
   ]
  },
  {
   "cell_type": "code",
   "execution_count": 8,
   "metadata": {},
   "outputs": [
    {
     "name": "stdout",
     "output_type": "stream",
     "text": [
      "test size : (483, 8)\n"
     ]
    },
    {
     "data": {
      "text/html": [
       "<div>\n",
       "<style scoped>\n",
       "    .dataframe tbody tr th:only-of-type {\n",
       "        vertical-align: middle;\n",
       "    }\n",
       "\n",
       "    .dataframe tbody tr th {\n",
       "        vertical-align: top;\n",
       "    }\n",
       "\n",
       "    .dataframe thead th {\n",
       "        text-align: right;\n",
       "    }\n",
       "</style>\n",
       "<table border=\"1\" class=\"dataframe\">\n",
       "  <thead>\n",
       "    <tr style=\"text-align: right;\">\n",
       "      <th></th>\n",
       "      <th>SMILES</th>\n",
       "      <th>AlogP</th>\n",
       "      <th>Molecular_Weight</th>\n",
       "      <th>Num_H_Acceptors</th>\n",
       "      <th>Num_H_Donors</th>\n",
       "      <th>Num_RotatableBonds</th>\n",
       "      <th>LogD</th>\n",
       "      <th>Molecular_PolarSurfaceArea</th>\n",
       "    </tr>\n",
       "  </thead>\n",
       "  <tbody>\n",
       "    <tr>\n",
       "      <th>0</th>\n",
       "      <td>CC(C)Nc1ccnc(N2CCN(Cc3cccs3)C(CCO)C2)n1</td>\n",
       "      <td>2.641</td>\n",
       "      <td>361.505</td>\n",
       "      <td>4</td>\n",
       "      <td>2</td>\n",
       "      <td>7</td>\n",
       "      <td>2.635</td>\n",
       "      <td>92.76</td>\n",
       "    </tr>\n",
       "    <tr>\n",
       "      <th>1</th>\n",
       "      <td>COc1cc(=O)n(-c2ccccc2)cc1C(=O)N1CCC2(CC1)OCCO2</td>\n",
       "      <td>0.585</td>\n",
       "      <td>370.399</td>\n",
       "      <td>5</td>\n",
       "      <td>0</td>\n",
       "      <td>3</td>\n",
       "      <td>0.585</td>\n",
       "      <td>68.31</td>\n",
       "    </tr>\n",
       "    <tr>\n",
       "      <th>2</th>\n",
       "      <td>Cc1cccc(NC(=N)/N=c2\\nc(O)c(Cc3ccccc3)c(C)[nH]2)c1</td>\n",
       "      <td>4.276</td>\n",
       "      <td>347.414</td>\n",
       "      <td>4</td>\n",
       "      <td>4</td>\n",
       "      <td>5</td>\n",
       "      <td>4.290</td>\n",
       "      <td>92.86</td>\n",
       "    </tr>\n",
       "    <tr>\n",
       "      <th>3</th>\n",
       "      <td>O=C(c1nc2ncccn2n1)N1CCCn2cc(-c3ccccc3)nc21</td>\n",
       "      <td>1.795</td>\n",
       "      <td>345.358</td>\n",
       "      <td>5</td>\n",
       "      <td>0</td>\n",
       "      <td>2</td>\n",
       "      <td>1.795</td>\n",
       "      <td>81.21</td>\n",
       "    </tr>\n",
       "    <tr>\n",
       "      <th>4</th>\n",
       "      <td>CCN1CCN(C(=O)c2cc3c(=O)n4cc(C)ccc4nc3n2C)CC1</td>\n",
       "      <td>1.219</td>\n",
       "      <td>353.418</td>\n",
       "      <td>4</td>\n",
       "      <td>0</td>\n",
       "      <td>2</td>\n",
       "      <td>0.169</td>\n",
       "      <td>61.15</td>\n",
       "    </tr>\n",
       "  </tbody>\n",
       "</table>\n",
       "</div>"
      ],
      "text/plain": [
       "                                              SMILES  AlogP  Molecular_Weight  \\\n",
       "0            CC(C)Nc1ccnc(N2CCN(Cc3cccs3)C(CCO)C2)n1  2.641           361.505   \n",
       "1     COc1cc(=O)n(-c2ccccc2)cc1C(=O)N1CCC2(CC1)OCCO2  0.585           370.399   \n",
       "2  Cc1cccc(NC(=N)/N=c2\\nc(O)c(Cc3ccccc3)c(C)[nH]2)c1  4.276           347.414   \n",
       "3         O=C(c1nc2ncccn2n1)N1CCCn2cc(-c3ccccc3)nc21  1.795           345.358   \n",
       "4       CCN1CCN(C(=O)c2cc3c(=O)n4cc(C)ccc4nc3n2C)CC1  1.219           353.418   \n",
       "\n",
       "   Num_H_Acceptors  Num_H_Donors  Num_RotatableBonds   LogD  \\\n",
       "0                4             2                   7  2.635   \n",
       "1                5             0                   3  0.585   \n",
       "2                4             4                   5  4.290   \n",
       "3                5             0                   2  1.795   \n",
       "4                4             0                   2  0.169   \n",
       "\n",
       "   Molecular_PolarSurfaceArea  \n",
       "0                       92.76  \n",
       "1                       68.31  \n",
       "2                       92.86  \n",
       "3                       81.21  \n",
       "4                       61.15  "
      ]
     },
     "execution_count": 8,
     "metadata": {},
     "output_type": "execute_result"
    }
   ],
   "source": [
    "print(f'test size : {df_test.shape}')\n",
    "df_test.head()"
   ]
  },
  {
   "cell_type": "markdown",
   "metadata": {},
   "source": [
    "### merge train and test data for feature engineering"
   ]
  },
  {
   "cell_type": "code",
   "execution_count": 9,
   "metadata": {},
   "outputs": [
    {
     "data": {
      "text/html": [
       "<div>\n",
       "<style scoped>\n",
       "    .dataframe tbody tr th:only-of-type {\n",
       "        vertical-align: middle;\n",
       "    }\n",
       "\n",
       "    .dataframe tbody tr th {\n",
       "        vertical-align: top;\n",
       "    }\n",
       "\n",
       "    .dataframe thead th {\n",
       "        text-align: right;\n",
       "    }\n",
       "</style>\n",
       "<table border=\"1\" class=\"dataframe\">\n",
       "  <thead>\n",
       "    <tr style=\"text-align: right;\">\n",
       "      <th></th>\n",
       "      <th>MLM</th>\n",
       "      <th>HLM</th>\n",
       "    </tr>\n",
       "  </thead>\n",
       "  <tbody>\n",
       "    <tr>\n",
       "      <th>0</th>\n",
       "      <td>26.0100</td>\n",
       "      <td>50.680</td>\n",
       "    </tr>\n",
       "    <tr>\n",
       "      <th>1</th>\n",
       "      <td>29.2700</td>\n",
       "      <td>50.590</td>\n",
       "    </tr>\n",
       "    <tr>\n",
       "      <th>2</th>\n",
       "      <td>5.5860</td>\n",
       "      <td>80.892</td>\n",
       "    </tr>\n",
       "    <tr>\n",
       "      <th>3</th>\n",
       "      <td>5.7100</td>\n",
       "      <td>2.000</td>\n",
       "    </tr>\n",
       "    <tr>\n",
       "      <th>4</th>\n",
       "      <td>93.2700</td>\n",
       "      <td>99.990</td>\n",
       "    </tr>\n",
       "    <tr>\n",
       "      <th>...</th>\n",
       "      <td>...</td>\n",
       "      <td>...</td>\n",
       "    </tr>\n",
       "    <tr>\n",
       "      <th>3466</th>\n",
       "      <td>56.0435</td>\n",
       "      <td>66.126</td>\n",
       "    </tr>\n",
       "    <tr>\n",
       "      <th>3467</th>\n",
       "      <td>56.3130</td>\n",
       "      <td>63.732</td>\n",
       "    </tr>\n",
       "    <tr>\n",
       "      <th>3468</th>\n",
       "      <td>70.2150</td>\n",
       "      <td>93.840</td>\n",
       "    </tr>\n",
       "    <tr>\n",
       "      <th>3469</th>\n",
       "      <td>56.6085</td>\n",
       "      <td>49.519</td>\n",
       "    </tr>\n",
       "    <tr>\n",
       "      <th>3470</th>\n",
       "      <td>6.1730</td>\n",
       "      <td>10.867</td>\n",
       "    </tr>\n",
       "  </tbody>\n",
       "</table>\n",
       "<p>3471 rows × 2 columns</p>\n",
       "</div>"
      ],
      "text/plain": [
       "          MLM     HLM\n",
       "0     26.0100  50.680\n",
       "1     29.2700  50.590\n",
       "2      5.5860  80.892\n",
       "3      5.7100   2.000\n",
       "4     93.2700  99.990\n",
       "...       ...     ...\n",
       "3466  56.0435  66.126\n",
       "3467  56.3130  63.732\n",
       "3468  70.2150  93.840\n",
       "3469  56.6085  49.519\n",
       "3470   6.1730  10.867\n",
       "\n",
       "[3471 rows x 2 columns]"
      ]
     },
     "execution_count": 9,
     "metadata": {},
     "output_type": "execute_result"
    }
   ],
   "source": [
    "# make target dataframe\n",
    "df_train_target = df_train[['MLM','HLM']].copy()\n",
    "df_train_target"
   ]
  },
  {
   "cell_type": "code",
   "execution_count": 10,
   "metadata": {},
   "outputs": [
    {
     "data": {
      "text/html": [
       "<div>\n",
       "<style scoped>\n",
       "    .dataframe tbody tr th:only-of-type {\n",
       "        vertical-align: middle;\n",
       "    }\n",
       "\n",
       "    .dataframe tbody tr th {\n",
       "        vertical-align: top;\n",
       "    }\n",
       "\n",
       "    .dataframe thead th {\n",
       "        text-align: right;\n",
       "    }\n",
       "</style>\n",
       "<table border=\"1\" class=\"dataframe\">\n",
       "  <thead>\n",
       "    <tr style=\"text-align: right;\">\n",
       "      <th></th>\n",
       "      <th>SMILES</th>\n",
       "      <th>AlogP</th>\n",
       "      <th>Molecular_Weight</th>\n",
       "      <th>Num_H_Acceptors</th>\n",
       "      <th>Num_H_Donors</th>\n",
       "      <th>Num_RotatableBonds</th>\n",
       "      <th>LogD</th>\n",
       "      <th>Molecular_PolarSurfaceArea</th>\n",
       "    </tr>\n",
       "  </thead>\n",
       "  <tbody>\n",
       "    <tr>\n",
       "      <th>0</th>\n",
       "      <td>CCOc1ccc(CNC(=O)c2cc(-c3sc(C)nc3C)n[nH]2)cc1OCC</td>\n",
       "      <td>3.259</td>\n",
       "      <td>400.495</td>\n",
       "      <td>5.0</td>\n",
       "      <td>2.0</td>\n",
       "      <td>8.0</td>\n",
       "      <td>3.259</td>\n",
       "      <td>117.37</td>\n",
       "    </tr>\n",
       "    <tr>\n",
       "      <th>1</th>\n",
       "      <td>Cc1nc(C)c(CN2CC(C)C(=O)Nc3ccccc32)s1</td>\n",
       "      <td>2.169</td>\n",
       "      <td>301.407</td>\n",
       "      <td>2.0</td>\n",
       "      <td>1.0</td>\n",
       "      <td>2.0</td>\n",
       "      <td>2.172</td>\n",
       "      <td>73.47</td>\n",
       "    </tr>\n",
       "    <tr>\n",
       "      <th>2</th>\n",
       "      <td>CCCN1CCN(c2nn3nnnc3c3ccccc23)CC1</td>\n",
       "      <td>1.593</td>\n",
       "      <td>297.358</td>\n",
       "      <td>5.0</td>\n",
       "      <td>0.0</td>\n",
       "      <td>3.0</td>\n",
       "      <td>1.585</td>\n",
       "      <td>62.45</td>\n",
       "    </tr>\n",
       "    <tr>\n",
       "      <th>3</th>\n",
       "      <td>Cc1ccc(-c2ccc(-n3nc(C)c(S(=O)(=O)N4CCN(C5CCCCC...</td>\n",
       "      <td>4.771</td>\n",
       "      <td>494.652</td>\n",
       "      <td>6.0</td>\n",
       "      <td>0.0</td>\n",
       "      <td>5.0</td>\n",
       "      <td>3.475</td>\n",
       "      <td>92.60</td>\n",
       "    </tr>\n",
       "    <tr>\n",
       "      <th>4</th>\n",
       "      <td>Cc1ccc2c(c1)N(C(=O)c1ccncc1)CC(C)O2</td>\n",
       "      <td>2.335</td>\n",
       "      <td>268.310</td>\n",
       "      <td>3.0</td>\n",
       "      <td>0.0</td>\n",
       "      <td>1.0</td>\n",
       "      <td>2.337</td>\n",
       "      <td>42.43</td>\n",
       "    </tr>\n",
       "  </tbody>\n",
       "</table>\n",
       "</div>"
      ],
      "text/plain": [
       "                                              SMILES  AlogP  Molecular_Weight  \\\n",
       "0    CCOc1ccc(CNC(=O)c2cc(-c3sc(C)nc3C)n[nH]2)cc1OCC  3.259           400.495   \n",
       "1               Cc1nc(C)c(CN2CC(C)C(=O)Nc3ccccc32)s1  2.169           301.407   \n",
       "2                   CCCN1CCN(c2nn3nnnc3c3ccccc23)CC1  1.593           297.358   \n",
       "3  Cc1ccc(-c2ccc(-n3nc(C)c(S(=O)(=O)N4CCN(C5CCCCC...  4.771           494.652   \n",
       "4                Cc1ccc2c(c1)N(C(=O)c1ccncc1)CC(C)O2  2.335           268.310   \n",
       "\n",
       "   Num_H_Acceptors  Num_H_Donors  Num_RotatableBonds   LogD  \\\n",
       "0              5.0           2.0                 8.0  3.259   \n",
       "1              2.0           1.0                 2.0  2.172   \n",
       "2              5.0           0.0                 3.0  1.585   \n",
       "3              6.0           0.0                 5.0  3.475   \n",
       "4              3.0           0.0                 1.0  2.337   \n",
       "\n",
       "   Molecular_PolarSurfaceArea  \n",
       "0                      117.37  \n",
       "1                       73.47  \n",
       "2                       62.45  \n",
       "3                       92.60  \n",
       "4                       42.43  "
      ]
     },
     "execution_count": 10,
     "metadata": {},
     "output_type": "execute_result"
    }
   ],
   "source": [
    "df_train = df_train.drop(['MLM','HLM'], axis = 1)\n",
    "df_total = pd.concat([df_train, df_test])\n",
    "df_total = df_total.reset_index(drop = True)\n",
    "df_total.head()"
   ]
  },
  {
   "cell_type": "code",
   "execution_count": 11,
   "metadata": {},
   "outputs": [
    {
     "data": {
      "text/html": [
       "<div>\n",
       "<style scoped>\n",
       "    .dataframe tbody tr th:only-of-type {\n",
       "        vertical-align: middle;\n",
       "    }\n",
       "\n",
       "    .dataframe tbody tr th {\n",
       "        vertical-align: top;\n",
       "    }\n",
       "\n",
       "    .dataframe thead th {\n",
       "        text-align: right;\n",
       "    }\n",
       "</style>\n",
       "<table border=\"1\" class=\"dataframe\">\n",
       "  <thead>\n",
       "    <tr style=\"text-align: right;\">\n",
       "      <th></th>\n",
       "      <th>SMILES</th>\n",
       "      <th>AlogP</th>\n",
       "      <th>Molecular_Weight</th>\n",
       "      <th>Num_H_Acceptors</th>\n",
       "      <th>Num_H_Donors</th>\n",
       "      <th>Num_RotatableBonds</th>\n",
       "      <th>LogD</th>\n",
       "      <th>Molecular_PolarSurfaceArea</th>\n",
       "    </tr>\n",
       "  </thead>\n",
       "  <tbody>\n",
       "    <tr>\n",
       "      <th>2752</th>\n",
       "      <td>[H][C@]1(CC[C@@]2([H])[C@@H](C)C=CC3=C[C@H](C)...</td>\n",
       "      <td>NaN</td>\n",
       "      <td>418.566</td>\n",
       "      <td>5.0</td>\n",
       "      <td>1.0</td>\n",
       "      <td>7.0</td>\n",
       "      <td>4.634</td>\n",
       "      <td>72.83</td>\n",
       "    </tr>\n",
       "    <tr>\n",
       "      <th>3334</th>\n",
       "      <td>COc1cc2c(cc1OC)/C(=N\\c1ccccc1)N(Cc1ccccc1F)CC2</td>\n",
       "      <td>NaN</td>\n",
       "      <td>390.450</td>\n",
       "      <td>3.0</td>\n",
       "      <td>0.0</td>\n",
       "      <td>5.0</td>\n",
       "      <td>4.911</td>\n",
       "      <td>34.06</td>\n",
       "    </tr>\n",
       "    <tr>\n",
       "      <th>3481</th>\n",
       "      <td>[H]C1(C(O)c2ccc3c(c2)OCO3)C(=O)Oc2cc(OC)ccc2C1...</td>\n",
       "      <td>NaN</td>\n",
       "      <td>404.412</td>\n",
       "      <td>6.0</td>\n",
       "      <td>1.0</td>\n",
       "      <td>4.0</td>\n",
       "      <td>3.942</td>\n",
       "      <td>74.22</td>\n",
       "    </tr>\n",
       "  </tbody>\n",
       "</table>\n",
       "</div>"
      ],
      "text/plain": [
       "                                                 SMILES  AlogP  \\\n",
       "2752  [H][C@]1(CC[C@@]2([H])[C@@H](C)C=CC3=C[C@H](C)...    NaN   \n",
       "3334     COc1cc2c(cc1OC)/C(=N\\c1ccccc1)N(Cc1ccccc1F)CC2    NaN   \n",
       "3481  [H]C1(C(O)c2ccc3c(c2)OCO3)C(=O)Oc2cc(OC)ccc2C1...    NaN   \n",
       "\n",
       "      Molecular_Weight  Num_H_Acceptors  Num_H_Donors  Num_RotatableBonds  \\\n",
       "2752           418.566              5.0           1.0                 7.0   \n",
       "3334           390.450              3.0           0.0                 5.0   \n",
       "3481           404.412              6.0           1.0                 4.0   \n",
       "\n",
       "       LogD  Molecular_PolarSurfaceArea  \n",
       "2752  4.634                       72.83  \n",
       "3334  4.911                       34.06  \n",
       "3481  3.942                       74.22  "
      ]
     },
     "execution_count": 11,
     "metadata": {},
     "output_type": "execute_result"
    }
   ],
   "source": [
    "# Alop 결측값 처리\n",
    "df_total[df_total.AlogP.isna()]"
   ]
  },
  {
   "cell_type": "code",
   "execution_count": 12,
   "metadata": {},
   "outputs": [
    {
     "data": {
      "text/html": [
       "<div>\n",
       "<style scoped>\n",
       "    .dataframe tbody tr th:only-of-type {\n",
       "        vertical-align: middle;\n",
       "    }\n",
       "\n",
       "    .dataframe tbody tr th {\n",
       "        vertical-align: top;\n",
       "    }\n",
       "\n",
       "    .dataframe thead th {\n",
       "        text-align: right;\n",
       "    }\n",
       "</style>\n",
       "<table border=\"1\" class=\"dataframe\">\n",
       "  <thead>\n",
       "    <tr style=\"text-align: right;\">\n",
       "      <th></th>\n",
       "      <th>SMILES</th>\n",
       "      <th>AlogP</th>\n",
       "      <th>Molecular_Weight</th>\n",
       "      <th>Num_H_Acceptors</th>\n",
       "      <th>Num_H_Donors</th>\n",
       "      <th>Num_RotatableBonds</th>\n",
       "      <th>LogD</th>\n",
       "      <th>Molecular_PolarSurfaceArea</th>\n",
       "    </tr>\n",
       "  </thead>\n",
       "  <tbody>\n",
       "    <tr>\n",
       "      <th>2752</th>\n",
       "      <td>[H][C@]1(CC[C@@]2([H])[C@@H](C)C=CC3=C[C@H](C)...</td>\n",
       "      <td>4.634</td>\n",
       "      <td>418.566</td>\n",
       "      <td>5.0</td>\n",
       "      <td>1.0</td>\n",
       "      <td>7.0</td>\n",
       "      <td>4.634</td>\n",
       "      <td>72.83</td>\n",
       "    </tr>\n",
       "    <tr>\n",
       "      <th>3334</th>\n",
       "      <td>COc1cc2c(cc1OC)/C(=N\\c1ccccc1)N(Cc1ccccc1F)CC2</td>\n",
       "      <td>4.911</td>\n",
       "      <td>390.450</td>\n",
       "      <td>3.0</td>\n",
       "      <td>0.0</td>\n",
       "      <td>5.0</td>\n",
       "      <td>4.911</td>\n",
       "      <td>34.06</td>\n",
       "    </tr>\n",
       "    <tr>\n",
       "      <th>3481</th>\n",
       "      <td>[H]C1(C(O)c2ccc3c(c2)OCO3)C(=O)Oc2cc(OC)ccc2C1...</td>\n",
       "      <td>3.942</td>\n",
       "      <td>404.412</td>\n",
       "      <td>6.0</td>\n",
       "      <td>1.0</td>\n",
       "      <td>4.0</td>\n",
       "      <td>3.942</td>\n",
       "      <td>74.22</td>\n",
       "    </tr>\n",
       "  </tbody>\n",
       "</table>\n",
       "</div>"
      ],
      "text/plain": [
       "                                                 SMILES  AlogP  \\\n",
       "2752  [H][C@]1(CC[C@@]2([H])[C@@H](C)C=CC3=C[C@H](C)...  4.634   \n",
       "3334     COc1cc2c(cc1OC)/C(=N\\c1ccccc1)N(Cc1ccccc1F)CC2  4.911   \n",
       "3481  [H]C1(C(O)c2ccc3c(c2)OCO3)C(=O)Oc2cc(OC)ccc2C1...  3.942   \n",
       "\n",
       "      Molecular_Weight  Num_H_Acceptors  Num_H_Donors  Num_RotatableBonds  \\\n",
       "2752           418.566              5.0           1.0                 7.0   \n",
       "3334           390.450              3.0           0.0                 5.0   \n",
       "3481           404.412              6.0           1.0                 4.0   \n",
       "\n",
       "       LogD  Molecular_PolarSurfaceArea  \n",
       "2752  4.634                       72.83  \n",
       "3334  4.911                       34.06  \n",
       "3481  3.942                       74.22  "
      ]
     },
     "execution_count": 12,
     "metadata": {},
     "output_type": "execute_result"
    }
   ],
   "source": [
    "# 결측치 LogD 값으로 대체 (corr = 0.96)\n",
    "df_total['AlogP'].fillna(df_total['LogD'], inplace=True)\n",
    "row_2752 = df_total.loc[[2752]]\n",
    "row_3334 = df_total.loc[[3334]]\n",
    "row_3481 = df_total.loc[[3481]]\n",
    "\n",
    "missing_df = pd.concat([row_2752, row_3334, row_3481])\n",
    "missing_df"
   ]
  },
  {
   "cell_type": "code",
   "execution_count": 13,
   "metadata": {},
   "outputs": [
    {
     "data": {
      "text/plain": [
       "SMILES                        0\n",
       "AlogP                         0\n",
       "Molecular_Weight              0\n",
       "Num_H_Acceptors               0\n",
       "Num_H_Donors                  0\n",
       "Num_RotatableBonds            0\n",
       "LogD                          0\n",
       "Molecular_PolarSurfaceArea    0\n",
       "dtype: int64"
      ]
     },
     "execution_count": 13,
     "metadata": {},
     "output_type": "execute_result"
    }
   ],
   "source": [
    "df_total.isna().sum()"
   ]
  },
  {
   "cell_type": "code",
   "execution_count": 14,
   "metadata": {},
   "outputs": [
    {
     "name": "stdout",
     "output_type": "stream",
     "text": [
      "dataset size: (3954, 8)\n"
     ]
    },
    {
     "data": {
      "text/html": [
       "<div>\n",
       "<style scoped>\n",
       "    .dataframe tbody tr th:only-of-type {\n",
       "        vertical-align: middle;\n",
       "    }\n",
       "\n",
       "    .dataframe tbody tr th {\n",
       "        vertical-align: top;\n",
       "    }\n",
       "\n",
       "    .dataframe thead th {\n",
       "        text-align: right;\n",
       "    }\n",
       "</style>\n",
       "<table border=\"1\" class=\"dataframe\">\n",
       "  <thead>\n",
       "    <tr style=\"text-align: right;\">\n",
       "      <th></th>\n",
       "      <th>feature</th>\n",
       "      <th>data type</th>\n",
       "      <th>num of missing value</th>\n",
       "      <th>num of unique value</th>\n",
       "      <th>First value</th>\n",
       "      <th>Second value</th>\n",
       "      <th>Third value</th>\n",
       "    </tr>\n",
       "  </thead>\n",
       "  <tbody>\n",
       "    <tr>\n",
       "      <th>0</th>\n",
       "      <td>SMILES</td>\n",
       "      <td>object</td>\n",
       "      <td>0</td>\n",
       "      <td>3954</td>\n",
       "      <td>CCOc1ccc(CNC(=O)c2cc(-c3sc(C)nc3C)n[nH]2)cc1OCC</td>\n",
       "      <td>Cc1nc(C)c(CN2CC(C)C(=O)Nc3ccccc32)s1</td>\n",
       "      <td>CCCN1CCN(c2nn3nnnc3c3ccccc23)CC1</td>\n",
       "    </tr>\n",
       "    <tr>\n",
       "      <th>1</th>\n",
       "      <td>AlogP</td>\n",
       "      <td>float64</td>\n",
       "      <td>0</td>\n",
       "      <td>2837</td>\n",
       "      <td>3.259</td>\n",
       "      <td>2.169</td>\n",
       "      <td>1.593</td>\n",
       "    </tr>\n",
       "    <tr>\n",
       "      <th>2</th>\n",
       "      <td>Molecular_Weight</td>\n",
       "      <td>float64</td>\n",
       "      <td>0</td>\n",
       "      <td>3425</td>\n",
       "      <td>400.495</td>\n",
       "      <td>301.407</td>\n",
       "      <td>297.358</td>\n",
       "    </tr>\n",
       "    <tr>\n",
       "      <th>3</th>\n",
       "      <td>Num_H_Acceptors</td>\n",
       "      <td>float64</td>\n",
       "      <td>0</td>\n",
       "      <td>15</td>\n",
       "      <td>5.0</td>\n",
       "      <td>2.0</td>\n",
       "      <td>5.0</td>\n",
       "    </tr>\n",
       "    <tr>\n",
       "      <th>4</th>\n",
       "      <td>Num_H_Donors</td>\n",
       "      <td>float64</td>\n",
       "      <td>0</td>\n",
       "      <td>10</td>\n",
       "      <td>2.0</td>\n",
       "      <td>1.0</td>\n",
       "      <td>0.0</td>\n",
       "    </tr>\n",
       "    <tr>\n",
       "      <th>5</th>\n",
       "      <td>Num_RotatableBonds</td>\n",
       "      <td>float64</td>\n",
       "      <td>0</td>\n",
       "      <td>21</td>\n",
       "      <td>8.0</td>\n",
       "      <td>2.0</td>\n",
       "      <td>3.0</td>\n",
       "    </tr>\n",
       "    <tr>\n",
       "      <th>6</th>\n",
       "      <td>LogD</td>\n",
       "      <td>float64</td>\n",
       "      <td>0</td>\n",
       "      <td>2910</td>\n",
       "      <td>3.259</td>\n",
       "      <td>2.172</td>\n",
       "      <td>1.585</td>\n",
       "    </tr>\n",
       "    <tr>\n",
       "      <th>7</th>\n",
       "      <td>Molecular_PolarSurfaceArea</td>\n",
       "      <td>float64</td>\n",
       "      <td>0</td>\n",
       "      <td>2378</td>\n",
       "      <td>117.37</td>\n",
       "      <td>73.47</td>\n",
       "      <td>62.45</td>\n",
       "    </tr>\n",
       "  </tbody>\n",
       "</table>\n",
       "</div>"
      ],
      "text/plain": [
       "                      feature data type  num of missing value  \\\n",
       "0                      SMILES    object                     0   \n",
       "1                       AlogP   float64                     0   \n",
       "2            Molecular_Weight   float64                     0   \n",
       "3             Num_H_Acceptors   float64                     0   \n",
       "4                Num_H_Donors   float64                     0   \n",
       "5          Num_RotatableBonds   float64                     0   \n",
       "6                        LogD   float64                     0   \n",
       "7  Molecular_PolarSurfaceArea   float64                     0   \n",
       "\n",
       "   num of unique value                                      First value  \\\n",
       "0                 3954  CCOc1ccc(CNC(=O)c2cc(-c3sc(C)nc3C)n[nH]2)cc1OCC   \n",
       "1                 2837                                            3.259   \n",
       "2                 3425                                          400.495   \n",
       "3                   15                                              5.0   \n",
       "4                   10                                              2.0   \n",
       "5                   21                                              8.0   \n",
       "6                 2910                                            3.259   \n",
       "7                 2378                                           117.37   \n",
       "\n",
       "                           Second value                       Third value  \n",
       "0  Cc1nc(C)c(CN2CC(C)C(=O)Nc3ccccc32)s1  CCCN1CCN(c2nn3nnnc3c3ccccc23)CC1  \n",
       "1                                 2.169                             1.593  \n",
       "2                               301.407                           297.358  \n",
       "3                                   2.0                               5.0  \n",
       "4                                   1.0                               0.0  \n",
       "5                                   2.0                               3.0  \n",
       "6                                 2.172                             1.585  \n",
       "7                                 73.47                             62.45  "
      ]
     },
     "execution_count": 14,
     "metadata": {},
     "output_type": "execute_result"
    }
   ],
   "source": [
    "def resumetable(df):\n",
    "    print(f'dataset size: {df.shape}')\n",
    "    summary = pd.DataFrame(df.dtypes, columns=['data type'])\n",
    "    summary = summary.reset_index()\n",
    "    summary = summary.rename(columns={'index': 'feature'})\n",
    "    summary['num of missing value'] = df.isnull().sum().values\n",
    "    summary['num of unique value'] = df.nunique().values\n",
    "    summary['First value'] = df.loc[0].values\n",
    "    summary['Second value'] = df.loc[1].values\n",
    "    summary['Third value'] = df.loc[2].values\n",
    "    return summary\n",
    "\n",
    "resumetable(df_total)"
   ]
  },
  {
   "cell_type": "code",
   "execution_count": 15,
   "metadata": {},
   "outputs": [
    {
     "data": {
      "text/html": [
       "<div>\n",
       "<style scoped>\n",
       "    .dataframe tbody tr th:only-of-type {\n",
       "        vertical-align: middle;\n",
       "    }\n",
       "\n",
       "    .dataframe tbody tr th {\n",
       "        vertical-align: top;\n",
       "    }\n",
       "\n",
       "    .dataframe thead th {\n",
       "        text-align: right;\n",
       "    }\n",
       "</style>\n",
       "<table border=\"1\" class=\"dataframe\">\n",
       "  <thead>\n",
       "    <tr style=\"text-align: right;\">\n",
       "      <th></th>\n",
       "      <th>SMILES</th>\n",
       "      <th>AlogP</th>\n",
       "      <th>Molecular_Weight</th>\n",
       "      <th>Num_H_Acceptors</th>\n",
       "      <th>Num_H_Donors</th>\n",
       "      <th>Num_RotatableBonds</th>\n",
       "      <th>LogD</th>\n",
       "      <th>Molecular_PolarSurfaceArea</th>\n",
       "      <th>C</th>\n",
       "      <th>O</th>\n",
       "      <th>N</th>\n",
       "      <th>S</th>\n",
       "      <th>F</th>\n",
       "      <th>Cl</th>\n",
       "      <th>Br</th>\n",
       "      <th>Se</th>\n",
       "      <th>I</th>\n",
       "      <th>P</th>\n",
       "    </tr>\n",
       "  </thead>\n",
       "  <tbody>\n",
       "    <tr>\n",
       "      <th>0</th>\n",
       "      <td>CCOc1ccc(CNC(=O)c2cc(-c3sc(C)nc3C)n[nH]2)cc1OCC</td>\n",
       "      <td>3.259</td>\n",
       "      <td>400.495</td>\n",
       "      <td>5.0</td>\n",
       "      <td>2.0</td>\n",
       "      <td>8.0</td>\n",
       "      <td>3.259</td>\n",
       "      <td>117.37</td>\n",
       "      <td>20</td>\n",
       "      <td>3</td>\n",
       "      <td>4</td>\n",
       "      <td>1</td>\n",
       "      <td>0</td>\n",
       "      <td>0</td>\n",
       "      <td>0</td>\n",
       "      <td>0</td>\n",
       "      <td>0</td>\n",
       "      <td>0</td>\n",
       "    </tr>\n",
       "    <tr>\n",
       "      <th>1</th>\n",
       "      <td>Cc1nc(C)c(CN2CC(C)C(=O)Nc3ccccc32)s1</td>\n",
       "      <td>2.169</td>\n",
       "      <td>301.407</td>\n",
       "      <td>2.0</td>\n",
       "      <td>1.0</td>\n",
       "      <td>2.0</td>\n",
       "      <td>2.172</td>\n",
       "      <td>73.47</td>\n",
       "      <td>16</td>\n",
       "      <td>1</td>\n",
       "      <td>3</td>\n",
       "      <td>1</td>\n",
       "      <td>0</td>\n",
       "      <td>0</td>\n",
       "      <td>0</td>\n",
       "      <td>0</td>\n",
       "      <td>0</td>\n",
       "      <td>0</td>\n",
       "    </tr>\n",
       "    <tr>\n",
       "      <th>2</th>\n",
       "      <td>CCCN1CCN(c2nn3nnnc3c3ccccc23)CC1</td>\n",
       "      <td>1.593</td>\n",
       "      <td>297.358</td>\n",
       "      <td>5.0</td>\n",
       "      <td>0.0</td>\n",
       "      <td>3.0</td>\n",
       "      <td>1.585</td>\n",
       "      <td>62.45</td>\n",
       "      <td>15</td>\n",
       "      <td>0</td>\n",
       "      <td>7</td>\n",
       "      <td>0</td>\n",
       "      <td>0</td>\n",
       "      <td>0</td>\n",
       "      <td>0</td>\n",
       "      <td>0</td>\n",
       "      <td>0</td>\n",
       "      <td>0</td>\n",
       "    </tr>\n",
       "    <tr>\n",
       "      <th>3</th>\n",
       "      <td>Cc1ccc(-c2ccc(-n3nc(C)c(S(=O)(=O)N4CCN(C5CCCCC...</td>\n",
       "      <td>4.771</td>\n",
       "      <td>494.652</td>\n",
       "      <td>6.0</td>\n",
       "      <td>0.0</td>\n",
       "      <td>5.0</td>\n",
       "      <td>3.475</td>\n",
       "      <td>92.60</td>\n",
       "      <td>26</td>\n",
       "      <td>2</td>\n",
       "      <td>6</td>\n",
       "      <td>1</td>\n",
       "      <td>0</td>\n",
       "      <td>0</td>\n",
       "      <td>0</td>\n",
       "      <td>0</td>\n",
       "      <td>0</td>\n",
       "      <td>0</td>\n",
       "    </tr>\n",
       "    <tr>\n",
       "      <th>4</th>\n",
       "      <td>Cc1ccc2c(c1)N(C(=O)c1ccncc1)CC(C)O2</td>\n",
       "      <td>2.335</td>\n",
       "      <td>268.310</td>\n",
       "      <td>3.0</td>\n",
       "      <td>0.0</td>\n",
       "      <td>1.0</td>\n",
       "      <td>2.337</td>\n",
       "      <td>42.43</td>\n",
       "      <td>16</td>\n",
       "      <td>2</td>\n",
       "      <td>2</td>\n",
       "      <td>0</td>\n",
       "      <td>0</td>\n",
       "      <td>0</td>\n",
       "      <td>0</td>\n",
       "      <td>0</td>\n",
       "      <td>0</td>\n",
       "      <td>0</td>\n",
       "    </tr>\n",
       "    <tr>\n",
       "      <th>...</th>\n",
       "      <td>...</td>\n",
       "      <td>...</td>\n",
       "      <td>...</td>\n",
       "      <td>...</td>\n",
       "      <td>...</td>\n",
       "      <td>...</td>\n",
       "      <td>...</td>\n",
       "      <td>...</td>\n",
       "      <td>...</td>\n",
       "      <td>...</td>\n",
       "      <td>...</td>\n",
       "      <td>...</td>\n",
       "      <td>...</td>\n",
       "      <td>...</td>\n",
       "      <td>...</td>\n",
       "      <td>...</td>\n",
       "      <td>...</td>\n",
       "      <td>...</td>\n",
       "    </tr>\n",
       "    <tr>\n",
       "      <th>3949</th>\n",
       "      <td>CCc1noc(CC)c1CC(=O)NCC1(CC)CCCCC1</td>\n",
       "      <td>4.207</td>\n",
       "      <td>306.443</td>\n",
       "      <td>2.0</td>\n",
       "      <td>1.0</td>\n",
       "      <td>7.0</td>\n",
       "      <td>4.207</td>\n",
       "      <td>55.13</td>\n",
       "      <td>18</td>\n",
       "      <td>2</td>\n",
       "      <td>2</td>\n",
       "      <td>0</td>\n",
       "      <td>0</td>\n",
       "      <td>0</td>\n",
       "      <td>0</td>\n",
       "      <td>0</td>\n",
       "      <td>0</td>\n",
       "      <td>0</td>\n",
       "    </tr>\n",
       "    <tr>\n",
       "      <th>3950</th>\n",
       "      <td>CC(=O)N1CCC2(CC1)OC(=O)C(C)=C2C(=O)N1CCN(C)CC1</td>\n",
       "      <td>-0.608</td>\n",
       "      <td>335.398</td>\n",
       "      <td>5.0</td>\n",
       "      <td>0.0</td>\n",
       "      <td>1.0</td>\n",
       "      <td>-1.736</td>\n",
       "      <td>70.16</td>\n",
       "      <td>17</td>\n",
       "      <td>4</td>\n",
       "      <td>3</td>\n",
       "      <td>0</td>\n",
       "      <td>0</td>\n",
       "      <td>0</td>\n",
       "      <td>0</td>\n",
       "      <td>0</td>\n",
       "      <td>0</td>\n",
       "      <td>0</td>\n",
       "    </tr>\n",
       "    <tr>\n",
       "      <th>3951</th>\n",
       "      <td>CC(C)NC(=O)CN1C(=O)c2ccccc2N2C(=O)c3ccccc3C12</td>\n",
       "      <td>1.792</td>\n",
       "      <td>349.383</td>\n",
       "      <td>3.0</td>\n",
       "      <td>1.0</td>\n",
       "      <td>3.0</td>\n",
       "      <td>1.792</td>\n",
       "      <td>69.72</td>\n",
       "      <td>20</td>\n",
       "      <td>3</td>\n",
       "      <td>3</td>\n",
       "      <td>0</td>\n",
       "      <td>0</td>\n",
       "      <td>0</td>\n",
       "      <td>0</td>\n",
       "      <td>0</td>\n",
       "      <td>0</td>\n",
       "      <td>0</td>\n",
       "    </tr>\n",
       "    <tr>\n",
       "      <th>3952</th>\n",
       "      <td>Cn1cc(Br)c(=O)c(NC(=O)c2ccc(O)cc2F)c1</td>\n",
       "      <td>0.790</td>\n",
       "      <td>341.132</td>\n",
       "      <td>3.0</td>\n",
       "      <td>2.0</td>\n",
       "      <td>2.0</td>\n",
       "      <td>0.423</td>\n",
       "      <td>69.64</td>\n",
       "      <td>13</td>\n",
       "      <td>3</td>\n",
       "      <td>2</td>\n",
       "      <td>0</td>\n",
       "      <td>1</td>\n",
       "      <td>0</td>\n",
       "      <td>1</td>\n",
       "      <td>0</td>\n",
       "      <td>0</td>\n",
       "      <td>0</td>\n",
       "    </tr>\n",
       "    <tr>\n",
       "      <th>3953</th>\n",
       "      <td>CC(C)C(CCN1CCN(C)CC1)c1ccco1</td>\n",
       "      <td>2.782</td>\n",
       "      <td>250.380</td>\n",
       "      <td>2.0</td>\n",
       "      <td>0.0</td>\n",
       "      <td>5.0</td>\n",
       "      <td>0.606</td>\n",
       "      <td>19.62</td>\n",
       "      <td>15</td>\n",
       "      <td>1</td>\n",
       "      <td>2</td>\n",
       "      <td>0</td>\n",
       "      <td>0</td>\n",
       "      <td>0</td>\n",
       "      <td>0</td>\n",
       "      <td>0</td>\n",
       "      <td>0</td>\n",
       "      <td>0</td>\n",
       "    </tr>\n",
       "  </tbody>\n",
       "</table>\n",
       "<p>3954 rows × 18 columns</p>\n",
       "</div>"
      ],
      "text/plain": [
       "                                                 SMILES  AlogP  \\\n",
       "0       CCOc1ccc(CNC(=O)c2cc(-c3sc(C)nc3C)n[nH]2)cc1OCC  3.259   \n",
       "1                  Cc1nc(C)c(CN2CC(C)C(=O)Nc3ccccc32)s1  2.169   \n",
       "2                      CCCN1CCN(c2nn3nnnc3c3ccccc23)CC1  1.593   \n",
       "3     Cc1ccc(-c2ccc(-n3nc(C)c(S(=O)(=O)N4CCN(C5CCCCC...  4.771   \n",
       "4                   Cc1ccc2c(c1)N(C(=O)c1ccncc1)CC(C)O2  2.335   \n",
       "...                                                 ...    ...   \n",
       "3949                  CCc1noc(CC)c1CC(=O)NCC1(CC)CCCCC1  4.207   \n",
       "3950     CC(=O)N1CCC2(CC1)OC(=O)C(C)=C2C(=O)N1CCN(C)CC1 -0.608   \n",
       "3951      CC(C)NC(=O)CN1C(=O)c2ccccc2N2C(=O)c3ccccc3C12  1.792   \n",
       "3952              Cn1cc(Br)c(=O)c(NC(=O)c2ccc(O)cc2F)c1  0.790   \n",
       "3953                       CC(C)C(CCN1CCN(C)CC1)c1ccco1  2.782   \n",
       "\n",
       "      Molecular_Weight  Num_H_Acceptors  Num_H_Donors  Num_RotatableBonds  \\\n",
       "0              400.495              5.0           2.0                 8.0   \n",
       "1              301.407              2.0           1.0                 2.0   \n",
       "2              297.358              5.0           0.0                 3.0   \n",
       "3              494.652              6.0           0.0                 5.0   \n",
       "4              268.310              3.0           0.0                 1.0   \n",
       "...                ...              ...           ...                 ...   \n",
       "3949           306.443              2.0           1.0                 7.0   \n",
       "3950           335.398              5.0           0.0                 1.0   \n",
       "3951           349.383              3.0           1.0                 3.0   \n",
       "3952           341.132              3.0           2.0                 2.0   \n",
       "3953           250.380              2.0           0.0                 5.0   \n",
       "\n",
       "       LogD  Molecular_PolarSurfaceArea   C  O  N  S  F  Cl  Br  Se  I  P  \n",
       "0     3.259                      117.37  20  3  4  1  0   0   0   0  0  0  \n",
       "1     2.172                       73.47  16  1  3  1  0   0   0   0  0  0  \n",
       "2     1.585                       62.45  15  0  7  0  0   0   0   0  0  0  \n",
       "3     3.475                       92.60  26  2  6  1  0   0   0   0  0  0  \n",
       "4     2.337                       42.43  16  2  2  0  0   0   0   0  0  0  \n",
       "...     ...                         ...  .. .. .. .. ..  ..  ..  .. .. ..  \n",
       "3949  4.207                       55.13  18  2  2  0  0   0   0   0  0  0  \n",
       "3950 -1.736                       70.16  17  4  3  0  0   0   0   0  0  0  \n",
       "3951  1.792                       69.72  20  3  3  0  0   0   0   0  0  0  \n",
       "3952  0.423                       69.64  13  3  2  0  1   0   1   0  0  0  \n",
       "3953  0.606                       19.62  15  1  2  0  0   0   0   0  0  0  \n",
       "\n",
       "[3954 rows x 18 columns]"
      ]
     },
     "execution_count": 15,
     "metadata": {},
     "output_type": "execute_result"
    }
   ],
   "source": [
    "from rdkit import Chem, DataStructs\n",
    "from rdkit.Chem import Draw, Descriptors, AllChem\n",
    "from rdkit.Chem.Draw import IPythonConsole\n",
    "from collections import Counter\n",
    "\n",
    "def count_atoms(smiles):\n",
    "    mol = Chem.MolFromSmiles(smiles)\n",
    "    if mol is not None:\n",
    "        atom_symbols = [atom.GetSymbol() for atom in mol.GetAtoms()]\n",
    "        atom_counts = dict(Counter(atom_symbols))\n",
    "        return atom_counts\n",
    "    else:\n",
    "        return {}\n",
    "\n",
    "df_total['Atom_Counts'] = df_total['SMILES'].apply(count_atoms)\n",
    "atom_counts_df = pd.DataFrame(df_total['Atom_Counts'].tolist()).fillna(0).astype(int)\n",
    "df_total = pd.concat([df_total, atom_counts_df], axis=1)\n",
    "df_total = df_total.drop(columns=['Atom_Counts'])\n",
    "\n",
    "df_total"
   ]
  },
  {
   "cell_type": "code",
   "execution_count": 16,
   "metadata": {},
   "outputs": [
    {
     "data": {
      "text/html": [
       "<div>\n",
       "<style scoped>\n",
       "    .dataframe tbody tr th:only-of-type {\n",
       "        vertical-align: middle;\n",
       "    }\n",
       "\n",
       "    .dataframe tbody tr th {\n",
       "        vertical-align: top;\n",
       "    }\n",
       "\n",
       "    .dataframe thead th {\n",
       "        text-align: right;\n",
       "    }\n",
       "</style>\n",
       "<table border=\"1\" class=\"dataframe\">\n",
       "  <thead>\n",
       "    <tr style=\"text-align: right;\">\n",
       "      <th></th>\n",
       "      <th>SMILES</th>\n",
       "      <th>AlogP</th>\n",
       "      <th>Molecular_Weight</th>\n",
       "      <th>Num_H_Acceptors</th>\n",
       "      <th>Num_H_Donors</th>\n",
       "      <th>Num_RotatableBonds</th>\n",
       "      <th>LogD</th>\n",
       "      <th>Molecular_PolarSurfaceArea</th>\n",
       "      <th>C</th>\n",
       "      <th>O</th>\n",
       "      <th>...</th>\n",
       "      <th>F</th>\n",
       "      <th>Cl</th>\n",
       "      <th>Br</th>\n",
       "      <th>Se</th>\n",
       "      <th>I</th>\n",
       "      <th>P</th>\n",
       "      <th>Bond_1.0</th>\n",
       "      <th>Bond_1.5</th>\n",
       "      <th>Bond_2.0</th>\n",
       "      <th>Bond_3.0</th>\n",
       "    </tr>\n",
       "  </thead>\n",
       "  <tbody>\n",
       "    <tr>\n",
       "      <th>0</th>\n",
       "      <td>CCOc1ccc(CNC(=O)c2cc(-c3sc(C)nc3C)n[nH]2)cc1OCC</td>\n",
       "      <td>3.259</td>\n",
       "      <td>400.495</td>\n",
       "      <td>5.0</td>\n",
       "      <td>2.0</td>\n",
       "      <td>8.0</td>\n",
       "      <td>3.259</td>\n",
       "      <td>117.37</td>\n",
       "      <td>20</td>\n",
       "      <td>3</td>\n",
       "      <td>...</td>\n",
       "      <td>0</td>\n",
       "      <td>0</td>\n",
       "      <td>0</td>\n",
       "      <td>0</td>\n",
       "      <td>0</td>\n",
       "      <td>0</td>\n",
       "      <td>13</td>\n",
       "      <td>16</td>\n",
       "      <td>1</td>\n",
       "      <td>0</td>\n",
       "    </tr>\n",
       "    <tr>\n",
       "      <th>1</th>\n",
       "      <td>Cc1nc(C)c(CN2CC(C)C(=O)Nc3ccccc32)s1</td>\n",
       "      <td>2.169</td>\n",
       "      <td>301.407</td>\n",
       "      <td>2.0</td>\n",
       "      <td>1.0</td>\n",
       "      <td>2.0</td>\n",
       "      <td>2.172</td>\n",
       "      <td>73.47</td>\n",
       "      <td>16</td>\n",
       "      <td>1</td>\n",
       "      <td>...</td>\n",
       "      <td>0</td>\n",
       "      <td>0</td>\n",
       "      <td>0</td>\n",
       "      <td>0</td>\n",
       "      <td>0</td>\n",
       "      <td>0</td>\n",
       "      <td>11</td>\n",
       "      <td>11</td>\n",
       "      <td>1</td>\n",
       "      <td>0</td>\n",
       "    </tr>\n",
       "    <tr>\n",
       "      <th>2</th>\n",
       "      <td>CCCN1CCN(c2nn3nnnc3c3ccccc23)CC1</td>\n",
       "      <td>1.593</td>\n",
       "      <td>297.358</td>\n",
       "      <td>5.0</td>\n",
       "      <td>0.0</td>\n",
       "      <td>3.0</td>\n",
       "      <td>1.585</td>\n",
       "      <td>62.45</td>\n",
       "      <td>15</td>\n",
       "      <td>0</td>\n",
       "      <td>...</td>\n",
       "      <td>0</td>\n",
       "      <td>0</td>\n",
       "      <td>0</td>\n",
       "      <td>0</td>\n",
       "      <td>0</td>\n",
       "      <td>0</td>\n",
       "      <td>10</td>\n",
       "      <td>15</td>\n",
       "      <td>0</td>\n",
       "      <td>0</td>\n",
       "    </tr>\n",
       "    <tr>\n",
       "      <th>3</th>\n",
       "      <td>Cc1ccc(-c2ccc(-n3nc(C)c(S(=O)(=O)N4CCN(C5CCCCC...</td>\n",
       "      <td>4.771</td>\n",
       "      <td>494.652</td>\n",
       "      <td>6.0</td>\n",
       "      <td>0.0</td>\n",
       "      <td>5.0</td>\n",
       "      <td>3.475</td>\n",
       "      <td>92.60</td>\n",
       "      <td>26</td>\n",
       "      <td>2</td>\n",
       "      <td>...</td>\n",
       "      <td>0</td>\n",
       "      <td>0</td>\n",
       "      <td>0</td>\n",
       "      <td>0</td>\n",
       "      <td>0</td>\n",
       "      <td>0</td>\n",
       "      <td>20</td>\n",
       "      <td>17</td>\n",
       "      <td>2</td>\n",
       "      <td>0</td>\n",
       "    </tr>\n",
       "    <tr>\n",
       "      <th>4</th>\n",
       "      <td>Cc1ccc2c(c1)N(C(=O)c1ccncc1)CC(C)O2</td>\n",
       "      <td>2.335</td>\n",
       "      <td>268.310</td>\n",
       "      <td>3.0</td>\n",
       "      <td>0.0</td>\n",
       "      <td>1.0</td>\n",
       "      <td>2.337</td>\n",
       "      <td>42.43</td>\n",
       "      <td>16</td>\n",
       "      <td>2</td>\n",
       "      <td>...</td>\n",
       "      <td>0</td>\n",
       "      <td>0</td>\n",
       "      <td>0</td>\n",
       "      <td>0</td>\n",
       "      <td>0</td>\n",
       "      <td>0</td>\n",
       "      <td>9</td>\n",
       "      <td>12</td>\n",
       "      <td>1</td>\n",
       "      <td>0</td>\n",
       "    </tr>\n",
       "    <tr>\n",
       "      <th>...</th>\n",
       "      <td>...</td>\n",
       "      <td>...</td>\n",
       "      <td>...</td>\n",
       "      <td>...</td>\n",
       "      <td>...</td>\n",
       "      <td>...</td>\n",
       "      <td>...</td>\n",
       "      <td>...</td>\n",
       "      <td>...</td>\n",
       "      <td>...</td>\n",
       "      <td>...</td>\n",
       "      <td>...</td>\n",
       "      <td>...</td>\n",
       "      <td>...</td>\n",
       "      <td>...</td>\n",
       "      <td>...</td>\n",
       "      <td>...</td>\n",
       "      <td>...</td>\n",
       "      <td>...</td>\n",
       "      <td>...</td>\n",
       "      <td>...</td>\n",
       "    </tr>\n",
       "    <tr>\n",
       "      <th>3949</th>\n",
       "      <td>CCc1noc(CC)c1CC(=O)NCC1(CC)CCCCC1</td>\n",
       "      <td>4.207</td>\n",
       "      <td>306.443</td>\n",
       "      <td>2.0</td>\n",
       "      <td>1.0</td>\n",
       "      <td>7.0</td>\n",
       "      <td>4.207</td>\n",
       "      <td>55.13</td>\n",
       "      <td>18</td>\n",
       "      <td>2</td>\n",
       "      <td>...</td>\n",
       "      <td>0</td>\n",
       "      <td>0</td>\n",
       "      <td>0</td>\n",
       "      <td>0</td>\n",
       "      <td>0</td>\n",
       "      <td>0</td>\n",
       "      <td>17</td>\n",
       "      <td>5</td>\n",
       "      <td>1</td>\n",
       "      <td>0</td>\n",
       "    </tr>\n",
       "    <tr>\n",
       "      <th>3950</th>\n",
       "      <td>CC(=O)N1CCC2(CC1)OC(=O)C(C)=C2C(=O)N1CCN(C)CC1</td>\n",
       "      <td>-0.608</td>\n",
       "      <td>335.398</td>\n",
       "      <td>5.0</td>\n",
       "      <td>0.0</td>\n",
       "      <td>1.0</td>\n",
       "      <td>-1.736</td>\n",
       "      <td>70.16</td>\n",
       "      <td>17</td>\n",
       "      <td>4</td>\n",
       "      <td>...</td>\n",
       "      <td>0</td>\n",
       "      <td>0</td>\n",
       "      <td>0</td>\n",
       "      <td>0</td>\n",
       "      <td>0</td>\n",
       "      <td>0</td>\n",
       "      <td>22</td>\n",
       "      <td>0</td>\n",
       "      <td>4</td>\n",
       "      <td>0</td>\n",
       "    </tr>\n",
       "    <tr>\n",
       "      <th>3951</th>\n",
       "      <td>CC(C)NC(=O)CN1C(=O)c2ccccc2N2C(=O)c3ccccc3C12</td>\n",
       "      <td>1.792</td>\n",
       "      <td>349.383</td>\n",
       "      <td>3.0</td>\n",
       "      <td>1.0</td>\n",
       "      <td>3.0</td>\n",
       "      <td>1.792</td>\n",
       "      <td>69.72</td>\n",
       "      <td>20</td>\n",
       "      <td>3</td>\n",
       "      <td>...</td>\n",
       "      <td>0</td>\n",
       "      <td>0</td>\n",
       "      <td>0</td>\n",
       "      <td>0</td>\n",
       "      <td>0</td>\n",
       "      <td>0</td>\n",
       "      <td>14</td>\n",
       "      <td>12</td>\n",
       "      <td>3</td>\n",
       "      <td>0</td>\n",
       "    </tr>\n",
       "    <tr>\n",
       "      <th>3952</th>\n",
       "      <td>Cn1cc(Br)c(=O)c(NC(=O)c2ccc(O)cc2F)c1</td>\n",
       "      <td>0.790</td>\n",
       "      <td>341.132</td>\n",
       "      <td>3.0</td>\n",
       "      <td>2.0</td>\n",
       "      <td>2.0</td>\n",
       "      <td>0.423</td>\n",
       "      <td>69.64</td>\n",
       "      <td>13</td>\n",
       "      <td>3</td>\n",
       "      <td>...</td>\n",
       "      <td>1</td>\n",
       "      <td>0</td>\n",
       "      <td>1</td>\n",
       "      <td>0</td>\n",
       "      <td>0</td>\n",
       "      <td>0</td>\n",
       "      <td>7</td>\n",
       "      <td>12</td>\n",
       "      <td>2</td>\n",
       "      <td>0</td>\n",
       "    </tr>\n",
       "    <tr>\n",
       "      <th>3953</th>\n",
       "      <td>CC(C)C(CCN1CCN(C)CC1)c1ccco1</td>\n",
       "      <td>2.782</td>\n",
       "      <td>250.380</td>\n",
       "      <td>2.0</td>\n",
       "      <td>0.0</td>\n",
       "      <td>5.0</td>\n",
       "      <td>0.606</td>\n",
       "      <td>19.62</td>\n",
       "      <td>15</td>\n",
       "      <td>1</td>\n",
       "      <td>...</td>\n",
       "      <td>0</td>\n",
       "      <td>0</td>\n",
       "      <td>0</td>\n",
       "      <td>0</td>\n",
       "      <td>0</td>\n",
       "      <td>0</td>\n",
       "      <td>14</td>\n",
       "      <td>5</td>\n",
       "      <td>0</td>\n",
       "      <td>0</td>\n",
       "    </tr>\n",
       "  </tbody>\n",
       "</table>\n",
       "<p>3954 rows × 22 columns</p>\n",
       "</div>"
      ],
      "text/plain": [
       "                                                 SMILES  AlogP  \\\n",
       "0       CCOc1ccc(CNC(=O)c2cc(-c3sc(C)nc3C)n[nH]2)cc1OCC  3.259   \n",
       "1                  Cc1nc(C)c(CN2CC(C)C(=O)Nc3ccccc32)s1  2.169   \n",
       "2                      CCCN1CCN(c2nn3nnnc3c3ccccc23)CC1  1.593   \n",
       "3     Cc1ccc(-c2ccc(-n3nc(C)c(S(=O)(=O)N4CCN(C5CCCCC...  4.771   \n",
       "4                   Cc1ccc2c(c1)N(C(=O)c1ccncc1)CC(C)O2  2.335   \n",
       "...                                                 ...    ...   \n",
       "3949                  CCc1noc(CC)c1CC(=O)NCC1(CC)CCCCC1  4.207   \n",
       "3950     CC(=O)N1CCC2(CC1)OC(=O)C(C)=C2C(=O)N1CCN(C)CC1 -0.608   \n",
       "3951      CC(C)NC(=O)CN1C(=O)c2ccccc2N2C(=O)c3ccccc3C12  1.792   \n",
       "3952              Cn1cc(Br)c(=O)c(NC(=O)c2ccc(O)cc2F)c1  0.790   \n",
       "3953                       CC(C)C(CCN1CCN(C)CC1)c1ccco1  2.782   \n",
       "\n",
       "      Molecular_Weight  Num_H_Acceptors  Num_H_Donors  Num_RotatableBonds  \\\n",
       "0              400.495              5.0           2.0                 8.0   \n",
       "1              301.407              2.0           1.0                 2.0   \n",
       "2              297.358              5.0           0.0                 3.0   \n",
       "3              494.652              6.0           0.0                 5.0   \n",
       "4              268.310              3.0           0.0                 1.0   \n",
       "...                ...              ...           ...                 ...   \n",
       "3949           306.443              2.0           1.0                 7.0   \n",
       "3950           335.398              5.0           0.0                 1.0   \n",
       "3951           349.383              3.0           1.0                 3.0   \n",
       "3952           341.132              3.0           2.0                 2.0   \n",
       "3953           250.380              2.0           0.0                 5.0   \n",
       "\n",
       "       LogD  Molecular_PolarSurfaceArea   C  O  ...  F  Cl  Br  Se  I  P  \\\n",
       "0     3.259                      117.37  20  3  ...  0   0   0   0  0  0   \n",
       "1     2.172                       73.47  16  1  ...  0   0   0   0  0  0   \n",
       "2     1.585                       62.45  15  0  ...  0   0   0   0  0  0   \n",
       "3     3.475                       92.60  26  2  ...  0   0   0   0  0  0   \n",
       "4     2.337                       42.43  16  2  ...  0   0   0   0  0  0   \n",
       "...     ...                         ...  .. ..  ... ..  ..  ..  .. .. ..   \n",
       "3949  4.207                       55.13  18  2  ...  0   0   0   0  0  0   \n",
       "3950 -1.736                       70.16  17  4  ...  0   0   0   0  0  0   \n",
       "3951  1.792                       69.72  20  3  ...  0   0   0   0  0  0   \n",
       "3952  0.423                       69.64  13  3  ...  1   0   1   0  0  0   \n",
       "3953  0.606                       19.62  15  1  ...  0   0   0   0  0  0   \n",
       "\n",
       "      Bond_1.0  Bond_1.5  Bond_2.0  Bond_3.0  \n",
       "0           13        16         1         0  \n",
       "1           11        11         1         0  \n",
       "2           10        15         0         0  \n",
       "3           20        17         2         0  \n",
       "4            9        12         1         0  \n",
       "...        ...       ...       ...       ...  \n",
       "3949        17         5         1         0  \n",
       "3950        22         0         4         0  \n",
       "3951        14        12         3         0  \n",
       "3952         7        12         2         0  \n",
       "3953        14         5         0         0  \n",
       "\n",
       "[3954 rows x 22 columns]"
      ]
     },
     "execution_count": 16,
     "metadata": {},
     "output_type": "execute_result"
    }
   ],
   "source": [
    "def bond_frequency(smiles):\n",
    "    mol = Chem.MolFromSmiles(smiles)\n",
    "    if mol is not None:\n",
    "        bonds = mol.GetBonds()\n",
    "        bond_counts = [bond.GetBondTypeAsDouble() for bond in bonds]\n",
    "        bond_freq = dict(Counter(bond_counts))\n",
    "        return bond_freq\n",
    "    else:\n",
    "        return {}\n",
    "\n",
    "# dictionary 형태로 저장 및 pandas column 변환\n",
    "df_total['Bond_Frequencies'] = df_total['SMILES'].apply(bond_frequency)\n",
    "bond_freq_df = pd.DataFrame(df_total['Bond_Frequencies'].tolist()).fillna(0).astype(int)\n",
    "df_total = pd.concat([df_total, bond_freq_df], axis=1)\n",
    "\n",
    "# 추출한 특성 drop\n",
    "df_total = df_total.drop(columns=['Bond_Frequencies'])\n",
    "\n",
    "# 결합 column name 변경\n",
    "new_column_names = {\n",
    "    1.0: 'Bond_1.0',\n",
    "    1.5: 'Bond_1.5',\n",
    "    2.0: 'Bond_2.0',\n",
    "    3.0: 'Bond_3.0'\n",
    "}\n",
    "df_total = df_total.rename(columns=new_column_names)\n",
    "\n",
    "df_total"
   ]
  },
  {
   "cell_type": "code",
   "execution_count": 17,
   "metadata": {},
   "outputs": [
    {
     "data": {
      "text/html": [
       "<div>\n",
       "<style scoped>\n",
       "    .dataframe tbody tr th:only-of-type {\n",
       "        vertical-align: middle;\n",
       "    }\n",
       "\n",
       "    .dataframe tbody tr th {\n",
       "        vertical-align: top;\n",
       "    }\n",
       "\n",
       "    .dataframe thead th {\n",
       "        text-align: right;\n",
       "    }\n",
       "</style>\n",
       "<table border=\"1\" class=\"dataframe\">\n",
       "  <thead>\n",
       "    <tr style=\"text-align: right;\">\n",
       "      <th></th>\n",
       "      <th>AlogP</th>\n",
       "      <th>Molecular_Weight</th>\n",
       "      <th>Num_H_Acceptors</th>\n",
       "      <th>Num_H_Donors</th>\n",
       "      <th>Num_RotatableBonds</th>\n",
       "      <th>LogD</th>\n",
       "      <th>Molecular_PolarSurfaceArea</th>\n",
       "      <th>C</th>\n",
       "      <th>O</th>\n",
       "      <th>N</th>\n",
       "      <th>...</th>\n",
       "      <th>F</th>\n",
       "      <th>Cl</th>\n",
       "      <th>Br</th>\n",
       "      <th>Se</th>\n",
       "      <th>I</th>\n",
       "      <th>P</th>\n",
       "      <th>Bond_1.0</th>\n",
       "      <th>Bond_1.5</th>\n",
       "      <th>Bond_2.0</th>\n",
       "      <th>Bond_3.0</th>\n",
       "    </tr>\n",
       "  </thead>\n",
       "  <tbody>\n",
       "    <tr>\n",
       "      <th>0</th>\n",
       "      <td>3.259</td>\n",
       "      <td>400.495</td>\n",
       "      <td>5.0</td>\n",
       "      <td>2.0</td>\n",
       "      <td>8.0</td>\n",
       "      <td>3.259</td>\n",
       "      <td>117.37</td>\n",
       "      <td>20</td>\n",
       "      <td>3</td>\n",
       "      <td>4</td>\n",
       "      <td>...</td>\n",
       "      <td>0</td>\n",
       "      <td>0</td>\n",
       "      <td>0</td>\n",
       "      <td>0</td>\n",
       "      <td>0</td>\n",
       "      <td>0</td>\n",
       "      <td>13</td>\n",
       "      <td>16</td>\n",
       "      <td>1</td>\n",
       "      <td>0</td>\n",
       "    </tr>\n",
       "    <tr>\n",
       "      <th>1</th>\n",
       "      <td>2.169</td>\n",
       "      <td>301.407</td>\n",
       "      <td>2.0</td>\n",
       "      <td>1.0</td>\n",
       "      <td>2.0</td>\n",
       "      <td>2.172</td>\n",
       "      <td>73.47</td>\n",
       "      <td>16</td>\n",
       "      <td>1</td>\n",
       "      <td>3</td>\n",
       "      <td>...</td>\n",
       "      <td>0</td>\n",
       "      <td>0</td>\n",
       "      <td>0</td>\n",
       "      <td>0</td>\n",
       "      <td>0</td>\n",
       "      <td>0</td>\n",
       "      <td>11</td>\n",
       "      <td>11</td>\n",
       "      <td>1</td>\n",
       "      <td>0</td>\n",
       "    </tr>\n",
       "    <tr>\n",
       "      <th>2</th>\n",
       "      <td>1.593</td>\n",
       "      <td>297.358</td>\n",
       "      <td>5.0</td>\n",
       "      <td>0.0</td>\n",
       "      <td>3.0</td>\n",
       "      <td>1.585</td>\n",
       "      <td>62.45</td>\n",
       "      <td>15</td>\n",
       "      <td>0</td>\n",
       "      <td>7</td>\n",
       "      <td>...</td>\n",
       "      <td>0</td>\n",
       "      <td>0</td>\n",
       "      <td>0</td>\n",
       "      <td>0</td>\n",
       "      <td>0</td>\n",
       "      <td>0</td>\n",
       "      <td>10</td>\n",
       "      <td>15</td>\n",
       "      <td>0</td>\n",
       "      <td>0</td>\n",
       "    </tr>\n",
       "    <tr>\n",
       "      <th>3</th>\n",
       "      <td>4.771</td>\n",
       "      <td>494.652</td>\n",
       "      <td>6.0</td>\n",
       "      <td>0.0</td>\n",
       "      <td>5.0</td>\n",
       "      <td>3.475</td>\n",
       "      <td>92.60</td>\n",
       "      <td>26</td>\n",
       "      <td>2</td>\n",
       "      <td>6</td>\n",
       "      <td>...</td>\n",
       "      <td>0</td>\n",
       "      <td>0</td>\n",
       "      <td>0</td>\n",
       "      <td>0</td>\n",
       "      <td>0</td>\n",
       "      <td>0</td>\n",
       "      <td>20</td>\n",
       "      <td>17</td>\n",
       "      <td>2</td>\n",
       "      <td>0</td>\n",
       "    </tr>\n",
       "    <tr>\n",
       "      <th>4</th>\n",
       "      <td>2.335</td>\n",
       "      <td>268.310</td>\n",
       "      <td>3.0</td>\n",
       "      <td>0.0</td>\n",
       "      <td>1.0</td>\n",
       "      <td>2.337</td>\n",
       "      <td>42.43</td>\n",
       "      <td>16</td>\n",
       "      <td>2</td>\n",
       "      <td>2</td>\n",
       "      <td>...</td>\n",
       "      <td>0</td>\n",
       "      <td>0</td>\n",
       "      <td>0</td>\n",
       "      <td>0</td>\n",
       "      <td>0</td>\n",
       "      <td>0</td>\n",
       "      <td>9</td>\n",
       "      <td>12</td>\n",
       "      <td>1</td>\n",
       "      <td>0</td>\n",
       "    </tr>\n",
       "    <tr>\n",
       "      <th>...</th>\n",
       "      <td>...</td>\n",
       "      <td>...</td>\n",
       "      <td>...</td>\n",
       "      <td>...</td>\n",
       "      <td>...</td>\n",
       "      <td>...</td>\n",
       "      <td>...</td>\n",
       "      <td>...</td>\n",
       "      <td>...</td>\n",
       "      <td>...</td>\n",
       "      <td>...</td>\n",
       "      <td>...</td>\n",
       "      <td>...</td>\n",
       "      <td>...</td>\n",
       "      <td>...</td>\n",
       "      <td>...</td>\n",
       "      <td>...</td>\n",
       "      <td>...</td>\n",
       "      <td>...</td>\n",
       "      <td>...</td>\n",
       "      <td>...</td>\n",
       "    </tr>\n",
       "    <tr>\n",
       "      <th>3466</th>\n",
       "      <td>4.282</td>\n",
       "      <td>553.480</td>\n",
       "      <td>5.0</td>\n",
       "      <td>0.0</td>\n",
       "      <td>7.0</td>\n",
       "      <td>4.009</td>\n",
       "      <td>65.98</td>\n",
       "      <td>29</td>\n",
       "      <td>3</td>\n",
       "      <td>4</td>\n",
       "      <td>...</td>\n",
       "      <td>0</td>\n",
       "      <td>2</td>\n",
       "      <td>0</td>\n",
       "      <td>0</td>\n",
       "      <td>0</td>\n",
       "      <td>0</td>\n",
       "      <td>22</td>\n",
       "      <td>18</td>\n",
       "      <td>2</td>\n",
       "      <td>0</td>\n",
       "    </tr>\n",
       "    <tr>\n",
       "      <th>3467</th>\n",
       "      <td>4.304</td>\n",
       "      <td>459.520</td>\n",
       "      <td>6.0</td>\n",
       "      <td>1.0</td>\n",
       "      <td>4.0</td>\n",
       "      <td>4.304</td>\n",
       "      <td>113.53</td>\n",
       "      <td>24</td>\n",
       "      <td>3</td>\n",
       "      <td>5</td>\n",
       "      <td>...</td>\n",
       "      <td>0</td>\n",
       "      <td>0</td>\n",
       "      <td>0</td>\n",
       "      <td>0</td>\n",
       "      <td>0</td>\n",
       "      <td>0</td>\n",
       "      <td>7</td>\n",
       "      <td>27</td>\n",
       "      <td>3</td>\n",
       "      <td>0</td>\n",
       "    </tr>\n",
       "    <tr>\n",
       "      <th>3468</th>\n",
       "      <td>-1.133</td>\n",
       "      <td>385.417</td>\n",
       "      <td>7.0</td>\n",
       "      <td>0.0</td>\n",
       "      <td>4.0</td>\n",
       "      <td>-1.133</td>\n",
       "      <td>108.65</td>\n",
       "      <td>19</td>\n",
       "      <td>4</td>\n",
       "      <td>5</td>\n",
       "      <td>...</td>\n",
       "      <td>0</td>\n",
       "      <td>0</td>\n",
       "      <td>0</td>\n",
       "      <td>0</td>\n",
       "      <td>0</td>\n",
       "      <td>0</td>\n",
       "      <td>22</td>\n",
       "      <td>6</td>\n",
       "      <td>2</td>\n",
       "      <td>1</td>\n",
       "    </tr>\n",
       "    <tr>\n",
       "      <th>3469</th>\n",
       "      <td>-0.533</td>\n",
       "      <td>302.289</td>\n",
       "      <td>6.0</td>\n",
       "      <td>1.0</td>\n",
       "      <td>2.0</td>\n",
       "      <td>-0.533</td>\n",
       "      <td>111.44</td>\n",
       "      <td>13</td>\n",
       "      <td>3</td>\n",
       "      <td>6</td>\n",
       "      <td>...</td>\n",
       "      <td>0</td>\n",
       "      <td>0</td>\n",
       "      <td>0</td>\n",
       "      <td>0</td>\n",
       "      <td>0</td>\n",
       "      <td>0</td>\n",
       "      <td>15</td>\n",
       "      <td>6</td>\n",
       "      <td>2</td>\n",
       "      <td>1</td>\n",
       "    </tr>\n",
       "    <tr>\n",
       "      <th>3470</th>\n",
       "      <td>5.630</td>\n",
       "      <td>466.572</td>\n",
       "      <td>4.0</td>\n",
       "      <td>0.0</td>\n",
       "      <td>8.0</td>\n",
       "      <td>5.630</td>\n",
       "      <td>94.90</td>\n",
       "      <td>24</td>\n",
       "      <td>4</td>\n",
       "      <td>2</td>\n",
       "      <td>...</td>\n",
       "      <td>0</td>\n",
       "      <td>0</td>\n",
       "      <td>0</td>\n",
       "      <td>0</td>\n",
       "      <td>0</td>\n",
       "      <td>0</td>\n",
       "      <td>8</td>\n",
       "      <td>22</td>\n",
       "      <td>5</td>\n",
       "      <td>0</td>\n",
       "    </tr>\n",
       "  </tbody>\n",
       "</table>\n",
       "<p>3471 rows × 21 columns</p>\n",
       "</div>"
      ],
      "text/plain": [
       "      AlogP  Molecular_Weight  Num_H_Acceptors  Num_H_Donors  \\\n",
       "0     3.259           400.495              5.0           2.0   \n",
       "1     2.169           301.407              2.0           1.0   \n",
       "2     1.593           297.358              5.0           0.0   \n",
       "3     4.771           494.652              6.0           0.0   \n",
       "4     2.335           268.310              3.0           0.0   \n",
       "...     ...               ...              ...           ...   \n",
       "3466  4.282           553.480              5.0           0.0   \n",
       "3467  4.304           459.520              6.0           1.0   \n",
       "3468 -1.133           385.417              7.0           0.0   \n",
       "3469 -0.533           302.289              6.0           1.0   \n",
       "3470  5.630           466.572              4.0           0.0   \n",
       "\n",
       "      Num_RotatableBonds   LogD  Molecular_PolarSurfaceArea   C  O  N  ...  F  \\\n",
       "0                    8.0  3.259                      117.37  20  3  4  ...  0   \n",
       "1                    2.0  2.172                       73.47  16  1  3  ...  0   \n",
       "2                    3.0  1.585                       62.45  15  0  7  ...  0   \n",
       "3                    5.0  3.475                       92.60  26  2  6  ...  0   \n",
       "4                    1.0  2.337                       42.43  16  2  2  ...  0   \n",
       "...                  ...    ...                         ...  .. .. ..  ... ..   \n",
       "3466                 7.0  4.009                       65.98  29  3  4  ...  0   \n",
       "3467                 4.0  4.304                      113.53  24  3  5  ...  0   \n",
       "3468                 4.0 -1.133                      108.65  19  4  5  ...  0   \n",
       "3469                 2.0 -0.533                      111.44  13  3  6  ...  0   \n",
       "3470                 8.0  5.630                       94.90  24  4  2  ...  0   \n",
       "\n",
       "      Cl  Br  Se  I  P  Bond_1.0  Bond_1.5  Bond_2.0  Bond_3.0  \n",
       "0      0   0   0  0  0        13        16         1         0  \n",
       "1      0   0   0  0  0        11        11         1         0  \n",
       "2      0   0   0  0  0        10        15         0         0  \n",
       "3      0   0   0  0  0        20        17         2         0  \n",
       "4      0   0   0  0  0         9        12         1         0  \n",
       "...   ..  ..  .. .. ..       ...       ...       ...       ...  \n",
       "3466   2   0   0  0  0        22        18         2         0  \n",
       "3467   0   0   0  0  0         7        27         3         0  \n",
       "3468   0   0   0  0  0        22         6         2         1  \n",
       "3469   0   0   0  0  0        15         6         2         1  \n",
       "3470   0   0   0  0  0         8        22         5         0  \n",
       "\n",
       "[3471 rows x 21 columns]"
      ]
     },
     "execution_count": 17,
     "metadata": {},
     "output_type": "execute_result"
    }
   ],
   "source": [
    "df_train = df_total.iloc[:len(df_train), :].copy()\n",
    "df_train.reset_index(drop = True, inplace = True)\n",
    "df_train.drop(['SMILES'], axis=1, inplace = True)\n",
    "df_train"
   ]
  },
  {
   "cell_type": "code",
   "execution_count": 18,
   "metadata": {},
   "outputs": [
    {
     "data": {
      "text/html": [
       "<div>\n",
       "<style scoped>\n",
       "    .dataframe tbody tr th:only-of-type {\n",
       "        vertical-align: middle;\n",
       "    }\n",
       "\n",
       "    .dataframe tbody tr th {\n",
       "        vertical-align: top;\n",
       "    }\n",
       "\n",
       "    .dataframe thead th {\n",
       "        text-align: right;\n",
       "    }\n",
       "</style>\n",
       "<table border=\"1\" class=\"dataframe\">\n",
       "  <thead>\n",
       "    <tr style=\"text-align: right;\">\n",
       "      <th></th>\n",
       "      <th>AlogP</th>\n",
       "      <th>Molecular_Weight</th>\n",
       "      <th>Num_H_Acceptors</th>\n",
       "      <th>Num_H_Donors</th>\n",
       "      <th>Num_RotatableBonds</th>\n",
       "      <th>LogD</th>\n",
       "      <th>Molecular_PolarSurfaceArea</th>\n",
       "      <th>C</th>\n",
       "      <th>O</th>\n",
       "      <th>N</th>\n",
       "      <th>...</th>\n",
       "      <th>F</th>\n",
       "      <th>Cl</th>\n",
       "      <th>Br</th>\n",
       "      <th>Se</th>\n",
       "      <th>I</th>\n",
       "      <th>P</th>\n",
       "      <th>Bond_1.0</th>\n",
       "      <th>Bond_1.5</th>\n",
       "      <th>Bond_2.0</th>\n",
       "      <th>Bond_3.0</th>\n",
       "    </tr>\n",
       "  </thead>\n",
       "  <tbody>\n",
       "    <tr>\n",
       "      <th>0</th>\n",
       "      <td>2.641</td>\n",
       "      <td>361.505</td>\n",
       "      <td>4.0</td>\n",
       "      <td>2.0</td>\n",
       "      <td>7.0</td>\n",
       "      <td>2.635</td>\n",
       "      <td>92.76</td>\n",
       "      <td>18</td>\n",
       "      <td>1</td>\n",
       "      <td>5</td>\n",
       "      <td>...</td>\n",
       "      <td>0</td>\n",
       "      <td>0</td>\n",
       "      <td>0</td>\n",
       "      <td>0</td>\n",
       "      <td>0</td>\n",
       "      <td>0</td>\n",
       "      <td>16</td>\n",
       "      <td>11</td>\n",
       "      <td>0</td>\n",
       "      <td>0</td>\n",
       "    </tr>\n",
       "    <tr>\n",
       "      <th>1</th>\n",
       "      <td>0.585</td>\n",
       "      <td>370.399</td>\n",
       "      <td>5.0</td>\n",
       "      <td>0.0</td>\n",
       "      <td>3.0</td>\n",
       "      <td>0.585</td>\n",
       "      <td>68.31</td>\n",
       "      <td>20</td>\n",
       "      <td>5</td>\n",
       "      <td>2</td>\n",
       "      <td>...</td>\n",
       "      <td>0</td>\n",
       "      <td>0</td>\n",
       "      <td>0</td>\n",
       "      <td>0</td>\n",
       "      <td>0</td>\n",
       "      <td>0</td>\n",
       "      <td>16</td>\n",
       "      <td>12</td>\n",
       "      <td>2</td>\n",
       "      <td>0</td>\n",
       "    </tr>\n",
       "    <tr>\n",
       "      <th>2</th>\n",
       "      <td>4.276</td>\n",
       "      <td>347.414</td>\n",
       "      <td>4.0</td>\n",
       "      <td>4.0</td>\n",
       "      <td>5.0</td>\n",
       "      <td>4.290</td>\n",
       "      <td>92.86</td>\n",
       "      <td>20</td>\n",
       "      <td>1</td>\n",
       "      <td>5</td>\n",
       "      <td>...</td>\n",
       "      <td>0</td>\n",
       "      <td>0</td>\n",
       "      <td>0</td>\n",
       "      <td>0</td>\n",
       "      <td>0</td>\n",
       "      <td>0</td>\n",
       "      <td>8</td>\n",
       "      <td>18</td>\n",
       "      <td>2</td>\n",
       "      <td>0</td>\n",
       "    </tr>\n",
       "    <tr>\n",
       "      <th>3</th>\n",
       "      <td>1.795</td>\n",
       "      <td>345.358</td>\n",
       "      <td>5.0</td>\n",
       "      <td>0.0</td>\n",
       "      <td>2.0</td>\n",
       "      <td>1.795</td>\n",
       "      <td>81.21</td>\n",
       "      <td>18</td>\n",
       "      <td>1</td>\n",
       "      <td>7</td>\n",
       "      <td>...</td>\n",
       "      <td>0</td>\n",
       "      <td>0</td>\n",
       "      <td>0</td>\n",
       "      <td>0</td>\n",
       "      <td>0</td>\n",
       "      <td>0</td>\n",
       "      <td>8</td>\n",
       "      <td>21</td>\n",
       "      <td>1</td>\n",
       "      <td>0</td>\n",
       "    </tr>\n",
       "    <tr>\n",
       "      <th>4</th>\n",
       "      <td>1.219</td>\n",
       "      <td>353.418</td>\n",
       "      <td>4.0</td>\n",
       "      <td>0.0</td>\n",
       "      <td>2.0</td>\n",
       "      <td>0.169</td>\n",
       "      <td>61.15</td>\n",
       "      <td>19</td>\n",
       "      <td>2</td>\n",
       "      <td>5</td>\n",
       "      <td>...</td>\n",
       "      <td>0</td>\n",
       "      <td>0</td>\n",
       "      <td>0</td>\n",
       "      <td>0</td>\n",
       "      <td>0</td>\n",
       "      <td>0</td>\n",
       "      <td>12</td>\n",
       "      <td>15</td>\n",
       "      <td>2</td>\n",
       "      <td>0</td>\n",
       "    </tr>\n",
       "    <tr>\n",
       "      <th>...</th>\n",
       "      <td>...</td>\n",
       "      <td>...</td>\n",
       "      <td>...</td>\n",
       "      <td>...</td>\n",
       "      <td>...</td>\n",
       "      <td>...</td>\n",
       "      <td>...</td>\n",
       "      <td>...</td>\n",
       "      <td>...</td>\n",
       "      <td>...</td>\n",
       "      <td>...</td>\n",
       "      <td>...</td>\n",
       "      <td>...</td>\n",
       "      <td>...</td>\n",
       "      <td>...</td>\n",
       "      <td>...</td>\n",
       "      <td>...</td>\n",
       "      <td>...</td>\n",
       "      <td>...</td>\n",
       "      <td>...</td>\n",
       "      <td>...</td>\n",
       "    </tr>\n",
       "    <tr>\n",
       "      <th>478</th>\n",
       "      <td>4.207</td>\n",
       "      <td>306.443</td>\n",
       "      <td>2.0</td>\n",
       "      <td>1.0</td>\n",
       "      <td>7.0</td>\n",
       "      <td>4.207</td>\n",
       "      <td>55.13</td>\n",
       "      <td>18</td>\n",
       "      <td>2</td>\n",
       "      <td>2</td>\n",
       "      <td>...</td>\n",
       "      <td>0</td>\n",
       "      <td>0</td>\n",
       "      <td>0</td>\n",
       "      <td>0</td>\n",
       "      <td>0</td>\n",
       "      <td>0</td>\n",
       "      <td>17</td>\n",
       "      <td>5</td>\n",
       "      <td>1</td>\n",
       "      <td>0</td>\n",
       "    </tr>\n",
       "    <tr>\n",
       "      <th>479</th>\n",
       "      <td>-0.608</td>\n",
       "      <td>335.398</td>\n",
       "      <td>5.0</td>\n",
       "      <td>0.0</td>\n",
       "      <td>1.0</td>\n",
       "      <td>-1.736</td>\n",
       "      <td>70.16</td>\n",
       "      <td>17</td>\n",
       "      <td>4</td>\n",
       "      <td>3</td>\n",
       "      <td>...</td>\n",
       "      <td>0</td>\n",
       "      <td>0</td>\n",
       "      <td>0</td>\n",
       "      <td>0</td>\n",
       "      <td>0</td>\n",
       "      <td>0</td>\n",
       "      <td>22</td>\n",
       "      <td>0</td>\n",
       "      <td>4</td>\n",
       "      <td>0</td>\n",
       "    </tr>\n",
       "    <tr>\n",
       "      <th>480</th>\n",
       "      <td>1.792</td>\n",
       "      <td>349.383</td>\n",
       "      <td>3.0</td>\n",
       "      <td>1.0</td>\n",
       "      <td>3.0</td>\n",
       "      <td>1.792</td>\n",
       "      <td>69.72</td>\n",
       "      <td>20</td>\n",
       "      <td>3</td>\n",
       "      <td>3</td>\n",
       "      <td>...</td>\n",
       "      <td>0</td>\n",
       "      <td>0</td>\n",
       "      <td>0</td>\n",
       "      <td>0</td>\n",
       "      <td>0</td>\n",
       "      <td>0</td>\n",
       "      <td>14</td>\n",
       "      <td>12</td>\n",
       "      <td>3</td>\n",
       "      <td>0</td>\n",
       "    </tr>\n",
       "    <tr>\n",
       "      <th>481</th>\n",
       "      <td>0.790</td>\n",
       "      <td>341.132</td>\n",
       "      <td>3.0</td>\n",
       "      <td>2.0</td>\n",
       "      <td>2.0</td>\n",
       "      <td>0.423</td>\n",
       "      <td>69.64</td>\n",
       "      <td>13</td>\n",
       "      <td>3</td>\n",
       "      <td>2</td>\n",
       "      <td>...</td>\n",
       "      <td>1</td>\n",
       "      <td>0</td>\n",
       "      <td>1</td>\n",
       "      <td>0</td>\n",
       "      <td>0</td>\n",
       "      <td>0</td>\n",
       "      <td>7</td>\n",
       "      <td>12</td>\n",
       "      <td>2</td>\n",
       "      <td>0</td>\n",
       "    </tr>\n",
       "    <tr>\n",
       "      <th>482</th>\n",
       "      <td>2.782</td>\n",
       "      <td>250.380</td>\n",
       "      <td>2.0</td>\n",
       "      <td>0.0</td>\n",
       "      <td>5.0</td>\n",
       "      <td>0.606</td>\n",
       "      <td>19.62</td>\n",
       "      <td>15</td>\n",
       "      <td>1</td>\n",
       "      <td>2</td>\n",
       "      <td>...</td>\n",
       "      <td>0</td>\n",
       "      <td>0</td>\n",
       "      <td>0</td>\n",
       "      <td>0</td>\n",
       "      <td>0</td>\n",
       "      <td>0</td>\n",
       "      <td>14</td>\n",
       "      <td>5</td>\n",
       "      <td>0</td>\n",
       "      <td>0</td>\n",
       "    </tr>\n",
       "  </tbody>\n",
       "</table>\n",
       "<p>483 rows × 21 columns</p>\n",
       "</div>"
      ],
      "text/plain": [
       "     AlogP  Molecular_Weight  Num_H_Acceptors  Num_H_Donors  \\\n",
       "0    2.641           361.505              4.0           2.0   \n",
       "1    0.585           370.399              5.0           0.0   \n",
       "2    4.276           347.414              4.0           4.0   \n",
       "3    1.795           345.358              5.0           0.0   \n",
       "4    1.219           353.418              4.0           0.0   \n",
       "..     ...               ...              ...           ...   \n",
       "478  4.207           306.443              2.0           1.0   \n",
       "479 -0.608           335.398              5.0           0.0   \n",
       "480  1.792           349.383              3.0           1.0   \n",
       "481  0.790           341.132              3.0           2.0   \n",
       "482  2.782           250.380              2.0           0.0   \n",
       "\n",
       "     Num_RotatableBonds   LogD  Molecular_PolarSurfaceArea   C  O  N  ...  F  \\\n",
       "0                   7.0  2.635                       92.76  18  1  5  ...  0   \n",
       "1                   3.0  0.585                       68.31  20  5  2  ...  0   \n",
       "2                   5.0  4.290                       92.86  20  1  5  ...  0   \n",
       "3                   2.0  1.795                       81.21  18  1  7  ...  0   \n",
       "4                   2.0  0.169                       61.15  19  2  5  ...  0   \n",
       "..                  ...    ...                         ...  .. .. ..  ... ..   \n",
       "478                 7.0  4.207                       55.13  18  2  2  ...  0   \n",
       "479                 1.0 -1.736                       70.16  17  4  3  ...  0   \n",
       "480                 3.0  1.792                       69.72  20  3  3  ...  0   \n",
       "481                 2.0  0.423                       69.64  13  3  2  ...  1   \n",
       "482                 5.0  0.606                       19.62  15  1  2  ...  0   \n",
       "\n",
       "     Cl  Br  Se  I  P  Bond_1.0  Bond_1.5  Bond_2.0  Bond_3.0  \n",
       "0     0   0   0  0  0        16        11         0         0  \n",
       "1     0   0   0  0  0        16        12         2         0  \n",
       "2     0   0   0  0  0         8        18         2         0  \n",
       "3     0   0   0  0  0         8        21         1         0  \n",
       "4     0   0   0  0  0        12        15         2         0  \n",
       "..   ..  ..  .. .. ..       ...       ...       ...       ...  \n",
       "478   0   0   0  0  0        17         5         1         0  \n",
       "479   0   0   0  0  0        22         0         4         0  \n",
       "480   0   0   0  0  0        14        12         3         0  \n",
       "481   0   1   0  0  0         7        12         2         0  \n",
       "482   0   0   0  0  0        14         5         0         0  \n",
       "\n",
       "[483 rows x 21 columns]"
      ]
     },
     "execution_count": 18,
     "metadata": {},
     "output_type": "execute_result"
    }
   ],
   "source": [
    "df_test = df_total.iloc[len(df_train):, :].copy()\n",
    "df_test.reset_index(drop = True, inplace = True)\n",
    "df_test.drop(['SMILES'], axis=1, inplace = True)\n",
    "df_test"
   ]
  },
  {
   "cell_type": "markdown",
   "metadata": {},
   "source": [
    "### target MLM"
   ]
  },
  {
   "cell_type": "code",
   "execution_count": 19,
   "metadata": {},
   "outputs": [
    {
     "data": {
      "text/plain": [
       "0       26.0100\n",
       "1       29.2700\n",
       "2        5.5860\n",
       "3        5.7100\n",
       "4       93.2700\n",
       "         ...   \n",
       "3466    56.0435\n",
       "3467    56.3130\n",
       "3468    70.2150\n",
       "3469    56.6085\n",
       "3470     6.1730\n",
       "Name: MLM, Length: 3471, dtype: float64"
      ]
     },
     "execution_count": 19,
     "metadata": {},
     "output_type": "execute_result"
    }
   ],
   "source": [
    "df_train_target_MLM = df_train_target['MLM']\n",
    "df_train_target_MLM"
   ]
  },
  {
   "cell_type": "code",
   "execution_count": 20,
   "metadata": {},
   "outputs": [],
   "source": [
    "from lightgbm import LGBMRegressor\n",
    "from sklearn.metrics import mean_squared_error\n",
    "import optuna\n",
    "from sklearn.model_selection import train_test_split\n",
    "\n",
    "def objective(trial):\n",
    "\n",
    "    X_train, X_valid, y_train, y_valid = train_test_split(df_train, df_train_target_MLM, test_size = 0.2, random_state=42)\n",
    "\n",
    "    param = {\n",
    "        ### constant \n",
    "        'metric': 'rmse', \n",
    "        'random_state': 10,\n",
    "        'n_estimators': 10000,\n",
    "        'early_stopping_round ' : 500,\n",
    "        'verbose' : -1,\n",
    "        'n_jobs' : -1,\n",
    "        ### log_uniform\n",
    "        'reg_alpha': trial.suggest_loguniform('reg_alpha', 1e-5, 100.0),\n",
    "        'reg_lambda': trial.suggest_loguniform('reg_lambda', 1e-5, 100.0),\n",
    "        ### suggest_discrete_uniform\n",
    "        'colsample_bytree': trial.suggest_discrete_uniform('colsample_bytree', 0.5, 1.0, 0.05),\n",
    "        'subsample': trial.suggest_discrete_uniform('subsample', 0.5, 1.0, 0.05),\n",
    "        'learning_rate': trial.suggest_discrete_uniform('learning_rate', 0.001, 0.05, 0.001),\n",
    "        ### suggest_int\n",
    "        'num_leaves' : trial.suggest_int('num_leaves', 1, 300),\n",
    "        'min_child_samples': trial.suggest_int('min_child_samples', 1, 100),\n",
    "        'max_depth': trial.suggest_int('max_depth', 10, 40, 1),\n",
    "    }\n",
    "    model = LGBMRegressor(**param)  \n",
    "    model.fit(X_train, y_train, eval_set=[(X_valid,y_valid)])\n",
    "    preds = model.predict(X_valid)\n",
    "    rmse = mean_squared_error(y_valid, preds, squared=False)\n",
    "    \n",
    "    return rmse"
   ]
  },
  {
   "cell_type": "code",
   "execution_count": 21,
   "metadata": {},
   "outputs": [
    {
     "name": "stderr",
     "output_type": "stream",
     "text": [
      "[I 2023-09-05 18:11:08,323] A new study created in memory with name: no-name-52d4468f-ad39-4d83-bb9d-3b489dd64a0d\n",
      "[I 2023-09-05 18:11:30,095] Trial 0 finished with value: 33.570729853459476 and parameters: {'reg_alpha': 0.5041022796503798, 'reg_lambda': 1.7710779826791796e-05, 'colsample_bytree': 0.7, 'subsample': 0.65, 'learning_rate': 0.012, 'num_leaves': 82, 'min_child_samples': 18, 'max_depth': 28}. Best is trial 0 with value: 33.570729853459476.\n",
      "[I 2023-09-05 18:11:41,485] Trial 1 finished with value: 34.81998113414387 and parameters: {'reg_alpha': 0.003963037752207266, 'reg_lambda': 2.4274776720931257e-05, 'colsample_bytree': 0.75, 'subsample': 0.9, 'learning_rate': 0.023, 'num_leaves': 187, 'min_child_samples': 72, 'max_depth': 24}. Best is trial 0 with value: 33.570729853459476.\n",
      "[I 2023-09-05 18:11:57,226] Trial 2 finished with value: 35.00065065826546 and parameters: {'reg_alpha': 0.00013624487135083794, 'reg_lambda': 2.5320837003890464, 'colsample_bytree': 0.5, 'subsample': 0.9, 'learning_rate': 0.048, 'num_leaves': 235, 'min_child_samples': 48, 'max_depth': 40}. Best is trial 0 with value: 33.570729853459476.\n"
     ]
    },
    {
     "name": "stdout",
     "output_type": "stream",
     "text": [
      "Number of finished trials: 3\n",
      "Best trial: {'reg_alpha': 0.5041022796503798, 'reg_lambda': 1.7710779826791796e-05, 'colsample_bytree': 0.7, 'subsample': 0.65, 'learning_rate': 0.012, 'num_leaves': 82, 'min_child_samples': 18, 'max_depth': 28}\n"
     ]
    }
   ],
   "source": [
    "study = optuna.create_study(direction='minimize')\n",
    "study.optimize(objective, n_trials=3)\n",
    "print('Number of finished trials:', len(study.trials))\n",
    "print('Best trial:', study.best_trial.params)"
   ]
  },
  {
   "cell_type": "code",
   "execution_count": 22,
   "metadata": {},
   "outputs": [
    {
     "data": {
      "text/html": [
       "<div>\n",
       "<style scoped>\n",
       "    .dataframe tbody tr th:only-of-type {\n",
       "        vertical-align: middle;\n",
       "    }\n",
       "\n",
       "    .dataframe tbody tr th {\n",
       "        vertical-align: top;\n",
       "    }\n",
       "\n",
       "    .dataframe thead th {\n",
       "        text-align: right;\n",
       "    }\n",
       "</style>\n",
       "<table border=\"1\" class=\"dataframe\">\n",
       "  <thead>\n",
       "    <tr style=\"text-align: right;\">\n",
       "      <th></th>\n",
       "      <th>number</th>\n",
       "      <th>value</th>\n",
       "      <th>datetime_start</th>\n",
       "      <th>datetime_complete</th>\n",
       "      <th>duration</th>\n",
       "      <th>params_colsample_bytree</th>\n",
       "      <th>params_learning_rate</th>\n",
       "      <th>params_max_depth</th>\n",
       "      <th>params_min_child_samples</th>\n",
       "      <th>params_num_leaves</th>\n",
       "      <th>params_reg_alpha</th>\n",
       "      <th>params_reg_lambda</th>\n",
       "      <th>params_subsample</th>\n",
       "      <th>state</th>\n",
       "    </tr>\n",
       "  </thead>\n",
       "  <tbody>\n",
       "    <tr>\n",
       "      <th>0</th>\n",
       "      <td>0</td>\n",
       "      <td>33.570730</td>\n",
       "      <td>2023-09-05 18:11:08.325131</td>\n",
       "      <td>2023-09-05 18:11:30.094195</td>\n",
       "      <td>0 days 00:00:21.769064</td>\n",
       "      <td>0.70</td>\n",
       "      <td>0.012</td>\n",
       "      <td>28</td>\n",
       "      <td>18</td>\n",
       "      <td>82</td>\n",
       "      <td>0.504102</td>\n",
       "      <td>0.000018</td>\n",
       "      <td>0.65</td>\n",
       "      <td>COMPLETE</td>\n",
       "    </tr>\n",
       "    <tr>\n",
       "      <th>1</th>\n",
       "      <td>1</td>\n",
       "      <td>34.819981</td>\n",
       "      <td>2023-09-05 18:11:30.096195</td>\n",
       "      <td>2023-09-05 18:11:41.485221</td>\n",
       "      <td>0 days 00:00:11.389026</td>\n",
       "      <td>0.75</td>\n",
       "      <td>0.023</td>\n",
       "      <td>24</td>\n",
       "      <td>72</td>\n",
       "      <td>187</td>\n",
       "      <td>0.003963</td>\n",
       "      <td>0.000024</td>\n",
       "      <td>0.90</td>\n",
       "      <td>COMPLETE</td>\n",
       "    </tr>\n",
       "    <tr>\n",
       "      <th>2</th>\n",
       "      <td>2</td>\n",
       "      <td>35.000651</td>\n",
       "      <td>2023-09-05 18:11:41.487222</td>\n",
       "      <td>2023-09-05 18:11:57.226772</td>\n",
       "      <td>0 days 00:00:15.739550</td>\n",
       "      <td>0.50</td>\n",
       "      <td>0.048</td>\n",
       "      <td>40</td>\n",
       "      <td>48</td>\n",
       "      <td>235</td>\n",
       "      <td>0.000136</td>\n",
       "      <td>2.532084</td>\n",
       "      <td>0.90</td>\n",
       "      <td>COMPLETE</td>\n",
       "    </tr>\n",
       "  </tbody>\n",
       "</table>\n",
       "</div>"
      ],
      "text/plain": [
       "   number      value             datetime_start          datetime_complete  \\\n",
       "0       0  33.570730 2023-09-05 18:11:08.325131 2023-09-05 18:11:30.094195   \n",
       "1       1  34.819981 2023-09-05 18:11:30.096195 2023-09-05 18:11:41.485221   \n",
       "2       2  35.000651 2023-09-05 18:11:41.487222 2023-09-05 18:11:57.226772   \n",
       "\n",
       "                duration  params_colsample_bytree  params_learning_rate  \\\n",
       "0 0 days 00:00:21.769064                     0.70                 0.012   \n",
       "1 0 days 00:00:11.389026                     0.75                 0.023   \n",
       "2 0 days 00:00:15.739550                     0.50                 0.048   \n",
       "\n",
       "   params_max_depth  params_min_child_samples  params_num_leaves  \\\n",
       "0                28                        18                 82   \n",
       "1                24                        72                187   \n",
       "2                40                        48                235   \n",
       "\n",
       "   params_reg_alpha  params_reg_lambda  params_subsample     state  \n",
       "0          0.504102           0.000018              0.65  COMPLETE  \n",
       "1          0.003963           0.000024              0.90  COMPLETE  \n",
       "2          0.000136           2.532084              0.90  COMPLETE  "
      ]
     },
     "execution_count": 22,
     "metadata": {},
     "output_type": "execute_result"
    }
   ],
   "source": [
    "study.trials_dataframe()"
   ]
  },
  {
   "cell_type": "code",
   "execution_count": 23,
   "metadata": {},
   "outputs": [
    {
     "data": {
      "application/vnd.plotly.v1+json": {
       "config": {
        "plotlyServerURL": "https://plot.ly"
       },
       "data": [
        {
         "mode": "markers",
         "name": "Objective Value",
         "type": "scatter",
         "x": [
          0,
          1,
          2
         ],
         "y": [
          33.570729853459476,
          34.81998113414387,
          35.00065065826546
         ]
        },
        {
         "mode": "lines",
         "name": "Best Value",
         "type": "scatter",
         "x": [
          0,
          1,
          2
         ],
         "y": [
          33.570729853459476,
          33.570729853459476,
          33.570729853459476
         ]
        },
        {
         "marker": {
          "color": "#cccccc"
         },
         "mode": "markers",
         "name": "Infeasible Trial",
         "showlegend": false,
         "type": "scatter",
         "x": [],
         "y": []
        }
       ],
       "layout": {
        "template": {
         "data": {
          "bar": [
           {
            "error_x": {
             "color": "#2a3f5f"
            },
            "error_y": {
             "color": "#2a3f5f"
            },
            "marker": {
             "line": {
              "color": "#E5ECF6",
              "width": 0.5
             },
             "pattern": {
              "fillmode": "overlay",
              "size": 10,
              "solidity": 0.2
             }
            },
            "type": "bar"
           }
          ],
          "barpolar": [
           {
            "marker": {
             "line": {
              "color": "#E5ECF6",
              "width": 0.5
             },
             "pattern": {
              "fillmode": "overlay",
              "size": 10,
              "solidity": 0.2
             }
            },
            "type": "barpolar"
           }
          ],
          "carpet": [
           {
            "aaxis": {
             "endlinecolor": "#2a3f5f",
             "gridcolor": "white",
             "linecolor": "white",
             "minorgridcolor": "white",
             "startlinecolor": "#2a3f5f"
            },
            "baxis": {
             "endlinecolor": "#2a3f5f",
             "gridcolor": "white",
             "linecolor": "white",
             "minorgridcolor": "white",
             "startlinecolor": "#2a3f5f"
            },
            "type": "carpet"
           }
          ],
          "choropleth": [
           {
            "colorbar": {
             "outlinewidth": 0,
             "ticks": ""
            },
            "type": "choropleth"
           }
          ],
          "contour": [
           {
            "colorbar": {
             "outlinewidth": 0,
             "ticks": ""
            },
            "colorscale": [
             [
              0,
              "#0d0887"
             ],
             [
              0.1111111111111111,
              "#46039f"
             ],
             [
              0.2222222222222222,
              "#7201a8"
             ],
             [
              0.3333333333333333,
              "#9c179e"
             ],
             [
              0.4444444444444444,
              "#bd3786"
             ],
             [
              0.5555555555555556,
              "#d8576b"
             ],
             [
              0.6666666666666666,
              "#ed7953"
             ],
             [
              0.7777777777777778,
              "#fb9f3a"
             ],
             [
              0.8888888888888888,
              "#fdca26"
             ],
             [
              1,
              "#f0f921"
             ]
            ],
            "type": "contour"
           }
          ],
          "contourcarpet": [
           {
            "colorbar": {
             "outlinewidth": 0,
             "ticks": ""
            },
            "type": "contourcarpet"
           }
          ],
          "heatmap": [
           {
            "colorbar": {
             "outlinewidth": 0,
             "ticks": ""
            },
            "colorscale": [
             [
              0,
              "#0d0887"
             ],
             [
              0.1111111111111111,
              "#46039f"
             ],
             [
              0.2222222222222222,
              "#7201a8"
             ],
             [
              0.3333333333333333,
              "#9c179e"
             ],
             [
              0.4444444444444444,
              "#bd3786"
             ],
             [
              0.5555555555555556,
              "#d8576b"
             ],
             [
              0.6666666666666666,
              "#ed7953"
             ],
             [
              0.7777777777777778,
              "#fb9f3a"
             ],
             [
              0.8888888888888888,
              "#fdca26"
             ],
             [
              1,
              "#f0f921"
             ]
            ],
            "type": "heatmap"
           }
          ],
          "heatmapgl": [
           {
            "colorbar": {
             "outlinewidth": 0,
             "ticks": ""
            },
            "colorscale": [
             [
              0,
              "#0d0887"
             ],
             [
              0.1111111111111111,
              "#46039f"
             ],
             [
              0.2222222222222222,
              "#7201a8"
             ],
             [
              0.3333333333333333,
              "#9c179e"
             ],
             [
              0.4444444444444444,
              "#bd3786"
             ],
             [
              0.5555555555555556,
              "#d8576b"
             ],
             [
              0.6666666666666666,
              "#ed7953"
             ],
             [
              0.7777777777777778,
              "#fb9f3a"
             ],
             [
              0.8888888888888888,
              "#fdca26"
             ],
             [
              1,
              "#f0f921"
             ]
            ],
            "type": "heatmapgl"
           }
          ],
          "histogram": [
           {
            "marker": {
             "pattern": {
              "fillmode": "overlay",
              "size": 10,
              "solidity": 0.2
             }
            },
            "type": "histogram"
           }
          ],
          "histogram2d": [
           {
            "colorbar": {
             "outlinewidth": 0,
             "ticks": ""
            },
            "colorscale": [
             [
              0,
              "#0d0887"
             ],
             [
              0.1111111111111111,
              "#46039f"
             ],
             [
              0.2222222222222222,
              "#7201a8"
             ],
             [
              0.3333333333333333,
              "#9c179e"
             ],
             [
              0.4444444444444444,
              "#bd3786"
             ],
             [
              0.5555555555555556,
              "#d8576b"
             ],
             [
              0.6666666666666666,
              "#ed7953"
             ],
             [
              0.7777777777777778,
              "#fb9f3a"
             ],
             [
              0.8888888888888888,
              "#fdca26"
             ],
             [
              1,
              "#f0f921"
             ]
            ],
            "type": "histogram2d"
           }
          ],
          "histogram2dcontour": [
           {
            "colorbar": {
             "outlinewidth": 0,
             "ticks": ""
            },
            "colorscale": [
             [
              0,
              "#0d0887"
             ],
             [
              0.1111111111111111,
              "#46039f"
             ],
             [
              0.2222222222222222,
              "#7201a8"
             ],
             [
              0.3333333333333333,
              "#9c179e"
             ],
             [
              0.4444444444444444,
              "#bd3786"
             ],
             [
              0.5555555555555556,
              "#d8576b"
             ],
             [
              0.6666666666666666,
              "#ed7953"
             ],
             [
              0.7777777777777778,
              "#fb9f3a"
             ],
             [
              0.8888888888888888,
              "#fdca26"
             ],
             [
              1,
              "#f0f921"
             ]
            ],
            "type": "histogram2dcontour"
           }
          ],
          "mesh3d": [
           {
            "colorbar": {
             "outlinewidth": 0,
             "ticks": ""
            },
            "type": "mesh3d"
           }
          ],
          "parcoords": [
           {
            "line": {
             "colorbar": {
              "outlinewidth": 0,
              "ticks": ""
             }
            },
            "type": "parcoords"
           }
          ],
          "pie": [
           {
            "automargin": true,
            "type": "pie"
           }
          ],
          "scatter": [
           {
            "fillpattern": {
             "fillmode": "overlay",
             "size": 10,
             "solidity": 0.2
            },
            "type": "scatter"
           }
          ],
          "scatter3d": [
           {
            "line": {
             "colorbar": {
              "outlinewidth": 0,
              "ticks": ""
             }
            },
            "marker": {
             "colorbar": {
              "outlinewidth": 0,
              "ticks": ""
             }
            },
            "type": "scatter3d"
           }
          ],
          "scattercarpet": [
           {
            "marker": {
             "colorbar": {
              "outlinewidth": 0,
              "ticks": ""
             }
            },
            "type": "scattercarpet"
           }
          ],
          "scattergeo": [
           {
            "marker": {
             "colorbar": {
              "outlinewidth": 0,
              "ticks": ""
             }
            },
            "type": "scattergeo"
           }
          ],
          "scattergl": [
           {
            "marker": {
             "colorbar": {
              "outlinewidth": 0,
              "ticks": ""
             }
            },
            "type": "scattergl"
           }
          ],
          "scattermapbox": [
           {
            "marker": {
             "colorbar": {
              "outlinewidth": 0,
              "ticks": ""
             }
            },
            "type": "scattermapbox"
           }
          ],
          "scatterpolar": [
           {
            "marker": {
             "colorbar": {
              "outlinewidth": 0,
              "ticks": ""
             }
            },
            "type": "scatterpolar"
           }
          ],
          "scatterpolargl": [
           {
            "marker": {
             "colorbar": {
              "outlinewidth": 0,
              "ticks": ""
             }
            },
            "type": "scatterpolargl"
           }
          ],
          "scatterternary": [
           {
            "marker": {
             "colorbar": {
              "outlinewidth": 0,
              "ticks": ""
             }
            },
            "type": "scatterternary"
           }
          ],
          "surface": [
           {
            "colorbar": {
             "outlinewidth": 0,
             "ticks": ""
            },
            "colorscale": [
             [
              0,
              "#0d0887"
             ],
             [
              0.1111111111111111,
              "#46039f"
             ],
             [
              0.2222222222222222,
              "#7201a8"
             ],
             [
              0.3333333333333333,
              "#9c179e"
             ],
             [
              0.4444444444444444,
              "#bd3786"
             ],
             [
              0.5555555555555556,
              "#d8576b"
             ],
             [
              0.6666666666666666,
              "#ed7953"
             ],
             [
              0.7777777777777778,
              "#fb9f3a"
             ],
             [
              0.8888888888888888,
              "#fdca26"
             ],
             [
              1,
              "#f0f921"
             ]
            ],
            "type": "surface"
           }
          ],
          "table": [
           {
            "cells": {
             "fill": {
              "color": "#EBF0F8"
             },
             "line": {
              "color": "white"
             }
            },
            "header": {
             "fill": {
              "color": "#C8D4E3"
             },
             "line": {
              "color": "white"
             }
            },
            "type": "table"
           }
          ]
         },
         "layout": {
          "annotationdefaults": {
           "arrowcolor": "#2a3f5f",
           "arrowhead": 0,
           "arrowwidth": 1
          },
          "autotypenumbers": "strict",
          "coloraxis": {
           "colorbar": {
            "outlinewidth": 0,
            "ticks": ""
           }
          },
          "colorscale": {
           "diverging": [
            [
             0,
             "#8e0152"
            ],
            [
             0.1,
             "#c51b7d"
            ],
            [
             0.2,
             "#de77ae"
            ],
            [
             0.3,
             "#f1b6da"
            ],
            [
             0.4,
             "#fde0ef"
            ],
            [
             0.5,
             "#f7f7f7"
            ],
            [
             0.6,
             "#e6f5d0"
            ],
            [
             0.7,
             "#b8e186"
            ],
            [
             0.8,
             "#7fbc41"
            ],
            [
             0.9,
             "#4d9221"
            ],
            [
             1,
             "#276419"
            ]
           ],
           "sequential": [
            [
             0,
             "#0d0887"
            ],
            [
             0.1111111111111111,
             "#46039f"
            ],
            [
             0.2222222222222222,
             "#7201a8"
            ],
            [
             0.3333333333333333,
             "#9c179e"
            ],
            [
             0.4444444444444444,
             "#bd3786"
            ],
            [
             0.5555555555555556,
             "#d8576b"
            ],
            [
             0.6666666666666666,
             "#ed7953"
            ],
            [
             0.7777777777777778,
             "#fb9f3a"
            ],
            [
             0.8888888888888888,
             "#fdca26"
            ],
            [
             1,
             "#f0f921"
            ]
           ],
           "sequentialminus": [
            [
             0,
             "#0d0887"
            ],
            [
             0.1111111111111111,
             "#46039f"
            ],
            [
             0.2222222222222222,
             "#7201a8"
            ],
            [
             0.3333333333333333,
             "#9c179e"
            ],
            [
             0.4444444444444444,
             "#bd3786"
            ],
            [
             0.5555555555555556,
             "#d8576b"
            ],
            [
             0.6666666666666666,
             "#ed7953"
            ],
            [
             0.7777777777777778,
             "#fb9f3a"
            ],
            [
             0.8888888888888888,
             "#fdca26"
            ],
            [
             1,
             "#f0f921"
            ]
           ]
          },
          "colorway": [
           "#636efa",
           "#EF553B",
           "#00cc96",
           "#ab63fa",
           "#FFA15A",
           "#19d3f3",
           "#FF6692",
           "#B6E880",
           "#FF97FF",
           "#FECB52"
          ],
          "font": {
           "color": "#2a3f5f"
          },
          "geo": {
           "bgcolor": "white",
           "lakecolor": "white",
           "landcolor": "#E5ECF6",
           "showlakes": true,
           "showland": true,
           "subunitcolor": "white"
          },
          "hoverlabel": {
           "align": "left"
          },
          "hovermode": "closest",
          "mapbox": {
           "style": "light"
          },
          "paper_bgcolor": "white",
          "plot_bgcolor": "#E5ECF6",
          "polar": {
           "angularaxis": {
            "gridcolor": "white",
            "linecolor": "white",
            "ticks": ""
           },
           "bgcolor": "#E5ECF6",
           "radialaxis": {
            "gridcolor": "white",
            "linecolor": "white",
            "ticks": ""
           }
          },
          "scene": {
           "xaxis": {
            "backgroundcolor": "#E5ECF6",
            "gridcolor": "white",
            "gridwidth": 2,
            "linecolor": "white",
            "showbackground": true,
            "ticks": "",
            "zerolinecolor": "white"
           },
           "yaxis": {
            "backgroundcolor": "#E5ECF6",
            "gridcolor": "white",
            "gridwidth": 2,
            "linecolor": "white",
            "showbackground": true,
            "ticks": "",
            "zerolinecolor": "white"
           },
           "zaxis": {
            "backgroundcolor": "#E5ECF6",
            "gridcolor": "white",
            "gridwidth": 2,
            "linecolor": "white",
            "showbackground": true,
            "ticks": "",
            "zerolinecolor": "white"
           }
          },
          "shapedefaults": {
           "line": {
            "color": "#2a3f5f"
           }
          },
          "ternary": {
           "aaxis": {
            "gridcolor": "white",
            "linecolor": "white",
            "ticks": ""
           },
           "baxis": {
            "gridcolor": "white",
            "linecolor": "white",
            "ticks": ""
           },
           "bgcolor": "#E5ECF6",
           "caxis": {
            "gridcolor": "white",
            "linecolor": "white",
            "ticks": ""
           }
          },
          "title": {
           "x": 0.05
          },
          "xaxis": {
           "automargin": true,
           "gridcolor": "white",
           "linecolor": "white",
           "ticks": "",
           "title": {
            "standoff": 15
           },
           "zerolinecolor": "white",
           "zerolinewidth": 2
          },
          "yaxis": {
           "automargin": true,
           "gridcolor": "white",
           "linecolor": "white",
           "ticks": "",
           "title": {
            "standoff": 15
           },
           "zerolinecolor": "white",
           "zerolinewidth": 2
          }
         }
        },
        "title": {
         "text": "Optimization History Plot"
        },
        "xaxis": {
         "title": {
          "text": "Trial"
         }
        },
        "yaxis": {
         "title": {
          "text": "Objective Value"
         }
        }
       }
      }
     },
     "metadata": {},
     "output_type": "display_data"
    }
   ],
   "source": [
    "optuna.visualization.plot_optimization_history(study)"
   ]
  },
  {
   "cell_type": "code",
   "execution_count": 24,
   "metadata": {},
   "outputs": [
    {
     "data": {
      "application/vnd.plotly.v1+json": {
       "config": {
        "plotlyServerURL": "https://plot.ly"
       },
       "data": [
        {
         "cliponaxis": false,
         "hovertemplate": [
          "min_child_samples (IntDistribution): 0.01852518631940379<extra></extra>",
          "num_leaves (IntDistribution): 0.05547131487298525<extra></extra>",
          "reg_lambda (FloatDistribution): 0.08170723187979824<extra></extra>",
          "subsample (FloatDistribution): 0.11076780373727453<extra></extra>",
          "learning_rate (FloatDistribution): 0.12953884969983914<extra></extra>",
          "colsample_bytree (FloatDistribution): 0.1297314750158367<extra></extra>",
          "max_depth (IntDistribution): 0.20397122760986874<extra></extra>",
          "reg_alpha (FloatDistribution): 0.27028691086499346<extra></extra>"
         ],
         "marker": {
          "color": "rgb(66,146,198)"
         },
         "orientation": "h",
         "text": [
          "0.02",
          "0.06",
          "0.08",
          "0.11",
          "0.13",
          "0.13",
          "0.20",
          "0.27"
         ],
         "textposition": "outside",
         "type": "bar",
         "x": [
          0.01852518631940379,
          0.05547131487298525,
          0.08170723187979824,
          0.11076780373727453,
          0.12953884969983914,
          0.1297314750158367,
          0.20397122760986874,
          0.27028691086499346
         ],
         "y": [
          "min_child_samples",
          "num_leaves",
          "reg_lambda",
          "subsample",
          "learning_rate",
          "colsample_bytree",
          "max_depth",
          "reg_alpha"
         ]
        }
       ],
       "layout": {
        "showlegend": false,
        "template": {
         "data": {
          "bar": [
           {
            "error_x": {
             "color": "#2a3f5f"
            },
            "error_y": {
             "color": "#2a3f5f"
            },
            "marker": {
             "line": {
              "color": "#E5ECF6",
              "width": 0.5
             },
             "pattern": {
              "fillmode": "overlay",
              "size": 10,
              "solidity": 0.2
             }
            },
            "type": "bar"
           }
          ],
          "barpolar": [
           {
            "marker": {
             "line": {
              "color": "#E5ECF6",
              "width": 0.5
             },
             "pattern": {
              "fillmode": "overlay",
              "size": 10,
              "solidity": 0.2
             }
            },
            "type": "barpolar"
           }
          ],
          "carpet": [
           {
            "aaxis": {
             "endlinecolor": "#2a3f5f",
             "gridcolor": "white",
             "linecolor": "white",
             "minorgridcolor": "white",
             "startlinecolor": "#2a3f5f"
            },
            "baxis": {
             "endlinecolor": "#2a3f5f",
             "gridcolor": "white",
             "linecolor": "white",
             "minorgridcolor": "white",
             "startlinecolor": "#2a3f5f"
            },
            "type": "carpet"
           }
          ],
          "choropleth": [
           {
            "colorbar": {
             "outlinewidth": 0,
             "ticks": ""
            },
            "type": "choropleth"
           }
          ],
          "contour": [
           {
            "colorbar": {
             "outlinewidth": 0,
             "ticks": ""
            },
            "colorscale": [
             [
              0,
              "#0d0887"
             ],
             [
              0.1111111111111111,
              "#46039f"
             ],
             [
              0.2222222222222222,
              "#7201a8"
             ],
             [
              0.3333333333333333,
              "#9c179e"
             ],
             [
              0.4444444444444444,
              "#bd3786"
             ],
             [
              0.5555555555555556,
              "#d8576b"
             ],
             [
              0.6666666666666666,
              "#ed7953"
             ],
             [
              0.7777777777777778,
              "#fb9f3a"
             ],
             [
              0.8888888888888888,
              "#fdca26"
             ],
             [
              1,
              "#f0f921"
             ]
            ],
            "type": "contour"
           }
          ],
          "contourcarpet": [
           {
            "colorbar": {
             "outlinewidth": 0,
             "ticks": ""
            },
            "type": "contourcarpet"
           }
          ],
          "heatmap": [
           {
            "colorbar": {
             "outlinewidth": 0,
             "ticks": ""
            },
            "colorscale": [
             [
              0,
              "#0d0887"
             ],
             [
              0.1111111111111111,
              "#46039f"
             ],
             [
              0.2222222222222222,
              "#7201a8"
             ],
             [
              0.3333333333333333,
              "#9c179e"
             ],
             [
              0.4444444444444444,
              "#bd3786"
             ],
             [
              0.5555555555555556,
              "#d8576b"
             ],
             [
              0.6666666666666666,
              "#ed7953"
             ],
             [
              0.7777777777777778,
              "#fb9f3a"
             ],
             [
              0.8888888888888888,
              "#fdca26"
             ],
             [
              1,
              "#f0f921"
             ]
            ],
            "type": "heatmap"
           }
          ],
          "heatmapgl": [
           {
            "colorbar": {
             "outlinewidth": 0,
             "ticks": ""
            },
            "colorscale": [
             [
              0,
              "#0d0887"
             ],
             [
              0.1111111111111111,
              "#46039f"
             ],
             [
              0.2222222222222222,
              "#7201a8"
             ],
             [
              0.3333333333333333,
              "#9c179e"
             ],
             [
              0.4444444444444444,
              "#bd3786"
             ],
             [
              0.5555555555555556,
              "#d8576b"
             ],
             [
              0.6666666666666666,
              "#ed7953"
             ],
             [
              0.7777777777777778,
              "#fb9f3a"
             ],
             [
              0.8888888888888888,
              "#fdca26"
             ],
             [
              1,
              "#f0f921"
             ]
            ],
            "type": "heatmapgl"
           }
          ],
          "histogram": [
           {
            "marker": {
             "pattern": {
              "fillmode": "overlay",
              "size": 10,
              "solidity": 0.2
             }
            },
            "type": "histogram"
           }
          ],
          "histogram2d": [
           {
            "colorbar": {
             "outlinewidth": 0,
             "ticks": ""
            },
            "colorscale": [
             [
              0,
              "#0d0887"
             ],
             [
              0.1111111111111111,
              "#46039f"
             ],
             [
              0.2222222222222222,
              "#7201a8"
             ],
             [
              0.3333333333333333,
              "#9c179e"
             ],
             [
              0.4444444444444444,
              "#bd3786"
             ],
             [
              0.5555555555555556,
              "#d8576b"
             ],
             [
              0.6666666666666666,
              "#ed7953"
             ],
             [
              0.7777777777777778,
              "#fb9f3a"
             ],
             [
              0.8888888888888888,
              "#fdca26"
             ],
             [
              1,
              "#f0f921"
             ]
            ],
            "type": "histogram2d"
           }
          ],
          "histogram2dcontour": [
           {
            "colorbar": {
             "outlinewidth": 0,
             "ticks": ""
            },
            "colorscale": [
             [
              0,
              "#0d0887"
             ],
             [
              0.1111111111111111,
              "#46039f"
             ],
             [
              0.2222222222222222,
              "#7201a8"
             ],
             [
              0.3333333333333333,
              "#9c179e"
             ],
             [
              0.4444444444444444,
              "#bd3786"
             ],
             [
              0.5555555555555556,
              "#d8576b"
             ],
             [
              0.6666666666666666,
              "#ed7953"
             ],
             [
              0.7777777777777778,
              "#fb9f3a"
             ],
             [
              0.8888888888888888,
              "#fdca26"
             ],
             [
              1,
              "#f0f921"
             ]
            ],
            "type": "histogram2dcontour"
           }
          ],
          "mesh3d": [
           {
            "colorbar": {
             "outlinewidth": 0,
             "ticks": ""
            },
            "type": "mesh3d"
           }
          ],
          "parcoords": [
           {
            "line": {
             "colorbar": {
              "outlinewidth": 0,
              "ticks": ""
             }
            },
            "type": "parcoords"
           }
          ],
          "pie": [
           {
            "automargin": true,
            "type": "pie"
           }
          ],
          "scatter": [
           {
            "fillpattern": {
             "fillmode": "overlay",
             "size": 10,
             "solidity": 0.2
            },
            "type": "scatter"
           }
          ],
          "scatter3d": [
           {
            "line": {
             "colorbar": {
              "outlinewidth": 0,
              "ticks": ""
             }
            },
            "marker": {
             "colorbar": {
              "outlinewidth": 0,
              "ticks": ""
             }
            },
            "type": "scatter3d"
           }
          ],
          "scattercarpet": [
           {
            "marker": {
             "colorbar": {
              "outlinewidth": 0,
              "ticks": ""
             }
            },
            "type": "scattercarpet"
           }
          ],
          "scattergeo": [
           {
            "marker": {
             "colorbar": {
              "outlinewidth": 0,
              "ticks": ""
             }
            },
            "type": "scattergeo"
           }
          ],
          "scattergl": [
           {
            "marker": {
             "colorbar": {
              "outlinewidth": 0,
              "ticks": ""
             }
            },
            "type": "scattergl"
           }
          ],
          "scattermapbox": [
           {
            "marker": {
             "colorbar": {
              "outlinewidth": 0,
              "ticks": ""
             }
            },
            "type": "scattermapbox"
           }
          ],
          "scatterpolar": [
           {
            "marker": {
             "colorbar": {
              "outlinewidth": 0,
              "ticks": ""
             }
            },
            "type": "scatterpolar"
           }
          ],
          "scatterpolargl": [
           {
            "marker": {
             "colorbar": {
              "outlinewidth": 0,
              "ticks": ""
             }
            },
            "type": "scatterpolargl"
           }
          ],
          "scatterternary": [
           {
            "marker": {
             "colorbar": {
              "outlinewidth": 0,
              "ticks": ""
             }
            },
            "type": "scatterternary"
           }
          ],
          "surface": [
           {
            "colorbar": {
             "outlinewidth": 0,
             "ticks": ""
            },
            "colorscale": [
             [
              0,
              "#0d0887"
             ],
             [
              0.1111111111111111,
              "#46039f"
             ],
             [
              0.2222222222222222,
              "#7201a8"
             ],
             [
              0.3333333333333333,
              "#9c179e"
             ],
             [
              0.4444444444444444,
              "#bd3786"
             ],
             [
              0.5555555555555556,
              "#d8576b"
             ],
             [
              0.6666666666666666,
              "#ed7953"
             ],
             [
              0.7777777777777778,
              "#fb9f3a"
             ],
             [
              0.8888888888888888,
              "#fdca26"
             ],
             [
              1,
              "#f0f921"
             ]
            ],
            "type": "surface"
           }
          ],
          "table": [
           {
            "cells": {
             "fill": {
              "color": "#EBF0F8"
             },
             "line": {
              "color": "white"
             }
            },
            "header": {
             "fill": {
              "color": "#C8D4E3"
             },
             "line": {
              "color": "white"
             }
            },
            "type": "table"
           }
          ]
         },
         "layout": {
          "annotationdefaults": {
           "arrowcolor": "#2a3f5f",
           "arrowhead": 0,
           "arrowwidth": 1
          },
          "autotypenumbers": "strict",
          "coloraxis": {
           "colorbar": {
            "outlinewidth": 0,
            "ticks": ""
           }
          },
          "colorscale": {
           "diverging": [
            [
             0,
             "#8e0152"
            ],
            [
             0.1,
             "#c51b7d"
            ],
            [
             0.2,
             "#de77ae"
            ],
            [
             0.3,
             "#f1b6da"
            ],
            [
             0.4,
             "#fde0ef"
            ],
            [
             0.5,
             "#f7f7f7"
            ],
            [
             0.6,
             "#e6f5d0"
            ],
            [
             0.7,
             "#b8e186"
            ],
            [
             0.8,
             "#7fbc41"
            ],
            [
             0.9,
             "#4d9221"
            ],
            [
             1,
             "#276419"
            ]
           ],
           "sequential": [
            [
             0,
             "#0d0887"
            ],
            [
             0.1111111111111111,
             "#46039f"
            ],
            [
             0.2222222222222222,
             "#7201a8"
            ],
            [
             0.3333333333333333,
             "#9c179e"
            ],
            [
             0.4444444444444444,
             "#bd3786"
            ],
            [
             0.5555555555555556,
             "#d8576b"
            ],
            [
             0.6666666666666666,
             "#ed7953"
            ],
            [
             0.7777777777777778,
             "#fb9f3a"
            ],
            [
             0.8888888888888888,
             "#fdca26"
            ],
            [
             1,
             "#f0f921"
            ]
           ],
           "sequentialminus": [
            [
             0,
             "#0d0887"
            ],
            [
             0.1111111111111111,
             "#46039f"
            ],
            [
             0.2222222222222222,
             "#7201a8"
            ],
            [
             0.3333333333333333,
             "#9c179e"
            ],
            [
             0.4444444444444444,
             "#bd3786"
            ],
            [
             0.5555555555555556,
             "#d8576b"
            ],
            [
             0.6666666666666666,
             "#ed7953"
            ],
            [
             0.7777777777777778,
             "#fb9f3a"
            ],
            [
             0.8888888888888888,
             "#fdca26"
            ],
            [
             1,
             "#f0f921"
            ]
           ]
          },
          "colorway": [
           "#636efa",
           "#EF553B",
           "#00cc96",
           "#ab63fa",
           "#FFA15A",
           "#19d3f3",
           "#FF6692",
           "#B6E880",
           "#FF97FF",
           "#FECB52"
          ],
          "font": {
           "color": "#2a3f5f"
          },
          "geo": {
           "bgcolor": "white",
           "lakecolor": "white",
           "landcolor": "#E5ECF6",
           "showlakes": true,
           "showland": true,
           "subunitcolor": "white"
          },
          "hoverlabel": {
           "align": "left"
          },
          "hovermode": "closest",
          "mapbox": {
           "style": "light"
          },
          "paper_bgcolor": "white",
          "plot_bgcolor": "#E5ECF6",
          "polar": {
           "angularaxis": {
            "gridcolor": "white",
            "linecolor": "white",
            "ticks": ""
           },
           "bgcolor": "#E5ECF6",
           "radialaxis": {
            "gridcolor": "white",
            "linecolor": "white",
            "ticks": ""
           }
          },
          "scene": {
           "xaxis": {
            "backgroundcolor": "#E5ECF6",
            "gridcolor": "white",
            "gridwidth": 2,
            "linecolor": "white",
            "showbackground": true,
            "ticks": "",
            "zerolinecolor": "white"
           },
           "yaxis": {
            "backgroundcolor": "#E5ECF6",
            "gridcolor": "white",
            "gridwidth": 2,
            "linecolor": "white",
            "showbackground": true,
            "ticks": "",
            "zerolinecolor": "white"
           },
           "zaxis": {
            "backgroundcolor": "#E5ECF6",
            "gridcolor": "white",
            "gridwidth": 2,
            "linecolor": "white",
            "showbackground": true,
            "ticks": "",
            "zerolinecolor": "white"
           }
          },
          "shapedefaults": {
           "line": {
            "color": "#2a3f5f"
           }
          },
          "ternary": {
           "aaxis": {
            "gridcolor": "white",
            "linecolor": "white",
            "ticks": ""
           },
           "baxis": {
            "gridcolor": "white",
            "linecolor": "white",
            "ticks": ""
           },
           "bgcolor": "#E5ECF6",
           "caxis": {
            "gridcolor": "white",
            "linecolor": "white",
            "ticks": ""
           }
          },
          "title": {
           "x": 0.05
          },
          "xaxis": {
           "automargin": true,
           "gridcolor": "white",
           "linecolor": "white",
           "ticks": "",
           "title": {
            "standoff": 15
           },
           "zerolinecolor": "white",
           "zerolinewidth": 2
          },
          "yaxis": {
           "automargin": true,
           "gridcolor": "white",
           "linecolor": "white",
           "ticks": "",
           "title": {
            "standoff": 15
           },
           "zerolinecolor": "white",
           "zerolinewidth": 2
          }
         }
        },
        "title": {
         "text": "Hyperparameter Importances"
        },
        "xaxis": {
         "title": {
          "text": "Importance for Objective Value"
         }
        },
        "yaxis": {
         "title": {
          "text": "Hyperparameter"
         }
        }
       }
      }
     },
     "metadata": {},
     "output_type": "display_data"
    }
   ],
   "source": [
    "optuna.visualization.plot_param_importances(study)"
   ]
  },
  {
   "cell_type": "code",
   "execution_count": 25,
   "metadata": {},
   "outputs": [
    {
     "data": {
      "text/plain": [
       "{'reg_alpha': 0.5041022796503798,\n",
       " 'reg_lambda': 1.7710779826791796e-05,\n",
       " 'colsample_bytree': 0.7,\n",
       " 'subsample': 0.65,\n",
       " 'learning_rate': 0.012,\n",
       " 'num_leaves': 82,\n",
       " 'min_child_samples': 18,\n",
       " 'max_depth': 28,\n",
       " 'metric': 'rmse',\n",
       " 'random_state': 10,\n",
       " 'n_estimators': 10000,\n",
       " 'early_stopping_round': 500,\n",
       " 'verbose': -1,\n",
       " 'n_jobs': -1}"
      ]
     },
     "execution_count": 25,
     "metadata": {},
     "output_type": "execute_result"
    }
   ],
   "source": [
    "params=study.best_params\n",
    "params['metric'] = 'rmse'\n",
    "params['random_state'] = 10\n",
    "params['n_estimators'] = 10000 \n",
    "params['early_stopping_round'] = 500\n",
    "params['verbose'] = -1\n",
    "params['n_jobs'] = -1\n",
    "\n",
    "params"
   ]
  },
  {
   "cell_type": "code",
   "execution_count": 26,
   "metadata": {},
   "outputs": [
    {
     "name": "stdout",
     "output_type": "stream",
     "text": [
      "trial 1: 30.90502\n",
      "trial 2: 32.07024\n",
      "trial 3: 31.74965\n",
      "trial 4: 31.23576\n",
      "trial 5: 32.7526\n",
      "\n",
      "average: 31.74265\n"
     ]
    }
   ],
   "source": [
    "from sklearn.model_selection import KFold\n",
    "\n",
    "kf = KFold(n_splits=5, random_state=48, shuffle=True)\n",
    "preds_MLM = np.zeros(df_test.shape[0])\n",
    "rmse=[]\n",
    "n=0\n",
    "\n",
    "for trn_idx, test_idx in kf.split(df_train, df_train_target_MLM):\n",
    "    X_tr, X_val=df_train.iloc[trn_idx], df_train.iloc[test_idx]\n",
    "    y_tr, y_val=df_train_target_MLM.iloc[trn_idx], df_train_target_MLM.iloc[test_idx]\n",
    "\n",
    "    model = LGBMRegressor(**params)\n",
    "    model.fit(X_tr, y_tr, eval_set=[(X_val,y_val)])\n",
    "\n",
    "    preds_MLM+=model.predict(df_test)/kf.n_splits\n",
    "    rmse.append(mean_squared_error(y_val, model.predict(X_val), squared=False))\n",
    "    print(f'trial {n+1}:', round(rmse[n], 5))\n",
    "    n+=1\n",
    "\n",
    "print(f'\\naverage: {round(np.mean(rmse), 5)}')"
   ]
  },
  {
   "cell_type": "markdown",
   "metadata": {},
   "source": [
    "### target HLM"
   ]
  },
  {
   "cell_type": "code",
   "execution_count": 27,
   "metadata": {},
   "outputs": [
    {
     "data": {
      "text/plain": [
       "0       50.680\n",
       "1       50.590\n",
       "2       80.892\n",
       "3        2.000\n",
       "4       99.990\n",
       "         ...  \n",
       "3466    66.126\n",
       "3467    63.732\n",
       "3468    93.840\n",
       "3469    49.519\n",
       "3470    10.867\n",
       "Name: HLM, Length: 3471, dtype: float64"
      ]
     },
     "execution_count": 27,
     "metadata": {},
     "output_type": "execute_result"
    }
   ],
   "source": [
    "df_train_target_HLM = df_train_target['HLM']\n",
    "df_train_target_HLM"
   ]
  },
  {
   "cell_type": "code",
   "execution_count": 28,
   "metadata": {},
   "outputs": [],
   "source": [
    "def objective(trial):\n",
    "\n",
    "    X_train, X_valid, y_train, y_valid = train_test_split(df_train, df_train_target_HLM, test_size = 0.2, random_state=42)\n",
    "\n",
    "    param = {\n",
    "        ### constant \n",
    "        'metric': 'rmse', \n",
    "        'random_state': 10,\n",
    "        'n_estimators': 10000,\n",
    "        'early_stopping_round ' : 500,\n",
    "        'verbose' : -1,\n",
    "        'n_jobs' : -1,\n",
    "        ### log_uniform\n",
    "        'reg_alpha': trial.suggest_loguniform('reg_alpha', 1e-5, 100.0),\n",
    "        'reg_lambda': trial.suggest_loguniform('reg_lambda', 1e-5, 100.0),\n",
    "        ### suggest_discrete_uniform\n",
    "        'colsample_bytree': trial.suggest_discrete_uniform('colsample_bytree', 0.5, 1.0, 0.05),\n",
    "        'subsample': trial.suggest_discrete_uniform('subsample', 0.5, 1.0, 0.05),\n",
    "        'learning_rate': trial.suggest_discrete_uniform('learning_rate', 0.001, 0.05, 0.001),\n",
    "        ### suggest_int\n",
    "        'num_leaves' : trial.suggest_int('num_leaves', 1, 300),\n",
    "        'min_child_samples': trial.suggest_int('min_child_samples', 1, 100),\n",
    "        'max_depth': trial.suggest_int('max_depth', 10, 40, 1),\n",
    "    }\n",
    "    model = LGBMRegressor(**param)  \n",
    "    model.fit(X_train, y_train, eval_set=[(X_valid,y_valid)])\n",
    "    preds = model.predict(X_valid)\n",
    "    rmse = mean_squared_error(y_valid, preds, squared=False)\n",
    "    \n",
    "    return rmse"
   ]
  },
  {
   "cell_type": "code",
   "execution_count": 29,
   "metadata": {},
   "outputs": [
    {
     "name": "stderr",
     "output_type": "stream",
     "text": [
      "[I 2023-09-05 18:12:08,452] A new study created in memory with name: no-name-888ea477-2052-4802-92ad-4ebaa4ccebf7\n",
      "[I 2023-09-05 18:12:25,637] Trial 0 finished with value: 33.472726830291904 and parameters: {'reg_alpha': 1.4360587717549029e-05, 'reg_lambda': 5.689556938676509e-05, 'colsample_bytree': 0.7, 'subsample': 0.65, 'learning_rate': 0.005, 'num_leaves': 287, 'min_child_samples': 75, 'max_depth': 28}. Best is trial 0 with value: 33.472726830291904.\n",
      "[I 2023-09-05 18:12:40,840] Trial 1 finished with value: 33.748292984867646 and parameters: {'reg_alpha': 0.2739451755038283, 'reg_lambda': 0.04317396204811613, 'colsample_bytree': 0.95, 'subsample': 0.7, 'learning_rate': 0.038, 'num_leaves': 47, 'min_child_samples': 12, 'max_depth': 40}. Best is trial 0 with value: 33.472726830291904.\n",
      "[I 2023-09-05 18:13:25,763] Trial 2 finished with value: 33.43618354350209 and parameters: {'reg_alpha': 4.9232633788731396e-05, 'reg_lambda': 0.0006383687218444751, 'colsample_bytree': 1.0, 'subsample': 0.75, 'learning_rate': 0.033, 'num_leaves': 251, 'min_child_samples': 13, 'max_depth': 29}. Best is trial 2 with value: 33.43618354350209.\n"
     ]
    },
    {
     "name": "stdout",
     "output_type": "stream",
     "text": [
      "Number of finished trials: 3\n",
      "Best trial: {'reg_alpha': 4.9232633788731396e-05, 'reg_lambda': 0.0006383687218444751, 'colsample_bytree': 1.0, 'subsample': 0.75, 'learning_rate': 0.033, 'num_leaves': 251, 'min_child_samples': 13, 'max_depth': 29}\n"
     ]
    }
   ],
   "source": [
    "study = optuna.create_study(direction='minimize')\n",
    "study.optimize(objective, n_trials=3)\n",
    "print('Number of finished trials:', len(study.trials))\n",
    "print('Best trial:', study.best_trial.params)"
   ]
  },
  {
   "cell_type": "code",
   "execution_count": 30,
   "metadata": {},
   "outputs": [
    {
     "data": {
      "text/html": [
       "<div>\n",
       "<style scoped>\n",
       "    .dataframe tbody tr th:only-of-type {\n",
       "        vertical-align: middle;\n",
       "    }\n",
       "\n",
       "    .dataframe tbody tr th {\n",
       "        vertical-align: top;\n",
       "    }\n",
       "\n",
       "    .dataframe thead th {\n",
       "        text-align: right;\n",
       "    }\n",
       "</style>\n",
       "<table border=\"1\" class=\"dataframe\">\n",
       "  <thead>\n",
       "    <tr style=\"text-align: right;\">\n",
       "      <th></th>\n",
       "      <th>number</th>\n",
       "      <th>value</th>\n",
       "      <th>datetime_start</th>\n",
       "      <th>datetime_complete</th>\n",
       "      <th>duration</th>\n",
       "      <th>params_colsample_bytree</th>\n",
       "      <th>params_learning_rate</th>\n",
       "      <th>params_max_depth</th>\n",
       "      <th>params_min_child_samples</th>\n",
       "      <th>params_num_leaves</th>\n",
       "      <th>params_reg_alpha</th>\n",
       "      <th>params_reg_lambda</th>\n",
       "      <th>params_subsample</th>\n",
       "      <th>state</th>\n",
       "    </tr>\n",
       "  </thead>\n",
       "  <tbody>\n",
       "    <tr>\n",
       "      <th>0</th>\n",
       "      <td>0</td>\n",
       "      <td>33.472727</td>\n",
       "      <td>2023-09-05 18:12:08.454631</td>\n",
       "      <td>2023-09-05 18:12:25.636691</td>\n",
       "      <td>0 days 00:00:17.182060</td>\n",
       "      <td>0.70</td>\n",
       "      <td>0.005</td>\n",
       "      <td>28</td>\n",
       "      <td>75</td>\n",
       "      <td>287</td>\n",
       "      <td>0.000014</td>\n",
       "      <td>0.000057</td>\n",
       "      <td>0.65</td>\n",
       "      <td>COMPLETE</td>\n",
       "    </tr>\n",
       "    <tr>\n",
       "      <th>1</th>\n",
       "      <td>1</td>\n",
       "      <td>33.748293</td>\n",
       "      <td>2023-09-05 18:12:25.638692</td>\n",
       "      <td>2023-09-05 18:12:40.839739</td>\n",
       "      <td>0 days 00:00:15.201047</td>\n",
       "      <td>0.95</td>\n",
       "      <td>0.038</td>\n",
       "      <td>40</td>\n",
       "      <td>12</td>\n",
       "      <td>47</td>\n",
       "      <td>0.273945</td>\n",
       "      <td>0.043174</td>\n",
       "      <td>0.70</td>\n",
       "      <td>COMPLETE</td>\n",
       "    </tr>\n",
       "    <tr>\n",
       "      <th>2</th>\n",
       "      <td>2</td>\n",
       "      <td>33.436184</td>\n",
       "      <td>2023-09-05 18:12:40.842739</td>\n",
       "      <td>2023-09-05 18:13:25.762240</td>\n",
       "      <td>0 days 00:00:44.919501</td>\n",
       "      <td>1.00</td>\n",
       "      <td>0.033</td>\n",
       "      <td>29</td>\n",
       "      <td>13</td>\n",
       "      <td>251</td>\n",
       "      <td>0.000049</td>\n",
       "      <td>0.000638</td>\n",
       "      <td>0.75</td>\n",
       "      <td>COMPLETE</td>\n",
       "    </tr>\n",
       "  </tbody>\n",
       "</table>\n",
       "</div>"
      ],
      "text/plain": [
       "   number      value             datetime_start          datetime_complete  \\\n",
       "0       0  33.472727 2023-09-05 18:12:08.454631 2023-09-05 18:12:25.636691   \n",
       "1       1  33.748293 2023-09-05 18:12:25.638692 2023-09-05 18:12:40.839739   \n",
       "2       2  33.436184 2023-09-05 18:12:40.842739 2023-09-05 18:13:25.762240   \n",
       "\n",
       "                duration  params_colsample_bytree  params_learning_rate  \\\n",
       "0 0 days 00:00:17.182060                     0.70                 0.005   \n",
       "1 0 days 00:00:15.201047                     0.95                 0.038   \n",
       "2 0 days 00:00:44.919501                     1.00                 0.033   \n",
       "\n",
       "   params_max_depth  params_min_child_samples  params_num_leaves  \\\n",
       "0                28                        75                287   \n",
       "1                40                        12                 47   \n",
       "2                29                        13                251   \n",
       "\n",
       "   params_reg_alpha  params_reg_lambda  params_subsample     state  \n",
       "0          0.000014           0.000057              0.65  COMPLETE  \n",
       "1          0.273945           0.043174              0.70  COMPLETE  \n",
       "2          0.000049           0.000638              0.75  COMPLETE  "
      ]
     },
     "execution_count": 30,
     "metadata": {},
     "output_type": "execute_result"
    }
   ],
   "source": [
    "study.trials_dataframe()"
   ]
  },
  {
   "cell_type": "code",
   "execution_count": 31,
   "metadata": {},
   "outputs": [
    {
     "data": {
      "application/vnd.plotly.v1+json": {
       "config": {
        "plotlyServerURL": "https://plot.ly"
       },
       "data": [
        {
         "mode": "markers",
         "name": "Objective Value",
         "type": "scatter",
         "x": [
          0,
          1,
          2
         ],
         "y": [
          33.472726830291904,
          33.748292984867646,
          33.43618354350209
         ]
        },
        {
         "mode": "lines",
         "name": "Best Value",
         "type": "scatter",
         "x": [
          0,
          1,
          2
         ],
         "y": [
          33.472726830291904,
          33.472726830291904,
          33.43618354350209
         ]
        },
        {
         "marker": {
          "color": "#cccccc"
         },
         "mode": "markers",
         "name": "Infeasible Trial",
         "showlegend": false,
         "type": "scatter",
         "x": [],
         "y": []
        }
       ],
       "layout": {
        "template": {
         "data": {
          "bar": [
           {
            "error_x": {
             "color": "#2a3f5f"
            },
            "error_y": {
             "color": "#2a3f5f"
            },
            "marker": {
             "line": {
              "color": "#E5ECF6",
              "width": 0.5
             },
             "pattern": {
              "fillmode": "overlay",
              "size": 10,
              "solidity": 0.2
             }
            },
            "type": "bar"
           }
          ],
          "barpolar": [
           {
            "marker": {
             "line": {
              "color": "#E5ECF6",
              "width": 0.5
             },
             "pattern": {
              "fillmode": "overlay",
              "size": 10,
              "solidity": 0.2
             }
            },
            "type": "barpolar"
           }
          ],
          "carpet": [
           {
            "aaxis": {
             "endlinecolor": "#2a3f5f",
             "gridcolor": "white",
             "linecolor": "white",
             "minorgridcolor": "white",
             "startlinecolor": "#2a3f5f"
            },
            "baxis": {
             "endlinecolor": "#2a3f5f",
             "gridcolor": "white",
             "linecolor": "white",
             "minorgridcolor": "white",
             "startlinecolor": "#2a3f5f"
            },
            "type": "carpet"
           }
          ],
          "choropleth": [
           {
            "colorbar": {
             "outlinewidth": 0,
             "ticks": ""
            },
            "type": "choropleth"
           }
          ],
          "contour": [
           {
            "colorbar": {
             "outlinewidth": 0,
             "ticks": ""
            },
            "colorscale": [
             [
              0,
              "#0d0887"
             ],
             [
              0.1111111111111111,
              "#46039f"
             ],
             [
              0.2222222222222222,
              "#7201a8"
             ],
             [
              0.3333333333333333,
              "#9c179e"
             ],
             [
              0.4444444444444444,
              "#bd3786"
             ],
             [
              0.5555555555555556,
              "#d8576b"
             ],
             [
              0.6666666666666666,
              "#ed7953"
             ],
             [
              0.7777777777777778,
              "#fb9f3a"
             ],
             [
              0.8888888888888888,
              "#fdca26"
             ],
             [
              1,
              "#f0f921"
             ]
            ],
            "type": "contour"
           }
          ],
          "contourcarpet": [
           {
            "colorbar": {
             "outlinewidth": 0,
             "ticks": ""
            },
            "type": "contourcarpet"
           }
          ],
          "heatmap": [
           {
            "colorbar": {
             "outlinewidth": 0,
             "ticks": ""
            },
            "colorscale": [
             [
              0,
              "#0d0887"
             ],
             [
              0.1111111111111111,
              "#46039f"
             ],
             [
              0.2222222222222222,
              "#7201a8"
             ],
             [
              0.3333333333333333,
              "#9c179e"
             ],
             [
              0.4444444444444444,
              "#bd3786"
             ],
             [
              0.5555555555555556,
              "#d8576b"
             ],
             [
              0.6666666666666666,
              "#ed7953"
             ],
             [
              0.7777777777777778,
              "#fb9f3a"
             ],
             [
              0.8888888888888888,
              "#fdca26"
             ],
             [
              1,
              "#f0f921"
             ]
            ],
            "type": "heatmap"
           }
          ],
          "heatmapgl": [
           {
            "colorbar": {
             "outlinewidth": 0,
             "ticks": ""
            },
            "colorscale": [
             [
              0,
              "#0d0887"
             ],
             [
              0.1111111111111111,
              "#46039f"
             ],
             [
              0.2222222222222222,
              "#7201a8"
             ],
             [
              0.3333333333333333,
              "#9c179e"
             ],
             [
              0.4444444444444444,
              "#bd3786"
             ],
             [
              0.5555555555555556,
              "#d8576b"
             ],
             [
              0.6666666666666666,
              "#ed7953"
             ],
             [
              0.7777777777777778,
              "#fb9f3a"
             ],
             [
              0.8888888888888888,
              "#fdca26"
             ],
             [
              1,
              "#f0f921"
             ]
            ],
            "type": "heatmapgl"
           }
          ],
          "histogram": [
           {
            "marker": {
             "pattern": {
              "fillmode": "overlay",
              "size": 10,
              "solidity": 0.2
             }
            },
            "type": "histogram"
           }
          ],
          "histogram2d": [
           {
            "colorbar": {
             "outlinewidth": 0,
             "ticks": ""
            },
            "colorscale": [
             [
              0,
              "#0d0887"
             ],
             [
              0.1111111111111111,
              "#46039f"
             ],
             [
              0.2222222222222222,
              "#7201a8"
             ],
             [
              0.3333333333333333,
              "#9c179e"
             ],
             [
              0.4444444444444444,
              "#bd3786"
             ],
             [
              0.5555555555555556,
              "#d8576b"
             ],
             [
              0.6666666666666666,
              "#ed7953"
             ],
             [
              0.7777777777777778,
              "#fb9f3a"
             ],
             [
              0.8888888888888888,
              "#fdca26"
             ],
             [
              1,
              "#f0f921"
             ]
            ],
            "type": "histogram2d"
           }
          ],
          "histogram2dcontour": [
           {
            "colorbar": {
             "outlinewidth": 0,
             "ticks": ""
            },
            "colorscale": [
             [
              0,
              "#0d0887"
             ],
             [
              0.1111111111111111,
              "#46039f"
             ],
             [
              0.2222222222222222,
              "#7201a8"
             ],
             [
              0.3333333333333333,
              "#9c179e"
             ],
             [
              0.4444444444444444,
              "#bd3786"
             ],
             [
              0.5555555555555556,
              "#d8576b"
             ],
             [
              0.6666666666666666,
              "#ed7953"
             ],
             [
              0.7777777777777778,
              "#fb9f3a"
             ],
             [
              0.8888888888888888,
              "#fdca26"
             ],
             [
              1,
              "#f0f921"
             ]
            ],
            "type": "histogram2dcontour"
           }
          ],
          "mesh3d": [
           {
            "colorbar": {
             "outlinewidth": 0,
             "ticks": ""
            },
            "type": "mesh3d"
           }
          ],
          "parcoords": [
           {
            "line": {
             "colorbar": {
              "outlinewidth": 0,
              "ticks": ""
             }
            },
            "type": "parcoords"
           }
          ],
          "pie": [
           {
            "automargin": true,
            "type": "pie"
           }
          ],
          "scatter": [
           {
            "fillpattern": {
             "fillmode": "overlay",
             "size": 10,
             "solidity": 0.2
            },
            "type": "scatter"
           }
          ],
          "scatter3d": [
           {
            "line": {
             "colorbar": {
              "outlinewidth": 0,
              "ticks": ""
             }
            },
            "marker": {
             "colorbar": {
              "outlinewidth": 0,
              "ticks": ""
             }
            },
            "type": "scatter3d"
           }
          ],
          "scattercarpet": [
           {
            "marker": {
             "colorbar": {
              "outlinewidth": 0,
              "ticks": ""
             }
            },
            "type": "scattercarpet"
           }
          ],
          "scattergeo": [
           {
            "marker": {
             "colorbar": {
              "outlinewidth": 0,
              "ticks": ""
             }
            },
            "type": "scattergeo"
           }
          ],
          "scattergl": [
           {
            "marker": {
             "colorbar": {
              "outlinewidth": 0,
              "ticks": ""
             }
            },
            "type": "scattergl"
           }
          ],
          "scattermapbox": [
           {
            "marker": {
             "colorbar": {
              "outlinewidth": 0,
              "ticks": ""
             }
            },
            "type": "scattermapbox"
           }
          ],
          "scatterpolar": [
           {
            "marker": {
             "colorbar": {
              "outlinewidth": 0,
              "ticks": ""
             }
            },
            "type": "scatterpolar"
           }
          ],
          "scatterpolargl": [
           {
            "marker": {
             "colorbar": {
              "outlinewidth": 0,
              "ticks": ""
             }
            },
            "type": "scatterpolargl"
           }
          ],
          "scatterternary": [
           {
            "marker": {
             "colorbar": {
              "outlinewidth": 0,
              "ticks": ""
             }
            },
            "type": "scatterternary"
           }
          ],
          "surface": [
           {
            "colorbar": {
             "outlinewidth": 0,
             "ticks": ""
            },
            "colorscale": [
             [
              0,
              "#0d0887"
             ],
             [
              0.1111111111111111,
              "#46039f"
             ],
             [
              0.2222222222222222,
              "#7201a8"
             ],
             [
              0.3333333333333333,
              "#9c179e"
             ],
             [
              0.4444444444444444,
              "#bd3786"
             ],
             [
              0.5555555555555556,
              "#d8576b"
             ],
             [
              0.6666666666666666,
              "#ed7953"
             ],
             [
              0.7777777777777778,
              "#fb9f3a"
             ],
             [
              0.8888888888888888,
              "#fdca26"
             ],
             [
              1,
              "#f0f921"
             ]
            ],
            "type": "surface"
           }
          ],
          "table": [
           {
            "cells": {
             "fill": {
              "color": "#EBF0F8"
             },
             "line": {
              "color": "white"
             }
            },
            "header": {
             "fill": {
              "color": "#C8D4E3"
             },
             "line": {
              "color": "white"
             }
            },
            "type": "table"
           }
          ]
         },
         "layout": {
          "annotationdefaults": {
           "arrowcolor": "#2a3f5f",
           "arrowhead": 0,
           "arrowwidth": 1
          },
          "autotypenumbers": "strict",
          "coloraxis": {
           "colorbar": {
            "outlinewidth": 0,
            "ticks": ""
           }
          },
          "colorscale": {
           "diverging": [
            [
             0,
             "#8e0152"
            ],
            [
             0.1,
             "#c51b7d"
            ],
            [
             0.2,
             "#de77ae"
            ],
            [
             0.3,
             "#f1b6da"
            ],
            [
             0.4,
             "#fde0ef"
            ],
            [
             0.5,
             "#f7f7f7"
            ],
            [
             0.6,
             "#e6f5d0"
            ],
            [
             0.7,
             "#b8e186"
            ],
            [
             0.8,
             "#7fbc41"
            ],
            [
             0.9,
             "#4d9221"
            ],
            [
             1,
             "#276419"
            ]
           ],
           "sequential": [
            [
             0,
             "#0d0887"
            ],
            [
             0.1111111111111111,
             "#46039f"
            ],
            [
             0.2222222222222222,
             "#7201a8"
            ],
            [
             0.3333333333333333,
             "#9c179e"
            ],
            [
             0.4444444444444444,
             "#bd3786"
            ],
            [
             0.5555555555555556,
             "#d8576b"
            ],
            [
             0.6666666666666666,
             "#ed7953"
            ],
            [
             0.7777777777777778,
             "#fb9f3a"
            ],
            [
             0.8888888888888888,
             "#fdca26"
            ],
            [
             1,
             "#f0f921"
            ]
           ],
           "sequentialminus": [
            [
             0,
             "#0d0887"
            ],
            [
             0.1111111111111111,
             "#46039f"
            ],
            [
             0.2222222222222222,
             "#7201a8"
            ],
            [
             0.3333333333333333,
             "#9c179e"
            ],
            [
             0.4444444444444444,
             "#bd3786"
            ],
            [
             0.5555555555555556,
             "#d8576b"
            ],
            [
             0.6666666666666666,
             "#ed7953"
            ],
            [
             0.7777777777777778,
             "#fb9f3a"
            ],
            [
             0.8888888888888888,
             "#fdca26"
            ],
            [
             1,
             "#f0f921"
            ]
           ]
          },
          "colorway": [
           "#636efa",
           "#EF553B",
           "#00cc96",
           "#ab63fa",
           "#FFA15A",
           "#19d3f3",
           "#FF6692",
           "#B6E880",
           "#FF97FF",
           "#FECB52"
          ],
          "font": {
           "color": "#2a3f5f"
          },
          "geo": {
           "bgcolor": "white",
           "lakecolor": "white",
           "landcolor": "#E5ECF6",
           "showlakes": true,
           "showland": true,
           "subunitcolor": "white"
          },
          "hoverlabel": {
           "align": "left"
          },
          "hovermode": "closest",
          "mapbox": {
           "style": "light"
          },
          "paper_bgcolor": "white",
          "plot_bgcolor": "#E5ECF6",
          "polar": {
           "angularaxis": {
            "gridcolor": "white",
            "linecolor": "white",
            "ticks": ""
           },
           "bgcolor": "#E5ECF6",
           "radialaxis": {
            "gridcolor": "white",
            "linecolor": "white",
            "ticks": ""
           }
          },
          "scene": {
           "xaxis": {
            "backgroundcolor": "#E5ECF6",
            "gridcolor": "white",
            "gridwidth": 2,
            "linecolor": "white",
            "showbackground": true,
            "ticks": "",
            "zerolinecolor": "white"
           },
           "yaxis": {
            "backgroundcolor": "#E5ECF6",
            "gridcolor": "white",
            "gridwidth": 2,
            "linecolor": "white",
            "showbackground": true,
            "ticks": "",
            "zerolinecolor": "white"
           },
           "zaxis": {
            "backgroundcolor": "#E5ECF6",
            "gridcolor": "white",
            "gridwidth": 2,
            "linecolor": "white",
            "showbackground": true,
            "ticks": "",
            "zerolinecolor": "white"
           }
          },
          "shapedefaults": {
           "line": {
            "color": "#2a3f5f"
           }
          },
          "ternary": {
           "aaxis": {
            "gridcolor": "white",
            "linecolor": "white",
            "ticks": ""
           },
           "baxis": {
            "gridcolor": "white",
            "linecolor": "white",
            "ticks": ""
           },
           "bgcolor": "#E5ECF6",
           "caxis": {
            "gridcolor": "white",
            "linecolor": "white",
            "ticks": ""
           }
          },
          "title": {
           "x": 0.05
          },
          "xaxis": {
           "automargin": true,
           "gridcolor": "white",
           "linecolor": "white",
           "ticks": "",
           "title": {
            "standoff": 15
           },
           "zerolinecolor": "white",
           "zerolinewidth": 2
          },
          "yaxis": {
           "automargin": true,
           "gridcolor": "white",
           "linecolor": "white",
           "ticks": "",
           "title": {
            "standoff": 15
           },
           "zerolinecolor": "white",
           "zerolinewidth": 2
          }
         }
        },
        "title": {
         "text": "Optimization History Plot"
        },
        "xaxis": {
         "title": {
          "text": "Trial"
         }
        },
        "yaxis": {
         "title": {
          "text": "Objective Value"
         }
        }
       }
      }
     },
     "metadata": {},
     "output_type": "display_data"
    }
   ],
   "source": [
    "optuna.visualization.plot_optimization_history(study)"
   ]
  },
  {
   "cell_type": "code",
   "execution_count": 32,
   "metadata": {},
   "outputs": [
    {
     "data": {
      "application/vnd.plotly.v1+json": {
       "config": {
        "plotlyServerURL": "https://plot.ly"
       },
       "data": [
        {
         "cliponaxis": false,
         "hovertemplate": [
          "reg_alpha (FloatDistribution): 0.053608504838276956<extra></extra>",
          "colsample_bytree (FloatDistribution): 0.08963466884179608<extra></extra>",
          "subsample (FloatDistribution): 0.08965174057681263<extra></extra>",
          "min_child_samples (IntDistribution): 0.08994978598933488<extra></extra>",
          "num_leaves (IntDistribution): 0.1250865086703937<extra></extra>",
          "max_depth (IntDistribution): 0.17695923739985453<extra></extra>",
          "reg_lambda (FloatDistribution): 0.17856967782681327<extra></extra>",
          "learning_rate (FloatDistribution): 0.19653987585671787<extra></extra>"
         ],
         "marker": {
          "color": "rgb(66,146,198)"
         },
         "orientation": "h",
         "text": [
          "0.05",
          "0.09",
          "0.09",
          "0.09",
          "0.13",
          "0.18",
          "0.18",
          "0.20"
         ],
         "textposition": "outside",
         "type": "bar",
         "x": [
          0.053608504838276956,
          0.08963466884179608,
          0.08965174057681263,
          0.08994978598933488,
          0.1250865086703937,
          0.17695923739985453,
          0.17856967782681327,
          0.19653987585671787
         ],
         "y": [
          "reg_alpha",
          "colsample_bytree",
          "subsample",
          "min_child_samples",
          "num_leaves",
          "max_depth",
          "reg_lambda",
          "learning_rate"
         ]
        }
       ],
       "layout": {
        "showlegend": false,
        "template": {
         "data": {
          "bar": [
           {
            "error_x": {
             "color": "#2a3f5f"
            },
            "error_y": {
             "color": "#2a3f5f"
            },
            "marker": {
             "line": {
              "color": "#E5ECF6",
              "width": 0.5
             },
             "pattern": {
              "fillmode": "overlay",
              "size": 10,
              "solidity": 0.2
             }
            },
            "type": "bar"
           }
          ],
          "barpolar": [
           {
            "marker": {
             "line": {
              "color": "#E5ECF6",
              "width": 0.5
             },
             "pattern": {
              "fillmode": "overlay",
              "size": 10,
              "solidity": 0.2
             }
            },
            "type": "barpolar"
           }
          ],
          "carpet": [
           {
            "aaxis": {
             "endlinecolor": "#2a3f5f",
             "gridcolor": "white",
             "linecolor": "white",
             "minorgridcolor": "white",
             "startlinecolor": "#2a3f5f"
            },
            "baxis": {
             "endlinecolor": "#2a3f5f",
             "gridcolor": "white",
             "linecolor": "white",
             "minorgridcolor": "white",
             "startlinecolor": "#2a3f5f"
            },
            "type": "carpet"
           }
          ],
          "choropleth": [
           {
            "colorbar": {
             "outlinewidth": 0,
             "ticks": ""
            },
            "type": "choropleth"
           }
          ],
          "contour": [
           {
            "colorbar": {
             "outlinewidth": 0,
             "ticks": ""
            },
            "colorscale": [
             [
              0,
              "#0d0887"
             ],
             [
              0.1111111111111111,
              "#46039f"
             ],
             [
              0.2222222222222222,
              "#7201a8"
             ],
             [
              0.3333333333333333,
              "#9c179e"
             ],
             [
              0.4444444444444444,
              "#bd3786"
             ],
             [
              0.5555555555555556,
              "#d8576b"
             ],
             [
              0.6666666666666666,
              "#ed7953"
             ],
             [
              0.7777777777777778,
              "#fb9f3a"
             ],
             [
              0.8888888888888888,
              "#fdca26"
             ],
             [
              1,
              "#f0f921"
             ]
            ],
            "type": "contour"
           }
          ],
          "contourcarpet": [
           {
            "colorbar": {
             "outlinewidth": 0,
             "ticks": ""
            },
            "type": "contourcarpet"
           }
          ],
          "heatmap": [
           {
            "colorbar": {
             "outlinewidth": 0,
             "ticks": ""
            },
            "colorscale": [
             [
              0,
              "#0d0887"
             ],
             [
              0.1111111111111111,
              "#46039f"
             ],
             [
              0.2222222222222222,
              "#7201a8"
             ],
             [
              0.3333333333333333,
              "#9c179e"
             ],
             [
              0.4444444444444444,
              "#bd3786"
             ],
             [
              0.5555555555555556,
              "#d8576b"
             ],
             [
              0.6666666666666666,
              "#ed7953"
             ],
             [
              0.7777777777777778,
              "#fb9f3a"
             ],
             [
              0.8888888888888888,
              "#fdca26"
             ],
             [
              1,
              "#f0f921"
             ]
            ],
            "type": "heatmap"
           }
          ],
          "heatmapgl": [
           {
            "colorbar": {
             "outlinewidth": 0,
             "ticks": ""
            },
            "colorscale": [
             [
              0,
              "#0d0887"
             ],
             [
              0.1111111111111111,
              "#46039f"
             ],
             [
              0.2222222222222222,
              "#7201a8"
             ],
             [
              0.3333333333333333,
              "#9c179e"
             ],
             [
              0.4444444444444444,
              "#bd3786"
             ],
             [
              0.5555555555555556,
              "#d8576b"
             ],
             [
              0.6666666666666666,
              "#ed7953"
             ],
             [
              0.7777777777777778,
              "#fb9f3a"
             ],
             [
              0.8888888888888888,
              "#fdca26"
             ],
             [
              1,
              "#f0f921"
             ]
            ],
            "type": "heatmapgl"
           }
          ],
          "histogram": [
           {
            "marker": {
             "pattern": {
              "fillmode": "overlay",
              "size": 10,
              "solidity": 0.2
             }
            },
            "type": "histogram"
           }
          ],
          "histogram2d": [
           {
            "colorbar": {
             "outlinewidth": 0,
             "ticks": ""
            },
            "colorscale": [
             [
              0,
              "#0d0887"
             ],
             [
              0.1111111111111111,
              "#46039f"
             ],
             [
              0.2222222222222222,
              "#7201a8"
             ],
             [
              0.3333333333333333,
              "#9c179e"
             ],
             [
              0.4444444444444444,
              "#bd3786"
             ],
             [
              0.5555555555555556,
              "#d8576b"
             ],
             [
              0.6666666666666666,
              "#ed7953"
             ],
             [
              0.7777777777777778,
              "#fb9f3a"
             ],
             [
              0.8888888888888888,
              "#fdca26"
             ],
             [
              1,
              "#f0f921"
             ]
            ],
            "type": "histogram2d"
           }
          ],
          "histogram2dcontour": [
           {
            "colorbar": {
             "outlinewidth": 0,
             "ticks": ""
            },
            "colorscale": [
             [
              0,
              "#0d0887"
             ],
             [
              0.1111111111111111,
              "#46039f"
             ],
             [
              0.2222222222222222,
              "#7201a8"
             ],
             [
              0.3333333333333333,
              "#9c179e"
             ],
             [
              0.4444444444444444,
              "#bd3786"
             ],
             [
              0.5555555555555556,
              "#d8576b"
             ],
             [
              0.6666666666666666,
              "#ed7953"
             ],
             [
              0.7777777777777778,
              "#fb9f3a"
             ],
             [
              0.8888888888888888,
              "#fdca26"
             ],
             [
              1,
              "#f0f921"
             ]
            ],
            "type": "histogram2dcontour"
           }
          ],
          "mesh3d": [
           {
            "colorbar": {
             "outlinewidth": 0,
             "ticks": ""
            },
            "type": "mesh3d"
           }
          ],
          "parcoords": [
           {
            "line": {
             "colorbar": {
              "outlinewidth": 0,
              "ticks": ""
             }
            },
            "type": "parcoords"
           }
          ],
          "pie": [
           {
            "automargin": true,
            "type": "pie"
           }
          ],
          "scatter": [
           {
            "fillpattern": {
             "fillmode": "overlay",
             "size": 10,
             "solidity": 0.2
            },
            "type": "scatter"
           }
          ],
          "scatter3d": [
           {
            "line": {
             "colorbar": {
              "outlinewidth": 0,
              "ticks": ""
             }
            },
            "marker": {
             "colorbar": {
              "outlinewidth": 0,
              "ticks": ""
             }
            },
            "type": "scatter3d"
           }
          ],
          "scattercarpet": [
           {
            "marker": {
             "colorbar": {
              "outlinewidth": 0,
              "ticks": ""
             }
            },
            "type": "scattercarpet"
           }
          ],
          "scattergeo": [
           {
            "marker": {
             "colorbar": {
              "outlinewidth": 0,
              "ticks": ""
             }
            },
            "type": "scattergeo"
           }
          ],
          "scattergl": [
           {
            "marker": {
             "colorbar": {
              "outlinewidth": 0,
              "ticks": ""
             }
            },
            "type": "scattergl"
           }
          ],
          "scattermapbox": [
           {
            "marker": {
             "colorbar": {
              "outlinewidth": 0,
              "ticks": ""
             }
            },
            "type": "scattermapbox"
           }
          ],
          "scatterpolar": [
           {
            "marker": {
             "colorbar": {
              "outlinewidth": 0,
              "ticks": ""
             }
            },
            "type": "scatterpolar"
           }
          ],
          "scatterpolargl": [
           {
            "marker": {
             "colorbar": {
              "outlinewidth": 0,
              "ticks": ""
             }
            },
            "type": "scatterpolargl"
           }
          ],
          "scatterternary": [
           {
            "marker": {
             "colorbar": {
              "outlinewidth": 0,
              "ticks": ""
             }
            },
            "type": "scatterternary"
           }
          ],
          "surface": [
           {
            "colorbar": {
             "outlinewidth": 0,
             "ticks": ""
            },
            "colorscale": [
             [
              0,
              "#0d0887"
             ],
             [
              0.1111111111111111,
              "#46039f"
             ],
             [
              0.2222222222222222,
              "#7201a8"
             ],
             [
              0.3333333333333333,
              "#9c179e"
             ],
             [
              0.4444444444444444,
              "#bd3786"
             ],
             [
              0.5555555555555556,
              "#d8576b"
             ],
             [
              0.6666666666666666,
              "#ed7953"
             ],
             [
              0.7777777777777778,
              "#fb9f3a"
             ],
             [
              0.8888888888888888,
              "#fdca26"
             ],
             [
              1,
              "#f0f921"
             ]
            ],
            "type": "surface"
           }
          ],
          "table": [
           {
            "cells": {
             "fill": {
              "color": "#EBF0F8"
             },
             "line": {
              "color": "white"
             }
            },
            "header": {
             "fill": {
              "color": "#C8D4E3"
             },
             "line": {
              "color": "white"
             }
            },
            "type": "table"
           }
          ]
         },
         "layout": {
          "annotationdefaults": {
           "arrowcolor": "#2a3f5f",
           "arrowhead": 0,
           "arrowwidth": 1
          },
          "autotypenumbers": "strict",
          "coloraxis": {
           "colorbar": {
            "outlinewidth": 0,
            "ticks": ""
           }
          },
          "colorscale": {
           "diverging": [
            [
             0,
             "#8e0152"
            ],
            [
             0.1,
             "#c51b7d"
            ],
            [
             0.2,
             "#de77ae"
            ],
            [
             0.3,
             "#f1b6da"
            ],
            [
             0.4,
             "#fde0ef"
            ],
            [
             0.5,
             "#f7f7f7"
            ],
            [
             0.6,
             "#e6f5d0"
            ],
            [
             0.7,
             "#b8e186"
            ],
            [
             0.8,
             "#7fbc41"
            ],
            [
             0.9,
             "#4d9221"
            ],
            [
             1,
             "#276419"
            ]
           ],
           "sequential": [
            [
             0,
             "#0d0887"
            ],
            [
             0.1111111111111111,
             "#46039f"
            ],
            [
             0.2222222222222222,
             "#7201a8"
            ],
            [
             0.3333333333333333,
             "#9c179e"
            ],
            [
             0.4444444444444444,
             "#bd3786"
            ],
            [
             0.5555555555555556,
             "#d8576b"
            ],
            [
             0.6666666666666666,
             "#ed7953"
            ],
            [
             0.7777777777777778,
             "#fb9f3a"
            ],
            [
             0.8888888888888888,
             "#fdca26"
            ],
            [
             1,
             "#f0f921"
            ]
           ],
           "sequentialminus": [
            [
             0,
             "#0d0887"
            ],
            [
             0.1111111111111111,
             "#46039f"
            ],
            [
             0.2222222222222222,
             "#7201a8"
            ],
            [
             0.3333333333333333,
             "#9c179e"
            ],
            [
             0.4444444444444444,
             "#bd3786"
            ],
            [
             0.5555555555555556,
             "#d8576b"
            ],
            [
             0.6666666666666666,
             "#ed7953"
            ],
            [
             0.7777777777777778,
             "#fb9f3a"
            ],
            [
             0.8888888888888888,
             "#fdca26"
            ],
            [
             1,
             "#f0f921"
            ]
           ]
          },
          "colorway": [
           "#636efa",
           "#EF553B",
           "#00cc96",
           "#ab63fa",
           "#FFA15A",
           "#19d3f3",
           "#FF6692",
           "#B6E880",
           "#FF97FF",
           "#FECB52"
          ],
          "font": {
           "color": "#2a3f5f"
          },
          "geo": {
           "bgcolor": "white",
           "lakecolor": "white",
           "landcolor": "#E5ECF6",
           "showlakes": true,
           "showland": true,
           "subunitcolor": "white"
          },
          "hoverlabel": {
           "align": "left"
          },
          "hovermode": "closest",
          "mapbox": {
           "style": "light"
          },
          "paper_bgcolor": "white",
          "plot_bgcolor": "#E5ECF6",
          "polar": {
           "angularaxis": {
            "gridcolor": "white",
            "linecolor": "white",
            "ticks": ""
           },
           "bgcolor": "#E5ECF6",
           "radialaxis": {
            "gridcolor": "white",
            "linecolor": "white",
            "ticks": ""
           }
          },
          "scene": {
           "xaxis": {
            "backgroundcolor": "#E5ECF6",
            "gridcolor": "white",
            "gridwidth": 2,
            "linecolor": "white",
            "showbackground": true,
            "ticks": "",
            "zerolinecolor": "white"
           },
           "yaxis": {
            "backgroundcolor": "#E5ECF6",
            "gridcolor": "white",
            "gridwidth": 2,
            "linecolor": "white",
            "showbackground": true,
            "ticks": "",
            "zerolinecolor": "white"
           },
           "zaxis": {
            "backgroundcolor": "#E5ECF6",
            "gridcolor": "white",
            "gridwidth": 2,
            "linecolor": "white",
            "showbackground": true,
            "ticks": "",
            "zerolinecolor": "white"
           }
          },
          "shapedefaults": {
           "line": {
            "color": "#2a3f5f"
           }
          },
          "ternary": {
           "aaxis": {
            "gridcolor": "white",
            "linecolor": "white",
            "ticks": ""
           },
           "baxis": {
            "gridcolor": "white",
            "linecolor": "white",
            "ticks": ""
           },
           "bgcolor": "#E5ECF6",
           "caxis": {
            "gridcolor": "white",
            "linecolor": "white",
            "ticks": ""
           }
          },
          "title": {
           "x": 0.05
          },
          "xaxis": {
           "automargin": true,
           "gridcolor": "white",
           "linecolor": "white",
           "ticks": "",
           "title": {
            "standoff": 15
           },
           "zerolinecolor": "white",
           "zerolinewidth": 2
          },
          "yaxis": {
           "automargin": true,
           "gridcolor": "white",
           "linecolor": "white",
           "ticks": "",
           "title": {
            "standoff": 15
           },
           "zerolinecolor": "white",
           "zerolinewidth": 2
          }
         }
        },
        "title": {
         "text": "Hyperparameter Importances"
        },
        "xaxis": {
         "title": {
          "text": "Importance for Objective Value"
         }
        },
        "yaxis": {
         "title": {
          "text": "Hyperparameter"
         }
        }
       }
      }
     },
     "metadata": {},
     "output_type": "display_data"
    }
   ],
   "source": [
    "optuna.visualization.plot_param_importances(study)"
   ]
  },
  {
   "cell_type": "code",
   "execution_count": 33,
   "metadata": {},
   "outputs": [
    {
     "data": {
      "text/plain": [
       "{'reg_alpha': 4.9232633788731396e-05,\n",
       " 'reg_lambda': 0.0006383687218444751,\n",
       " 'colsample_bytree': 1.0,\n",
       " 'subsample': 0.75,\n",
       " 'learning_rate': 0.033,\n",
       " 'num_leaves': 251,\n",
       " 'min_child_samples': 13,\n",
       " 'max_depth': 29,\n",
       " 'metric': 'rmse',\n",
       " 'random_state': 10,\n",
       " 'n_estimators': 10000,\n",
       " 'early_stopping_round': 500,\n",
       " 'verbose': -1,\n",
       " 'n_jobs': -1}"
      ]
     },
     "execution_count": 33,
     "metadata": {},
     "output_type": "execute_result"
    }
   ],
   "source": [
    "params=study.best_params\n",
    "params['metric'] = 'rmse'\n",
    "params['random_state'] = 10\n",
    "params['n_estimators'] = 10000 \n",
    "params['early_stopping_round'] = 500\n",
    "params['verbose'] = -1\n",
    "params['n_jobs'] = -1\n",
    "\n",
    "params"
   ]
  },
  {
   "cell_type": "code",
   "execution_count": 34,
   "metadata": {},
   "outputs": [
    {
     "name": "stdout",
     "output_type": "stream",
     "text": [
      "trial 1: 32.52503\n",
      "trial 2: 32.68611\n",
      "trial 3: 33.47\n",
      "trial 4: 31.86031\n",
      "trial 5: 32.65174\n",
      "\n",
      "average: 32.63864\n"
     ]
    }
   ],
   "source": [
    "from sklearn.model_selection import KFold\n",
    "\n",
    "kf = KFold(n_splits=5, random_state=48, shuffle=True)\n",
    "preds_HLM = np.zeros(df_test.shape[0])\n",
    "rmse=[]\n",
    "n=0\n",
    "\n",
    "for trn_idx, test_idx in kf.split(df_train, df_train_target_HLM):\n",
    "    X_tr, X_val=df_train.iloc[trn_idx], df_train.iloc[test_idx]\n",
    "    y_tr, y_val=df_train_target_HLM.iloc[trn_idx], df_train_target_HLM.iloc[test_idx]\n",
    "\n",
    "    model = LGBMRegressor(**params)\n",
    "    model.fit(X_tr, y_tr, eval_set=[(X_val,y_val)])\n",
    "\n",
    "    preds_HLM+=model.predict(df_test)/kf.n_splits\n",
    "    rmse.append(mean_squared_error(y_val, model.predict(X_val), squared=False))\n",
    "    print(f'trial {n+1}:', round(rmse[n], 5))\n",
    "    n+=1\n",
    "\n",
    "print(f'\\naverage: {round(np.mean(rmse), 5)}')"
   ]
  },
  {
   "cell_type": "markdown",
   "metadata": {},
   "source": [
    "## export csv"
   ]
  },
  {
   "cell_type": "code",
   "execution_count": 35,
   "metadata": {},
   "outputs": [],
   "source": [
    "df_sample['MLM'] = preds_MLM\n",
    "df_sample['HLM'] = preds_HLM\n",
    "df_sample.to_csv(\"submission.csv\", index = False, encoding = \"utf-8-sig\")"
   ]
  },
  {
   "cell_type": "code",
   "execution_count": 38,
   "metadata": {},
   "outputs": [
    {
     "data": {
      "text/html": [
       "<div>\n",
       "<style scoped>\n",
       "    .dataframe tbody tr th:only-of-type {\n",
       "        vertical-align: middle;\n",
       "    }\n",
       "\n",
       "    .dataframe tbody tr th {\n",
       "        vertical-align: top;\n",
       "    }\n",
       "\n",
       "    .dataframe thead th {\n",
       "        text-align: right;\n",
       "    }\n",
       "</style>\n",
       "<table border=\"1\" class=\"dataframe\">\n",
       "  <thead>\n",
       "    <tr style=\"text-align: right;\">\n",
       "      <th></th>\n",
       "      <th>id</th>\n",
       "      <th>MLM</th>\n",
       "      <th>HLM</th>\n",
       "    </tr>\n",
       "  </thead>\n",
       "  <tbody>\n",
       "    <tr>\n",
       "      <th>0</th>\n",
       "      <td>TEST_000</td>\n",
       "      <td>27.330502</td>\n",
       "      <td>49.158761</td>\n",
       "    </tr>\n",
       "    <tr>\n",
       "      <th>1</th>\n",
       "      <td>TEST_001</td>\n",
       "      <td>62.563363</td>\n",
       "      <td>68.096957</td>\n",
       "    </tr>\n",
       "    <tr>\n",
       "      <th>2</th>\n",
       "      <td>TEST_002</td>\n",
       "      <td>36.094733</td>\n",
       "      <td>44.647433</td>\n",
       "    </tr>\n",
       "    <tr>\n",
       "      <th>3</th>\n",
       "      <td>TEST_003</td>\n",
       "      <td>54.357566</td>\n",
       "      <td>71.689953</td>\n",
       "    </tr>\n",
       "    <tr>\n",
       "      <th>4</th>\n",
       "      <td>TEST_004</td>\n",
       "      <td>63.748589</td>\n",
       "      <td>69.517411</td>\n",
       "    </tr>\n",
       "    <tr>\n",
       "      <th>...</th>\n",
       "      <td>...</td>\n",
       "      <td>...</td>\n",
       "      <td>...</td>\n",
       "    </tr>\n",
       "    <tr>\n",
       "      <th>478</th>\n",
       "      <td>TEST_478</td>\n",
       "      <td>11.862433</td>\n",
       "      <td>30.318486</td>\n",
       "    </tr>\n",
       "    <tr>\n",
       "      <th>479</th>\n",
       "      <td>TEST_479</td>\n",
       "      <td>76.071980</td>\n",
       "      <td>79.421929</td>\n",
       "    </tr>\n",
       "    <tr>\n",
       "      <th>480</th>\n",
       "      <td>TEST_480</td>\n",
       "      <td>42.883239</td>\n",
       "      <td>68.587182</td>\n",
       "    </tr>\n",
       "    <tr>\n",
       "      <th>481</th>\n",
       "      <td>TEST_481</td>\n",
       "      <td>61.447493</td>\n",
       "      <td>67.571443</td>\n",
       "    </tr>\n",
       "    <tr>\n",
       "      <th>482</th>\n",
       "      <td>TEST_482</td>\n",
       "      <td>34.471389</td>\n",
       "      <td>62.332413</td>\n",
       "    </tr>\n",
       "  </tbody>\n",
       "</table>\n",
       "<p>483 rows × 3 columns</p>\n",
       "</div>"
      ],
      "text/plain": [
       "           id        MLM        HLM\n",
       "0    TEST_000  27.330502  49.158761\n",
       "1    TEST_001  62.563363  68.096957\n",
       "2    TEST_002  36.094733  44.647433\n",
       "3    TEST_003  54.357566  71.689953\n",
       "4    TEST_004  63.748589  69.517411\n",
       "..        ...        ...        ...\n",
       "478  TEST_478  11.862433  30.318486\n",
       "479  TEST_479  76.071980  79.421929\n",
       "480  TEST_480  42.883239  68.587182\n",
       "481  TEST_481  61.447493  67.571443\n",
       "482  TEST_482  34.471389  62.332413\n",
       "\n",
       "[483 rows x 3 columns]"
      ]
     },
     "execution_count": 38,
     "metadata": {},
     "output_type": "execute_result"
    }
   ],
   "source": [
    "df_sample"
   ]
  }
 ],
 "metadata": {
  "kernelspec": {
   "display_name": "base",
   "language": "python",
   "name": "python3"
  },
  "language_info": {
   "codemirror_mode": {
    "name": "ipython",
    "version": 3
   },
   "file_extension": ".py",
   "mimetype": "text/x-python",
   "name": "python",
   "nbconvert_exporter": "python",
   "pygments_lexer": "ipython3",
   "version": "3.10.9"
  },
  "orig_nbformat": 4
 },
 "nbformat": 4,
 "nbformat_minor": 2
}
